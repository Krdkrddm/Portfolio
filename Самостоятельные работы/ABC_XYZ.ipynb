{
 "cells": [
  {
   "cell_type": "markdown",
   "id": "4daca235",
   "metadata": {},
   "source": [
    "Проведем 2 анализа, ABC-анализ и XYZ- анализ.\n",
    "\n",
    "Для ABC анализа мы разделим клиентов на 3 категории:\n",
    "\n",
    "A-клиенты (80%) – самые важные клиенты, обеспечивающие основную часть дохода. Их необходимо удерживать, предлагать премиальный сервис, персонализированные предложения и бонусные программы.\n",
    "\n",
    "B-клиенты (15%) – клиенты среднего уровня, которые имеют потенциал для роста. Можно стимулировать их частоту покупок с помощью скидок, специальных акций и программ лояльности.\n",
    "\n",
    "C-клиенты (5%) – наименее значимые с точки зрения выручки. Они могут быть разовыми покупателями или случайными клиентами. Фокусироваться на них не стоит, но можно попробовать увеличить их вовлеченность с помощью маркетинговых стратегий.\n",
    "\n",
    "В XYZ-анализе, мы резделим килентов на 3 категории:\n",
    "\n",
    "X-клиенты – основа стабильной выручки, их важно удерживать.\n",
    "\n",
    "Y-клиенты – требуют более детального анализа, возможно, им можно предложить персонализированные акции для повышения лояльности.\n",
    "\n",
    "Z-клиенты – сложно прогнозируемая группа, их можно рассматривать как разовые покупки или нестабильный источник дохода."
   ]
  },
  {
   "cell_type": "code",
   "execution_count": 1,
   "id": "d3299526",
   "metadata": {},
   "outputs": [
    {
     "name": "stderr",
     "output_type": "stream",
     "text": [
      "C:\\Users\\dimak\\anaconda3\\Lib\\site-packages\\pandas\\core\\arrays\\masked.py:60: UserWarning: Pandas requires version '1.3.6' or newer of 'bottleneck' (version '1.3.5' currently installed).\n",
      "  from pandas.core import (\n"
     ]
    }
   ],
   "source": [
    "import pandas as pd\n",
    "import numpy as np"
   ]
  },
  {
   "cell_type": "code",
   "execution_count": 33,
   "id": "787f8956",
   "metadata": {},
   "outputs": [],
   "source": [
    "data = pd.read_excel(r'C:\\Users\\dimak\\OneDrive\\Рабочий стол\\аналитика\\online_retail_II.xlsx')"
   ]
  },
  {
   "cell_type": "code",
   "execution_count": 199,
   "id": "8f1327fa",
   "metadata": {},
   "outputs": [
    {
     "name": "stderr",
     "output_type": "stream",
     "text": [
      "C:\\Users\\dimak\\AppData\\Local\\Temp\\ipykernel_16792\\665260530.py:2: FutureWarning: A value is trying to be set on a copy of a DataFrame or Series through chained assignment using an inplace method.\n",
      "The behavior will change in pandas 3.0. This inplace method will never work because the intermediate object on which we are setting values always behaves as a copy.\n",
      "\n",
      "For example, when doing 'df[col].method(value, inplace=True)', try using 'df.method({col: value}, inplace=True)' or df[col] = df[col].method(value) instead, to perform the operation inplace on the original object.\n",
      "\n",
      "\n",
      "  df['Country'].replace({'EIRE':'Ireland', 'RSA':'South Africa'}, inplace=True)\n",
      "C:\\Users\\dimak\\AppData\\Local\\Temp\\ipykernel_16792\\665260530.py:2: SettingWithCopyWarning: \n",
      "A value is trying to be set on a copy of a slice from a DataFrame\n",
      "\n",
      "See the caveats in the documentation: https://pandas.pydata.org/pandas-docs/stable/user_guide/indexing.html#returning-a-view-versus-a-copy\n",
      "  df['Country'].replace({'EIRE':'Ireland', 'RSA':'South Africa'}, inplace=True)\n"
     ]
    }
   ],
   "source": [
    "df = data.drop_duplicates()\n",
    "df['Country'].replace({'EIRE':'Ireland', 'RSA':'South Africa'}, inplace=True)\n",
    "df = df[(df['Quantity'] > 0) & (df['Price'] > 0)]\n",
    "df = df.dropna()\n",
    "df['total_price'] = df['Price']*df['Quantity']"
   ]
  },
  {
   "cell_type": "markdown",
   "id": "f7e68a22",
   "metadata": {},
   "source": [
    "### ABC - анализ"
   ]
  },
  {
   "cell_type": "code",
   "execution_count": 200,
   "id": "da3599e1",
   "metadata": {},
   "outputs": [],
   "source": [
    "abc = pd.DataFrame(df.groupby('Customer ID')['total_price'].sum()).reset_index()\n",
    "abc['percentage'] = abc['total_price']/abc['total_price'].sum()*100\n",
    "abc = abc.sort_values(by = 'percentage', ascending = False)"
   ]
  },
  {
   "cell_type": "code",
   "execution_count": 201,
   "id": "ec484cfc",
   "metadata": {},
   "outputs": [],
   "source": [
    "def categorize_clients(data):\n",
    "    total_revenue = abc[\"total_price\"].sum()\n",
    "    threshold_80 = 0.8 * total_revenue\n",
    "    threshold_95 = 0.95 * total_revenue\n",
    "\n",
    "    cumulative_sum = 0\n",
    "    categories = []\n",
    "    \n",
    "    for _, row in abc.iterrows():\n",
    "        cumulative_sum += row[\"total_price\"]\n",
    "        if cumulative_sum <= threshold_80:\n",
    "            categories.append(\"A\")\n",
    "        elif cumulative_sum <= threshold_95:\n",
    "            categories.append(\"B\")\n",
    "        else:\n",
    "            categories.append(\"C\")\n",
    "    \n",
    "    abc[\"abc\"] = categories\n",
    "    \n",
    "    return abc"
   ]
  },
  {
   "cell_type": "code",
   "execution_count": 202,
   "id": "9614dccb",
   "metadata": {},
   "outputs": [],
   "source": [
    "result_df = categorize_clients(abc)\n"
   ]
  },
  {
   "cell_type": "code",
   "execution_count": 203,
   "id": "1bb02e71",
   "metadata": {},
   "outputs": [
    {
     "data": {
      "text/plain": [
       "abc\n",
       "C    1717\n",
       "B    1424\n",
       "A    1171\n",
       "Name: count, dtype: int64"
      ]
     },
     "execution_count": 203,
     "metadata": {},
     "output_type": "execute_result"
    }
   ],
   "source": [
    "result_df['abc'].value_counts()"
   ]
  },
  {
   "cell_type": "markdown",
   "id": "80afc441",
   "metadata": {},
   "source": [
    "### XYZ - анализ"
   ]
  },
  {
   "cell_type": "code",
   "execution_count": 212,
   "id": "c58ee597",
   "metadata": {},
   "outputs": [],
   "source": [
    "xyz = pd.DataFrame(df.groupby('Customer ID')['total_price'].sum()).reset_index()"
   ]
  },
  {
   "cell_type": "code",
   "execution_count": 213,
   "id": "10a282fc",
   "metadata": {},
   "outputs": [],
   "source": [
    "def xyz_analysis(data):\n",
    "\n",
    "    mean_value = xyz[\"total_price\"].mean()\n",
    "    std_dev = xyz[\"total_price\"].std()\n",
    "    \n",
    "    xyz[\"коэффициент вариации\"] =  xyz[\"total_price\"].apply(lambda x: (x - mean_value) / std_dev if std_dev != 0 else 0)\n",
    "    \n",
    "    conditions = [\n",
    "        xyz[\"коэффициент вариации\"].abs() < 0.5,\n",
    "        (xyz[\"коэффициент вариации\"].abs() >= 0.5) & (xyz[\"коэффициент вариации\"].abs() < 1),\n",
    "        xyz[\"коэффициент вариации\"].abs() >= 1\n",
    "    ]\n",
    "    categories = [\"X\", \"Y\", \"Z\"]\n",
    "    \n",
    "    xyz[\"xyz\"] = pd.cut(xyz[\"коэффициент вариации\"], bins=[-float('inf'), -0.1, 0.5, float('inf')], labels=[\"Z\", \"Y\", \"X\"])\n",
    "    \n",
    "    return xyz"
   ]
  },
  {
   "cell_type": "code",
   "execution_count": 214,
   "id": "f5cfe90b",
   "metadata": {},
   "outputs": [],
   "source": [
    "result_xyz = xyz_analysis(xyz)"
   ]
  },
  {
   "cell_type": "code",
   "execution_count": 215,
   "id": "15bad6cb",
   "metadata": {},
   "outputs": [
    {
     "data": {
      "text/plain": [
       "xyz\n",
       "Z    2758\n",
       "Y    1348\n",
       "X     206\n",
       "Name: count, dtype: int64"
      ]
     },
     "execution_count": 215,
     "metadata": {},
     "output_type": "execute_result"
    }
   ],
   "source": [
    "result_xyz['xyz'].value_counts()"
   ]
  }
 ],
 "metadata": {
  "kernelspec": {
   "display_name": "Python 3 (ipykernel)",
   "language": "python",
   "name": "python3"
  },
  "language_info": {
   "codemirror_mode": {
    "name": "ipython",
    "version": 3
   },
   "file_extension": ".py",
   "mimetype": "text/x-python",
   "name": "python",
   "nbconvert_exporter": "python",
   "pygments_lexer": "ipython3",
   "version": "3.11.4"
  }
 },
 "nbformat": 4,
 "nbformat_minor": 5
}
