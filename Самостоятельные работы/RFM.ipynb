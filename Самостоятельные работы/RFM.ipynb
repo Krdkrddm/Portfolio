{
 "cells": [
  {
   "cell_type": "markdown",
   "id": "f130613d",
   "metadata": {},
   "source": [
    "**Необходимо провести RFM - анализ клиентов, на основе данных онлайн-ретейла.**\n",
    "\n",
    "Набор данных \"Online Retail II\" содержит информацию о продажах для компании в период с 01/12/2009 по 09/12/2011.\n",
    "\n",
    "Большинство их клиентов — оптовики.\n",
    "\n",
    "Переменные:\n",
    "\n",
    "**InvoiceNo**: Номер счета. Уникальный номер для каждой транзакции. Если код начинается с буквы \"C\", это означает, что транзакция была отменена.\n",
    "\n",
    "**StockCode**: Код товара. Уникальный номер для каждого продукта.\n",
    "\n",
    "**Description**: Название продукта.\n",
    "\n",
    "**Quantity**: Количество товара. Определяет, сколько единиц товара продано в рамках счета.\n",
    "\n",
    "**InvoiceDate**: Дата и время выставления счета.\n",
    "\n",
    "**UnitPrice**: Цена за единицу товара.\n",
    "\n",
    "**CustomerID**: Уникальный идентификатор клиента.\n",
    "\n",
    "**Country**: Название страны."
   ]
  },
  {
   "cell_type": "markdown",
   "id": "37c28b4c",
   "metadata": {},
   "source": [
    "**RFM — это метод, используемый для анализа ценности клиентов.**\n",
    "\n",
    "RFM расшифровывается как три ключевых параметра:\n",
    "\n",
    "**Recency (давность)** – Как давно клиент совершал покупку?\n",
    "(Чем более свежая покупка, тем выше вероятность повторного взаимодействия с клиентом.)\n",
    "\n",
    "**Frequency (частота)** – Как часто клиент совершает покупки?\n",
    "(Чем чаще клиент покупает, тем выше его лояльность.)\n",
    "\n",
    "**Monetary (денежная ценность)** – Сколько клиент тратит?\n",
    "(Чем больше сумма покупок, тем выше ценность клиента для бизнеса.)\n",
    "\n",
    "Эти три параметра помогают сегментировать клиентов и разрабатывать персонализированные маркетинговые стратегии для повышения их вовлеченности и лояльности."
   ]
  },
  {
   "cell_type": "code",
   "execution_count": 1,
   "id": "74708197",
   "metadata": {},
   "outputs": [
    {
     "name": "stderr",
     "output_type": "stream",
     "text": [
      "C:\\Users\\dimak\\anaconda3\\Lib\\site-packages\\pandas\\core\\arrays\\masked.py:60: UserWarning: Pandas requires version '1.3.6' or newer of 'bottleneck' (version '1.3.5' currently installed).\n",
      "  from pandas.core import (\n"
     ]
    }
   ],
   "source": [
    "#Импортируем библиотеки\n",
    "\n",
    "import pandas as pd\n",
    "import numpy as np\n",
    "import matplotlib.pyplot as plt\n",
    "import scipy.stats as stats"
   ]
  },
  {
   "cell_type": "code",
   "execution_count": 2,
   "id": "69d686e9",
   "metadata": {},
   "outputs": [],
   "source": [
    "#Загружаем датасет\n",
    "\n",
    "data = pd.read_excel(r'C:\\Users\\dimak\\OneDrive\\Рабочий стол\\аналитика\\online_retail_II.xlsx')"
   ]
  },
  {
   "cell_type": "code",
   "execution_count": 3,
   "id": "96b056d0",
   "metadata": {},
   "outputs": [
    {
     "data": {
      "text/html": [
       "<div>\n",
       "<style scoped>\n",
       "    .dataframe tbody tr th:only-of-type {\n",
       "        vertical-align: middle;\n",
       "    }\n",
       "\n",
       "    .dataframe tbody tr th {\n",
       "        vertical-align: top;\n",
       "    }\n",
       "\n",
       "    .dataframe thead th {\n",
       "        text-align: right;\n",
       "    }\n",
       "</style>\n",
       "<table border=\"1\" class=\"dataframe\">\n",
       "  <thead>\n",
       "    <tr style=\"text-align: right;\">\n",
       "      <th></th>\n",
       "      <th>Invoice</th>\n",
       "      <th>StockCode</th>\n",
       "      <th>Description</th>\n",
       "      <th>Quantity</th>\n",
       "      <th>InvoiceDate</th>\n",
       "      <th>Price</th>\n",
       "      <th>Customer ID</th>\n",
       "      <th>Country</th>\n",
       "    </tr>\n",
       "  </thead>\n",
       "  <tbody>\n",
       "    <tr>\n",
       "      <th>0</th>\n",
       "      <td>489434</td>\n",
       "      <td>85048</td>\n",
       "      <td>15CM CHRISTMAS GLASS BALL 20 LIGHTS</td>\n",
       "      <td>12</td>\n",
       "      <td>2009-12-01 07:45:00</td>\n",
       "      <td>6.95</td>\n",
       "      <td>13085.0</td>\n",
       "      <td>United Kingdom</td>\n",
       "    </tr>\n",
       "    <tr>\n",
       "      <th>1</th>\n",
       "      <td>489434</td>\n",
       "      <td>79323P</td>\n",
       "      <td>PINK CHERRY LIGHTS</td>\n",
       "      <td>12</td>\n",
       "      <td>2009-12-01 07:45:00</td>\n",
       "      <td>6.75</td>\n",
       "      <td>13085.0</td>\n",
       "      <td>United Kingdom</td>\n",
       "    </tr>\n",
       "    <tr>\n",
       "      <th>2</th>\n",
       "      <td>489434</td>\n",
       "      <td>79323W</td>\n",
       "      <td>WHITE CHERRY LIGHTS</td>\n",
       "      <td>12</td>\n",
       "      <td>2009-12-01 07:45:00</td>\n",
       "      <td>6.75</td>\n",
       "      <td>13085.0</td>\n",
       "      <td>United Kingdom</td>\n",
       "    </tr>\n",
       "    <tr>\n",
       "      <th>3</th>\n",
       "      <td>489434</td>\n",
       "      <td>22041</td>\n",
       "      <td>RECORD FRAME 7\" SINGLE SIZE</td>\n",
       "      <td>48</td>\n",
       "      <td>2009-12-01 07:45:00</td>\n",
       "      <td>2.10</td>\n",
       "      <td>13085.0</td>\n",
       "      <td>United Kingdom</td>\n",
       "    </tr>\n",
       "    <tr>\n",
       "      <th>4</th>\n",
       "      <td>489434</td>\n",
       "      <td>21232</td>\n",
       "      <td>STRAWBERRY CERAMIC TRINKET BOX</td>\n",
       "      <td>24</td>\n",
       "      <td>2009-12-01 07:45:00</td>\n",
       "      <td>1.25</td>\n",
       "      <td>13085.0</td>\n",
       "      <td>United Kingdom</td>\n",
       "    </tr>\n",
       "  </tbody>\n",
       "</table>\n",
       "</div>"
      ],
      "text/plain": [
       "  Invoice StockCode                          Description  Quantity  \\\n",
       "0  489434     85048  15CM CHRISTMAS GLASS BALL 20 LIGHTS        12   \n",
       "1  489434    79323P                   PINK CHERRY LIGHTS        12   \n",
       "2  489434    79323W                  WHITE CHERRY LIGHTS        12   \n",
       "3  489434     22041         RECORD FRAME 7\" SINGLE SIZE         48   \n",
       "4  489434     21232       STRAWBERRY CERAMIC TRINKET BOX        24   \n",
       "\n",
       "          InvoiceDate  Price  Customer ID         Country  \n",
       "0 2009-12-01 07:45:00   6.95      13085.0  United Kingdom  \n",
       "1 2009-12-01 07:45:00   6.75      13085.0  United Kingdom  \n",
       "2 2009-12-01 07:45:00   6.75      13085.0  United Kingdom  \n",
       "3 2009-12-01 07:45:00   2.10      13085.0  United Kingdom  \n",
       "4 2009-12-01 07:45:00   1.25      13085.0  United Kingdom  "
      ]
     },
     "execution_count": 3,
     "metadata": {},
     "output_type": "execute_result"
    }
   ],
   "source": [
    "data.head()"
   ]
  },
  {
   "cell_type": "code",
   "execution_count": 4,
   "id": "6000c594",
   "metadata": {},
   "outputs": [
    {
     "name": "stdout",
     "output_type": "stream",
     "text": [
      "<class 'pandas.core.frame.DataFrame'>\n",
      "RangeIndex: 525461 entries, 0 to 525460\n",
      "Data columns (total 8 columns):\n",
      " #   Column       Non-Null Count   Dtype         \n",
      "---  ------       --------------   -----         \n",
      " 0   Invoice      525461 non-null  object        \n",
      " 1   StockCode    525461 non-null  object        \n",
      " 2   Description  522533 non-null  object        \n",
      " 3   Quantity     525461 non-null  int64         \n",
      " 4   InvoiceDate  525461 non-null  datetime64[ns]\n",
      " 5   Price        525461 non-null  float64       \n",
      " 6   Customer ID  417534 non-null  float64       \n",
      " 7   Country      525461 non-null  object        \n",
      "dtypes: datetime64[ns](1), float64(2), int64(1), object(4)\n",
      "memory usage: 32.1+ MB\n"
     ]
    }
   ],
   "source": [
    "data.info()"
   ]
  },
  {
   "cell_type": "code",
   "execution_count": 5,
   "id": "6be1d961",
   "metadata": {},
   "outputs": [],
   "source": [
    "#Удаляем дубликаты\n",
    "\n",
    "df = data.drop_duplicates()"
   ]
  },
  {
   "cell_type": "code",
   "execution_count": 6,
   "id": "74f45c9f",
   "metadata": {},
   "outputs": [],
   "source": [
    "# Удаляем отмененные операции\n",
    "\n",
    "df = df[~df[\"Invoice\"].str.contains(\"C\", na = False)]"
   ]
  },
  {
   "cell_type": "code",
   "execution_count": 7,
   "id": "112fe940",
   "metadata": {},
   "outputs": [
    {
     "data": {
      "text/plain": [
       "4314"
      ]
     },
     "execution_count": 7,
     "metadata": {},
     "output_type": "execute_result"
    }
   ],
   "source": [
    "df['Customer ID'].nunique()"
   ]
  },
  {
   "cell_type": "code",
   "execution_count": 8,
   "id": "35e48217",
   "metadata": {},
   "outputs": [
    {
     "data": {
      "text/plain": [
       "array(['United Kingdom', 'France', 'USA', 'Belgium', 'Australia', 'EIRE',\n",
       "       'Germany', 'Portugal', 'Denmark', 'Netherlands', 'Poland',\n",
       "       'Channel Islands', 'Spain', 'Cyprus', 'Greece', 'Norway',\n",
       "       'Austria', 'Sweden', 'United Arab Emirates', 'Finland', 'Italy',\n",
       "       'Switzerland', 'Japan', 'Unspecified', 'Nigeria', 'Malta',\n",
       "       'Bahrain', 'RSA', 'Bermuda', 'Hong Kong', 'Singapore', 'Thailand',\n",
       "       'Israel', 'Lithuania', 'West Indies', 'Lebanon', 'Korea', 'Brazil',\n",
       "       'Canada', 'Iceland'], dtype=object)"
      ]
     },
     "execution_count": 8,
     "metadata": {},
     "output_type": "execute_result"
    }
   ],
   "source": [
    "df['Country'].unique()"
   ]
  },
  {
   "cell_type": "code",
   "execution_count": 9,
   "id": "68896ab6",
   "metadata": {},
   "outputs": [
    {
     "name": "stderr",
     "output_type": "stream",
     "text": [
      "C:\\Users\\dimak\\AppData\\Local\\Temp\\ipykernel_5972\\3025835751.py:3: FutureWarning: A value is trying to be set on a copy of a DataFrame or Series through chained assignment using an inplace method.\n",
      "The behavior will change in pandas 3.0. This inplace method will never work because the intermediate object on which we are setting values always behaves as a copy.\n",
      "\n",
      "For example, when doing 'df[col].method(value, inplace=True)', try using 'df.method({col: value}, inplace=True)' or df[col] = df[col].method(value) instead, to perform the operation inplace on the original object.\n",
      "\n",
      "\n",
      "  df['Country'].replace({'EIRE':'Ireland', 'RSA':'South Africa'}, inplace=True)\n"
     ]
    }
   ],
   "source": [
    "#Меняем название стран на привычные\n",
    "\n",
    "df['Country'].replace({'EIRE':'Ireland', 'RSA':'South Africa'}, inplace=True)"
   ]
  },
  {
   "cell_type": "code",
   "execution_count": 10,
   "id": "2328df73",
   "metadata": {},
   "outputs": [
    {
     "data": {
      "text/plain": [
       "array(['United Kingdom', 'France', 'USA', 'Belgium', 'Australia',\n",
       "       'Ireland', 'Germany', 'Portugal', 'Denmark', 'Netherlands',\n",
       "       'Poland', 'Channel Islands', 'Spain', 'Cyprus', 'Greece', 'Norway',\n",
       "       'Austria', 'Sweden', 'United Arab Emirates', 'Finland', 'Italy',\n",
       "       'Switzerland', 'Japan', 'Unspecified', 'Nigeria', 'Malta',\n",
       "       'Bahrain', 'South Africa', 'Bermuda', 'Hong Kong', 'Singapore',\n",
       "       'Thailand', 'Israel', 'Lithuania', 'West Indies', 'Lebanon',\n",
       "       'Korea', 'Brazil', 'Canada', 'Iceland'], dtype=object)"
      ]
     },
     "execution_count": 10,
     "metadata": {},
     "output_type": "execute_result"
    }
   ],
   "source": [
    "df['Country'].unique()"
   ]
  },
  {
   "cell_type": "code",
   "execution_count": 11,
   "id": "64dc9d06",
   "metadata": {},
   "outputs": [],
   "source": [
    "# Отбираем операции, где количество товаров в чеке больше 0\n",
    "\n",
    "df=df[df['Quantity']>0]"
   ]
  },
  {
   "cell_type": "code",
   "execution_count": 12,
   "id": "41175a3d",
   "metadata": {},
   "outputs": [],
   "source": [
    "# Отбираем операции, где цена товара в чеке больше 0\n",
    "\n",
    "df=df[df['Price']>0]"
   ]
  },
  {
   "cell_type": "code",
   "execution_count": 13,
   "id": "d543c899",
   "metadata": {},
   "outputs": [
    {
     "data": {
      "text/plain": [
       "Invoice             0\n",
       "StockCode           0\n",
       "Description         0\n",
       "Quantity            0\n",
       "InvoiceDate         0\n",
       "Price               0\n",
       "Customer ID    103814\n",
       "Country             0\n",
       "dtype: int64"
      ]
     },
     "execution_count": 13,
     "metadata": {},
     "output_type": "execute_result"
    }
   ],
   "source": [
    "df.isna().sum()"
   ]
  },
  {
   "cell_type": "code",
   "execution_count": 14,
   "id": "3af276c1",
   "metadata": {},
   "outputs": [],
   "source": [
    "#Удаляем пропуски\n",
    "\n",
    "df = df.dropna()"
   ]
  },
  {
   "cell_type": "code",
   "execution_count": 15,
   "id": "30618b4d",
   "metadata": {},
   "outputs": [
    {
     "data": {
      "text/plain": [
       "Invoice        0\n",
       "StockCode      0\n",
       "Description    0\n",
       "Quantity       0\n",
       "InvoiceDate    0\n",
       "Price          0\n",
       "Customer ID    0\n",
       "Country        0\n",
       "dtype: int64"
      ]
     },
     "execution_count": 15,
     "metadata": {},
     "output_type": "execute_result"
    }
   ],
   "source": [
    "df.isna().sum()"
   ]
  },
  {
   "cell_type": "code",
   "execution_count": 16,
   "id": "3891549c",
   "metadata": {},
   "outputs": [],
   "source": [
    "# Создаем поле \"total_price\", в котором содердится информация о сумме покупки на котокретный вид товара в чеке\n",
    "\n",
    "df['total_price'] = df['Price']*df['Quantity']"
   ]
  },
  {
   "cell_type": "markdown",
   "id": "197909c3",
   "metadata": {},
   "source": [
    "### Проводим RFM - анализ"
   ]
  },
  {
   "cell_type": "code",
   "execution_count": 17,
   "id": "a95bfa71",
   "metadata": {},
   "outputs": [
    {
     "data": {
      "text/html": [
       "<div>\n",
       "<style scoped>\n",
       "    .dataframe tbody tr th:only-of-type {\n",
       "        vertical-align: middle;\n",
       "    }\n",
       "\n",
       "    .dataframe tbody tr th {\n",
       "        vertical-align: top;\n",
       "    }\n",
       "\n",
       "    .dataframe thead th {\n",
       "        text-align: right;\n",
       "    }\n",
       "</style>\n",
       "<table border=\"1\" class=\"dataframe\">\n",
       "  <thead>\n",
       "    <tr style=\"text-align: right;\">\n",
       "      <th></th>\n",
       "      <th>customer_id</th>\n",
       "      <th>Last_Purchase_Date</th>\n",
       "      <th>Recency</th>\n",
       "    </tr>\n",
       "  </thead>\n",
       "  <tbody>\n",
       "    <tr>\n",
       "      <th>3805</th>\n",
       "      <td>17592.0</td>\n",
       "      <td>2009-12-01 10:49:00</td>\n",
       "      <td>373</td>\n",
       "    </tr>\n",
       "    <tr>\n",
       "      <th>3396</th>\n",
       "      <td>17056.0</td>\n",
       "      <td>2009-12-01 12:55:00</td>\n",
       "      <td>373</td>\n",
       "    </tr>\n",
       "    <tr>\n",
       "      <th>3182</th>\n",
       "      <td>16763.0</td>\n",
       "      <td>2009-12-01 15:26:00</td>\n",
       "      <td>373</td>\n",
       "    </tr>\n",
       "    <tr>\n",
       "      <th>179</th>\n",
       "      <td>12636.0</td>\n",
       "      <td>2009-12-01 09:55:00</td>\n",
       "      <td>373</td>\n",
       "    </tr>\n",
       "    <tr>\n",
       "      <th>809</th>\n",
       "      <td>13526.0</td>\n",
       "      <td>2009-12-01 13:13:00</td>\n",
       "      <td>373</td>\n",
       "    </tr>\n",
       "  </tbody>\n",
       "</table>\n",
       "</div>"
      ],
      "text/plain": [
       "      customer_id  Last_Purchase_Date  Recency\n",
       "3805      17592.0 2009-12-01 10:49:00      373\n",
       "3396      17056.0 2009-12-01 12:55:00      373\n",
       "3182      16763.0 2009-12-01 15:26:00      373\n",
       "179       12636.0 2009-12-01 09:55:00      373\n",
       "809       13526.0 2009-12-01 13:13:00      373"
      ]
     },
     "execution_count": 17,
     "metadata": {},
     "output_type": "execute_result"
    }
   ],
   "source": [
    "df_recency = df.groupby(by='Customer ID',  as_index=False)['InvoiceDate'].max()\n",
    "\n",
    "df_recency.columns = ['customer_id', 'Last_Purchase_Date']\n",
    "\n",
    "recent_date = df_recency['Last_Purchase_Date'].max()\n",
    "\n",
    "df_recency['Recency'] = df_recency['Last_Purchase_Date'].apply(\n",
    "    lambda x: (recent_date - x).days)\n",
    "df_recency.sort_values('Recency', ascending = False).head()"
   ]
  },
  {
   "cell_type": "code",
   "execution_count": 18,
   "id": "c7843733",
   "metadata": {},
   "outputs": [
    {
     "data": {
      "image/png": "[encoded data removed]",
      "text/plain": [
       "<Figure size 1500x700 with 1 Axes>"
      ]
     },
     "metadata": {},
     "output_type": "display_data"
    }
   ],
   "source": [
    "df_recency.boxplot(column=['Recency'], figsize=(15,7))\n",
    "plt.title('Диаграмма размаха recency')\n",
    "plt.show()"
   ]
  },
  {
   "cell_type": "code",
   "execution_count": 19,
   "id": "6e3e8d90",
   "metadata": {},
   "outputs": [
    {
     "data": {
      "text/plain": [
       "0.25     17.0\n",
       "0.50     52.0\n",
       "0.75    135.0\n",
       "Name: Recency, dtype: float64"
      ]
     },
     "execution_count": 19,
     "metadata": {},
     "output_type": "execute_result"
    }
   ],
   "source": [
    "quantiles = df_recency['Recency'].quantile(q=[0.25,0.5,0.75])\n",
    "quantiles"
   ]
  },
  {
   "cell_type": "code",
   "execution_count": 20,
   "id": "c9aec824",
   "metadata": {},
   "outputs": [
    {
     "name": "stdout",
     "output_type": "stream",
     "text": [
      "Максимальный показатель Recency: 373\n",
      "Минимальный показатель Recency: 0\n",
      "Средний показатель Recency: 90.17184601113172\n"
     ]
    }
   ],
   "source": [
    "print( 'Максимальный показатель Recency:',df_recency['Recency'].max())\n",
    "print( 'Минимальный показатель Recency:',df_recency['Recency'].min())\n",
    "print( 'Средний показатель Recency:',df_recency['Recency'].mean())\n"
   ]
  },
  {
   "cell_type": "code",
   "execution_count": 21,
   "id": "99f5dafe",
   "metadata": {},
   "outputs": [
    {
     "data": {
      "text/html": [
       "<div>\n",
       "<style scoped>\n",
       "    .dataframe tbody tr th:only-of-type {\n",
       "        vertical-align: middle;\n",
       "    }\n",
       "\n",
       "    .dataframe tbody tr th {\n",
       "        vertical-align: top;\n",
       "    }\n",
       "\n",
       "    .dataframe thead th {\n",
       "        text-align: right;\n",
       "    }\n",
       "</style>\n",
       "<table border=\"1\" class=\"dataframe\">\n",
       "  <thead>\n",
       "    <tr style=\"text-align: right;\">\n",
       "      <th></th>\n",
       "      <th>customer_id</th>\n",
       "      <th>Frequency</th>\n",
       "    </tr>\n",
       "  </thead>\n",
       "  <tbody>\n",
       "    <tr>\n",
       "      <th>1840</th>\n",
       "      <td>14911.0</td>\n",
       "      <td>205</td>\n",
       "    </tr>\n",
       "    <tr>\n",
       "      <th>3996</th>\n",
       "      <td>17850.0</td>\n",
       "      <td>155</td>\n",
       "    </tr>\n",
       "    <tr>\n",
       "      <th>251</th>\n",
       "      <td>12748.0</td>\n",
       "      <td>144</td>\n",
       "    </tr>\n",
       "    <tr>\n",
       "      <th>2133</th>\n",
       "      <td>15311.0</td>\n",
       "      <td>121</td>\n",
       "    </tr>\n",
       "    <tr>\n",
       "      <th>506</th>\n",
       "      <td>13089.0</td>\n",
       "      <td>109</td>\n",
       "    </tr>\n",
       "  </tbody>\n",
       "</table>\n",
       "</div>"
      ],
      "text/plain": [
       "      customer_id  Frequency\n",
       "1840      14911.0        205\n",
       "3996      17850.0        155\n",
       "251       12748.0        144\n",
       "2133      15311.0        121\n",
       "506       13089.0        109"
      ]
     },
     "execution_count": 21,
     "metadata": {},
     "output_type": "execute_result"
    }
   ],
   "source": [
    "frequency_df = df.groupby(\n",
    "    by=['Customer ID'], as_index=False)['Invoice'].nunique()\n",
    "frequency_df.columns = ['customer_id', 'Frequency']\n",
    "frequency_df.sort_values(by = 'Frequency', ascending = False).head()"
   ]
  },
  {
   "cell_type": "code",
   "execution_count": 22,
   "id": "03716fdb",
   "metadata": {},
   "outputs": [
    {
     "data": {
      "image/png": "[encoded data removed]",
      "text/plain": [
       "<Figure size 1500x700 with 1 Axes>"
      ]
     },
     "metadata": {},
     "output_type": "display_data"
    }
   ],
   "source": [
    "frequency_df.boxplot(column=['Frequency'], figsize=(15,7))\n",
    "plt.title('Диаграмма размаха Frequency')\n",
    "plt.show()"
   ]
  },
  {
   "cell_type": "code",
   "execution_count": 23,
   "id": "d02ee253",
   "metadata": {},
   "outputs": [
    {
     "data": {
      "text/plain": [
       "0.25    1.0\n",
       "0.50    2.0\n",
       "0.75    5.0\n",
       "Name: Frequency, dtype: float64"
      ]
     },
     "execution_count": 23,
     "metadata": {},
     "output_type": "execute_result"
    }
   ],
   "source": [
    "quantiles = frequency_df['Frequency'].quantile(q=[0.25,0.5,0.75])\n",
    "quantiles"
   ]
  },
  {
   "cell_type": "code",
   "execution_count": 24,
   "id": "a04cfc5a",
   "metadata": {},
   "outputs": [
    {
     "name": "stdout",
     "output_type": "stream",
     "text": [
      "Максимальный показатель Frequency: 205\n",
      "Минимальный показатель Frequency: 1\n",
      "Средний показатель Frequency: 4.455705009276437\n"
     ]
    }
   ],
   "source": [
    "print( 'Максимальный показатель Frequency:',frequency_df['Frequency'].max())\n",
    "print( 'Минимальный показатель Frequency:',frequency_df['Frequency'].min())\n",
    "print( 'Средний показатель Frequency:',frequency_df['Frequency'].mean())"
   ]
  },
  {
   "cell_type": "code",
   "execution_count": 25,
   "id": "8e07d434",
   "metadata": {},
   "outputs": [
    {
     "data": {
      "text/html": [
       "<div>\n",
       "<style scoped>\n",
       "    .dataframe tbody tr th:only-of-type {\n",
       "        vertical-align: middle;\n",
       "    }\n",
       "\n",
       "    .dataframe tbody tr th {\n",
       "        vertical-align: top;\n",
       "    }\n",
       "\n",
       "    .dataframe thead th {\n",
       "        text-align: right;\n",
       "    }\n",
       "</style>\n",
       "<table border=\"1\" class=\"dataframe\">\n",
       "  <thead>\n",
       "    <tr style=\"text-align: right;\">\n",
       "      <th></th>\n",
       "      <th>Invoice</th>\n",
       "      <th>StockCode</th>\n",
       "      <th>Description</th>\n",
       "      <th>Quantity</th>\n",
       "      <th>InvoiceDate</th>\n",
       "      <th>Price</th>\n",
       "      <th>Customer ID</th>\n",
       "      <th>Country</th>\n",
       "      <th>total_price</th>\n",
       "    </tr>\n",
       "  </thead>\n",
       "  <tbody>\n",
       "    <tr>\n",
       "      <th>0</th>\n",
       "      <td>489434</td>\n",
       "      <td>85048</td>\n",
       "      <td>15CM CHRISTMAS GLASS BALL 20 LIGHTS</td>\n",
       "      <td>12</td>\n",
       "      <td>2009-12-01 07:45:00</td>\n",
       "      <td>6.95</td>\n",
       "      <td>13085.0</td>\n",
       "      <td>United Kingdom</td>\n",
       "      <td>83.40</td>\n",
       "    </tr>\n",
       "    <tr>\n",
       "      <th>1</th>\n",
       "      <td>489434</td>\n",
       "      <td>79323P</td>\n",
       "      <td>PINK CHERRY LIGHTS</td>\n",
       "      <td>12</td>\n",
       "      <td>2009-12-01 07:45:00</td>\n",
       "      <td>6.75</td>\n",
       "      <td>13085.0</td>\n",
       "      <td>United Kingdom</td>\n",
       "      <td>81.00</td>\n",
       "    </tr>\n",
       "    <tr>\n",
       "      <th>2</th>\n",
       "      <td>489434</td>\n",
       "      <td>79323W</td>\n",
       "      <td>WHITE CHERRY LIGHTS</td>\n",
       "      <td>12</td>\n",
       "      <td>2009-12-01 07:45:00</td>\n",
       "      <td>6.75</td>\n",
       "      <td>13085.0</td>\n",
       "      <td>United Kingdom</td>\n",
       "      <td>81.00</td>\n",
       "    </tr>\n",
       "    <tr>\n",
       "      <th>3</th>\n",
       "      <td>489434</td>\n",
       "      <td>22041</td>\n",
       "      <td>RECORD FRAME 7\" SINGLE SIZE</td>\n",
       "      <td>48</td>\n",
       "      <td>2009-12-01 07:45:00</td>\n",
       "      <td>2.10</td>\n",
       "      <td>13085.0</td>\n",
       "      <td>United Kingdom</td>\n",
       "      <td>100.80</td>\n",
       "    </tr>\n",
       "    <tr>\n",
       "      <th>4</th>\n",
       "      <td>489434</td>\n",
       "      <td>21232</td>\n",
       "      <td>STRAWBERRY CERAMIC TRINKET BOX</td>\n",
       "      <td>24</td>\n",
       "      <td>2009-12-01 07:45:00</td>\n",
       "      <td>1.25</td>\n",
       "      <td>13085.0</td>\n",
       "      <td>United Kingdom</td>\n",
       "      <td>30.00</td>\n",
       "    </tr>\n",
       "    <tr>\n",
       "      <th>...</th>\n",
       "      <td>...</td>\n",
       "      <td>...</td>\n",
       "      <td>...</td>\n",
       "      <td>...</td>\n",
       "      <td>...</td>\n",
       "      <td>...</td>\n",
       "      <td>...</td>\n",
       "      <td>...</td>\n",
       "      <td>...</td>\n",
       "    </tr>\n",
       "    <tr>\n",
       "      <th>525456</th>\n",
       "      <td>538171</td>\n",
       "      <td>22271</td>\n",
       "      <td>FELTCRAFT DOLL ROSIE</td>\n",
       "      <td>2</td>\n",
       "      <td>2010-12-09 20:01:00</td>\n",
       "      <td>2.95</td>\n",
       "      <td>17530.0</td>\n",
       "      <td>United Kingdom</td>\n",
       "      <td>5.90</td>\n",
       "    </tr>\n",
       "    <tr>\n",
       "      <th>525457</th>\n",
       "      <td>538171</td>\n",
       "      <td>22750</td>\n",
       "      <td>FELTCRAFT PRINCESS LOLA DOLL</td>\n",
       "      <td>1</td>\n",
       "      <td>2010-12-09 20:01:00</td>\n",
       "      <td>3.75</td>\n",
       "      <td>17530.0</td>\n",
       "      <td>United Kingdom</td>\n",
       "      <td>3.75</td>\n",
       "    </tr>\n",
       "    <tr>\n",
       "      <th>525458</th>\n",
       "      <td>538171</td>\n",
       "      <td>22751</td>\n",
       "      <td>FELTCRAFT PRINCESS OLIVIA DOLL</td>\n",
       "      <td>1</td>\n",
       "      <td>2010-12-09 20:01:00</td>\n",
       "      <td>3.75</td>\n",
       "      <td>17530.0</td>\n",
       "      <td>United Kingdom</td>\n",
       "      <td>3.75</td>\n",
       "    </tr>\n",
       "    <tr>\n",
       "      <th>525459</th>\n",
       "      <td>538171</td>\n",
       "      <td>20970</td>\n",
       "      <td>PINK FLORAL FELTCRAFT SHOULDER BAG</td>\n",
       "      <td>2</td>\n",
       "      <td>2010-12-09 20:01:00</td>\n",
       "      <td>3.75</td>\n",
       "      <td>17530.0</td>\n",
       "      <td>United Kingdom</td>\n",
       "      <td>7.50</td>\n",
       "    </tr>\n",
       "    <tr>\n",
       "      <th>525460</th>\n",
       "      <td>538171</td>\n",
       "      <td>21931</td>\n",
       "      <td>JUMBO STORAGE BAG SUKI</td>\n",
       "      <td>2</td>\n",
       "      <td>2010-12-09 20:01:00</td>\n",
       "      <td>1.95</td>\n",
       "      <td>17530.0</td>\n",
       "      <td>United Kingdom</td>\n",
       "      <td>3.90</td>\n",
       "    </tr>\n",
       "  </tbody>\n",
       "</table>\n",
       "<p>400916 rows × 9 columns</p>\n",
       "</div>"
      ],
      "text/plain": [
       "       Invoice StockCode                          Description  Quantity  \\\n",
       "0       489434     85048  15CM CHRISTMAS GLASS BALL 20 LIGHTS        12   \n",
       "1       489434    79323P                   PINK CHERRY LIGHTS        12   \n",
       "2       489434    79323W                  WHITE CHERRY LIGHTS        12   \n",
       "3       489434     22041         RECORD FRAME 7\" SINGLE SIZE         48   \n",
       "4       489434     21232       STRAWBERRY CERAMIC TRINKET BOX        24   \n",
       "...        ...       ...                                  ...       ...   \n",
       "525456  538171     22271                 FELTCRAFT DOLL ROSIE         2   \n",
       "525457  538171     22750         FELTCRAFT PRINCESS LOLA DOLL         1   \n",
       "525458  538171     22751       FELTCRAFT PRINCESS OLIVIA DOLL         1   \n",
       "525459  538171     20970   PINK FLORAL FELTCRAFT SHOULDER BAG         2   \n",
       "525460  538171     21931               JUMBO STORAGE BAG SUKI         2   \n",
       "\n",
       "               InvoiceDate  Price  Customer ID         Country  total_price  \n",
       "0      2009-12-01 07:45:00   6.95      13085.0  United Kingdom        83.40  \n",
       "1      2009-12-01 07:45:00   6.75      13085.0  United Kingdom        81.00  \n",
       "2      2009-12-01 07:45:00   6.75      13085.0  United Kingdom        81.00  \n",
       "3      2009-12-01 07:45:00   2.10      13085.0  United Kingdom       100.80  \n",
       "4      2009-12-01 07:45:00   1.25      13085.0  United Kingdom        30.00  \n",
       "...                    ...    ...          ...             ...          ...  \n",
       "525456 2010-12-09 20:01:00   2.95      17530.0  United Kingdom         5.90  \n",
       "525457 2010-12-09 20:01:00   3.75      17530.0  United Kingdom         3.75  \n",
       "525458 2010-12-09 20:01:00   3.75      17530.0  United Kingdom         3.75  \n",
       "525459 2010-12-09 20:01:00   3.75      17530.0  United Kingdom         7.50  \n",
       "525460 2010-12-09 20:01:00   1.95      17530.0  United Kingdom         3.90  \n",
       "\n",
       "[400916 rows x 9 columns]"
      ]
     },
     "execution_count": 25,
     "metadata": {},
     "output_type": "execute_result"
    }
   ],
   "source": [
    "df"
   ]
  },
  {
   "cell_type": "code",
   "execution_count": 26,
   "id": "1f3a76f6",
   "metadata": {},
   "outputs": [
    {
     "data": {
      "text/html": [
       "<div>\n",
       "<style scoped>\n",
       "    .dataframe tbody tr th:only-of-type {\n",
       "        vertical-align: middle;\n",
       "    }\n",
       "\n",
       "    .dataframe tbody tr th {\n",
       "        vertical-align: top;\n",
       "    }\n",
       "\n",
       "    .dataframe thead th {\n",
       "        text-align: right;\n",
       "    }\n",
       "</style>\n",
       "<table border=\"1\" class=\"dataframe\">\n",
       "  <thead>\n",
       "    <tr style=\"text-align: right;\">\n",
       "      <th></th>\n",
       "      <th>customer_id</th>\n",
       "      <th>Monetary</th>\n",
       "    </tr>\n",
       "  </thead>\n",
       "  <tbody>\n",
       "    <tr>\n",
       "      <th>4183</th>\n",
       "      <td>18102.0</td>\n",
       "      <td>349164.35</td>\n",
       "    </tr>\n",
       "    <tr>\n",
       "      <th>1637</th>\n",
       "      <td>14646.0</td>\n",
       "      <td>248396.50</td>\n",
       "    </tr>\n",
       "    <tr>\n",
       "      <th>1269</th>\n",
       "      <td>14156.0</td>\n",
       "      <td>196549.74</td>\n",
       "    </tr>\n",
       "    <tr>\n",
       "      <th>1840</th>\n",
       "      <td>14911.0</td>\n",
       "      <td>152121.22</td>\n",
       "    </tr>\n",
       "    <tr>\n",
       "      <th>939</th>\n",
       "      <td>13694.0</td>\n",
       "      <td>131443.19</td>\n",
       "    </tr>\n",
       "  </tbody>\n",
       "</table>\n",
       "</div>"
      ],
      "text/plain": [
       "      customer_id   Monetary\n",
       "4183      18102.0  349164.35\n",
       "1637      14646.0  248396.50\n",
       "1269      14156.0  196549.74\n",
       "1840      14911.0  152121.22\n",
       "939       13694.0  131443.19"
      ]
     },
     "execution_count": 26,
     "metadata": {},
     "output_type": "execute_result"
    }
   ],
   "source": [
    "monetary_df = df.groupby(by='Customer ID', as_index=False)['total_price'].sum()\n",
    "monetary_df.columns = ['customer_id', 'Monetary']\n",
    "monetary_df.sort_values(by='Monetary', ascending = False).head()"
   ]
  },
  {
   "cell_type": "code",
   "execution_count": 27,
   "id": "9ef0bc8d",
   "metadata": {},
   "outputs": [
    {
     "data": {
      "image/png": "[encoded data removed]",
      "text/plain": [
       "<Figure size 1500x700 with 1 Axes>"
      ]
     },
     "metadata": {},
     "output_type": "display_data"
    }
   ],
   "source": [
    "monetary_df.boxplot(column=['Monetary'], figsize=(15,7))\n",
    "plt.title('Диаграмма размаха Monetary')\n",
    "plt.show()"
   ]
  },
  {
   "cell_type": "code",
   "execution_count": 28,
   "id": "981bf829",
   "metadata": {},
   "outputs": [
    {
     "data": {
      "text/plain": [
       "0.25     307.1875\n",
       "0.50     701.6150\n",
       "0.75    1714.9325\n",
       "Name: Monetary, dtype: float64"
      ]
     },
     "execution_count": 28,
     "metadata": {},
     "output_type": "execute_result"
    }
   ],
   "source": [
    "quantiles = monetary_df['Monetary'].quantile(q=[0.25,0.5,0.75])\n",
    "quantiles"
   ]
  },
  {
   "cell_type": "code",
   "execution_count": 29,
   "id": "9fd75425",
   "metadata": {},
   "outputs": [
    {
     "name": "stdout",
     "output_type": "stream",
     "text": [
      "Максимальный показатель Monetary: 349164.35\n",
      "Минимальный показатель Monetary: 2.95\n",
      "Средний показатель Monetary: 2040.4067124304265\n"
     ]
    }
   ],
   "source": [
    "print( 'Максимальный показатель Monetary:',monetary_df['Monetary'].max())\n",
    "print( 'Минимальный показатель Monetary:',monetary_df['Monetary'].min())\n",
    "print( 'Средний показатель Monetary:',monetary_df['Monetary'].mean())"
   ]
  },
  {
   "cell_type": "code",
   "execution_count": 30,
   "id": "ecb976b0",
   "metadata": {},
   "outputs": [
    {
     "data": {
      "text/html": [
       "<div>\n",
       "<style scoped>\n",
       "    .dataframe tbody tr th:only-of-type {\n",
       "        vertical-align: middle;\n",
       "    }\n",
       "\n",
       "    .dataframe tbody tr th {\n",
       "        vertical-align: top;\n",
       "    }\n",
       "\n",
       "    .dataframe thead th {\n",
       "        text-align: right;\n",
       "    }\n",
       "</style>\n",
       "<table border=\"1\" class=\"dataframe\">\n",
       "  <thead>\n",
       "    <tr style=\"text-align: right;\">\n",
       "      <th></th>\n",
       "      <th>customer_id</th>\n",
       "      <th>Recency</th>\n",
       "      <th>Frequency</th>\n",
       "      <th>Monetary</th>\n",
       "    </tr>\n",
       "  </thead>\n",
       "  <tbody>\n",
       "    <tr>\n",
       "      <th>4183</th>\n",
       "      <td>18102.0</td>\n",
       "      <td>0</td>\n",
       "      <td>89</td>\n",
       "      <td>349164.35</td>\n",
       "    </tr>\n",
       "    <tr>\n",
       "      <th>1637</th>\n",
       "      <td>14646.0</td>\n",
       "      <td>9</td>\n",
       "      <td>78</td>\n",
       "      <td>248396.50</td>\n",
       "    </tr>\n",
       "    <tr>\n",
       "      <th>1269</th>\n",
       "      <td>14156.0</td>\n",
       "      <td>6</td>\n",
       "      <td>102</td>\n",
       "      <td>196549.74</td>\n",
       "    </tr>\n",
       "    <tr>\n",
       "      <th>1840</th>\n",
       "      <td>14911.0</td>\n",
       "      <td>0</td>\n",
       "      <td>205</td>\n",
       "      <td>152121.22</td>\n",
       "    </tr>\n",
       "    <tr>\n",
       "      <th>939</th>\n",
       "      <td>13694.0</td>\n",
       "      <td>8</td>\n",
       "      <td>94</td>\n",
       "      <td>131443.19</td>\n",
       "    </tr>\n",
       "  </tbody>\n",
       "</table>\n",
       "</div>"
      ],
      "text/plain": [
       "      customer_id  Recency  Frequency   Monetary\n",
       "4183      18102.0        0         89  349164.35\n",
       "1637      14646.0        9         78  248396.50\n",
       "1269      14156.0        6        102  196549.74\n",
       "1840      14911.0        0        205  152121.22\n",
       "939       13694.0        8         94  131443.19"
      ]
     },
     "execution_count": 30,
     "metadata": {},
     "output_type": "execute_result"
    }
   ],
   "source": [
    "rfm = df_recency.merge(frequency_df, on='customer_id')\n",
    "rfm = rfm.merge(monetary_df, on='customer_id').drop(\n",
    "    columns='Last_Purchase_Date')\n",
    "rfm.sort_values(by = 'Monetary', ascending = False).head()"
   ]
  },
  {
   "cell_type": "code",
   "execution_count": 31,
   "id": "45a5aca1",
   "metadata": {},
   "outputs": [
    {
     "data": {
      "text/html": [
       "<div>\n",
       "<style scoped>\n",
       "    .dataframe tbody tr th:only-of-type {\n",
       "        vertical-align: middle;\n",
       "    }\n",
       "\n",
       "    .dataframe tbody tr th {\n",
       "        vertical-align: top;\n",
       "    }\n",
       "\n",
       "    .dataframe thead th {\n",
       "        text-align: right;\n",
       "    }\n",
       "</style>\n",
       "<table border=\"1\" class=\"dataframe\">\n",
       "  <thead>\n",
       "    <tr style=\"text-align: right;\">\n",
       "      <th></th>\n",
       "      <th>customer_id</th>\n",
       "      <th>Recency</th>\n",
       "      <th>Frequency</th>\n",
       "      <th>Monetary</th>\n",
       "    </tr>\n",
       "  </thead>\n",
       "  <tbody>\n",
       "    <tr>\n",
       "      <th>0.25</th>\n",
       "      <td>13882.50</td>\n",
       "      <td>17.0</td>\n",
       "      <td>1.0</td>\n",
       "      <td>307.1875</td>\n",
       "    </tr>\n",
       "    <tr>\n",
       "      <th>0.50</th>\n",
       "      <td>15350.50</td>\n",
       "      <td>52.0</td>\n",
       "      <td>2.0</td>\n",
       "      <td>701.6150</td>\n",
       "    </tr>\n",
       "    <tr>\n",
       "      <th>0.75</th>\n",
       "      <td>16834.25</td>\n",
       "      <td>135.0</td>\n",
       "      <td>5.0</td>\n",
       "      <td>1714.9325</td>\n",
       "    </tr>\n",
       "  </tbody>\n",
       "</table>\n",
       "</div>"
      ],
      "text/plain": [
       "      customer_id  Recency  Frequency   Monetary\n",
       "0.25     13882.50     17.0        1.0   307.1875\n",
       "0.50     15350.50     52.0        2.0   701.6150\n",
       "0.75     16834.25    135.0        5.0  1714.9325"
      ]
     },
     "execution_count": 31,
     "metadata": {},
     "output_type": "execute_result"
    }
   ],
   "source": [
    "rfm_quantiles = rfm.quantile(q=[0.25,0.5,0.75])\n",
    "rfm_quantiles"
   ]
  },
  {
   "cell_type": "code",
   "execution_count": 32,
   "id": "d1913c06",
   "metadata": {},
   "outputs": [],
   "source": [
    "rfm_quantiles = rfm_quantiles.to_dict()\n",
    "RFM_Segment = rfm.copy()\n",
    "def R_Class(x,p,d):\n",
    "    if x <= d[p][0.25]:\n",
    "        return 4\n",
    "    elif x <= d[p][0.50]:\n",
    "        return 3\n",
    "    elif x <=d[p][0.75]: \n",
    "        return 2\n",
    "    else:\n",
    "        return 1\n",
    "    \n",
    "def FM_Class(x,p,d):\n",
    "    if x <= d[p][0.25]:\n",
    "        return 1\n",
    "    elif x <= d[p][0.50]:\n",
    "        return 2\n",
    "    elif x <= d[p][0.75]: \n",
    "        return 3\n",
    "    else:\n",
    "        return 4\n",
    "    \n",
    "RFM_Segment['R_Quartile'] = RFM_Segment['Recency'].apply(R_Class, args=('Recency',rfm_quantiles,))\n",
    "RFM_Segment['F_Quartile'] = RFM_Segment['Frequency'].apply(FM_Class, args=('Frequency',rfm_quantiles,))\n",
    "RFM_Segment['M_Quartile'] = RFM_Segment['Monetary'].apply(FM_Class, args=('Monetary',rfm_quantiles,))\n",
    "RFM_Segment['RFMClass'] = RFM_Segment.R_Quartile.map(str) \\\n",
    "                            + RFM_Segment.F_Quartile.map(str) \\\n",
    "                            + RFM_Segment.M_Quartile.map(str)"
   ]
  },
  {
   "cell_type": "code",
   "execution_count": 33,
   "id": "8dc9c1d5",
   "metadata": {},
   "outputs": [
    {
     "data": {
      "text/html": [
       "<div>\n",
       "<style scoped>\n",
       "    .dataframe tbody tr th:only-of-type {\n",
       "        vertical-align: middle;\n",
       "    }\n",
       "\n",
       "    .dataframe tbody tr th {\n",
       "        vertical-align: top;\n",
       "    }\n",
       "\n",
       "    .dataframe thead th {\n",
       "        text-align: right;\n",
       "    }\n",
       "</style>\n",
       "<table border=\"1\" class=\"dataframe\">\n",
       "  <thead>\n",
       "    <tr style=\"text-align: right;\">\n",
       "      <th></th>\n",
       "      <th>customer_id</th>\n",
       "      <th>Recency</th>\n",
       "      <th>Frequency</th>\n",
       "      <th>Monetary</th>\n",
       "      <th>R_Quartile</th>\n",
       "      <th>F_Quartile</th>\n",
       "      <th>M_Quartile</th>\n",
       "      <th>RFMClass</th>\n",
       "    </tr>\n",
       "  </thead>\n",
       "  <tbody>\n",
       "    <tr>\n",
       "      <th>0</th>\n",
       "      <td>12346.0</td>\n",
       "      <td>164</td>\n",
       "      <td>11</td>\n",
       "      <td>372.86</td>\n",
       "      <td>1</td>\n",
       "      <td>4</td>\n",
       "      <td>2</td>\n",
       "      <td>142</td>\n",
       "    </tr>\n",
       "    <tr>\n",
       "      <th>1</th>\n",
       "      <td>12347.0</td>\n",
       "      <td>2</td>\n",
       "      <td>2</td>\n",
       "      <td>1323.32</td>\n",
       "      <td>4</td>\n",
       "      <td>2</td>\n",
       "      <td>3</td>\n",
       "      <td>423</td>\n",
       "    </tr>\n",
       "    <tr>\n",
       "      <th>2</th>\n",
       "      <td>12348.0</td>\n",
       "      <td>73</td>\n",
       "      <td>1</td>\n",
       "      <td>222.16</td>\n",
       "      <td>2</td>\n",
       "      <td>1</td>\n",
       "      <td>1</td>\n",
       "      <td>211</td>\n",
       "    </tr>\n",
       "    <tr>\n",
       "      <th>3</th>\n",
       "      <td>12349.0</td>\n",
       "      <td>42</td>\n",
       "      <td>3</td>\n",
       "      <td>2671.14</td>\n",
       "      <td>3</td>\n",
       "      <td>3</td>\n",
       "      <td>4</td>\n",
       "      <td>334</td>\n",
       "    </tr>\n",
       "    <tr>\n",
       "      <th>4</th>\n",
       "      <td>12351.0</td>\n",
       "      <td>10</td>\n",
       "      <td>1</td>\n",
       "      <td>300.93</td>\n",
       "      <td>4</td>\n",
       "      <td>1</td>\n",
       "      <td>1</td>\n",
       "      <td>411</td>\n",
       "    </tr>\n",
       "    <tr>\n",
       "      <th>...</th>\n",
       "      <td>...</td>\n",
       "      <td>...</td>\n",
       "      <td>...</td>\n",
       "      <td>...</td>\n",
       "      <td>...</td>\n",
       "      <td>...</td>\n",
       "      <td>...</td>\n",
       "      <td>...</td>\n",
       "    </tr>\n",
       "    <tr>\n",
       "      <th>4307</th>\n",
       "      <td>18283.0</td>\n",
       "      <td>17</td>\n",
       "      <td>6</td>\n",
       "      <td>619.37</td>\n",
       "      <td>4</td>\n",
       "      <td>4</td>\n",
       "      <td>2</td>\n",
       "      <td>442</td>\n",
       "    </tr>\n",
       "    <tr>\n",
       "      <th>4308</th>\n",
       "      <td>18284.0</td>\n",
       "      <td>66</td>\n",
       "      <td>1</td>\n",
       "      <td>461.68</td>\n",
       "      <td>2</td>\n",
       "      <td>1</td>\n",
       "      <td>2</td>\n",
       "      <td>212</td>\n",
       "    </tr>\n",
       "    <tr>\n",
       "      <th>4309</th>\n",
       "      <td>18285.0</td>\n",
       "      <td>295</td>\n",
       "      <td>1</td>\n",
       "      <td>427.00</td>\n",
       "      <td>1</td>\n",
       "      <td>1</td>\n",
       "      <td>2</td>\n",
       "      <td>112</td>\n",
       "    </tr>\n",
       "    <tr>\n",
       "      <th>4310</th>\n",
       "      <td>18286.0</td>\n",
       "      <td>111</td>\n",
       "      <td>2</td>\n",
       "      <td>1296.43</td>\n",
       "      <td>2</td>\n",
       "      <td>2</td>\n",
       "      <td>3</td>\n",
       "      <td>223</td>\n",
       "    </tr>\n",
       "    <tr>\n",
       "      <th>4311</th>\n",
       "      <td>18287.0</td>\n",
       "      <td>17</td>\n",
       "      <td>4</td>\n",
       "      <td>2345.71</td>\n",
       "      <td>4</td>\n",
       "      <td>3</td>\n",
       "      <td>4</td>\n",
       "      <td>434</td>\n",
       "    </tr>\n",
       "  </tbody>\n",
       "</table>\n",
       "<p>4312 rows × 8 columns</p>\n",
       "</div>"
      ],
      "text/plain": [
       "      customer_id  Recency  Frequency  Monetary  R_Quartile  F_Quartile  \\\n",
       "0         12346.0      164         11    372.86           1           4   \n",
       "1         12347.0        2          2   1323.32           4           2   \n",
       "2         12348.0       73          1    222.16           2           1   \n",
       "3         12349.0       42          3   2671.14           3           3   \n",
       "4         12351.0       10          1    300.93           4           1   \n",
       "...           ...      ...        ...       ...         ...         ...   \n",
       "4307      18283.0       17          6    619.37           4           4   \n",
       "4308      18284.0       66          1    461.68           2           1   \n",
       "4309      18285.0      295          1    427.00           1           1   \n",
       "4310      18286.0      111          2   1296.43           2           2   \n",
       "4311      18287.0       17          4   2345.71           4           3   \n",
       "\n",
       "      M_Quartile RFMClass  \n",
       "0              2      142  \n",
       "1              3      423  \n",
       "2              1      211  \n",
       "3              4      334  \n",
       "4              1      411  \n",
       "...          ...      ...  \n",
       "4307           2      442  \n",
       "4308           2      212  \n",
       "4309           2      112  \n",
       "4310           3      223  \n",
       "4311           4      434  \n",
       "\n",
       "[4312 rows x 8 columns]"
      ]
     },
     "execution_count": 33,
     "metadata": {},
     "output_type": "execute_result"
    }
   ],
   "source": [
    "RFM_Segment"
   ]
  },
  {
   "cell_type": "markdown",
   "id": "5a2bea0d",
   "metadata": {},
   "source": [
    "## Посмотрим на взаимосвязь трех показателей RFM."
   ]
  },
  {
   "cell_type": "code",
   "execution_count": 34,
   "id": "8211c066",
   "metadata": {},
   "outputs": [
    {
     "data": {
      "image/png": "[encoded data removed]",
      "text/plain": [
       "<Figure size 1000x700 with 1 Axes>"
      ]
     },
     "metadata": {},
     "output_type": "display_data"
    }
   ],
   "source": [
    "fig = plt.figure(figsize=(10, 7))\n",
    "ax = fig.add_subplot(111, projection='3d')\n",
    "\n",
    "# Отображаем точки\n",
    "ax.scatter(\n",
    "    RFM_Segment['Recency'], \n",
    "    RFM_Segment['Frequency'], \n",
    "    RFM_Segment['Monetary'], \n",
    "    c='blue', marker='o', alpha=0.6\n",
    ")\n",
    "\n",
    "# Подписываем оси\n",
    "ax.set_xlabel('Recency')\n",
    "ax.set_ylabel('Frequency')\n",
    "ax.set_zlabel('Monetary')\n",
    "ax.set_title('3D RFM Segmentation')\n",
    "\n",
    "plt.show()\n"
   ]
  },
  {
   "cell_type": "markdown",
   "id": "40948f63",
   "metadata": {},
   "source": [
    "### Проведем сегментацию клиентов по Recency, чтобы понять, к каким клиентом применять рассылку.\n",
    "\n",
    "### Клиенты из Сегмента 1 это клиенты, которые совсем недавно делали покупки, по отношению к ним не нужно делать рассылку.  \n",
    "### Клиенты из Сегмента 2 делали последнюю покупку более 17 дней назад, соответстенно по отношению к ним можно применить простое оповещение с предложением посмотреть товары.  \n",
    "### Клиенты Сегмента 3 делали последнюю покупку более 52 дней назад, по отношению к ним можно применить оповещение с промо-акцией, либо со скидкой.  \n",
    "### Клиенты из Сегмента 4 можно считать утерянными, так как последняя покупка была проведена более 135 дней назад. По отношению к ним нету смысла применять оповещения. "
   ]
  },
  {
   "cell_type": "code",
   "execution_count": 35,
   "id": "e5abc12d",
   "metadata": {},
   "outputs": [
    {
     "data": {
      "text/html": [
       "<div>\n",
       "<style scoped>\n",
       "    .dataframe tbody tr th:only-of-type {\n",
       "        vertical-align: middle;\n",
       "    }\n",
       "\n",
       "    .dataframe tbody tr th {\n",
       "        vertical-align: top;\n",
       "    }\n",
       "\n",
       "    .dataframe thead th {\n",
       "        text-align: right;\n",
       "    }\n",
       "</style>\n",
       "<table border=\"1\" class=\"dataframe\">\n",
       "  <thead>\n",
       "    <tr style=\"text-align: right;\">\n",
       "      <th></th>\n",
       "      <th>customer_id</th>\n",
       "      <th>Recency</th>\n",
       "      <th>Frequency</th>\n",
       "      <th>Monetary</th>\n",
       "      <th>R_Quartile</th>\n",
       "      <th>F_Quartile</th>\n",
       "      <th>M_Quartile</th>\n",
       "      <th>RFMClass</th>\n",
       "      <th>Segment</th>\n",
       "    </tr>\n",
       "  </thead>\n",
       "  <tbody>\n",
       "    <tr>\n",
       "      <th>0</th>\n",
       "      <td>12346.0</td>\n",
       "      <td>164</td>\n",
       "      <td>11</td>\n",
       "      <td>372.86</td>\n",
       "      <td>1</td>\n",
       "      <td>4</td>\n",
       "      <td>2</td>\n",
       "      <td>142</td>\n",
       "      <td>Сегмент 4</td>\n",
       "    </tr>\n",
       "    <tr>\n",
       "      <th>1</th>\n",
       "      <td>12347.0</td>\n",
       "      <td>2</td>\n",
       "      <td>2</td>\n",
       "      <td>1323.32</td>\n",
       "      <td>4</td>\n",
       "      <td>2</td>\n",
       "      <td>3</td>\n",
       "      <td>423</td>\n",
       "      <td>Сегмент 1</td>\n",
       "    </tr>\n",
       "    <tr>\n",
       "      <th>2</th>\n",
       "      <td>12348.0</td>\n",
       "      <td>73</td>\n",
       "      <td>1</td>\n",
       "      <td>222.16</td>\n",
       "      <td>2</td>\n",
       "      <td>1</td>\n",
       "      <td>1</td>\n",
       "      <td>211</td>\n",
       "      <td>Сегмент 3</td>\n",
       "    </tr>\n",
       "    <tr>\n",
       "      <th>3</th>\n",
       "      <td>12349.0</td>\n",
       "      <td>42</td>\n",
       "      <td>3</td>\n",
       "      <td>2671.14</td>\n",
       "      <td>3</td>\n",
       "      <td>3</td>\n",
       "      <td>4</td>\n",
       "      <td>334</td>\n",
       "      <td>Сегмент 2</td>\n",
       "    </tr>\n",
       "    <tr>\n",
       "      <th>4</th>\n",
       "      <td>12351.0</td>\n",
       "      <td>10</td>\n",
       "      <td>1</td>\n",
       "      <td>300.93</td>\n",
       "      <td>4</td>\n",
       "      <td>1</td>\n",
       "      <td>1</td>\n",
       "      <td>411</td>\n",
       "      <td>Сегмент 1</td>\n",
       "    </tr>\n",
       "  </tbody>\n",
       "</table>\n",
       "</div>"
      ],
      "text/plain": [
       "   customer_id  Recency  Frequency  Monetary  R_Quartile  F_Quartile  \\\n",
       "0      12346.0      164         11    372.86           1           4   \n",
       "1      12347.0        2          2   1323.32           4           2   \n",
       "2      12348.0       73          1    222.16           2           1   \n",
       "3      12349.0       42          3   2671.14           3           3   \n",
       "4      12351.0       10          1    300.93           4           1   \n",
       "\n",
       "   M_Quartile RFMClass    Segment  \n",
       "0           2      142  Сегмент 4  \n",
       "1           3      423  Сегмент 1  \n",
       "2           1      211  Сегмент 3  \n",
       "3           4      334  Сегмент 2  \n",
       "4           1      411  Сегмент 1  "
      ]
     },
     "execution_count": 35,
     "metadata": {},
     "output_type": "execute_result"
    }
   ],
   "source": [
    "def Rclasss(row):\n",
    "    if row == 4: \n",
    "        return 'Сегмент 1'\n",
    "    if row == 3:\n",
    "        return 'Сегмент 2'\n",
    "    if row == 2:\n",
    "        return 'Сегмент 3'\n",
    "    if row == 1:\n",
    "        return 'Сегмент 4'\n",
    "\n",
    "    \n",
    "RFM_Segment['Segment'] = RFM_Segment['R_Quartile'].apply(Rclasss)\n",
    "\n",
    "\n",
    "RFM_Segment.head()"
   ]
  },
  {
   "cell_type": "markdown",
   "id": "a445c390",
   "metadata": {},
   "source": [
    "### Выведем список этих клиентов для дальнейших маркетинговых манипуляций:"
   ]
  },
  {
   "cell_type": "code",
   "execution_count": 36,
   "id": "cdfa8af9",
   "metadata": {},
   "outputs": [
    {
     "data": {
      "text/html": [
       "<div>\n",
       "<style scoped>\n",
       "    .dataframe tbody tr th:only-of-type {\n",
       "        vertical-align: middle;\n",
       "    }\n",
       "\n",
       "    .dataframe tbody tr th {\n",
       "        vertical-align: top;\n",
       "    }\n",
       "\n",
       "    .dataframe thead th {\n",
       "        text-align: right;\n",
       "    }\n",
       "</style>\n",
       "<table border=\"1\" class=\"dataframe\">\n",
       "  <thead>\n",
       "    <tr style=\"text-align: right;\">\n",
       "      <th></th>\n",
       "      <th>customer_id</th>\n",
       "      <th>Segment</th>\n",
       "    </tr>\n",
       "  </thead>\n",
       "  <tbody>\n",
       "    <tr>\n",
       "      <th>2155</th>\n",
       "      <td>15350.0</td>\n",
       "      <td>Сегмент 1</td>\n",
       "    </tr>\n",
       "    <tr>\n",
       "      <th>2125</th>\n",
       "      <td>15301.0</td>\n",
       "      <td>Сегмент 1</td>\n",
       "    </tr>\n",
       "    <tr>\n",
       "      <th>2124</th>\n",
       "      <td>15299.0</td>\n",
       "      <td>Сегмент 1</td>\n",
       "    </tr>\n",
       "    <tr>\n",
       "      <th>2123</th>\n",
       "      <td>15298.0</td>\n",
       "      <td>Сегмент 1</td>\n",
       "    </tr>\n",
       "    <tr>\n",
       "      <th>2118</th>\n",
       "      <td>15291.0</td>\n",
       "      <td>Сегмент 1</td>\n",
       "    </tr>\n",
       "    <tr>\n",
       "      <th>...</th>\n",
       "      <td>...</td>\n",
       "      <td>...</td>\n",
       "    </tr>\n",
       "    <tr>\n",
       "      <th>269</th>\n",
       "      <td>12776.0</td>\n",
       "      <td>Сегмент 4</td>\n",
       "    </tr>\n",
       "    <tr>\n",
       "      <th>3330</th>\n",
       "      <td>16970.0</td>\n",
       "      <td>Сегмент 4</td>\n",
       "    </tr>\n",
       "    <tr>\n",
       "      <th>3329</th>\n",
       "      <td>16964.0</td>\n",
       "      <td>Сегмент 4</td>\n",
       "    </tr>\n",
       "    <tr>\n",
       "      <th>1893</th>\n",
       "      <td>14983.0</td>\n",
       "      <td>Сегмент 4</td>\n",
       "    </tr>\n",
       "    <tr>\n",
       "      <th>0</th>\n",
       "      <td>12346.0</td>\n",
       "      <td>Сегмент 4</td>\n",
       "    </tr>\n",
       "  </tbody>\n",
       "</table>\n",
       "<p>4312 rows × 2 columns</p>\n",
       "</div>"
      ],
      "text/plain": [
       "      customer_id    Segment\n",
       "2155      15350.0  Сегмент 1\n",
       "2125      15301.0  Сегмент 1\n",
       "2124      15299.0  Сегмент 1\n",
       "2123      15298.0  Сегмент 1\n",
       "2118      15291.0  Сегмент 1\n",
       "...           ...        ...\n",
       "269       12776.0  Сегмент 4\n",
       "3330      16970.0  Сегмент 4\n",
       "3329      16964.0  Сегмент 4\n",
       "1893      14983.0  Сегмент 4\n",
       "0         12346.0  Сегмент 4\n",
       "\n",
       "[4312 rows x 2 columns]"
      ]
     },
     "execution_count": 36,
     "metadata": {},
     "output_type": "execute_result"
    }
   ],
   "source": [
    "for_marketing_recency = RFM_Segment[['customer_id', 'Segment']].sort_values(by = 'Segment')\n",
    "for_marketing_recency"
   ]
  },
  {
   "cell_type": "markdown",
   "id": "6bfb204a",
   "metadata": {},
   "source": [
    "### Далее проведем разделение для создания программы лояльности.\n",
    "### Поделим клиентов на категории \"Высокая лояльность\", \"Средняя лояльность\", \"Низкая лояльность\".\n"
   ]
  },
  {
   "cell_type": "code",
   "execution_count": 37,
   "id": "c014a3e8",
   "metadata": {},
   "outputs": [
    {
     "data": {
      "text/html": [
       "<div>\n",
       "<style scoped>\n",
       "    .dataframe tbody tr th:only-of-type {\n",
       "        vertical-align: middle;\n",
       "    }\n",
       "\n",
       "    .dataframe tbody tr th {\n",
       "        vertical-align: top;\n",
       "    }\n",
       "\n",
       "    .dataframe thead th {\n",
       "        text-align: right;\n",
       "    }\n",
       "</style>\n",
       "<table border=\"1\" class=\"dataframe\">\n",
       "  <thead>\n",
       "    <tr style=\"text-align: right;\">\n",
       "      <th></th>\n",
       "      <th>customer_id</th>\n",
       "      <th>Recency</th>\n",
       "      <th>Frequency</th>\n",
       "      <th>Monetary</th>\n",
       "      <th>R_Quartile</th>\n",
       "      <th>F_Quartile</th>\n",
       "      <th>M_Quartile</th>\n",
       "      <th>RFMClass</th>\n",
       "      <th>Segment</th>\n",
       "      <th>Loyalty</th>\n",
       "    </tr>\n",
       "  </thead>\n",
       "  <tbody>\n",
       "    <tr>\n",
       "      <th>0</th>\n",
       "      <td>12346.0</td>\n",
       "      <td>164</td>\n",
       "      <td>11</td>\n",
       "      <td>372.86</td>\n",
       "      <td>1</td>\n",
       "      <td>4</td>\n",
       "      <td>2</td>\n",
       "      <td>142</td>\n",
       "      <td>Сегмент 4</td>\n",
       "      <td>Низкая лояльность</td>\n",
       "    </tr>\n",
       "    <tr>\n",
       "      <th>1</th>\n",
       "      <td>12347.0</td>\n",
       "      <td>2</td>\n",
       "      <td>2</td>\n",
       "      <td>1323.32</td>\n",
       "      <td>4</td>\n",
       "      <td>2</td>\n",
       "      <td>3</td>\n",
       "      <td>423</td>\n",
       "      <td>Сегмент 1</td>\n",
       "      <td>Средняя лояльность</td>\n",
       "    </tr>\n",
       "    <tr>\n",
       "      <th>2</th>\n",
       "      <td>12348.0</td>\n",
       "      <td>73</td>\n",
       "      <td>1</td>\n",
       "      <td>222.16</td>\n",
       "      <td>2</td>\n",
       "      <td>1</td>\n",
       "      <td>1</td>\n",
       "      <td>211</td>\n",
       "      <td>Сегмент 3</td>\n",
       "      <td>Низкая лояльность</td>\n",
       "    </tr>\n",
       "    <tr>\n",
       "      <th>3</th>\n",
       "      <td>12349.0</td>\n",
       "      <td>42</td>\n",
       "      <td>3</td>\n",
       "      <td>2671.14</td>\n",
       "      <td>3</td>\n",
       "      <td>3</td>\n",
       "      <td>4</td>\n",
       "      <td>334</td>\n",
       "      <td>Сегмент 2</td>\n",
       "      <td>Высокая лояльность</td>\n",
       "    </tr>\n",
       "    <tr>\n",
       "      <th>4</th>\n",
       "      <td>12351.0</td>\n",
       "      <td>10</td>\n",
       "      <td>1</td>\n",
       "      <td>300.93</td>\n",
       "      <td>4</td>\n",
       "      <td>1</td>\n",
       "      <td>1</td>\n",
       "      <td>411</td>\n",
       "      <td>Сегмент 1</td>\n",
       "      <td>Низкая лояльность</td>\n",
       "    </tr>\n",
       "  </tbody>\n",
       "</table>\n",
       "</div>"
      ],
      "text/plain": [
       "   customer_id  Recency  Frequency  Monetary  R_Quartile  F_Quartile  \\\n",
       "0      12346.0      164         11    372.86           1           4   \n",
       "1      12347.0        2          2   1323.32           4           2   \n",
       "2      12348.0       73          1    222.16           2           1   \n",
       "3      12349.0       42          3   2671.14           3           3   \n",
       "4      12351.0       10          1    300.93           4           1   \n",
       "\n",
       "   M_Quartile RFMClass    Segment             Loyalty  \n",
       "0           2      142  Сегмент 4   Низкая лояльность  \n",
       "1           3      423  Сегмент 1  Средняя лояльность  \n",
       "2           1      211  Сегмент 3   Низкая лояльность  \n",
       "3           4      334  Сегмент 2  Высокая лояльность  \n",
       "4           1      411  Сегмент 1   Низкая лояльность  "
      ]
     },
     "execution_count": 37,
     "metadata": {},
     "output_type": "execute_result"
    }
   ],
   "source": [
    "def FMclasss(a, b, c):\n",
    "    if a > 2 and b > 2 and c > 2: \n",
    "        return \"Высокая лояльность\"\n",
    "    elif a > 1 and b > 3 and c > 3: \n",
    "        return \"Высокая лояльность\"\n",
    "    elif a > 1 and b > 1 and c > 1: \n",
    "        return \"Средняя лояльность\"\n",
    "    elif a > 3 and b > 3 and c > 1:\n",
    "        return \"Средняя лояльность\"\n",
    "    else :\n",
    "        return \"Низкая лояльность\"\n",
    "\n",
    "\n",
    "    \n",
    "RFM_Segment['Loyalty'] = RFM_Segment.apply(lambda row: FMclasss(row['R_Quartile'], row['F_Quartile'], row['M_Quartile']), axis=1)\n",
    "\n",
    "\n",
    "RFM_Segment.head()"
   ]
  },
  {
   "cell_type": "code",
   "execution_count": 38,
   "id": "d6b77194",
   "metadata": {},
   "outputs": [
    {
     "data": {
      "text/html": [
       "<div>\n",
       "<style scoped>\n",
       "    .dataframe tbody tr th:only-of-type {\n",
       "        vertical-align: middle;\n",
       "    }\n",
       "\n",
       "    .dataframe tbody tr th {\n",
       "        vertical-align: top;\n",
       "    }\n",
       "\n",
       "    .dataframe thead th {\n",
       "        text-align: right;\n",
       "    }\n",
       "</style>\n",
       "<table border=\"1\" class=\"dataframe\">\n",
       "  <thead>\n",
       "    <tr style=\"text-align: right;\">\n",
       "      <th></th>\n",
       "      <th>customer_id</th>\n",
       "      <th>Loyalty</th>\n",
       "    </tr>\n",
       "  </thead>\n",
       "  <tbody>\n",
       "    <tr>\n",
       "      <th>4311</th>\n",
       "      <td>18287.0</td>\n",
       "      <td>Высокая лояльность</td>\n",
       "    </tr>\n",
       "    <tr>\n",
       "      <th>3109</th>\n",
       "      <td>16655.0</td>\n",
       "      <td>Высокая лояльность</td>\n",
       "    </tr>\n",
       "    <tr>\n",
       "      <th>1349</th>\n",
       "      <td>14258.0</td>\n",
       "      <td>Высокая лояльность</td>\n",
       "    </tr>\n",
       "    <tr>\n",
       "      <th>1348</th>\n",
       "      <td>14257.0</td>\n",
       "      <td>Высокая лояльность</td>\n",
       "    </tr>\n",
       "    <tr>\n",
       "      <th>3110</th>\n",
       "      <td>16656.0</td>\n",
       "      <td>Высокая лояльность</td>\n",
       "    </tr>\n",
       "    <tr>\n",
       "      <th>...</th>\n",
       "      <td>...</td>\n",
       "      <td>...</td>\n",
       "    </tr>\n",
       "    <tr>\n",
       "      <th>3186</th>\n",
       "      <td>16769.0</td>\n",
       "      <td>Средняя лояльность</td>\n",
       "    </tr>\n",
       "    <tr>\n",
       "      <th>1261</th>\n",
       "      <td>14145.0</td>\n",
       "      <td>Средняя лояльность</td>\n",
       "    </tr>\n",
       "    <tr>\n",
       "      <th>3184</th>\n",
       "      <td>16767.0</td>\n",
       "      <td>Средняя лояльность</td>\n",
       "    </tr>\n",
       "    <tr>\n",
       "      <th>3197</th>\n",
       "      <td>16781.0</td>\n",
       "      <td>Средняя лояльность</td>\n",
       "    </tr>\n",
       "    <tr>\n",
       "      <th>2155</th>\n",
       "      <td>15350.0</td>\n",
       "      <td>Средняя лояльность</td>\n",
       "    </tr>\n",
       "  </tbody>\n",
       "</table>\n",
       "<p>4312 rows × 2 columns</p>\n",
       "</div>"
      ],
      "text/plain": [
       "      customer_id             Loyalty\n",
       "4311      18287.0  Высокая лояльность\n",
       "3109      16655.0  Высокая лояльность\n",
       "1349      14258.0  Высокая лояльность\n",
       "1348      14257.0  Высокая лояльность\n",
       "3110      16656.0  Высокая лояльность\n",
       "...           ...                 ...\n",
       "3186      16769.0  Средняя лояльность\n",
       "1261      14145.0  Средняя лояльность\n",
       "3184      16767.0  Средняя лояльность\n",
       "3197      16781.0  Средняя лояльность\n",
       "2155      15350.0  Средняя лояльность\n",
       "\n",
       "[4312 rows x 2 columns]"
      ]
     },
     "execution_count": 38,
     "metadata": {},
     "output_type": "execute_result"
    }
   ],
   "source": [
    "for_marketing_loyalty = RFM_Segment[['customer_id', 'Loyalty']].sort_values(by = 'Loyalty')\n",
    "for_marketing_loyalty"
   ]
  },
  {
   "cell_type": "code",
   "execution_count": 39,
   "id": "685a9c44",
   "metadata": {},
   "outputs": [
    {
     "data": {
      "text/html": [
       "<div>\n",
       "<style scoped>\n",
       "    .dataframe tbody tr th:only-of-type {\n",
       "        vertical-align: middle;\n",
       "    }\n",
       "\n",
       "    .dataframe tbody tr th {\n",
       "        vertical-align: top;\n",
       "    }\n",
       "\n",
       "    .dataframe thead th {\n",
       "        text-align: right;\n",
       "    }\n",
       "</style>\n",
       "<table border=\"1\" class=\"dataframe\">\n",
       "  <thead>\n",
       "    <tr style=\"text-align: right;\">\n",
       "      <th></th>\n",
       "      <th>Loyalty</th>\n",
       "      <th>customer_id</th>\n",
       "      <th>% of all</th>\n",
       "    </tr>\n",
       "  </thead>\n",
       "  <tbody>\n",
       "    <tr>\n",
       "      <th>2</th>\n",
       "      <td>Средняя лояльность</td>\n",
       "      <td>1003</td>\n",
       "      <td>23.26</td>\n",
       "    </tr>\n",
       "    <tr>\n",
       "      <th>0</th>\n",
       "      <td>Высокая лояльность</td>\n",
       "      <td>1370</td>\n",
       "      <td>31.77</td>\n",
       "    </tr>\n",
       "    <tr>\n",
       "      <th>1</th>\n",
       "      <td>Низкая лояльность</td>\n",
       "      <td>1939</td>\n",
       "      <td>44.97</td>\n",
       "    </tr>\n",
       "  </tbody>\n",
       "</table>\n",
       "</div>"
      ],
      "text/plain": [
       "              Loyalty  customer_id  % of all\n",
       "2  Средняя лояльность         1003     23.26\n",
       "0  Высокая лояльность         1370     31.77\n",
       "1   Низкая лояльность         1939     44.97"
      ]
     },
     "execution_count": 39,
     "metadata": {},
     "output_type": "execute_result"
    }
   ],
   "source": [
    "segments = RFM_Segment.groupby(by='Loyalty', as_index=False)['customer_id'].count()\n",
    "segments['% of all'] = round(segments['customer_id']/segments['customer_id'].sum()*100,2)\n",
    "segments.sort_values(by = '% of all')"
   ]
  },
  {
   "cell_type": "markdown",
   "id": "83441de9",
   "metadata": {},
   "source": [
    "# Вывод: "
   ]
  },
  {
   "cell_type": "markdown",
   "id": "bc2f66d9",
   "metadata": {},
   "source": [
    "На основе RFM анализа мы распределили клиентов по показателям частоты покупок, давности покупки и суммы покупок. \n",
    "На основании этого мы вывели 4 сегмента для проведения рассылки.\n",
    "\n",
    "-К 1 сегменту относятся клиенты, которые совсем недавно совершали покупку - на них не стоит распростронять рассылку;\n",
    "\n",
    "-Сегмент 2 требует ненавязчивую рассылку-напоминаие о себе;\n",
    "\n",
    "-Сегмент 3 в свою очередь является почти утеренным сегментом клиентов,\n",
    "по отношению к ним можно применить рассылку с промо-акцией или скидками; \n",
    "\n",
    "-Сегмент 4 можно считать утерянным, этот сегмент уже \n",
    "не требует рассылки.\n",
    "\n",
    "Также для разработки программы лояльнольности была проведена сегментация клиентов по всем трем показателям RFM - анализа. \n",
    "\n",
    "-Клиенты из сегмента \"Высокая лояльность\" более склонны к частым и дорогим покупкам, в отношении них можно развить систему дополнительных продаж. \n",
    "\n",
    "-Клиенты из сегмента \" Средняя лояльность\" требует внимания, так как все показатели RFM у этого сегмента находятся по середине. Требует более детального изучения.\n",
    "\n",
    "-Клиенты из сегмента \"Низкая лояльность\" не отличается частотой дорогих покупок, требует более детального изучения для понимание специфики этого сегмента."
   ]
  }
 ],
 "metadata": {
  "kernelspec": {
   "display_name": "Python 3 (ipykernel)",
   "language": "python",
   "name": "python3"
  },
  "language_info": {
   "codemirror_mode": {
    "name": "ipython",
    "version": 3
   },
   "file_extension": ".py",
   "mimetype": "text/x-python",
   "name": "python",
   "nbconvert_exporter": "python",
   "pygments_lexer": "ipython3",
   "version": "3.11.4"
  }
 },
 "nbformat": 4,
 "nbformat_minor": 5
}
