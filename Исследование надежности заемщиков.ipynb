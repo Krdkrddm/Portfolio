{
 "cells": [
  {
   "cell_type": "markdown",
   "id": "386f2ae7",
   "metadata": {
    "deletable": false,
    "editable": false,
    "id": "386f2ae7"
   },
   "source": [
    "# Исследование надежности заемщиков\n"
   ]
  },
  {
   "cell_type": "markdown",
   "id": "ffe86f65",
   "metadata": {
    "deletable": false,
    "editable": false,
    "id": "ffe86f65"
   },
   "source": [
    "Во второй части проекта вы выполните шаги 3 и 4. Их вручную проверит ревьюер.\n",
    "Чтобы вам не пришлось писать код заново для шагов 1 и 2, мы добавили авторские решения в ячейки с кодом. \n",
    "\n"
   ]
  },
  {
   "cell_type": "markdown",
   "id": "26613308",
   "metadata": {
    "deletable": false,
    "editable": false,
    "id": "26613308"
   },
   "source": [
    "## Откройте таблицу и изучите общую информацию о данных"
   ]
  },
  {
   "cell_type": "markdown",
   "id": "3c9f838e",
   "metadata": {
    "deletable": false,
    "editable": false,
    "id": "3c9f838e"
   },
   "source": [
    "**Задание 1. Импортируйте библиотеку pandas. Считайте данные из csv-файла в датафрейм и сохраните в переменную `data`. Путь к файлу:**\n",
    "\n",
    "`/datasets/data.csv`"
   ]
  },
  {
   "cell_type": "code",
   "execution_count": 1,
   "id": "77a68a90",
   "metadata": {
    "deletable": false,
    "id": "77a68a90"
   },
   "outputs": [],
   "source": [
    "import pandas as pd\n",
    "\n",
    "try:\n",
    "    data = pd.read_csv('/datasets/data.csv')\n",
    "except:\n",
    "    data = pd.read_csv('https://code.s3.yandex.net/datasets/data.csv')"
   ]
  },
  {
   "cell_type": "markdown",
   "id": "45365635",
   "metadata": {
    "deletable": false,
    "editable": false,
    "id": "45365635"
   },
   "source": [
    "**Задание 2. Выведите первые 20 строчек датафрейма `data` на экран.**"
   ]
  },
  {
   "cell_type": "code",
   "execution_count": 2,
   "id": "b0451a9a",
   "metadata": {
    "deletable": false,
    "id": "b0451a9a",
    "outputId": "1a8f3ef2-d323-4ec2-ddf7-89670b5944c4"
   },
   "outputs": [
    {
     "data": {
      "text/html": [
       "<div>\n",
       "<style scoped>\n",
       "    .dataframe tbody tr th:only-of-type {\n",
       "        vertical-align: middle;\n",
       "    }\n",
       "\n",
       "    .dataframe tbody tr th {\n",
       "        vertical-align: top;\n",
       "    }\n",
       "\n",
       "    .dataframe thead th {\n",
       "        text-align: right;\n",
       "    }\n",
       "</style>\n",
       "<table border=\"1\" class=\"dataframe\">\n",
       "  <thead>\n",
       "    <tr style=\"text-align: right;\">\n",
       "      <th></th>\n",
       "      <th>children</th>\n",
       "      <th>days_employed</th>\n",
       "      <th>dob_years</th>\n",
       "      <th>education</th>\n",
       "      <th>education_id</th>\n",
       "      <th>family_status</th>\n",
       "      <th>family_status_id</th>\n",
       "      <th>gender</th>\n",
       "      <th>income_type</th>\n",
       "      <th>debt</th>\n",
       "      <th>total_income</th>\n",
       "      <th>purpose</th>\n",
       "    </tr>\n",
       "  </thead>\n",
       "  <tbody>\n",
       "    <tr>\n",
       "      <th>0</th>\n",
       "      <td>1</td>\n",
       "      <td>-8437.673028</td>\n",
       "      <td>42</td>\n",
       "      <td>высшее</td>\n",
       "      <td>0</td>\n",
       "      <td>женат / замужем</td>\n",
       "      <td>0</td>\n",
       "      <td>F</td>\n",
       "      <td>сотрудник</td>\n",
       "      <td>0</td>\n",
       "      <td>253875.639453</td>\n",
       "      <td>покупка жилья</td>\n",
       "    </tr>\n",
       "    <tr>\n",
       "      <th>1</th>\n",
       "      <td>1</td>\n",
       "      <td>-4024.803754</td>\n",
       "      <td>36</td>\n",
       "      <td>среднее</td>\n",
       "      <td>1</td>\n",
       "      <td>женат / замужем</td>\n",
       "      <td>0</td>\n",
       "      <td>F</td>\n",
       "      <td>сотрудник</td>\n",
       "      <td>0</td>\n",
       "      <td>112080.014102</td>\n",
       "      <td>приобретение автомобиля</td>\n",
       "    </tr>\n",
       "    <tr>\n",
       "      <th>2</th>\n",
       "      <td>0</td>\n",
       "      <td>-5623.422610</td>\n",
       "      <td>33</td>\n",
       "      <td>Среднее</td>\n",
       "      <td>1</td>\n",
       "      <td>женат / замужем</td>\n",
       "      <td>0</td>\n",
       "      <td>M</td>\n",
       "      <td>сотрудник</td>\n",
       "      <td>0</td>\n",
       "      <td>145885.952297</td>\n",
       "      <td>покупка жилья</td>\n",
       "    </tr>\n",
       "    <tr>\n",
       "      <th>3</th>\n",
       "      <td>3</td>\n",
       "      <td>-4124.747207</td>\n",
       "      <td>32</td>\n",
       "      <td>среднее</td>\n",
       "      <td>1</td>\n",
       "      <td>женат / замужем</td>\n",
       "      <td>0</td>\n",
       "      <td>M</td>\n",
       "      <td>сотрудник</td>\n",
       "      <td>0</td>\n",
       "      <td>267628.550329</td>\n",
       "      <td>дополнительное образование</td>\n",
       "    </tr>\n",
       "    <tr>\n",
       "      <th>4</th>\n",
       "      <td>0</td>\n",
       "      <td>340266.072047</td>\n",
       "      <td>53</td>\n",
       "      <td>среднее</td>\n",
       "      <td>1</td>\n",
       "      <td>гражданский брак</td>\n",
       "      <td>1</td>\n",
       "      <td>F</td>\n",
       "      <td>пенсионер</td>\n",
       "      <td>0</td>\n",
       "      <td>158616.077870</td>\n",
       "      <td>сыграть свадьбу</td>\n",
       "    </tr>\n",
       "    <tr>\n",
       "      <th>5</th>\n",
       "      <td>0</td>\n",
       "      <td>-926.185831</td>\n",
       "      <td>27</td>\n",
       "      <td>высшее</td>\n",
       "      <td>0</td>\n",
       "      <td>гражданский брак</td>\n",
       "      <td>1</td>\n",
       "      <td>M</td>\n",
       "      <td>компаньон</td>\n",
       "      <td>0</td>\n",
       "      <td>255763.565419</td>\n",
       "      <td>покупка жилья</td>\n",
       "    </tr>\n",
       "    <tr>\n",
       "      <th>6</th>\n",
       "      <td>0</td>\n",
       "      <td>-2879.202052</td>\n",
       "      <td>43</td>\n",
       "      <td>высшее</td>\n",
       "      <td>0</td>\n",
       "      <td>женат / замужем</td>\n",
       "      <td>0</td>\n",
       "      <td>F</td>\n",
       "      <td>компаньон</td>\n",
       "      <td>0</td>\n",
       "      <td>240525.971920</td>\n",
       "      <td>операции с жильем</td>\n",
       "    </tr>\n",
       "    <tr>\n",
       "      <th>7</th>\n",
       "      <td>0</td>\n",
       "      <td>-152.779569</td>\n",
       "      <td>50</td>\n",
       "      <td>СРЕДНЕЕ</td>\n",
       "      <td>1</td>\n",
       "      <td>женат / замужем</td>\n",
       "      <td>0</td>\n",
       "      <td>M</td>\n",
       "      <td>сотрудник</td>\n",
       "      <td>0</td>\n",
       "      <td>135823.934197</td>\n",
       "      <td>образование</td>\n",
       "    </tr>\n",
       "    <tr>\n",
       "      <th>8</th>\n",
       "      <td>2</td>\n",
       "      <td>-6929.865299</td>\n",
       "      <td>35</td>\n",
       "      <td>ВЫСШЕЕ</td>\n",
       "      <td>0</td>\n",
       "      <td>гражданский брак</td>\n",
       "      <td>1</td>\n",
       "      <td>F</td>\n",
       "      <td>сотрудник</td>\n",
       "      <td>0</td>\n",
       "      <td>95856.832424</td>\n",
       "      <td>на проведение свадьбы</td>\n",
       "    </tr>\n",
       "    <tr>\n",
       "      <th>9</th>\n",
       "      <td>0</td>\n",
       "      <td>-2188.756445</td>\n",
       "      <td>41</td>\n",
       "      <td>среднее</td>\n",
       "      <td>1</td>\n",
       "      <td>женат / замужем</td>\n",
       "      <td>0</td>\n",
       "      <td>M</td>\n",
       "      <td>сотрудник</td>\n",
       "      <td>0</td>\n",
       "      <td>144425.938277</td>\n",
       "      <td>покупка жилья для семьи</td>\n",
       "    </tr>\n",
       "    <tr>\n",
       "      <th>10</th>\n",
       "      <td>2</td>\n",
       "      <td>-4171.483647</td>\n",
       "      <td>36</td>\n",
       "      <td>высшее</td>\n",
       "      <td>0</td>\n",
       "      <td>женат / замужем</td>\n",
       "      <td>0</td>\n",
       "      <td>M</td>\n",
       "      <td>компаньон</td>\n",
       "      <td>0</td>\n",
       "      <td>113943.491460</td>\n",
       "      <td>покупка недвижимости</td>\n",
       "    </tr>\n",
       "    <tr>\n",
       "      <th>11</th>\n",
       "      <td>0</td>\n",
       "      <td>-792.701887</td>\n",
       "      <td>40</td>\n",
       "      <td>среднее</td>\n",
       "      <td>1</td>\n",
       "      <td>женат / замужем</td>\n",
       "      <td>0</td>\n",
       "      <td>F</td>\n",
       "      <td>сотрудник</td>\n",
       "      <td>0</td>\n",
       "      <td>77069.234271</td>\n",
       "      <td>покупка коммерческой недвижимости</td>\n",
       "    </tr>\n",
       "    <tr>\n",
       "      <th>12</th>\n",
       "      <td>0</td>\n",
       "      <td>NaN</td>\n",
       "      <td>65</td>\n",
       "      <td>среднее</td>\n",
       "      <td>1</td>\n",
       "      <td>гражданский брак</td>\n",
       "      <td>1</td>\n",
       "      <td>M</td>\n",
       "      <td>пенсионер</td>\n",
       "      <td>0</td>\n",
       "      <td>NaN</td>\n",
       "      <td>сыграть свадьбу</td>\n",
       "    </tr>\n",
       "    <tr>\n",
       "      <th>13</th>\n",
       "      <td>0</td>\n",
       "      <td>-1846.641941</td>\n",
       "      <td>54</td>\n",
       "      <td>неоконченное высшее</td>\n",
       "      <td>2</td>\n",
       "      <td>женат / замужем</td>\n",
       "      <td>0</td>\n",
       "      <td>F</td>\n",
       "      <td>сотрудник</td>\n",
       "      <td>0</td>\n",
       "      <td>130458.228857</td>\n",
       "      <td>приобретение автомобиля</td>\n",
       "    </tr>\n",
       "    <tr>\n",
       "      <th>14</th>\n",
       "      <td>0</td>\n",
       "      <td>-1844.956182</td>\n",
       "      <td>56</td>\n",
       "      <td>высшее</td>\n",
       "      <td>0</td>\n",
       "      <td>гражданский брак</td>\n",
       "      <td>1</td>\n",
       "      <td>F</td>\n",
       "      <td>компаньон</td>\n",
       "      <td>1</td>\n",
       "      <td>165127.911772</td>\n",
       "      <td>покупка жилой недвижимости</td>\n",
       "    </tr>\n",
       "    <tr>\n",
       "      <th>15</th>\n",
       "      <td>1</td>\n",
       "      <td>-972.364419</td>\n",
       "      <td>26</td>\n",
       "      <td>среднее</td>\n",
       "      <td>1</td>\n",
       "      <td>женат / замужем</td>\n",
       "      <td>0</td>\n",
       "      <td>F</td>\n",
       "      <td>сотрудник</td>\n",
       "      <td>0</td>\n",
       "      <td>116820.904450</td>\n",
       "      <td>строительство собственной недвижимости</td>\n",
       "    </tr>\n",
       "    <tr>\n",
       "      <th>16</th>\n",
       "      <td>0</td>\n",
       "      <td>-1719.934226</td>\n",
       "      <td>35</td>\n",
       "      <td>среднее</td>\n",
       "      <td>1</td>\n",
       "      <td>женат / замужем</td>\n",
       "      <td>0</td>\n",
       "      <td>F</td>\n",
       "      <td>сотрудник</td>\n",
       "      <td>0</td>\n",
       "      <td>289202.704229</td>\n",
       "      <td>недвижимость</td>\n",
       "    </tr>\n",
       "    <tr>\n",
       "      <th>17</th>\n",
       "      <td>0</td>\n",
       "      <td>-2369.999720</td>\n",
       "      <td>33</td>\n",
       "      <td>высшее</td>\n",
       "      <td>0</td>\n",
       "      <td>гражданский брак</td>\n",
       "      <td>1</td>\n",
       "      <td>M</td>\n",
       "      <td>сотрудник</td>\n",
       "      <td>0</td>\n",
       "      <td>90410.586745</td>\n",
       "      <td>строительство недвижимости</td>\n",
       "    </tr>\n",
       "    <tr>\n",
       "      <th>18</th>\n",
       "      <td>0</td>\n",
       "      <td>400281.136913</td>\n",
       "      <td>53</td>\n",
       "      <td>среднее</td>\n",
       "      <td>1</td>\n",
       "      <td>вдовец / вдова</td>\n",
       "      <td>2</td>\n",
       "      <td>F</td>\n",
       "      <td>пенсионер</td>\n",
       "      <td>0</td>\n",
       "      <td>56823.777243</td>\n",
       "      <td>на покупку подержанного автомобиля</td>\n",
       "    </tr>\n",
       "    <tr>\n",
       "      <th>19</th>\n",
       "      <td>0</td>\n",
       "      <td>-10038.818549</td>\n",
       "      <td>48</td>\n",
       "      <td>СРЕДНЕЕ</td>\n",
       "      <td>1</td>\n",
       "      <td>в разводе</td>\n",
       "      <td>3</td>\n",
       "      <td>F</td>\n",
       "      <td>сотрудник</td>\n",
       "      <td>0</td>\n",
       "      <td>242831.107982</td>\n",
       "      <td>на покупку своего автомобиля</td>\n",
       "    </tr>\n",
       "  </tbody>\n",
       "</table>\n",
       "</div>"
      ],
      "text/plain": [
       "    children  days_employed  dob_years            education  education_id  \\\n",
       "0          1   -8437.673028         42               высшее             0   \n",
       "1          1   -4024.803754         36              среднее             1   \n",
       "2          0   -5623.422610         33              Среднее             1   \n",
       "3          3   -4124.747207         32              среднее             1   \n",
       "4          0  340266.072047         53              среднее             1   \n",
       "5          0    -926.185831         27               высшее             0   \n",
       "6          0   -2879.202052         43               высшее             0   \n",
       "7          0    -152.779569         50              СРЕДНЕЕ             1   \n",
       "8          2   -6929.865299         35               ВЫСШЕЕ             0   \n",
       "9          0   -2188.756445         41              среднее             1   \n",
       "10         2   -4171.483647         36               высшее             0   \n",
       "11         0    -792.701887         40              среднее             1   \n",
       "12         0            NaN         65              среднее             1   \n",
       "13         0   -1846.641941         54  неоконченное высшее             2   \n",
       "14         0   -1844.956182         56               высшее             0   \n",
       "15         1    -972.364419         26              среднее             1   \n",
       "16         0   -1719.934226         35              среднее             1   \n",
       "17         0   -2369.999720         33               высшее             0   \n",
       "18         0  400281.136913         53              среднее             1   \n",
       "19         0  -10038.818549         48              СРЕДНЕЕ             1   \n",
       "\n",
       "       family_status  family_status_id gender income_type  debt  \\\n",
       "0    женат / замужем                 0      F   сотрудник     0   \n",
       "1    женат / замужем                 0      F   сотрудник     0   \n",
       "2    женат / замужем                 0      M   сотрудник     0   \n",
       "3    женат / замужем                 0      M   сотрудник     0   \n",
       "4   гражданский брак                 1      F   пенсионер     0   \n",
       "5   гражданский брак                 1      M   компаньон     0   \n",
       "6    женат / замужем                 0      F   компаньон     0   \n",
       "7    женат / замужем                 0      M   сотрудник     0   \n",
       "8   гражданский брак                 1      F   сотрудник     0   \n",
       "9    женат / замужем                 0      M   сотрудник     0   \n",
       "10   женат / замужем                 0      M   компаньон     0   \n",
       "11   женат / замужем                 0      F   сотрудник     0   \n",
       "12  гражданский брак                 1      M   пенсионер     0   \n",
       "13   женат / замужем                 0      F   сотрудник     0   \n",
       "14  гражданский брак                 1      F   компаньон     1   \n",
       "15   женат / замужем                 0      F   сотрудник     0   \n",
       "16   женат / замужем                 0      F   сотрудник     0   \n",
       "17  гражданский брак                 1      M   сотрудник     0   \n",
       "18    вдовец / вдова                 2      F   пенсионер     0   \n",
       "19         в разводе                 3      F   сотрудник     0   \n",
       "\n",
       "     total_income                                 purpose  \n",
       "0   253875.639453                           покупка жилья  \n",
       "1   112080.014102                 приобретение автомобиля  \n",
       "2   145885.952297                           покупка жилья  \n",
       "3   267628.550329              дополнительное образование  \n",
       "4   158616.077870                         сыграть свадьбу  \n",
       "5   255763.565419                           покупка жилья  \n",
       "6   240525.971920                       операции с жильем  \n",
       "7   135823.934197                             образование  \n",
       "8    95856.832424                   на проведение свадьбы  \n",
       "9   144425.938277                 покупка жилья для семьи  \n",
       "10  113943.491460                    покупка недвижимости  \n",
       "11   77069.234271       покупка коммерческой недвижимости  \n",
       "12            NaN                         сыграть свадьбу  \n",
       "13  130458.228857                 приобретение автомобиля  \n",
       "14  165127.911772              покупка жилой недвижимости  \n",
       "15  116820.904450  строительство собственной недвижимости  \n",
       "16  289202.704229                            недвижимость  \n",
       "17   90410.586745              строительство недвижимости  \n",
       "18   56823.777243      на покупку подержанного автомобиля  \n",
       "19  242831.107982            на покупку своего автомобиля  "
      ]
     },
     "execution_count": 2,
     "metadata": {},
     "output_type": "execute_result"
    }
   ],
   "source": [
    "data.head(20)"
   ]
  },
  {
   "cell_type": "markdown",
   "id": "0ed8f27f",
   "metadata": {
    "deletable": false,
    "editable": false,
    "id": "0ed8f27f"
   },
   "source": [
    "**Задание 3. Выведите основную информацию о датафрейме с помощью метода `info()`.**"
   ]
  },
  {
   "cell_type": "code",
   "execution_count": 3,
   "id": "ab3f863b",
   "metadata": {
    "deletable": false,
    "id": "ab3f863b",
    "outputId": "15376089-8dad-46c9-b520-c05248d43158"
   },
   "outputs": [
    {
     "name": "stdout",
     "output_type": "stream",
     "text": [
      "<class 'pandas.core.frame.DataFrame'>\n",
      "RangeIndex: 21525 entries, 0 to 21524\n",
      "Data columns (total 12 columns):\n",
      " #   Column            Non-Null Count  Dtype  \n",
      "---  ------            --------------  -----  \n",
      " 0   children          21525 non-null  int64  \n",
      " 1   days_employed     19351 non-null  float64\n",
      " 2   dob_years         21525 non-null  int64  \n",
      " 3   education         21525 non-null  object \n",
      " 4   education_id      21525 non-null  int64  \n",
      " 5   family_status     21525 non-null  object \n",
      " 6   family_status_id  21525 non-null  int64  \n",
      " 7   gender            21525 non-null  object \n",
      " 8   income_type       21525 non-null  object \n",
      " 9   debt              21525 non-null  int64  \n",
      " 10  total_income      19351 non-null  float64\n",
      " 11  purpose           21525 non-null  object \n",
      "dtypes: float64(2), int64(5), object(5)\n",
      "memory usage: 2.0+ MB\n"
     ]
    }
   ],
   "source": [
    "data.info()"
   ]
  },
  {
   "cell_type": "markdown",
   "id": "60e3e22d",
   "metadata": {
    "deletable": false,
    "editable": false,
    "id": "60e3e22d"
   },
   "source": [
    "## Предобработка данных"
   ]
  },
  {
   "cell_type": "markdown",
   "id": "03dc170c",
   "metadata": {
    "deletable": false,
    "editable": false,
    "id": "03dc170c"
   },
   "source": [
    "### Удаление пропусков"
   ]
  },
  {
   "cell_type": "markdown",
   "id": "a4f54eef",
   "metadata": {
    "deletable": false,
    "editable": false,
    "id": "a4f54eef"
   },
   "source": [
    "**Задание 4. Выведите количество пропущенных значений для каждого столбца. Используйте комбинацию двух методов.**"
   ]
  },
  {
   "cell_type": "code",
   "execution_count": 4,
   "id": "2dc372b2",
   "metadata": {
    "deletable": false,
    "id": "2dc372b2",
    "outputId": "81f4d817-781c-465c-ed15-91ce4446810d"
   },
   "outputs": [
    {
     "data": {
      "text/plain": [
       "children               0\n",
       "days_employed       2174\n",
       "dob_years              0\n",
       "education              0\n",
       "education_id           0\n",
       "family_status          0\n",
       "family_status_id       0\n",
       "gender                 0\n",
       "income_type            0\n",
       "debt                   0\n",
       "total_income        2174\n",
       "purpose                0\n",
       "dtype: int64"
      ]
     },
     "execution_count": 4,
     "metadata": {},
     "output_type": "execute_result"
    }
   ],
   "source": [
    "data.isna().sum()"
   ]
  },
  {
   "cell_type": "markdown",
   "id": "14f011b1",
   "metadata": {
    "deletable": false,
    "editable": false,
    "id": "14f011b1"
   },
   "source": [
    "**Задание 5. В двух столбцах есть пропущенные значения. Один из них — `days_employed`. Пропуски в этом столбце вы обработаете на следующем этапе. Другой столбец с пропущенными значениями — `total_income` — хранит данные о доходах. На сумму дохода сильнее всего влияет тип занятости, поэтому заполнить пропуски в этом столбце нужно медианным значением по каждому типу из столбца `income_type`. Например, у человека с типом занятости `сотрудник` пропуск в столбце `total_income` должен быть заполнен медианным доходом среди всех записей с тем же типом.**"
   ]
  },
  {
   "cell_type": "code",
   "execution_count": 5,
   "id": "bdabfb6e",
   "metadata": {
    "deletable": false,
    "id": "bdabfb6e"
   },
   "outputs": [],
   "source": [
    "for t in data['income_type'].unique():\n",
    "    data.loc[(data['income_type'] == t) & (data['total_income'].isna()), 'total_income'] = \\\n",
    "    data.loc[(data['income_type'] == t), 'total_income'].median()"
   ]
  },
  {
   "cell_type": "markdown",
   "id": "5be34059",
   "metadata": {
    "deletable": false,
    "editable": false,
    "id": "5be34059"
   },
   "source": [
    "### Обработка аномальных значений"
   ]
  },
  {
   "cell_type": "markdown",
   "id": "a87606cb",
   "metadata": {
    "deletable": false,
    "editable": false,
    "id": "a87606cb"
   },
   "source": [
    "**Задание 6. В данных могут встречаться артефакты (аномалии) — значения, которые не отражают действительность и появились по какой-то ошибке. таким артефактом будет отрицательное количество дней трудового стажа в столбце `days_employed`. Для реальных данных это нормально. Обработайте значения в этом столбце: замените все отрицательные значения положительными с помощью метода `abs()`.**"
   ]
  },
  {
   "cell_type": "code",
   "execution_count": 6,
   "id": "020c46cc",
   "metadata": {
    "deletable": false,
    "id": "020c46cc"
   },
   "outputs": [],
   "source": [
    "data['days_employed'] = data['days_employed'].abs()"
   ]
  },
  {
   "cell_type": "markdown",
   "id": "45538a3a",
   "metadata": {
    "deletable": false,
    "editable": false,
    "id": "45538a3a"
   },
   "source": [
    "**Задание 7. Для каждого типа занятости выведите медианное значение трудового стажа `days_employed` в днях.**"
   ]
  },
  {
   "cell_type": "code",
   "execution_count": 7,
   "id": "cd3e6328",
   "metadata": {
    "deletable": false,
    "id": "cd3e6328",
    "outputId": "801ef80e-522b-4668-f34e-565af7432bcf"
   },
   "outputs": [
    {
     "data": {
      "text/plain": [
       "income_type\n",
       "безработный        366413.652744\n",
       "в декрете            3296.759962\n",
       "госслужащий          2689.368353\n",
       "компаньон            1547.382223\n",
       "пенсионер          365213.306266\n",
       "предприниматель       520.848083\n",
       "сотрудник            1574.202821\n",
       "студент               578.751554\n",
       "Name: days_employed, dtype: float64"
      ]
     },
     "execution_count": 7,
     "metadata": {},
     "output_type": "execute_result"
    }
   ],
   "source": [
    "data.groupby('income_type')['days_employed'].agg('median')"
   ]
  },
  {
   "cell_type": "markdown",
   "id": "90c5f058",
   "metadata": {
    "deletable": false,
    "editable": false,
    "id": "90c5f058"
   },
   "source": [
    "У двух типов (безработные и пенсионеры) получатся аномально большие значения. Исправить такие значения сложно, поэтому оставьте их как есть."
   ]
  },
  {
   "cell_type": "markdown",
   "id": "9652e50d",
   "metadata": {
    "deletable": false,
    "editable": false,
    "id": "9652e50d"
   },
   "source": [
    "**Задание 8. Выведите перечень уникальных значений столбца `children`.**"
   ]
  },
  {
   "cell_type": "code",
   "execution_count": 8,
   "id": "dbb37b8e",
   "metadata": {
    "deletable": false,
    "id": "dbb37b8e",
    "outputId": "6975b15c-7f95-4697-d16d-a0c79b657b03"
   },
   "outputs": [
    {
     "data": {
      "text/plain": [
       "array([ 1,  0,  3,  2, -1,  4, 20,  5])"
      ]
     },
     "execution_count": 8,
     "metadata": {},
     "output_type": "execute_result"
    }
   ],
   "source": [
    "data['children'].unique()"
   ]
  },
  {
   "cell_type": "markdown",
   "id": "2b8b0715",
   "metadata": {
    "deletable": false,
    "editable": false,
    "id": "2b8b0715"
   },
   "source": [
    "**Задание 9. В столбце `children` есть два аномальных значения. Удалите строки, в которых встречаются такие аномальные значения из датафрейма `data`.**"
   ]
  },
  {
   "cell_type": "code",
   "execution_count": 9,
   "id": "20009df8",
   "metadata": {
    "deletable": false,
    "id": "20009df8"
   },
   "outputs": [],
   "source": [
    "data = data[(data['children'] != -1) & (data['children'] != 20)]"
   ]
  },
  {
   "cell_type": "markdown",
   "id": "8c6ac9f1",
   "metadata": {
    "deletable": false,
    "editable": false,
    "id": "8c6ac9f1"
   },
   "source": [
    "**Задание 10. Ещё раз выведите перечень уникальных значений столбца `children`, чтобы убедиться, что артефакты удалены.**"
   ]
  },
  {
   "cell_type": "code",
   "execution_count": 10,
   "id": "07337b81",
   "metadata": {
    "deletable": false,
    "id": "07337b81",
    "outputId": "b2097101-d49d-44d9-901b-32a65c9463d1"
   },
   "outputs": [
    {
     "data": {
      "text/plain": [
       "array([1, 0, 3, 2, 4, 5])"
      ]
     },
     "execution_count": 10,
     "metadata": {},
     "output_type": "execute_result"
    }
   ],
   "source": [
    "data['children'].unique()"
   ]
  },
  {
   "cell_type": "markdown",
   "id": "ee3f52d4",
   "metadata": {
    "deletable": false,
    "editable": false,
    "id": "ee3f52d4"
   },
   "source": [
    "### Удаление пропусков (продолжение)"
   ]
  },
  {
   "cell_type": "markdown",
   "id": "a700b0e4",
   "metadata": {
    "deletable": false,
    "editable": false,
    "id": "a700b0e4"
   },
   "source": [
    "**Задание 11. Заполните пропуски в столбце `days_employed` медианными значениями по каждого типа занятости `income_type`.**"
   ]
  },
  {
   "cell_type": "code",
   "execution_count": 11,
   "id": "61946b83",
   "metadata": {
    "deletable": false,
    "id": "61946b83"
   },
   "outputs": [],
   "source": [
    "for t in data['income_type'].unique():\n",
    "    data.loc[(data['income_type'] == t) & (data['days_employed'].isna()), 'days_employed'] = \\\n",
    "    data.loc[(data['income_type'] == t), 'days_employed'].median()"
   ]
  },
  {
   "cell_type": "markdown",
   "id": "550dcd9b",
   "metadata": {
    "deletable": false,
    "editable": false,
    "id": "550dcd9b"
   },
   "source": [
    "**Задание 12. Убедитесь, что все пропуски заполнены. Проверьте себя и ещё раз выведите количество пропущенных значений для каждого столбца с помощью двух методов.**"
   ]
  },
  {
   "cell_type": "code",
   "execution_count": 12,
   "id": "937c7014",
   "metadata": {
    "deletable": false,
    "id": "937c7014",
    "outputId": "8da1e4e1-358e-4e87-98c9-f261bce0a7b2"
   },
   "outputs": [
    {
     "data": {
      "text/plain": [
       "children            0\n",
       "days_employed       0\n",
       "dob_years           0\n",
       "education           0\n",
       "education_id        0\n",
       "family_status       0\n",
       "family_status_id    0\n",
       "gender              0\n",
       "income_type         0\n",
       "debt                0\n",
       "total_income        0\n",
       "purpose             0\n",
       "dtype: int64"
      ]
     },
     "execution_count": 12,
     "metadata": {},
     "output_type": "execute_result"
    }
   ],
   "source": [
    "data.isna().sum()"
   ]
  },
  {
   "cell_type": "markdown",
   "id": "d522e295",
   "metadata": {
    "deletable": false,
    "editable": false,
    "id": "d522e295"
   },
   "source": [
    "### Изменение типов данных"
   ]
  },
  {
   "cell_type": "markdown",
   "id": "c229c581",
   "metadata": {
    "deletable": false,
    "editable": false,
    "id": "c229c581"
   },
   "source": [
    "**Задание 13. Замените вещественный тип данных в столбце `total_income` на целочисленный с помощью метода `astype()`.**"
   ]
  },
  {
   "cell_type": "code",
   "execution_count": 13,
   "id": "31036462",
   "metadata": {
    "deletable": false,
    "id": "31036462"
   },
   "outputs": [],
   "source": [
    "data['total_income'] = data['total_income'].astype(int)"
   ]
  },
  {
   "cell_type": "markdown",
   "id": "b8e3d1d9",
   "metadata": {
    "deletable": false,
    "editable": false,
    "id": "b8e3d1d9"
   },
   "source": [
    "### Обработка дубликатов"
   ]
  },
  {
   "cell_type": "markdown",
   "id": "9be53c49",
   "metadata": {
    "deletable": false,
    "editable": false,
    "id": "9be53c49"
   },
   "source": [
    "**Задание 14. Обработайте неявные дубликаты в столбце `education`. В этом столбце есть одни и те же значения, но записанные по-разному: с использованием заглавных и строчных букв. Приведите их к нижнему регистру.**"
   ]
  },
  {
   "cell_type": "code",
   "execution_count": 14,
   "id": "d89e73e1",
   "metadata": {
    "deletable": false,
    "id": "d89e73e1"
   },
   "outputs": [],
   "source": [
    "data['education'] = data['education'].str.lower()"
   ]
  },
  {
   "cell_type": "markdown",
   "id": "01d4500e",
   "metadata": {
    "deletable": false,
    "editable": false,
    "id": "01d4500e"
   },
   "source": [
    "**Задание 15. Выведите на экран количество строк-дубликатов в данных. Если такие строки присутствуют, удалите их.**"
   ]
  },
  {
   "cell_type": "code",
   "execution_count": 15,
   "id": "e10efb23",
   "metadata": {
    "deletable": false,
    "id": "e10efb23",
    "outputId": "9684deba-1934-42d1-99e1-cda61740f822"
   },
   "outputs": [
    {
     "data": {
      "text/plain": [
       "71"
      ]
     },
     "execution_count": 15,
     "metadata": {},
     "output_type": "execute_result"
    }
   ],
   "source": [
    "data.duplicated().sum()"
   ]
  },
  {
   "cell_type": "code",
   "execution_count": 16,
   "id": "df853f20",
   "metadata": {
    "deletable": false,
    "id": "df853f20"
   },
   "outputs": [],
   "source": [
    "data = data.drop_duplicates()"
   ]
  },
  {
   "cell_type": "markdown",
   "id": "627be38f",
   "metadata": {
    "deletable": false,
    "editable": false,
    "id": "627be38f"
   },
   "source": [
    "### Категоризация данных"
   ]
  },
  {
   "cell_type": "markdown",
   "id": "4684c3e0",
   "metadata": {
    "deletable": false,
    "editable": false,
    "id": "4684c3e0"
   },
   "source": [
    "**Задание 16. На основании диапазонов, указанных ниже, создайте в датафрейме `data` столбец `total_income_category` с категориями:**\n",
    "\n",
    "- 0–30000 — `'E'`;\n",
    "- 30001–50000 — `'D'`;\n",
    "- 50001–200000 — `'C'`;\n",
    "- 200001–1000000 — `'B'`;\n",
    "- 1000001 и выше — `'A'`.\n",
    "\n",
    "\n",
    "**Например, кредитополучателю с доходом 25000 нужно назначить категорию `'E'`, а клиенту, получающему 235000, — `'B'`. Используйте собственную функцию с именем `categorize_income()` и метод `apply()`.**"
   ]
  },
  {
   "cell_type": "code",
   "execution_count": 17,
   "id": "78965238",
   "metadata": {
    "deletable": false,
    "id": "78965238"
   },
   "outputs": [],
   "source": [
    "def categorize_income(income):\n",
    "    try:\n",
    "        if 0 <= income <= 30000:\n",
    "            return 'E'\n",
    "        elif 30001 <= income <= 50000:\n",
    "            return 'D'\n",
    "        elif 50001 <= income <= 200000:\n",
    "            return 'C'\n",
    "        elif 200001 <= income <= 1000000:\n",
    "            return 'B'\n",
    "        elif income >= 1000001:\n",
    "            return 'A'\n",
    "    except:\n",
    "        pass"
   ]
  },
  {
   "cell_type": "code",
   "execution_count": 18,
   "id": "0980ada1",
   "metadata": {
    "deletable": false,
    "id": "0980ada1"
   },
   "outputs": [],
   "source": [
    "data['total_income_category'] = data['total_income'].apply(categorize_income)"
   ]
  },
  {
   "cell_type": "markdown",
   "id": "9917bba0",
   "metadata": {
    "deletable": false,
    "editable": false,
    "id": "9917bba0"
   },
   "source": [
    "**Задание 17. Выведите на экран перечень уникальных целей взятия кредита из столбца `purpose`.**"
   ]
  },
  {
   "cell_type": "code",
   "execution_count": 19,
   "id": "ee07b65e",
   "metadata": {
    "deletable": false,
    "id": "ee07b65e",
    "outputId": "673c12d9-7d7e-4ae0-9812-c622c89dd244"
   },
   "outputs": [
    {
     "data": {
      "text/plain": [
       "array(['покупка жилья', 'приобретение автомобиля',\n",
       "       'дополнительное образование', 'сыграть свадьбу',\n",
       "       'операции с жильем', 'образование', 'на проведение свадьбы',\n",
       "       'покупка жилья для семьи', 'покупка недвижимости',\n",
       "       'покупка коммерческой недвижимости', 'покупка жилой недвижимости',\n",
       "       'строительство собственной недвижимости', 'недвижимость',\n",
       "       'строительство недвижимости', 'на покупку подержанного автомобиля',\n",
       "       'на покупку своего автомобиля',\n",
       "       'операции с коммерческой недвижимостью',\n",
       "       'строительство жилой недвижимости', 'жилье',\n",
       "       'операции со своей недвижимостью', 'автомобили',\n",
       "       'заняться образованием', 'сделка с подержанным автомобилем',\n",
       "       'получение образования', 'автомобиль', 'свадьба',\n",
       "       'получение дополнительного образования', 'покупка своего жилья',\n",
       "       'операции с недвижимостью', 'получение высшего образования',\n",
       "       'свой автомобиль', 'сделка с автомобилем',\n",
       "       'профильное образование', 'высшее образование',\n",
       "       'покупка жилья для сдачи', 'на покупку автомобиля', 'ремонт жилью',\n",
       "       'заняться высшим образованием'], dtype=object)"
      ]
     },
     "execution_count": 19,
     "metadata": {},
     "output_type": "execute_result"
    }
   ],
   "source": [
    "data['purpose'].unique()"
   ]
  },
  {
   "cell_type": "markdown",
   "id": "52b79d56",
   "metadata": {
    "deletable": false,
    "editable": false,
    "id": "52b79d56"
   },
   "source": [
    "**Задание 18. Создайте функцию, которая на основании данных из столбца `purpose` сформирует новый столбец `purpose_category`, в который войдут следующие категории:**\n",
    "\n",
    "- `'операции с автомобилем'`,\n",
    "- `'операции с недвижимостью'`,\n",
    "- `'проведение свадьбы'`,\n",
    "- `'получение образования'`.\n",
    "\n",
    "**Например, если в столбце `purpose` находится подстрока `'на покупку автомобиля'`, то в столбце `purpose_category` должна появиться строка `'операции с автомобилем'`.**\n",
    "\n",
    "**Используйте собственную функцию с именем `categorize_purpose()` и метод `apply()`. Изучите данные в столбце `purpose` и определите, какие подстроки помогут вам правильно определить категорию.**"
   ]
  },
  {
   "cell_type": "code",
   "execution_count": 20,
   "id": "be41da5d",
   "metadata": {
    "deletable": false,
    "id": "be41da5d"
   },
   "outputs": [],
   "source": [
    "def categorize_purpose(row):\n",
    "    try:\n",
    "        if 'автом' in row:\n",
    "            return 'операции с автомобилем'\n",
    "        elif 'жил' in row or 'недвиж' in row:\n",
    "            return 'операции с недвижимостью'\n",
    "        elif 'свад' in row:\n",
    "            return 'проведение свадьбы'\n",
    "        elif 'образов' in row:\n",
    "            return 'получение образования'\n",
    "    except:\n",
    "        return 'нет категории'"
   ]
  },
  {
   "cell_type": "code",
   "execution_count": 21,
   "id": "94c4a19a",
   "metadata": {
    "deletable": false,
    "id": "94c4a19a"
   },
   "outputs": [],
   "source": [
    "data['purpose_category'] = data['purpose'].apply(categorize_purpose)"
   ]
  },
  {
   "cell_type": "markdown",
   "id": "3d596c34",
   "metadata": {
    "deletable": false,
    "editable": false,
    "id": "3d596c34"
   },
   "source": [
    "### Шаг 3. Исследуйте данные и ответьте на вопросы"
   ]
  },
  {
   "cell_type": "markdown",
   "id": "648db036",
   "metadata": {
    "deletable": false,
    "editable": false,
    "id": "648db036"
   },
   "source": [
    "#### 3.1 Есть ли зависимость между количеством детей и возвратом кредита в срок?"
   ]
  },
  {
   "cell_type": "code",
   "execution_count": 22,
   "id": "7fcff25e",
   "metadata": {
    "deletable": false,
    "id": "7fcff25e"
   },
   "outputs": [
    {
     "name": "stdout",
     "output_type": "stream",
     "text": [
      "          people_with_children_N  people_with_children_anddebt  return_rate\n",
      "children                                                                   \n",
      "0                          14091                          1063     0.075438\n",
      "1                           4808                           444     0.092346\n",
      "2                           2052                           194     0.094542\n",
      "3                            330                            27     0.081818\n",
      "4                             41                             4     0.097561\n",
      "5                              9                             0     0.000000\n"
     ]
    }
   ],
   "source": [
    "# Ваш код будет здесь. Вы можете создавать новые ячейки.\n",
    "debt_children = pd.DataFrame()\n",
    "debt_children['people_with_children_N'] = data.groupby('children')['debt'].count()\n",
    "debt_children['people_with_children_anddebt'] = data.groupby('children')['debt'].sum()\n",
    "debt_children['return_rate'] = debt_children['people_with_children_anddebt'] / debt_children['people_with_children_N']\n",
    "print(debt_children)\n"
   ]
  },
  {
   "cell_type": "markdown",
   "id": "2eb9088e",
   "metadata": {
    "deletable": false,
    "id": "2eb9088e"
   },
   "source": [
    "**Вывод:** С увеличением количества детей у заемщика, вероятность возврата кредита снижается, однако заемщики имеющие трое детей возвращают кредит чаще, чем заемщики с 1,3 и 4 детьми."
   ]
  },
  {
   "cell_type": "markdown",
   "id": "74c9b3a7",
   "metadata": {
    "deletable": false,
    "editable": false,
    "id": "74c9b3a7"
   },
   "source": [
    "#### 3.2 Есть ли зависимость между семейным положением и возвратом кредита в срок?"
   ]
  },
  {
   "cell_type": "code",
   "execution_count": 23,
   "id": "8098ab3b",
   "metadata": {
    "deletable": false,
    "id": "8098ab3b"
   },
   "outputs": [
    {
     "name": "stdout",
     "output_type": "stream",
     "text": [
      "                       people_married_N  people_married_and_debt  return_rate\n",
      "family_status                                                                \n",
      "Не женат / не замужем              2796                      273     0.097639\n",
      "в разводе                          1189                       84     0.070648\n",
      "вдовец / вдова                      951                       63     0.066246\n",
      "гражданский брак                   4134                      385     0.093130\n",
      "женат / замужем                   12261                      927     0.075606\n"
     ]
    }
   ],
   "source": [
    "# Ваш код будет здесь. Вы можете создавать новые ячейки.\n",
    "debt_married = pd.DataFrame()\n",
    "debt_married['people_married_N'] = data.groupby('family_status')['debt'].count()\n",
    "debt_married['people_married_and_debt'] = data.groupby('family_status')['debt'].sum()\n",
    "debt_married['return_rate'] = debt_married['people_married_and_debt'] / debt_married['people_married_N']\n",
    "print(debt_married)\n"
   ]
  },
  {
   "cell_type": "markdown",
   "id": "c389ca63",
   "metadata": {
    "deletable": false,
    "id": "c389ca63"
   },
   "source": [
    "**Вывод:** Заемщики с семейными положениями \"не женат/ не замужем\" и \"гражданский брак\" возвращают кредит реже, чем остальные. Однако явной зависимости возрата кредита от семейного положения не наблюдается."
   ]
  },
  {
   "cell_type": "markdown",
   "id": "9529de68",
   "metadata": {
    "deletable": false,
    "editable": false,
    "id": "9529de68"
   },
   "source": [
    "#### 3.3 Есть ли зависимость между уровнем дохода и возвратом кредита в срок?"
   ]
  },
  {
   "cell_type": "code",
   "execution_count": 24,
   "id": "96ed7bc0",
   "metadata": {},
   "outputs": [
    {
     "name": "stdout",
     "output_type": "stream",
     "text": [
      "2265604\n",
      "20667\n"
     ]
    }
   ],
   "source": [
    "print(data['total_income'].max())\n",
    "print(data['total_income'].min())"
   ]
  },
  {
   "cell_type": "code",
   "execution_count": 25,
   "id": "8787f44a",
   "metadata": {
    "deletable": false,
    "id": "8787f44a"
   },
   "outputs": [
    {
     "name": "stdout",
     "output_type": "stream",
     "text": [
      "                      income_count  income_sum  return_rate\n",
      "total_income_id                                            \n",
      "1. less than 50000             371          23     0.061995\n",
      "2. less than 100000           4073         331     0.081267\n",
      "3. less than 200000          11848        1022     0.086259\n",
      "4. less than 300000           3565         250     0.070126\n",
      "5. less than 500000           1252          92     0.073482\n",
      "6. less than 1000000           197          12     0.060914\n",
      "7. more than 1000000            25           2     0.080000\n"
     ]
    }
   ],
   "source": [
    "# Ваш код будет здесь. Вы можете создавать новые ячейки.\n",
    "def total_income_category(value):\n",
    "    if value <=50000:\n",
    "        return '1. less than 50000'\n",
    "    elif value <= 100000:\n",
    "        return '2. less than 100000'\n",
    "    elif value <= 200000:\n",
    "        return '3. less than 200000'\n",
    "    elif value <= 300000:\n",
    "        return '4. less than 300000'\n",
    "    elif value <= 500000:\n",
    "        return '5. less than 500000'\n",
    "    elif value <= 1000000:\n",
    "        return '6. less than 1000000'\n",
    "    else:\n",
    "        return '7. more than 1000000'\n",
    "\n",
    "data['total_income_id'] = data['total_income'].apply(total_income_category)\n",
    "data['total_income_id'].value_counts()\n",
    "debt_income = pd.DataFrame()\n",
    "debt_income['income_count'] = data.groupby('total_income_id')['debt'].count()\n",
    "debt_income['income_sum'] = data.groupby('total_income_id')['debt'].sum()\n",
    "debt_income['return_rate'] = debt_income['income_sum'] / debt_income['income_count']\n",
    "print(debt_income)"
   ]
  },
  {
   "cell_type": "markdown",
   "id": "6dd14b57",
   "metadata": {
    "deletable": false,
    "id": "6dd14b57"
   },
   "source": [
    "**Вывод:** Заемщики с доходом до 50000 и от 500000 до 1000000 возвращают задолженность чаще чем остальные категории заемщиков, однако явной зависимости возвращения кредита от уровня дохода не наблюдается."
   ]
  },
  {
   "cell_type": "markdown",
   "id": "1dcc9b12",
   "metadata": {
    "deletable": false,
    "editable": false,
    "id": "1dcc9b12"
   },
   "source": [
    "#### 3.4 Как разные цели кредита влияют на его возврат в срок?"
   ]
  },
  {
   "cell_type": "code",
   "execution_count": 26,
   "id": "c602bc8b",
   "metadata": {
    "deletable": false,
    "id": "c602bc8b",
    "scrolled": true
   },
   "outputs": [
    {
     "name": "stdout",
     "output_type": "stream",
     "text": [
      "                          purpose_count  purpose_sum  conversion\n",
      "purpose_category                                                \n",
      "операции с автомобилем             4279          400    0.093480\n",
      "операции с недвижимостью          10751          780    0.072551\n",
      "получение образования              3988          369    0.092528\n",
      "проведение свадьбы                 2313          183    0.079118\n"
     ]
    }
   ],
   "source": [
    "# Ваш код будет здесь. Вы можете создавать новые ячейки.\n",
    "debt_purpose = pd.DataFrame()\n",
    "debt_purpose['purpose_count'] = data.groupby('purpose_category')['debt'].count()\n",
    "debt_purpose['purpose_sum'] = data.groupby('purpose_category')['debt'].sum()\n",
    "debt_purpose['conversion'] = debt_purpose['purpose_sum'] / debt_purpose['purpose_count']\n",
    "print(debt_purpose)"
   ]
  },
  {
   "cell_type": "markdown",
   "id": "cf05ed63",
   "metadata": {
    "deletable": false,
    "id": "cf05ed63"
   },
   "source": [
    "**Вывод:** Заемщики, которые берут кредит для операций с автомобилем и получения образования возвращают кредит реже чем те, которые берут кредит для операций с недвижимостью и для проведения свадьбы.\n"
   ]
  },
  {
   "cell_type": "markdown",
   "id": "46c1f10b",
   "metadata": {
    "deletable": false,
    "editable": false,
    "id": "46c1f10b"
   },
   "source": [
    "#### 3.5 Приведите возможные причины появления пропусков в исходных данных."
   ]
  },
  {
   "cell_type": "markdown",
   "id": "3697d2a9",
   "metadata": {
    "deletable": false,
    "id": "3697d2a9"
   },
   "source": [
    "*Ответ:* Возможными причинами пропусков в исходных данных может быть связано с человеческим фактором(неверное заполнение базы данных), а так же нежелание заемщиков указывать часть своих данных. Технические ошибки также могут быть фактором появления пропусков в данных."
   ]
  },
  {
   "cell_type": "markdown",
   "id": "3137d257",
   "metadata": {
    "deletable": false,
    "editable": false,
    "id": "3137d257"
   },
   "source": [
    "#### 3.6 Объясните, почему заполнить пропуски медианным значением — лучшее решение для количественных переменных."
   ]
  },
  {
   "cell_type": "markdown",
   "id": "cf40012a",
   "metadata": {
    "deletable": false,
    "id": "cf40012a"
   },
   "source": [
    "*Ответ:* Медианные значения не будут сильно влиять на итоговые расчеты."
   ]
  },
  {
   "cell_type": "markdown",
   "id": "57bc304e",
   "metadata": {
    "deletable": false,
    "editable": false,
    "id": "57bc304e"
   },
   "source": [
    "### Шаг 4: общий вывод."
   ]
  },
  {
   "cell_type": "markdown",
   "id": "1ab75d1c",
   "metadata": {
    "deletable": false,
    "id": "1ab75d1c"
   },
   "source": [
    "В данных были обнаружены различного вида ошибки: пропуски, дубликаты и отрицательные значения в строках, где могут быть только положительные числа. В результате предобратоки отрицательные значения были переведены в положительные, пропуски были заменены на медианное значение по столбцу, нечисловые аномальные значения были удалены для оптимизации процесса анализа. По итогу проделанного анализа можно утверждать, что:\n",
    "1. C увеличением количества детей у заемщика, вероятность возврата кредита снижается\n",
    "2. Заемщики с семейными положениями \"не женат/ не замужем\" и \"гражданский брак\" возвращают кредит реже, чем остальные. \n",
    "3. Заемщики с более высоким доходом чаще возвращают кредит. \n",
    "4. Заемщики, которые берут кредит для операций с недвижимостью т автомобилем чаще  других возвращают кредит.\n",
    "\n",
    "Согласно проведенному исследованию, заемщик, у которого нету детей,  женат\\замужем, либо состоял(а) в браке, чей уровень дохода варьируется в двух категориях: до 50 000 либо от 500 000 до 1 000 000, а также берет кредит для операций с недвижимостью, имеет набольшую вероятность возврата кредита.\n"
   ]
  }
 ],
 "metadata": {
  "ExecuteTimeLog": [
   {
    "duration": 46,
    "start_time": "2023-06-12T15:28:32.996Z"
   },
   {
    "duration": 493,
    "start_time": "2023-06-12T15:28:35.402Z"
   },
   {
    "duration": 29,
    "start_time": "2023-06-12T15:28:37.503Z"
   },
   {
    "duration": 18,
    "start_time": "2023-06-12T15:28:40.900Z"
   },
   {
    "duration": 18,
    "start_time": "2023-06-12T15:28:43.401Z"
   },
   {
    "duration": 29,
    "start_time": "2023-06-12T15:28:46.368Z"
   },
   {
    "duration": 3,
    "start_time": "2023-06-12T15:28:49.142Z"
   },
   {
    "duration": 10,
    "start_time": "2023-06-12T15:28:51.209Z"
   },
   {
    "duration": 10,
    "start_time": "2023-06-12T15:28:54.210Z"
   },
   {
    "duration": 7,
    "start_time": "2023-06-12T15:28:55.942Z"
   },
   {
    "duration": 91,
    "start_time": "2023-06-12T15:29:04.398Z"
   },
   {
    "duration": 19,
    "start_time": "2023-06-12T15:29:04.492Z"
   },
   {
    "duration": 18,
    "start_time": "2023-06-12T15:29:04.514Z"
   },
   {
    "duration": 16,
    "start_time": "2023-06-12T15:29:04.534Z"
   },
   {
    "duration": 30,
    "start_time": "2023-06-12T15:29:04.552Z"
   },
   {
    "duration": 3,
    "start_time": "2023-06-12T15:29:04.584Z"
   },
   {
    "duration": 13,
    "start_time": "2023-06-12T15:29:04.588Z"
   },
   {
    "duration": 17,
    "start_time": "2023-06-12T15:29:04.602Z"
   },
   {
    "duration": 10,
    "start_time": "2023-06-12T15:29:04.621Z"
   },
   {
    "duration": 20,
    "start_time": "2023-06-12T15:29:04.633Z"
   },
   {
    "duration": 50,
    "start_time": "2023-06-12T15:29:04.655Z"
   },
   {
    "duration": 11,
    "start_time": "2023-06-12T15:29:04.708Z"
   },
   {
    "duration": 4,
    "start_time": "2023-06-12T15:29:04.721Z"
   },
   {
    "duration": 12,
    "start_time": "2023-06-12T15:29:04.726Z"
   },
   {
    "duration": 32,
    "start_time": "2023-06-12T15:29:04.740Z"
   },
   {
    "duration": 17,
    "start_time": "2023-06-12T15:29:04.774Z"
   },
   {
    "duration": 4,
    "start_time": "2023-06-12T15:29:04.792Z"
   },
   {
    "duration": 33,
    "start_time": "2023-06-12T15:29:04.797Z"
   },
   {
    "duration": 14,
    "start_time": "2023-06-12T15:29:04.831Z"
   },
   {
    "duration": 6,
    "start_time": "2023-06-12T15:29:04.846Z"
   },
   {
    "duration": 12,
    "start_time": "2023-06-12T15:29:04.854Z"
   },
   {
    "duration": 18,
    "start_time": "2023-06-12T15:29:04.867Z"
   },
   {
    "duration": 8,
    "start_time": "2023-06-12T15:29:04.886Z"
   },
   {
    "duration": 11,
    "start_time": "2023-06-12T15:29:04.895Z"
   },
   {
    "duration": 13,
    "start_time": "2023-06-12T15:29:04.907Z"
   },
   {
    "duration": 783,
    "start_time": "2023-06-19T12:23:55.209Z"
   },
   {
    "duration": 26,
    "start_time": "2023-06-19T12:23:55.994Z"
   },
   {
    "duration": 39,
    "start_time": "2023-06-19T12:23:56.022Z"
   },
   {
    "duration": 14,
    "start_time": "2023-06-19T12:23:56.065Z"
   },
   {
    "duration": 59,
    "start_time": "2023-06-19T12:23:56.081Z"
   },
   {
    "duration": 21,
    "start_time": "2023-06-19T12:23:56.141Z"
   },
   {
    "duration": 19,
    "start_time": "2023-06-19T12:23:56.164Z"
   },
   {
    "duration": 22,
    "start_time": "2023-06-19T12:23:56.185Z"
   },
   {
    "duration": 46,
    "start_time": "2023-06-19T12:23:56.209Z"
   },
   {
    "duration": 52,
    "start_time": "2023-06-19T12:23:56.259Z"
   },
   {
    "duration": 67,
    "start_time": "2023-06-19T12:23:56.313Z"
   },
   {
    "duration": 11,
    "start_time": "2023-06-19T12:23:56.382Z"
   },
   {
    "duration": 35,
    "start_time": "2023-06-19T12:23:56.394Z"
   },
   {
    "duration": 27,
    "start_time": "2023-06-19T12:23:56.430Z"
   },
   {
    "duration": 32,
    "start_time": "2023-06-19T12:23:56.458Z"
   },
   {
    "duration": 19,
    "start_time": "2023-06-19T12:23:56.492Z"
   },
   {
    "duration": 4,
    "start_time": "2023-06-19T12:23:56.513Z"
   },
   {
    "duration": 40,
    "start_time": "2023-06-19T12:23:56.519Z"
   },
   {
    "duration": 30,
    "start_time": "2023-06-19T12:23:56.561Z"
   },
   {
    "duration": 21,
    "start_time": "2023-06-19T12:23:56.592Z"
   },
   {
    "duration": 32,
    "start_time": "2023-06-19T12:23:56.615Z"
   },
   {
    "duration": 23,
    "start_time": "2023-06-19T12:23:56.649Z"
   },
   {
    "duration": 30,
    "start_time": "2023-06-19T12:23:56.674Z"
   },
   {
    "duration": 25,
    "start_time": "2023-06-19T12:23:56.707Z"
   },
   {
    "duration": 19,
    "start_time": "2023-06-19T12:23:56.735Z"
   },
   {
    "duration": 87,
    "start_time": "2023-06-19T12:24:29.390Z"
   },
   {
    "duration": 15,
    "start_time": "2023-06-19T12:24:29.480Z"
   },
   {
    "duration": 38,
    "start_time": "2023-06-19T12:24:29.497Z"
   },
   {
    "duration": 21,
    "start_time": "2023-06-19T12:24:29.537Z"
   },
   {
    "duration": 41,
    "start_time": "2023-06-19T12:24:29.560Z"
   },
   {
    "duration": 4,
    "start_time": "2023-06-19T12:24:29.603Z"
   },
   {
    "duration": 29,
    "start_time": "2023-06-19T12:24:29.609Z"
   },
   {
    "duration": 15,
    "start_time": "2023-06-19T12:24:29.640Z"
   },
   {
    "duration": 10,
    "start_time": "2023-06-19T12:24:29.656Z"
   },
   {
    "duration": 8,
    "start_time": "2023-06-19T12:24:29.668Z"
   },
   {
    "duration": 41,
    "start_time": "2023-06-19T12:24:29.677Z"
   },
   {
    "duration": 34,
    "start_time": "2023-06-19T12:24:29.720Z"
   },
   {
    "duration": 5,
    "start_time": "2023-06-19T12:24:29.756Z"
   },
   {
    "duration": 16,
    "start_time": "2023-06-19T12:24:29.765Z"
   },
   {
    "duration": 31,
    "start_time": "2023-06-19T12:24:29.782Z"
   },
   {
    "duration": 20,
    "start_time": "2023-06-19T12:24:29.815Z"
   },
   {
    "duration": 22,
    "start_time": "2023-06-19T12:24:29.836Z"
   },
   {
    "duration": 19,
    "start_time": "2023-06-19T12:24:29.859Z"
   },
   {
    "duration": 18,
    "start_time": "2023-06-19T12:24:29.880Z"
   },
   {
    "duration": 5,
    "start_time": "2023-06-19T12:24:29.901Z"
   },
   {
    "duration": 20,
    "start_time": "2023-06-19T12:24:29.907Z"
   },
   {
    "duration": 12,
    "start_time": "2023-06-19T12:24:29.929Z"
   },
   {
    "duration": 10,
    "start_time": "2023-06-19T12:24:29.943Z"
   },
   {
    "duration": 8,
    "start_time": "2023-06-19T12:24:29.955Z"
   },
   {
    "duration": 6,
    "start_time": "2023-06-19T12:24:29.964Z"
   },
   {
    "duration": 71,
    "start_time": "2023-06-19T12:24:45.164Z"
   },
   {
    "duration": 16,
    "start_time": "2023-06-19T12:24:45.237Z"
   },
   {
    "duration": 25,
    "start_time": "2023-06-19T12:24:45.255Z"
   },
   {
    "duration": 21,
    "start_time": "2023-06-19T12:24:45.283Z"
   },
   {
    "duration": 36,
    "start_time": "2023-06-19T12:24:45.305Z"
   },
   {
    "duration": 3,
    "start_time": "2023-06-19T12:24:45.343Z"
   },
   {
    "duration": 19,
    "start_time": "2023-06-19T12:24:45.353Z"
   },
   {
    "duration": 7,
    "start_time": "2023-06-19T12:24:45.374Z"
   },
   {
    "duration": 7,
    "start_time": "2023-06-19T12:24:45.383Z"
   },
   {
    "duration": 7,
    "start_time": "2023-06-19T12:24:45.392Z"
   },
   {
    "duration": 53,
    "start_time": "2023-06-19T12:24:45.401Z"
   },
   {
    "duration": 11,
    "start_time": "2023-06-19T12:24:45.455Z"
   },
   {
    "duration": 4,
    "start_time": "2023-06-19T12:24:45.468Z"
   },
   {
    "duration": 21,
    "start_time": "2023-06-19T12:24:45.473Z"
   },
   {
    "duration": 23,
    "start_time": "2023-06-19T12:24:45.495Z"
   },
   {
    "duration": 42,
    "start_time": "2023-06-19T12:24:45.519Z"
   },
   {
    "duration": 5,
    "start_time": "2023-06-19T12:24:45.563Z"
   },
   {
    "duration": 30,
    "start_time": "2023-06-19T12:24:45.570Z"
   },
   {
    "duration": 9,
    "start_time": "2023-06-19T12:24:45.602Z"
   },
   {
    "duration": 7,
    "start_time": "2023-06-19T12:24:45.613Z"
   },
   {
    "duration": 25,
    "start_time": "2023-06-19T12:24:45.622Z"
   },
   {
    "duration": 8,
    "start_time": "2023-06-19T12:24:45.649Z"
   },
   {
    "duration": 25,
    "start_time": "2023-06-19T12:24:45.659Z"
   },
   {
    "duration": 15,
    "start_time": "2023-06-19T12:24:45.686Z"
   },
   {
    "duration": 7,
    "start_time": "2023-06-19T12:24:45.703Z"
   },
   {
    "duration": 110,
    "start_time": "2023-06-19T12:25:22.396Z"
   },
   {
    "duration": 29,
    "start_time": "2023-06-19T12:25:22.509Z"
   },
   {
    "duration": 33,
    "start_time": "2023-06-19T12:25:22.541Z"
   },
   {
    "duration": 18,
    "start_time": "2023-06-19T12:25:22.577Z"
   },
   {
    "duration": 43,
    "start_time": "2023-06-19T12:25:22.597Z"
   },
   {
    "duration": 4,
    "start_time": "2023-06-19T12:25:22.653Z"
   },
   {
    "duration": 19,
    "start_time": "2023-06-19T12:25:22.659Z"
   },
   {
    "duration": 12,
    "start_time": "2023-06-19T12:25:22.680Z"
   },
   {
    "duration": 16,
    "start_time": "2023-06-19T12:25:22.694Z"
   },
   {
    "duration": 20,
    "start_time": "2023-06-19T12:25:22.712Z"
   },
   {
    "duration": 53,
    "start_time": "2023-06-19T12:25:22.734Z"
   },
   {
    "duration": 11,
    "start_time": "2023-06-19T12:25:22.788Z"
   },
   {
    "duration": 15,
    "start_time": "2023-06-19T12:25:22.801Z"
   },
   {
    "duration": 20,
    "start_time": "2023-06-19T12:25:22.819Z"
   },
   {
    "duration": 35,
    "start_time": "2023-06-19T12:25:22.841Z"
   },
   {
    "duration": 20,
    "start_time": "2023-06-19T12:25:22.878Z"
   },
   {
    "duration": 4,
    "start_time": "2023-06-19T12:25:22.900Z"
   },
   {
    "duration": 39,
    "start_time": "2023-06-19T12:25:22.906Z"
   },
   {
    "duration": 33,
    "start_time": "2023-06-19T12:25:22.947Z"
   },
   {
    "duration": 15,
    "start_time": "2023-06-19T12:25:22.982Z"
   },
   {
    "duration": 27,
    "start_time": "2023-06-19T12:25:22.999Z"
   },
   {
    "duration": 136,
    "start_time": "2023-06-19T12:25:23.028Z"
   },
   {
    "duration": 3,
    "start_time": "2023-06-19T12:25:23.166Z"
   },
   {
    "duration": 16,
    "start_time": "2023-06-19T12:25:23.171Z"
   },
   {
    "duration": 7,
    "start_time": "2023-06-19T12:25:23.190Z"
   },
   {
    "duration": 4,
    "start_time": "2023-06-19T12:25:27.332Z"
   },
   {
    "duration": 92,
    "start_time": "2023-06-19T12:31:59.151Z"
   },
   {
    "duration": 13,
    "start_time": "2023-06-19T12:32:51.099Z"
   },
   {
    "duration": 4,
    "start_time": "2023-06-19T12:35:03.812Z"
   },
   {
    "duration": 8,
    "start_time": "2023-06-19T12:35:14.128Z"
   },
   {
    "duration": 8,
    "start_time": "2023-06-19T12:37:10.009Z"
   },
   {
    "duration": 13,
    "start_time": "2023-06-19T12:37:50.759Z"
   },
   {
    "duration": 10,
    "start_time": "2023-06-19T12:37:55.800Z"
   },
   {
    "duration": 11,
    "start_time": "2023-06-19T12:38:32.117Z"
   },
   {
    "duration": 156,
    "start_time": "2023-06-19T12:42:21.311Z"
   },
   {
    "duration": 10,
    "start_time": "2023-06-19T12:42:29.041Z"
   },
   {
    "duration": 74,
    "start_time": "2023-06-19T12:43:43.153Z"
   },
   {
    "duration": 14,
    "start_time": "2023-06-19T12:43:51.282Z"
   },
   {
    "duration": 14,
    "start_time": "2023-06-19T12:44:52.084Z"
   },
   {
    "duration": 9,
    "start_time": "2023-06-19T12:45:47.504Z"
   },
   {
    "duration": 8,
    "start_time": "2023-06-19T12:45:55.909Z"
   },
   {
    "duration": 10,
    "start_time": "2023-06-19T12:46:30.204Z"
   },
   {
    "duration": 390,
    "start_time": "2023-06-19T12:47:00.651Z"
   },
   {
    "duration": 13,
    "start_time": "2023-06-19T12:47:20.660Z"
   },
   {
    "duration": 10,
    "start_time": "2023-06-19T12:47:36.168Z"
   },
   {
    "duration": 11,
    "start_time": "2023-06-19T12:47:44.471Z"
   },
   {
    "duration": 14,
    "start_time": "2023-06-19T12:47:54.004Z"
   },
   {
    "duration": 8,
    "start_time": "2023-06-19T12:47:55.812Z"
   },
   {
    "duration": 8,
    "start_time": "2023-06-19T12:48:44.311Z"
   },
   {
    "duration": 151,
    "start_time": "2023-06-19T12:50:26.648Z"
   },
   {
    "duration": 120,
    "start_time": "2023-06-19T12:51:41.460Z"
   },
   {
    "duration": 114,
    "start_time": "2023-06-19T12:52:17.906Z"
   },
   {
    "duration": 131,
    "start_time": "2023-06-19T12:53:40.524Z"
   },
   {
    "duration": 201,
    "start_time": "2023-06-19T12:55:25.587Z"
   },
   {
    "duration": 148,
    "start_time": "2023-06-19T12:55:48.987Z"
   },
   {
    "duration": 144,
    "start_time": "2023-06-19T12:56:01.468Z"
   },
   {
    "duration": 167,
    "start_time": "2023-06-19T12:57:04.128Z"
   },
   {
    "duration": 141,
    "start_time": "2023-06-19T12:57:30.730Z"
   },
   {
    "duration": 129,
    "start_time": "2023-06-19T12:57:37.841Z"
   },
   {
    "duration": 145,
    "start_time": "2023-06-19T12:59:23.984Z"
   },
   {
    "duration": 110,
    "start_time": "2023-06-19T12:59:34.917Z"
   },
   {
    "duration": 113,
    "start_time": "2023-06-19T13:00:11.507Z"
   },
   {
    "duration": 123,
    "start_time": "2023-06-19T13:00:18.101Z"
   },
   {
    "duration": 136,
    "start_time": "2023-06-19T13:00:34.340Z"
   },
   {
    "duration": 192,
    "start_time": "2023-06-19T13:00:40.934Z"
   },
   {
    "duration": 1826,
    "start_time": "2023-06-19T13:01:28.214Z"
   },
   {
    "duration": 14,
    "start_time": "2023-06-19T13:02:07.094Z"
   },
   {
    "duration": 5,
    "start_time": "2023-06-19T13:02:44.247Z"
   },
   {
    "duration": 11,
    "start_time": "2023-06-19T13:02:49.990Z"
   },
   {
    "duration": 651,
    "start_time": "2023-06-19T20:01:16.772Z"
   },
   {
    "duration": 2,
    "start_time": "2023-06-19T20:02:02.963Z"
   },
   {
    "duration": 9,
    "start_time": "2023-06-19T20:02:56.315Z"
   },
   {
    "duration": 8,
    "start_time": "2023-06-19T20:03:38.330Z"
   },
   {
    "duration": 7,
    "start_time": "2023-06-19T20:03:42.085Z"
   },
   {
    "duration": 579,
    "start_time": "2023-06-19T20:03:49.731Z"
   },
   {
    "duration": 27,
    "start_time": "2023-06-19T20:03:50.312Z"
   },
   {
    "duration": 17,
    "start_time": "2023-06-19T20:03:50.341Z"
   },
   {
    "duration": 21,
    "start_time": "2023-06-19T20:03:50.360Z"
   },
   {
    "duration": 71,
    "start_time": "2023-06-19T20:03:50.383Z"
   },
   {
    "duration": 4,
    "start_time": "2023-06-19T20:03:50.456Z"
   },
   {
    "duration": 22,
    "start_time": "2023-06-19T20:03:50.462Z"
   },
   {
    "duration": 6,
    "start_time": "2023-06-19T20:03:50.486Z"
   },
   {
    "duration": 35,
    "start_time": "2023-06-19T20:03:50.493Z"
   },
   {
    "duration": 5,
    "start_time": "2023-06-19T20:03:50.531Z"
   },
   {
    "duration": 34,
    "start_time": "2023-06-19T20:03:50.537Z"
   },
   {
    "duration": 9,
    "start_time": "2023-06-19T20:03:50.573Z"
   },
   {
    "duration": 13,
    "start_time": "2023-06-19T20:03:50.584Z"
   },
   {
    "duration": 41,
    "start_time": "2023-06-19T20:03:50.598Z"
   },
   {
    "duration": 32,
    "start_time": "2023-06-19T20:03:50.640Z"
   },
   {
    "duration": 19,
    "start_time": "2023-06-19T20:03:50.673Z"
   },
   {
    "duration": 3,
    "start_time": "2023-06-19T20:03:50.695Z"
   },
   {
    "duration": 30,
    "start_time": "2023-06-19T20:03:50.701Z"
   },
   {
    "duration": 8,
    "start_time": "2023-06-19T20:03:50.733Z"
   },
   {
    "duration": 17,
    "start_time": "2023-06-19T20:03:50.743Z"
   },
   {
    "duration": 19,
    "start_time": "2023-06-19T20:03:50.762Z"
   },
   {
    "duration": 15,
    "start_time": "2023-06-19T20:03:50.783Z"
   },
   {
    "duration": 32,
    "start_time": "2023-06-19T20:03:50.800Z"
   },
   {
    "duration": 0,
    "start_time": "2023-06-19T20:03:50.834Z"
   },
   {
    "duration": 0,
    "start_time": "2023-06-19T20:03:50.835Z"
   },
   {
    "duration": 14,
    "start_time": "2023-06-19T20:03:55.975Z"
   },
   {
    "duration": 1258,
    "start_time": "2023-06-19T20:04:09.975Z"
   },
   {
    "duration": 2449,
    "start_time": "2023-06-19T20:05:03.714Z"
   },
   {
    "duration": 2371,
    "start_time": "2023-06-19T20:07:01.000Z"
   },
   {
    "duration": 11,
    "start_time": "2023-06-19T20:07:31.873Z"
   },
   {
    "duration": 10,
    "start_time": "2023-06-19T20:07:37.394Z"
   },
   {
    "duration": 82,
    "start_time": "2023-06-19T20:07:39.553Z"
   },
   {
    "duration": 20,
    "start_time": "2023-06-19T20:07:39.637Z"
   },
   {
    "duration": 27,
    "start_time": "2023-06-19T20:07:39.658Z"
   },
   {
    "duration": 18,
    "start_time": "2023-06-19T20:07:39.688Z"
   },
   {
    "duration": 38,
    "start_time": "2023-06-19T20:07:39.707Z"
   },
   {
    "duration": 3,
    "start_time": "2023-06-19T20:07:39.747Z"
   },
   {
    "duration": 20,
    "start_time": "2023-06-19T20:07:39.751Z"
   },
   {
    "duration": 13,
    "start_time": "2023-06-19T20:07:39.773Z"
   },
   {
    "duration": 13,
    "start_time": "2023-06-19T20:07:39.788Z"
   },
   {
    "duration": 8,
    "start_time": "2023-06-19T20:07:39.804Z"
   },
   {
    "duration": 55,
    "start_time": "2023-06-19T20:07:39.813Z"
   },
   {
    "duration": 8,
    "start_time": "2023-06-19T20:07:39.870Z"
   },
   {
    "duration": 21,
    "start_time": "2023-06-19T20:07:39.880Z"
   },
   {
    "duration": 11,
    "start_time": "2023-06-19T20:07:39.903Z"
   },
   {
    "duration": 28,
    "start_time": "2023-06-19T20:07:39.916Z"
   },
   {
    "duration": 43,
    "start_time": "2023-06-19T20:07:39.946Z"
   },
   {
    "duration": 47,
    "start_time": "2023-06-19T20:07:39.991Z"
   },
   {
    "duration": 30,
    "start_time": "2023-06-19T20:07:40.040Z"
   },
   {
    "duration": 19,
    "start_time": "2023-06-19T20:07:40.071Z"
   },
   {
    "duration": 16,
    "start_time": "2023-06-19T20:07:40.092Z"
   },
   {
    "duration": 19,
    "start_time": "2023-06-19T20:07:40.110Z"
   },
   {
    "duration": 34,
    "start_time": "2023-06-19T20:07:40.131Z"
   },
   {
    "duration": 40,
    "start_time": "2023-06-19T20:07:40.167Z"
   },
   {
    "duration": 0,
    "start_time": "2023-06-19T20:07:40.208Z"
   },
   {
    "duration": 0,
    "start_time": "2023-06-19T20:07:40.210Z"
   },
   {
    "duration": 10,
    "start_time": "2023-06-19T20:07:44.835Z"
   },
   {
    "duration": 72,
    "start_time": "2023-06-19T20:07:50.053Z"
   },
   {
    "duration": 8,
    "start_time": "2023-06-19T20:08:04.281Z"
   },
   {
    "duration": 10,
    "start_time": "2023-06-19T20:08:13.093Z"
   },
   {
    "duration": 10,
    "start_time": "2023-06-19T20:08:16.722Z"
   },
   {
    "duration": 12,
    "start_time": "2023-06-19T20:08:29.854Z"
   },
   {
    "duration": 13,
    "start_time": "2023-06-19T20:09:49.910Z"
   },
   {
    "duration": 1293,
    "start_time": "2023-06-19T20:10:48.253Z"
   },
   {
    "duration": 13,
    "start_time": "2023-06-19T20:10:54.248Z"
   },
   {
    "duration": 12,
    "start_time": "2023-06-19T20:11:10.083Z"
   },
   {
    "duration": 11,
    "start_time": "2023-06-19T20:11:26.693Z"
   },
   {
    "duration": 12,
    "start_time": "2023-06-19T20:12:42.883Z"
   },
   {
    "duration": 1216,
    "start_time": "2023-06-19T20:12:51.727Z"
   },
   {
    "duration": 1293,
    "start_time": "2023-06-19T20:13:00.459Z"
   },
   {
    "duration": 13,
    "start_time": "2023-06-19T20:13:09.626Z"
   },
   {
    "duration": 1496,
    "start_time": "2023-06-19T20:14:01.703Z"
   },
   {
    "duration": 26,
    "start_time": "2023-06-19T20:14:19.500Z"
   },
   {
    "duration": 4,
    "start_time": "2023-06-19T20:20:51.853Z"
   },
   {
    "duration": 5,
    "start_time": "2023-06-19T20:21:00.612Z"
   },
   {
    "duration": 66,
    "start_time": "2023-06-19T20:23:33.397Z"
   },
   {
    "duration": 34,
    "start_time": "2023-06-19T20:24:21.016Z"
   },
   {
    "duration": 29,
    "start_time": "2023-06-19T20:31:13.335Z"
   },
   {
    "duration": 36,
    "start_time": "2023-06-19T20:32:46.655Z"
   },
   {
    "duration": 21,
    "start_time": "2023-06-19T20:33:15.668Z"
   },
   {
    "duration": 26,
    "start_time": "2023-06-19T20:33:24.060Z"
   },
   {
    "duration": 28,
    "start_time": "2023-06-19T20:33:26.660Z"
   },
   {
    "duration": 19,
    "start_time": "2023-06-19T20:33:33.342Z"
   },
   {
    "duration": 1207,
    "start_time": "2023-06-19T20:34:25.866Z"
   },
   {
    "duration": 20,
    "start_time": "2023-06-19T20:34:41.724Z"
   },
   {
    "duration": 20,
    "start_time": "2023-06-19T20:36:31.018Z"
   },
   {
    "duration": 24,
    "start_time": "2023-06-19T20:36:42.460Z"
   },
   {
    "duration": 19,
    "start_time": "2023-06-19T20:37:12.635Z"
   },
   {
    "duration": 12,
    "start_time": "2023-06-19T20:39:17.639Z"
   },
   {
    "duration": 11,
    "start_time": "2023-06-19T20:39:47.718Z"
   },
   {
    "duration": 10,
    "start_time": "2023-06-19T20:40:35.231Z"
   },
   {
    "duration": 10,
    "start_time": "2023-06-19T20:43:27.388Z"
   },
   {
    "duration": 7,
    "start_time": "2023-06-19T20:43:39.747Z"
   },
   {
    "duration": 11,
    "start_time": "2023-06-19T20:44:11.039Z"
   },
   {
    "duration": 7,
    "start_time": "2023-06-19T20:46:29.639Z"
   },
   {
    "duration": 13,
    "start_time": "2023-06-19T20:46:34.727Z"
   },
   {
    "duration": 10,
    "start_time": "2023-06-19T20:47:31.043Z"
   },
   {
    "duration": 64,
    "start_time": "2023-06-19T20:47:46.524Z"
   },
   {
    "duration": 18,
    "start_time": "2023-06-19T20:47:46.590Z"
   },
   {
    "duration": 22,
    "start_time": "2023-06-19T20:47:46.609Z"
   },
   {
    "duration": 27,
    "start_time": "2023-06-19T20:47:46.633Z"
   },
   {
    "duration": 35,
    "start_time": "2023-06-19T20:47:46.661Z"
   },
   {
    "duration": 8,
    "start_time": "2023-06-19T20:47:46.697Z"
   },
   {
    "duration": 18,
    "start_time": "2023-06-19T20:47:46.706Z"
   },
   {
    "duration": 4,
    "start_time": "2023-06-19T20:47:46.725Z"
   },
   {
    "duration": 7,
    "start_time": "2023-06-19T20:47:46.731Z"
   },
   {
    "duration": 10,
    "start_time": "2023-06-19T20:47:46.739Z"
   },
   {
    "duration": 41,
    "start_time": "2023-06-19T20:47:46.750Z"
   },
   {
    "duration": 17,
    "start_time": "2023-06-19T20:47:46.793Z"
   },
   {
    "duration": 5,
    "start_time": "2023-06-19T20:47:46.812Z"
   },
   {
    "duration": 10,
    "start_time": "2023-06-19T20:47:46.824Z"
   },
   {
    "duration": 20,
    "start_time": "2023-06-19T20:47:46.835Z"
   },
   {
    "duration": 15,
    "start_time": "2023-06-19T20:47:46.857Z"
   },
   {
    "duration": 4,
    "start_time": "2023-06-19T20:47:46.873Z"
   },
   {
    "duration": 26,
    "start_time": "2023-06-19T20:47:46.878Z"
   },
   {
    "duration": 5,
    "start_time": "2023-06-19T20:47:46.910Z"
   },
   {
    "duration": 3,
    "start_time": "2023-06-19T20:47:46.918Z"
   },
   {
    "duration": 15,
    "start_time": "2023-06-19T20:47:46.922Z"
   },
   {
    "duration": 11,
    "start_time": "2023-06-19T20:47:46.938Z"
   },
   {
    "duration": 17,
    "start_time": "2023-06-19T20:47:46.951Z"
   },
   {
    "duration": 3,
    "start_time": "2023-06-19T20:47:46.969Z"
   },
   {
    "duration": 19,
    "start_time": "2023-06-19T20:47:46.974Z"
   },
   {
    "duration": 13,
    "start_time": "2023-06-19T20:47:47.005Z"
   },
   {
    "duration": 12,
    "start_time": "2023-06-19T20:49:51.423Z"
   },
   {
    "duration": 29,
    "start_time": "2023-06-19T20:53:20.090Z"
   },
   {
    "duration": 586,
    "start_time": "2023-06-19T22:03:36.699Z"
   },
   {
    "duration": 30,
    "start_time": "2023-06-19T22:03:37.289Z"
   },
   {
    "duration": 19,
    "start_time": "2023-06-19T22:03:37.321Z"
   },
   {
    "duration": 15,
    "start_time": "2023-06-19T22:03:37.343Z"
   },
   {
    "duration": 78,
    "start_time": "2023-06-19T22:03:37.360Z"
   },
   {
    "duration": 5,
    "start_time": "2023-06-19T22:03:37.440Z"
   },
   {
    "duration": 16,
    "start_time": "2023-06-19T22:03:37.447Z"
   },
   {
    "duration": 54,
    "start_time": "2023-06-19T22:03:37.466Z"
   },
   {
    "duration": 13,
    "start_time": "2023-06-19T22:03:37.523Z"
   },
   {
    "duration": 9,
    "start_time": "2023-06-19T22:03:37.540Z"
   },
   {
    "duration": 55,
    "start_time": "2023-06-19T22:03:37.551Z"
   },
   {
    "duration": 11,
    "start_time": "2023-06-19T22:03:37.623Z"
   },
   {
    "duration": 5,
    "start_time": "2023-06-19T22:03:37.636Z"
   },
   {
    "duration": 24,
    "start_time": "2023-06-19T22:03:37.642Z"
   },
   {
    "duration": 26,
    "start_time": "2023-06-19T22:03:37.668Z"
   },
   {
    "duration": 39,
    "start_time": "2023-06-19T22:03:37.695Z"
   },
   {
    "duration": 5,
    "start_time": "2023-06-19T22:03:37.736Z"
   },
   {
    "duration": 26,
    "start_time": "2023-06-19T22:03:37.742Z"
   },
   {
    "duration": 8,
    "start_time": "2023-06-19T22:03:37.770Z"
   },
   {
    "duration": 15,
    "start_time": "2023-06-19T22:03:37.780Z"
   },
   {
    "duration": 27,
    "start_time": "2023-06-19T22:03:37.796Z"
   },
   {
    "duration": 19,
    "start_time": "2023-06-19T22:03:37.825Z"
   },
   {
    "duration": 23,
    "start_time": "2023-06-19T22:03:37.846Z"
   },
   {
    "duration": 8,
    "start_time": "2023-06-19T22:03:37.871Z"
   },
   {
    "duration": 67,
    "start_time": "2023-06-19T22:03:37.883Z"
   },
   {
    "duration": 18,
    "start_time": "2023-06-19T22:03:37.952Z"
   },
   {
    "duration": 601,
    "start_time": "2023-06-21T16:42:48.085Z"
   },
   {
    "duration": 34,
    "start_time": "2023-06-21T16:42:48.689Z"
   },
   {
    "duration": 132,
    "start_time": "2023-06-21T16:42:48.725Z"
   },
   {
    "duration": 56,
    "start_time": "2023-06-21T16:42:48.862Z"
   },
   {
    "duration": 56,
    "start_time": "2023-06-21T16:42:48.920Z"
   },
   {
    "duration": 8,
    "start_time": "2023-06-21T16:42:48.986Z"
   },
   {
    "duration": 34,
    "start_time": "2023-06-21T16:42:48.997Z"
   },
   {
    "duration": 15,
    "start_time": "2023-06-21T16:42:49.033Z"
   },
   {
    "duration": 53,
    "start_time": "2023-06-21T16:42:49.050Z"
   },
   {
    "duration": 14,
    "start_time": "2023-06-21T16:42:49.105Z"
   },
   {
    "duration": 69,
    "start_time": "2023-06-21T16:42:49.121Z"
   },
   {
    "duration": 11,
    "start_time": "2023-06-21T16:42:49.193Z"
   },
   {
    "duration": 28,
    "start_time": "2023-06-21T16:42:49.206Z"
   },
   {
    "duration": 61,
    "start_time": "2023-06-21T16:42:49.237Z"
   },
   {
    "duration": 32,
    "start_time": "2023-06-21T16:42:49.300Z"
   },
   {
    "duration": 54,
    "start_time": "2023-06-21T16:42:49.334Z"
   },
   {
    "duration": 4,
    "start_time": "2023-06-21T16:42:49.394Z"
   },
   {
    "duration": 18,
    "start_time": "2023-06-21T16:42:49.400Z"
   },
   {
    "duration": 15,
    "start_time": "2023-06-21T16:42:49.419Z"
   },
   {
    "duration": 13,
    "start_time": "2023-06-21T16:42:49.436Z"
   },
   {
    "duration": 63,
    "start_time": "2023-06-21T16:42:49.451Z"
   },
   {
    "duration": 21,
    "start_time": "2023-06-21T16:42:49.516Z"
   },
   {
    "duration": 24,
    "start_time": "2023-06-21T16:42:49.539Z"
   },
   {
    "duration": 35,
    "start_time": "2023-06-21T16:42:49.579Z"
   },
   {
    "duration": 34,
    "start_time": "2023-06-21T16:42:49.615Z"
   },
   {
    "duration": 45,
    "start_time": "2023-06-21T16:42:49.651Z"
   }
  ],
  "colab": {
   "provenance": []
  },
  "kernelspec": {
   "display_name": "Python 3 (ipykernel)",
   "language": "python",
   "name": "python3"
  },
  "language_info": {
   "codemirror_mode": {
    "name": "ipython",
    "version": 3
   },
   "file_extension": ".py",
   "mimetype": "text/x-python",
   "name": "python",
   "nbconvert_exporter": "python",
   "pygments_lexer": "ipython3",
   "version": "3.11.4"
  },
  "toc": {
   "base_numbering": 1,
   "nav_menu": {},
   "number_sections": true,
   "sideBar": true,
   "skip_h1_title": true,
   "title_cell": "Table of Contents",
   "title_sidebar": "Contents",
   "toc_cell": false,
   "toc_position": {},
   "toc_section_display": true,
   "toc_window_display": true
  }
 },
 "nbformat": 4,
 "nbformat_minor": 5
}
