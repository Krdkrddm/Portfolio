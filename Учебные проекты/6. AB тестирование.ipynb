{
 "cells": [
  {
   "cell_type": "markdown",
   "metadata": {},
   "source": [
    "# Маркетинговое исследование интернет-магазина. \n",
    "\n",
    "Необходимо:\n",
    "<br>  \n",
    "1) Приоритизировать гипотезы\n",
    "<br>\n",
    "2) Запустить A/B-тест\n",
    "<br>\n",
    "3) Проанализируйте результаты.\n",
    "\n",
    "План работы:\n",
    "<br>\n",
    "### Часть 1. Предобработка данных.\n",
    "<br>\n",
    "Задачи:\n",
    "<br>\n",
    "1)Загрузка библиотек\n",
    "<br>\n",
    "2)Загрузка данных\n",
    "<br>\n",
    "3)Просмотреть данные на предмет соответствия форматов\n",
    "<br>\n",
    "4)Просмотреть данные на предмет наличия пропусков\n",
    "\n",
    "\n",
    "### Часть 2. Приоритизация гипотез.\n",
    "<br>\n",
    "Задачи:\n",
    "<br>\n",
    "1)Применим фреймворк ICE для приоритизации гипотез. Отсортируем их по убыванию приоритета.\n",
    "<br>\n",
    "2)Применим фреймворк RICE для приоритизации гипотез. Отсортируем их по убыванию приоритета.\n",
    "<br>\n",
    "3)Необходимо указать, как изменилась приоритизация гипотез при применении RICE вместо ICE.\n",
    "<br>\n",
    "\n",
    "### Часть 3. Анализ A/B-теста.\n",
    "<br>\n",
    "Задачи:\n",
    "<br>\n",
    "Проанализируем A/B-тест:\n",
    "<br>\n",
    "1)Построим график кумулятивной выручки по группам.\n",
    "<br>\n",
    "2)Построим рафик кумулятивного среднего чека по группам.\n",
    "<br>\n",
    "3)Построим график относительного изменения кумулятивного среднего чека группы B к группе A.\n",
    "<br>\n",
    "4)Построим график кумулятивного среднего количества заказов на посетителя по группам.\n",
    "<br>\n",
    "5)Построим график относительного изменения кумулятивного среднего количества заказов на посетителя группы B к группе A.\n",
    "<br>\n",
    "6)Построим точечный график количества заказов по пользователям.\n",
    "<br>\n",
    "7)Посчитем 95-й и 99-й перцентили количества заказов на пользователя. Выберим границу для определения аномальных пользователей.\n",
    "<br>\n",
    "8)Построим точечный график стоимостей заказов.\n",
    "<br>\n",
    "9)Посчитаем 95-й и 99-й перцентили стоимости заказов. Выберем границу для определения аномальных заказов.\n",
    "<br>\n",
    "10)Посчитаем статистическую значимость различий в среднем количестве заказов на посетителя между группами по «сырым» данным.\n",
    "<br>\n",
    "11)Посчитаем статистическую значимость различий в среднем чеке заказа между группами по «сырым» данным.\n",
    "<br>\n",
    "12)Посчитаем статистическую значимость различий в среднем количестве заказов на посетителя между группами по «очищенным» данным.\n",
    "<br>\n",
    "13)Посчитаем статистическую значимость различий в среднем чеке заказа между группами по «очищенным» данным. \n",
    "<br>\n",
    "14)Примем решение по результатам теста и объясним его. \n",
    "<br>\n",
    "Варианты решений:\n",
    "<br>\n",
    "Остановить тест, зафиксировать победу одной из групп.\n",
    "<br>\n",
    "Остановить тест, зафиксировать отсутствие различий между группами.\n",
    "<br>\n",
    "Продолжить тест."
   ]
  },
  {
   "cell_type": "markdown",
   "metadata": {},
   "source": [
    "**Описание данных**"
   ]
  },
  {
   "cell_type": "markdown",
   "metadata": {},
   "source": [
    "\n",
    "Файл /datasets/hypothesis.csv.\n",
    "- Hypothesis — краткое описание гипотезы;\n",
    "- Reach — охват пользователей по 10-балльной шкале;\n",
    "- Impact — влияние на пользователей по 10-балльной шкале;\n",
    "- Confidence — уверенность в гипотезе по 10-балльной шкале;\n",
    "- Efforts — затраты ресурсов на проверку гипотезы по 10-балльной шкале. Чем больше значение Efforts, тем дороже проверка гипотезы.\n",
    "\n",
    "Файл /datasets/orders.csv.\n",
    "- transactionId — идентификатор заказа;\n",
    "- visitorId — идентификатор пользователя, совершившего заказ;\n",
    "- date — дата, когда был совершён заказ;\n",
    "- revenue — выручка заказа;\n",
    "- group — группа A/B-теста, в которую попал заказ.  \n",
    "\n",
    "Файл /datasets/visitors.csv.  \n",
    "- date — дата;\n",
    "- group — группа A/B-теста;\n",
    "- visitors — количество пользователей в указанную дату в указанной группе A/B-теста"
   ]
  },
  {
   "cell_type": "markdown",
   "metadata": {},
   "source": [
    "## Часть 1. Предобработка данных.\n",
    "Задачи:\n",
    "<br>\n",
    "1)Загрузка библиотек\n",
    "<br>\n",
    "2)Загрузка данных\n",
    "<br>\n",
    "3)Просмотреть данные на предмет соответствия форматов\n",
    "<br>\n",
    "4)Просмотреть данные на предмет наличия пропусков\n"
   ]
  },
  {
   "cell_type": "code",
   "execution_count": 1,
   "metadata": {},
   "outputs": [],
   "source": [
    "import pandas as pd\n",
    "import numpy as np\n",
    "import matplotlib.pyplot as plt\n",
    "from datetime import datetime, timedelta\n",
    "import seaborn as sns\n",
    "from scipy import stats as st\n",
    "import datetime as dt"
   ]
  },
  {
   "cell_type": "code",
   "execution_count": 2,
   "metadata": {},
   "outputs": [],
   "source": [
    "try:\n",
    "    hypothesis = pd.read_csv(r'C:\\Users\\dimak\\Downloads\\hypothesis.csv')\n",
    "except:\n",
    "    hypothesis = pd.read_csv('/datasets/hypothesis.csv')\n",
    "    \n",
    "try:\n",
    "    orders = pd.read_csv(r'C:\\Users\\dimak\\Downloads\\orders.csv')\n",
    "except:\n",
    "    orders = pd.read_csv('/datasets/orders.csv')\n",
    "    \n",
    "try:\n",
    "    visitors = pd.read_csv(r'C:\\Users\\dimak\\Downloads\\visitors.csv')\n",
    "except:\n",
    "    visitors = pd.read_csv('/datasets/visitors.csv')"
   ]
  },
  {
   "cell_type": "code",
   "execution_count": 3,
   "metadata": {},
   "outputs": [
    {
     "data": {
      "text/html": [
       "<div>\n",
       "<style scoped>\n",
       "    .dataframe tbody tr th:only-of-type {\n",
       "        vertical-align: middle;\n",
       "    }\n",
       "\n",
       "    .dataframe tbody tr th {\n",
       "        vertical-align: top;\n",
       "    }\n",
       "\n",
       "    .dataframe thead th {\n",
       "        text-align: right;\n",
       "    }\n",
       "</style>\n",
       "<table border=\"1\" class=\"dataframe\">\n",
       "  <thead>\n",
       "    <tr style=\"text-align: right;\">\n",
       "      <th></th>\n",
       "      <th>Hypothesis</th>\n",
       "      <th>Reach</th>\n",
       "      <th>Impact</th>\n",
       "      <th>Confidence</th>\n",
       "      <th>Efforts</th>\n",
       "    </tr>\n",
       "  </thead>\n",
       "  <tbody>\n",
       "    <tr>\n",
       "      <th>0</th>\n",
       "      <td>Добавить два новых канала привлечения трафика,...</td>\n",
       "      <td>3</td>\n",
       "      <td>10</td>\n",
       "      <td>8</td>\n",
       "      <td>6</td>\n",
       "    </tr>\n",
       "    <tr>\n",
       "      <th>1</th>\n",
       "      <td>Запустить собственную службу доставки, что сок...</td>\n",
       "      <td>2</td>\n",
       "      <td>5</td>\n",
       "      <td>4</td>\n",
       "      <td>10</td>\n",
       "    </tr>\n",
       "    <tr>\n",
       "      <th>2</th>\n",
       "      <td>Добавить блоки рекомендаций товаров на сайт ин...</td>\n",
       "      <td>8</td>\n",
       "      <td>3</td>\n",
       "      <td>7</td>\n",
       "      <td>3</td>\n",
       "    </tr>\n",
       "    <tr>\n",
       "      <th>3</th>\n",
       "      <td>Изменить структура категорий, что увеличит кон...</td>\n",
       "      <td>8</td>\n",
       "      <td>3</td>\n",
       "      <td>3</td>\n",
       "      <td>8</td>\n",
       "    </tr>\n",
       "    <tr>\n",
       "      <th>4</th>\n",
       "      <td>Изменить цвет фона главной страницы, чтобы уве...</td>\n",
       "      <td>3</td>\n",
       "      <td>1</td>\n",
       "      <td>1</td>\n",
       "      <td>1</td>\n",
       "    </tr>\n",
       "    <tr>\n",
       "      <th>5</th>\n",
       "      <td>Добавить страницу отзывов клиентов о магазине,...</td>\n",
       "      <td>3</td>\n",
       "      <td>2</td>\n",
       "      <td>2</td>\n",
       "      <td>3</td>\n",
       "    </tr>\n",
       "    <tr>\n",
       "      <th>6</th>\n",
       "      <td>Показать на главной странице баннеры с актуаль...</td>\n",
       "      <td>5</td>\n",
       "      <td>3</td>\n",
       "      <td>8</td>\n",
       "      <td>3</td>\n",
       "    </tr>\n",
       "    <tr>\n",
       "      <th>7</th>\n",
       "      <td>Добавить форму подписки на все основные страни...</td>\n",
       "      <td>10</td>\n",
       "      <td>7</td>\n",
       "      <td>8</td>\n",
       "      <td>5</td>\n",
       "    </tr>\n",
       "    <tr>\n",
       "      <th>8</th>\n",
       "      <td>Запустить акцию, дающую скидку на товар в день...</td>\n",
       "      <td>1</td>\n",
       "      <td>9</td>\n",
       "      <td>9</td>\n",
       "      <td>5</td>\n",
       "    </tr>\n",
       "  </tbody>\n",
       "</table>\n",
       "</div>"
      ],
      "text/plain": [
       "                                          Hypothesis  Reach  Impact  \\\n",
       "0  Добавить два новых канала привлечения трафика,...      3      10   \n",
       "1  Запустить собственную службу доставки, что сок...      2       5   \n",
       "2  Добавить блоки рекомендаций товаров на сайт ин...      8       3   \n",
       "3  Изменить структура категорий, что увеличит кон...      8       3   \n",
       "4  Изменить цвет фона главной страницы, чтобы уве...      3       1   \n",
       "5  Добавить страницу отзывов клиентов о магазине,...      3       2   \n",
       "6  Показать на главной странице баннеры с актуаль...      5       3   \n",
       "7  Добавить форму подписки на все основные страни...     10       7   \n",
       "8  Запустить акцию, дающую скидку на товар в день...      1       9   \n",
       "\n",
       "   Confidence  Efforts  \n",
       "0           8        6  \n",
       "1           4       10  \n",
       "2           7        3  \n",
       "3           3        8  \n",
       "4           1        1  \n",
       "5           2        3  \n",
       "6           8        3  \n",
       "7           8        5  \n",
       "8           9        5  "
      ]
     },
     "execution_count": 3,
     "metadata": {},
     "output_type": "execute_result"
    }
   ],
   "source": [
    "hypothesis"
   ]
  },
  {
   "cell_type": "markdown",
   "metadata": {},
   "source": [
    "Приводим название столбцов к нижнему регистру"
   ]
  },
  {
   "cell_type": "code",
   "execution_count": 4,
   "metadata": {},
   "outputs": [],
   "source": [
    "hypothesis.columns = ['hypothesis', 'reach', 'impact', 'confidence', 'efforts']"
   ]
  },
  {
   "cell_type": "code",
   "execution_count": 5,
   "metadata": {},
   "outputs": [
    {
     "data": {
      "text/html": [
       "<div>\n",
       "<style scoped>\n",
       "    .dataframe tbody tr th:only-of-type {\n",
       "        vertical-align: middle;\n",
       "    }\n",
       "\n",
       "    .dataframe tbody tr th {\n",
       "        vertical-align: top;\n",
       "    }\n",
       "\n",
       "    .dataframe thead th {\n",
       "        text-align: right;\n",
       "    }\n",
       "</style>\n",
       "<table border=\"1\" class=\"dataframe\">\n",
       "  <thead>\n",
       "    <tr style=\"text-align: right;\">\n",
       "      <th></th>\n",
       "      <th>hypothesis</th>\n",
       "      <th>reach</th>\n",
       "      <th>impact</th>\n",
       "      <th>confidence</th>\n",
       "      <th>efforts</th>\n",
       "    </tr>\n",
       "  </thead>\n",
       "  <tbody>\n",
       "    <tr>\n",
       "      <th>0</th>\n",
       "      <td>Добавить два новых канала привлечения трафика,...</td>\n",
       "      <td>3</td>\n",
       "      <td>10</td>\n",
       "      <td>8</td>\n",
       "      <td>6</td>\n",
       "    </tr>\n",
       "    <tr>\n",
       "      <th>1</th>\n",
       "      <td>Запустить собственную службу доставки, что сок...</td>\n",
       "      <td>2</td>\n",
       "      <td>5</td>\n",
       "      <td>4</td>\n",
       "      <td>10</td>\n",
       "    </tr>\n",
       "    <tr>\n",
       "      <th>2</th>\n",
       "      <td>Добавить блоки рекомендаций товаров на сайт ин...</td>\n",
       "      <td>8</td>\n",
       "      <td>3</td>\n",
       "      <td>7</td>\n",
       "      <td>3</td>\n",
       "    </tr>\n",
       "    <tr>\n",
       "      <th>3</th>\n",
       "      <td>Изменить структура категорий, что увеличит кон...</td>\n",
       "      <td>8</td>\n",
       "      <td>3</td>\n",
       "      <td>3</td>\n",
       "      <td>8</td>\n",
       "    </tr>\n",
       "    <tr>\n",
       "      <th>4</th>\n",
       "      <td>Изменить цвет фона главной страницы, чтобы уве...</td>\n",
       "      <td>3</td>\n",
       "      <td>1</td>\n",
       "      <td>1</td>\n",
       "      <td>1</td>\n",
       "    </tr>\n",
       "    <tr>\n",
       "      <th>5</th>\n",
       "      <td>Добавить страницу отзывов клиентов о магазине,...</td>\n",
       "      <td>3</td>\n",
       "      <td>2</td>\n",
       "      <td>2</td>\n",
       "      <td>3</td>\n",
       "    </tr>\n",
       "    <tr>\n",
       "      <th>6</th>\n",
       "      <td>Показать на главной странице баннеры с актуаль...</td>\n",
       "      <td>5</td>\n",
       "      <td>3</td>\n",
       "      <td>8</td>\n",
       "      <td>3</td>\n",
       "    </tr>\n",
       "    <tr>\n",
       "      <th>7</th>\n",
       "      <td>Добавить форму подписки на все основные страни...</td>\n",
       "      <td>10</td>\n",
       "      <td>7</td>\n",
       "      <td>8</td>\n",
       "      <td>5</td>\n",
       "    </tr>\n",
       "    <tr>\n",
       "      <th>8</th>\n",
       "      <td>Запустить акцию, дающую скидку на товар в день...</td>\n",
       "      <td>1</td>\n",
       "      <td>9</td>\n",
       "      <td>9</td>\n",
       "      <td>5</td>\n",
       "    </tr>\n",
       "  </tbody>\n",
       "</table>\n",
       "</div>"
      ],
      "text/plain": [
       "                                          hypothesis  reach  impact  \\\n",
       "0  Добавить два новых канала привлечения трафика,...      3      10   \n",
       "1  Запустить собственную службу доставки, что сок...      2       5   \n",
       "2  Добавить блоки рекомендаций товаров на сайт ин...      8       3   \n",
       "3  Изменить структура категорий, что увеличит кон...      8       3   \n",
       "4  Изменить цвет фона главной страницы, чтобы уве...      3       1   \n",
       "5  Добавить страницу отзывов клиентов о магазине,...      3       2   \n",
       "6  Показать на главной странице баннеры с актуаль...      5       3   \n",
       "7  Добавить форму подписки на все основные страни...     10       7   \n",
       "8  Запустить акцию, дающую скидку на товар в день...      1       9   \n",
       "\n",
       "   confidence  efforts  \n",
       "0           8        6  \n",
       "1           4       10  \n",
       "2           7        3  \n",
       "3           3        8  \n",
       "4           1        1  \n",
       "5           2        3  \n",
       "6           8        3  \n",
       "7           8        5  \n",
       "8           9        5  "
      ]
     },
     "execution_count": 5,
     "metadata": {},
     "output_type": "execute_result"
    }
   ],
   "source": [
    "hypothesis"
   ]
  },
  {
   "cell_type": "code",
   "execution_count": 6,
   "metadata": {},
   "outputs": [
    {
     "data": {
      "text/html": [
       "<div>\n",
       "<style scoped>\n",
       "    .dataframe tbody tr th:only-of-type {\n",
       "        vertical-align: middle;\n",
       "    }\n",
       "\n",
       "    .dataframe tbody tr th {\n",
       "        vertical-align: top;\n",
       "    }\n",
       "\n",
       "    .dataframe thead th {\n",
       "        text-align: right;\n",
       "    }\n",
       "</style>\n",
       "<table border=\"1\" class=\"dataframe\">\n",
       "  <thead>\n",
       "    <tr style=\"text-align: right;\">\n",
       "      <th></th>\n",
       "      <th>transactionId</th>\n",
       "      <th>visitorId</th>\n",
       "      <th>date</th>\n",
       "      <th>revenue</th>\n",
       "      <th>group</th>\n",
       "    </tr>\n",
       "  </thead>\n",
       "  <tbody>\n",
       "    <tr>\n",
       "      <th>0</th>\n",
       "      <td>3667963787</td>\n",
       "      <td>3312258926</td>\n",
       "      <td>2019-08-15</td>\n",
       "      <td>1650</td>\n",
       "      <td>B</td>\n",
       "    </tr>\n",
       "    <tr>\n",
       "      <th>1</th>\n",
       "      <td>2804400009</td>\n",
       "      <td>3642806036</td>\n",
       "      <td>2019-08-15</td>\n",
       "      <td>730</td>\n",
       "      <td>B</td>\n",
       "    </tr>\n",
       "    <tr>\n",
       "      <th>2</th>\n",
       "      <td>2961555356</td>\n",
       "      <td>4069496402</td>\n",
       "      <td>2019-08-15</td>\n",
       "      <td>400</td>\n",
       "      <td>A</td>\n",
       "    </tr>\n",
       "    <tr>\n",
       "      <th>3</th>\n",
       "      <td>3797467345</td>\n",
       "      <td>1196621759</td>\n",
       "      <td>2019-08-15</td>\n",
       "      <td>9759</td>\n",
       "      <td>B</td>\n",
       "    </tr>\n",
       "    <tr>\n",
       "      <th>4</th>\n",
       "      <td>2282983706</td>\n",
       "      <td>2322279887</td>\n",
       "      <td>2019-08-15</td>\n",
       "      <td>2308</td>\n",
       "      <td>B</td>\n",
       "    </tr>\n",
       "  </tbody>\n",
       "</table>\n",
       "</div>"
      ],
      "text/plain": [
       "   transactionId   visitorId        date  revenue group\n",
       "0     3667963787  3312258926  2019-08-15     1650     B\n",
       "1     2804400009  3642806036  2019-08-15      730     B\n",
       "2     2961555356  4069496402  2019-08-15      400     A\n",
       "3     3797467345  1196621759  2019-08-15     9759     B\n",
       "4     2282983706  2322279887  2019-08-15     2308     B"
      ]
     },
     "execution_count": 6,
     "metadata": {},
     "output_type": "execute_result"
    }
   ],
   "source": [
    "orders.head(5)"
   ]
  },
  {
   "cell_type": "code",
   "execution_count": 7,
   "metadata": {},
   "outputs": [
    {
     "name": "stdout",
     "output_type": "stream",
     "text": [
      "<class 'pandas.core.frame.DataFrame'>\n",
      "RangeIndex: 1197 entries, 0 to 1196\n",
      "Data columns (total 5 columns):\n",
      " #   Column         Non-Null Count  Dtype \n",
      "---  ------         --------------  ----- \n",
      " 0   transactionId  1197 non-null   int64 \n",
      " 1   visitorId      1197 non-null   int64 \n",
      " 2   date           1197 non-null   object\n",
      " 3   revenue        1197 non-null   int64 \n",
      " 4   group          1197 non-null   object\n",
      "dtypes: int64(3), object(2)\n",
      "memory usage: 46.9+ KB\n"
     ]
    }
   ],
   "source": [
    "orders.info()"
   ]
  },
  {
   "cell_type": "code",
   "execution_count": 8,
   "metadata": {},
   "outputs": [
    {
     "data": {
      "text/plain": [
       "transactionId    0\n",
       "visitorId        0\n",
       "date             0\n",
       "revenue          0\n",
       "group            0\n",
       "dtype: int64"
      ]
     },
     "execution_count": 8,
     "metadata": {},
     "output_type": "execute_result"
    }
   ],
   "source": [
    "orders.isna().sum()"
   ]
  },
  {
   "cell_type": "markdown",
   "metadata": {},
   "source": [
    "Столбец date приводим к формату datetime"
   ]
  },
  {
   "cell_type": "code",
   "execution_count": 9,
   "metadata": {},
   "outputs": [],
   "source": [
    "orders['date'] = pd.to_datetime(orders['date'])"
   ]
  },
  {
   "cell_type": "code",
   "execution_count": 10,
   "metadata": {},
   "outputs": [],
   "source": [
    "orders.columns = ['transaction_id', 'visitor_id', 'date', 'revenue', 'group']"
   ]
  },
  {
   "cell_type": "code",
   "execution_count": 11,
   "metadata": {},
   "outputs": [
    {
     "data": {
      "text/html": [
       "<div>\n",
       "<style scoped>\n",
       "    .dataframe tbody tr th:only-of-type {\n",
       "        vertical-align: middle;\n",
       "    }\n",
       "\n",
       "    .dataframe tbody tr th {\n",
       "        vertical-align: top;\n",
       "    }\n",
       "\n",
       "    .dataframe thead th {\n",
       "        text-align: right;\n",
       "    }\n",
       "</style>\n",
       "<table border=\"1\" class=\"dataframe\">\n",
       "  <thead>\n",
       "    <tr style=\"text-align: right;\">\n",
       "      <th></th>\n",
       "      <th>transaction_id</th>\n",
       "      <th>visitor_id</th>\n",
       "      <th>date</th>\n",
       "      <th>revenue</th>\n",
       "      <th>group</th>\n",
       "    </tr>\n",
       "  </thead>\n",
       "  <tbody>\n",
       "    <tr>\n",
       "      <th>0</th>\n",
       "      <td>3667963787</td>\n",
       "      <td>3312258926</td>\n",
       "      <td>2019-08-15</td>\n",
       "      <td>1650</td>\n",
       "      <td>B</td>\n",
       "    </tr>\n",
       "    <tr>\n",
       "      <th>1</th>\n",
       "      <td>2804400009</td>\n",
       "      <td>3642806036</td>\n",
       "      <td>2019-08-15</td>\n",
       "      <td>730</td>\n",
       "      <td>B</td>\n",
       "    </tr>\n",
       "    <tr>\n",
       "      <th>2</th>\n",
       "      <td>2961555356</td>\n",
       "      <td>4069496402</td>\n",
       "      <td>2019-08-15</td>\n",
       "      <td>400</td>\n",
       "      <td>A</td>\n",
       "    </tr>\n",
       "    <tr>\n",
       "      <th>3</th>\n",
       "      <td>3797467345</td>\n",
       "      <td>1196621759</td>\n",
       "      <td>2019-08-15</td>\n",
       "      <td>9759</td>\n",
       "      <td>B</td>\n",
       "    </tr>\n",
       "    <tr>\n",
       "      <th>4</th>\n",
       "      <td>2282983706</td>\n",
       "      <td>2322279887</td>\n",
       "      <td>2019-08-15</td>\n",
       "      <td>2308</td>\n",
       "      <td>B</td>\n",
       "    </tr>\n",
       "  </tbody>\n",
       "</table>\n",
       "</div>"
      ],
      "text/plain": [
       "   transaction_id  visitor_id       date  revenue group\n",
       "0      3667963787  3312258926 2019-08-15     1650     B\n",
       "1      2804400009  3642806036 2019-08-15      730     B\n",
       "2      2961555356  4069496402 2019-08-15      400     A\n",
       "3      3797467345  1196621759 2019-08-15     9759     B\n",
       "4      2282983706  2322279887 2019-08-15     2308     B"
      ]
     },
     "execution_count": 11,
     "metadata": {},
     "output_type": "execute_result"
    }
   ],
   "source": [
    "orders.head(5)"
   ]
  },
  {
   "cell_type": "code",
   "execution_count": 12,
   "metadata": {},
   "outputs": [
    {
     "name": "stdout",
     "output_type": "stream",
     "text": [
      "<class 'pandas.core.frame.DataFrame'>\n",
      "RangeIndex: 1197 entries, 0 to 1196\n",
      "Data columns (total 5 columns):\n",
      " #   Column          Non-Null Count  Dtype         \n",
      "---  ------          --------------  -----         \n",
      " 0   transaction_id  1197 non-null   int64         \n",
      " 1   visitor_id      1197 non-null   int64         \n",
      " 2   date            1197 non-null   datetime64[ns]\n",
      " 3   revenue         1197 non-null   int64         \n",
      " 4   group           1197 non-null   object        \n",
      "dtypes: datetime64[ns](1), int64(3), object(1)\n",
      "memory usage: 46.9+ KB\n"
     ]
    }
   ],
   "source": [
    "orders.info()"
   ]
  },
  {
   "cell_type": "code",
   "execution_count": 13,
   "metadata": {},
   "outputs": [
    {
     "data": {
      "text/html": [
       "<div>\n",
       "<style scoped>\n",
       "    .dataframe tbody tr th:only-of-type {\n",
       "        vertical-align: middle;\n",
       "    }\n",
       "\n",
       "    .dataframe tbody tr th {\n",
       "        vertical-align: top;\n",
       "    }\n",
       "\n",
       "    .dataframe thead th {\n",
       "        text-align: right;\n",
       "    }\n",
       "</style>\n",
       "<table border=\"1\" class=\"dataframe\">\n",
       "  <thead>\n",
       "    <tr style=\"text-align: right;\">\n",
       "      <th></th>\n",
       "      <th>date</th>\n",
       "      <th>group</th>\n",
       "      <th>visitors</th>\n",
       "    </tr>\n",
       "  </thead>\n",
       "  <tbody>\n",
       "    <tr>\n",
       "      <th>0</th>\n",
       "      <td>2019-08-01</td>\n",
       "      <td>A</td>\n",
       "      <td>719</td>\n",
       "    </tr>\n",
       "    <tr>\n",
       "      <th>1</th>\n",
       "      <td>2019-08-02</td>\n",
       "      <td>A</td>\n",
       "      <td>619</td>\n",
       "    </tr>\n",
       "    <tr>\n",
       "      <th>2</th>\n",
       "      <td>2019-08-03</td>\n",
       "      <td>A</td>\n",
       "      <td>507</td>\n",
       "    </tr>\n",
       "    <tr>\n",
       "      <th>3</th>\n",
       "      <td>2019-08-04</td>\n",
       "      <td>A</td>\n",
       "      <td>717</td>\n",
       "    </tr>\n",
       "    <tr>\n",
       "      <th>4</th>\n",
       "      <td>2019-08-05</td>\n",
       "      <td>A</td>\n",
       "      <td>756</td>\n",
       "    </tr>\n",
       "  </tbody>\n",
       "</table>\n",
       "</div>"
      ],
      "text/plain": [
       "         date group  visitors\n",
       "0  2019-08-01     A       719\n",
       "1  2019-08-02     A       619\n",
       "2  2019-08-03     A       507\n",
       "3  2019-08-04     A       717\n",
       "4  2019-08-05     A       756"
      ]
     },
     "execution_count": 13,
     "metadata": {},
     "output_type": "execute_result"
    }
   ],
   "source": [
    "visitors.head(5)"
   ]
  },
  {
   "cell_type": "code",
   "execution_count": 14,
   "metadata": {},
   "outputs": [
    {
     "name": "stdout",
     "output_type": "stream",
     "text": [
      "<class 'pandas.core.frame.DataFrame'>\n",
      "RangeIndex: 62 entries, 0 to 61\n",
      "Data columns (total 3 columns):\n",
      " #   Column    Non-Null Count  Dtype \n",
      "---  ------    --------------  ----- \n",
      " 0   date      62 non-null     object\n",
      " 1   group     62 non-null     object\n",
      " 2   visitors  62 non-null     int64 \n",
      "dtypes: int64(1), object(2)\n",
      "memory usage: 1.6+ KB\n"
     ]
    }
   ],
   "source": [
    "visitors.info()"
   ]
  },
  {
   "cell_type": "code",
   "execution_count": 15,
   "metadata": {},
   "outputs": [
    {
     "data": {
      "text/plain": [
       "date        0\n",
       "group       0\n",
       "visitors    0\n",
       "dtype: int64"
      ]
     },
     "execution_count": 15,
     "metadata": {},
     "output_type": "execute_result"
    }
   ],
   "source": [
    "visitors.isna().sum()"
   ]
  },
  {
   "cell_type": "markdown",
   "metadata": {},
   "source": [
    "Столбец date приводим к формату datetime"
   ]
  },
  {
   "cell_type": "code",
   "execution_count": 16,
   "metadata": {},
   "outputs": [],
   "source": [
    "visitors['date'] = pd.to_datetime(visitors['date'])"
   ]
  },
  {
   "cell_type": "code",
   "execution_count": 17,
   "metadata": {},
   "outputs": [
    {
     "name": "stdout",
     "output_type": "stream",
     "text": [
      "<class 'pandas.core.frame.DataFrame'>\n",
      "RangeIndex: 62 entries, 0 to 61\n",
      "Data columns (total 3 columns):\n",
      " #   Column    Non-Null Count  Dtype         \n",
      "---  ------    --------------  -----         \n",
      " 0   date      62 non-null     datetime64[ns]\n",
      " 1   group     62 non-null     object        \n",
      " 2   visitors  62 non-null     int64         \n",
      "dtypes: datetime64[ns](1), int64(1), object(1)\n",
      "memory usage: 1.6+ KB\n"
     ]
    }
   ],
   "source": [
    "visitors.info()"
   ]
  },
  {
   "cell_type": "markdown",
   "metadata": {},
   "source": [
    "Проверим наличие айди, которые попали в обе группы <a id='проверка'></a>"
   ]
  },
  {
   "cell_type": "code",
   "execution_count": 18,
   "metadata": {},
   "outputs": [],
   "source": [
    "check = orders.loc[orders[\"group\"]==\"A\", \"visitor_id\"].isin(orders.loc[orders[\"group\"]==\"B\", \"visitor_id\"]).reset_index()"
   ]
  },
  {
   "cell_type": "code",
   "execution_count": 19,
   "metadata": {},
   "outputs": [],
   "source": [
    "check2 = orders.loc[orders[\"group\"]==\"B\", \"visitor_id\"].isin(orders.loc[orders[\"group\"]==\"A\", \"visitor_id\"]).reset_index()"
   ]
  },
  {
   "cell_type": "code",
   "execution_count": 20,
   "metadata": {},
   "outputs": [
    {
     "data": {
      "text/html": [
       "<div>\n",
       "<style scoped>\n",
       "    .dataframe tbody tr th:only-of-type {\n",
       "        vertical-align: middle;\n",
       "    }\n",
       "\n",
       "    .dataframe tbody tr th {\n",
       "        vertical-align: top;\n",
       "    }\n",
       "\n",
       "    .dataframe thead th {\n",
       "        text-align: right;\n",
       "    }\n",
       "</style>\n",
       "<table border=\"1\" class=\"dataframe\">\n",
       "  <thead>\n",
       "    <tr style=\"text-align: right;\">\n",
       "      <th></th>\n",
       "      <th>index</th>\n",
       "      <th>visitor_id</th>\n",
       "    </tr>\n",
       "  </thead>\n",
       "  <tbody>\n",
       "    <tr>\n",
       "      <th>0</th>\n",
       "      <td>2</td>\n",
       "      <td>True</td>\n",
       "    </tr>\n",
       "    <tr>\n",
       "      <th>1</th>\n",
       "      <td>7</td>\n",
       "      <td>False</td>\n",
       "    </tr>\n",
       "    <tr>\n",
       "      <th>2</th>\n",
       "      <td>8</td>\n",
       "      <td>False</td>\n",
       "    </tr>\n",
       "    <tr>\n",
       "      <th>3</th>\n",
       "      <td>10</td>\n",
       "      <td>False</td>\n",
       "    </tr>\n",
       "    <tr>\n",
       "      <th>4</th>\n",
       "      <td>12</td>\n",
       "      <td>False</td>\n",
       "    </tr>\n",
       "    <tr>\n",
       "      <th>...</th>\n",
       "      <td>...</td>\n",
       "      <td>...</td>\n",
       "    </tr>\n",
       "    <tr>\n",
       "      <th>552</th>\n",
       "      <td>1187</td>\n",
       "      <td>False</td>\n",
       "    </tr>\n",
       "    <tr>\n",
       "      <th>553</th>\n",
       "      <td>1188</td>\n",
       "      <td>False</td>\n",
       "    </tr>\n",
       "    <tr>\n",
       "      <th>554</th>\n",
       "      <td>1193</td>\n",
       "      <td>False</td>\n",
       "    </tr>\n",
       "    <tr>\n",
       "      <th>555</th>\n",
       "      <td>1194</td>\n",
       "      <td>False</td>\n",
       "    </tr>\n",
       "    <tr>\n",
       "      <th>556</th>\n",
       "      <td>1195</td>\n",
       "      <td>True</td>\n",
       "    </tr>\n",
       "  </tbody>\n",
       "</table>\n",
       "<p>557 rows × 2 columns</p>\n",
       "</div>"
      ],
      "text/plain": [
       "     index  visitor_id\n",
       "0        2        True\n",
       "1        7       False\n",
       "2        8       False\n",
       "3       10       False\n",
       "4       12       False\n",
       "..     ...         ...\n",
       "552   1187       False\n",
       "553   1188       False\n",
       "554   1193       False\n",
       "555   1194       False\n",
       "556   1195        True\n",
       "\n",
       "[557 rows x 2 columns]"
      ]
     },
     "execution_count": 20,
     "metadata": {},
     "output_type": "execute_result"
    }
   ],
   "source": [
    "check"
   ]
  },
  {
   "cell_type": "code",
   "execution_count": 21,
   "metadata": {},
   "outputs": [
    {
     "data": {
      "text/html": [
       "<div>\n",
       "<style scoped>\n",
       "    .dataframe tbody tr th:only-of-type {\n",
       "        vertical-align: middle;\n",
       "    }\n",
       "\n",
       "    .dataframe tbody tr th {\n",
       "        vertical-align: top;\n",
       "    }\n",
       "\n",
       "    .dataframe thead th {\n",
       "        text-align: right;\n",
       "    }\n",
       "</style>\n",
       "<table border=\"1\" class=\"dataframe\">\n",
       "  <thead>\n",
       "    <tr style=\"text-align: right;\">\n",
       "      <th></th>\n",
       "      <th>index</th>\n",
       "      <th>visitor_id</th>\n",
       "    </tr>\n",
       "  </thead>\n",
       "  <tbody>\n",
       "    <tr>\n",
       "      <th>0</th>\n",
       "      <td>2</td>\n",
       "      <td>True</td>\n",
       "    </tr>\n",
       "    <tr>\n",
       "      <th>9</th>\n",
       "      <td>26</td>\n",
       "      <td>True</td>\n",
       "    </tr>\n",
       "    <tr>\n",
       "      <th>10</th>\n",
       "      <td>29</td>\n",
       "      <td>True</td>\n",
       "    </tr>\n",
       "    <tr>\n",
       "      <th>11</th>\n",
       "      <td>33</td>\n",
       "      <td>True</td>\n",
       "    </tr>\n",
       "    <tr>\n",
       "      <th>13</th>\n",
       "      <td>41</td>\n",
       "      <td>True</td>\n",
       "    </tr>\n",
       "    <tr>\n",
       "      <th>...</th>\n",
       "      <td>...</td>\n",
       "      <td>...</td>\n",
       "    </tr>\n",
       "    <tr>\n",
       "      <th>542</th>\n",
       "      <td>1167</td>\n",
       "      <td>True</td>\n",
       "    </tr>\n",
       "    <tr>\n",
       "      <th>545</th>\n",
       "      <td>1173</td>\n",
       "      <td>True</td>\n",
       "    </tr>\n",
       "    <tr>\n",
       "      <th>547</th>\n",
       "      <td>1178</td>\n",
       "      <td>True</td>\n",
       "    </tr>\n",
       "    <tr>\n",
       "      <th>550</th>\n",
       "      <td>1183</td>\n",
       "      <td>True</td>\n",
       "    </tr>\n",
       "    <tr>\n",
       "      <th>556</th>\n",
       "      <td>1195</td>\n",
       "      <td>True</td>\n",
       "    </tr>\n",
       "  </tbody>\n",
       "</table>\n",
       "<p>89 rows × 2 columns</p>\n",
       "</div>"
      ],
      "text/plain": [
       "     index  visitor_id\n",
       "0        2        True\n",
       "9       26        True\n",
       "10      29        True\n",
       "11      33        True\n",
       "13      41        True\n",
       "..     ...         ...\n",
       "542   1167        True\n",
       "545   1173        True\n",
       "547   1178        True\n",
       "550   1183        True\n",
       "556   1195        True\n",
       "\n",
       "[89 rows x 2 columns]"
      ]
     },
     "execution_count": 21,
     "metadata": {},
     "output_type": "execute_result"
    }
   ],
   "source": [
    "check[check['visitor_id'] == True]"
   ]
  },
  {
   "cell_type": "code",
   "execution_count": 22,
   "metadata": {},
   "outputs": [
    {
     "data": {
      "text/html": [
       "<div>\n",
       "<style scoped>\n",
       "    .dataframe tbody tr th:only-of-type {\n",
       "        vertical-align: middle;\n",
       "    }\n",
       "\n",
       "    .dataframe tbody tr th {\n",
       "        vertical-align: top;\n",
       "    }\n",
       "\n",
       "    .dataframe thead th {\n",
       "        text-align: right;\n",
       "    }\n",
       "</style>\n",
       "<table border=\"1\" class=\"dataframe\">\n",
       "  <thead>\n",
       "    <tr style=\"text-align: right;\">\n",
       "      <th></th>\n",
       "      <th>index</th>\n",
       "      <th>visitor_id</th>\n",
       "    </tr>\n",
       "  </thead>\n",
       "  <tbody>\n",
       "    <tr>\n",
       "      <th>12</th>\n",
       "      <td>20</td>\n",
       "      <td>True</td>\n",
       "    </tr>\n",
       "    <tr>\n",
       "      <th>15</th>\n",
       "      <td>23</td>\n",
       "      <td>True</td>\n",
       "    </tr>\n",
       "    <tr>\n",
       "      <th>16</th>\n",
       "      <td>24</td>\n",
       "      <td>True</td>\n",
       "    </tr>\n",
       "    <tr>\n",
       "      <th>17</th>\n",
       "      <td>27</td>\n",
       "      <td>True</td>\n",
       "    </tr>\n",
       "    <tr>\n",
       "      <th>21</th>\n",
       "      <td>32</td>\n",
       "      <td>True</td>\n",
       "    </tr>\n",
       "    <tr>\n",
       "      <th>...</th>\n",
       "      <td>...</td>\n",
       "      <td>...</td>\n",
       "    </tr>\n",
       "    <tr>\n",
       "      <th>627</th>\n",
       "      <td>1172</td>\n",
       "      <td>True</td>\n",
       "    </tr>\n",
       "    <tr>\n",
       "      <th>628</th>\n",
       "      <td>1175</td>\n",
       "      <td>True</td>\n",
       "    </tr>\n",
       "    <tr>\n",
       "      <th>632</th>\n",
       "      <td>1182</td>\n",
       "      <td>True</td>\n",
       "    </tr>\n",
       "    <tr>\n",
       "      <th>633</th>\n",
       "      <td>1184</td>\n",
       "      <td>True</td>\n",
       "    </tr>\n",
       "    <tr>\n",
       "      <th>635</th>\n",
       "      <td>1189</td>\n",
       "      <td>True</td>\n",
       "    </tr>\n",
       "  </tbody>\n",
       "</table>\n",
       "<p>92 rows × 2 columns</p>\n",
       "</div>"
      ],
      "text/plain": [
       "     index  visitor_id\n",
       "12      20        True\n",
       "15      23        True\n",
       "16      24        True\n",
       "17      27        True\n",
       "21      32        True\n",
       "..     ...         ...\n",
       "627   1172        True\n",
       "628   1175        True\n",
       "632   1182        True\n",
       "633   1184        True\n",
       "635   1189        True\n",
       "\n",
       "[92 rows x 2 columns]"
      ]
     },
     "execution_count": 22,
     "metadata": {},
     "output_type": "execute_result"
    }
   ],
   "source": [
    "check2[check2['visitor_id'] == True]"
   ]
  },
  {
   "cell_type": "code",
   "execution_count": 23,
   "metadata": {},
   "outputs": [],
   "source": [
    "ff = orders.loc[orders[\"group\"]==\"A\", \"visitor_id\"].isin(orders.loc[orders[\"group\"]==\"B\", \"visitor_id\"])"
   ]
  },
  {
   "cell_type": "code",
   "execution_count": 24,
   "metadata": {},
   "outputs": [],
   "source": [
    "gg = orders.loc[orders[\"group\"]==\"B\", \"visitor_id\"].isin(orders.loc[orders[\"group\"]==\"A\", \"visitor_id\"])"
   ]
  },
  {
   "cell_type": "code",
   "execution_count": 25,
   "metadata": {},
   "outputs": [],
   "source": [
    "orders = orders.drop(ff[ff].index)"
   ]
  },
  {
   "cell_type": "code",
   "execution_count": 26,
   "metadata": {},
   "outputs": [],
   "source": [
    "orders = orders.drop(gg[gg].index)"
   ]
  },
  {
   "cell_type": "code",
   "execution_count": 27,
   "metadata": {
    "scrolled": true
   },
   "outputs": [
    {
     "name": "stdout",
     "output_type": "stream",
     "text": [
      "<class 'pandas.core.frame.DataFrame'>\n",
      "Int64Index: 1016 entries, 0 to 1196\n",
      "Data columns (total 5 columns):\n",
      " #   Column          Non-Null Count  Dtype         \n",
      "---  ------          --------------  -----         \n",
      " 0   transaction_id  1016 non-null   int64         \n",
      " 1   visitor_id      1016 non-null   int64         \n",
      " 2   date            1016 non-null   datetime64[ns]\n",
      " 3   revenue         1016 non-null   int64         \n",
      " 4   group           1016 non-null   object        \n",
      "dtypes: datetime64[ns](1), int64(3), object(1)\n",
      "memory usage: 47.6+ KB\n"
     ]
    }
   ],
   "source": [
    "orders.info()"
   ]
  },
  {
   "cell_type": "markdown",
   "metadata": {},
   "source": [
    "В результате проверки обнаружилось 181 записей с айди, которые были в двух группах. Эти записи были удалены, чтобы они не влияли на результат эксперемента."
   ]
  },
  {
   "cell_type": "markdown",
   "metadata": {},
   "source": [
    "## Вывод по Части 1:\n",
    "- привели столбцы к необходимому формату\n",
    "- перевели название столбцов к нижнему регистру\n",
    "- провел проверку записей в датафрейме \"orders\" на предмет того, что есть айди, которые попали в две группы. Эти записи были найдены и удалены, чтобы они не влияли на результат эксперемента."
   ]
  },
  {
   "cell_type": "markdown",
   "metadata": {},
   "source": [
    "# Часть 2. Приоритизация гипотез.\n",
    "\n",
    "Задачи:\n",
    "<br>\n",
    "1)Применим фреймворк ICE для приоритизации гипотез. Отсортируем их по убыванию приоритета.\n",
    "<br>\n",
    "2)Применим фреймворк RICE для приоритизации гипотез. Отсортируем их по убыванию приоритета.\n",
    "<br>\n",
    "3)Необходимо указать, как изменилась приоритизация гипотез при применении RICE вместо ICE."
   ]
  },
  {
   "cell_type": "code",
   "execution_count": 28,
   "metadata": {},
   "outputs": [
    {
     "name": "stdout",
     "output_type": "stream",
     "text": [
      "                                          hypothesis        ICE\n",
      "8  Запустить акцию, дающую скидку на товар в день...  16.200000\n",
      "0  Добавить два новых канала привлечения трафика,...  13.333333\n",
      "7  Добавить форму подписки на все основные страни...  11.200000\n",
      "6  Показать на главной странице баннеры с актуаль...   8.000000\n",
      "2  Добавить блоки рекомендаций товаров на сайт ин...   7.000000\n",
      "1  Запустить собственную службу доставки, что сок...   2.000000\n",
      "5  Добавить страницу отзывов клиентов о магазине,...   1.333333\n",
      "3  Изменить структура категорий, что увеличит кон...   1.125000\n",
      "4  Изменить цвет фона главной страницы, чтобы уве...   1.000000\n"
     ]
    }
   ],
   "source": [
    "hypothesis['ICE'] = ( hypothesis['impact'] * hypothesis['confidence']) / hypothesis['efforts']\n",
    "print(hypothesis[['hypothesis', 'ICE']].sort_values(by='ICE', ascending=False))"
   ]
  },
  {
   "cell_type": "markdown",
   "metadata": {},
   "source": [
    "Гипотеза под номером 8 имеет наибольший ICE, также под номером 0 и 7 являются приоритетными."
   ]
  },
  {
   "cell_type": "code",
   "execution_count": 29,
   "metadata": {},
   "outputs": [
    {
     "name": "stdout",
     "output_type": "stream",
     "text": [
      "                                          hypothesis   RICE\n",
      "7  Добавить форму подписки на все основные страни...  112.0\n",
      "2  Добавить блоки рекомендаций товаров на сайт ин...   56.0\n",
      "0  Добавить два новых канала привлечения трафика,...   40.0\n",
      "6  Показать на главной странице баннеры с актуаль...   40.0\n",
      "8  Запустить акцию, дающую скидку на товар в день...   16.2\n",
      "3  Изменить структура категорий, что увеличит кон...    9.0\n",
      "1  Запустить собственную службу доставки, что сок...    4.0\n",
      "5  Добавить страницу отзывов клиентов о магазине,...    4.0\n",
      "4  Изменить цвет фона главной страницы, чтобы уве...    3.0\n"
     ]
    }
   ],
   "source": [
    "hypothesis['RICE'] = (hypothesis['reach'] *  hypothesis['impact'] * hypothesis['confidence']) / hypothesis['efforts']\n",
    "print(hypothesis[['hypothesis', 'RICE']].sort_values(by='RICE', ascending=False))"
   ]
  },
  {
   "cell_type": "markdown",
   "metadata": {},
   "source": [
    "По расчету RICE на первое место вышла гипотеза под номером 7, а следом за ней гипотеза под номером 2."
   ]
  },
  {
   "cell_type": "code",
   "execution_count": 30,
   "metadata": {},
   "outputs": [
    {
     "name": "stdout",
     "output_type": "stream",
     "text": [
      "                                          hypothesis        ICE   RICE\n",
      "7  Добавить форму подписки на все основные страни...  11.200000  112.0\n",
      "2  Добавить блоки рекомендаций товаров на сайт ин...   7.000000   56.0\n",
      "0  Добавить два новых канала привлечения трафика,...  13.333333   40.0\n",
      "6  Показать на главной странице баннеры с актуаль...   8.000000   40.0\n",
      "8  Запустить акцию, дающую скидку на товар в день...  16.200000   16.2\n",
      "3  Изменить структура категорий, что увеличит кон...   1.125000    9.0\n",
      "1  Запустить собственную службу доставки, что сок...   2.000000    4.0\n",
      "5  Добавить страницу отзывов клиентов о магазине,...   1.333333    4.0\n",
      "4  Изменить цвет фона главной страницы, чтобы уве...   1.000000    3.0\n"
     ]
    }
   ],
   "source": [
    "print(hypothesis[['hypothesis', 'ICE', 'RICE']].sort_values(by='RICE', ascending=False))"
   ]
  },
  {
   "cell_type": "markdown",
   "metadata": {},
   "source": [
    "## Вывод по Части 2:\n",
    "По ICE приоритетные гипотезы: 8,0,7 , а по RICE 7, 2, 0. Это связано с тем, что параметр  reach гипотезы под номером 7 равен 10, однако у остальных гипотез он меньше, у 8-й которая выше по ICE параметр reach вообще равен 1. Помимо веса гипотезы нужно учитывать количество пользователей, которых она затронет. "
   ]
  },
  {
   "cell_type": "markdown",
   "metadata": {},
   "source": [
    "# Часть 3. Анализ A/B-теста\n",
    "<br>\n",
    "Задачи:\n",
    "<br>\n",
    "Проанализируем A/B-тест:\n",
    "<br>\n",
    "1)Построим график кумулятивной выручки по группам.\n",
    "<br>\n",
    "2)Построим рафик кумулятивного среднего чека по группам.\n",
    "<br>\n",
    "3)Построим график относительного изменения кумулятивного среднего чека группы B к группе A.\n",
    "<br>\n",
    "4)Построим график кумулятивного среднего количества заказов на посетителя по группам.\n",
    "<br>\n",
    "5)Построим график относительного изменения кумулятивного среднего количества заказов на посетителя группы B к группе A.\n",
    "<br>\n",
    "6)Построим точечный график количества заказов по пользователям.\n",
    "<br>\n",
    "7)Посчитем 95-й и 99-й перцентили количества заказов на пользователя. Выберим границу для определения аномальных пользователей.\n",
    "<br>\n",
    "8)Построим точечный график стоимостей заказов.\n",
    "<br>\n",
    "9)Посчитаем 95-й и 99-й перцентили стоимости заказов. Выберем границу для определения аномальных заказов.\n",
    "<br>\n",
    "10)Посчитаем статистическую значимость различий в среднем количестве заказов на посетителя между группами по «сырым» данным.\n",
    "<br>\n",
    "11)Посчитаем статистическую значимость различий в среднем чеке заказа между группами по «сырым» данным.\n",
    "<br>\n",
    "12)Посчитаем статистическую значимость различий в среднем количестве заказов на посетителя между группами по «очищенным» данным.\n",
    "<br>\n",
    "13)Посчитаем статистическую значимость различий в среднем чеке заказа между группами по «очищенным» данным. \n",
    "<br>\n",
    "14)Примим решение по результатам теста и объясним его. \n",
    "<br>\n",
    "Варианты решений:\n",
    "<br>\n",
    "Остановить тест, зафиксировать победу одной из групп.\n",
    "<br>\n",
    "Остановить тест, зафиксировать отсутствие различий между группами.\n",
    "<br>\n",
    "Продолжить тест."
   ]
  },
  {
   "cell_type": "markdown",
   "metadata": {},
   "source": [
    "#### Построим график кумулятивной выручки по группам.   \n"
   ]
  },
  {
   "cell_type": "code",
   "execution_count": 31,
   "metadata": {},
   "outputs": [
    {
     "data": {
      "image/png": "[encoded data removed]",
      "text/plain": [
       "<Figure size 864x216 with 1 Axes>"
      ]
     },
     "metadata": {
      "needs_background": "light"
     },
     "output_type": "display_data"
    }
   ],
   "source": [
    "datesGroups = orders[['date','group']].drop_duplicates()\n",
    "\n",
    "ordersAggregated = datesGroups.apply(\n",
    "    lambda x: orders[np.logical_and(orders['date'] <= x['date'], orders['group'] == x['group'])]\\\n",
    ".agg({'date' : 'max', 'group' : 'max', 'transaction_id' : 'nunique', 'visitor_id' : 'nunique', 'revenue' : 'sum'}\n",
    "    ), axis=1).sort_values(by=['date','group'])\n",
    "\n",
    "visitorsAggregated = datesGroups.apply(\n",
    "    lambda x: visitors[np.logical_and(visitors['date'] <= x['date'], visitors['group'] == x['group'])].agg(\n",
    "        {'date' : 'max', 'group' : 'max', 'visitors' : 'sum'}), axis=1).sort_values(by=['date','group'])\n",
    "\n",
    "cumulativeData = ordersAggregated.merge(visitorsAggregated, left_on=['date', 'group'], right_on=['date', 'group'])\n",
    "\n",
    "cumulativeData.columns = ['date', 'group', 'orders', 'buyers', 'revenue', 'visitors']\n",
    "\n",
    "cumulativeRevenueA = cumulativeData[cumulativeData['group']=='A'][['date','revenue', 'orders']]\n",
    "\n",
    "\n",
    "cumulativeRevenueB = cumulativeData[cumulativeData['group']=='B'][['date','revenue', 'orders']]\n",
    "\n",
    "plt.figure(figsize=(12, 3))\n",
    "\n",
    "plt.plot(cumulativeRevenueA['date'], cumulativeRevenueA['revenue'], label='A')\n",
    "\n",
    "plt.plot(cumulativeRevenueB['date'], cumulativeRevenueB['revenue'], label='B')\n",
    "\n",
    "plt.title('График кумулятивной выручки по группам')\n",
    "plt.xlabel('Дата')\n",
    "plt.ylabel('Значение')\n",
    "plt.grid()\n",
    "plt.legend()\n",
    "plt.show()"
   ]
  },
  {
   "cell_type": "markdown",
   "metadata": {},
   "source": [
    "Начиная примерно с 18 августа выручка по группе В начала расти, хотя до этой даты выручка была примерно в одном диапазоне у обеих групп. Это может быть связано с аномально крупными покупками."
   ]
  },
  {
   "cell_type": "markdown",
   "metadata": {},
   "source": [
    "#### Построим график кумулятивного среднего чека по группам."
   ]
  },
  {
   "cell_type": "code",
   "execution_count": 32,
   "metadata": {
    "scrolled": false
   },
   "outputs": [
    {
     "data": {
      "text/plain": [
       "<matplotlib.legend.Legend at 0x7fcc60e3c700>"
      ]
     },
     "execution_count": 32,
     "metadata": {},
     "output_type": "execute_result"
    },
    {
     "data": {
      "image/png": "[encoded data removed]",
      "text/plain": [
       "<Figure size 864x216 with 1 Axes>"
      ]
     },
     "metadata": {
      "needs_background": "light"
     },
     "output_type": "display_data"
    }
   ],
   "source": [
    "plt.figure(figsize=(12, 3))\n",
    "plt.plot(cumulativeRevenueA['date'], cumulativeRevenueA['revenue']/cumulativeRevenueA['orders'], label='A')\n",
    "plt.plot(cumulativeRevenueB['date'], cumulativeRevenueB['revenue']/cumulativeRevenueB['orders'], label='B')\n",
    "plt.title('График кумулятивного среднего чека по группам')\n",
    "plt.xlabel('Дата')\n",
    "plt.ylabel('Значение')\n",
    "plt.grid()\n",
    "plt.legend() "
   ]
  },
  {
   "cell_type": "markdown",
   "metadata": {},
   "source": [
    "Кумулятивный средний чек по группам показывает похожу тенеденцию как и график кумулятивной выручки,однако тут можно заметить что средний чек группы А в период с 11 по 15 августа был выше чем у группы В, тем не менее в целом он меньше чем у группы В. Тем временем у группы В наблюдается такой же резкий рост 19 августа с дальнейшей тенденцией на снижение, в то время как у группы А средний чек стабилизируется после 13 августа. Предположение такое же как и в предыдущем пункте: это может быть связано с ростом суммы заказов."
   ]
  },
  {
   "cell_type": "markdown",
   "metadata": {
    "scrolled": true
   },
   "source": [
    "#### Построим график относительного изменения кумулятивного среднего чека группы B к группе A."
   ]
  },
  {
   "cell_type": "code",
   "execution_count": 33,
   "metadata": {},
   "outputs": [
    {
     "name": "stderr",
     "output_type": "stream",
     "text": [
      "No handles with labels found to put in legend.\n"
     ]
    },
    {
     "data": {
      "text/plain": [
       "<matplotlib.legend.Legend at 0x7fcc58979c40>"
      ]
     },
     "execution_count": 33,
     "metadata": {},
     "output_type": "execute_result"
    },
    {
     "data": {
      "image/png": "[encoded data removed]",
      "text/plain": [
       "<Figure size 864x216 with 1 Axes>"
      ]
     },
     "metadata": {
      "needs_background": "light"
     },
     "output_type": "display_data"
    }
   ],
   "source": [
    "mergedCumulativeRevenue = cumulativeRevenueA.merge(cumulativeRevenueB, left_on='date', right_on='date', how='left', suffixes=['A', 'B'])\n",
    "\n",
    "plt.figure(figsize=(12, 3))\n",
    "plt.plot(mergedCumulativeRevenue['date'], (mergedCumulativeRevenue['revenueB']/mergedCumulativeRevenue['ordersB'])/(mergedCumulativeRevenue['revenueA']/mergedCumulativeRevenue['ordersA'])-1)\n",
    "plt.axhline(y=0, color='black', linestyle='--')\n",
    "plt.title('График относительного изменения кумулятивного среднего чека группы B к группе A')\n",
    "plt.xlabel('Дата')\n",
    "plt.ylabel('Значение')\n",
    "plt.grid()\n",
    "plt.legend() "
   ]
  },
  {
   "cell_type": "markdown",
   "metadata": {},
   "source": [
    "График относительного изменения кумулятивного среднего чека группы B к группе A больше походит на график кумулятивного среднего чека группы В, так как виден резкий скачек 19 августа. В целом видны скачки так же 5, 8, 13, 19 августа, видимо в эти даты были аномальные выбросы."
   ]
  },
  {
   "cell_type": "markdown",
   "metadata": {},
   "source": [
    "### Построим график кумулятивной конверсии по группам.   \n",
    "Сделаем выводы и предположения."
   ]
  },
  {
   "cell_type": "code",
   "execution_count": 34,
   "metadata": {},
   "outputs": [
    {
     "data": {
      "text/plain": [
       "<matplotlib.legend.Legend at 0x7fcc58905580>"
      ]
     },
     "execution_count": 34,
     "metadata": {},
     "output_type": "execute_result"
    },
    {
     "data": {
      "image/png": "[encoded data removed]",
      "text/plain": [
       "<Figure size 864x216 with 1 Axes>"
      ]
     },
     "metadata": {
      "needs_background": "light"
     },
     "output_type": "display_data"
    }
   ],
   "source": [
    "cumulativeData['conversion'] = cumulativeData['orders']/cumulativeData['visitors']\n",
    "\n",
    "cumulativeDataA = cumulativeData[cumulativeData['group']=='A']\n",
    "\n",
    "cumulativeDataB = cumulativeData[cumulativeData['group']=='B']\n",
    "\n",
    "plt.figure(figsize=(12, 3))\n",
    "plt.plot(cumulativeDataA['date'], cumulativeDataA['conversion'], label='A')\n",
    "plt.plot(cumulativeDataB['date'], cumulativeDataB['conversion'], label='B')\n",
    "plt.title('График кумулятивной конверсии по группам')\n",
    "plt.xlabel('Дата')\n",
    "plt.ylabel('Значение')\n",
    "plt.grid()\n",
    "plt.legend() "
   ]
  },
  {
   "cell_type": "markdown",
   "metadata": {},
   "source": [
    "В начале эксперемента группа А опережала группу В по конверсии, однико уже с 6 августа группа А начала снижение, а группа В начала рост, с дальнейшей стабилизацией после 18 августа, так же чуть раньше стабилизирвоалась группа А. Однако мы все равно видим выбросы 2,3,4,10,18 августа по обеим группам. Мы можем предположить, что это выбросы, так как эти значения не встраиваются в общую динамику, но определить является ли это действительно выбросами мы можем продолжая исследование."
   ]
  },
  {
   "cell_type": "markdown",
   "metadata": {},
   "source": [
    "#### Построим график относительного изменения кумулятивной конверсии группы B к группе A.  \n"
   ]
  },
  {
   "cell_type": "code",
   "execution_count": 35,
   "metadata": {},
   "outputs": [
    {
     "name": "stderr",
     "output_type": "stream",
     "text": [
      "No handles with labels found to put in legend.\n"
     ]
    },
    {
     "data": {
      "text/plain": [
       "<matplotlib.legend.Legend at 0x7fcc5885f640>"
      ]
     },
     "execution_count": 35,
     "metadata": {},
     "output_type": "execute_result"
    },
    {
     "data": {
      "image/png": "[encoded data removed]",
      "text/plain": [
       "<Figure size 864x216 with 1 Axes>"
      ]
     },
     "metadata": {
      "needs_background": "light"
     },
     "output_type": "display_data"
    }
   ],
   "source": [
    "mergedCumulativeConversions = cumulativeDataA[['date','conversion']].merge(cumulativeDataB[['date','conversion']], left_on='date', right_on='date', how='left', suffixes=['A', 'B'])\n",
    "plt.figure(figsize=(12, 3))\n",
    "plt.plot(mergedCumulativeConversions['date'], mergedCumulativeConversions['conversionB']/mergedCumulativeConversions['conversionA']-1)\n",
    "\n",
    "plt.axhline(y=0, color='black', linestyle='--')\n",
    "plt.axhline(y=0.2, color='grey', linestyle='--')\n",
    "plt.title('График относительного изменения кумулятивной конверсии группы B к группе A')\n",
    "plt.xlabel('Дата')\n",
    "plt.ylabel('Значение')\n",
    "plt.grid()\n",
    "plt.legend() \n"
   ]
  },
  {
   "cell_type": "markdown",
   "metadata": {},
   "source": [
    "Группа В выходит вперед примерно на 6 день эксперемента до конца теста с пиком примерно 15 августа с дальнейшим незначительным падением."
   ]
  },
  {
   "cell_type": "markdown",
   "metadata": {},
   "source": [
    "#### Построим точечный график количества заказов по пользователям.   \n",
    "Сначала построим гистограмму распределения числа заказов по пользователям"
   ]
  },
  {
   "cell_type": "code",
   "execution_count": 36,
   "metadata": {},
   "outputs": [
    {
     "name": "stdout",
     "output_type": "stream",
     "text": [
      "     visitor_id  orders\n",
      "908  3967698036       3\n",
      "55    249864742       3\n",
      "478  2108163459       3\n",
      "687  2988190573       3\n",
      "890  3908431265       3\n",
      "138   611059232       3\n",
      "632  2742574263       3\n",
      "157   678354126       2\n",
      "323  1404560065       2\n",
      "452  1985475298       2\n"
     ]
    },
    {
     "data": {
      "text/plain": [
       "(array([937.,   0.,   0.,   0.,   0.,  29.,   0.,   0.,   0.,   7.]),\n",
       " array([1. , 1.2, 1.4, 1.6, 1.8, 2. , 2.2, 2.4, 2.6, 2.8, 3. ]),\n",
       " <BarContainer object of 10 artists>)"
      ]
     },
     "execution_count": 36,
     "metadata": {},
     "output_type": "execute_result"
    },
    {
     "data": {
      "image/png": "[encoded data removed]",
      "text/plain": [
       "<Figure size 432x288 with 1 Axes>"
      ]
     },
     "metadata": {
      "needs_background": "light"
     },
     "output_type": "display_data"
    }
   ],
   "source": [
    "ordersByUsers = (\n",
    "    orders.groupby('visitor_id', as_index=False)\n",
    "    .agg({'transaction_id': 'nunique'})\n",
    ")\n",
    "ordersByUsers.columns = ['visitor_id', 'orders']\n",
    "\n",
    "print(ordersByUsers.sort_values(by='orders', ascending=False).head(10))\n",
    "plt.hist(ordersByUsers['orders']) "
   ]
  },
  {
   "cell_type": "markdown",
   "metadata": {},
   "source": [
    "Теперь построим точечный график количества заказов по пользователям"
   ]
  },
  {
   "cell_type": "code",
   "execution_count": 37,
   "metadata": {},
   "outputs": [
    {
     "data": {
      "image/png": "[encoded data removed]",
      "text/plain": [
       "<Figure size 432x288 with 1 Axes>"
      ]
     },
     "metadata": {
      "needs_background": "light"
     },
     "output_type": "display_data"
    }
   ],
   "source": [
    "x_values = pd.Series(range(0,len(ordersByUsers)))\n",
    "\n",
    "plt.scatter(x_values, ordersByUsers['orders']) \n",
    "\n",
    "x_values = pd.Series(range(0, len(ordersByUsers)))"
   ]
  },
  {
   "cell_type": "markdown",
   "metadata": {},
   "source": [
    "На двух графиках четко видно, что наибольшая часть пользователей сделала всего 1 заказ, в несколько раз реже пользователи делали 2 заказа, так что можно считать, что пользователи сделавшие более двух заказов это выбросы."
   ]
  },
  {
   "cell_type": "markdown",
   "metadata": {},
   "source": [
    "#### Посчитаем 95-й и 99-й перцентили количества заказов на пользователя.  \n"
   ]
  },
  {
   "cell_type": "code",
   "execution_count": 38,
   "metadata": {},
   "outputs": [
    {
     "name": "stdout",
     "output_type": "stream",
     "text": [
      "     visitor_id  orders\n",
      "908  3967698036       3\n",
      "55    249864742       3\n",
      "478  2108163459       3\n",
      "687  2988190573       3\n",
      "890  3908431265       3\n",
      "138   611059232       3\n",
      "632  2742574263       3\n",
      "157   678354126       2\n",
      "323  1404560065       2\n",
      "452  1985475298       2\n",
      "[1. 2.]\n"
     ]
    }
   ],
   "source": [
    "print(ordersByUsers.sort_values(by='orders', ascending=False).head(10))\n",
    "\n",
    "print(np.percentile(ordersByUsers['orders'], [95, 99])) "
   ]
  },
  {
   "cell_type": "markdown",
   "metadata": {},
   "source": [
    "Больше 1 заказа совершают всего 5 процентов пользователей, а больше 2 всего 1 процент."
   ]
  },
  {
   "cell_type": "markdown",
   "metadata": {},
   "source": [
    "#### Построим точечный график стоимостей заказов.   \n",
    "\n",
    "Сначала построим гистограмму распределения стоимости заказов"
   ]
  },
  {
   "cell_type": "code",
   "execution_count": 39,
   "metadata": {},
   "outputs": [
    {
     "data": {
      "text/plain": [
       "(array([1.014e+03, 1.000e+00, 0.000e+00, 0.000e+00, 0.000e+00, 0.000e+00,\n",
       "        0.000e+00, 0.000e+00, 0.000e+00, 1.000e+00]),\n",
       " array([5.000000e+01, 1.294950e+05, 2.589400e+05, 3.883850e+05,\n",
       "        5.178300e+05, 6.472750e+05, 7.767200e+05, 9.061650e+05,\n",
       "        1.035610e+06, 1.165055e+06, 1.294500e+06]),\n",
       " <BarContainer object of 10 artists>)"
      ]
     },
     "execution_count": 39,
     "metadata": {},
     "output_type": "execute_result"
    },
    {
     "data": {
      "image/png": "[encoded data removed]",
      "text/plain": [
       "<Figure size 432x288 with 1 Axes>"
      ]
     },
     "metadata": {
      "needs_background": "light"
     },
     "output_type": "display_data"
    }
   ],
   "source": [
    "plt.hist(orders['revenue']) "
   ]
  },
  {
   "cell_type": "code",
   "execution_count": 40,
   "metadata": {
    "scrolled": true
   },
   "outputs": [
    {
     "data": {
      "image/png": "[encoded data removed]",
      "text/plain": [
       "<Figure size 504x216 with 1 Axes>"
      ]
     },
     "metadata": {
      "needs_background": "light"
     },
     "output_type": "display_data"
    }
   ],
   "source": [
    "x_values = pd.Series(range(0, len(orders['revenue'])))\n",
    "plt.figure(figsize=(7, 3))\n",
    "plt.scatter(x_values, orders['revenue']) \n",
    "plt.grid()\n",
    "plt.show()"
   ]
  },
  {
   "cell_type": "markdown",
   "metadata": {},
   "source": [
    "График выдал 2 аномальный значения, 1 заказ на сумму более 1.2 миллиона, который скорее всего и повлиял на динамику группы В. "
   ]
  },
  {
   "cell_type": "markdown",
   "metadata": {},
   "source": [
    "#### Посчитаем 95-й и 99-й перцентили стоимости заказов.  "
   ]
  },
  {
   "cell_type": "code",
   "execution_count": 41,
   "metadata": {},
   "outputs": [
    {
     "data": {
      "text/plain": [
       "array([26785., 53904.])"
      ]
     },
     "execution_count": 41,
     "metadata": {},
     "output_type": "execute_result"
    }
   ],
   "source": [
    "np.percentile(orders['revenue'], [95, 99])"
   ]
  },
  {
   "cell_type": "markdown",
   "metadata": {},
   "source": [
    "Заказы выше 26785 составляют не более 5% от всех заказов, в больше 53904 не более 1%\n",
    "За верхнюю границу  аномальных заказов примем значение 53904."
   ]
  },
  {
   "cell_type": "markdown",
   "metadata": {},
   "source": [
    "#### Посчитаем статистическую значимость различий в среднем количестве заказов на посетителя между группами по «сырым» данным."
   ]
  },
  {
   "cell_type": "code",
   "execution_count": 42,
   "metadata": {},
   "outputs": [
    {
     "data": {
      "text/html": [
       "<div>\n",
       "<style scoped>\n",
       "    .dataframe tbody tr th:only-of-type {\n",
       "        vertical-align: middle;\n",
       "    }\n",
       "\n",
       "    .dataframe tbody tr th {\n",
       "        vertical-align: top;\n",
       "    }\n",
       "\n",
       "    .dataframe thead th {\n",
       "        text-align: right;\n",
       "    }\n",
       "</style>\n",
       "<table border=\"1\" class=\"dataframe\">\n",
       "  <thead>\n",
       "    <tr style=\"text-align: right;\">\n",
       "      <th></th>\n",
       "      <th>date</th>\n",
       "      <th>ordersPerDateA</th>\n",
       "      <th>revenuePerDateA</th>\n",
       "      <th>ordersPerDateB</th>\n",
       "      <th>revenuePerDateB</th>\n",
       "      <th>ordersCummulativeA</th>\n",
       "      <th>revenueCummulativeA</th>\n",
       "      <th>ordersCummulativeB</th>\n",
       "      <th>revenueCummulativeB</th>\n",
       "      <th>visitorsPerDateA</th>\n",
       "      <th>visitorsPerDateB</th>\n",
       "      <th>visitorsCummulativeA</th>\n",
       "      <th>visitorsCummulativeB</th>\n",
       "    </tr>\n",
       "  </thead>\n",
       "  <tbody>\n",
       "    <tr>\n",
       "      <th>0</th>\n",
       "      <td>2019-08-01</td>\n",
       "      <td>23</td>\n",
       "      <td>142779</td>\n",
       "      <td>17</td>\n",
       "      <td>59758</td>\n",
       "      <td>23</td>\n",
       "      <td>142779</td>\n",
       "      <td>17</td>\n",
       "      <td>59758</td>\n",
       "      <td>719</td>\n",
       "      <td>713</td>\n",
       "      <td>719</td>\n",
       "      <td>713</td>\n",
       "    </tr>\n",
       "    <tr>\n",
       "      <th>1</th>\n",
       "      <td>2019-08-02</td>\n",
       "      <td>19</td>\n",
       "      <td>91602</td>\n",
       "      <td>23</td>\n",
       "      <td>162043</td>\n",
       "      <td>42</td>\n",
       "      <td>234381</td>\n",
       "      <td>40</td>\n",
       "      <td>221801</td>\n",
       "      <td>619</td>\n",
       "      <td>581</td>\n",
       "      <td>1338</td>\n",
       "      <td>1294</td>\n",
       "    </tr>\n",
       "    <tr>\n",
       "      <th>2</th>\n",
       "      <td>2019-08-03</td>\n",
       "      <td>24</td>\n",
       "      <td>112473</td>\n",
       "      <td>14</td>\n",
       "      <td>67049</td>\n",
       "      <td>66</td>\n",
       "      <td>346854</td>\n",
       "      <td>54</td>\n",
       "      <td>288850</td>\n",
       "      <td>507</td>\n",
       "      <td>509</td>\n",
       "      <td>1845</td>\n",
       "      <td>1803</td>\n",
       "    </tr>\n",
       "    <tr>\n",
       "      <th>3</th>\n",
       "      <td>2019-08-04</td>\n",
       "      <td>11</td>\n",
       "      <td>41176</td>\n",
       "      <td>14</td>\n",
       "      <td>96890</td>\n",
       "      <td>77</td>\n",
       "      <td>388030</td>\n",
       "      <td>68</td>\n",
       "      <td>385740</td>\n",
       "      <td>717</td>\n",
       "      <td>770</td>\n",
       "      <td>2562</td>\n",
       "      <td>2573</td>\n",
       "    </tr>\n",
       "    <tr>\n",
       "      <th>4</th>\n",
       "      <td>2019-08-05</td>\n",
       "      <td>22</td>\n",
       "      <td>86383</td>\n",
       "      <td>21</td>\n",
       "      <td>89908</td>\n",
       "      <td>99</td>\n",
       "      <td>474413</td>\n",
       "      <td>89</td>\n",
       "      <td>475648</td>\n",
       "      <td>756</td>\n",
       "      <td>707</td>\n",
       "      <td>3318</td>\n",
       "      <td>3280</td>\n",
       "    </tr>\n",
       "  </tbody>\n",
       "</table>\n",
       "</div>"
      ],
      "text/plain": [
       "        date  ordersPerDateA  revenuePerDateA  ordersPerDateB  \\\n",
       "0 2019-08-01              23           142779              17   \n",
       "1 2019-08-02              19            91602              23   \n",
       "2 2019-08-03              24           112473              14   \n",
       "3 2019-08-04              11            41176              14   \n",
       "4 2019-08-05              22            86383              21   \n",
       "\n",
       "   revenuePerDateB  ordersCummulativeA  revenueCummulativeA  \\\n",
       "0            59758                  23               142779   \n",
       "1           162043                  42               234381   \n",
       "2            67049                  66               346854   \n",
       "3            96890                  77               388030   \n",
       "4            89908                  99               474413   \n",
       "\n",
       "   ordersCummulativeB  revenueCummulativeB  visitorsPerDateA  \\\n",
       "0                  17                59758               719   \n",
       "1                  40               221801               619   \n",
       "2                  54               288850               507   \n",
       "3                  68               385740               717   \n",
       "4                  89               475648               756   \n",
       "\n",
       "   visitorsPerDateB  visitorsCummulativeA  visitorsCummulativeB  \n",
       "0               713                   719                   713  \n",
       "1               581                  1338                  1294  \n",
       "2               509                  1845                  1803  \n",
       "3               770                  2562                  2573  \n",
       "4               707                  3318                  3280  "
      ]
     },
     "execution_count": 42,
     "metadata": {},
     "output_type": "execute_result"
    }
   ],
   "source": [
    "visitorsADaily = visitors[visitors['group']=='A'][['date', 'visitors']]\n",
    "visitorsADaily.columns = ['date', 'visitorsPerDateA']\n",
    "\n",
    "visitorsACummulative = visitorsADaily.apply(lambda x: visitorsADaily[visitorsADaily['date'] <= x['date']]. \\\n",
    "                                            agg({'date' : 'max', 'visitorsPerDateA' : 'sum'}), axis=1)\n",
    "visitorsACummulative.columns = ['date', 'visitorsCummulativeA']\n",
    "\n",
    "visitorsBDaily = visitors[visitors['group']=='B'][['date', 'visitors']]\n",
    "visitorsBDaily.columns = ['date', 'visitorsPerDateB']\n",
    "\n",
    "visitorsBCummulative = visitorsBDaily.apply(lambda x: visitorsBDaily[visitorsBDaily['date'] <= x['date']]. \\\n",
    "                                            agg({'date' : 'max', 'visitorsPerDateB' : 'sum'}), axis=1)\n",
    "visitorsBCummulative.columns = ['date', 'visitorsCummulativeB']\n",
    "\n",
    "ordersADaily = orders[orders['group']=='A'][['date', 'transaction_id', 'visitor_id', 'revenue']]\\\n",
    "    .groupby('date', as_index=False)\\\n",
    "    .agg({'transaction_id' : pd.Series.nunique, 'revenue' : 'sum'})\n",
    "ordersADaily.columns = ['date', 'ordersPerDateA', 'revenuePerDateA']\n",
    "\n",
    "ordersACummulative = ordersADaily.apply(\n",
    "    lambda x: \\\n",
    "        ordersADaily[ordersADaily['date'] <= x['date']]\\\n",
    "            .agg({\n",
    "                'date' : 'max',\n",
    "                'ordersPerDateA' : 'sum',\n",
    "                'revenuePerDateA' : 'sum'}), axis=1).sort_values(by=['date'])\n",
    "ordersACummulative.columns = ['date', 'ordersCummulativeA', 'revenueCummulativeA']\n",
    "\n",
    "ordersBDaily = orders[orders['group']=='B'][['date', 'transaction_id', 'visitor_id', 'revenue']]\\\n",
    "    .groupby('date', as_index=False)\\\n",
    "    .agg({'transaction_id' : pd.Series.nunique, 'revenue' : 'sum'})\n",
    "ordersBDaily.columns = ['date', 'ordersPerDateB', 'revenuePerDateB']\n",
    "\n",
    "ordersBCummulative = ordersBDaily.apply(\n",
    "    lambda x: \\\n",
    "        ordersBDaily[ordersBDaily['date'] <= x['date']]\\\n",
    "            .agg({\n",
    "                'date' : 'max',\n",
    "                'ordersPerDateB' : 'sum',\n",
    "                'revenuePerDateB' : 'sum'}), axis=1).sort_values(by=['date'])\n",
    "ordersBCummulative.columns = ['date', 'ordersCummulativeB', 'revenueCummulativeB']\n",
    "\n",
    "data = ordersADaily.merge(ordersBDaily, left_on='date', right_on='date', how='left')\\\n",
    "    .merge(ordersACummulative, left_on='date', right_on='date', how='left')\\\n",
    "    .merge(ordersBCummulative, left_on='date', right_on='date', how='left')\\\n",
    "    .merge(visitorsADaily, left_on='date', right_on='date', how='left')\\\n",
    "    .merge(visitorsBDaily, left_on='date', right_on='date', how='left')\\\n",
    "    .merge(visitorsACummulative, left_on='date', right_on='date', how='left')\\\n",
    "    .merge(visitorsBCummulative, left_on='date', right_on='date', how='left')\n",
    "data.head()"
   ]
  },
  {
   "cell_type": "markdown",
   "metadata": {},
   "source": [
    "<a id='тут'></a>"
   ]
  },
  {
   "cell_type": "markdown",
   "metadata": {},
   "source": [
    "Для проверки гипотезы будем использовать тест Уилкоксона-Манна-Уитни.\n",
    "\n",
    "Применим критерий p-value. \n",
    "\n",
    "Примем для себя уровень значимости alpha = .05\n",
    "\n",
    "За нулевую гипотезу примем следующее: статистически значимых различий в конверсиях между группами нет.\n",
    "Тогда альтернативная гипотеза будет означать, что статистически значимые различия есть.\n"
   ]
  },
  {
   "cell_type": "code",
   "execution_count": 43,
   "metadata": {},
   "outputs": [
    {
     "name": "stdout",
     "output_type": "stream",
     "text": [
      "P-value: 0.01102\n",
      "Относительные различия: 0.160\n"
     ]
    }
   ],
   "source": [
    "ordersByUsersA = (\n",
    "    orders[orders['group'] == 'A']\n",
    "    .groupby('visitor_id', as_index=False)\n",
    "    .agg({'transaction_id': pd.Series.nunique})\n",
    ")\n",
    "ordersByUsersA.columns = ['visitor_id', 'orders']\n",
    "\n",
    "ordersByUsersB = (\n",
    "    orders[orders['group'] == 'B']\n",
    "    .groupby('visitor_id', as_index=False)\n",
    "    .agg({'transaction_id': pd.Series.nunique})\n",
    ")\n",
    "ordersByUsersB.columns = ['visitor_id', 'orders'] \n",
    "sampleA = pd.concat([ordersByUsersA['orders'],pd.Series(0, index=np.arange(data['visitorsPerDateA'].sum() - len(ordersByUsersA['orders'])), name='orders')],axis=0)\n",
    "sampleB = pd.concat(\n",
    "    [\n",
    "        ordersByUsersB['orders'],\n",
    "        pd.Series(\n",
    "            0,\n",
    "            index=np.arange(\n",
    "                data['visitorsPerDateB'].sum() - len(ordersByUsersB['orders'])\n",
    "            ),\n",
    "            name='orders',\n",
    "        ),\n",
    "    ],\n",
    "    axis=0,\n",
    ")\n",
    "print(\"P-value:\", \"{0:.5f}\".format(st.mannwhitneyu(sampleA, sampleB)[1]))\n",
    "print(\"Относительные различия:\", \"{0:.3f}\".format((data['ordersPerDateB'].sum()/data['visitorsPerDateB'].sum())/(data['ordersPerDateA'].sum()/data['visitorsPerDateA'].sum())-1))"
   ]
  },
  {
   "cell_type": "markdown",
   "metadata": {},
   "source": [
    "Отвергаем нулевую гипотезу так как P-value < 0.05. Исходя из данных, можно сделать вывод о том, что в среднем количестве заказов в группах есть статистически значимые различия. Относительные различия 16% в пользу группы В."
   ]
  },
  {
   "cell_type": "markdown",
   "metadata": {},
   "source": [
    "#### Посчитаем статистическую значимость различий в среднем чеке заказа между группами по «сырым» данным."
   ]
  },
  {
   "cell_type": "markdown",
   "metadata": {},
   "source": [
    "За нулевую гипотезу примем следующее: cредние чеки групп A и B равны, статистически значимых отличий нет. Тогда альтернативная гипотеза будет означать, что cредние чеки групп A и B различны, статистически значимые отличия есть."
   ]
  },
  {
   "cell_type": "code",
   "execution_count": 44,
   "metadata": {},
   "outputs": [
    {
     "name": "stdout",
     "output_type": "stream",
     "text": [
      "P-value: 0.829\n",
      "Относительные различия: 0.287\n"
     ]
    }
   ],
   "source": [
    "print('P-value:','{0:.3f}'.format(st.mannwhitneyu(orders[orders['group']=='A']['revenue'], orders[orders['group']=='B']['revenue'])[1]))\n",
    "print('Относительные различия:','{0:.3f}'.format(orders[orders['group']=='B']['revenue'].mean()/orders[orders['group']=='A']['revenue'].mean()-1)) "
   ]
  },
  {
   "cell_type": "markdown",
   "metadata": {},
   "source": [
    "Не можем отвергнуть нулевую гипотезу так как P-value > 0.05. Исходя из данных, можно сделать вывод о том, что в среднем чеке в группах нету статистически значимых различий. Относительные различия 28,7% в пользу группы В."
   ]
  },
  {
   "cell_type": "markdown",
   "metadata": {},
   "source": [
    "#### Посчитаем статистическую значимость различий в среднем количестве заказов на посетителя между группами по «очищенным» данным.\n"
   ]
  },
  {
   "cell_type": "markdown",
   "metadata": {},
   "source": [
    "Помним, что 95-й и 99-й перцентили средних чеков равны 26785 и 53904, а 95-й и 99-й перцентили числа заказов на одного пользователя равны 1 и 2.\n",
    "\n",
    "Примем за аномалию тех юзеров, которые потратили более 26785, либо совершили 3 и более заказов."
   ]
  },
  {
   "cell_type": "code",
   "execution_count": 45,
   "metadata": {},
   "outputs": [
    {
     "name": "stdout",
     "output_type": "stream",
     "text": [
      "P-value: 0.012\n",
      "Относительные различия: 0.182\n"
     ]
    }
   ],
   "source": [
    "usersWithManyOrders = pd.concat(\n",
    "    [\n",
    "        ordersByUsersA[ordersByUsersA['orders'] > 2]['visitor_id'],\n",
    "        ordersByUsersB[ordersByUsersB['orders'] > 2]['visitor_id'],\n",
    "    ],\n",
    "    axis=0,\n",
    ")\n",
    "usersWithExpensiveOrders = orders[orders['revenue'] > 26785]['visitor_id']\n",
    "abnormalUsers = (\n",
    "    pd.concat([usersWithManyOrders, usersWithExpensiveOrders], axis=0)\n",
    "    .drop_duplicates()\n",
    "    .sort_values()\n",
    ")\n",
    "sampleAFiltered = pd.concat(\n",
    "    [\n",
    "        ordersByUsersA[\n",
    "            np.logical_not(ordersByUsersA['visitor_id'].isin(abnormalUsers))\n",
    "        ]['orders'],\n",
    "        pd.Series(\n",
    "            0,\n",
    "            index=np.arange(\n",
    "                data['visitorsPerDateA'].sum() - len(ordersByUsersA['orders'])\n",
    "            ),\n",
    "            name='orders',\n",
    "        ),\n",
    "    ],\n",
    "    axis=0,\n",
    ")\n",
    "\n",
    "sampleBFiltered = pd.concat(\n",
    "    [\n",
    "        ordersByUsersB[\n",
    "            np.logical_not(ordersByUsersB['visitor_id'].isin(abnormalUsers))\n",
    "        ]['orders'],\n",
    "        pd.Series(\n",
    "            0,\n",
    "            index=np.arange(\n",
    "                data['visitorsPerDateB'].sum() - len(ordersByUsersB['orders'])\n",
    "            ),\n",
    "            name='orders',\n",
    "        ),\n",
    "    ],\n",
    "    axis=0,\n",
    ") \n",
    "print('P-value:','{0:.3f}'.format(st.mannwhitneyu(sampleAFiltered, sampleBFiltered)[1]))\n",
    "print('Относительные различия:','{0:.3f}'.format(sampleBFiltered.mean()/sampleAFiltered.mean()-1)) "
   ]
  },
  {
   "cell_type": "markdown",
   "metadata": {},
   "source": [
    "Очищенные данные показывают ту же картину, что и сырые:  статистические значимые различия есть. Относительные различия не более 18,2%"
   ]
  },
  {
   "cell_type": "markdown",
   "metadata": {},
   "source": [
    "#### Посчитаем статистическую значимость различий в среднем чеке заказа между группами по «очищенным» данным.  "
   ]
  },
  {
   "cell_type": "code",
   "execution_count": 46,
   "metadata": {},
   "outputs": [
    {
     "name": "stdout",
     "output_type": "stream",
     "text": [
      "P-value: 0.646\n",
      "Относительные различия: -0.048\n"
     ]
    }
   ],
   "source": [
    "print(\"P-value:\",\n",
    "    '{0:.3f}'.format(\n",
    "        st.mannwhitneyu(\n",
    "            orders[\n",
    "                np.logical_and(\n",
    "                    orders['group'] == 'A',\n",
    "                    np.logical_not(orders['visitor_id'].isin(abnormalUsers)),\n",
    "                )\n",
    "            ]['revenue'],\n",
    "            orders[\n",
    "                np.logical_and(\n",
    "                    orders['group'] == 'B',\n",
    "                    np.logical_not(orders['visitor_id'].isin(abnormalUsers)),\n",
    "                )\n",
    "            ]['revenue'],\n",
    "        )[1]\n",
    "    )\n",
    ")\n",
    "\n",
    "print(\"Относительные различия:\",\n",
    "   \"{0:.3f}\".format(\n",
    "        orders[\n",
    "            np.logical_and(\n",
    "                orders['group'] == 'B',\n",
    "                np.logical_not(orders['visitor_id'].isin(abnormalUsers)),\n",
    "            )\n",
    "        ]['revenue'].mean()\n",
    "        / orders[\n",
    "            np.logical_and(\n",
    "                orders['group'] == 'A',\n",
    "                np.logical_not(orders['visitor_id'].isin(abnormalUsers)),\n",
    "            )\n",
    "        ]['revenue'].mean() - 1\n",
    "        \n",
    "    )\n",
    ") \n"
   ]
  },
  {
   "cell_type": "markdown",
   "metadata": {},
   "source": [
    "P-value выросло до 0.646, а относительные различия снизились до 4,8%. В результате очистки в данных стало гораздо меньше аномалий. Хотя средний чек понизился у группы В по отношению к группе А до 4,8%, не смотря на то, что в сырых данных он был больше аж на 16%, что говорит о большом количестве  выбросов в сырых данных. "
   ]
  },
  {
   "cell_type": "markdown",
   "metadata": {},
   "source": [
    "### Примем решение по результатам теста и объясним его. "
   ]
  },
  {
   "cell_type": "markdown",
   "metadata": {},
   "source": [
    "По ICE приоритетные гипотезы: 8,0,7 , а по RICE 7, 2, 0. Это связано с тем, что параметр reach гипотезы под номером 7 равен 10, однако у остальных гипотез он меньше, у 8-й которая выше по ICE параметр reach вообще равен 1.\n",
    "\n",
    "По результатам проведенного А\\B  теста можно четко сказать, что группа В показала более хороший результат  в среднем количестве заказов на посетителя между группами по «сырым» данным(16% относительно группы В), а также в среднем чеке заказа между группами по «сырым» данным (28,7% относительно группы А), и в среднем количестве заказов на посетителя между группами по «очищенным» данным(18,8% относительно группы В), однако в показателе различий в среднем чеке заказа между группами по «очищенным» данным группа В теряет 4.8% относительно группы А. \n",
    "\n",
    "Тем не менее на основании вышеперечисленного можно сделать вывод что стоит остановить тест, так как группа B превосходит группу А по трем показателям из четырех.\n",
    "\n",
    "Стоит дать рекомендацию отделу маркетинга по повышению среднего чека среди покупателей. "
   ]
  }
 ],
 "metadata": {
  "ExecuteTimeLog": [
   {
    "duration": 1416,
    "start_time": "2022-03-10T19:28:38.622Z"
   },
   {
    "duration": 41,
    "start_time": "2022-03-10T19:28:40.041Z"
   },
   {
    "duration": 131,
    "start_time": "2022-03-10T19:28:40.085Z"
   },
   {
    "duration": 116,
    "start_time": "2022-03-10T19:28:53.497Z"
   },
   {
    "duration": 3,
    "start_time": "2022-03-10T19:29:55.391Z"
   },
   {
    "duration": 3,
    "start_time": "2022-03-10T19:31:36.570Z"
   },
   {
    "duration": 5,
    "start_time": "2022-03-10T19:31:48.512Z"
   },
   {
    "duration": 401,
    "start_time": "2022-03-10T19:32:28.313Z"
   },
   {
    "duration": 105,
    "start_time": "2022-03-10T19:32:45.505Z"
   },
   {
    "duration": 98,
    "start_time": "2022-03-10T19:32:54.530Z"
   },
   {
    "duration": 9,
    "start_time": "2022-03-10T19:34:39.611Z"
   },
   {
    "duration": 1488,
    "start_time": "2022-03-10T19:39:54.177Z"
   },
   {
    "duration": 39,
    "start_time": "2022-03-10T19:39:55.668Z"
   },
   {
    "duration": 134,
    "start_time": "2022-03-10T19:39:55.709Z"
   },
   {
    "duration": 4,
    "start_time": "2022-03-10T19:39:55.847Z"
   },
   {
    "duration": 5,
    "start_time": "2022-03-10T19:39:55.888Z"
   },
   {
    "duration": 8,
    "start_time": "2022-03-10T19:39:55.896Z"
   },
   {
    "duration": 11,
    "start_time": "2022-03-10T19:39:55.907Z"
   },
   {
    "duration": 18,
    "start_time": "2022-03-10T19:46:09.351Z"
   },
   {
    "duration": 17,
    "start_time": "2022-03-10T19:46:36.826Z"
   },
   {
    "duration": 19,
    "start_time": "2022-03-10T19:48:25.431Z"
   },
   {
    "duration": 15,
    "start_time": "2022-03-10T20:09:18.716Z"
   },
   {
    "duration": 14,
    "start_time": "2022-03-10T20:17:34.112Z"
   },
   {
    "duration": 11,
    "start_time": "2022-03-10T20:34:44.020Z"
   },
   {
    "duration": 249,
    "start_time": "2022-03-10T20:35:11.211Z"
   },
   {
    "duration": 365,
    "start_time": "2022-03-10T20:35:27.519Z"
   },
   {
    "duration": 6059,
    "start_time": "2022-03-10T20:35:45.485Z"
   },
   {
    "duration": 5668,
    "start_time": "2022-03-10T20:36:24.864Z"
   },
   {
    "duration": 1446,
    "start_time": "2022-03-10T20:36:35.620Z"
   },
   {
    "duration": 42,
    "start_time": "2022-03-10T20:36:37.068Z"
   },
   {
    "duration": 126,
    "start_time": "2022-03-10T20:36:37.114Z"
   },
   {
    "duration": 3,
    "start_time": "2022-03-10T20:36:37.243Z"
   },
   {
    "duration": 43,
    "start_time": "2022-03-10T20:36:37.248Z"
   },
   {
    "duration": 23,
    "start_time": "2022-03-10T20:36:37.294Z"
   },
   {
    "duration": 19,
    "start_time": "2022-03-10T20:36:37.320Z"
   },
   {
    "duration": 25,
    "start_time": "2022-03-10T20:36:37.342Z"
   },
   {
    "duration": 17,
    "start_time": "2022-03-10T20:36:37.371Z"
   },
   {
    "duration": 15,
    "start_time": "2022-03-10T20:36:37.391Z"
   },
   {
    "duration": 9,
    "start_time": "2022-03-10T20:36:37.408Z"
   },
   {
    "duration": 5885,
    "start_time": "2022-03-10T20:36:37.419Z"
   },
   {
    "duration": -1441,
    "start_time": "2022-03-10T20:36:44.749Z"
   },
   {
    "duration": -1443,
    "start_time": "2022-03-10T20:36:44.754Z"
   },
   {
    "duration": 13,
    "start_time": "2022-03-10T20:38:17.521Z"
   },
   {
    "duration": 11,
    "start_time": "2022-03-10T20:38:39.855Z"
   },
   {
    "duration": 21,
    "start_time": "2022-03-10T20:40:31.055Z"
   },
   {
    "duration": 1426,
    "start_time": "2022-03-10T20:40:54.335Z"
   },
   {
    "duration": 43,
    "start_time": "2022-03-10T20:40:55.764Z"
   },
   {
    "duration": 130,
    "start_time": "2022-03-10T20:40:55.810Z"
   },
   {
    "duration": 4,
    "start_time": "2022-03-10T20:40:55.943Z"
   },
   {
    "duration": 42,
    "start_time": "2022-03-10T20:40:55.949Z"
   },
   {
    "duration": 9,
    "start_time": "2022-03-10T20:40:55.993Z"
   },
   {
    "duration": 11,
    "start_time": "2022-03-10T20:40:56.004Z"
   },
   {
    "duration": 17,
    "start_time": "2022-03-10T20:40:56.018Z"
   },
   {
    "duration": 18,
    "start_time": "2022-03-10T20:40:56.038Z"
   },
   {
    "duration": 13,
    "start_time": "2022-03-10T20:40:56.087Z"
   },
   {
    "duration": 14,
    "start_time": "2022-03-10T20:40:56.102Z"
   },
   {
    "duration": 22,
    "start_time": "2022-03-10T20:40:56.119Z"
   },
   {
    "duration": 10,
    "start_time": "2022-03-10T20:40:56.143Z"
   },
   {
    "duration": 8,
    "start_time": "2022-03-10T20:40:56.188Z"
   },
   {
    "duration": 6041,
    "start_time": "2022-03-10T20:40:56.198Z"
   },
   {
    "duration": -1450,
    "start_time": "2022-03-10T20:41:03.691Z"
   },
   {
    "duration": -1455,
    "start_time": "2022-03-10T20:41:03.698Z"
   },
   {
    "duration": 20,
    "start_time": "2022-03-10T20:42:03.021Z"
   },
   {
    "duration": 11,
    "start_time": "2022-03-10T20:42:05.753Z"
   },
   {
    "duration": 9,
    "start_time": "2022-03-10T20:42:09.379Z"
   },
   {
    "duration": 5607,
    "start_time": "2022-03-10T20:42:12.000Z"
   },
   {
    "duration": 1485,
    "start_time": "2022-03-10T20:43:39.877Z"
   },
   {
    "duration": 41,
    "start_time": "2022-03-10T20:43:41.365Z"
   },
   {
    "duration": 138,
    "start_time": "2022-03-10T20:43:41.410Z"
   },
   {
    "duration": 36,
    "start_time": "2022-03-10T20:43:41.551Z"
   },
   {
    "duration": 16,
    "start_time": "2022-03-10T20:43:41.591Z"
   },
   {
    "duration": 9,
    "start_time": "2022-03-10T20:43:41.609Z"
   },
   {
    "duration": 12,
    "start_time": "2022-03-10T20:43:41.620Z"
   },
   {
    "duration": 21,
    "start_time": "2022-03-10T20:43:41.636Z"
   },
   {
    "duration": 42,
    "start_time": "2022-03-10T20:43:41.660Z"
   },
   {
    "duration": 14,
    "start_time": "2022-03-10T20:43:41.705Z"
   },
   {
    "duration": 13,
    "start_time": "2022-03-10T20:43:41.722Z"
   },
   {
    "duration": 59,
    "start_time": "2022-03-10T20:43:41.737Z"
   },
   {
    "duration": 12,
    "start_time": "2022-03-10T20:43:41.798Z"
   },
   {
    "duration": 8,
    "start_time": "2022-03-10T20:43:41.812Z"
   },
   {
    "duration": 5762,
    "start_time": "2022-03-10T20:43:41.822Z"
   },
   {
    "duration": -1433,
    "start_time": "2022-03-10T20:43:49.019Z"
   },
   {
    "duration": -1439,
    "start_time": "2022-03-10T20:43:49.027Z"
   },
   {
    "duration": 3019,
    "start_time": "2022-03-10T20:44:09.291Z"
   },
   {
    "duration": 1426,
    "start_time": "2022-03-10T20:45:09.737Z"
   },
   {
    "duration": 43,
    "start_time": "2022-03-10T20:45:11.166Z"
   },
   {
    "duration": 141,
    "start_time": "2022-03-10T20:45:11.212Z"
   },
   {
    "duration": 5,
    "start_time": "2022-03-10T20:45:11.389Z"
   },
   {
    "duration": 6,
    "start_time": "2022-03-10T20:45:11.397Z"
   },
   {
    "duration": 16,
    "start_time": "2022-03-10T20:45:11.406Z"
   },
   {
    "duration": 94,
    "start_time": "2022-03-10T20:45:11.425Z"
   },
   {
    "duration": -1415,
    "start_time": "2022-03-10T20:45:12.937Z"
   },
   {
    "duration": -1420,
    "start_time": "2022-03-10T20:45:12.944Z"
   },
   {
    "duration": -1433,
    "start_time": "2022-03-10T20:45:12.958Z"
   },
   {
    "duration": -1437,
    "start_time": "2022-03-10T20:45:12.964Z"
   },
   {
    "duration": -1440,
    "start_time": "2022-03-10T20:45:12.969Z"
   },
   {
    "duration": -1444,
    "start_time": "2022-03-10T20:45:12.974Z"
   },
   {
    "duration": -1450,
    "start_time": "2022-03-10T20:45:12.982Z"
   },
   {
    "duration": -1453,
    "start_time": "2022-03-10T20:45:12.986Z"
   },
   {
    "duration": -1456,
    "start_time": "2022-03-10T20:45:12.991Z"
   },
   {
    "duration": -1488,
    "start_time": "2022-03-10T20:45:13.025Z"
   },
   {
    "duration": 88,
    "start_time": "2022-03-10T20:45:26.108Z"
   },
   {
    "duration": 1147,
    "start_time": "2022-03-10T20:45:42.555Z"
   },
   {
    "duration": 1492,
    "start_time": "2022-03-10T20:46:51.424Z"
   },
   {
    "duration": 41,
    "start_time": "2022-03-10T20:46:52.919Z"
   },
   {
    "duration": 142,
    "start_time": "2022-03-10T20:46:52.963Z"
   },
   {
    "duration": 3,
    "start_time": "2022-03-10T20:46:53.108Z"
   },
   {
    "duration": 8,
    "start_time": "2022-03-10T20:46:53.113Z"
   },
   {
    "duration": 17,
    "start_time": "2022-03-10T20:46:53.123Z"
   },
   {
    "duration": 1251,
    "start_time": "2022-03-10T20:46:53.142Z"
   },
   {
    "duration": -1425,
    "start_time": "2022-03-10T20:46:55.821Z"
   },
   {
    "duration": -1432,
    "start_time": "2022-03-10T20:46:55.829Z"
   },
   {
    "duration": -1447,
    "start_time": "2022-03-10T20:46:55.846Z"
   },
   {
    "duration": -1462,
    "start_time": "2022-03-10T20:46:55.862Z"
   },
   {
    "duration": -1471,
    "start_time": "2022-03-10T20:46:55.873Z"
   },
   {
    "duration": -1479,
    "start_time": "2022-03-10T20:46:55.883Z"
   },
   {
    "duration": -1483,
    "start_time": "2022-03-10T20:46:55.888Z"
   },
   {
    "duration": -1485,
    "start_time": "2022-03-10T20:46:55.893Z"
   },
   {
    "duration": -1490,
    "start_time": "2022-03-10T20:46:55.899Z"
   },
   {
    "duration": -1493,
    "start_time": "2022-03-10T20:46:55.903Z"
   },
   {
    "duration": 1038,
    "start_time": "2022-03-10T20:49:21.499Z"
   },
   {
    "duration": 1020,
    "start_time": "2022-03-10T20:49:53.850Z"
   },
   {
    "duration": 1023,
    "start_time": "2022-03-10T20:50:08.131Z"
   },
   {
    "duration": 1068,
    "start_time": "2022-03-10T20:50:49.668Z"
   },
   {
    "duration": 46,
    "start_time": "2022-03-10T20:51:17.804Z"
   },
   {
    "duration": 1377,
    "start_time": "2022-03-10T20:51:25.418Z"
   },
   {
    "duration": 44,
    "start_time": "2022-03-10T20:51:26.798Z"
   },
   {
    "duration": 144,
    "start_time": "2022-03-10T20:51:26.844Z"
   },
   {
    "duration": 3,
    "start_time": "2022-03-10T20:51:26.992Z"
   },
   {
    "duration": 18,
    "start_time": "2022-03-10T20:51:26.998Z"
   },
   {
    "duration": 20,
    "start_time": "2022-03-10T20:51:27.018Z"
   },
   {
    "duration": 1208,
    "start_time": "2022-03-10T20:51:27.041Z"
   },
   {
    "duration": -1421,
    "start_time": "2022-03-10T20:51:29.673Z"
   },
   {
    "duration": -1431,
    "start_time": "2022-03-10T20:51:29.684Z"
   },
   {
    "duration": -1436,
    "start_time": "2022-03-10T20:51:29.691Z"
   },
   {
    "duration": -1441,
    "start_time": "2022-03-10T20:51:29.697Z"
   },
   {
    "duration": -1445,
    "start_time": "2022-03-10T20:51:29.702Z"
   },
   {
    "duration": -1446,
    "start_time": "2022-03-10T20:51:29.705Z"
   },
   {
    "duration": -1450,
    "start_time": "2022-03-10T20:51:29.710Z"
   },
   {
    "duration": -1452,
    "start_time": "2022-03-10T20:51:29.714Z"
   },
   {
    "duration": -1455,
    "start_time": "2022-03-10T20:51:29.718Z"
   },
   {
    "duration": -1457,
    "start_time": "2022-03-10T20:51:29.723Z"
   },
   {
    "duration": -1459,
    "start_time": "2022-03-10T20:51:29.727Z"
   },
   {
    "duration": 8,
    "start_time": "2022-03-10T20:52:43.487Z"
   },
   {
    "duration": 1031,
    "start_time": "2022-03-10T20:52:50.115Z"
   },
   {
    "duration": 20,
    "start_time": "2022-03-10T20:53:09.116Z"
   },
   {
    "duration": 18,
    "start_time": "2022-03-10T20:53:13.688Z"
   },
   {
    "duration": 17,
    "start_time": "2022-03-10T20:53:17.389Z"
   },
   {
    "duration": 13,
    "start_time": "2022-03-10T20:53:20.812Z"
   },
   {
    "duration": 12,
    "start_time": "2022-03-10T20:53:24.448Z"
   },
   {
    "duration": 21,
    "start_time": "2022-03-10T20:53:28.197Z"
   },
   {
    "duration": 11,
    "start_time": "2022-03-10T20:53:35.016Z"
   },
   {
    "duration": 8,
    "start_time": "2022-03-10T20:53:39.282Z"
   },
   {
    "duration": 2952,
    "start_time": "2022-03-10T20:53:45.445Z"
   },
   {
    "duration": 6072,
    "start_time": "2022-03-10T20:54:51.498Z"
   },
   {
    "duration": 6225,
    "start_time": "2022-03-10T20:58:07.782Z"
   },
   {
    "duration": 5702,
    "start_time": "2022-03-10T20:58:47.055Z"
   },
   {
    "duration": 3391,
    "start_time": "2022-03-10T20:59:30.208Z"
   },
   {
    "duration": 5570,
    "start_time": "2022-03-10T20:59:44.364Z"
   },
   {
    "duration": 273,
    "start_time": "2022-03-10T20:59:50.205Z"
   },
   {
    "duration": 1639,
    "start_time": "2022-03-10T21:00:06.257Z"
   },
   {
    "duration": 43,
    "start_time": "2022-03-10T21:00:07.899Z"
   },
   {
    "duration": 149,
    "start_time": "2022-03-10T21:00:07.945Z"
   },
   {
    "duration": 4,
    "start_time": "2022-03-10T21:00:08.097Z"
   },
   {
    "duration": 14,
    "start_time": "2022-03-10T21:00:08.103Z"
   },
   {
    "duration": 39,
    "start_time": "2022-03-10T21:00:08.119Z"
   },
   {
    "duration": 19,
    "start_time": "2022-03-10T21:00:08.160Z"
   },
   {
    "duration": 26,
    "start_time": "2022-03-10T21:00:08.183Z"
   },
   {
    "duration": 23,
    "start_time": "2022-03-10T21:00:08.212Z"
   },
   {
    "duration": 23,
    "start_time": "2022-03-10T21:00:08.237Z"
   },
   {
    "duration": 31,
    "start_time": "2022-03-10T21:00:08.263Z"
   },
   {
    "duration": 16,
    "start_time": "2022-03-10T21:00:08.296Z"
   },
   {
    "duration": 29,
    "start_time": "2022-03-10T21:00:08.314Z"
   },
   {
    "duration": 11,
    "start_time": "2022-03-10T21:00:08.346Z"
   },
   {
    "duration": 34,
    "start_time": "2022-03-10T21:00:08.360Z"
   },
   {
    "duration": 6205,
    "start_time": "2022-03-10T21:00:08.396Z"
   },
   {
    "duration": -1425,
    "start_time": "2022-03-10T21:00:16.029Z"
   },
   {
    "duration": -1438,
    "start_time": "2022-03-10T21:00:16.044Z"
   },
   {
    "duration": -1442,
    "start_time": "2022-03-10T21:00:16.049Z"
   },
   {
    "duration": 6088,
    "start_time": "2022-03-10T21:01:06.251Z"
   },
   {
    "duration": 270,
    "start_time": "2022-03-10T21:02:53.713Z"
   },
   {
    "duration": 235,
    "start_time": "2022-03-10T21:02:59.680Z"
   },
   {
    "duration": 239,
    "start_time": "2022-03-10T21:03:06.705Z"
   },
   {
    "duration": 8,
    "start_time": "2022-03-10T21:03:51.487Z"
   },
   {
    "duration": 1519,
    "start_time": "2022-03-10T21:06:02.264Z"
   },
   {
    "duration": 38,
    "start_time": "2022-03-10T21:06:03.787Z"
   },
   {
    "duration": 115,
    "start_time": "2022-03-10T21:06:03.828Z"
   },
   {
    "duration": 3,
    "start_time": "2022-03-10T21:06:03.945Z"
   },
   {
    "duration": 39,
    "start_time": "2022-03-10T21:06:03.950Z"
   },
   {
    "duration": 11,
    "start_time": "2022-03-10T21:06:03.991Z"
   },
   {
    "duration": 9,
    "start_time": "2022-03-10T21:06:04.004Z"
   },
   {
    "duration": 24,
    "start_time": "2022-03-10T21:06:04.017Z"
   },
   {
    "duration": 58,
    "start_time": "2022-03-10T21:06:04.044Z"
   },
   {
    "duration": 19,
    "start_time": "2022-03-10T21:06:04.105Z"
   },
   {
    "duration": 21,
    "start_time": "2022-03-10T21:06:04.127Z"
   },
   {
    "duration": 39,
    "start_time": "2022-03-10T21:06:04.150Z"
   },
   {
    "duration": 19,
    "start_time": "2022-03-10T21:06:04.192Z"
   },
   {
    "duration": 15,
    "start_time": "2022-03-10T21:06:04.214Z"
   },
   {
    "duration": 12,
    "start_time": "2022-03-10T21:06:04.231Z"
   },
   {
    "duration": 45,
    "start_time": "2022-03-10T21:06:04.245Z"
   },
   {
    "duration": 6098,
    "start_time": "2022-03-10T21:06:04.293Z"
   },
   {
    "duration": -1493,
    "start_time": "2022-03-10T21:06:11.888Z"
   },
   {
    "duration": -1511,
    "start_time": "2022-03-10T21:06:11.908Z"
   },
   {
    "duration": -1523,
    "start_time": "2022-03-10T21:06:11.922Z"
   },
   {
    "duration": 675,
    "start_time": "2022-03-10T21:14:51.151Z"
   },
   {
    "duration": 444,
    "start_time": "2022-03-10T21:15:08.848Z"
   },
   {
    "duration": 5929,
    "start_time": "2022-03-10T21:16:30.355Z"
   },
   {
    "duration": 5481,
    "start_time": "2022-03-10T21:16:52.215Z"
   },
   {
    "duration": 13,
    "start_time": "2022-03-10T21:16:59.958Z"
   },
   {
    "duration": 10,
    "start_time": "2022-03-10T21:19:17.350Z"
   },
   {
    "duration": 8,
    "start_time": "2022-03-10T21:19:21.550Z"
   },
   {
    "duration": 7,
    "start_time": "2022-03-10T21:19:37.227Z"
   },
   {
    "duration": 1519,
    "start_time": "2022-03-10T21:20:12.769Z"
   },
   {
    "duration": 40,
    "start_time": "2022-03-10T21:20:14.290Z"
   },
   {
    "duration": 124,
    "start_time": "2022-03-10T21:20:14.333Z"
   },
   {
    "duration": 28,
    "start_time": "2022-03-10T21:20:14.460Z"
   },
   {
    "duration": 7,
    "start_time": "2022-03-10T21:20:14.490Z"
   },
   {
    "duration": 11,
    "start_time": "2022-03-10T21:20:14.499Z"
   },
   {
    "duration": 8,
    "start_time": "2022-03-10T21:20:14.512Z"
   },
   {
    "duration": 21,
    "start_time": "2022-03-10T21:20:14.523Z"
   },
   {
    "duration": 58,
    "start_time": "2022-03-10T21:20:14.547Z"
   },
   {
    "duration": 9,
    "start_time": "2022-03-10T21:20:14.607Z"
   },
   {
    "duration": 27,
    "start_time": "2022-03-10T21:20:14.618Z"
   },
   {
    "duration": 58,
    "start_time": "2022-03-10T21:20:14.648Z"
   },
   {
    "duration": 20,
    "start_time": "2022-03-10T21:20:14.709Z"
   },
   {
    "duration": 17,
    "start_time": "2022-03-10T21:20:14.732Z"
   },
   {
    "duration": 46,
    "start_time": "2022-03-10T21:20:14.751Z"
   },
   {
    "duration": 15,
    "start_time": "2022-03-10T21:20:14.800Z"
   },
   {
    "duration": 11,
    "start_time": "2022-03-10T21:20:14.818Z"
   },
   {
    "duration": 947,
    "start_time": "2022-03-10T21:20:14.832Z"
   },
   {
    "duration": 449,
    "start_time": "2022-03-10T21:20:15.786Z"
   },
   {
    "duration": 373,
    "start_time": "2022-03-10T21:21:02.931Z"
   },
   {
    "duration": 6,
    "start_time": "2022-03-10T21:21:18.890Z"
   },
   {
    "duration": 13,
    "start_time": "2022-03-10T21:21:36.272Z"
   },
   {
    "duration": 303,
    "start_time": "2022-03-10T21:26:41.690Z"
   },
   {
    "duration": 1458,
    "start_time": "2022-03-10T21:26:50.495Z"
   },
   {
    "duration": 42,
    "start_time": "2022-03-10T21:26:51.955Z"
   },
   {
    "duration": 134,
    "start_time": "2022-03-10T21:26:52.000Z"
   },
   {
    "duration": 3,
    "start_time": "2022-03-10T21:26:52.137Z"
   },
   {
    "duration": 8,
    "start_time": "2022-03-10T21:26:52.143Z"
   },
   {
    "duration": 39,
    "start_time": "2022-03-10T21:26:52.153Z"
   },
   {
    "duration": 11,
    "start_time": "2022-03-10T21:26:52.194Z"
   },
   {
    "duration": 21,
    "start_time": "2022-03-10T21:26:52.210Z"
   },
   {
    "duration": 25,
    "start_time": "2022-03-10T21:26:52.234Z"
   },
   {
    "duration": 8,
    "start_time": "2022-03-10T21:26:52.288Z"
   },
   {
    "duration": 19,
    "start_time": "2022-03-10T21:26:52.299Z"
   },
   {
    "duration": 17,
    "start_time": "2022-03-10T21:26:52.320Z"
   },
   {
    "duration": 51,
    "start_time": "2022-03-10T21:26:52.339Z"
   },
   {
    "duration": 14,
    "start_time": "2022-03-10T21:26:52.393Z"
   },
   {
    "duration": 13,
    "start_time": "2022-03-10T21:26:52.410Z"
   },
   {
    "duration": 15,
    "start_time": "2022-03-10T21:26:52.425Z"
   },
   {
    "duration": 13,
    "start_time": "2022-03-10T21:26:52.443Z"
   },
   {
    "duration": 40,
    "start_time": "2022-03-10T21:26:52.458Z"
   },
   {
    "duration": 622,
    "start_time": "2022-03-10T21:26:52.500Z"
   },
   {
    "duration": 440,
    "start_time": "2022-03-10T21:26:53.125Z"
   },
   {
    "duration": 314,
    "start_time": "2022-03-10T21:32:56.277Z"
   },
   {
    "duration": 314,
    "start_time": "2022-03-10T21:33:06.194Z"
   },
   {
    "duration": 410,
    "start_time": "2022-03-10T21:34:09.174Z"
   },
   {
    "duration": 403,
    "start_time": "2022-03-10T21:34:21.561Z"
   },
   {
    "duration": 399,
    "start_time": "2022-03-10T21:34:30.608Z"
   },
   {
    "duration": 364,
    "start_time": "2022-03-10T21:36:50.451Z"
   },
   {
    "duration": 68,
    "start_time": "2022-03-10T21:42:19.873Z"
   },
   {
    "duration": 266,
    "start_time": "2022-03-10T21:43:08.836Z"
   },
   {
    "duration": 311,
    "start_time": "2022-03-10T21:43:19.708Z"
   },
   {
    "duration": 345,
    "start_time": "2022-03-10T21:45:46.807Z"
   },
   {
    "duration": 466,
    "start_time": "2022-03-10T21:46:11.280Z"
   },
   {
    "duration": 399,
    "start_time": "2022-03-10T21:46:19.741Z"
   },
   {
    "duration": 392,
    "start_time": "2022-03-10T21:46:25.003Z"
   },
   {
    "duration": 540,
    "start_time": "2022-03-10T21:50:41.705Z"
   },
   {
    "duration": 457,
    "start_time": "2022-03-10T21:50:50.830Z"
   },
   {
    "duration": 448,
    "start_time": "2022-03-10T21:51:27.345Z"
   },
   {
    "duration": 360,
    "start_time": "2022-03-10T22:01:31.908Z"
   },
   {
    "duration": 614,
    "start_time": "2022-03-10T22:02:08.096Z"
   },
   {
    "duration": 533,
    "start_time": "2022-03-10T22:02:18.019Z"
   },
   {
    "duration": 506,
    "start_time": "2022-03-10T22:02:29.897Z"
   },
   {
    "duration": 487,
    "start_time": "2022-03-10T22:02:37.900Z"
   },
   {
    "duration": 487,
    "start_time": "2022-03-10T22:02:43.484Z"
   },
   {
    "duration": 404,
    "start_time": "2022-03-10T22:02:53.807Z"
   },
   {
    "duration": 562,
    "start_time": "2022-03-10T22:03:58.943Z"
   },
   {
    "duration": 592,
    "start_time": "2022-03-10T22:04:04.584Z"
   },
   {
    "duration": 705,
    "start_time": "2022-03-10T22:04:22.221Z"
   },
   {
    "duration": 706,
    "start_time": "2022-03-10T22:04:46.959Z"
   },
   {
    "duration": 685,
    "start_time": "2022-03-10T22:04:56.393Z"
   },
   {
    "duration": 686,
    "start_time": "2022-03-10T22:05:03.333Z"
   },
   {
    "duration": 666,
    "start_time": "2022-03-10T22:05:23.637Z"
   },
   {
    "duration": 407,
    "start_time": "2022-03-10T22:05:59.251Z"
   },
   {
    "duration": 511,
    "start_time": "2022-03-10T22:06:07.017Z"
   },
   {
    "duration": 493,
    "start_time": "2022-03-10T22:06:34.597Z"
   },
   {
    "duration": 489,
    "start_time": "2022-03-10T22:06:49.301Z"
   },
   {
    "duration": 467,
    "start_time": "2022-03-10T22:07:14.269Z"
   },
   {
    "duration": 416,
    "start_time": "2022-03-10T22:07:24.530Z"
   },
   {
    "duration": 425,
    "start_time": "2022-03-10T22:07:51.924Z"
   },
   {
    "duration": 6,
    "start_time": "2022-03-10T22:11:40.727Z"
   },
   {
    "duration": 230,
    "start_time": "2022-03-10T22:14:36.661Z"
   },
   {
    "duration": 464,
    "start_time": "2022-03-10T22:15:28.499Z"
   },
   {
    "duration": 489,
    "start_time": "2022-03-10T22:15:56.272Z"
   },
   {
    "duration": 505,
    "start_time": "2022-03-10T22:17:50.469Z"
   },
   {
    "duration": 1190,
    "start_time": "2022-03-11T05:04:00.122Z"
   },
   {
    "duration": 77,
    "start_time": "2022-03-11T05:04:01.315Z"
   },
   {
    "duration": 82,
    "start_time": "2022-03-11T05:04:01.394Z"
   },
   {
    "duration": 3,
    "start_time": "2022-03-11T05:04:01.477Z"
   },
   {
    "duration": 17,
    "start_time": "2022-03-11T05:04:01.481Z"
   },
   {
    "duration": 20,
    "start_time": "2022-03-11T05:04:01.500Z"
   },
   {
    "duration": 8,
    "start_time": "2022-03-11T05:04:01.521Z"
   },
   {
    "duration": 17,
    "start_time": "2022-03-11T05:04:01.532Z"
   },
   {
    "duration": 23,
    "start_time": "2022-03-11T05:04:01.551Z"
   },
   {
    "duration": 6,
    "start_time": "2022-03-11T05:04:01.576Z"
   },
   {
    "duration": 21,
    "start_time": "2022-03-11T05:04:01.584Z"
   },
   {
    "duration": 32,
    "start_time": "2022-03-11T05:04:01.607Z"
   },
   {
    "duration": 9,
    "start_time": "2022-03-11T05:04:01.641Z"
   },
   {
    "duration": 12,
    "start_time": "2022-03-11T05:04:01.652Z"
   },
   {
    "duration": 10,
    "start_time": "2022-03-11T05:04:01.665Z"
   },
   {
    "duration": 27,
    "start_time": "2022-03-11T05:04:01.676Z"
   },
   {
    "duration": 7,
    "start_time": "2022-03-11T05:04:01.705Z"
   },
   {
    "duration": 30,
    "start_time": "2022-03-11T05:04:01.713Z"
   },
   {
    "duration": 360,
    "start_time": "2022-03-11T05:04:01.745Z"
   },
   {
    "duration": 284,
    "start_time": "2022-03-11T05:04:02.107Z"
   },
   {
    "duration": 271,
    "start_time": "2022-03-11T05:04:02.393Z"
   },
   {
    "duration": 349,
    "start_time": "2022-03-11T05:04:02.666Z"
   },
   {
    "duration": 274,
    "start_time": "2022-03-11T05:04:03.018Z"
   },
   {
    "duration": 369,
    "start_time": "2022-03-11T05:04:03.294Z"
   },
   {
    "duration": 455,
    "start_time": "2022-03-11T05:04:03.665Z"
   },
   {
    "duration": 4,
    "start_time": "2022-03-11T05:04:04.122Z"
   },
   {
    "duration": 428,
    "start_time": "2022-03-11T05:04:04.127Z"
   },
   {
    "duration": 6,
    "start_time": "2022-03-11T05:04:04.557Z"
   },
   {
    "duration": 345,
    "start_time": "2022-03-11T05:04:04.565Z"
   },
   {
    "duration": 7,
    "start_time": "2022-03-11T05:04:31.557Z"
   },
   {
    "duration": 6,
    "start_time": "2022-03-11T05:05:12.937Z"
   },
   {
    "duration": 7,
    "start_time": "2022-03-11T05:05:22.747Z"
   },
   {
    "duration": 5,
    "start_time": "2022-03-11T05:11:03.810Z"
   },
   {
    "duration": 9,
    "start_time": "2022-03-11T05:34:33.570Z"
   },
   {
    "duration": 8,
    "start_time": "2022-03-11T05:34:37.439Z"
   },
   {
    "duration": 9,
    "start_time": "2022-03-11T05:34:54.029Z"
   },
   {
    "duration": 8,
    "start_time": "2022-03-11T05:35:03.446Z"
   },
   {
    "duration": 1195,
    "start_time": "2022-03-11T05:39:31.944Z"
   },
   {
    "duration": 51,
    "start_time": "2022-03-11T05:39:33.141Z"
   },
   {
    "duration": 88,
    "start_time": "2022-03-11T05:39:33.195Z"
   },
   {
    "duration": 3,
    "start_time": "2022-03-11T05:39:33.285Z"
   },
   {
    "duration": 9,
    "start_time": "2022-03-11T05:39:33.290Z"
   },
   {
    "duration": 7,
    "start_time": "2022-03-11T05:39:33.300Z"
   },
   {
    "duration": 29,
    "start_time": "2022-03-11T05:39:33.309Z"
   },
   {
    "duration": 22,
    "start_time": "2022-03-11T05:39:33.342Z"
   },
   {
    "duration": 39,
    "start_time": "2022-03-11T05:39:33.366Z"
   },
   {
    "duration": 4,
    "start_time": "2022-03-11T05:39:33.407Z"
   },
   {
    "duration": 19,
    "start_time": "2022-03-11T05:39:33.413Z"
   },
   {
    "duration": 13,
    "start_time": "2022-03-11T05:39:33.434Z"
   },
   {
    "duration": 21,
    "start_time": "2022-03-11T05:39:33.449Z"
   },
   {
    "duration": 15,
    "start_time": "2022-03-11T05:39:33.471Z"
   },
   {
    "duration": 12,
    "start_time": "2022-03-11T05:39:33.487Z"
   },
   {
    "duration": 11,
    "start_time": "2022-03-11T05:39:33.501Z"
   },
   {
    "duration": 25,
    "start_time": "2022-03-11T05:39:33.514Z"
   },
   {
    "duration": 10,
    "start_time": "2022-03-11T05:39:33.541Z"
   },
   {
    "duration": 372,
    "start_time": "2022-03-11T05:39:33.553Z"
   },
   {
    "duration": 293,
    "start_time": "2022-03-11T05:39:33.928Z"
   },
   {
    "duration": 289,
    "start_time": "2022-03-11T05:39:34.223Z"
   },
   {
    "duration": 384,
    "start_time": "2022-03-11T05:39:34.514Z"
   },
   {
    "duration": 293,
    "start_time": "2022-03-11T05:39:34.901Z"
   },
   {
    "duration": 383,
    "start_time": "2022-03-11T05:39:35.197Z"
   },
   {
    "duration": 438,
    "start_time": "2022-03-11T05:39:35.582Z"
   },
   {
    "duration": 4,
    "start_time": "2022-03-11T05:39:36.022Z"
   },
   {
    "duration": 428,
    "start_time": "2022-03-11T05:39:36.028Z"
   },
   {
    "duration": 5,
    "start_time": "2022-03-11T05:39:36.458Z"
   },
   {
    "duration": 348,
    "start_time": "2022-03-11T05:39:36.464Z"
   },
   {
    "duration": 6,
    "start_time": "2022-03-11T05:39:36.814Z"
   },
   {
    "duration": 23,
    "start_time": "2022-03-11T05:39:36.822Z"
   },
   {
    "duration": 10,
    "start_time": "2022-03-11T05:39:36.847Z"
   },
   {
    "duration": 1141,
    "start_time": "2022-03-11T05:39:55.166Z"
   },
   {
    "duration": 42,
    "start_time": "2022-03-11T05:39:56.309Z"
   },
   {
    "duration": 109,
    "start_time": "2022-03-11T05:39:56.353Z"
   },
   {
    "duration": 2,
    "start_time": "2022-03-11T05:39:56.464Z"
   },
   {
    "duration": 7,
    "start_time": "2022-03-11T05:39:56.468Z"
   },
   {
    "duration": 12,
    "start_time": "2022-03-11T05:39:56.477Z"
   },
   {
    "duration": 13,
    "start_time": "2022-03-11T05:39:56.490Z"
   },
   {
    "duration": 34,
    "start_time": "2022-03-11T05:39:56.505Z"
   },
   {
    "duration": 7,
    "start_time": "2022-03-11T05:39:56.541Z"
   },
   {
    "duration": 15,
    "start_time": "2022-03-11T05:39:56.549Z"
   },
   {
    "duration": 12,
    "start_time": "2022-03-11T05:39:56.566Z"
   },
   {
    "duration": 12,
    "start_time": "2022-03-11T05:39:56.579Z"
   },
   {
    "duration": 11,
    "start_time": "2022-03-11T05:39:56.593Z"
   },
   {
    "duration": 33,
    "start_time": "2022-03-11T05:39:56.606Z"
   },
   {
    "duration": 13,
    "start_time": "2022-03-11T05:39:56.641Z"
   },
   {
    "duration": 4,
    "start_time": "2022-03-11T05:39:56.656Z"
   },
   {
    "duration": 12,
    "start_time": "2022-03-11T05:39:56.661Z"
   },
   {
    "duration": 371,
    "start_time": "2022-03-11T05:39:56.675Z"
   },
   {
    "duration": 295,
    "start_time": "2022-03-11T05:39:57.047Z"
   },
   {
    "duration": 273,
    "start_time": "2022-03-11T05:39:57.344Z"
   },
   {
    "duration": 400,
    "start_time": "2022-03-11T05:39:57.620Z"
   },
   {
    "duration": 281,
    "start_time": "2022-03-11T05:39:58.022Z"
   },
   {
    "duration": 413,
    "start_time": "2022-03-11T05:39:58.307Z"
   },
   {
    "duration": 490,
    "start_time": "2022-03-11T05:39:58.723Z"
   },
   {
    "duration": 4,
    "start_time": "2022-03-11T05:39:59.216Z"
   },
   {
    "duration": 466,
    "start_time": "2022-03-11T05:39:59.223Z"
   },
   {
    "duration": 6,
    "start_time": "2022-03-11T05:39:59.691Z"
   },
   {
    "duration": 358,
    "start_time": "2022-03-11T05:39:59.699Z"
   },
   {
    "duration": 6,
    "start_time": "2022-03-11T05:40:00.059Z"
   },
   {
    "duration": 19,
    "start_time": "2022-03-11T05:40:00.067Z"
   },
   {
    "duration": 11,
    "start_time": "2022-03-11T05:40:00.088Z"
   },
   {
    "duration": 396,
    "start_time": "2022-03-11T05:42:53.175Z"
   },
   {
    "duration": 257,
    "start_time": "2022-03-11T05:43:13.624Z"
   },
   {
    "duration": 32,
    "start_time": "2022-03-11T05:45:22.743Z"
   },
   {
    "duration": 34,
    "start_time": "2022-03-11T05:45:40.299Z"
   },
   {
    "duration": 1170,
    "start_time": "2022-03-11T05:47:44.453Z"
   },
   {
    "duration": 43,
    "start_time": "2022-03-11T05:47:45.625Z"
   },
   {
    "duration": 74,
    "start_time": "2022-03-11T05:47:45.670Z"
   },
   {
    "duration": 2,
    "start_time": "2022-03-11T05:47:45.746Z"
   },
   {
    "duration": 10,
    "start_time": "2022-03-11T05:47:45.750Z"
   },
   {
    "duration": 11,
    "start_time": "2022-03-11T05:47:45.762Z"
   },
   {
    "duration": 5,
    "start_time": "2022-03-11T05:47:45.774Z"
   },
   {
    "duration": 14,
    "start_time": "2022-03-11T05:47:45.781Z"
   },
   {
    "duration": 6,
    "start_time": "2022-03-11T05:47:45.798Z"
   },
   {
    "duration": 39,
    "start_time": "2022-03-11T05:47:45.806Z"
   },
   {
    "duration": 12,
    "start_time": "2022-03-11T05:47:45.847Z"
   },
   {
    "duration": 11,
    "start_time": "2022-03-11T05:47:45.860Z"
   },
   {
    "duration": 10,
    "start_time": "2022-03-11T05:47:45.873Z"
   },
   {
    "duration": 8,
    "start_time": "2022-03-11T05:47:45.885Z"
   },
   {
    "duration": 10,
    "start_time": "2022-03-11T05:47:45.895Z"
   },
   {
    "duration": 4,
    "start_time": "2022-03-11T05:47:45.938Z"
   },
   {
    "duration": 12,
    "start_time": "2022-03-11T05:47:45.943Z"
   },
   {
    "duration": 358,
    "start_time": "2022-03-11T05:47:45.957Z"
   },
   {
    "duration": 282,
    "start_time": "2022-03-11T05:47:46.317Z"
   },
   {
    "duration": 287,
    "start_time": "2022-03-11T05:47:46.601Z"
   },
   {
    "duration": 347,
    "start_time": "2022-03-11T05:47:46.890Z"
   },
   {
    "duration": 282,
    "start_time": "2022-03-11T05:47:47.239Z"
   },
   {
    "duration": 393,
    "start_time": "2022-03-11T05:47:47.523Z"
   },
   {
    "duration": 486,
    "start_time": "2022-03-11T05:47:47.918Z"
   },
   {
    "duration": 4,
    "start_time": "2022-03-11T05:47:48.405Z"
   },
   {
    "duration": 414,
    "start_time": "2022-03-11T05:47:48.411Z"
   },
   {
    "duration": 13,
    "start_time": "2022-03-11T05:47:48.828Z"
   },
   {
    "duration": 359,
    "start_time": "2022-03-11T05:47:48.843Z"
   },
   {
    "duration": 4,
    "start_time": "2022-03-11T05:47:49.204Z"
   },
   {
    "duration": 10,
    "start_time": "2022-03-11T05:47:49.210Z"
   },
   {
    "duration": 20,
    "start_time": "2022-03-11T05:47:49.222Z"
   },
   {
    "duration": 126,
    "start_time": "2022-03-11T05:47:49.244Z"
   },
   {
    "duration": 153,
    "start_time": "2022-03-11T05:47:49.371Z"
   },
   {
    "duration": 41,
    "start_time": "2022-03-11T05:47:49.526Z"
   },
   {
    "duration": 95,
    "start_time": "2022-03-11T05:50:34.316Z"
   },
   {
    "duration": 6,
    "start_time": "2022-03-11T05:54:37.717Z"
   },
   {
    "duration": 271,
    "start_time": "2022-03-11T05:54:40.789Z"
   },
   {
    "duration": 11,
    "start_time": "2022-03-11T05:56:13.495Z"
   },
   {
    "duration": 10,
    "start_time": "2022-03-11T05:56:43.203Z"
   },
   {
    "duration": 9,
    "start_time": "2022-03-11T05:57:51.218Z"
   },
   {
    "duration": 10,
    "start_time": "2022-03-11T06:07:40.577Z"
   },
   {
    "duration": 14,
    "start_time": "2022-03-11T06:08:37.110Z"
   },
   {
    "duration": 14,
    "start_time": "2022-03-11T06:08:49.946Z"
   },
   {
    "duration": 13,
    "start_time": "2022-03-11T06:09:11.143Z"
   },
   {
    "duration": 11,
    "start_time": "2022-03-11T06:20:04.478Z"
   },
   {
    "duration": 8,
    "start_time": "2022-03-11T06:23:09.135Z"
   },
   {
    "duration": 8,
    "start_time": "2022-03-11T06:23:42.257Z"
   },
   {
    "duration": 15,
    "start_time": "2022-03-11T06:24:30.023Z"
   },
   {
    "duration": 62,
    "start_time": "2022-03-11T06:24:37.866Z"
   },
   {
    "duration": 12,
    "start_time": "2022-03-11T06:24:48.409Z"
   },
   {
    "duration": 14,
    "start_time": "2022-03-11T06:25:03.490Z"
   },
   {
    "duration": 13,
    "start_time": "2022-03-11T06:25:21.888Z"
   },
   {
    "duration": 11,
    "start_time": "2022-03-11T06:25:38.362Z"
   },
   {
    "duration": 12,
    "start_time": "2022-03-11T06:25:48.058Z"
   },
   {
    "duration": 12,
    "start_time": "2022-03-11T06:25:58.591Z"
   },
   {
    "duration": 176,
    "start_time": "2022-03-11T06:30:37.477Z"
   },
   {
    "duration": 14,
    "start_time": "2022-03-11T06:30:52.330Z"
   },
   {
    "duration": 14,
    "start_time": "2022-03-11T06:31:37.363Z"
   },
   {
    "duration": 1180,
    "start_time": "2022-03-11T06:44:10.831Z"
   },
   {
    "duration": 46,
    "start_time": "2022-03-11T06:44:12.013Z"
   },
   {
    "duration": 96,
    "start_time": "2022-03-11T06:44:12.061Z"
   },
   {
    "duration": 3,
    "start_time": "2022-03-11T06:44:12.158Z"
   },
   {
    "duration": 5,
    "start_time": "2022-03-11T06:44:12.163Z"
   },
   {
    "duration": 7,
    "start_time": "2022-03-11T06:44:12.170Z"
   },
   {
    "duration": 5,
    "start_time": "2022-03-11T06:44:12.179Z"
   },
   {
    "duration": 13,
    "start_time": "2022-03-11T06:44:12.187Z"
   },
   {
    "duration": 39,
    "start_time": "2022-03-11T06:44:12.202Z"
   },
   {
    "duration": 15,
    "start_time": "2022-03-11T06:44:12.243Z"
   },
   {
    "duration": 13,
    "start_time": "2022-03-11T06:44:12.260Z"
   },
   {
    "duration": 10,
    "start_time": "2022-03-11T06:44:12.275Z"
   },
   {
    "duration": 9,
    "start_time": "2022-03-11T06:44:12.287Z"
   },
   {
    "duration": 8,
    "start_time": "2022-03-11T06:44:12.339Z"
   },
   {
    "duration": 12,
    "start_time": "2022-03-11T06:44:12.348Z"
   },
   {
    "duration": 4,
    "start_time": "2022-03-11T06:44:12.362Z"
   },
   {
    "duration": 11,
    "start_time": "2022-03-11T06:44:12.367Z"
   },
   {
    "duration": 379,
    "start_time": "2022-03-11T06:44:12.380Z"
   },
   {
    "duration": 296,
    "start_time": "2022-03-11T06:44:12.760Z"
   },
   {
    "duration": 305,
    "start_time": "2022-03-11T06:44:13.058Z"
   },
   {
    "duration": 366,
    "start_time": "2022-03-11T06:44:13.365Z"
   },
   {
    "duration": 279,
    "start_time": "2022-03-11T06:44:13.737Z"
   },
   {
    "duration": 430,
    "start_time": "2022-03-11T06:44:14.020Z"
   },
   {
    "duration": 475,
    "start_time": "2022-03-11T06:44:14.452Z"
   },
   {
    "duration": 11,
    "start_time": "2022-03-11T06:44:14.929Z"
   },
   {
    "duration": 475,
    "start_time": "2022-03-11T06:44:14.942Z"
   },
   {
    "duration": 20,
    "start_time": "2022-03-11T06:44:15.420Z"
   },
   {
    "duration": 390,
    "start_time": "2022-03-11T06:44:15.443Z"
   },
   {
    "duration": 5,
    "start_time": "2022-03-11T06:44:15.837Z"
   },
   {
    "duration": 13,
    "start_time": "2022-03-11T06:44:15.844Z"
   },
   {
    "duration": 12,
    "start_time": "2022-03-11T06:44:15.859Z"
   },
   {
    "duration": 136,
    "start_time": "2022-03-11T06:44:15.872Z"
   },
   {
    "duration": 154,
    "start_time": "2022-03-11T06:44:16.010Z"
   },
   {
    "duration": 33,
    "start_time": "2022-03-11T06:44:16.166Z"
   },
   {
    "duration": 111,
    "start_time": "2022-03-11T06:44:16.201Z"
   },
   {
    "duration": 6,
    "start_time": "2022-03-11T06:44:16.314Z"
   },
   {
    "duration": 25,
    "start_time": "2022-03-11T06:44:16.321Z"
   },
   {
    "duration": 12,
    "start_time": "2022-03-11T06:44:16.348Z"
   },
   {
    "duration": 10,
    "start_time": "2022-03-11T06:44:16.362Z"
   },
   {
    "duration": 9,
    "start_time": "2022-03-11T06:44:16.374Z"
   },
   {
    "duration": 14,
    "start_time": "2022-03-11T06:44:16.385Z"
   },
   {
    "duration": 47,
    "start_time": "2022-03-11T06:44:16.401Z"
   },
   {
    "duration": 54,
    "start_time": "2022-03-11T06:46:31.061Z"
   },
   {
    "duration": 1073,
    "start_time": "2022-03-11T09:27:52.745Z"
   },
   {
    "duration": 40,
    "start_time": "2022-03-11T09:27:53.819Z"
   },
   {
    "duration": 98,
    "start_time": "2022-03-11T09:27:53.861Z"
   },
   {
    "duration": 3,
    "start_time": "2022-03-11T09:27:53.961Z"
   },
   {
    "duration": 7,
    "start_time": "2022-03-11T09:27:53.965Z"
   },
   {
    "duration": 17,
    "start_time": "2022-03-11T09:27:53.974Z"
   },
   {
    "duration": 4,
    "start_time": "2022-03-11T09:27:53.993Z"
   },
   {
    "duration": 15,
    "start_time": "2022-03-11T09:27:53.999Z"
   },
   {
    "duration": 5,
    "start_time": "2022-03-11T09:27:54.016Z"
   },
   {
    "duration": 14,
    "start_time": "2022-03-11T09:27:54.023Z"
   },
   {
    "duration": 28,
    "start_time": "2022-03-11T09:27:54.039Z"
   },
   {
    "duration": 11,
    "start_time": "2022-03-11T09:27:54.069Z"
   },
   {
    "duration": 9,
    "start_time": "2022-03-11T09:27:54.081Z"
   },
   {
    "duration": 8,
    "start_time": "2022-03-11T09:27:54.092Z"
   },
   {
    "duration": 12,
    "start_time": "2022-03-11T09:27:54.101Z"
   },
   {
    "duration": 5,
    "start_time": "2022-03-11T09:27:54.115Z"
   },
   {
    "duration": 38,
    "start_time": "2022-03-11T09:27:54.122Z"
   },
   {
    "duration": 357,
    "start_time": "2022-03-11T09:27:54.162Z"
   },
   {
    "duration": 292,
    "start_time": "2022-03-11T09:27:54.521Z"
   },
   {
    "duration": 294,
    "start_time": "2022-03-11T09:27:54.815Z"
   },
   {
    "duration": 364,
    "start_time": "2022-03-11T09:27:55.111Z"
   },
   {
    "duration": 287,
    "start_time": "2022-03-11T09:27:55.476Z"
   },
   {
    "duration": 387,
    "start_time": "2022-03-11T09:27:55.764Z"
   },
   {
    "duration": 481,
    "start_time": "2022-03-11T09:27:56.153Z"
   },
   {
    "duration": 4,
    "start_time": "2022-03-11T09:27:56.636Z"
   },
   {
    "duration": 401,
    "start_time": "2022-03-11T09:27:56.641Z"
   },
   {
    "duration": 5,
    "start_time": "2022-03-11T09:27:57.046Z"
   },
   {
    "duration": 362,
    "start_time": "2022-03-11T09:27:57.060Z"
   },
   {
    "duration": 5,
    "start_time": "2022-03-11T09:27:57.423Z"
   },
   {
    "duration": 9,
    "start_time": "2022-03-11T09:27:57.429Z"
   },
   {
    "duration": 21,
    "start_time": "2022-03-11T09:27:57.440Z"
   },
   {
    "duration": 117,
    "start_time": "2022-03-11T09:27:57.463Z"
   },
   {
    "duration": 143,
    "start_time": "2022-03-11T09:27:57.581Z"
   },
   {
    "duration": 37,
    "start_time": "2022-03-11T09:27:57.726Z"
   },
   {
    "duration": 117,
    "start_time": "2022-03-11T09:27:57.765Z"
   },
   {
    "duration": 5,
    "start_time": "2022-03-11T09:27:57.884Z"
   },
   {
    "duration": 10,
    "start_time": "2022-03-11T09:27:57.891Z"
   },
   {
    "duration": 12,
    "start_time": "2022-03-11T09:27:57.902Z"
   },
   {
    "duration": 9,
    "start_time": "2022-03-11T09:27:57.916Z"
   },
   {
    "duration": 9,
    "start_time": "2022-03-11T09:27:57.960Z"
   },
   {
    "duration": 10,
    "start_time": "2022-03-11T09:27:57.971Z"
   },
   {
    "duration": 14,
    "start_time": "2022-03-11T09:27:57.983Z"
   },
   {
    "duration": 1112,
    "start_time": "2022-03-11T17:57:54.631Z"
   },
   {
    "duration": 67,
    "start_time": "2022-03-11T17:57:55.746Z"
   },
   {
    "duration": 89,
    "start_time": "2022-03-11T17:57:55.815Z"
   },
   {
    "duration": 2,
    "start_time": "2022-03-11T17:57:55.905Z"
   },
   {
    "duration": 7,
    "start_time": "2022-03-11T17:57:55.908Z"
   },
   {
    "duration": 7,
    "start_time": "2022-03-11T17:57:55.916Z"
   },
   {
    "duration": 7,
    "start_time": "2022-03-11T17:57:55.925Z"
   },
   {
    "duration": 11,
    "start_time": "2022-03-11T17:57:55.935Z"
   },
   {
    "duration": 4,
    "start_time": "2022-03-11T17:57:55.948Z"
   },
   {
    "duration": 13,
    "start_time": "2022-03-11T17:57:55.953Z"
   },
   {
    "duration": 40,
    "start_time": "2022-03-11T17:57:55.967Z"
   },
   {
    "duration": 10,
    "start_time": "2022-03-11T17:57:56.009Z"
   },
   {
    "duration": 9,
    "start_time": "2022-03-11T17:57:56.020Z"
   },
   {
    "duration": 7,
    "start_time": "2022-03-11T17:57:56.031Z"
   },
   {
    "duration": 11,
    "start_time": "2022-03-11T17:57:56.040Z"
   },
   {
    "duration": 8,
    "start_time": "2022-03-11T17:57:56.052Z"
   },
   {
    "duration": 41,
    "start_time": "2022-03-11T17:57:56.061Z"
   },
   {
    "duration": 332,
    "start_time": "2022-03-11T17:57:56.104Z"
   },
   {
    "duration": 257,
    "start_time": "2022-03-11T17:57:56.438Z"
   },
   {
    "duration": 238,
    "start_time": "2022-03-11T17:57:56.697Z"
   },
   {
    "duration": 315,
    "start_time": "2022-03-11T17:57:56.937Z"
   },
   {
    "duration": 246,
    "start_time": "2022-03-11T17:57:57.253Z"
   },
   {
    "duration": 350,
    "start_time": "2022-03-11T17:57:57.502Z"
   },
   {
    "duration": 441,
    "start_time": "2022-03-11T17:57:57.854Z"
   },
   {
    "duration": 6,
    "start_time": "2022-03-11T17:57:58.297Z"
   },
   {
    "duration": 389,
    "start_time": "2022-03-11T17:57:58.304Z"
   },
   {
    "duration": 8,
    "start_time": "2022-03-11T17:57:58.694Z"
   },
   {
    "duration": 366,
    "start_time": "2022-03-11T17:57:58.703Z"
   },
   {
    "duration": 4,
    "start_time": "2022-03-11T17:57:59.071Z"
   },
   {
    "duration": 9,
    "start_time": "2022-03-11T17:57:59.076Z"
   },
   {
    "duration": 16,
    "start_time": "2022-03-11T17:57:59.086Z"
   },
   {
    "duration": 112,
    "start_time": "2022-03-11T17:57:59.103Z"
   },
   {
    "duration": 125,
    "start_time": "2022-03-11T17:57:59.217Z"
   },
   {
    "duration": 30,
    "start_time": "2022-03-11T17:57:59.343Z"
   },
   {
    "duration": 232,
    "start_time": "2022-03-11T17:57:59.374Z"
   },
   {
    "duration": 5,
    "start_time": "2022-03-11T17:57:59.607Z"
   },
   {
    "duration": 10,
    "start_time": "2022-03-11T17:57:59.614Z"
   },
   {
    "duration": 11,
    "start_time": "2022-03-11T17:57:59.625Z"
   },
   {
    "duration": 9,
    "start_time": "2022-03-11T17:57:59.637Z"
   },
   {
    "duration": 6,
    "start_time": "2022-03-11T17:57:59.647Z"
   },
   {
    "duration": 9,
    "start_time": "2022-03-11T17:57:59.655Z"
   },
   {
    "duration": 12,
    "start_time": "2022-03-11T17:57:59.702Z"
   },
   {
    "duration": 239,
    "start_time": "2022-03-11T17:58:25.728Z"
   },
   {
    "duration": 241,
    "start_time": "2022-03-11T17:58:39.212Z"
   },
   {
    "duration": 250,
    "start_time": "2022-03-11T17:58:45.488Z"
   },
   {
    "duration": 242,
    "start_time": "2022-03-11T17:59:19.825Z"
   },
   {
    "duration": 307,
    "start_time": "2022-03-11T17:59:57.841Z"
   },
   {
    "duration": 232,
    "start_time": "2022-03-11T18:00:42.723Z"
   },
   {
    "duration": 379,
    "start_time": "2022-03-11T18:02:26.304Z"
   },
   {
    "duration": 401,
    "start_time": "2022-03-11T18:07:09.959Z"
   },
   {
    "duration": 401,
    "start_time": "2022-03-11T18:07:56.367Z"
   },
   {
    "duration": 403,
    "start_time": "2022-03-11T18:08:13.307Z"
   },
   {
    "duration": 355,
    "start_time": "2022-03-11T18:08:33.595Z"
   },
   {
    "duration": 330,
    "start_time": "2022-03-11T18:09:09.421Z"
   },
   {
    "duration": 30,
    "start_time": "2022-03-11T18:16:26.069Z"
   },
   {
    "duration": 16,
    "start_time": "2022-03-11T18:16:56.848Z"
   },
   {
    "duration": 65,
    "start_time": "2022-03-11T18:17:14.538Z"
   },
   {
    "duration": 10,
    "start_time": "2022-03-11T18:17:23.781Z"
   },
   {
    "duration": 1406,
    "start_time": "2022-03-11T18:20:10.021Z"
   },
   {
    "duration": 66,
    "start_time": "2022-03-11T18:20:11.429Z"
   },
   {
    "duration": 74,
    "start_time": "2022-03-11T18:20:11.497Z"
   },
   {
    "duration": 28,
    "start_time": "2022-03-11T18:20:11.573Z"
   },
   {
    "duration": 5,
    "start_time": "2022-03-11T18:20:11.603Z"
   },
   {
    "duration": 6,
    "start_time": "2022-03-11T18:20:11.609Z"
   },
   {
    "duration": 6,
    "start_time": "2022-03-11T18:20:11.616Z"
   },
   {
    "duration": 13,
    "start_time": "2022-03-11T18:20:11.624Z"
   },
   {
    "duration": 5,
    "start_time": "2022-03-11T18:20:11.639Z"
   },
   {
    "duration": 14,
    "start_time": "2022-03-11T18:20:11.645Z"
   },
   {
    "duration": 10,
    "start_time": "2022-03-11T18:20:11.660Z"
   },
   {
    "duration": 32,
    "start_time": "2022-03-11T18:20:11.672Z"
   },
   {
    "duration": 11,
    "start_time": "2022-03-11T18:20:11.706Z"
   },
   {
    "duration": 13,
    "start_time": "2022-03-11T18:20:11.718Z"
   },
   {
    "duration": 13,
    "start_time": "2022-03-11T18:20:11.732Z"
   },
   {
    "duration": 8,
    "start_time": "2022-03-11T18:20:11.747Z"
   },
   {
    "duration": 12,
    "start_time": "2022-03-11T18:20:11.756Z"
   },
   {
    "duration": 317,
    "start_time": "2022-03-11T18:20:11.769Z"
   },
   {
    "duration": 260,
    "start_time": "2022-03-11T18:20:12.088Z"
   },
   {
    "duration": 246,
    "start_time": "2022-03-11T18:20:12.350Z"
   },
   {
    "duration": 347,
    "start_time": "2022-03-11T18:20:12.601Z"
   },
   {
    "duration": 338,
    "start_time": "2022-03-11T18:20:12.950Z"
   },
   {
    "duration": 380,
    "start_time": "2022-03-11T18:20:13.291Z"
   },
   {
    "duration": 466,
    "start_time": "2022-03-11T18:20:13.673Z"
   },
   {
    "duration": 4,
    "start_time": "2022-03-11T18:20:14.140Z"
   },
   {
    "duration": 413,
    "start_time": "2022-03-11T18:20:14.146Z"
   },
   {
    "duration": 6,
    "start_time": "2022-03-11T18:20:14.561Z"
   },
   {
    "duration": 403,
    "start_time": "2022-03-11T18:20:14.569Z"
   },
   {
    "duration": 4,
    "start_time": "2022-03-11T18:20:14.974Z"
   },
   {
    "duration": 10,
    "start_time": "2022-03-11T18:20:14.980Z"
   },
   {
    "duration": 7,
    "start_time": "2022-03-11T18:20:15.001Z"
   },
   {
    "duration": 109,
    "start_time": "2022-03-11T18:20:15.009Z"
   },
   {
    "duration": 134,
    "start_time": "2022-03-11T18:20:15.119Z"
   },
   {
    "duration": 28,
    "start_time": "2022-03-11T18:20:15.255Z"
   },
   {
    "duration": 95,
    "start_time": "2022-03-11T18:20:15.285Z"
   },
   {
    "duration": 5,
    "start_time": "2022-03-11T18:20:15.382Z"
   },
   {
    "duration": 25,
    "start_time": "2022-03-11T18:20:15.388Z"
   },
   {
    "duration": 12,
    "start_time": "2022-03-11T18:20:15.415Z"
   },
   {
    "duration": 12,
    "start_time": "2022-03-11T18:20:15.428Z"
   },
   {
    "duration": 30,
    "start_time": "2022-03-11T18:20:15.441Z"
   },
   {
    "duration": 17,
    "start_time": "2022-03-11T18:20:15.473Z"
   },
   {
    "duration": 20,
    "start_time": "2022-03-11T18:20:15.492Z"
   },
   {
    "duration": 3,
    "start_time": "2022-03-11T18:23:33.789Z"
   },
   {
    "duration": 10,
    "start_time": "2022-03-11T18:23:35.348Z"
   },
   {
    "duration": 1058,
    "start_time": "2022-03-11T18:23:47.810Z"
   },
   {
    "duration": 78,
    "start_time": "2022-03-11T18:23:48.870Z"
   },
   {
    "duration": 70,
    "start_time": "2022-03-11T18:23:48.950Z"
   },
   {
    "duration": 3,
    "start_time": "2022-03-11T18:23:49.022Z"
   },
   {
    "duration": 4,
    "start_time": "2022-03-11T18:23:49.027Z"
   },
   {
    "duration": 6,
    "start_time": "2022-03-11T18:23:49.033Z"
   },
   {
    "duration": 5,
    "start_time": "2022-03-11T18:23:49.040Z"
   },
   {
    "duration": 11,
    "start_time": "2022-03-11T18:23:49.048Z"
   },
   {
    "duration": 42,
    "start_time": "2022-03-11T18:23:49.061Z"
   },
   {
    "duration": 3,
    "start_time": "2022-03-11T18:23:49.104Z"
   },
   {
    "duration": 12,
    "start_time": "2022-03-11T18:23:49.109Z"
   },
   {
    "duration": 12,
    "start_time": "2022-03-11T18:23:49.122Z"
   },
   {
    "duration": 11,
    "start_time": "2022-03-11T18:23:49.135Z"
   },
   {
    "duration": 14,
    "start_time": "2022-03-11T18:23:49.148Z"
   },
   {
    "duration": 10,
    "start_time": "2022-03-11T18:23:49.164Z"
   },
   {
    "duration": 9,
    "start_time": "2022-03-11T18:23:49.201Z"
   },
   {
    "duration": 3,
    "start_time": "2022-03-11T18:23:49.211Z"
   },
   {
    "duration": 9,
    "start_time": "2022-03-11T18:23:49.216Z"
   },
   {
    "duration": 437,
    "start_time": "2022-03-11T18:23:49.226Z"
   },
   {
    "duration": 251,
    "start_time": "2022-03-11T18:23:49.665Z"
   },
   {
    "duration": 245,
    "start_time": "2022-03-11T18:23:49.918Z"
   },
   {
    "duration": 373,
    "start_time": "2022-03-11T18:23:50.166Z"
   },
   {
    "duration": 370,
    "start_time": "2022-03-11T18:23:50.543Z"
   },
   {
    "duration": 370,
    "start_time": "2022-03-11T18:23:50.916Z"
   },
   {
    "duration": 464,
    "start_time": "2022-03-11T18:23:51.287Z"
   },
   {
    "duration": 4,
    "start_time": "2022-03-11T18:23:51.752Z"
   },
   {
    "duration": 395,
    "start_time": "2022-03-11T18:23:51.758Z"
   },
   {
    "duration": 5,
    "start_time": "2022-03-11T18:23:52.155Z"
   },
   {
    "duration": 471,
    "start_time": "2022-03-11T18:23:52.161Z"
   },
   {
    "duration": 5,
    "start_time": "2022-03-11T18:23:52.633Z"
   },
   {
    "duration": 9,
    "start_time": "2022-03-11T18:23:52.639Z"
   },
   {
    "duration": 58,
    "start_time": "2022-03-11T18:23:52.649Z"
   },
   {
    "duration": 159,
    "start_time": "2022-03-11T18:23:52.709Z"
   },
   {
    "duration": 145,
    "start_time": "2022-03-11T18:23:52.869Z"
   },
   {
    "duration": 26,
    "start_time": "2022-03-11T18:23:53.015Z"
   },
   {
    "duration": 111,
    "start_time": "2022-03-11T18:23:53.043Z"
   },
   {
    "duration": 6,
    "start_time": "2022-03-11T18:23:53.155Z"
   },
   {
    "duration": 10,
    "start_time": "2022-03-11T18:23:53.163Z"
   },
   {
    "duration": 27,
    "start_time": "2022-03-11T18:23:53.175Z"
   },
   {
    "duration": 9,
    "start_time": "2022-03-11T18:23:53.204Z"
   },
   {
    "duration": 7,
    "start_time": "2022-03-11T18:23:53.214Z"
   },
   {
    "duration": 10,
    "start_time": "2022-03-11T18:23:53.222Z"
   },
   {
    "duration": 13,
    "start_time": "2022-03-11T18:23:53.234Z"
   },
   {
    "duration": 3,
    "start_time": "2022-03-11T18:26:18.485Z"
   },
   {
    "duration": 11,
    "start_time": "2022-03-11T18:26:20.010Z"
   },
   {
    "duration": 2,
    "start_time": "2022-03-11T18:29:16.414Z"
   },
   {
    "duration": 8,
    "start_time": "2022-03-11T18:29:19.275Z"
   },
   {
    "duration": 3,
    "start_time": "2022-03-11T18:29:38.648Z"
   },
   {
    "duration": 8,
    "start_time": "2022-03-11T18:29:41.046Z"
   },
   {
    "duration": 3,
    "start_time": "2022-03-11T18:29:50.980Z"
   },
   {
    "duration": 8,
    "start_time": "2022-03-11T18:29:53.526Z"
   },
   {
    "duration": 3,
    "start_time": "2022-03-11T18:30:00.544Z"
   },
   {
    "duration": 9,
    "start_time": "2022-03-11T18:30:01.755Z"
   },
   {
    "duration": 150,
    "start_time": "2022-03-11T18:31:26.626Z"
   },
   {
    "duration": 1171,
    "start_time": "2022-03-11T18:32:30.974Z"
   },
   {
    "duration": 66,
    "start_time": "2022-03-11T18:32:32.147Z"
   },
   {
    "duration": 64,
    "start_time": "2022-03-11T18:32:32.214Z"
   },
   {
    "duration": 2,
    "start_time": "2022-03-11T18:32:32.280Z"
   },
   {
    "duration": 2,
    "start_time": "2022-03-11T18:32:32.301Z"
   },
   {
    "duration": 5,
    "start_time": "2022-03-11T18:32:32.305Z"
   },
   {
    "duration": 5,
    "start_time": "2022-03-11T18:32:32.311Z"
   },
   {
    "duration": 13,
    "start_time": "2022-03-11T18:32:32.318Z"
   },
   {
    "duration": 5,
    "start_time": "2022-03-11T18:32:32.333Z"
   },
   {
    "duration": 7,
    "start_time": "2022-03-11T18:32:32.339Z"
   },
   {
    "duration": 18,
    "start_time": "2022-03-11T18:32:32.347Z"
   },
   {
    "duration": 34,
    "start_time": "2022-03-11T18:32:32.367Z"
   },
   {
    "duration": 7,
    "start_time": "2022-03-11T18:32:32.403Z"
   },
   {
    "duration": 7,
    "start_time": "2022-03-11T18:32:32.412Z"
   },
   {
    "duration": 9,
    "start_time": "2022-03-11T18:32:32.421Z"
   },
   {
    "duration": 12,
    "start_time": "2022-03-11T18:32:32.431Z"
   },
   {
    "duration": 5,
    "start_time": "2022-03-11T18:32:32.445Z"
   },
   {
    "duration": 13,
    "start_time": "2022-03-11T18:32:32.452Z"
   },
   {
    "duration": 342,
    "start_time": "2022-03-11T18:32:32.467Z"
   },
   {
    "duration": 267,
    "start_time": "2022-03-11T18:32:32.810Z"
   },
   {
    "duration": 259,
    "start_time": "2022-03-11T18:32:33.078Z"
   },
   {
    "duration": 332,
    "start_time": "2022-03-11T18:32:33.339Z"
   },
   {
    "duration": 560,
    "start_time": "2022-03-11T18:32:33.674Z"
   },
   {
    "duration": 462,
    "start_time": "2022-03-11T18:32:34.236Z"
   },
   {
    "duration": 451,
    "start_time": "2022-03-11T18:32:34.700Z"
   },
   {
    "duration": 3,
    "start_time": "2022-03-11T18:32:35.153Z"
   },
   {
    "duration": 405,
    "start_time": "2022-03-11T18:32:35.158Z"
   },
   {
    "duration": 5,
    "start_time": "2022-03-11T18:32:35.565Z"
   },
   {
    "duration": 408,
    "start_time": "2022-03-11T18:32:35.572Z"
   },
   {
    "duration": 6,
    "start_time": "2022-03-11T18:32:35.982Z"
   },
   {
    "duration": 19,
    "start_time": "2022-03-11T18:32:35.990Z"
   },
   {
    "duration": 8,
    "start_time": "2022-03-11T18:32:36.011Z"
   },
   {
    "duration": 126,
    "start_time": "2022-03-11T18:32:36.021Z"
   },
   {
    "duration": 136,
    "start_time": "2022-03-11T18:32:36.148Z"
   },
   {
    "duration": 37,
    "start_time": "2022-03-11T18:32:36.286Z"
   },
   {
    "duration": 111,
    "start_time": "2022-03-11T18:32:36.325Z"
   },
   {
    "duration": 6,
    "start_time": "2022-03-11T18:32:36.438Z"
   },
   {
    "duration": 10,
    "start_time": "2022-03-11T18:32:36.445Z"
   },
   {
    "duration": 11,
    "start_time": "2022-03-11T18:32:36.456Z"
   },
   {
    "duration": 9,
    "start_time": "2022-03-11T18:32:36.468Z"
   },
   {
    "duration": 6,
    "start_time": "2022-03-11T18:32:36.502Z"
   },
   {
    "duration": 8,
    "start_time": "2022-03-11T18:32:36.510Z"
   },
   {
    "duration": 12,
    "start_time": "2022-03-11T18:32:36.519Z"
   },
   {
    "duration": 338,
    "start_time": "2022-03-11T18:36:05.392Z"
   },
   {
    "duration": 327,
    "start_time": "2022-03-11T18:36:13.577Z"
   },
   {
    "duration": 324,
    "start_time": "2022-03-11T18:36:21.677Z"
   },
   {
    "duration": 324,
    "start_time": "2022-03-11T18:36:29.198Z"
   },
   {
    "duration": 324,
    "start_time": "2022-03-11T18:36:42.819Z"
   },
   {
    "duration": 1634,
    "start_time": "2022-03-12T06:45:34.240Z"
   },
   {
    "duration": 46,
    "start_time": "2022-03-12T06:45:35.877Z"
   },
   {
    "duration": 152,
    "start_time": "2022-03-12T06:45:35.926Z"
   },
   {
    "duration": 4,
    "start_time": "2022-03-12T06:45:36.081Z"
   },
   {
    "duration": 28,
    "start_time": "2022-03-12T06:45:36.088Z"
   },
   {
    "duration": 18,
    "start_time": "2022-03-12T06:45:36.119Z"
   },
   {
    "duration": 34,
    "start_time": "2022-03-12T06:45:36.140Z"
   },
   {
    "duration": 29,
    "start_time": "2022-03-12T06:45:36.179Z"
   },
   {
    "duration": 29,
    "start_time": "2022-03-12T06:45:36.211Z"
   },
   {
    "duration": 13,
    "start_time": "2022-03-12T06:45:36.243Z"
   },
   {
    "duration": 46,
    "start_time": "2022-03-12T06:45:36.258Z"
   },
   {
    "duration": 19,
    "start_time": "2022-03-12T06:45:36.306Z"
   },
   {
    "duration": 51,
    "start_time": "2022-03-12T06:45:36.327Z"
   },
   {
    "duration": 45,
    "start_time": "2022-03-12T06:45:36.381Z"
   },
   {
    "duration": 27,
    "start_time": "2022-03-12T06:45:36.428Z"
   },
   {
    "duration": 30,
    "start_time": "2022-03-12T06:45:36.457Z"
   },
   {
    "duration": 11,
    "start_time": "2022-03-12T06:45:36.490Z"
   },
   {
    "duration": 40,
    "start_time": "2022-03-12T06:45:36.504Z"
   },
   {
    "duration": 622,
    "start_time": "2022-03-12T06:45:36.547Z"
   },
   {
    "duration": 475,
    "start_time": "2022-03-12T06:45:37.171Z"
   },
   {
    "duration": 466,
    "start_time": "2022-03-12T06:45:37.649Z"
   },
   {
    "duration": 583,
    "start_time": "2022-03-12T06:45:38.119Z"
   },
   {
    "duration": 462,
    "start_time": "2022-03-12T06:45:38.709Z"
   },
   {
    "duration": 596,
    "start_time": "2022-03-12T06:45:39.174Z"
   },
   {
    "duration": 832,
    "start_time": "2022-03-12T06:45:39.774Z"
   },
   {
    "duration": 6,
    "start_time": "2022-03-12T06:45:40.609Z"
   },
   {
    "duration": 640,
    "start_time": "2022-03-12T06:45:40.618Z"
   },
   {
    "duration": 14,
    "start_time": "2022-03-12T06:45:41.261Z"
   },
   {
    "duration": 556,
    "start_time": "2022-03-12T06:45:41.278Z"
   },
   {
    "duration": 8,
    "start_time": "2022-03-12T06:45:41.838Z"
   },
   {
    "duration": 36,
    "start_time": "2022-03-12T06:45:41.849Z"
   },
   {
    "duration": 18,
    "start_time": "2022-03-12T06:45:41.887Z"
   },
   {
    "duration": 272,
    "start_time": "2022-03-12T06:45:41.908Z"
   },
   {
    "duration": 233,
    "start_time": "2022-03-12T06:45:42.183Z"
   },
   {
    "duration": 65,
    "start_time": "2022-03-12T06:45:42.418Z"
   },
   {
    "duration": 218,
    "start_time": "2022-03-12T06:45:42.485Z"
   },
   {
    "duration": 10,
    "start_time": "2022-03-12T06:45:42.706Z"
   },
   {
    "duration": 18,
    "start_time": "2022-03-12T06:45:42.719Z"
   },
   {
    "duration": 48,
    "start_time": "2022-03-12T06:45:42.739Z"
   },
   {
    "duration": 16,
    "start_time": "2022-03-12T06:45:42.789Z"
   },
   {
    "duration": 20,
    "start_time": "2022-03-12T06:45:42.807Z"
   },
   {
    "duration": 50,
    "start_time": "2022-03-12T06:45:42.830Z"
   },
   {
    "duration": 22,
    "start_time": "2022-03-12T06:45:42.882Z"
   },
   {
    "duration": 1476,
    "start_time": "2022-03-12T09:38:50.861Z"
   },
   {
    "duration": 44,
    "start_time": "2022-03-12T09:38:52.340Z"
   },
   {
    "duration": 134,
    "start_time": "2022-03-12T09:38:52.387Z"
   },
   {
    "duration": 4,
    "start_time": "2022-03-12T09:38:52.551Z"
   },
   {
    "duration": 7,
    "start_time": "2022-03-12T09:38:52.557Z"
   },
   {
    "duration": 11,
    "start_time": "2022-03-12T09:38:52.566Z"
   },
   {
    "duration": 9,
    "start_time": "2022-03-12T09:38:52.579Z"
   },
   {
    "duration": 19,
    "start_time": "2022-03-12T09:38:52.592Z"
   },
   {
    "duration": 39,
    "start_time": "2022-03-12T09:38:52.614Z"
   },
   {
    "duration": 8,
    "start_time": "2022-03-12T09:38:52.655Z"
   },
   {
    "duration": 24,
    "start_time": "2022-03-12T09:38:52.666Z"
   },
   {
    "duration": 18,
    "start_time": "2022-03-12T09:38:52.693Z"
   },
   {
    "duration": 47,
    "start_time": "2022-03-12T09:38:52.714Z"
   },
   {
    "duration": 15,
    "start_time": "2022-03-12T09:38:52.764Z"
   },
   {
    "duration": 10,
    "start_time": "2022-03-12T09:38:52.781Z"
   },
   {
    "duration": 14,
    "start_time": "2022-03-12T09:38:52.794Z"
   },
   {
    "duration": 42,
    "start_time": "2022-03-12T09:38:52.810Z"
   },
   {
    "duration": 14,
    "start_time": "2022-03-12T09:38:52.855Z"
   },
   {
    "duration": 608,
    "start_time": "2022-03-12T09:38:52.871Z"
   },
   {
    "duration": 440,
    "start_time": "2022-03-12T09:38:53.481Z"
   },
   {
    "duration": 430,
    "start_time": "2022-03-12T09:38:53.924Z"
   },
   {
    "duration": 523,
    "start_time": "2022-03-12T09:38:54.357Z"
   },
   {
    "duration": 432,
    "start_time": "2022-03-12T09:38:54.887Z"
   },
   {
    "duration": 580,
    "start_time": "2022-03-12T09:38:55.323Z"
   },
   {
    "duration": 722,
    "start_time": "2022-03-12T09:38:55.905Z"
   },
   {
    "duration": 5,
    "start_time": "2022-03-12T09:38:56.630Z"
   },
   {
    "duration": 628,
    "start_time": "2022-03-12T09:38:56.637Z"
   },
   {
    "duration": 8,
    "start_time": "2022-03-12T09:38:57.267Z"
   },
   {
    "duration": 522,
    "start_time": "2022-03-12T09:38:57.277Z"
   },
   {
    "duration": 6,
    "start_time": "2022-03-12T09:38:57.802Z"
   },
   {
    "duration": 19,
    "start_time": "2022-03-12T09:38:57.810Z"
   },
   {
    "duration": 35,
    "start_time": "2022-03-12T09:38:57.831Z"
   },
   {
    "duration": 201,
    "start_time": "2022-03-12T09:38:57.868Z"
   },
   {
    "duration": 249,
    "start_time": "2022-03-12T09:38:58.071Z"
   },
   {
    "duration": 58,
    "start_time": "2022-03-12T09:38:58.322Z"
   },
   {
    "duration": 228,
    "start_time": "2022-03-12T09:38:58.383Z"
   },
   {
    "duration": 7,
    "start_time": "2022-03-12T09:38:58.614Z"
   },
   {
    "duration": 32,
    "start_time": "2022-03-12T09:38:58.624Z"
   },
   {
    "duration": 26,
    "start_time": "2022-03-12T09:38:58.659Z"
   },
   {
    "duration": 16,
    "start_time": "2022-03-12T09:38:58.688Z"
   },
   {
    "duration": 49,
    "start_time": "2022-03-12T09:38:58.707Z"
   },
   {
    "duration": 18,
    "start_time": "2022-03-12T09:38:58.758Z"
   },
   {
    "duration": 27,
    "start_time": "2022-03-12T09:38:58.778Z"
   },
   {
    "duration": 1099,
    "start_time": "2023-12-06T01:38:56.676Z"
   },
   {
    "duration": 128,
    "start_time": "2023-12-06T01:38:57.776Z"
   },
   {
    "duration": 0,
    "start_time": "2023-12-06T01:38:57.906Z"
   },
   {
    "duration": 0,
    "start_time": "2023-12-06T01:38:57.908Z"
   },
   {
    "duration": 0,
    "start_time": "2023-12-06T01:38:57.909Z"
   },
   {
    "duration": 0,
    "start_time": "2023-12-06T01:38:57.910Z"
   },
   {
    "duration": 0,
    "start_time": "2023-12-06T01:38:57.911Z"
   },
   {
    "duration": 0,
    "start_time": "2023-12-06T01:38:57.912Z"
   },
   {
    "duration": 0,
    "start_time": "2023-12-06T01:38:57.914Z"
   },
   {
    "duration": 0,
    "start_time": "2023-12-06T01:38:57.915Z"
   },
   {
    "duration": 0,
    "start_time": "2023-12-06T01:38:57.916Z"
   },
   {
    "duration": 0,
    "start_time": "2023-12-06T01:38:57.917Z"
   },
   {
    "duration": 0,
    "start_time": "2023-12-06T01:38:57.918Z"
   },
   {
    "duration": 0,
    "start_time": "2023-12-06T01:38:57.920Z"
   },
   {
    "duration": 0,
    "start_time": "2023-12-06T01:38:57.921Z"
   },
   {
    "duration": 0,
    "start_time": "2023-12-06T01:38:57.923Z"
   },
   {
    "duration": 0,
    "start_time": "2023-12-06T01:38:57.924Z"
   },
   {
    "duration": 0,
    "start_time": "2023-12-06T01:38:57.925Z"
   },
   {
    "duration": 0,
    "start_time": "2023-12-06T01:38:57.927Z"
   },
   {
    "duration": 0,
    "start_time": "2023-12-06T01:38:57.928Z"
   },
   {
    "duration": 0,
    "start_time": "2023-12-06T01:38:57.929Z"
   },
   {
    "duration": 0,
    "start_time": "2023-12-06T01:38:57.930Z"
   },
   {
    "duration": 0,
    "start_time": "2023-12-06T01:38:57.932Z"
   },
   {
    "duration": 0,
    "start_time": "2023-12-06T01:38:57.933Z"
   },
   {
    "duration": 0,
    "start_time": "2023-12-06T01:38:57.935Z"
   },
   {
    "duration": 0,
    "start_time": "2023-12-06T01:38:57.936Z"
   },
   {
    "duration": 0,
    "start_time": "2023-12-06T01:38:57.937Z"
   },
   {
    "duration": 0,
    "start_time": "2023-12-06T01:38:57.982Z"
   },
   {
    "duration": 0,
    "start_time": "2023-12-06T01:38:57.984Z"
   },
   {
    "duration": 0,
    "start_time": "2023-12-06T01:38:57.985Z"
   },
   {
    "duration": 0,
    "start_time": "2023-12-06T01:38:57.986Z"
   },
   {
    "duration": 0,
    "start_time": "2023-12-06T01:38:57.988Z"
   },
   {
    "duration": 0,
    "start_time": "2023-12-06T01:38:57.989Z"
   },
   {
    "duration": 0,
    "start_time": "2023-12-06T01:38:57.991Z"
   },
   {
    "duration": 0,
    "start_time": "2023-12-06T01:38:57.992Z"
   },
   {
    "duration": 0,
    "start_time": "2023-12-06T01:38:57.993Z"
   },
   {
    "duration": 1087,
    "start_time": "2023-12-06T01:47:57.942Z"
   },
   {
    "duration": 137,
    "start_time": "2023-12-06T01:47:59.031Z"
   },
   {
    "duration": 0,
    "start_time": "2023-12-06T01:47:59.170Z"
   },
   {
    "duration": 0,
    "start_time": "2023-12-06T01:47:59.172Z"
   },
   {
    "duration": 0,
    "start_time": "2023-12-06T01:47:59.173Z"
   },
   {
    "duration": 0,
    "start_time": "2023-12-06T01:47:59.174Z"
   },
   {
    "duration": 0,
    "start_time": "2023-12-06T01:47:59.174Z"
   },
   {
    "duration": 0,
    "start_time": "2023-12-06T01:47:59.182Z"
   },
   {
    "duration": 0,
    "start_time": "2023-12-06T01:47:59.182Z"
   },
   {
    "duration": 0,
    "start_time": "2023-12-06T01:47:59.183Z"
   },
   {
    "duration": 0,
    "start_time": "2023-12-06T01:47:59.184Z"
   },
   {
    "duration": 0,
    "start_time": "2023-12-06T01:47:59.185Z"
   },
   {
    "duration": 0,
    "start_time": "2023-12-06T01:47:59.186Z"
   },
   {
    "duration": 0,
    "start_time": "2023-12-06T01:47:59.187Z"
   },
   {
    "duration": 0,
    "start_time": "2023-12-06T01:47:59.188Z"
   },
   {
    "duration": 0,
    "start_time": "2023-12-06T01:47:59.189Z"
   },
   {
    "duration": 0,
    "start_time": "2023-12-06T01:47:59.189Z"
   },
   {
    "duration": 0,
    "start_time": "2023-12-06T01:47:59.190Z"
   },
   {
    "duration": 0,
    "start_time": "2023-12-06T01:47:59.191Z"
   },
   {
    "duration": 0,
    "start_time": "2023-12-06T01:47:59.192Z"
   },
   {
    "duration": 0,
    "start_time": "2023-12-06T01:47:59.193Z"
   },
   {
    "duration": 0,
    "start_time": "2023-12-06T01:47:59.193Z"
   },
   {
    "duration": 0,
    "start_time": "2023-12-06T01:47:59.194Z"
   },
   {
    "duration": 0,
    "start_time": "2023-12-06T01:47:59.195Z"
   },
   {
    "duration": 0,
    "start_time": "2023-12-06T01:47:59.196Z"
   },
   {
    "duration": 0,
    "start_time": "2023-12-06T01:47:59.197Z"
   },
   {
    "duration": 0,
    "start_time": "2023-12-06T01:47:59.197Z"
   },
   {
    "duration": 0,
    "start_time": "2023-12-06T01:47:59.199Z"
   },
   {
    "duration": 0,
    "start_time": "2023-12-06T01:47:59.199Z"
   },
   {
    "duration": 0,
    "start_time": "2023-12-06T01:47:59.200Z"
   },
   {
    "duration": 0,
    "start_time": "2023-12-06T01:47:59.201Z"
   },
   {
    "duration": 0,
    "start_time": "2023-12-06T01:47:59.202Z"
   },
   {
    "duration": 0,
    "start_time": "2023-12-06T01:47:59.203Z"
   },
   {
    "duration": 0,
    "start_time": "2023-12-06T01:47:59.204Z"
   },
   {
    "duration": 0,
    "start_time": "2023-12-06T01:47:59.205Z"
   },
   {
    "duration": 0,
    "start_time": "2023-12-06T01:47:59.206Z"
   },
   {
    "duration": 65,
    "start_time": "2023-12-06T06:59:20.098Z"
   },
   {
    "duration": 1119,
    "start_time": "2023-12-06T06:59:22.527Z"
   },
   {
    "duration": 155,
    "start_time": "2023-12-06T06:59:23.647Z"
   },
   {
    "duration": 0,
    "start_time": "2023-12-06T06:59:23.804Z"
   },
   {
    "duration": 0,
    "start_time": "2023-12-06T06:59:23.805Z"
   },
   {
    "duration": 0,
    "start_time": "2023-12-06T06:59:23.806Z"
   },
   {
    "duration": 0,
    "start_time": "2023-12-06T06:59:23.807Z"
   },
   {
    "duration": 0,
    "start_time": "2023-12-06T06:59:23.808Z"
   },
   {
    "duration": 0,
    "start_time": "2023-12-06T06:59:23.809Z"
   },
   {
    "duration": 0,
    "start_time": "2023-12-06T06:59:23.809Z"
   },
   {
    "duration": 0,
    "start_time": "2023-12-06T06:59:23.810Z"
   },
   {
    "duration": 0,
    "start_time": "2023-12-06T06:59:23.811Z"
   },
   {
    "duration": 0,
    "start_time": "2023-12-06T06:59:23.812Z"
   },
   {
    "duration": 0,
    "start_time": "2023-12-06T06:59:23.813Z"
   },
   {
    "duration": 0,
    "start_time": "2023-12-06T06:59:23.814Z"
   },
   {
    "duration": 0,
    "start_time": "2023-12-06T06:59:23.814Z"
   },
   {
    "duration": 0,
    "start_time": "2023-12-06T06:59:23.815Z"
   },
   {
    "duration": 0,
    "start_time": "2023-12-06T06:59:23.816Z"
   },
   {
    "duration": 0,
    "start_time": "2023-12-06T06:59:23.817Z"
   },
   {
    "duration": 0,
    "start_time": "2023-12-06T06:59:23.818Z"
   },
   {
    "duration": 0,
    "start_time": "2023-12-06T06:59:23.819Z"
   },
   {
    "duration": 0,
    "start_time": "2023-12-06T06:59:23.819Z"
   },
   {
    "duration": 0,
    "start_time": "2023-12-06T06:59:23.820Z"
   },
   {
    "duration": 0,
    "start_time": "2023-12-06T06:59:23.821Z"
   },
   {
    "duration": 0,
    "start_time": "2023-12-06T06:59:23.822Z"
   },
   {
    "duration": 0,
    "start_time": "2023-12-06T06:59:23.823Z"
   },
   {
    "duration": 0,
    "start_time": "2023-12-06T06:59:23.823Z"
   },
   {
    "duration": 0,
    "start_time": "2023-12-06T06:59:23.824Z"
   },
   {
    "duration": 0,
    "start_time": "2023-12-06T06:59:23.825Z"
   },
   {
    "duration": 0,
    "start_time": "2023-12-06T06:59:23.826Z"
   },
   {
    "duration": 0,
    "start_time": "2023-12-06T06:59:23.826Z"
   },
   {
    "duration": 0,
    "start_time": "2023-12-06T06:59:23.827Z"
   },
   {
    "duration": 0,
    "start_time": "2023-12-06T06:59:23.828Z"
   },
   {
    "duration": 0,
    "start_time": "2023-12-06T06:59:23.870Z"
   },
   {
    "duration": 0,
    "start_time": "2023-12-06T06:59:23.871Z"
   },
   {
    "duration": 0,
    "start_time": "2023-12-06T06:59:23.872Z"
   },
   {
    "duration": 0,
    "start_time": "2023-12-06T06:59:23.873Z"
   },
   {
    "duration": 0,
    "start_time": "2023-12-06T06:59:23.874Z"
   },
   {
    "duration": 2,
    "start_time": "2023-12-06T06:59:40.453Z"
   },
   {
    "duration": 49,
    "start_time": "2023-12-06T06:59:41.208Z"
   },
   {
    "duration": 70,
    "start_time": "2023-12-06T06:59:55.745Z"
   },
   {
    "duration": 1070,
    "start_time": "2023-12-06T08:18:20.420Z"
   },
   {
    "duration": 70,
    "start_time": "2023-12-06T08:18:21.492Z"
   },
   {
    "duration": 0,
    "start_time": "2023-12-06T08:18:21.564Z"
   },
   {
    "duration": 0,
    "start_time": "2023-12-06T08:18:21.565Z"
   },
   {
    "duration": 0,
    "start_time": "2023-12-06T08:18:21.566Z"
   },
   {
    "duration": 0,
    "start_time": "2023-12-06T08:18:21.567Z"
   },
   {
    "duration": 0,
    "start_time": "2023-12-06T08:18:21.568Z"
   },
   {
    "duration": 0,
    "start_time": "2023-12-06T08:18:21.569Z"
   },
   {
    "duration": 0,
    "start_time": "2023-12-06T08:18:21.570Z"
   },
   {
    "duration": 0,
    "start_time": "2023-12-06T08:18:21.571Z"
   },
   {
    "duration": 0,
    "start_time": "2023-12-06T08:18:21.572Z"
   },
   {
    "duration": 0,
    "start_time": "2023-12-06T08:18:21.573Z"
   },
   {
    "duration": 0,
    "start_time": "2023-12-06T08:18:21.573Z"
   },
   {
    "duration": 0,
    "start_time": "2023-12-06T08:18:21.575Z"
   },
   {
    "duration": 1,
    "start_time": "2023-12-06T08:18:21.575Z"
   },
   {
    "duration": 0,
    "start_time": "2023-12-06T08:18:21.576Z"
   },
   {
    "duration": 0,
    "start_time": "2023-12-06T08:18:21.577Z"
   },
   {
    "duration": 1,
    "start_time": "2023-12-06T08:18:21.578Z"
   },
   {
    "duration": 0,
    "start_time": "2023-12-06T08:18:21.579Z"
   },
   {
    "duration": 0,
    "start_time": "2023-12-06T08:18:21.581Z"
   },
   {
    "duration": 0,
    "start_time": "2023-12-06T08:18:21.582Z"
   },
   {
    "duration": 1,
    "start_time": "2023-12-06T08:18:21.582Z"
   },
   {
    "duration": 0,
    "start_time": "2023-12-06T08:18:21.583Z"
   },
   {
    "duration": 0,
    "start_time": "2023-12-06T08:18:21.585Z"
   },
   {
    "duration": 0,
    "start_time": "2023-12-06T08:18:21.586Z"
   },
   {
    "duration": 0,
    "start_time": "2023-12-06T08:18:21.586Z"
   },
   {
    "duration": 0,
    "start_time": "2023-12-06T08:18:21.588Z"
   },
   {
    "duration": 0,
    "start_time": "2023-12-06T08:18:21.589Z"
   },
   {
    "duration": 0,
    "start_time": "2023-12-06T08:18:21.590Z"
   },
   {
    "duration": 0,
    "start_time": "2023-12-06T08:18:21.591Z"
   },
   {
    "duration": 0,
    "start_time": "2023-12-06T08:18:21.592Z"
   },
   {
    "duration": 1,
    "start_time": "2023-12-06T08:18:21.592Z"
   },
   {
    "duration": 0,
    "start_time": "2023-12-06T08:18:21.594Z"
   },
   {
    "duration": 0,
    "start_time": "2023-12-06T08:18:21.595Z"
   },
   {
    "duration": 0,
    "start_time": "2023-12-06T08:18:21.597Z"
   },
   {
    "duration": 0,
    "start_time": "2023-12-06T08:18:21.598Z"
   },
   {
    "duration": 0,
    "start_time": "2023-12-06T08:18:21.599Z"
   },
   {
    "duration": 1114,
    "start_time": "2023-12-06T08:19:32.251Z"
   },
   {
    "duration": 77,
    "start_time": "2023-12-06T08:19:33.367Z"
   },
   {
    "duration": 0,
    "start_time": "2023-12-06T08:19:33.447Z"
   },
   {
    "duration": 0,
    "start_time": "2023-12-06T08:19:33.449Z"
   },
   {
    "duration": 0,
    "start_time": "2023-12-06T08:19:33.450Z"
   },
   {
    "duration": 0,
    "start_time": "2023-12-06T08:19:33.452Z"
   },
   {
    "duration": 0,
    "start_time": "2023-12-06T08:19:33.453Z"
   },
   {
    "duration": 0,
    "start_time": "2023-12-06T08:19:33.455Z"
   },
   {
    "duration": 0,
    "start_time": "2023-12-06T08:19:33.456Z"
   },
   {
    "duration": 0,
    "start_time": "2023-12-06T08:19:33.457Z"
   },
   {
    "duration": 0,
    "start_time": "2023-12-06T08:19:33.458Z"
   },
   {
    "duration": 0,
    "start_time": "2023-12-06T08:19:33.460Z"
   },
   {
    "duration": 0,
    "start_time": "2023-12-06T08:19:33.462Z"
   },
   {
    "duration": 0,
    "start_time": "2023-12-06T08:19:33.463Z"
   },
   {
    "duration": 0,
    "start_time": "2023-12-06T08:19:33.465Z"
   },
   {
    "duration": 0,
    "start_time": "2023-12-06T08:19:33.466Z"
   },
   {
    "duration": 0,
    "start_time": "2023-12-06T08:19:33.468Z"
   },
   {
    "duration": 0,
    "start_time": "2023-12-06T08:19:33.469Z"
   },
   {
    "duration": 0,
    "start_time": "2023-12-06T08:19:33.470Z"
   },
   {
    "duration": 0,
    "start_time": "2023-12-06T08:19:33.471Z"
   },
   {
    "duration": 0,
    "start_time": "2023-12-06T08:19:33.473Z"
   },
   {
    "duration": 0,
    "start_time": "2023-12-06T08:19:33.474Z"
   },
   {
    "duration": 0,
    "start_time": "2023-12-06T08:19:33.476Z"
   },
   {
    "duration": 0,
    "start_time": "2023-12-06T08:19:33.477Z"
   },
   {
    "duration": 0,
    "start_time": "2023-12-06T08:19:33.478Z"
   },
   {
    "duration": 0,
    "start_time": "2023-12-06T08:19:33.479Z"
   },
   {
    "duration": 0,
    "start_time": "2023-12-06T08:19:33.480Z"
   },
   {
    "duration": 0,
    "start_time": "2023-12-06T08:19:33.480Z"
   },
   {
    "duration": 0,
    "start_time": "2023-12-06T08:19:33.486Z"
   },
   {
    "duration": 0,
    "start_time": "2023-12-06T08:19:33.487Z"
   },
   {
    "duration": 0,
    "start_time": "2023-12-06T08:19:33.489Z"
   },
   {
    "duration": 0,
    "start_time": "2023-12-06T08:19:33.490Z"
   },
   {
    "duration": 0,
    "start_time": "2023-12-06T08:19:33.491Z"
   },
   {
    "duration": 0,
    "start_time": "2023-12-06T08:19:33.492Z"
   },
   {
    "duration": 0,
    "start_time": "2023-12-06T08:19:33.493Z"
   },
   {
    "duration": 0,
    "start_time": "2023-12-06T08:19:33.494Z"
   },
   {
    "duration": 0,
    "start_time": "2023-12-06T08:19:33.495Z"
   },
   {
    "duration": 3,
    "start_time": "2023-12-06T10:30:33.593Z"
   },
   {
    "duration": 200,
    "start_time": "2023-12-06T10:30:33.599Z"
   },
   {
    "duration": 8,
    "start_time": "2023-12-06T10:30:33.801Z"
   },
   {
    "duration": 11,
    "start_time": "2023-12-06T10:30:33.811Z"
   },
   {
    "duration": 16,
    "start_time": "2023-12-06T10:30:33.823Z"
   },
   {
    "duration": 15,
    "start_time": "2023-12-06T10:30:33.841Z"
   },
   {
    "duration": 16,
    "start_time": "2023-12-06T10:30:33.858Z"
   },
   {
    "duration": 16,
    "start_time": "2023-12-06T10:30:33.876Z"
   },
   {
    "duration": 14,
    "start_time": "2023-12-06T10:30:33.894Z"
   },
   {
    "duration": 13,
    "start_time": "2023-12-06T10:30:33.909Z"
   },
   {
    "duration": 36,
    "start_time": "2023-12-06T10:30:33.925Z"
   },
   {
    "duration": 36,
    "start_time": "2023-12-06T10:30:33.962Z"
   },
   {
    "duration": 9,
    "start_time": "2023-12-06T10:30:34.000Z"
   },
   {
    "duration": 0,
    "start_time": "2023-12-06T10:30:34.011Z"
   },
   {
    "duration": 0,
    "start_time": "2023-12-06T10:30:34.013Z"
   },
   {
    "duration": 0,
    "start_time": "2023-12-06T10:30:34.014Z"
   },
   {
    "duration": 0,
    "start_time": "2023-12-06T10:30:34.015Z"
   },
   {
    "duration": 0,
    "start_time": "2023-12-06T10:30:34.017Z"
   },
   {
    "duration": 0,
    "start_time": "2023-12-06T10:30:34.018Z"
   },
   {
    "duration": 0,
    "start_time": "2023-12-06T10:30:34.019Z"
   },
   {
    "duration": 0,
    "start_time": "2023-12-06T10:30:34.021Z"
   },
   {
    "duration": 0,
    "start_time": "2023-12-06T10:30:34.022Z"
   },
   {
    "duration": 0,
    "start_time": "2023-12-06T10:30:34.023Z"
   },
   {
    "duration": 0,
    "start_time": "2023-12-06T10:30:34.024Z"
   },
   {
    "duration": 0,
    "start_time": "2023-12-06T10:30:34.026Z"
   },
   {
    "duration": 0,
    "start_time": "2023-12-06T10:30:34.027Z"
   },
   {
    "duration": 0,
    "start_time": "2023-12-06T10:30:34.028Z"
   },
   {
    "duration": 0,
    "start_time": "2023-12-06T10:30:34.029Z"
   },
   {
    "duration": 0,
    "start_time": "2023-12-06T10:30:34.031Z"
   },
   {
    "duration": 0,
    "start_time": "2023-12-06T10:30:34.032Z"
   },
   {
    "duration": 0,
    "start_time": "2023-12-06T10:30:34.033Z"
   },
   {
    "duration": 0,
    "start_time": "2023-12-06T10:30:34.035Z"
   },
   {
    "duration": 0,
    "start_time": "2023-12-06T10:30:34.036Z"
   },
   {
    "duration": 0,
    "start_time": "2023-12-06T10:30:34.037Z"
   },
   {
    "duration": 0,
    "start_time": "2023-12-06T10:30:34.039Z"
   },
   {
    "duration": 0,
    "start_time": "2023-12-06T10:30:34.040Z"
   },
   {
    "duration": 3,
    "start_time": "2023-12-06T10:31:22.896Z"
   },
   {
    "duration": 225,
    "start_time": "2023-12-06T10:31:22.900Z"
   },
   {
    "duration": 9,
    "start_time": "2023-12-06T10:31:23.128Z"
   },
   {
    "duration": 27,
    "start_time": "2023-12-06T10:31:23.139Z"
   },
   {
    "duration": 10,
    "start_time": "2023-12-06T10:31:23.168Z"
   },
   {
    "duration": 36,
    "start_time": "2023-12-06T10:31:23.180Z"
   },
   {
    "duration": 71,
    "start_time": "2023-12-06T10:31:23.217Z"
   },
   {
    "duration": 40,
    "start_time": "2023-12-06T10:31:23.290Z"
   },
   {
    "duration": 9,
    "start_time": "2023-12-06T10:31:23.331Z"
   },
   {
    "duration": 3,
    "start_time": "2023-12-06T10:31:23.341Z"
   },
   {
    "duration": 36,
    "start_time": "2023-12-06T10:31:23.347Z"
   },
   {
    "duration": 20,
    "start_time": "2023-12-06T10:31:23.385Z"
   },
   {
    "duration": 36,
    "start_time": "2023-12-06T10:31:23.406Z"
   },
   {
    "duration": 0,
    "start_time": "2023-12-06T10:31:23.443Z"
   },
   {
    "duration": 0,
    "start_time": "2023-12-06T10:31:23.444Z"
   },
   {
    "duration": 0,
    "start_time": "2023-12-06T10:31:23.445Z"
   },
   {
    "duration": 0,
    "start_time": "2023-12-06T10:31:23.446Z"
   },
   {
    "duration": 0,
    "start_time": "2023-12-06T10:31:23.447Z"
   },
   {
    "duration": 0,
    "start_time": "2023-12-06T10:31:23.448Z"
   },
   {
    "duration": 0,
    "start_time": "2023-12-06T10:31:23.449Z"
   },
   {
    "duration": 0,
    "start_time": "2023-12-06T10:31:23.450Z"
   },
   {
    "duration": 0,
    "start_time": "2023-12-06T10:31:23.451Z"
   },
   {
    "duration": 0,
    "start_time": "2023-12-06T10:31:23.452Z"
   },
   {
    "duration": 0,
    "start_time": "2023-12-06T10:31:23.453Z"
   },
   {
    "duration": 0,
    "start_time": "2023-12-06T10:31:23.454Z"
   },
   {
    "duration": 0,
    "start_time": "2023-12-06T10:31:23.454Z"
   },
   {
    "duration": 0,
    "start_time": "2023-12-06T10:31:23.455Z"
   },
   {
    "duration": 0,
    "start_time": "2023-12-06T10:31:23.456Z"
   },
   {
    "duration": 0,
    "start_time": "2023-12-06T10:31:23.457Z"
   },
   {
    "duration": 0,
    "start_time": "2023-12-06T10:31:23.458Z"
   },
   {
    "duration": 0,
    "start_time": "2023-12-06T10:31:23.459Z"
   },
   {
    "duration": 0,
    "start_time": "2023-12-06T10:31:23.460Z"
   },
   {
    "duration": 0,
    "start_time": "2023-12-06T10:31:23.461Z"
   },
   {
    "duration": 0,
    "start_time": "2023-12-06T10:31:23.462Z"
   },
   {
    "duration": 0,
    "start_time": "2023-12-06T10:31:23.463Z"
   },
   {
    "duration": 1,
    "start_time": "2023-12-06T10:31:23.464Z"
   },
   {
    "duration": 179,
    "start_time": "2023-12-06T10:32:18.213Z"
   },
   {
    "duration": 4,
    "start_time": "2023-12-06T10:32:20.767Z"
   },
   {
    "duration": 175,
    "start_time": "2023-12-06T10:32:20.772Z"
   },
   {
    "duration": 7,
    "start_time": "2023-12-06T10:32:20.949Z"
   },
   {
    "duration": 11,
    "start_time": "2023-12-06T10:32:20.958Z"
   },
   {
    "duration": 11,
    "start_time": "2023-12-06T10:32:20.971Z"
   },
   {
    "duration": 21,
    "start_time": "2023-12-06T10:32:20.983Z"
   },
   {
    "duration": 29,
    "start_time": "2023-12-06T10:32:21.005Z"
   },
   {
    "duration": 12,
    "start_time": "2023-12-06T10:32:21.036Z"
   },
   {
    "duration": 20,
    "start_time": "2023-12-06T10:32:21.049Z"
   },
   {
    "duration": 8,
    "start_time": "2023-12-06T10:32:21.072Z"
   },
   {
    "duration": 16,
    "start_time": "2023-12-06T10:32:21.081Z"
   },
   {
    "duration": 37,
    "start_time": "2023-12-06T10:32:21.098Z"
   },
   {
    "duration": 7,
    "start_time": "2023-12-06T10:32:21.136Z"
   },
   {
    "duration": 9,
    "start_time": "2023-12-06T10:32:21.144Z"
   },
   {
    "duration": 5,
    "start_time": "2023-12-06T10:32:21.154Z"
   },
   {
    "duration": 17,
    "start_time": "2023-12-06T10:32:21.161Z"
   },
   {
    "duration": 24,
    "start_time": "2023-12-06T10:32:21.179Z"
   },
   {
    "duration": 9,
    "start_time": "2023-12-06T10:32:21.205Z"
   },
   {
    "duration": 7,
    "start_time": "2023-12-06T10:32:21.216Z"
   },
   {
    "duration": 11,
    "start_time": "2023-12-06T10:32:21.224Z"
   },
   {
    "duration": 511,
    "start_time": "2023-12-06T10:32:21.237Z"
   },
   {
    "duration": 176,
    "start_time": "2023-12-06T10:32:21.750Z"
   },
   {
    "duration": 259,
    "start_time": "2023-12-06T10:32:21.927Z"
   },
   {
    "duration": 179,
    "start_time": "2023-12-06T10:32:22.187Z"
   },
   {
    "duration": 292,
    "start_time": "2023-12-06T10:32:22.367Z"
   },
   {
    "duration": 121,
    "start_time": "2023-12-06T10:32:22.661Z"
   },
   {
    "duration": 107,
    "start_time": "2023-12-06T10:32:22.783Z"
   },
   {
    "duration": 6,
    "start_time": "2023-12-06T10:32:22.893Z"
   },
   {
    "duration": 196,
    "start_time": "2023-12-06T10:32:22.900Z"
   },
   {
    "duration": 154,
    "start_time": "2023-12-06T10:32:23.098Z"
   },
   {
    "duration": 5,
    "start_time": "2023-12-06T10:32:23.253Z"
   },
   {
    "duration": 209,
    "start_time": "2023-12-06T10:32:23.259Z"
   },
   {
    "duration": 178,
    "start_time": "2023-12-06T10:32:23.469Z"
   },
   {
    "duration": 10,
    "start_time": "2023-12-06T10:32:23.648Z"
   },
   {
    "duration": 38,
    "start_time": "2023-12-06T10:32:23.659Z"
   },
   {
    "duration": 13,
    "start_time": "2023-12-06T10:32:23.698Z"
   },
   {
    "duration": 3,
    "start_time": "2023-12-06T10:33:05.806Z"
   },
   {
    "duration": 197,
    "start_time": "2023-12-06T10:33:05.810Z"
   },
   {
    "duration": 9,
    "start_time": "2023-12-06T10:33:06.009Z"
   },
   {
    "duration": 25,
    "start_time": "2023-12-06T10:33:06.020Z"
   },
   {
    "duration": 11,
    "start_time": "2023-12-06T10:33:06.047Z"
   },
   {
    "duration": 35,
    "start_time": "2023-12-06T10:33:06.059Z"
   },
   {
    "duration": 21,
    "start_time": "2023-12-06T10:33:06.095Z"
   },
   {
    "duration": 17,
    "start_time": "2023-12-06T10:33:06.117Z"
   },
   {
    "duration": 24,
    "start_time": "2023-12-06T10:33:06.136Z"
   },
   {
    "duration": 23,
    "start_time": "2023-12-06T10:33:06.161Z"
   },
   {
    "duration": 22,
    "start_time": "2023-12-06T10:33:06.186Z"
   },
   {
    "duration": 18,
    "start_time": "2023-12-06T10:33:06.210Z"
   },
   {
    "duration": 9,
    "start_time": "2023-12-06T10:33:06.230Z"
   },
   {
    "duration": 9,
    "start_time": "2023-12-06T10:33:06.242Z"
   },
   {
    "duration": 40,
    "start_time": "2023-12-06T10:33:06.252Z"
   },
   {
    "duration": 6,
    "start_time": "2023-12-06T10:33:06.294Z"
   },
   {
    "duration": 13,
    "start_time": "2023-12-06T10:33:06.301Z"
   },
   {
    "duration": 7,
    "start_time": "2023-12-06T10:33:06.315Z"
   },
   {
    "duration": 34,
    "start_time": "2023-12-06T10:33:06.324Z"
   },
   {
    "duration": 11,
    "start_time": "2023-12-06T10:33:06.360Z"
   },
   {
    "duration": 427,
    "start_time": "2023-12-06T10:33:06.372Z"
   },
   {
    "duration": 169,
    "start_time": "2023-12-06T10:33:06.801Z"
   },
   {
    "duration": 277,
    "start_time": "2023-12-06T10:33:06.971Z"
   },
   {
    "duration": 165,
    "start_time": "2023-12-06T10:33:07.249Z"
   },
   {
    "duration": 246,
    "start_time": "2023-12-06T10:33:07.416Z"
   },
   {
    "duration": 110,
    "start_time": "2023-12-06T10:33:07.663Z"
   },
   {
    "duration": 111,
    "start_time": "2023-12-06T10:33:07.781Z"
   },
   {
    "duration": 6,
    "start_time": "2023-12-06T10:33:07.893Z"
   },
   {
    "duration": 126,
    "start_time": "2023-12-06T10:33:07.901Z"
   },
   {
    "duration": 117,
    "start_time": "2023-12-06T10:33:08.028Z"
   },
   {
    "duration": 6,
    "start_time": "2023-12-06T10:33:08.147Z"
   },
   {
    "duration": 220,
    "start_time": "2023-12-06T10:33:08.155Z"
   },
   {
    "duration": 158,
    "start_time": "2023-12-06T10:33:08.376Z"
   },
   {
    "duration": 10,
    "start_time": "2023-12-06T10:33:08.535Z"
   },
   {
    "duration": 46,
    "start_time": "2023-12-06T10:33:08.546Z"
   },
   {
    "duration": 12,
    "start_time": "2023-12-06T10:33:08.594Z"
   },
   {
    "duration": 1310,
    "start_time": "2023-12-07T02:40:34.084Z"
   },
   {
    "duration": 308,
    "start_time": "2023-12-07T02:40:35.397Z"
   },
   {
    "duration": 13,
    "start_time": "2023-12-07T02:40:35.707Z"
   },
   {
    "duration": 4,
    "start_time": "2023-12-07T02:40:35.722Z"
   },
   {
    "duration": 28,
    "start_time": "2023-12-07T02:40:35.728Z"
   },
   {
    "duration": 13,
    "start_time": "2023-12-07T02:40:35.759Z"
   },
   {
    "duration": 22,
    "start_time": "2023-12-07T02:40:35.774Z"
   },
   {
    "duration": 17,
    "start_time": "2023-12-07T02:40:35.798Z"
   },
   {
    "duration": 27,
    "start_time": "2023-12-07T02:40:35.817Z"
   },
   {
    "duration": 30,
    "start_time": "2023-12-07T02:40:35.846Z"
   },
   {
    "duration": 13,
    "start_time": "2023-12-07T02:40:35.878Z"
   },
   {
    "duration": 17,
    "start_time": "2023-12-07T02:40:35.893Z"
   },
   {
    "duration": 15,
    "start_time": "2023-12-07T02:40:35.912Z"
   },
   {
    "duration": 22,
    "start_time": "2023-12-07T02:40:35.931Z"
   },
   {
    "duration": 10,
    "start_time": "2023-12-07T02:40:35.955Z"
   },
   {
    "duration": 17,
    "start_time": "2023-12-07T02:40:35.966Z"
   },
   {
    "duration": 38,
    "start_time": "2023-12-07T02:40:35.984Z"
   },
   {
    "duration": 21,
    "start_time": "2023-12-07T02:40:36.024Z"
   },
   {
    "duration": 24,
    "start_time": "2023-12-07T02:40:36.047Z"
   },
   {
    "duration": 18,
    "start_time": "2023-12-07T02:40:36.072Z"
   },
   {
    "duration": 523,
    "start_time": "2023-12-07T02:40:36.092Z"
   },
   {
    "duration": 175,
    "start_time": "2023-12-07T02:40:36.617Z"
   },
   {
    "duration": 339,
    "start_time": "2023-12-07T02:40:36.793Z"
   },
   {
    "duration": 185,
    "start_time": "2023-12-07T02:40:37.133Z"
   },
   {
    "duration": 311,
    "start_time": "2023-12-07T02:40:37.320Z"
   },
   {
    "duration": 144,
    "start_time": "2023-12-07T02:40:37.633Z"
   },
   {
    "duration": 110,
    "start_time": "2023-12-07T02:40:37.778Z"
   },
   {
    "duration": 6,
    "start_time": "2023-12-07T02:40:37.889Z"
   },
   {
    "duration": 217,
    "start_time": "2023-12-07T02:40:37.897Z"
   },
   {
    "duration": 135,
    "start_time": "2023-12-07T02:40:38.116Z"
   },
   {
    "duration": 5,
    "start_time": "2023-12-07T02:40:38.253Z"
   },
   {
    "duration": 238,
    "start_time": "2023-12-07T02:40:38.259Z"
   },
   {
    "duration": 177,
    "start_time": "2023-12-07T02:40:38.498Z"
   },
   {
    "duration": 11,
    "start_time": "2023-12-07T02:40:38.677Z"
   },
   {
    "duration": 53,
    "start_time": "2023-12-07T02:40:38.690Z"
   },
   {
    "duration": 14,
    "start_time": "2023-12-07T02:40:38.745Z"
   },
   {
    "duration": 1136,
    "start_time": "2023-12-07T03:17:26.451Z"
   },
   {
    "duration": 189,
    "start_time": "2023-12-07T03:17:27.589Z"
   },
   {
    "duration": 12,
    "start_time": "2023-12-07T03:17:27.780Z"
   },
   {
    "duration": 23,
    "start_time": "2023-12-07T03:17:27.794Z"
   },
   {
    "duration": 11,
    "start_time": "2023-12-07T03:17:27.818Z"
   },
   {
    "duration": 10,
    "start_time": "2023-12-07T03:17:27.831Z"
   },
   {
    "duration": 21,
    "start_time": "2023-12-07T03:17:27.842Z"
   },
   {
    "duration": 18,
    "start_time": "2023-12-07T03:17:27.865Z"
   },
   {
    "duration": 21,
    "start_time": "2023-12-07T03:17:27.885Z"
   },
   {
    "duration": 13,
    "start_time": "2023-12-07T03:17:27.908Z"
   },
   {
    "duration": 26,
    "start_time": "2023-12-07T03:17:27.922Z"
   },
   {
    "duration": 12,
    "start_time": "2023-12-07T03:17:27.950Z"
   },
   {
    "duration": 7,
    "start_time": "2023-12-07T03:17:27.963Z"
   },
   {
    "duration": 11,
    "start_time": "2023-12-07T03:17:27.971Z"
   },
   {
    "duration": 5,
    "start_time": "2023-12-07T03:17:27.984Z"
   },
   {
    "duration": 7,
    "start_time": "2023-12-07T03:17:27.990Z"
   },
   {
    "duration": 10,
    "start_time": "2023-12-07T03:17:27.999Z"
   },
   {
    "duration": 38,
    "start_time": "2023-12-07T03:17:28.010Z"
   },
   {
    "duration": 7,
    "start_time": "2023-12-07T03:17:28.050Z"
   },
   {
    "duration": 8,
    "start_time": "2023-12-07T03:17:28.059Z"
   },
   {
    "duration": 568,
    "start_time": "2023-12-07T03:17:28.068Z"
   },
   {
    "duration": 192,
    "start_time": "2023-12-07T03:17:28.641Z"
   },
   {
    "duration": 292,
    "start_time": "2023-12-07T03:17:28.835Z"
   },
   {
    "duration": 187,
    "start_time": "2023-12-07T03:17:29.129Z"
   },
   {
    "duration": 300,
    "start_time": "2023-12-07T03:17:29.317Z"
   },
   {
    "duration": 124,
    "start_time": "2023-12-07T03:17:29.618Z"
   },
   {
    "duration": 124,
    "start_time": "2023-12-07T03:17:29.744Z"
   },
   {
    "duration": 7,
    "start_time": "2023-12-07T03:17:29.871Z"
   },
   {
    "duration": 225,
    "start_time": "2023-12-07T03:17:29.880Z"
   },
   {
    "duration": 141,
    "start_time": "2023-12-07T03:17:30.107Z"
   },
   {
    "duration": 5,
    "start_time": "2023-12-07T03:17:30.250Z"
   },
   {
    "duration": 242,
    "start_time": "2023-12-07T03:17:30.257Z"
   },
   {
    "duration": 166,
    "start_time": "2023-12-07T03:17:30.501Z"
   },
   {
    "duration": 10,
    "start_time": "2023-12-07T03:17:30.669Z"
   },
   {
    "duration": 48,
    "start_time": "2023-12-07T03:17:30.680Z"
   },
   {
    "duration": 22,
    "start_time": "2023-12-07T03:17:30.730Z"
   },
   {
    "duration": 1358,
    "start_time": "2023-12-07T07:51:00.830Z"
   },
   {
    "duration": 311,
    "start_time": "2023-12-07T07:51:02.191Z"
   },
   {
    "duration": 12,
    "start_time": "2023-12-07T07:51:02.504Z"
   },
   {
    "duration": 7,
    "start_time": "2023-12-07T07:51:02.518Z"
   },
   {
    "duration": 32,
    "start_time": "2023-12-07T07:51:02.527Z"
   },
   {
    "duration": 46,
    "start_time": "2023-12-07T07:51:02.560Z"
   },
   {
    "duration": 34,
    "start_time": "2023-12-07T07:51:02.607Z"
   },
   {
    "duration": 19,
    "start_time": "2023-12-07T07:51:02.642Z"
   },
   {
    "duration": 20,
    "start_time": "2023-12-07T07:51:02.663Z"
   },
   {
    "duration": 11,
    "start_time": "2023-12-07T07:51:02.685Z"
   },
   {
    "duration": 21,
    "start_time": "2023-12-07T07:51:02.698Z"
   },
   {
    "duration": 63,
    "start_time": "2023-12-07T07:51:02.720Z"
   },
   {
    "duration": 39,
    "start_time": "2023-12-07T07:51:02.785Z"
   },
   {
    "duration": 22,
    "start_time": "2023-12-07T07:51:02.825Z"
   },
   {
    "duration": 54,
    "start_time": "2023-12-07T07:51:02.849Z"
   },
   {
    "duration": 35,
    "start_time": "2023-12-07T07:51:02.905Z"
   },
   {
    "duration": 16,
    "start_time": "2023-12-07T07:51:02.941Z"
   },
   {
    "duration": 33,
    "start_time": "2023-12-07T07:51:02.959Z"
   },
   {
    "duration": 30,
    "start_time": "2023-12-07T07:51:02.993Z"
   },
   {
    "duration": 116,
    "start_time": "2023-12-07T07:51:03.024Z"
   },
   {
    "duration": 36,
    "start_time": "2023-12-07T07:51:03.142Z"
   },
   {
    "duration": 544,
    "start_time": "2023-12-07T07:51:03.179Z"
   },
   {
    "duration": 185,
    "start_time": "2023-12-07T07:51:03.724Z"
   },
   {
    "duration": 358,
    "start_time": "2023-12-07T07:51:03.910Z"
   },
   {
    "duration": 171,
    "start_time": "2023-12-07T07:51:04.270Z"
   },
   {
    "duration": 284,
    "start_time": "2023-12-07T07:51:04.442Z"
   },
   {
    "duration": 125,
    "start_time": "2023-12-07T07:51:04.728Z"
   },
   {
    "duration": 113,
    "start_time": "2023-12-07T07:51:04.857Z"
   },
   {
    "duration": 7,
    "start_time": "2023-12-07T07:51:04.972Z"
   },
   {
    "duration": 239,
    "start_time": "2023-12-07T07:51:04.980Z"
   },
   {
    "duration": 114,
    "start_time": "2023-12-07T07:51:05.221Z"
   },
   {
    "duration": 4,
    "start_time": "2023-12-07T07:51:05.337Z"
   },
   {
    "duration": 260,
    "start_time": "2023-12-07T07:51:05.342Z"
   },
   {
    "duration": 159,
    "start_time": "2023-12-07T07:51:05.604Z"
   },
   {
    "duration": 10,
    "start_time": "2023-12-07T07:51:05.764Z"
   },
   {
    "duration": 39,
    "start_time": "2023-12-07T07:51:05.776Z"
   },
   {
    "duration": 27,
    "start_time": "2023-12-07T07:51:05.817Z"
   },
   {
    "duration": 7,
    "start_time": "2023-12-07T07:51:15.371Z"
   },
   {
    "duration": 4,
    "start_time": "2023-12-07T07:51:55.447Z"
   },
   {
    "duration": 4,
    "start_time": "2023-12-07T07:52:04.327Z"
   },
   {
    "duration": 11,
    "start_time": "2023-12-07T07:55:16.505Z"
   },
   {
    "duration": 11,
    "start_time": "2023-12-07T07:55:25.287Z"
   },
   {
    "duration": 96,
    "start_time": "2023-12-07T07:58:53.271Z"
   },
   {
    "duration": 103,
    "start_time": "2023-12-07T07:59:01.149Z"
   },
   {
    "duration": 1311,
    "start_time": "2023-12-07T07:59:06.453Z"
   },
   {
    "duration": 292,
    "start_time": "2023-12-07T07:59:16.140Z"
   },
   {
    "duration": 319,
    "start_time": "2023-12-07T07:59:31.736Z"
   },
   {
    "duration": 7,
    "start_time": "2023-12-07T08:00:35.696Z"
   },
   {
    "duration": 6,
    "start_time": "2023-12-07T08:00:44.659Z"
   },
   {
    "duration": 6,
    "start_time": "2023-12-07T08:01:00.742Z"
   },
   {
    "duration": 6,
    "start_time": "2023-12-07T08:01:07.173Z"
   },
   {
    "duration": 8,
    "start_time": "2023-12-07T08:01:31.208Z"
   },
   {
    "duration": 5,
    "start_time": "2023-12-07T08:01:34.382Z"
   },
   {
    "duration": 8,
    "start_time": "2023-12-07T08:01:35.249Z"
   },
   {
    "duration": 8,
    "start_time": "2023-12-07T08:01:54.090Z"
   },
   {
    "duration": 5,
    "start_time": "2023-12-07T08:01:59.498Z"
   },
   {
    "duration": 6,
    "start_time": "2023-12-07T08:02:10.204Z"
   },
   {
    "duration": 5,
    "start_time": "2023-12-07T08:02:10.746Z"
   },
   {
    "duration": 4,
    "start_time": "2023-12-07T08:02:11.199Z"
   },
   {
    "duration": 10,
    "start_time": "2023-12-07T08:02:24.103Z"
   },
   {
    "duration": 6,
    "start_time": "2023-12-07T08:02:44.288Z"
   },
   {
    "duration": 14,
    "start_time": "2023-12-07T08:02:49.943Z"
   },
   {
    "duration": 12,
    "start_time": "2023-12-07T08:02:52.959Z"
   },
   {
    "duration": 4,
    "start_time": "2023-12-07T08:02:53.074Z"
   },
   {
    "duration": 6,
    "start_time": "2023-12-07T08:02:57.504Z"
   },
   {
    "duration": 953,
    "start_time": "2023-12-07T08:04:14.826Z"
   },
   {
    "duration": 3,
    "start_time": "2023-12-07T08:04:47.600Z"
   },
   {
    "duration": 686,
    "start_time": "2023-12-07T08:04:54.660Z"
   },
   {
    "duration": 5,
    "start_time": "2023-12-07T08:05:13.429Z"
   },
   {
    "duration": 7,
    "start_time": "2023-12-07T08:05:32.836Z"
   },
   {
    "duration": 7,
    "start_time": "2023-12-07T08:05:37.157Z"
   },
   {
    "duration": 3,
    "start_time": "2023-12-07T08:05:39.744Z"
   },
   {
    "duration": 183,
    "start_time": "2023-12-07T08:05:39.749Z"
   },
   {
    "duration": 10,
    "start_time": "2023-12-07T08:05:39.934Z"
   },
   {
    "duration": 6,
    "start_time": "2023-12-07T08:05:39.947Z"
   },
   {
    "duration": 21,
    "start_time": "2023-12-07T08:05:39.955Z"
   },
   {
    "duration": 17,
    "start_time": "2023-12-07T08:05:39.978Z"
   },
   {
    "duration": 37,
    "start_time": "2023-12-07T08:05:39.997Z"
   },
   {
    "duration": 30,
    "start_time": "2023-12-07T08:05:40.036Z"
   },
   {
    "duration": 20,
    "start_time": "2023-12-07T08:05:40.068Z"
   },
   {
    "duration": 10,
    "start_time": "2023-12-07T08:05:40.092Z"
   },
   {
    "duration": 13,
    "start_time": "2023-12-07T08:05:40.103Z"
   },
   {
    "duration": 29,
    "start_time": "2023-12-07T08:05:40.117Z"
   },
   {
    "duration": 20,
    "start_time": "2023-12-07T08:05:40.148Z"
   },
   {
    "duration": 15,
    "start_time": "2023-12-07T08:05:40.169Z"
   },
   {
    "duration": 9,
    "start_time": "2023-12-07T08:05:40.186Z"
   },
   {
    "duration": 13,
    "start_time": "2023-12-07T08:05:40.197Z"
   },
   {
    "duration": 14,
    "start_time": "2023-12-07T08:05:40.211Z"
   },
   {
    "duration": 15,
    "start_time": "2023-12-07T08:05:40.226Z"
   },
   {
    "duration": 10,
    "start_time": "2023-12-07T08:05:40.243Z"
   },
   {
    "duration": 16,
    "start_time": "2023-12-07T08:05:40.255Z"
   },
   {
    "duration": 15,
    "start_time": "2023-12-07T08:05:40.273Z"
   },
   {
    "duration": 10,
    "start_time": "2023-12-07T08:05:40.290Z"
   },
   {
    "duration": 18,
    "start_time": "2023-12-07T08:05:40.302Z"
   },
   {
    "duration": 16,
    "start_time": "2023-12-07T08:05:40.321Z"
   },
   {
    "duration": 468,
    "start_time": "2023-12-07T08:05:40.338Z"
   },
   {
    "duration": 190,
    "start_time": "2023-12-07T08:05:40.808Z"
   },
   {
    "duration": 278,
    "start_time": "2023-12-07T08:05:41.000Z"
   },
   {
    "duration": 202,
    "start_time": "2023-12-07T08:05:41.281Z"
   },
   {
    "duration": 285,
    "start_time": "2023-12-07T08:05:41.484Z"
   },
   {
    "duration": 126,
    "start_time": "2023-12-07T08:05:41.771Z"
   },
   {
    "duration": 119,
    "start_time": "2023-12-07T08:05:41.898Z"
   },
   {
    "duration": 7,
    "start_time": "2023-12-07T08:05:42.019Z"
   },
   {
    "duration": 140,
    "start_time": "2023-12-07T08:05:42.027Z"
   },
   {
    "duration": 141,
    "start_time": "2023-12-07T08:05:42.169Z"
   },
   {
    "duration": 6,
    "start_time": "2023-12-07T08:05:42.311Z"
   },
   {
    "duration": 311,
    "start_time": "2023-12-07T08:05:42.319Z"
   },
   {
    "duration": 165,
    "start_time": "2023-12-07T08:05:42.632Z"
   },
   {
    "duration": 11,
    "start_time": "2023-12-07T08:05:42.799Z"
   },
   {
    "duration": 45,
    "start_time": "2023-12-07T08:05:42.812Z"
   },
   {
    "duration": 13,
    "start_time": "2023-12-07T08:05:42.859Z"
   },
   {
    "duration": 613,
    "start_time": "2023-12-07T08:06:41.900Z"
   },
   {
    "duration": 5,
    "start_time": "2023-12-07T08:07:22.082Z"
   },
   {
    "duration": 8,
    "start_time": "2023-12-07T08:07:26.453Z"
   },
   {
    "duration": 8,
    "start_time": "2023-12-07T08:07:53.455Z"
   },
   {
    "duration": 5,
    "start_time": "2023-12-07T08:08:14.373Z"
   },
   {
    "duration": 20,
    "start_time": "2023-12-07T08:08:18.059Z"
   },
   {
    "duration": 6,
    "start_time": "2023-12-07T08:08:25.926Z"
   },
   {
    "duration": 12,
    "start_time": "2023-12-07T08:08:36.952Z"
   },
   {
    "duration": 6,
    "start_time": "2023-12-07T08:09:13.300Z"
   },
   {
    "duration": 4,
    "start_time": "2023-12-07T08:10:33.561Z"
   },
   {
    "duration": 6,
    "start_time": "2023-12-07T08:10:38.534Z"
   },
   {
    "duration": 6,
    "start_time": "2023-12-07T08:11:14.297Z"
   },
   {
    "duration": 99,
    "start_time": "2023-12-07T08:11:24.499Z"
   },
   {
    "duration": 8,
    "start_time": "2023-12-07T08:11:36.798Z"
   },
   {
    "duration": 7,
    "start_time": "2023-12-07T08:11:45.604Z"
   },
   {
    "duration": 7,
    "start_time": "2023-12-07T08:12:10.315Z"
   },
   {
    "duration": 3,
    "start_time": "2023-12-07T08:12:13.144Z"
   },
   {
    "duration": 402,
    "start_time": "2023-12-07T08:12:13.149Z"
   },
   {
    "duration": 7,
    "start_time": "2023-12-07T08:12:13.552Z"
   },
   {
    "duration": 11,
    "start_time": "2023-12-07T08:12:13.561Z"
   },
   {
    "duration": 15,
    "start_time": "2023-12-07T08:12:13.575Z"
   },
   {
    "duration": 28,
    "start_time": "2023-12-07T08:12:13.592Z"
   },
   {
    "duration": 18,
    "start_time": "2023-12-07T08:12:13.621Z"
   },
   {
    "duration": 5,
    "start_time": "2023-12-07T08:12:13.641Z"
   },
   {
    "duration": 6,
    "start_time": "2023-12-07T08:12:13.647Z"
   },
   {
    "duration": 13,
    "start_time": "2023-12-07T08:12:13.654Z"
   },
   {
    "duration": 12,
    "start_time": "2023-12-07T08:12:13.669Z"
   },
   {
    "duration": 11,
    "start_time": "2023-12-07T08:12:13.683Z"
   },
   {
    "duration": 9,
    "start_time": "2023-12-07T08:12:13.696Z"
   },
   {
    "duration": 12,
    "start_time": "2023-12-07T08:12:13.706Z"
   },
   {
    "duration": 5,
    "start_time": "2023-12-07T08:12:13.720Z"
   },
   {
    "duration": 16,
    "start_time": "2023-12-07T08:12:13.726Z"
   },
   {
    "duration": 10,
    "start_time": "2023-12-07T08:12:13.743Z"
   },
   {
    "duration": 9,
    "start_time": "2023-12-07T08:12:13.755Z"
   },
   {
    "duration": 5,
    "start_time": "2023-12-07T08:12:13.765Z"
   },
   {
    "duration": 9,
    "start_time": "2023-12-07T08:12:13.771Z"
   },
   {
    "duration": 13,
    "start_time": "2023-12-07T08:12:13.782Z"
   },
   {
    "duration": 76,
    "start_time": "2023-12-07T08:12:13.796Z"
   },
   {
    "duration": 0,
    "start_time": "2023-12-07T08:12:13.873Z"
   },
   {
    "duration": 0,
    "start_time": "2023-12-07T08:12:13.874Z"
   },
   {
    "duration": 0,
    "start_time": "2023-12-07T08:12:13.875Z"
   },
   {
    "duration": 0,
    "start_time": "2023-12-07T08:12:13.876Z"
   },
   {
    "duration": 0,
    "start_time": "2023-12-07T08:12:13.877Z"
   },
   {
    "duration": 0,
    "start_time": "2023-12-07T08:12:13.878Z"
   },
   {
    "duration": 0,
    "start_time": "2023-12-07T08:12:13.879Z"
   },
   {
    "duration": 0,
    "start_time": "2023-12-07T08:12:13.880Z"
   },
   {
    "duration": 0,
    "start_time": "2023-12-07T08:12:13.881Z"
   },
   {
    "duration": 0,
    "start_time": "2023-12-07T08:12:13.882Z"
   },
   {
    "duration": 0,
    "start_time": "2023-12-07T08:12:13.883Z"
   },
   {
    "duration": 0,
    "start_time": "2023-12-07T08:12:13.884Z"
   },
   {
    "duration": 0,
    "start_time": "2023-12-07T08:12:13.885Z"
   },
   {
    "duration": 0,
    "start_time": "2023-12-07T08:12:13.886Z"
   },
   {
    "duration": 0,
    "start_time": "2023-12-07T08:12:13.887Z"
   },
   {
    "duration": 0,
    "start_time": "2023-12-07T08:12:13.888Z"
   },
   {
    "duration": 0,
    "start_time": "2023-12-07T08:12:13.889Z"
   },
   {
    "duration": 0,
    "start_time": "2023-12-07T08:12:13.890Z"
   },
   {
    "duration": 0,
    "start_time": "2023-12-07T08:12:13.891Z"
   },
   {
    "duration": 5,
    "start_time": "2023-12-07T08:12:48.774Z"
   },
   {
    "duration": 9,
    "start_time": "2023-12-07T08:12:52.200Z"
   },
   {
    "duration": 6,
    "start_time": "2023-12-07T08:13:26.367Z"
   },
   {
    "duration": 5,
    "start_time": "2023-12-07T08:13:43.467Z"
   },
   {
    "duration": 9,
    "start_time": "2023-12-07T08:13:43.893Z"
   },
   {
    "duration": 3,
    "start_time": "2023-12-07T08:13:48.003Z"
   },
   {
    "duration": 2,
    "start_time": "2023-12-07T08:13:58.570Z"
   },
   {
    "duration": 182,
    "start_time": "2023-12-07T08:13:58.574Z"
   },
   {
    "duration": 8,
    "start_time": "2023-12-07T08:13:58.757Z"
   },
   {
    "duration": 5,
    "start_time": "2023-12-07T08:13:58.767Z"
   },
   {
    "duration": 23,
    "start_time": "2023-12-07T08:13:58.775Z"
   },
   {
    "duration": 10,
    "start_time": "2023-12-07T08:13:58.800Z"
   },
   {
    "duration": 10,
    "start_time": "2023-12-07T08:13:58.812Z"
   },
   {
    "duration": 9,
    "start_time": "2023-12-07T08:13:58.824Z"
   },
   {
    "duration": 7,
    "start_time": "2023-12-07T08:13:58.835Z"
   },
   {
    "duration": 4,
    "start_time": "2023-12-07T08:13:58.852Z"
   },
   {
    "duration": 17,
    "start_time": "2023-12-07T08:13:58.859Z"
   },
   {
    "duration": 20,
    "start_time": "2023-12-07T08:13:58.878Z"
   },
   {
    "duration": 10,
    "start_time": "2023-12-07T08:13:58.900Z"
   },
   {
    "duration": 16,
    "start_time": "2023-12-07T08:13:58.911Z"
   },
   {
    "duration": 17,
    "start_time": "2023-12-07T08:13:58.929Z"
   },
   {
    "duration": 29,
    "start_time": "2023-12-07T08:13:58.948Z"
   },
   {
    "duration": 25,
    "start_time": "2023-12-07T08:13:58.979Z"
   },
   {
    "duration": 11,
    "start_time": "2023-12-07T08:13:59.005Z"
   },
   {
    "duration": 12,
    "start_time": "2023-12-07T08:13:59.018Z"
   },
   {
    "duration": 12,
    "start_time": "2023-12-07T08:13:59.031Z"
   },
   {
    "duration": 5,
    "start_time": "2023-12-07T08:13:59.044Z"
   },
   {
    "duration": 18,
    "start_time": "2023-12-07T08:13:59.051Z"
   },
   {
    "duration": 75,
    "start_time": "2023-12-07T08:13:59.071Z"
   },
   {
    "duration": 0,
    "start_time": "2023-12-07T08:13:59.149Z"
   },
   {
    "duration": 0,
    "start_time": "2023-12-07T08:13:59.150Z"
   },
   {
    "duration": 0,
    "start_time": "2023-12-07T08:13:59.151Z"
   },
   {
    "duration": 0,
    "start_time": "2023-12-07T08:13:59.153Z"
   },
   {
    "duration": 0,
    "start_time": "2023-12-07T08:13:59.154Z"
   },
   {
    "duration": 0,
    "start_time": "2023-12-07T08:13:59.155Z"
   },
   {
    "duration": 0,
    "start_time": "2023-12-07T08:13:59.156Z"
   },
   {
    "duration": 0,
    "start_time": "2023-12-07T08:13:59.158Z"
   },
   {
    "duration": 0,
    "start_time": "2023-12-07T08:13:59.159Z"
   },
   {
    "duration": 0,
    "start_time": "2023-12-07T08:13:59.160Z"
   },
   {
    "duration": 0,
    "start_time": "2023-12-07T08:13:59.162Z"
   },
   {
    "duration": 0,
    "start_time": "2023-12-07T08:13:59.163Z"
   },
   {
    "duration": 0,
    "start_time": "2023-12-07T08:13:59.164Z"
   },
   {
    "duration": 0,
    "start_time": "2023-12-07T08:13:59.165Z"
   },
   {
    "duration": 0,
    "start_time": "2023-12-07T08:13:59.167Z"
   },
   {
    "duration": 0,
    "start_time": "2023-12-07T08:13:59.169Z"
   },
   {
    "duration": 0,
    "start_time": "2023-12-07T08:13:59.170Z"
   },
   {
    "duration": 0,
    "start_time": "2023-12-07T08:13:59.171Z"
   },
   {
    "duration": 0,
    "start_time": "2023-12-07T08:13:59.173Z"
   },
   {
    "duration": 8,
    "start_time": "2023-12-07T08:14:18.488Z"
   },
   {
    "duration": 82,
    "start_time": "2023-12-07T08:17:00.510Z"
   },
   {
    "duration": 3,
    "start_time": "2023-12-07T08:17:38.953Z"
   },
   {
    "duration": 325,
    "start_time": "2023-12-07T08:17:38.958Z"
   },
   {
    "duration": 7,
    "start_time": "2023-12-07T08:17:39.284Z"
   },
   {
    "duration": 117,
    "start_time": "2023-12-07T08:17:39.293Z"
   },
   {
    "duration": 33,
    "start_time": "2023-12-07T08:17:39.411Z"
   },
   {
    "duration": 10,
    "start_time": "2023-12-07T08:17:39.445Z"
   },
   {
    "duration": 12,
    "start_time": "2023-12-07T08:17:39.457Z"
   },
   {
    "duration": 6,
    "start_time": "2023-12-07T08:17:39.471Z"
   },
   {
    "duration": 24,
    "start_time": "2023-12-07T08:17:39.479Z"
   },
   {
    "duration": 23,
    "start_time": "2023-12-07T08:17:39.504Z"
   },
   {
    "duration": 16,
    "start_time": "2023-12-07T08:17:39.528Z"
   },
   {
    "duration": 15,
    "start_time": "2023-12-07T08:17:39.545Z"
   },
   {
    "duration": 134,
    "start_time": "2023-12-07T08:17:39.561Z"
   },
   {
    "duration": 19,
    "start_time": "2023-12-07T08:17:39.696Z"
   },
   {
    "duration": 10,
    "start_time": "2023-12-07T08:17:39.717Z"
   },
   {
    "duration": 8,
    "start_time": "2023-12-07T08:17:39.729Z"
   },
   {
    "duration": 19,
    "start_time": "2023-12-07T08:17:39.738Z"
   },
   {
    "duration": 6,
    "start_time": "2023-12-07T08:17:39.759Z"
   },
   {
    "duration": 20,
    "start_time": "2023-12-07T08:17:39.766Z"
   },
   {
    "duration": 13,
    "start_time": "2023-12-07T08:17:39.788Z"
   },
   {
    "duration": 10,
    "start_time": "2023-12-07T08:17:39.803Z"
   },
   {
    "duration": 14,
    "start_time": "2023-12-07T08:17:39.814Z"
   },
   {
    "duration": 17,
    "start_time": "2023-12-07T08:17:39.830Z"
   },
   {
    "duration": 25,
    "start_time": "2023-12-07T08:17:39.851Z"
   },
   {
    "duration": 19,
    "start_time": "2023-12-07T08:17:39.877Z"
   },
   {
    "duration": 18,
    "start_time": "2023-12-07T08:17:39.898Z"
   },
   {
    "duration": 453,
    "start_time": "2023-12-07T08:17:39.918Z"
   },
   {
    "duration": 175,
    "start_time": "2023-12-07T08:17:40.372Z"
   },
   {
    "duration": 287,
    "start_time": "2023-12-07T08:17:40.551Z"
   },
   {
    "duration": 176,
    "start_time": "2023-12-07T08:17:40.839Z"
   },
   {
    "duration": 309,
    "start_time": "2023-12-07T08:17:41.017Z"
   },
   {
    "duration": 129,
    "start_time": "2023-12-07T08:17:41.328Z"
   },
   {
    "duration": 112,
    "start_time": "2023-12-07T08:17:41.459Z"
   },
   {
    "duration": 7,
    "start_time": "2023-12-07T08:17:41.573Z"
   },
   {
    "duration": 140,
    "start_time": "2023-12-07T08:17:41.582Z"
   },
   {
    "duration": 130,
    "start_time": "2023-12-07T08:17:41.724Z"
   },
   {
    "duration": 5,
    "start_time": "2023-12-07T08:17:41.856Z"
   },
   {
    "duration": 217,
    "start_time": "2023-12-07T08:17:41.863Z"
   },
   {
    "duration": 165,
    "start_time": "2023-12-07T08:17:42.083Z"
   },
   {
    "duration": 9,
    "start_time": "2023-12-07T08:17:42.253Z"
   },
   {
    "duration": 33,
    "start_time": "2023-12-07T08:17:42.264Z"
   },
   {
    "duration": 13,
    "start_time": "2023-12-07T08:17:42.299Z"
   },
   {
    "duration": 2,
    "start_time": "2023-12-07T08:19:27.591Z"
   },
   {
    "duration": 195,
    "start_time": "2023-12-07T08:19:27.595Z"
   },
   {
    "duration": 7,
    "start_time": "2023-12-07T08:19:27.792Z"
   },
   {
    "duration": 11,
    "start_time": "2023-12-07T08:19:27.800Z"
   },
   {
    "duration": 18,
    "start_time": "2023-12-07T08:19:27.813Z"
   },
   {
    "duration": 13,
    "start_time": "2023-12-07T08:19:27.832Z"
   },
   {
    "duration": 18,
    "start_time": "2023-12-07T08:19:27.846Z"
   },
   {
    "duration": 22,
    "start_time": "2023-12-07T08:19:27.865Z"
   },
   {
    "duration": 5,
    "start_time": "2023-12-07T08:19:27.888Z"
   },
   {
    "duration": 9,
    "start_time": "2023-12-07T08:19:27.894Z"
   },
   {
    "duration": 16,
    "start_time": "2023-12-07T08:19:27.904Z"
   },
   {
    "duration": 25,
    "start_time": "2023-12-07T08:19:27.922Z"
   },
   {
    "duration": 17,
    "start_time": "2023-12-07T08:19:27.948Z"
   },
   {
    "duration": 11,
    "start_time": "2023-12-07T08:19:27.969Z"
   },
   {
    "duration": 20,
    "start_time": "2023-12-07T08:19:27.982Z"
   },
   {
    "duration": 11,
    "start_time": "2023-12-07T08:19:28.003Z"
   },
   {
    "duration": 11,
    "start_time": "2023-12-07T08:19:28.015Z"
   },
   {
    "duration": 16,
    "start_time": "2023-12-07T08:19:28.028Z"
   },
   {
    "duration": 12,
    "start_time": "2023-12-07T08:19:28.045Z"
   },
   {
    "duration": 10,
    "start_time": "2023-12-07T08:19:28.058Z"
   },
   {
    "duration": 7,
    "start_time": "2023-12-07T08:19:28.069Z"
   },
   {
    "duration": 11,
    "start_time": "2023-12-07T08:19:28.077Z"
   },
   {
    "duration": 18,
    "start_time": "2023-12-07T08:19:28.090Z"
   },
   {
    "duration": 8,
    "start_time": "2023-12-07T08:19:28.109Z"
   },
   {
    "duration": 13,
    "start_time": "2023-12-07T08:19:28.119Z"
   },
   {
    "duration": 19,
    "start_time": "2023-12-07T08:19:28.133Z"
   },
   {
    "duration": 428,
    "start_time": "2023-12-07T08:19:28.153Z"
   },
   {
    "duration": 195,
    "start_time": "2023-12-07T08:19:28.583Z"
   },
   {
    "duration": 283,
    "start_time": "2023-12-07T08:19:28.780Z"
   },
   {
    "duration": 298,
    "start_time": "2023-12-07T08:19:29.065Z"
   },
   {
    "duration": 260,
    "start_time": "2023-12-07T08:19:29.365Z"
   },
   {
    "duration": 131,
    "start_time": "2023-12-07T08:19:29.626Z"
   },
   {
    "duration": 114,
    "start_time": "2023-12-07T08:19:29.759Z"
   },
   {
    "duration": 7,
    "start_time": "2023-12-07T08:19:29.874Z"
   },
   {
    "duration": 158,
    "start_time": "2023-12-07T08:19:29.883Z"
   },
   {
    "duration": 143,
    "start_time": "2023-12-07T08:19:30.043Z"
   },
   {
    "duration": 4,
    "start_time": "2023-12-07T08:19:30.187Z"
   },
   {
    "duration": 241,
    "start_time": "2023-12-07T08:19:30.193Z"
   },
   {
    "duration": 157,
    "start_time": "2023-12-07T08:19:30.435Z"
   },
   {
    "duration": 10,
    "start_time": "2023-12-07T08:19:30.594Z"
   },
   {
    "duration": 53,
    "start_time": "2023-12-07T08:19:30.607Z"
   },
   {
    "duration": 54,
    "start_time": "2023-12-07T08:19:30.662Z"
   },
   {
    "duration": 441,
    "start_time": "2023-12-07T08:29:41.993Z"
   },
   {
    "duration": 97,
    "start_time": "2023-12-07T08:30:40.397Z"
   },
   {
    "duration": 185,
    "start_time": "2023-12-07T08:33:03.313Z"
   },
   {
    "duration": 209,
    "start_time": "2023-12-07T08:33:13.354Z"
   },
   {
    "duration": 324,
    "start_time": "2023-12-07T08:33:59.244Z"
   },
   {
    "duration": 191,
    "start_time": "2023-12-07T08:35:28.803Z"
   },
   {
    "duration": 329,
    "start_time": "2023-12-07T08:37:20.945Z"
   },
   {
    "duration": 299,
    "start_time": "2023-12-07T08:37:31.944Z"
   },
   {
    "duration": 318,
    "start_time": "2023-12-07T08:37:43.818Z"
   },
   {
    "duration": 43,
    "start_time": "2023-12-07T10:37:37.202Z"
   },
   {
    "duration": 34,
    "start_time": "2023-12-07T10:38:11.448Z"
   },
   {
    "duration": 33,
    "start_time": "2023-12-07T10:38:24.372Z"
   },
   {
    "duration": 15,
    "start_time": "2023-12-07T10:38:32.427Z"
   },
   {
    "duration": 4,
    "start_time": "2023-12-07T10:40:00.209Z"
   },
   {
    "duration": 273,
    "start_time": "2023-12-07T10:40:00.215Z"
   },
   {
    "duration": 9,
    "start_time": "2023-12-07T10:40:00.490Z"
   },
   {
    "duration": 45,
    "start_time": "2023-12-07T10:40:00.501Z"
   },
   {
    "duration": 35,
    "start_time": "2023-12-07T10:40:00.549Z"
   },
   {
    "duration": 34,
    "start_time": "2023-12-07T10:40:00.586Z"
   },
   {
    "duration": 75,
    "start_time": "2023-12-07T10:40:00.622Z"
   },
   {
    "duration": 49,
    "start_time": "2023-12-07T10:40:00.700Z"
   },
   {
    "duration": 64,
    "start_time": "2023-12-07T10:40:00.752Z"
   },
   {
    "duration": 43,
    "start_time": "2023-12-07T10:40:00.818Z"
   },
   {
    "duration": 107,
    "start_time": "2023-12-07T10:40:00.864Z"
   },
   {
    "duration": 52,
    "start_time": "2023-12-07T10:40:00.973Z"
   },
   {
    "duration": 74,
    "start_time": "2023-12-07T10:40:01.027Z"
   },
   {
    "duration": 56,
    "start_time": "2023-12-07T10:40:01.103Z"
   },
   {
    "duration": 87,
    "start_time": "2023-12-07T10:40:01.160Z"
   },
   {
    "duration": 34,
    "start_time": "2023-12-07T10:40:01.248Z"
   },
   {
    "duration": 34,
    "start_time": "2023-12-07T10:40:01.284Z"
   },
   {
    "duration": 32,
    "start_time": "2023-12-07T10:40:01.319Z"
   },
   {
    "duration": 97,
    "start_time": "2023-12-07T10:40:01.353Z"
   },
   {
    "duration": 119,
    "start_time": "2023-12-07T10:40:01.451Z"
   },
   {
    "duration": 50,
    "start_time": "2023-12-07T10:40:01.572Z"
   },
   {
    "duration": 73,
    "start_time": "2023-12-07T10:40:01.624Z"
   },
   {
    "duration": 56,
    "start_time": "2023-12-07T10:40:01.699Z"
   },
   {
    "duration": 52,
    "start_time": "2023-12-07T10:40:01.756Z"
   },
   {
    "duration": 38,
    "start_time": "2023-12-07T10:40:01.810Z"
   },
   {
    "duration": 60,
    "start_time": "2023-12-07T10:40:01.849Z"
   },
   {
    "duration": 655,
    "start_time": "2023-12-07T10:40:01.911Z"
   },
   {
    "duration": 206,
    "start_time": "2023-12-07T10:40:02.568Z"
   },
   {
    "duration": 307,
    "start_time": "2023-12-07T10:40:02.777Z"
   },
   {
    "duration": 226,
    "start_time": "2023-12-07T10:40:03.087Z"
   },
   {
    "duration": 336,
    "start_time": "2023-12-07T10:40:03.316Z"
   },
   {
    "duration": 131,
    "start_time": "2023-12-07T10:40:03.654Z"
   },
   {
    "duration": 124,
    "start_time": "2023-12-07T10:40:03.786Z"
   },
   {
    "duration": 7,
    "start_time": "2023-12-07T10:40:03.912Z"
   },
   {
    "duration": 138,
    "start_time": "2023-12-07T10:40:03.921Z"
   },
   {
    "duration": 132,
    "start_time": "2023-12-07T10:40:04.061Z"
   },
   {
    "duration": 5,
    "start_time": "2023-12-07T10:40:04.195Z"
   },
   {
    "duration": 236,
    "start_time": "2023-12-07T10:40:04.202Z"
   },
   {
    "duration": 183,
    "start_time": "2023-12-07T10:40:04.440Z"
   },
   {
    "duration": 11,
    "start_time": "2023-12-07T10:40:04.625Z"
   },
   {
    "duration": 50,
    "start_time": "2023-12-07T10:40:04.637Z"
   },
   {
    "duration": 15,
    "start_time": "2023-12-07T10:40:04.689Z"
   },
   {
    "duration": 72,
    "start_time": "2023-12-07T10:52:07.707Z"
   },
   {
    "duration": 75,
    "start_time": "2023-12-07T10:52:26.833Z"
   },
   {
    "duration": 79,
    "start_time": "2023-12-07T10:52:35.241Z"
   },
   {
    "duration": 4,
    "start_time": "2023-12-07T10:52:39.190Z"
   },
   {
    "duration": 200,
    "start_time": "2023-12-07T10:52:39.197Z"
   },
   {
    "duration": 7,
    "start_time": "2023-12-07T10:52:39.400Z"
   },
   {
    "duration": 16,
    "start_time": "2023-12-07T10:52:39.409Z"
   },
   {
    "duration": 16,
    "start_time": "2023-12-07T10:52:39.427Z"
   },
   {
    "duration": 12,
    "start_time": "2023-12-07T10:52:39.445Z"
   },
   {
    "duration": 17,
    "start_time": "2023-12-07T10:52:39.459Z"
   },
   {
    "duration": 14,
    "start_time": "2023-12-07T10:52:39.479Z"
   },
   {
    "duration": 7,
    "start_time": "2023-12-07T10:52:39.495Z"
   },
   {
    "duration": 15,
    "start_time": "2023-12-07T10:52:39.504Z"
   },
   {
    "duration": 33,
    "start_time": "2023-12-07T10:52:39.523Z"
   },
   {
    "duration": 13,
    "start_time": "2023-12-07T10:52:39.558Z"
   },
   {
    "duration": 14,
    "start_time": "2023-12-07T10:52:39.573Z"
   },
   {
    "duration": 15,
    "start_time": "2023-12-07T10:52:39.589Z"
   },
   {
    "duration": 15,
    "start_time": "2023-12-07T10:52:39.606Z"
   },
   {
    "duration": 33,
    "start_time": "2023-12-07T10:52:39.622Z"
   },
   {
    "duration": 18,
    "start_time": "2023-12-07T10:52:39.657Z"
   },
   {
    "duration": 9,
    "start_time": "2023-12-07T10:52:39.677Z"
   },
   {
    "duration": 18,
    "start_time": "2023-12-07T10:52:39.687Z"
   },
   {
    "duration": 39,
    "start_time": "2023-12-07T10:52:39.707Z"
   },
   {
    "duration": 15,
    "start_time": "2023-12-07T10:52:39.748Z"
   },
   {
    "duration": 17,
    "start_time": "2023-12-07T10:52:39.765Z"
   },
   {
    "duration": 36,
    "start_time": "2023-12-07T10:52:39.784Z"
   },
   {
    "duration": 25,
    "start_time": "2023-12-07T10:52:39.821Z"
   },
   {
    "duration": 8,
    "start_time": "2023-12-07T10:52:39.848Z"
   },
   {
    "duration": 7,
    "start_time": "2023-12-07T10:52:39.858Z"
   },
   {
    "duration": 535,
    "start_time": "2023-12-07T10:52:39.867Z"
   },
   {
    "duration": 209,
    "start_time": "2023-12-07T10:52:40.403Z"
   },
   {
    "duration": 347,
    "start_time": "2023-12-07T10:52:40.616Z"
   },
   {
    "duration": 264,
    "start_time": "2023-12-07T10:52:40.965Z"
   },
   {
    "duration": 347,
    "start_time": "2023-12-07T10:52:41.231Z"
   },
   {
    "duration": 138,
    "start_time": "2023-12-07T10:52:41.580Z"
   },
   {
    "duration": 122,
    "start_time": "2023-12-07T10:52:41.719Z"
   },
   {
    "duration": 6,
    "start_time": "2023-12-07T10:52:41.852Z"
   },
   {
    "duration": 139,
    "start_time": "2023-12-07T10:52:41.860Z"
   },
   {
    "duration": 160,
    "start_time": "2023-12-07T10:52:42.001Z"
   },
   {
    "duration": 80,
    "start_time": "2023-12-07T10:52:42.163Z"
   },
   {
    "duration": 0,
    "start_time": "2023-12-07T10:52:42.245Z"
   },
   {
    "duration": 0,
    "start_time": "2023-12-07T10:52:42.246Z"
   },
   {
    "duration": 0,
    "start_time": "2023-12-07T10:52:42.247Z"
   },
   {
    "duration": 0,
    "start_time": "2023-12-07T10:52:42.249Z"
   },
   {
    "duration": 0,
    "start_time": "2023-12-07T10:52:42.250Z"
   },
   {
    "duration": 0,
    "start_time": "2023-12-07T10:52:42.251Z"
   },
   {
    "duration": 93,
    "start_time": "2023-12-07T10:53:00.114Z"
   },
   {
    "duration": 79,
    "start_time": "2023-12-07T10:53:04.755Z"
   },
   {
    "duration": 81,
    "start_time": "2023-12-07T10:53:15.782Z"
   },
   {
    "duration": 3,
    "start_time": "2023-12-07T10:53:27.170Z"
   },
   {
    "duration": 213,
    "start_time": "2023-12-07T10:53:27.176Z"
   },
   {
    "duration": 8,
    "start_time": "2023-12-07T10:53:27.391Z"
   },
   {
    "duration": 4,
    "start_time": "2023-12-07T10:53:27.401Z"
   },
   {
    "duration": 14,
    "start_time": "2023-12-07T10:53:27.408Z"
   },
   {
    "duration": 29,
    "start_time": "2023-12-07T10:53:27.424Z"
   },
   {
    "duration": 15,
    "start_time": "2023-12-07T10:53:27.455Z"
   },
   {
    "duration": 7,
    "start_time": "2023-12-07T10:53:27.472Z"
   },
   {
    "duration": 10,
    "start_time": "2023-12-07T10:53:27.481Z"
   },
   {
    "duration": 13,
    "start_time": "2023-12-07T10:53:27.493Z"
   },
   {
    "duration": 10,
    "start_time": "2023-12-07T10:53:27.508Z"
   },
   {
    "duration": 176,
    "start_time": "2023-12-07T10:53:27.520Z"
   },
   {
    "duration": 17,
    "start_time": "2023-12-07T10:53:27.697Z"
   },
   {
    "duration": 29,
    "start_time": "2023-12-07T10:53:27.717Z"
   },
   {
    "duration": 10,
    "start_time": "2023-12-07T10:53:27.751Z"
   },
   {
    "duration": 6,
    "start_time": "2023-12-07T10:53:27.763Z"
   },
   {
    "duration": 19,
    "start_time": "2023-12-07T10:53:27.771Z"
   },
   {
    "duration": 5,
    "start_time": "2023-12-07T10:53:27.793Z"
   },
   {
    "duration": 14,
    "start_time": "2023-12-07T10:53:27.801Z"
   },
   {
    "duration": 47,
    "start_time": "2023-12-07T10:53:27.817Z"
   },
   {
    "duration": 11,
    "start_time": "2023-12-07T10:53:27.866Z"
   },
   {
    "duration": 6,
    "start_time": "2023-12-07T10:53:27.878Z"
   },
   {
    "duration": 12,
    "start_time": "2023-12-07T10:53:27.885Z"
   },
   {
    "duration": 7,
    "start_time": "2023-12-07T10:53:27.899Z"
   },
   {
    "duration": 7,
    "start_time": "2023-12-07T10:53:27.908Z"
   },
   {
    "duration": 41,
    "start_time": "2023-12-07T10:53:27.917Z"
   },
   {
    "duration": 492,
    "start_time": "2023-12-07T10:53:27.959Z"
   },
   {
    "duration": 209,
    "start_time": "2023-12-07T10:53:28.453Z"
   },
   {
    "duration": 316,
    "start_time": "2023-12-07T10:53:28.667Z"
   },
   {
    "duration": 224,
    "start_time": "2023-12-07T10:53:28.984Z"
   },
   {
    "duration": 358,
    "start_time": "2023-12-07T10:53:29.210Z"
   },
   {
    "duration": 144,
    "start_time": "2023-12-07T10:53:29.570Z"
   },
   {
    "duration": 149,
    "start_time": "2023-12-07T10:53:29.717Z"
   },
   {
    "duration": 9,
    "start_time": "2023-12-07T10:53:29.868Z"
   },
   {
    "duration": 145,
    "start_time": "2023-12-07T10:53:29.879Z"
   },
   {
    "duration": 139,
    "start_time": "2023-12-07T10:53:30.026Z"
   },
   {
    "duration": 7,
    "start_time": "2023-12-07T10:53:30.167Z"
   },
   {
    "duration": 237,
    "start_time": "2023-12-07T10:53:30.175Z"
   },
   {
    "duration": 198,
    "start_time": "2023-12-07T10:53:30.413Z"
   },
   {
    "duration": 13,
    "start_time": "2023-12-07T10:53:30.613Z"
   },
   {
    "duration": 60,
    "start_time": "2023-12-07T10:53:30.628Z"
   },
   {
    "duration": 52,
    "start_time": "2023-12-07T10:53:30.690Z"
   },
   {
    "duration": 3,
    "start_time": "2023-12-07T10:54:15.515Z"
   },
   {
    "duration": 205,
    "start_time": "2023-12-07T10:54:15.520Z"
   },
   {
    "duration": 8,
    "start_time": "2023-12-07T10:54:15.727Z"
   },
   {
    "duration": 4,
    "start_time": "2023-12-07T10:54:15.736Z"
   },
   {
    "duration": 11,
    "start_time": "2023-12-07T10:54:15.742Z"
   },
   {
    "duration": 7,
    "start_time": "2023-12-07T10:54:15.754Z"
   },
   {
    "duration": 17,
    "start_time": "2023-12-07T10:54:15.763Z"
   },
   {
    "duration": 7,
    "start_time": "2023-12-07T10:54:15.781Z"
   },
   {
    "duration": 5,
    "start_time": "2023-12-07T10:54:15.789Z"
   },
   {
    "duration": 9,
    "start_time": "2023-12-07T10:54:15.795Z"
   },
   {
    "duration": 10,
    "start_time": "2023-12-07T10:54:15.806Z"
   },
   {
    "duration": 11,
    "start_time": "2023-12-07T10:54:15.852Z"
   },
   {
    "duration": 9,
    "start_time": "2023-12-07T10:54:15.864Z"
   },
   {
    "duration": 9,
    "start_time": "2023-12-07T10:54:15.876Z"
   },
   {
    "duration": 8,
    "start_time": "2023-12-07T10:54:15.886Z"
   },
   {
    "duration": 5,
    "start_time": "2023-12-07T10:54:15.896Z"
   },
   {
    "duration": 12,
    "start_time": "2023-12-07T10:54:15.902Z"
   },
   {
    "duration": 41,
    "start_time": "2023-12-07T10:54:15.916Z"
   },
   {
    "duration": 10,
    "start_time": "2023-12-07T10:54:15.959Z"
   },
   {
    "duration": 9,
    "start_time": "2023-12-07T10:54:15.971Z"
   },
   {
    "duration": 6,
    "start_time": "2023-12-07T10:54:15.982Z"
   },
   {
    "duration": 10,
    "start_time": "2023-12-07T10:54:15.989Z"
   },
   {
    "duration": 21,
    "start_time": "2023-12-07T10:54:16.000Z"
   },
   {
    "duration": 30,
    "start_time": "2023-12-07T10:54:16.023Z"
   },
   {
    "duration": 14,
    "start_time": "2023-12-07T10:54:16.055Z"
   },
   {
    "duration": 8,
    "start_time": "2023-12-07T10:54:16.072Z"
   },
   {
    "duration": 491,
    "start_time": "2023-12-07T10:54:16.082Z"
   },
   {
    "duration": 211,
    "start_time": "2023-12-07T10:54:16.575Z"
   },
   {
    "duration": 310,
    "start_time": "2023-12-07T10:54:16.788Z"
   },
   {
    "duration": 216,
    "start_time": "2023-12-07T10:54:17.099Z"
   },
   {
    "duration": 368,
    "start_time": "2023-12-07T10:54:17.316Z"
   },
   {
    "duration": 135,
    "start_time": "2023-12-07T10:54:17.685Z"
   },
   {
    "duration": 121,
    "start_time": "2023-12-07T10:54:17.822Z"
   },
   {
    "duration": 9,
    "start_time": "2023-12-07T10:54:17.951Z"
   },
   {
    "duration": 144,
    "start_time": "2023-12-07T10:54:17.961Z"
   },
   {
    "duration": 138,
    "start_time": "2023-12-07T10:54:18.107Z"
   },
   {
    "duration": 7,
    "start_time": "2023-12-07T10:54:18.247Z"
   },
   {
    "duration": 235,
    "start_time": "2023-12-07T10:54:18.256Z"
   },
   {
    "duration": 181,
    "start_time": "2023-12-07T10:54:18.493Z"
   },
   {
    "duration": 12,
    "start_time": "2023-12-07T10:54:18.675Z"
   },
   {
    "duration": 60,
    "start_time": "2023-12-07T10:54:18.692Z"
   },
   {
    "duration": 13,
    "start_time": "2023-12-07T10:54:18.754Z"
   },
   {
    "duration": 1066,
    "start_time": "2023-12-08T02:52:04.391Z"
   },
   {
    "duration": 312,
    "start_time": "2023-12-08T02:52:05.459Z"
   },
   {
    "duration": 9,
    "start_time": "2023-12-08T02:52:05.773Z"
   },
   {
    "duration": 30,
    "start_time": "2023-12-08T02:52:05.783Z"
   },
   {
    "duration": 12,
    "start_time": "2023-12-08T02:52:05.814Z"
   },
   {
    "duration": 20,
    "start_time": "2023-12-08T02:52:05.827Z"
   },
   {
    "duration": 19,
    "start_time": "2023-12-08T02:52:05.848Z"
   },
   {
    "duration": 21,
    "start_time": "2023-12-08T02:52:05.868Z"
   },
   {
    "duration": 28,
    "start_time": "2023-12-08T02:52:05.890Z"
   },
   {
    "duration": 11,
    "start_time": "2023-12-08T02:52:05.920Z"
   },
   {
    "duration": 21,
    "start_time": "2023-12-08T02:52:05.932Z"
   },
   {
    "duration": 13,
    "start_time": "2023-12-08T02:52:05.954Z"
   },
   {
    "duration": 18,
    "start_time": "2023-12-08T02:52:05.968Z"
   },
   {
    "duration": 39,
    "start_time": "2023-12-08T02:52:05.987Z"
   },
   {
    "duration": 5,
    "start_time": "2023-12-08T02:52:06.028Z"
   },
   {
    "duration": 9,
    "start_time": "2023-12-08T02:52:06.035Z"
   },
   {
    "duration": 31,
    "start_time": "2023-12-08T02:52:06.045Z"
   },
   {
    "duration": 12,
    "start_time": "2023-12-08T02:52:06.077Z"
   },
   {
    "duration": 18,
    "start_time": "2023-12-08T02:52:06.090Z"
   },
   {
    "duration": 16,
    "start_time": "2023-12-08T02:52:06.110Z"
   },
   {
    "duration": 9,
    "start_time": "2023-12-08T02:52:06.128Z"
   },
   {
    "duration": 4,
    "start_time": "2023-12-08T02:52:06.138Z"
   },
   {
    "duration": 14,
    "start_time": "2023-12-08T02:52:06.143Z"
   },
   {
    "duration": 7,
    "start_time": "2023-12-08T02:52:06.158Z"
   },
   {
    "duration": 15,
    "start_time": "2023-12-08T02:52:06.167Z"
   },
   {
    "duration": 10,
    "start_time": "2023-12-08T02:52:06.184Z"
   },
   {
    "duration": 474,
    "start_time": "2023-12-08T02:52:06.195Z"
   },
   {
    "duration": 176,
    "start_time": "2023-12-08T02:52:06.673Z"
   },
   {
    "duration": 266,
    "start_time": "2023-12-08T02:52:06.851Z"
   },
   {
    "duration": 173,
    "start_time": "2023-12-08T02:52:07.118Z"
   },
   {
    "duration": 286,
    "start_time": "2023-12-08T02:52:07.293Z"
   },
   {
    "duration": 106,
    "start_time": "2023-12-08T02:52:07.580Z"
   },
   {
    "duration": 95,
    "start_time": "2023-12-08T02:52:07.687Z"
   },
   {
    "duration": 5,
    "start_time": "2023-12-08T02:52:07.783Z"
   },
   {
    "duration": 152,
    "start_time": "2023-12-08T02:52:07.789Z"
   },
   {
    "duration": 108,
    "start_time": "2023-12-08T02:52:07.942Z"
   },
   {
    "duration": 4,
    "start_time": "2023-12-08T02:52:08.051Z"
   },
   {
    "duration": 177,
    "start_time": "2023-12-08T02:52:08.056Z"
   },
   {
    "duration": 144,
    "start_time": "2023-12-08T02:52:08.234Z"
   },
   {
    "duration": 8,
    "start_time": "2023-12-08T02:52:08.380Z"
   },
   {
    "duration": 37,
    "start_time": "2023-12-08T02:52:08.389Z"
   },
   {
    "duration": 10,
    "start_time": "2023-12-08T02:52:08.427Z"
   },
   {
    "duration": 975,
    "start_time": "2023-12-08T04:15:54.261Z"
   },
   {
    "duration": 174,
    "start_time": "2023-12-08T04:15:55.237Z"
   },
   {
    "duration": 9,
    "start_time": "2023-12-08T04:15:55.412Z"
   },
   {
    "duration": 8,
    "start_time": "2023-12-08T04:15:55.422Z"
   },
   {
    "duration": 6,
    "start_time": "2023-12-08T04:15:55.432Z"
   },
   {
    "duration": 14,
    "start_time": "2023-12-08T04:15:55.439Z"
   },
   {
    "duration": 13,
    "start_time": "2023-12-08T04:15:55.454Z"
   },
   {
    "duration": 4,
    "start_time": "2023-12-08T04:15:55.468Z"
   },
   {
    "duration": 7,
    "start_time": "2023-12-08T04:15:55.473Z"
   },
   {
    "duration": 5,
    "start_time": "2023-12-08T04:15:55.481Z"
   },
   {
    "duration": 7,
    "start_time": "2023-12-08T04:15:55.487Z"
   },
   {
    "duration": 24,
    "start_time": "2023-12-08T04:15:55.496Z"
   },
   {
    "duration": 5,
    "start_time": "2023-12-08T04:15:55.521Z"
   },
   {
    "duration": 7,
    "start_time": "2023-12-08T04:15:55.529Z"
   },
   {
    "duration": 6,
    "start_time": "2023-12-08T04:15:55.537Z"
   },
   {
    "duration": 21,
    "start_time": "2023-12-08T04:15:55.544Z"
   },
   {
    "duration": 9,
    "start_time": "2023-12-08T04:15:55.566Z"
   },
   {
    "duration": 4,
    "start_time": "2023-12-08T04:15:55.576Z"
   },
   {
    "duration": 7,
    "start_time": "2023-12-08T04:15:55.581Z"
   },
   {
    "duration": 9,
    "start_time": "2023-12-08T04:15:55.589Z"
   },
   {
    "duration": 4,
    "start_time": "2023-12-08T04:15:55.614Z"
   },
   {
    "duration": 4,
    "start_time": "2023-12-08T04:15:55.619Z"
   },
   {
    "duration": 8,
    "start_time": "2023-12-08T04:15:55.624Z"
   },
   {
    "duration": 6,
    "start_time": "2023-12-08T04:15:55.633Z"
   },
   {
    "duration": 9,
    "start_time": "2023-12-08T04:15:55.640Z"
   },
   {
    "duration": 13,
    "start_time": "2023-12-08T04:15:55.650Z"
   },
   {
    "duration": 480,
    "start_time": "2023-12-08T04:15:55.664Z"
   },
   {
    "duration": 165,
    "start_time": "2023-12-08T04:15:56.146Z"
   },
   {
    "duration": 289,
    "start_time": "2023-12-08T04:15:56.314Z"
   },
   {
    "duration": 169,
    "start_time": "2023-12-08T04:15:56.604Z"
   },
   {
    "duration": 261,
    "start_time": "2023-12-08T04:15:56.775Z"
   },
   {
    "duration": 103,
    "start_time": "2023-12-08T04:15:57.038Z"
   },
   {
    "duration": 93,
    "start_time": "2023-12-08T04:15:57.143Z"
   },
   {
    "duration": 5,
    "start_time": "2023-12-08T04:15:57.238Z"
   },
   {
    "duration": 144,
    "start_time": "2023-12-08T04:15:57.244Z"
   },
   {
    "duration": 99,
    "start_time": "2023-12-08T04:15:57.390Z"
   },
   {
    "duration": 3,
    "start_time": "2023-12-08T04:15:57.491Z"
   },
   {
    "duration": 182,
    "start_time": "2023-12-08T04:15:57.495Z"
   },
   {
    "duration": 137,
    "start_time": "2023-12-08T04:15:57.678Z"
   },
   {
    "duration": 8,
    "start_time": "2023-12-08T04:15:57.816Z"
   },
   {
    "duration": 24,
    "start_time": "2023-12-08T04:15:57.827Z"
   },
   {
    "duration": 10,
    "start_time": "2023-12-08T04:15:57.853Z"
   },
   {
    "duration": 5,
    "start_time": "2023-12-08T04:47:30.047Z"
   },
   {
    "duration": 952,
    "start_time": "2023-12-08T04:48:02.630Z"
   },
   {
    "duration": 168,
    "start_time": "2023-12-08T04:48:03.584Z"
   },
   {
    "duration": 10,
    "start_time": "2023-12-08T04:48:03.753Z"
   },
   {
    "duration": 4,
    "start_time": "2023-12-08T04:48:03.765Z"
   },
   {
    "duration": 18,
    "start_time": "2023-12-08T04:48:03.771Z"
   },
   {
    "duration": 7,
    "start_time": "2023-12-08T04:48:03.791Z"
   },
   {
    "duration": 9,
    "start_time": "2023-12-08T04:48:03.800Z"
   },
   {
    "duration": 6,
    "start_time": "2023-12-08T04:48:03.810Z"
   },
   {
    "duration": 6,
    "start_time": "2023-12-08T04:48:03.818Z"
   },
   {
    "duration": 3,
    "start_time": "2023-12-08T04:48:03.825Z"
   },
   {
    "duration": 7,
    "start_time": "2023-12-08T04:48:03.829Z"
   },
   {
    "duration": 9,
    "start_time": "2023-12-08T04:48:03.838Z"
   },
   {
    "duration": 5,
    "start_time": "2023-12-08T04:48:03.848Z"
   },
   {
    "duration": 8,
    "start_time": "2023-12-08T04:48:03.855Z"
   },
   {
    "duration": 4,
    "start_time": "2023-12-08T04:48:03.864Z"
   },
   {
    "duration": 5,
    "start_time": "2023-12-08T04:48:03.869Z"
   },
   {
    "duration": 40,
    "start_time": "2023-12-08T04:48:03.875Z"
   },
   {
    "duration": 5,
    "start_time": "2023-12-08T04:48:03.916Z"
   },
   {
    "duration": 12,
    "start_time": "2023-12-08T04:48:03.922Z"
   },
   {
    "duration": 19,
    "start_time": "2023-12-08T04:48:03.935Z"
   },
   {
    "duration": 3,
    "start_time": "2023-12-08T04:48:03.955Z"
   },
   {
    "duration": 13,
    "start_time": "2023-12-08T04:48:03.959Z"
   },
   {
    "duration": 12,
    "start_time": "2023-12-08T04:48:03.974Z"
   },
   {
    "duration": 6,
    "start_time": "2023-12-08T04:48:03.987Z"
   },
   {
    "duration": 10,
    "start_time": "2023-12-08T04:48:03.994Z"
   },
   {
    "duration": 6,
    "start_time": "2023-12-08T04:48:04.005Z"
   },
   {
    "duration": 460,
    "start_time": "2023-12-08T04:48:04.012Z"
   },
   {
    "duration": 165,
    "start_time": "2023-12-08T04:48:04.473Z"
   },
   {
    "duration": 270,
    "start_time": "2023-12-08T04:48:04.639Z"
   },
   {
    "duration": 166,
    "start_time": "2023-12-08T04:48:04.914Z"
   },
   {
    "duration": 275,
    "start_time": "2023-12-08T04:48:05.082Z"
   },
   {
    "duration": 106,
    "start_time": "2023-12-08T04:48:05.358Z"
   },
   {
    "duration": 103,
    "start_time": "2023-12-08T04:48:05.466Z"
   },
   {
    "duration": 6,
    "start_time": "2023-12-08T04:48:05.570Z"
   },
   {
    "duration": 158,
    "start_time": "2023-12-08T04:48:05.578Z"
   },
   {
    "duration": 103,
    "start_time": "2023-12-08T04:48:05.737Z"
   },
   {
    "duration": 5,
    "start_time": "2023-12-08T04:48:05.841Z"
   },
   {
    "duration": 189,
    "start_time": "2023-12-08T04:48:05.847Z"
   },
   {
    "duration": 133,
    "start_time": "2023-12-08T04:48:06.037Z"
   },
   {
    "duration": 8,
    "start_time": "2023-12-08T04:48:06.172Z"
   },
   {
    "duration": 39,
    "start_time": "2023-12-08T04:48:06.183Z"
   },
   {
    "duration": 10,
    "start_time": "2023-12-08T04:48:06.224Z"
   },
   {
    "duration": 6,
    "start_time": "2023-12-08T04:50:38.500Z"
   },
   {
    "duration": 6,
    "start_time": "2023-12-08T04:50:47.619Z"
   },
   {
    "duration": 5,
    "start_time": "2023-12-08T04:54:51.202Z"
   },
   {
    "duration": 5,
    "start_time": "2023-12-08T04:56:05.234Z"
   },
   {
    "duration": 967,
    "start_time": "2023-12-08T04:59:42.461Z"
   },
   {
    "duration": 174,
    "start_time": "2023-12-08T04:59:43.430Z"
   },
   {
    "duration": 9,
    "start_time": "2023-12-08T04:59:43.605Z"
   },
   {
    "duration": 10,
    "start_time": "2023-12-08T04:59:43.615Z"
   },
   {
    "duration": 8,
    "start_time": "2023-12-08T04:59:43.626Z"
   },
   {
    "duration": 11,
    "start_time": "2023-12-08T04:59:43.635Z"
   },
   {
    "duration": 9,
    "start_time": "2023-12-08T04:59:43.647Z"
   },
   {
    "duration": 4,
    "start_time": "2023-12-08T04:59:43.657Z"
   },
   {
    "duration": 7,
    "start_time": "2023-12-08T04:59:43.662Z"
   },
   {
    "duration": 11,
    "start_time": "2023-12-08T04:59:43.670Z"
   },
   {
    "duration": 7,
    "start_time": "2023-12-08T04:59:43.683Z"
   },
   {
    "duration": 12,
    "start_time": "2023-12-08T04:59:43.691Z"
   },
   {
    "duration": 12,
    "start_time": "2023-12-08T04:59:43.704Z"
   },
   {
    "duration": 11,
    "start_time": "2023-12-08T04:59:43.718Z"
   },
   {
    "duration": 5,
    "start_time": "2023-12-08T04:59:43.730Z"
   },
   {
    "duration": 4,
    "start_time": "2023-12-08T04:59:43.736Z"
   },
   {
    "duration": 10,
    "start_time": "2023-12-08T04:59:43.741Z"
   },
   {
    "duration": 7,
    "start_time": "2023-12-08T04:59:43.752Z"
   },
   {
    "duration": 7,
    "start_time": "2023-12-08T04:59:43.761Z"
   },
   {
    "duration": 13,
    "start_time": "2023-12-08T04:59:43.769Z"
   },
   {
    "duration": 4,
    "start_time": "2023-12-08T04:59:43.783Z"
   },
   {
    "duration": 5,
    "start_time": "2023-12-08T04:59:43.788Z"
   },
   {
    "duration": 26,
    "start_time": "2023-12-08T04:59:43.794Z"
   },
   {
    "duration": 6,
    "start_time": "2023-12-08T04:59:43.821Z"
   },
   {
    "duration": 14,
    "start_time": "2023-12-08T04:59:43.828Z"
   },
   {
    "duration": 8,
    "start_time": "2023-12-08T04:59:43.843Z"
   },
   {
    "duration": 470,
    "start_time": "2023-12-08T04:59:43.852Z"
   },
   {
    "duration": 168,
    "start_time": "2023-12-08T04:59:44.324Z"
   },
   {
    "duration": 288,
    "start_time": "2023-12-08T04:59:44.494Z"
   },
   {
    "duration": 180,
    "start_time": "2023-12-08T04:59:44.784Z"
   },
   {
    "duration": 308,
    "start_time": "2023-12-08T04:59:44.966Z"
   },
   {
    "duration": 167,
    "start_time": "2023-12-08T04:59:45.275Z"
   },
   {
    "duration": 93,
    "start_time": "2023-12-08T04:59:45.443Z"
   },
   {
    "duration": 5,
    "start_time": "2023-12-08T04:59:45.537Z"
   },
   {
    "duration": 148,
    "start_time": "2023-12-08T04:59:45.544Z"
   },
   {
    "duration": 101,
    "start_time": "2023-12-08T04:59:45.693Z"
   },
   {
    "duration": 4,
    "start_time": "2023-12-08T04:59:45.795Z"
   },
   {
    "duration": 194,
    "start_time": "2023-12-08T04:59:45.800Z"
   },
   {
    "duration": 148,
    "start_time": "2023-12-08T04:59:45.995Z"
   },
   {
    "duration": 9,
    "start_time": "2023-12-08T04:59:46.144Z"
   },
   {
    "duration": 26,
    "start_time": "2023-12-08T04:59:46.157Z"
   },
   {
    "duration": 10,
    "start_time": "2023-12-08T04:59:46.184Z"
   },
   {
    "duration": 1339,
    "start_time": "2023-12-08T07:54:01.898Z"
   },
   {
    "duration": 278,
    "start_time": "2023-12-08T07:54:03.239Z"
   },
   {
    "duration": 13,
    "start_time": "2023-12-08T07:54:03.519Z"
   },
   {
    "duration": 27,
    "start_time": "2023-12-08T07:54:03.535Z"
   },
   {
    "duration": 28,
    "start_time": "2023-12-08T07:54:03.564Z"
   },
   {
    "duration": 15,
    "start_time": "2023-12-08T07:54:03.594Z"
   },
   {
    "duration": 26,
    "start_time": "2023-12-08T07:54:03.611Z"
   },
   {
    "duration": 45,
    "start_time": "2023-12-08T07:54:03.639Z"
   },
   {
    "duration": 17,
    "start_time": "2023-12-08T07:54:03.686Z"
   },
   {
    "duration": 26,
    "start_time": "2023-12-08T07:54:03.706Z"
   },
   {
    "duration": 26,
    "start_time": "2023-12-08T07:54:03.734Z"
   },
   {
    "duration": 23,
    "start_time": "2023-12-08T07:54:03.762Z"
   },
   {
    "duration": 15,
    "start_time": "2023-12-08T07:54:03.787Z"
   },
   {
    "duration": 15,
    "start_time": "2023-12-08T07:54:03.804Z"
   },
   {
    "duration": 26,
    "start_time": "2023-12-08T07:54:03.821Z"
   },
   {
    "duration": 10,
    "start_time": "2023-12-08T07:54:03.849Z"
   },
   {
    "duration": 18,
    "start_time": "2023-12-08T07:54:03.861Z"
   },
   {
    "duration": 26,
    "start_time": "2023-12-08T07:54:03.881Z"
   },
   {
    "duration": 29,
    "start_time": "2023-12-08T07:54:03.909Z"
   },
   {
    "duration": 25,
    "start_time": "2023-12-08T07:54:03.940Z"
   },
   {
    "duration": 5,
    "start_time": "2023-12-08T07:54:03.967Z"
   },
   {
    "duration": 24,
    "start_time": "2023-12-08T07:54:03.974Z"
   },
   {
    "duration": 25,
    "start_time": "2023-12-08T07:54:04.000Z"
   },
   {
    "duration": 14,
    "start_time": "2023-12-08T07:54:04.028Z"
   },
   {
    "duration": 32,
    "start_time": "2023-12-08T07:54:04.044Z"
   },
   {
    "duration": 23,
    "start_time": "2023-12-08T07:54:04.078Z"
   },
   {
    "duration": 21,
    "start_time": "2023-12-08T07:54:04.102Z"
   },
   {
    "duration": 550,
    "start_time": "2023-12-08T07:54:04.128Z"
   },
   {
    "duration": 205,
    "start_time": "2023-12-08T07:54:04.679Z"
   },
   {
    "duration": 380,
    "start_time": "2023-12-08T07:54:04.886Z"
   },
   {
    "duration": 209,
    "start_time": "2023-12-08T07:54:05.268Z"
   },
   {
    "duration": 296,
    "start_time": "2023-12-08T07:54:05.479Z"
   },
   {
    "duration": 130,
    "start_time": "2023-12-08T07:54:05.776Z"
   },
   {
    "duration": 186,
    "start_time": "2023-12-08T07:54:05.914Z"
   },
   {
    "duration": 14,
    "start_time": "2023-12-08T07:54:06.102Z"
   },
   {
    "duration": 130,
    "start_time": "2023-12-08T07:54:06.117Z"
   },
   {
    "duration": 129,
    "start_time": "2023-12-08T07:54:06.249Z"
   },
   {
    "duration": 4,
    "start_time": "2023-12-08T07:54:06.379Z"
   },
   {
    "duration": 234,
    "start_time": "2023-12-08T07:54:06.385Z"
   },
   {
    "duration": 174,
    "start_time": "2023-12-08T07:54:06.621Z"
   },
   {
    "duration": 22,
    "start_time": "2023-12-08T07:54:06.796Z"
   },
   {
    "duration": 38,
    "start_time": "2023-12-08T07:54:06.819Z"
   },
   {
    "duration": 14,
    "start_time": "2023-12-08T07:54:06.858Z"
   },
   {
    "duration": 4,
    "start_time": "2023-12-08T07:54:38.494Z"
   },
   {
    "duration": 103,
    "start_time": "2023-12-08T07:54:38.932Z"
   },
   {
    "duration": 4,
    "start_time": "2023-12-08T07:54:42.040Z"
   },
   {
    "duration": 4,
    "start_time": "2023-12-08T07:54:42.620Z"
   },
   {
    "duration": 4,
    "start_time": "2023-12-08T07:54:43.292Z"
   },
   {
    "duration": 3,
    "start_time": "2023-12-08T07:54:44.416Z"
   },
   {
    "duration": 10,
    "start_time": "2023-12-08T07:54:46.932Z"
   },
   {
    "duration": 6,
    "start_time": "2023-12-08T07:55:13.959Z"
   },
   {
    "duration": 7,
    "start_time": "2023-12-08T07:55:36.404Z"
   },
   {
    "duration": 7,
    "start_time": "2023-12-08T07:55:43.661Z"
   },
   {
    "duration": 5,
    "start_time": "2023-12-08T07:55:44.144Z"
   },
   {
    "duration": 8,
    "start_time": "2023-12-08T07:55:44.700Z"
   },
   {
    "duration": 6,
    "start_time": "2023-12-08T07:55:45.780Z"
   },
   {
    "duration": 3,
    "start_time": "2023-12-08T07:56:13.871Z"
   },
   {
    "duration": 161,
    "start_time": "2023-12-08T07:56:13.876Z"
   },
   {
    "duration": 7,
    "start_time": "2023-12-08T07:56:14.039Z"
   },
   {
    "duration": 25,
    "start_time": "2023-12-08T07:56:14.048Z"
   },
   {
    "duration": 14,
    "start_time": "2023-12-08T07:56:14.074Z"
   },
   {
    "duration": 15,
    "start_time": "2023-12-08T07:56:14.089Z"
   },
   {
    "duration": 11,
    "start_time": "2023-12-08T07:56:14.106Z"
   },
   {
    "duration": 10,
    "start_time": "2023-12-08T07:56:14.119Z"
   },
   {
    "duration": 18,
    "start_time": "2023-12-08T07:56:14.130Z"
   },
   {
    "duration": 6,
    "start_time": "2023-12-08T07:56:14.152Z"
   },
   {
    "duration": 9,
    "start_time": "2023-12-08T07:56:14.160Z"
   },
   {
    "duration": 19,
    "start_time": "2023-12-08T07:56:14.171Z"
   },
   {
    "duration": 19,
    "start_time": "2023-12-08T07:56:14.192Z"
   },
   {
    "duration": 13,
    "start_time": "2023-12-08T07:56:14.213Z"
   },
   {
    "duration": 10,
    "start_time": "2023-12-08T07:56:14.227Z"
   },
   {
    "duration": 5,
    "start_time": "2023-12-08T07:56:14.238Z"
   },
   {
    "duration": 20,
    "start_time": "2023-12-08T07:56:14.244Z"
   },
   {
    "duration": 19,
    "start_time": "2023-12-08T07:56:14.266Z"
   },
   {
    "duration": 14,
    "start_time": "2023-12-08T07:56:14.287Z"
   },
   {
    "duration": 14,
    "start_time": "2023-12-08T07:56:14.303Z"
   },
   {
    "duration": 18,
    "start_time": "2023-12-08T07:56:14.318Z"
   },
   {
    "duration": 16,
    "start_time": "2023-12-08T07:56:14.338Z"
   },
   {
    "duration": 9,
    "start_time": "2023-12-08T07:56:14.356Z"
   },
   {
    "duration": 13,
    "start_time": "2023-12-08T07:56:14.367Z"
   },
   {
    "duration": 16,
    "start_time": "2023-12-08T07:56:14.382Z"
   },
   {
    "duration": 14,
    "start_time": "2023-12-08T07:56:14.399Z"
   },
   {
    "duration": 26,
    "start_time": "2023-12-08T07:56:14.415Z"
   },
   {
    "duration": 9,
    "start_time": "2023-12-08T07:56:14.446Z"
   },
   {
    "duration": 11,
    "start_time": "2023-12-08T07:56:14.457Z"
   },
   {
    "duration": 11,
    "start_time": "2023-12-08T07:56:14.470Z"
   },
   {
    "duration": 480,
    "start_time": "2023-12-08T07:56:14.483Z"
   },
   {
    "duration": 255,
    "start_time": "2023-12-08T07:56:14.964Z"
   },
   {
    "duration": 302,
    "start_time": "2023-12-08T07:56:15.221Z"
   },
   {
    "duration": 206,
    "start_time": "2023-12-08T07:56:15.525Z"
   },
   {
    "duration": 288,
    "start_time": "2023-12-08T07:56:15.733Z"
   },
   {
    "duration": 140,
    "start_time": "2023-12-08T07:56:16.023Z"
   },
   {
    "duration": 154,
    "start_time": "2023-12-08T07:56:16.164Z"
   },
   {
    "duration": 7,
    "start_time": "2023-12-08T07:56:16.319Z"
   },
   {
    "duration": 145,
    "start_time": "2023-12-08T07:56:16.328Z"
   },
   {
    "duration": 207,
    "start_time": "2023-12-08T07:56:16.474Z"
   },
   {
    "duration": 5,
    "start_time": "2023-12-08T07:56:16.683Z"
   },
   {
    "duration": 223,
    "start_time": "2023-12-08T07:56:16.689Z"
   },
   {
    "duration": 151,
    "start_time": "2023-12-08T07:56:16.915Z"
   },
   {
    "duration": 10,
    "start_time": "2023-12-08T07:56:17.068Z"
   },
   {
    "duration": 53,
    "start_time": "2023-12-08T07:56:17.080Z"
   },
   {
    "duration": 14,
    "start_time": "2023-12-08T07:56:17.135Z"
   },
   {
    "duration": 69,
    "start_time": "2023-12-08T07:58:15.311Z"
   },
   {
    "duration": 3,
    "start_time": "2023-12-08T08:02:16.592Z"
   },
   {
    "duration": 154,
    "start_time": "2023-12-08T08:02:16.597Z"
   },
   {
    "duration": 9,
    "start_time": "2023-12-08T08:02:16.752Z"
   },
   {
    "duration": 6,
    "start_time": "2023-12-08T08:02:16.763Z"
   },
   {
    "duration": 11,
    "start_time": "2023-12-08T08:02:16.770Z"
   },
   {
    "duration": 12,
    "start_time": "2023-12-08T08:02:16.782Z"
   },
   {
    "duration": 13,
    "start_time": "2023-12-08T08:02:16.795Z"
   },
   {
    "duration": 7,
    "start_time": "2023-12-08T08:02:16.810Z"
   },
   {
    "duration": 11,
    "start_time": "2023-12-08T08:02:16.819Z"
   },
   {
    "duration": 3,
    "start_time": "2023-12-08T08:02:16.833Z"
   },
   {
    "duration": 20,
    "start_time": "2023-12-08T08:02:16.837Z"
   },
   {
    "duration": 11,
    "start_time": "2023-12-08T08:02:16.858Z"
   },
   {
    "duration": 12,
    "start_time": "2023-12-08T08:02:16.871Z"
   },
   {
    "duration": 11,
    "start_time": "2023-12-08T08:02:16.885Z"
   },
   {
    "duration": 28,
    "start_time": "2023-12-08T08:02:16.898Z"
   },
   {
    "duration": 18,
    "start_time": "2023-12-08T08:02:16.928Z"
   },
   {
    "duration": 17,
    "start_time": "2023-12-08T08:02:16.948Z"
   },
   {
    "duration": 8,
    "start_time": "2023-12-08T08:02:16.966Z"
   },
   {
    "duration": 6,
    "start_time": "2023-12-08T08:02:16.976Z"
   },
   {
    "duration": 13,
    "start_time": "2023-12-08T08:02:16.983Z"
   },
   {
    "duration": 13,
    "start_time": "2023-12-08T08:02:16.998Z"
   },
   {
    "duration": 13,
    "start_time": "2023-12-08T08:02:17.013Z"
   },
   {
    "duration": 11,
    "start_time": "2023-12-08T08:02:17.027Z"
   },
   {
    "duration": 6,
    "start_time": "2023-12-08T08:02:17.040Z"
   },
   {
    "duration": 4,
    "start_time": "2023-12-08T08:02:17.048Z"
   },
   {
    "duration": 29,
    "start_time": "2023-12-08T08:02:17.054Z"
   },
   {
    "duration": 22,
    "start_time": "2023-12-08T08:02:17.085Z"
   },
   {
    "duration": 18,
    "start_time": "2023-12-08T08:02:17.111Z"
   },
   {
    "duration": 11,
    "start_time": "2023-12-08T08:02:17.131Z"
   },
   {
    "duration": 9,
    "start_time": "2023-12-08T08:02:17.144Z"
   },
   {
    "duration": 487,
    "start_time": "2023-12-08T08:02:17.155Z"
   },
   {
    "duration": 203,
    "start_time": "2023-12-08T08:02:17.644Z"
   },
   {
    "duration": 273,
    "start_time": "2023-12-08T08:02:17.849Z"
   },
   {
    "duration": 221,
    "start_time": "2023-12-08T08:02:18.123Z"
   },
   {
    "duration": 316,
    "start_time": "2023-12-08T08:02:18.346Z"
   },
   {
    "duration": 137,
    "start_time": "2023-12-08T08:02:18.663Z"
   },
   {
    "duration": 159,
    "start_time": "2023-12-08T08:02:18.802Z"
   },
   {
    "duration": 6,
    "start_time": "2023-12-08T08:02:18.963Z"
   },
   {
    "duration": 139,
    "start_time": "2023-12-08T08:02:18.971Z"
   },
   {
    "duration": 123,
    "start_time": "2023-12-08T08:02:19.115Z"
   },
   {
    "duration": 4,
    "start_time": "2023-12-08T08:02:19.240Z"
   },
   {
    "duration": 227,
    "start_time": "2023-12-08T08:02:19.246Z"
   },
   {
    "duration": 164,
    "start_time": "2023-12-08T08:02:19.475Z"
   },
   {
    "duration": 10,
    "start_time": "2023-12-08T08:02:19.640Z"
   },
   {
    "duration": 33,
    "start_time": "2023-12-08T08:02:19.652Z"
   },
   {
    "duration": 31,
    "start_time": "2023-12-08T08:02:19.687Z"
   },
   {
    "duration": 33,
    "start_time": "2023-12-08T08:04:14.130Z"
   },
   {
    "duration": 3,
    "start_time": "2023-12-08T08:09:08.599Z"
   },
   {
    "duration": 148,
    "start_time": "2023-12-08T08:09:08.605Z"
   },
   {
    "duration": 8,
    "start_time": "2023-12-08T08:09:08.755Z"
   },
   {
    "duration": 15,
    "start_time": "2023-12-08T08:09:08.764Z"
   },
   {
    "duration": 20,
    "start_time": "2023-12-08T08:09:08.781Z"
   },
   {
    "duration": 19,
    "start_time": "2023-12-08T08:09:08.802Z"
   },
   {
    "duration": 22,
    "start_time": "2023-12-08T08:09:08.823Z"
   },
   {
    "duration": 14,
    "start_time": "2023-12-08T08:09:08.847Z"
   },
   {
    "duration": 15,
    "start_time": "2023-12-08T08:09:08.863Z"
   },
   {
    "duration": 23,
    "start_time": "2023-12-08T08:09:08.880Z"
   },
   {
    "duration": 21,
    "start_time": "2023-12-08T08:09:08.904Z"
   },
   {
    "duration": 23,
    "start_time": "2023-12-08T08:09:08.926Z"
   },
   {
    "duration": 17,
    "start_time": "2023-12-08T08:09:08.951Z"
   },
   {
    "duration": 17,
    "start_time": "2023-12-08T08:09:08.972Z"
   },
   {
    "duration": 20,
    "start_time": "2023-12-08T08:09:08.991Z"
   },
   {
    "duration": 16,
    "start_time": "2023-12-08T08:09:09.013Z"
   },
   {
    "duration": 39,
    "start_time": "2023-12-08T08:09:09.031Z"
   },
   {
    "duration": 18,
    "start_time": "2023-12-08T08:09:09.071Z"
   },
   {
    "duration": 35,
    "start_time": "2023-12-08T08:09:09.091Z"
   },
   {
    "duration": 27,
    "start_time": "2023-12-08T08:09:09.127Z"
   },
   {
    "duration": 22,
    "start_time": "2023-12-08T08:09:09.155Z"
   },
   {
    "duration": 27,
    "start_time": "2023-12-08T08:09:09.178Z"
   },
   {
    "duration": 11,
    "start_time": "2023-12-08T08:09:09.206Z"
   },
   {
    "duration": 22,
    "start_time": "2023-12-08T08:09:09.218Z"
   },
   {
    "duration": 18,
    "start_time": "2023-12-08T08:09:09.242Z"
   },
   {
    "duration": 11,
    "start_time": "2023-12-08T08:09:09.262Z"
   },
   {
    "duration": 27,
    "start_time": "2023-12-08T08:09:09.274Z"
   },
   {
    "duration": 22,
    "start_time": "2023-12-08T08:09:09.303Z"
   },
   {
    "duration": 24,
    "start_time": "2023-12-08T08:09:09.327Z"
   },
   {
    "duration": 18,
    "start_time": "2023-12-08T08:09:09.353Z"
   },
   {
    "duration": 446,
    "start_time": "2023-12-08T08:09:09.373Z"
   },
   {
    "duration": 209,
    "start_time": "2023-12-08T08:09:09.820Z"
   },
   {
    "duration": 397,
    "start_time": "2023-12-08T08:09:10.031Z"
   },
   {
    "duration": 226,
    "start_time": "2023-12-08T08:09:10.429Z"
   },
   {
    "duration": 280,
    "start_time": "2023-12-08T08:09:10.657Z"
   },
   {
    "duration": 148,
    "start_time": "2023-12-08T08:09:10.939Z"
   },
   {
    "duration": 127,
    "start_time": "2023-12-08T08:09:11.088Z"
   },
   {
    "duration": 6,
    "start_time": "2023-12-08T08:09:11.217Z"
   },
   {
    "duration": 150,
    "start_time": "2023-12-08T08:09:11.225Z"
   },
   {
    "duration": 131,
    "start_time": "2023-12-08T08:09:11.377Z"
   },
   {
    "duration": 5,
    "start_time": "2023-12-08T08:09:11.516Z"
   },
   {
    "duration": 526,
    "start_time": "2023-12-08T08:09:11.523Z"
   },
   {
    "duration": 167,
    "start_time": "2023-12-08T08:09:12.050Z"
   },
   {
    "duration": 11,
    "start_time": "2023-12-08T08:09:12.219Z"
   },
   {
    "duration": 41,
    "start_time": "2023-12-08T08:09:12.232Z"
   },
   {
    "duration": 13,
    "start_time": "2023-12-08T08:09:12.275Z"
   },
   {
    "duration": 3,
    "start_time": "2023-12-08T08:10:22.449Z"
   },
   {
    "duration": 231,
    "start_time": "2023-12-08T08:10:22.454Z"
   },
   {
    "duration": 11,
    "start_time": "2023-12-08T08:10:22.687Z"
   },
   {
    "duration": 12,
    "start_time": "2023-12-08T08:10:22.700Z"
   },
   {
    "duration": 11,
    "start_time": "2023-12-08T08:10:22.714Z"
   },
   {
    "duration": 12,
    "start_time": "2023-12-08T08:10:22.727Z"
   },
   {
    "duration": 14,
    "start_time": "2023-12-08T08:10:22.741Z"
   },
   {
    "duration": 15,
    "start_time": "2023-12-08T08:10:22.757Z"
   },
   {
    "duration": 21,
    "start_time": "2023-12-08T08:10:22.773Z"
   },
   {
    "duration": 21,
    "start_time": "2023-12-08T08:10:22.796Z"
   },
   {
    "duration": 10,
    "start_time": "2023-12-08T08:10:22.818Z"
   },
   {
    "duration": 12,
    "start_time": "2023-12-08T08:10:22.830Z"
   },
   {
    "duration": 12,
    "start_time": "2023-12-08T08:10:22.844Z"
   },
   {
    "duration": 28,
    "start_time": "2023-12-08T08:10:22.860Z"
   },
   {
    "duration": 17,
    "start_time": "2023-12-08T08:10:22.890Z"
   },
   {
    "duration": 8,
    "start_time": "2023-12-08T08:10:22.909Z"
   },
   {
    "duration": 18,
    "start_time": "2023-12-08T08:10:22.919Z"
   },
   {
    "duration": 14,
    "start_time": "2023-12-08T08:10:22.938Z"
   },
   {
    "duration": 6,
    "start_time": "2023-12-08T08:10:22.954Z"
   },
   {
    "duration": 11,
    "start_time": "2023-12-08T08:10:22.962Z"
   },
   {
    "duration": 13,
    "start_time": "2023-12-08T08:10:22.975Z"
   },
   {
    "duration": 25,
    "start_time": "2023-12-08T08:10:22.990Z"
   },
   {
    "duration": 4,
    "start_time": "2023-12-08T08:10:23.016Z"
   },
   {
    "duration": 6,
    "start_time": "2023-12-08T08:10:23.022Z"
   },
   {
    "duration": 9,
    "start_time": "2023-12-08T08:10:23.029Z"
   },
   {
    "duration": 5,
    "start_time": "2023-12-08T08:10:23.039Z"
   },
   {
    "duration": 11,
    "start_time": "2023-12-08T08:10:23.045Z"
   },
   {
    "duration": 8,
    "start_time": "2023-12-08T08:10:23.058Z"
   },
   {
    "duration": 47,
    "start_time": "2023-12-08T08:10:23.067Z"
   },
   {
    "duration": 8,
    "start_time": "2023-12-08T08:10:23.116Z"
   },
   {
    "duration": 480,
    "start_time": "2023-12-08T08:10:23.125Z"
   },
   {
    "duration": 216,
    "start_time": "2023-12-08T08:10:23.607Z"
   },
   {
    "duration": 330,
    "start_time": "2023-12-08T08:10:23.825Z"
   },
   {
    "duration": 222,
    "start_time": "2023-12-08T08:10:24.157Z"
   },
   {
    "duration": 337,
    "start_time": "2023-12-08T08:10:24.381Z"
   },
   {
    "duration": 153,
    "start_time": "2023-12-08T08:10:24.720Z"
   },
   {
    "duration": 141,
    "start_time": "2023-12-08T08:10:24.874Z"
   },
   {
    "duration": 6,
    "start_time": "2023-12-08T08:10:25.017Z"
   },
   {
    "duration": 147,
    "start_time": "2023-12-08T08:10:25.024Z"
   },
   {
    "duration": 246,
    "start_time": "2023-12-08T08:10:25.173Z"
   },
   {
    "duration": 5,
    "start_time": "2023-12-08T08:10:25.424Z"
   },
   {
    "duration": 242,
    "start_time": "2023-12-08T08:10:25.430Z"
   },
   {
    "duration": 184,
    "start_time": "2023-12-08T08:10:25.674Z"
   },
   {
    "duration": 10,
    "start_time": "2023-12-08T08:10:25.860Z"
   },
   {
    "duration": 69,
    "start_time": "2023-12-08T08:10:25.872Z"
   },
   {
    "duration": 13,
    "start_time": "2023-12-08T08:10:25.943Z"
   },
   {
    "duration": 3,
    "start_time": "2023-12-08T08:12:18.980Z"
   },
   {
    "duration": 204,
    "start_time": "2023-12-08T08:12:18.985Z"
   },
   {
    "duration": 10,
    "start_time": "2023-12-08T08:12:19.191Z"
   },
   {
    "duration": 38,
    "start_time": "2023-12-08T08:12:19.203Z"
   },
   {
    "duration": 49,
    "start_time": "2023-12-08T08:12:19.244Z"
   },
   {
    "duration": 35,
    "start_time": "2023-12-08T08:12:19.296Z"
   },
   {
    "duration": 58,
    "start_time": "2023-12-08T08:12:19.333Z"
   },
   {
    "duration": 30,
    "start_time": "2023-12-08T08:12:19.392Z"
   },
   {
    "duration": 39,
    "start_time": "2023-12-08T08:12:19.424Z"
   },
   {
    "duration": 30,
    "start_time": "2023-12-08T08:12:19.465Z"
   },
   {
    "duration": 40,
    "start_time": "2023-12-08T08:12:19.498Z"
   },
   {
    "duration": 34,
    "start_time": "2023-12-08T08:12:19.539Z"
   },
   {
    "duration": 36,
    "start_time": "2023-12-08T08:12:19.575Z"
   },
   {
    "duration": 38,
    "start_time": "2023-12-08T08:12:19.612Z"
   },
   {
    "duration": 41,
    "start_time": "2023-12-08T08:12:19.652Z"
   },
   {
    "duration": 42,
    "start_time": "2023-12-08T08:12:19.696Z"
   },
   {
    "duration": 37,
    "start_time": "2023-12-08T08:12:19.739Z"
   },
   {
    "duration": 33,
    "start_time": "2023-12-08T08:12:19.778Z"
   },
   {
    "duration": 55,
    "start_time": "2023-12-08T08:12:19.813Z"
   },
   {
    "duration": 51,
    "start_time": "2023-12-08T08:12:19.870Z"
   },
   {
    "duration": 34,
    "start_time": "2023-12-08T08:12:19.922Z"
   },
   {
    "duration": 45,
    "start_time": "2023-12-08T08:12:19.957Z"
   },
   {
    "duration": 38,
    "start_time": "2023-12-08T08:12:20.004Z"
   },
   {
    "duration": 47,
    "start_time": "2023-12-08T08:12:20.044Z"
   },
   {
    "duration": 36,
    "start_time": "2023-12-08T08:12:20.093Z"
   },
   {
    "duration": 57,
    "start_time": "2023-12-08T08:12:20.130Z"
   },
   {
    "duration": 64,
    "start_time": "2023-12-08T08:12:20.188Z"
   },
   {
    "duration": 57,
    "start_time": "2023-12-08T08:12:20.253Z"
   },
   {
    "duration": 46,
    "start_time": "2023-12-08T08:12:20.313Z"
   },
   {
    "duration": 71,
    "start_time": "2023-12-08T08:12:20.361Z"
   },
   {
    "duration": 501,
    "start_time": "2023-12-08T08:12:20.434Z"
   },
   {
    "duration": 225,
    "start_time": "2023-12-08T08:12:20.937Z"
   },
   {
    "duration": 280,
    "start_time": "2023-12-08T08:12:21.163Z"
   },
   {
    "duration": 227,
    "start_time": "2023-12-08T08:12:21.444Z"
   },
   {
    "duration": 301,
    "start_time": "2023-12-08T08:12:21.672Z"
   },
   {
    "duration": 132,
    "start_time": "2023-12-08T08:12:21.975Z"
   },
   {
    "duration": 136,
    "start_time": "2023-12-08T08:12:22.109Z"
   },
   {
    "duration": 7,
    "start_time": "2023-12-08T08:12:22.246Z"
   },
   {
    "duration": 136,
    "start_time": "2023-12-08T08:12:22.254Z"
   },
   {
    "duration": 142,
    "start_time": "2023-12-08T08:12:22.391Z"
   },
   {
    "duration": 4,
    "start_time": "2023-12-08T08:12:22.535Z"
   },
   {
    "duration": 239,
    "start_time": "2023-12-08T08:12:22.541Z"
   },
   {
    "duration": 168,
    "start_time": "2023-12-08T08:12:22.781Z"
   },
   {
    "duration": 10,
    "start_time": "2023-12-08T08:12:22.951Z"
   },
   {
    "duration": 50,
    "start_time": "2023-12-08T08:12:22.962Z"
   },
   {
    "duration": 15,
    "start_time": "2023-12-08T08:12:23.013Z"
   },
   {
    "duration": 1136,
    "start_time": "2023-12-09T01:43:00.341Z"
   },
   {
    "duration": 306,
    "start_time": "2023-12-09T01:43:01.478Z"
   },
   {
    "duration": 9,
    "start_time": "2023-12-09T01:43:01.785Z"
   },
   {
    "duration": 8,
    "start_time": "2023-12-09T01:43:01.796Z"
   },
   {
    "duration": 32,
    "start_time": "2023-12-09T01:43:01.805Z"
   },
   {
    "duration": 35,
    "start_time": "2023-12-09T01:43:01.838Z"
   },
   {
    "duration": 42,
    "start_time": "2023-12-09T01:43:01.874Z"
   },
   {
    "duration": 48,
    "start_time": "2023-12-09T01:43:01.917Z"
   },
   {
    "duration": 45,
    "start_time": "2023-12-09T01:43:01.966Z"
   },
   {
    "duration": 16,
    "start_time": "2023-12-09T01:43:02.014Z"
   },
   {
    "duration": 21,
    "start_time": "2023-12-09T01:43:02.031Z"
   },
   {
    "duration": 36,
    "start_time": "2023-12-09T01:43:02.054Z"
   },
   {
    "duration": 29,
    "start_time": "2023-12-09T01:43:02.092Z"
   },
   {
    "duration": 21,
    "start_time": "2023-12-09T01:43:02.122Z"
   },
   {
    "duration": 34,
    "start_time": "2023-12-09T01:43:02.145Z"
   },
   {
    "duration": 32,
    "start_time": "2023-12-09T01:43:02.181Z"
   },
   {
    "duration": 19,
    "start_time": "2023-12-09T01:43:02.215Z"
   },
   {
    "duration": 19,
    "start_time": "2023-12-09T01:43:02.235Z"
   },
   {
    "duration": 47,
    "start_time": "2023-12-09T01:43:02.255Z"
   },
   {
    "duration": 26,
    "start_time": "2023-12-09T01:43:02.303Z"
   },
   {
    "duration": 30,
    "start_time": "2023-12-09T01:43:02.331Z"
   },
   {
    "duration": 16,
    "start_time": "2023-12-09T01:43:02.362Z"
   },
   {
    "duration": 21,
    "start_time": "2023-12-09T01:43:02.380Z"
   },
   {
    "duration": 12,
    "start_time": "2023-12-09T01:43:02.402Z"
   },
   {
    "duration": 19,
    "start_time": "2023-12-09T01:43:02.416Z"
   },
   {
    "duration": 25,
    "start_time": "2023-12-09T01:43:02.437Z"
   },
   {
    "duration": 22,
    "start_time": "2023-12-09T01:43:02.463Z"
   },
   {
    "duration": 20,
    "start_time": "2023-12-09T01:43:02.489Z"
   },
   {
    "duration": 17,
    "start_time": "2023-12-09T01:43:02.511Z"
   },
   {
    "duration": 37,
    "start_time": "2023-12-09T01:43:02.529Z"
   },
   {
    "duration": 462,
    "start_time": "2023-12-09T01:43:02.567Z"
   },
   {
    "duration": 177,
    "start_time": "2023-12-09T01:43:03.030Z"
   },
   {
    "duration": 318,
    "start_time": "2023-12-09T01:43:03.208Z"
   },
   {
    "duration": 168,
    "start_time": "2023-12-09T01:43:03.527Z"
   },
   {
    "duration": 294,
    "start_time": "2023-12-09T01:43:03.697Z"
   },
   {
    "duration": 107,
    "start_time": "2023-12-09T01:43:03.993Z"
   },
   {
    "duration": 104,
    "start_time": "2023-12-09T01:43:04.102Z"
   },
   {
    "duration": 10,
    "start_time": "2023-12-09T01:43:04.208Z"
   },
   {
    "duration": 149,
    "start_time": "2023-12-09T01:43:04.219Z"
   },
   {
    "duration": 98,
    "start_time": "2023-12-09T01:43:04.369Z"
   },
   {
    "duration": 3,
    "start_time": "2023-12-09T01:43:04.468Z"
   },
   {
    "duration": 183,
    "start_time": "2023-12-09T01:43:04.473Z"
   },
   {
    "duration": 137,
    "start_time": "2023-12-09T01:43:04.658Z"
   },
   {
    "duration": 8,
    "start_time": "2023-12-09T01:43:04.797Z"
   },
   {
    "duration": 33,
    "start_time": "2023-12-09T01:43:04.814Z"
   },
   {
    "duration": 12,
    "start_time": "2023-12-09T01:43:04.848Z"
   },
   {
    "duration": 981,
    "start_time": "2023-12-09T01:44:14.870Z"
   },
   {
    "duration": 216,
    "start_time": "2023-12-09T01:44:15.852Z"
   },
   {
    "duration": 9,
    "start_time": "2023-12-09T01:44:16.069Z"
   },
   {
    "duration": 2,
    "start_time": "2023-12-09T01:44:16.080Z"
   },
   {
    "duration": 6,
    "start_time": "2023-12-09T01:44:16.083Z"
   },
   {
    "duration": 24,
    "start_time": "2023-12-09T01:44:16.090Z"
   },
   {
    "duration": 14,
    "start_time": "2023-12-09T01:44:16.116Z"
   },
   {
    "duration": 4,
    "start_time": "2023-12-09T01:44:16.132Z"
   },
   {
    "duration": 9,
    "start_time": "2023-12-09T01:44:16.137Z"
   },
   {
    "duration": 2,
    "start_time": "2023-12-09T01:44:16.148Z"
   },
   {
    "duration": 12,
    "start_time": "2023-12-09T01:44:16.151Z"
   },
   {
    "duration": 13,
    "start_time": "2023-12-09T01:44:16.164Z"
   },
   {
    "duration": 5,
    "start_time": "2023-12-09T01:44:16.178Z"
   },
   {
    "duration": 7,
    "start_time": "2023-12-09T01:44:16.184Z"
   },
   {
    "duration": 15,
    "start_time": "2023-12-09T01:44:16.193Z"
   },
   {
    "duration": 6,
    "start_time": "2023-12-09T01:44:16.209Z"
   },
   {
    "duration": 9,
    "start_time": "2023-12-09T01:44:16.216Z"
   },
   {
    "duration": 5,
    "start_time": "2023-12-09T01:44:16.226Z"
   },
   {
    "duration": 4,
    "start_time": "2023-12-09T01:44:16.232Z"
   },
   {
    "duration": 7,
    "start_time": "2023-12-09T01:44:16.237Z"
   },
   {
    "duration": 8,
    "start_time": "2023-12-09T01:44:16.245Z"
   },
   {
    "duration": 8,
    "start_time": "2023-12-09T01:44:16.255Z"
   },
   {
    "duration": 4,
    "start_time": "2023-12-09T01:44:16.265Z"
   },
   {
    "duration": 45,
    "start_time": "2023-12-09T01:44:16.270Z"
   },
   {
    "duration": 4,
    "start_time": "2023-12-09T01:44:16.316Z"
   },
   {
    "duration": 3,
    "start_time": "2023-12-09T01:44:16.321Z"
   },
   {
    "duration": 7,
    "start_time": "2023-12-09T01:44:16.325Z"
   },
   {
    "duration": 6,
    "start_time": "2023-12-09T01:44:16.335Z"
   },
   {
    "duration": 6,
    "start_time": "2023-12-09T01:44:16.342Z"
   },
   {
    "duration": 7,
    "start_time": "2023-12-09T01:44:16.349Z"
   },
   {
    "duration": 492,
    "start_time": "2023-12-09T01:44:16.357Z"
   },
   {
    "duration": 165,
    "start_time": "2023-12-09T01:44:16.850Z"
   },
   {
    "duration": 269,
    "start_time": "2023-12-09T01:44:17.016Z"
   },
   {
    "duration": 174,
    "start_time": "2023-12-09T01:44:17.286Z"
   },
   {
    "duration": 244,
    "start_time": "2023-12-09T01:44:17.461Z"
   },
   {
    "duration": 115,
    "start_time": "2023-12-09T01:44:17.707Z"
   },
   {
    "duration": 109,
    "start_time": "2023-12-09T01:44:17.823Z"
   },
   {
    "duration": 6,
    "start_time": "2023-12-09T01:44:17.933Z"
   },
   {
    "duration": 141,
    "start_time": "2023-12-09T01:44:17.940Z"
   },
   {
    "duration": 102,
    "start_time": "2023-12-09T01:44:18.082Z"
   },
   {
    "duration": 3,
    "start_time": "2023-12-09T01:44:18.186Z"
   },
   {
    "duration": 198,
    "start_time": "2023-12-09T01:44:18.191Z"
   },
   {
    "duration": 139,
    "start_time": "2023-12-09T01:44:18.390Z"
   },
   {
    "duration": 8,
    "start_time": "2023-12-09T01:44:18.530Z"
   },
   {
    "duration": 25,
    "start_time": "2023-12-09T01:44:18.539Z"
   },
   {
    "duration": 14,
    "start_time": "2023-12-09T01:44:18.565Z"
   },
   {
    "duration": 1236,
    "start_time": "2023-12-09T03:50:22.226Z"
   },
   {
    "duration": 370,
    "start_time": "2023-12-09T03:50:23.463Z"
   },
   {
    "duration": 10,
    "start_time": "2023-12-09T03:50:23.834Z"
   },
   {
    "duration": 5,
    "start_time": "2023-12-09T03:50:23.845Z"
   },
   {
    "duration": 11,
    "start_time": "2023-12-09T03:50:23.851Z"
   },
   {
    "duration": 6,
    "start_time": "2023-12-09T03:50:23.863Z"
   },
   {
    "duration": 13,
    "start_time": "2023-12-09T03:50:23.870Z"
   },
   {
    "duration": 5,
    "start_time": "2023-12-09T03:50:23.885Z"
   },
   {
    "duration": 11,
    "start_time": "2023-12-09T03:50:23.891Z"
   },
   {
    "duration": 4,
    "start_time": "2023-12-09T03:50:23.904Z"
   },
   {
    "duration": 7,
    "start_time": "2023-12-09T03:50:23.910Z"
   },
   {
    "duration": 8,
    "start_time": "2023-12-09T03:50:23.918Z"
   },
   {
    "duration": 5,
    "start_time": "2023-12-09T03:50:23.928Z"
   },
   {
    "duration": 8,
    "start_time": "2023-12-09T03:50:23.934Z"
   },
   {
    "duration": 4,
    "start_time": "2023-12-09T03:50:23.943Z"
   },
   {
    "duration": 4,
    "start_time": "2023-12-09T03:50:23.948Z"
   },
   {
    "duration": 7,
    "start_time": "2023-12-09T03:50:23.953Z"
   },
   {
    "duration": 8,
    "start_time": "2023-12-09T03:50:23.961Z"
   },
   {
    "duration": 3,
    "start_time": "2023-12-09T03:50:23.970Z"
   },
   {
    "duration": 7,
    "start_time": "2023-12-09T03:50:23.974Z"
   },
   {
    "duration": 39,
    "start_time": "2023-12-09T03:50:23.982Z"
   },
   {
    "duration": 7,
    "start_time": "2023-12-09T03:50:24.022Z"
   },
   {
    "duration": 8,
    "start_time": "2023-12-09T03:50:24.030Z"
   },
   {
    "duration": 6,
    "start_time": "2023-12-09T03:50:24.039Z"
   },
   {
    "duration": 4,
    "start_time": "2023-12-09T03:50:24.046Z"
   },
   {
    "duration": 3,
    "start_time": "2023-12-09T03:50:24.051Z"
   },
   {
    "duration": 8,
    "start_time": "2023-12-09T03:50:24.055Z"
   },
   {
    "duration": 6,
    "start_time": "2023-12-09T03:50:24.067Z"
   },
   {
    "duration": 8,
    "start_time": "2023-12-09T03:50:24.074Z"
   },
   {
    "duration": 36,
    "start_time": "2023-12-09T03:50:24.083Z"
   },
   {
    "duration": 459,
    "start_time": "2023-12-09T03:50:24.120Z"
   },
   {
    "duration": 172,
    "start_time": "2023-12-09T03:50:24.581Z"
   },
   {
    "duration": 276,
    "start_time": "2023-12-09T03:50:24.754Z"
   },
   {
    "duration": 188,
    "start_time": "2023-12-09T03:50:25.031Z"
   },
   {
    "duration": 280,
    "start_time": "2023-12-09T03:50:25.220Z"
   },
   {
    "duration": 107,
    "start_time": "2023-12-09T03:50:25.501Z"
   },
   {
    "duration": 147,
    "start_time": "2023-12-09T03:50:25.615Z"
   },
   {
    "duration": 5,
    "start_time": "2023-12-09T03:50:25.763Z"
   },
   {
    "duration": 106,
    "start_time": "2023-12-09T03:50:25.769Z"
   },
   {
    "duration": 98,
    "start_time": "2023-12-09T03:50:25.876Z"
   },
   {
    "duration": 3,
    "start_time": "2023-12-09T03:50:25.975Z"
   },
   {
    "duration": 187,
    "start_time": "2023-12-09T03:50:25.979Z"
   },
   {
    "duration": 127,
    "start_time": "2023-12-09T03:50:26.167Z"
   },
   {
    "duration": 7,
    "start_time": "2023-12-09T03:50:26.296Z"
   },
   {
    "duration": 27,
    "start_time": "2023-12-09T03:50:26.315Z"
   },
   {
    "duration": 11,
    "start_time": "2023-12-09T03:50:26.343Z"
   },
   {
    "duration": 988,
    "start_time": "2023-12-09T03:52:22.264Z"
   },
   {
    "duration": 169,
    "start_time": "2023-12-09T03:52:23.253Z"
   },
   {
    "duration": 10,
    "start_time": "2023-12-09T03:52:23.423Z"
   },
   {
    "duration": 23,
    "start_time": "2023-12-09T03:52:23.435Z"
   },
   {
    "duration": 13,
    "start_time": "2023-12-09T03:52:23.459Z"
   },
   {
    "duration": 34,
    "start_time": "2023-12-09T03:52:23.473Z"
   },
   {
    "duration": 24,
    "start_time": "2023-12-09T03:52:23.508Z"
   },
   {
    "duration": 9,
    "start_time": "2023-12-09T03:52:23.533Z"
   },
   {
    "duration": 7,
    "start_time": "2023-12-09T03:52:23.543Z"
   },
   {
    "duration": 2,
    "start_time": "2023-12-09T03:52:23.552Z"
   },
   {
    "duration": 7,
    "start_time": "2023-12-09T03:52:23.556Z"
   },
   {
    "duration": 18,
    "start_time": "2023-12-09T03:52:23.564Z"
   },
   {
    "duration": 10,
    "start_time": "2023-12-09T03:52:23.583Z"
   },
   {
    "duration": 35,
    "start_time": "2023-12-09T03:52:23.594Z"
   },
   {
    "duration": 5,
    "start_time": "2023-12-09T03:52:23.630Z"
   },
   {
    "duration": 25,
    "start_time": "2023-12-09T03:52:23.637Z"
   },
   {
    "duration": 10,
    "start_time": "2023-12-09T03:52:23.663Z"
   },
   {
    "duration": 23,
    "start_time": "2023-12-09T03:52:23.674Z"
   },
   {
    "duration": 12,
    "start_time": "2023-12-09T03:52:23.698Z"
   },
   {
    "duration": 22,
    "start_time": "2023-12-09T03:52:23.711Z"
   },
   {
    "duration": 12,
    "start_time": "2023-12-09T03:52:23.734Z"
   },
   {
    "duration": 20,
    "start_time": "2023-12-09T03:52:23.747Z"
   },
   {
    "duration": 18,
    "start_time": "2023-12-09T03:52:23.768Z"
   },
   {
    "duration": 26,
    "start_time": "2023-12-09T03:52:23.787Z"
   },
   {
    "duration": 17,
    "start_time": "2023-12-09T03:52:23.814Z"
   },
   {
    "duration": 5,
    "start_time": "2023-12-09T03:52:23.833Z"
   },
   {
    "duration": 14,
    "start_time": "2023-12-09T03:52:23.839Z"
   },
   {
    "duration": 6,
    "start_time": "2023-12-09T03:52:23.855Z"
   },
   {
    "duration": 12,
    "start_time": "2023-12-09T03:52:23.863Z"
   },
   {
    "duration": 39,
    "start_time": "2023-12-09T03:52:23.876Z"
   },
   {
    "duration": 481,
    "start_time": "2023-12-09T03:52:23.916Z"
   },
   {
    "duration": 169,
    "start_time": "2023-12-09T03:52:24.399Z"
   },
   {
    "duration": 260,
    "start_time": "2023-12-09T03:52:24.569Z"
   },
   {
    "duration": 180,
    "start_time": "2023-12-09T03:52:24.830Z"
   },
   {
    "duration": 276,
    "start_time": "2023-12-09T03:52:25.011Z"
   },
   {
    "duration": 113,
    "start_time": "2023-12-09T03:52:25.289Z"
   },
   {
    "duration": 112,
    "start_time": "2023-12-09T03:52:25.403Z"
   },
   {
    "duration": 6,
    "start_time": "2023-12-09T03:52:25.517Z"
   },
   {
    "duration": 158,
    "start_time": "2023-12-09T03:52:25.524Z"
   },
   {
    "duration": 106,
    "start_time": "2023-12-09T03:52:25.683Z"
   },
   {
    "duration": 4,
    "start_time": "2023-12-09T03:52:25.790Z"
   },
   {
    "duration": 193,
    "start_time": "2023-12-09T03:52:25.795Z"
   },
   {
    "duration": 133,
    "start_time": "2023-12-09T03:52:25.989Z"
   },
   {
    "duration": 8,
    "start_time": "2023-12-09T03:52:26.123Z"
   },
   {
    "duration": 25,
    "start_time": "2023-12-09T03:52:26.132Z"
   },
   {
    "duration": 10,
    "start_time": "2023-12-09T03:52:26.159Z"
   }
  ],
  "kernelspec": {
   "display_name": "Python 3 (ipykernel)",
   "language": "python",
   "name": "python3"
  },
  "language_info": {
   "codemirror_mode": {
    "name": "ipython",
    "version": 3
   },
   "file_extension": ".py",
   "mimetype": "text/x-python",
   "name": "python",
   "nbconvert_exporter": "python",
   "pygments_lexer": "ipython3",
   "version": "3.11.4"
  },
  "toc": {
   "base_numbering": 1,
   "nav_menu": {},
   "number_sections": true,
   "sideBar": true,
   "skip_h1_title": true,
   "title_cell": "Table of Contents",
   "title_sidebar": "Contents",
   "toc_cell": false,
   "toc_position": {},
   "toc_section_display": true,
   "toc_window_display": false
  }
 },
 "nbformat": 4,
 "nbformat_minor": 2
}
