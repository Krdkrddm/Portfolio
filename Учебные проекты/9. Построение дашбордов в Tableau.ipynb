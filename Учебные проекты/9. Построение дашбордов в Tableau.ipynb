{
 "cells": [
  {
   "cell_type": "markdown",
   "id": "3aa59476",
   "metadata": {},
   "source": [
    "# Проект: Построение дашбордов в Tableau"
   ]
  },
  {
   "cell_type": "markdown",
   "id": "9c150d92",
   "metadata": {},
   "source": [
    "В этом проекте создадим дашборд на основе данных о конференциях TED. Проведем исследование истории TED-конференций с помощью Tableau."
   ]
  },
  {
   "cell_type": "markdown",
   "id": "6726b5ec",
   "metadata": {},
   "source": [
    "Файлы tableau_project_data_1.csv, tableau_project_data_2.csv, tableau_project_data_3.csv хранят данные выступлений. У них одинаковая структура:\n",
    "<br>\n",
    "talk_id — идентификатор выступления;\n",
    "<br>\n",
    "url — ссылка на запись выступления;\n",
    "<br>\n",
    "title — название выступления;\n",
    "<br>\n",
    "description — краткое описание;\n",
    "<br>\n",
    "film_date — дата записи выступления;\n",
    "<br>\n",
    "duration — длительность в секундах;\n",
    "<br>\n",
    "views — количество просмотров;\n",
    "<br>\n",
    "main_tag — основная категория, к которой относится выступление;\n",
    "<br>\n",
    "speaker_id — уникальный идентификатор автора выступления;\n",
    "<br>\n",
    "laughter_count — количество раз, когда аудитория смеялась в ходе выступления;\n",
    "<br>\n",
    "applause_count — количество раз, когда аудитория аплодировала в ходе выступления;\n",
    "<br>\n",
    "language — язык, на котором велось выступление;\n",
    "<br>\n",
    "event_id — уникальный идентификатор конференции.\n",
    "<br>\n",
    "Файл tableau_project_event_dict.csv — справочник конференций. Описание таблицы:\n",
    "<br>\n",
    "conf_id — уникальный идентификатор конференции;\n",
    "<br>\n",
    "event — название конференции;\n",
    "<br>\n",
    "country — страна проведения конференции.\n",
    "<br>\n",
    "Файл tableau_project_speakers_dict.csv — справочник авторов выступления. Описание таблицы:\n",
    "<br>\n",
    "author_id — уникальный идентификатор автора выступления;\n",
    "<br>\n",
    "speaker_name — имя автора;\n",
    "<br>\n",
    "speaker_occupation — профессиональная область автора;\n",
    "<br>\n",
    "speaker_description — описание профессиональной деятельности автора."
   ]
  },
  {
   "cell_type": "markdown",
   "id": "2e43142d",
   "metadata": {},
   "source": [
    "Шаг 1. Загрузим и изучим данные.\n",
    "Загрузим данные в Tableau.\n",
    "\n",
    "Шаг 2. Построим дашборд «История выступлений»\n",
    "\n",
    "Шаг 3. Созданим дашборд «Тематики выступлений»\n",
    "\n",
    "Шаг 4. Созданим дашборд «Авторы выступлений»\n",
    "\n",
    "Шаг 5. Созданим дашборд «Показатели иподдержки выступающих по странам»\n",
    "\n",
    "Шаг 6. Создание презентации\n"
   ]
  },
  {
   "cell_type": "markdown",
   "id": "79734bb3",
   "metadata": {},
   "source": [
    "### Загрузим и изучим данные"
   ]
  },
  {
   "cell_type": "code",
   "execution_count": 1,
   "id": "9022dad1",
   "metadata": {},
   "outputs": [],
   "source": [
    "import pandas as pd\n",
    "import matplotlib.pyplot as plt"
   ]
  },
  {
   "cell_type": "code",
   "execution_count": 2,
   "id": "6457d304",
   "metadata": {},
   "outputs": [],
   "source": [
    "try:\n",
    "    df1 = pd.read_csv(r'C:\\Users\\dimak\\Downloads\\tableau_project_data_1.csv')\n",
    "    df2 = pd.read_csv(r'C:\\Users\\dimak\\Downloads\\tableau_project_data_2.csv')\n",
    "    df3 = pd.read_csv(r'C:\\Users\\dimak\\Downloads\\tableau_project_data_3.csv')\n",
    "except:\n",
    "    df1 = pd.read_csv('/datasets/tableau_project_data_1.csv')\n",
    "    df2 = pd.read_csv('/datasets/tableau_project_data_2.csv')\n",
    "    df3 = pd.read_csv('/datasets/tableau_project_data_3.csv')"
   ]
  },
  {
   "cell_type": "markdown",
   "id": "ed71c5e1",
   "metadata": {},
   "source": [
    "Объеденим датасеты"
   ]
  },
  {
   "cell_type": "code",
   "execution_count": 3,
   "id": "b959c09c",
   "metadata": {},
   "outputs": [],
   "source": [
    "df = pd.concat([df1,df2,df3])"
   ]
  },
  {
   "cell_type": "code",
   "execution_count": 4,
   "id": "0e838b08",
   "metadata": {},
   "outputs": [],
   "source": [
    "df.to_csv(r'C:\\Users\\dimak\\Downloads\\tableau_project_data.csv')"
   ]
  },
  {
   "cell_type": "code",
   "execution_count": 5,
   "id": "1b37ca8d",
   "metadata": {},
   "outputs": [
    {
     "name": "stdout",
     "output_type": "stream",
     "text": [
      "<class 'pandas.core.frame.DataFrame'>\n",
      "Int64Index: 3456 entries, 0 to 1151\n",
      "Data columns (total 13 columns):\n",
      " #   Column          Non-Null Count  Dtype  \n",
      "---  ------          --------------  -----  \n",
      " 0   talk_id         3456 non-null   int64  \n",
      " 1   url             3456 non-null   object \n",
      " 2   title           3456 non-null   object \n",
      " 3   description     3456 non-null   object \n",
      " 4   film_date       3456 non-null   object \n",
      " 5   duration        3456 non-null   int64  \n",
      " 6   views           3456 non-null   int64  \n",
      " 7   main_tag        3454 non-null   object \n",
      " 8   speaker_id      3456 non-null   int64  \n",
      " 9   laughter_count  3139 non-null   float64\n",
      " 10  applause_count  3139 non-null   float64\n",
      " 11  language        3456 non-null   object \n",
      " 12  event_id        3456 non-null   int64  \n",
      "dtypes: float64(2), int64(5), object(6)\n",
      "memory usage: 378.0+ KB\n"
     ]
    }
   ],
   "source": [
    "df.info()"
   ]
  },
  {
   "cell_type": "markdown",
   "id": "67421626",
   "metadata": {},
   "source": [
    "Всего 13 колонок и 3456 рядов"
   ]
  },
  {
   "cell_type": "code",
   "execution_count": 6,
   "id": "5acafd63",
   "metadata": {},
   "outputs": [
    {
     "data": {
      "text/html": [
       "<div>\n",
       "<style scoped>\n",
       "    .dataframe tbody tr th:only-of-type {\n",
       "        vertical-align: middle;\n",
       "    }\n",
       "\n",
       "    .dataframe tbody tr th {\n",
       "        vertical-align: top;\n",
       "    }\n",
       "\n",
       "    .dataframe thead th {\n",
       "        text-align: right;\n",
       "    }\n",
       "</style>\n",
       "<table border=\"1\" class=\"dataframe\">\n",
       "  <thead>\n",
       "    <tr style=\"text-align: right;\">\n",
       "      <th></th>\n",
       "      <th>talk_id</th>\n",
       "      <th>url</th>\n",
       "      <th>title</th>\n",
       "      <th>description</th>\n",
       "      <th>film_date</th>\n",
       "      <th>duration</th>\n",
       "      <th>views</th>\n",
       "      <th>main_tag</th>\n",
       "      <th>speaker_id</th>\n",
       "      <th>laughter_count</th>\n",
       "      <th>applause_count</th>\n",
       "      <th>language</th>\n",
       "      <th>event_id</th>\n",
       "    </tr>\n",
       "  </thead>\n",
       "  <tbody>\n",
       "    <tr>\n",
       "      <th>0</th>\n",
       "      <td>84216</td>\n",
       "      <td>https://www.ted.com/talks/christina_costa_how_...</td>\n",
       "      <td>How gratitude rewires your brain</td>\n",
       "      <td>When a psychologist who studies well-being end...</td>\n",
       "      <td>2021-03-27</td>\n",
       "      <td>600</td>\n",
       "      <td>718724</td>\n",
       "      <td>health</td>\n",
       "      <td>6625</td>\n",
       "      <td>0.0</td>\n",
       "      <td>0.0</td>\n",
       "      <td>English</td>\n",
       "      <td>309</td>\n",
       "    </tr>\n",
       "    <tr>\n",
       "      <th>1</th>\n",
       "      <td>66033</td>\n",
       "      <td>https://www.ted.com/talks/caitlin_holman_how_g...</td>\n",
       "      <td>How game design can help schooling</td>\n",
       "      <td>The world is changing rapidly but models of de...</td>\n",
       "      <td>2017-02-08</td>\n",
       "      <td>1043</td>\n",
       "      <td>46441</td>\n",
       "      <td>education</td>\n",
       "      <td>53443</td>\n",
       "      <td>NaN</td>\n",
       "      <td>NaN</td>\n",
       "      <td>English</td>\n",
       "      <td>309</td>\n",
       "    </tr>\n",
       "    <tr>\n",
       "      <th>2</th>\n",
       "      <td>21933</td>\n",
       "      <td>https://www.ted.com/talks/terri_conley_we_need...</td>\n",
       "      <td>We need to rethink casual sex</td>\n",
       "      <td>Social psychologist and sex researcher Terri C...</td>\n",
       "      <td>2016-04-01</td>\n",
       "      <td>1091</td>\n",
       "      <td>273438</td>\n",
       "      <td>society</td>\n",
       "      <td>5107</td>\n",
       "      <td>0.0</td>\n",
       "      <td>0.0</td>\n",
       "      <td>English</td>\n",
       "      <td>309</td>\n",
       "    </tr>\n",
       "    <tr>\n",
       "      <th>3</th>\n",
       "      <td>2022</td>\n",
       "      <td>https://www.ted.com/talks/anne_curzan_what_mak...</td>\n",
       "      <td>What makes a word \"real\"?</td>\n",
       "      <td>One could argue that slang words like ‘hangry,...</td>\n",
       "      <td>2014-03-15</td>\n",
       "      <td>1033</td>\n",
       "      <td>2031550</td>\n",
       "      <td>culture</td>\n",
       "      <td>1938</td>\n",
       "      <td>12.0</td>\n",
       "      <td>4.0</td>\n",
       "      <td>English</td>\n",
       "      <td>309</td>\n",
       "    </tr>\n",
       "    <tr>\n",
       "      <th>4</th>\n",
       "      <td>83538</td>\n",
       "      <td>https://www.ted.com/talks/jane_walsh_the_rise_...</td>\n",
       "      <td>The rise of predatory scams -- and how to prev...</td>\n",
       "      <td>Questionable phone calls, concerning emails, h...</td>\n",
       "      <td>2021-06-26</td>\n",
       "      <td>833</td>\n",
       "      <td>802109</td>\n",
       "      <td>technology</td>\n",
       "      <td>6606</td>\n",
       "      <td>0.0</td>\n",
       "      <td>0.0</td>\n",
       "      <td>English</td>\n",
       "      <td>233</td>\n",
       "    </tr>\n",
       "    <tr>\n",
       "      <th>5</th>\n",
       "      <td>81821</td>\n",
       "      <td>https://www.ted.com/talks/rebecca_galemba_how_...</td>\n",
       "      <td>How employers steal from workers -- and get aw...</td>\n",
       "      <td>When you work, you expect to be paid for it. E...</td>\n",
       "      <td>2021-03-20</td>\n",
       "      <td>578</td>\n",
       "      <td>1199939</td>\n",
       "      <td>economics</td>\n",
       "      <td>6540</td>\n",
       "      <td>0.0</td>\n",
       "      <td>0.0</td>\n",
       "      <td>English</td>\n",
       "      <td>233</td>\n",
       "    </tr>\n",
       "    <tr>\n",
       "      <th>6</th>\n",
       "      <td>80115</td>\n",
       "      <td>https://www.ted.com/talks/kevin_j_krizek_how_c...</td>\n",
       "      <td>How COVID-19 reshaped US cities</td>\n",
       "      <td>The pandemic spurred an unprecedented reclamat...</td>\n",
       "      <td>2021-03-20</td>\n",
       "      <td>581</td>\n",
       "      <td>1306282</td>\n",
       "      <td>cities</td>\n",
       "      <td>6484</td>\n",
       "      <td>NaN</td>\n",
       "      <td>NaN</td>\n",
       "      <td>English</td>\n",
       "      <td>233</td>\n",
       "    </tr>\n",
       "    <tr>\n",
       "      <th>7</th>\n",
       "      <td>74616</td>\n",
       "      <td>https://www.ted.com/talks/katherine_m_gehl_us_...</td>\n",
       "      <td>US politics isn't broken. It's fixed</td>\n",
       "      <td>The \"broken\" US political system is actually w...</td>\n",
       "      <td>2020-12-05</td>\n",
       "      <td>1009</td>\n",
       "      <td>1264323</td>\n",
       "      <td>social change</td>\n",
       "      <td>6306</td>\n",
       "      <td>0.0</td>\n",
       "      <td>0.0</td>\n",
       "      <td>English</td>\n",
       "      <td>233</td>\n",
       "    </tr>\n",
       "    <tr>\n",
       "      <th>8</th>\n",
       "      <td>74282</td>\n",
       "      <td>https://www.ted.com/talks/amber_mcreynolds_an_...</td>\n",
       "      <td>An election system that puts voters (not polit...</td>\n",
       "      <td>From hours-long lines and limited polling loca...</td>\n",
       "      <td>2020-08-29</td>\n",
       "      <td>619</td>\n",
       "      <td>1288197</td>\n",
       "      <td>society</td>\n",
       "      <td>6301</td>\n",
       "      <td>0.0</td>\n",
       "      <td>0.0</td>\n",
       "      <td>English</td>\n",
       "      <td>233</td>\n",
       "    </tr>\n",
       "    <tr>\n",
       "      <th>9</th>\n",
       "      <td>75168</td>\n",
       "      <td>https://www.ted.com/talks/joan_c_williams_why_...</td>\n",
       "      <td>Why corporate diversity programs fail -- and h...</td>\n",
       "      <td>Companies in the US spend billions of dollars ...</td>\n",
       "      <td>2020-12-05</td>\n",
       "      <td>883</td>\n",
       "      <td>1252694</td>\n",
       "      <td>business</td>\n",
       "      <td>6314</td>\n",
       "      <td>0.0</td>\n",
       "      <td>0.0</td>\n",
       "      <td>English</td>\n",
       "      <td>233</td>\n",
       "    </tr>\n",
       "  </tbody>\n",
       "</table>\n",
       "</div>"
      ],
      "text/plain": [
       "   talk_id                                                url  \\\n",
       "0    84216  https://www.ted.com/talks/christina_costa_how_...   \n",
       "1    66033  https://www.ted.com/talks/caitlin_holman_how_g...   \n",
       "2    21933  https://www.ted.com/talks/terri_conley_we_need...   \n",
       "3     2022  https://www.ted.com/talks/anne_curzan_what_mak...   \n",
       "4    83538  https://www.ted.com/talks/jane_walsh_the_rise_...   \n",
       "5    81821  https://www.ted.com/talks/rebecca_galemba_how_...   \n",
       "6    80115  https://www.ted.com/talks/kevin_j_krizek_how_c...   \n",
       "7    74616  https://www.ted.com/talks/katherine_m_gehl_us_...   \n",
       "8    74282  https://www.ted.com/talks/amber_mcreynolds_an_...   \n",
       "9    75168  https://www.ted.com/talks/joan_c_williams_why_...   \n",
       "\n",
       "                                               title  \\\n",
       "0                   How gratitude rewires your brain   \n",
       "1                 How game design can help schooling   \n",
       "2                     We need to rethink casual sex    \n",
       "3                          What makes a word \"real\"?   \n",
       "4  The rise of predatory scams -- and how to prev...   \n",
       "5  How employers steal from workers -- and get aw...   \n",
       "6                    How COVID-19 reshaped US cities   \n",
       "7               US politics isn't broken. It's fixed   \n",
       "8  An election system that puts voters (not polit...   \n",
       "9  Why corporate diversity programs fail -- and h...   \n",
       "\n",
       "                                         description   film_date  duration  \\\n",
       "0  When a psychologist who studies well-being end...  2021-03-27       600   \n",
       "1  The world is changing rapidly but models of de...  2017-02-08      1043   \n",
       "2  Social psychologist and sex researcher Terri C...  2016-04-01      1091   \n",
       "3  One could argue that slang words like ‘hangry,...  2014-03-15      1033   \n",
       "4  Questionable phone calls, concerning emails, h...  2021-06-26       833   \n",
       "5  When you work, you expect to be paid for it. E...  2021-03-20       578   \n",
       "6  The pandemic spurred an unprecedented reclamat...  2021-03-20       581   \n",
       "7  The \"broken\" US political system is actually w...  2020-12-05      1009   \n",
       "8  From hours-long lines and limited polling loca...  2020-08-29       619   \n",
       "9  Companies in the US spend billions of dollars ...  2020-12-05       883   \n",
       "\n",
       "     views       main_tag  speaker_id  laughter_count  applause_count  \\\n",
       "0   718724         health        6625             0.0             0.0   \n",
       "1    46441      education       53443             NaN             NaN   \n",
       "2   273438        society        5107             0.0             0.0   \n",
       "3  2031550        culture        1938            12.0             4.0   \n",
       "4   802109     technology        6606             0.0             0.0   \n",
       "5  1199939      economics        6540             0.0             0.0   \n",
       "6  1306282         cities        6484             NaN             NaN   \n",
       "7  1264323  social change        6306             0.0             0.0   \n",
       "8  1288197        society        6301             0.0             0.0   \n",
       "9  1252694       business        6314             0.0             0.0   \n",
       "\n",
       "  language  event_id  \n",
       "0  English       309  \n",
       "1  English       309  \n",
       "2  English       309  \n",
       "3  English       309  \n",
       "4  English       233  \n",
       "5  English       233  \n",
       "6  English       233  \n",
       "7  English       233  \n",
       "8  English       233  \n",
       "9  English       233  "
      ]
     },
     "execution_count": 6,
     "metadata": {},
     "output_type": "execute_result"
    }
   ],
   "source": [
    "df.head(10)"
   ]
  },
  {
   "cell_type": "code",
   "execution_count": 7,
   "id": "daaf4c76",
   "metadata": {},
   "outputs": [
    {
     "data": {
      "text/plain": [
       "science             729\n",
       "technology          613\n",
       "culture             462\n",
       "society             274\n",
       "global issues       203\n",
       "                   ... \n",
       "public health         1\n",
       "gender                1\n",
       "disability            1\n",
       "money                 1\n",
       "medical research      1\n",
       "Name: main_tag, Length: 80, dtype: int64"
      ]
     },
     "execution_count": 7,
     "metadata": {},
     "output_type": "execute_result"
    }
   ],
   "source": [
    "df['main_tag'].value_counts()"
   ]
  },
  {
   "cell_type": "code",
   "execution_count": 8,
   "id": "1fcff032",
   "metadata": {},
   "outputs": [],
   "source": [
    "try:\n",
    "    df1 = pd.read_csv(r'C:\\Users\\dimak\\Downloads\\tableau_project_event_dict.csv')\n",
    "    df2 = pd.read_csv(r'C:\\Users\\dimak\\Downloads\\tableau_project_speakers_dict.csv')\n",
    "except:\n",
    "    df1 = pd.read_csv('/datasets/tableau_project_event_dict.csv')\n",
    "    df2 = pd.read_csv('/datasets/tableau_project_speakers_dict.csv')"
   ]
  },
  {
   "cell_type": "code",
   "execution_count": 9,
   "id": "f4442599",
   "metadata": {},
   "outputs": [
    {
     "name": "stdout",
     "output_type": "stream",
     "text": [
      "<class 'pandas.core.frame.DataFrame'>\n",
      "RangeIndex: 327 entries, 0 to 326\n",
      "Data columns (total 3 columns):\n",
      " #   Column   Non-Null Count  Dtype \n",
      "---  ------   --------------  ----- \n",
      " 0   conf_id  327 non-null    int64 \n",
      " 1   event    327 non-null    object\n",
      " 2   country  327 non-null    object\n",
      "dtypes: int64(1), object(2)\n",
      "memory usage: 7.8+ KB\n"
     ]
    }
   ],
   "source": [
    " df1.info()"
   ]
  },
  {
   "cell_type": "markdown",
   "id": "9156d341",
   "metadata": {},
   "source": [
    "Всего 3 колонки и 327 рядов"
   ]
  },
  {
   "cell_type": "code",
   "execution_count": 10,
   "id": "0919acbf",
   "metadata": {},
   "outputs": [
    {
     "data": {
      "text/html": [
       "<div>\n",
       "<style scoped>\n",
       "    .dataframe tbody tr th:only-of-type {\n",
       "        vertical-align: middle;\n",
       "    }\n",
       "\n",
       "    .dataframe tbody tr th {\n",
       "        vertical-align: top;\n",
       "    }\n",
       "\n",
       "    .dataframe thead th {\n",
       "        text-align: right;\n",
       "    }\n",
       "</style>\n",
       "<table border=\"1\" class=\"dataframe\">\n",
       "  <thead>\n",
       "    <tr style=\"text-align: right;\">\n",
       "      <th></th>\n",
       "      <th>conf_id</th>\n",
       "      <th>event</th>\n",
       "      <th>country</th>\n",
       "    </tr>\n",
       "  </thead>\n",
       "  <tbody>\n",
       "    <tr>\n",
       "      <th>0</th>\n",
       "      <td>0</td>\n",
       "      <td>Arbejdsglaede Live</td>\n",
       "      <td>United States</td>\n",
       "    </tr>\n",
       "    <tr>\n",
       "      <th>1</th>\n",
       "      <td>1</td>\n",
       "      <td>Business Innovation Factory</td>\n",
       "      <td>United States</td>\n",
       "    </tr>\n",
       "    <tr>\n",
       "      <th>2</th>\n",
       "      <td>2</td>\n",
       "      <td>Chautauqua Institution</td>\n",
       "      <td>United States</td>\n",
       "    </tr>\n",
       "    <tr>\n",
       "      <th>3</th>\n",
       "      <td>3</td>\n",
       "      <td>DLD 2007</td>\n",
       "      <td>United States</td>\n",
       "    </tr>\n",
       "    <tr>\n",
       "      <th>4</th>\n",
       "      <td>4</td>\n",
       "      <td>EG 2007</td>\n",
       "      <td>United States</td>\n",
       "    </tr>\n",
       "  </tbody>\n",
       "</table>\n",
       "</div>"
      ],
      "text/plain": [
       "   conf_id                        event        country\n",
       "0        0           Arbejdsglaede Live  United States\n",
       "1        1  Business Innovation Factory  United States\n",
       "2        2       Chautauqua Institution  United States\n",
       "3        3                     DLD 2007  United States\n",
       "4        4                      EG 2007  United States"
      ]
     },
     "execution_count": 10,
     "metadata": {},
     "output_type": "execute_result"
    }
   ],
   "source": [
    " df1.head()"
   ]
  },
  {
   "cell_type": "code",
   "execution_count": 11,
   "id": "f3c0cbce",
   "metadata": {},
   "outputs": [
    {
     "name": "stdout",
     "output_type": "stream",
     "text": [
      "<class 'pandas.core.frame.DataFrame'>\n",
      "RangeIndex: 2971 entries, 0 to 2970\n",
      "Data columns (total 4 columns):\n",
      " #   Column               Non-Null Count  Dtype \n",
      "---  ------               --------------  ----- \n",
      " 0   author_id            2971 non-null   int64 \n",
      " 1   speaker_name         2971 non-null   object\n",
      " 2   speaker_occupation   2971 non-null   object\n",
      " 3   speaker_description  2958 non-null   object\n",
      "dtypes: int64(1), object(3)\n",
      "memory usage: 93.0+ KB\n"
     ]
    }
   ],
   "source": [
    "df2.info()"
   ]
  },
  {
   "cell_type": "markdown",
   "id": "f46cbb51",
   "metadata": {},
   "source": [
    "Всего 4 колонки и 2971 ряд"
   ]
  },
  {
   "cell_type": "code",
   "execution_count": 12,
   "id": "d6cb02bf",
   "metadata": {},
   "outputs": [
    {
     "data": {
      "text/html": [
       "<div>\n",
       "<style scoped>\n",
       "    .dataframe tbody tr th:only-of-type {\n",
       "        vertical-align: middle;\n",
       "    }\n",
       "\n",
       "    .dataframe tbody tr th {\n",
       "        vertical-align: top;\n",
       "    }\n",
       "\n",
       "    .dataframe thead th {\n",
       "        text-align: right;\n",
       "    }\n",
       "</style>\n",
       "<table border=\"1\" class=\"dataframe\">\n",
       "  <thead>\n",
       "    <tr style=\"text-align: right;\">\n",
       "      <th></th>\n",
       "      <th>author_id</th>\n",
       "      <th>speaker_name</th>\n",
       "      <th>speaker_occupation</th>\n",
       "      <th>speaker_description</th>\n",
       "    </tr>\n",
       "  </thead>\n",
       "  <tbody>\n",
       "    <tr>\n",
       "      <th>0</th>\n",
       "      <td>2</td>\n",
       "      <td>Al Gore</td>\n",
       "      <td>Climate advocate</td>\n",
       "      <td>Nobel Laureate Al Gore focused the world's att...</td>\n",
       "    </tr>\n",
       "    <tr>\n",
       "      <th>1</th>\n",
       "      <td>3</td>\n",
       "      <td>Amy Smith</td>\n",
       "      <td>inventor</td>\n",
       "      <td>Amy Smith designs cheap, practical fixes for t...</td>\n",
       "    </tr>\n",
       "    <tr>\n",
       "      <th>2</th>\n",
       "      <td>4</td>\n",
       "      <td>Ashraf Ghani</td>\n",
       "      <td>President of Afghanistan</td>\n",
       "      <td>Afghanistan's president Ashraf Ghani has initi...</td>\n",
       "    </tr>\n",
       "    <tr>\n",
       "      <th>3</th>\n",
       "      <td>5</td>\n",
       "      <td>Burt Rutan</td>\n",
       "      <td>Aircraft engineer</td>\n",
       "      <td>In 2004, legendary spacecraft designer Burt Ru...</td>\n",
       "    </tr>\n",
       "    <tr>\n",
       "      <th>4</th>\n",
       "      <td>6</td>\n",
       "      <td>Chris Bangle</td>\n",
       "      <td>Car designer</td>\n",
       "      <td>Car design is a ubiquitous but often overlooke...</td>\n",
       "    </tr>\n",
       "    <tr>\n",
       "      <th>5</th>\n",
       "      <td>7</td>\n",
       "      <td>Craig Venter</td>\n",
       "      <td>Biologist</td>\n",
       "      <td>In 2001, Craig Venter made headlines for seque...</td>\n",
       "    </tr>\n",
       "    <tr>\n",
       "      <th>6</th>\n",
       "      <td>8</td>\n",
       "      <td>David Pogue</td>\n",
       "      <td>Technology columnist</td>\n",
       "      <td>David Pogue is the personal technology columni...</td>\n",
       "    </tr>\n",
       "    <tr>\n",
       "      <th>7</th>\n",
       "      <td>9</td>\n",
       "      <td>David Rockwell</td>\n",
       "      <td>Architect</td>\n",
       "      <td>Architect David Rockwell draws on his love of ...</td>\n",
       "    </tr>\n",
       "    <tr>\n",
       "      <th>8</th>\n",
       "      <td>10</td>\n",
       "      <td>Dean Kamen</td>\n",
       "      <td>Inventor</td>\n",
       "      <td>Dean Kamen landed in the limelight with the Se...</td>\n",
       "    </tr>\n",
       "    <tr>\n",
       "      <th>9</th>\n",
       "      <td>11</td>\n",
       "      <td>Dean Ornish</td>\n",
       "      <td>Physician</td>\n",
       "      <td>Dean Ornish is a clinical professor at UCSF an...</td>\n",
       "    </tr>\n",
       "  </tbody>\n",
       "</table>\n",
       "</div>"
      ],
      "text/plain": [
       "   author_id    speaker_name        speaker_occupation  \\\n",
       "0          2         Al Gore          Climate advocate   \n",
       "1          3       Amy Smith                  inventor   \n",
       "2          4    Ashraf Ghani  President of Afghanistan   \n",
       "3          5      Burt Rutan         Aircraft engineer   \n",
       "4          6    Chris Bangle              Car designer   \n",
       "5          7    Craig Venter                 Biologist   \n",
       "6          8     David Pogue      Technology columnist   \n",
       "7          9  David Rockwell                 Architect   \n",
       "8         10      Dean Kamen                  Inventor   \n",
       "9         11     Dean Ornish                 Physician   \n",
       "\n",
       "                                 speaker_description  \n",
       "0  Nobel Laureate Al Gore focused the world's att...  \n",
       "1  Amy Smith designs cheap, practical fixes for t...  \n",
       "2  Afghanistan's president Ashraf Ghani has initi...  \n",
       "3  In 2004, legendary spacecraft designer Burt Ru...  \n",
       "4  Car design is a ubiquitous but often overlooke...  \n",
       "5  In 2001, Craig Venter made headlines for seque...  \n",
       "6  David Pogue is the personal technology columni...  \n",
       "7  Architect David Rockwell draws on his love of ...  \n",
       "8  Dean Kamen landed in the limelight with the Se...  \n",
       "9  Dean Ornish is a clinical professor at UCSF an...  "
      ]
     },
     "execution_count": 12,
     "metadata": {},
     "output_type": "execute_result"
    }
   ],
   "source": [
    "df2.head(10)"
   ]
  },
  {
   "cell_type": "markdown",
   "id": "0749ec22",
   "metadata": {},
   "source": [
    "Изучим, как количество конференций распределено по времени. Определим год, после которого количество выступлений скачкообразно выросло."
   ]
  },
  {
   "cell_type": "code",
   "execution_count": 13,
   "id": "ca7364ff",
   "metadata": {},
   "outputs": [],
   "source": [
    "df['film_date'] = pd.to_datetime(df['film_date'])"
   ]
  },
  {
   "cell_type": "code",
   "execution_count": 14,
   "id": "2586829a",
   "metadata": {},
   "outputs": [],
   "source": [
    "df['year'] = df['film_date'].dt.year"
   ]
  },
  {
   "cell_type": "code",
   "execution_count": 15,
   "id": "05b34c2e",
   "metadata": {},
   "outputs": [],
   "source": [
    "dfdf = df.pivot_table(index=['year'], values=['event_id'], aggfunc = 'count')"
   ]
  },
  {
   "cell_type": "code",
   "execution_count": 16,
   "id": "3503f680",
   "metadata": {},
   "outputs": [
    {
     "data": {
      "image/png": "[encoded data removed]",
      "text/plain": [
       "<Figure size 2000x1000 with 1 Axes>"
      ]
     },
     "metadata": {},
     "output_type": "display_data"
    }
   ],
   "source": [
    "dfdf.plot(figsize=(20,10),marker='o', grid=True, linewidth=1, title='Распределение эвентов по годам')\n",
    "plt.xlabel('год')\n",
    "plt.ylabel('количество конференций')\n",
    "plt.show()"
   ]
  },
  {
   "cell_type": "markdown",
   "id": "b21244e2",
   "metadata": {},
   "source": [
    "После 2008 года количество выступлений скачкообразно выросло."
   ]
  },
  {
   "cell_type": "markdown",
   "id": "c68064e4",
   "metadata": {},
   "source": [
    "Проведем исследование и создадим дашборд в Tableau"
   ]
  },
  {
   "cell_type": "markdown",
   "id": "30f9455b",
   "metadata": {},
   "source": [
    "Ссылка на дашборд.\n",
    "\n",
    "https://public.tableau.com/views/Yandex_Project_17050771604180/Tableau?:language=en-GB&publish=yes&:display_count=n&:origin=viz_share_link"
   ]
  }
 ],
 "metadata": {
  "kernelspec": {
   "display_name": "Python 3 (ipykernel)",
   "language": "python",
   "name": "python3"
  },
  "language_info": {
   "codemirror_mode": {
    "name": "ipython",
    "version": 3
   },
   "file_extension": ".py",
   "mimetype": "text/x-python",
   "name": "python",
   "nbconvert_exporter": "python",
   "pygments_lexer": "ipython3",
   "version": "3.11.4"
  },
  "toc": {
   "base_numbering": 1,
   "nav_menu": {},
   "number_sections": true,
   "sideBar": true,
   "skip_h1_title": true,
   "title_cell": "Table of Contents",
   "title_sidebar": "Contents",
   "toc_cell": false,
   "toc_position": {},
   "toc_section_display": true,
   "toc_window_display": false
  }
 },
 "nbformat": 4,
 "nbformat_minor": 5
}
