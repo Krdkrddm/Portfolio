{
 "cells": [
  {
   "cell_type": "markdown",
   "id": "0af3f773",
   "metadata": {},
   "source": [
    "# Исследование поведения пользователей мобильного приложения."
   ]
  },
  {
   "cell_type": "markdown",
   "id": "a824c7e5",
   "metadata": {},
   "source": [
    "#### Необходимо:\n",
    "<br>\n",
    "\n",
    "Изучить воронку продаж. Узнайть, как пользователи доходят до покупки. Сколько пользователей доходит до покупки, а сколько — «застревает» на предыдущих шагах? На каких именно?\n",
    "<br> \n",
    "\n",
    "Исследовать результаты A/A/B-эксперимента. Дизайнеры захотели поменять шрифты во всём приложении, а менеджеры испугались, что пользователям будет непривычно. Договорились принять решение по результатам A/A/B-теста. Пользователей разбили на 3 группы: 2 контрольные со старыми шрифтами и одну экспериментальную — с новыми. Нужно выяснить, какой шрифт лучше.\n",
    "<br>  \n"
   ]
  },
  {
   "cell_type": "markdown",
   "id": "e2a3e26d",
   "metadata": {},
   "source": [
    "#### Описание данных\n",
    "<br>\n",
    "Каждая запись в логе — это действие пользователя, или событие. \n",
    "<br> \n",
    "- EventName — название события;\n",
    "<br> \n",
    "- DeviceIDHash — уникальный идентификатор пользователя;\n",
    "<br> \n",
    "- EventTimestamp — время события;\n",
    "<br> \n",
    "- ExpId — номер эксперимента: 246 и 247 — контрольные группы, а 248 — экспериментальная.\n",
    "\n"
   ]
  },
  {
   "cell_type": "markdown",
   "id": "cd55174a",
   "metadata": {},
   "source": [
    "#### План работы:\n",
    "Шаг 1. Импортируем библиотеки. Откроем файл с данными и изучим общую информацию\n",
    "<br>\n",
    "\n",
    "Шаг 2. Подготовим данные\n",
    "\n",
    "<br>\n",
    "- Заменим названия столбцов на удобные;\n",
    "<br>\n",
    "- Проверим пропуски и типы данных. Откорректируем, если нужно;\n",
    "<br>\n",
    "- Добавим столбец даты и времени, а также отдельный столбец дат;\n",
    "<br>\n",
    "\n",
    "Шаг 3. Изучим и проверим данные\n",
    "\n",
    "<br>\n",
    "- Сколько всего событий в логе?\n",
    "<br>\n",
    "- Сколько всего пользователей в логе?\n",
    "<br>\n",
    "- Сколько в среднем событий приходится на пользователя?\n",
    "<br>\n",
    "- Данными за какой период мы располагаем? Найдем максимальную и минимальную дату. Изучим, как меняется количество данных: построем столбчатую диаграмму, которая отобразит количество событий в зависимости от времени в разрезе групп. Можно ли быть уверенным, что у вас одинаково полные данные за весь период? Технически в логи новых дней по некоторым пользователям могут «доезжать» события из прошлого — это может «перекашивать данные». Определим, с какого момента данные полные и отбросим более старые. Данными за какой период времени есть на самом деле?\n",
    "<br>\n",
    "- Много ли событий и пользователей мы потеряли, отбросив старые данные?\n",
    "<br>\n",
    "- Проверим, что у нас есть пользователи из всех трёх экспериментальных групп.\n",
    "<br>\n",
    "\n",
    "Шаг 4. Изучим воронку событий\n",
    "\n",
    "<br>\n",
    "-Посмотрим, какие события есть в логах, как часто они встречаются. Отсортируем события по частоте.\n",
    "<br>\n",
    "-Посчитаем, сколько пользователей совершали каждое из этих событий. Отсортируем события по числу пользователей. Посчитаем долю пользователей, которые хоть раз совершали событие.\n",
    "<br>\n",
    "-Предположим, в каком порядке происходят события. Все ли они выстраиваются в последовательную цепочку? Их не нужно учитывать при расчёте воронки.\n",
    "<br>\n",
    "-По воронке событий посчитаем, какая доля пользователей проходит на следующий шаг воронки (от числа пользователей на предыдущем). То есть для последовательности событий A → B → C посчитаем отношение числа пользователей с событием B к количеству пользователей с событием A, а также отношение числа пользователей с событием C к количеству пользователей с событием B.\n",
    "<br>\n",
    "-На каком шаге теряется больше всего пользователей?\n",
    "<br>\n",
    "-Какая доля пользователей доходит от первого события до оплаты?\n",
    "<br>\n",
    "\n",
    "Шаг 5. Изучим результаты эксперимента\n",
    "\n",
    "<br>\n",
    "-Сколько пользователей в каждой экспериментальной группе?\n",
    "<br>\n",
    "-Есть 2 контрольные группы для А/А-эксперимента, чтобы проверить корректность всех механизмов и расчётов. Проверим, находят ли статистические критерии разницу между выборками 246 и 247.\n",
    "<br>\n",
    "-Выберем самое популярное событие. Посчитаем число пользователей, совершивших это событие в каждой из контрольных групп. Посчитаем долю пользователей, совершивших это событие. Проверим, будет ли отличие между группами статистически достоверным. Проделаем то же самое для всех других событий (удобно обернуть проверку в отдельную функцию). Можно ли сказать, что разбиение на группы работает корректно?\n",
    "<br>\n",
    "-Аналогично поступим с группой с изменённым шрифтом. Сравним результаты с каждой из контрольных групп в отдельности по каждому событию. Сравним результаты с объединённой контрольной группой. Какие выводы из эксперимента можно сделать?\n",
    "<br>\n",
    "-Какой уровень значимости мы выберем при проверке статистических гипотез выше? Посчитаем, сколько проверок статистических гипотез мы сделали. При уровне значимости 0.1 в 10% случаев можно ошибочно отклонить нулевую гипотезу при условии, что она верна. Какой уровень значимости стоит применить? Если мы хотим изменить его, проделаем предыдущие пункты и проверим свои выводы.\n"
   ]
  },
  {
   "cell_type": "markdown",
   "id": "8baea329",
   "metadata": {},
   "source": [
    "#### Шаг 1. Импортируем библиотеки. Откроем файл с данными и изучим общую информацию"
   ]
  },
  {
   "cell_type": "markdown",
   "id": "eb291fcc",
   "metadata": {},
   "source": [
    "Импортируем библиотеки"
   ]
  },
  {
   "cell_type": "code",
   "execution_count": 67,
   "id": "77a4646c",
   "metadata": {},
   "outputs": [],
   "source": [
    "import pandas as pd\n",
    "import numpy as np\n",
    "import math as mth\n",
    "import seaborn as sns\n",
    "import matplotlib.pyplot as plt\n",
    "from scipy import stats as st\n",
    "from plotly import graph_objects as go"
   ]
  },
  {
   "cell_type": "code",
   "execution_count": 68,
   "id": "73bcd3c8",
   "metadata": {},
   "outputs": [],
   "source": [
    "try:\n",
    "    logs = pd.read_csv(r'C:\\Users\\dimak\\Downloads\\logs_exp.csv', delimiter='\\t')\n",
    "except:\n",
    "    logs = pd.read_csv('/datasets/logs_exp.csv', delimiter='\\t')"
   ]
  },
  {
   "cell_type": "code",
   "execution_count": 69,
   "id": "4e231d6d",
   "metadata": {},
   "outputs": [
    {
     "name": "stdout",
     "output_type": "stream",
     "text": [
      "<class 'pandas.core.frame.DataFrame'>\n",
      "RangeIndex: 244126 entries, 0 to 244125\n",
      "Data columns (total 4 columns):\n",
      " #   Column          Non-Null Count   Dtype \n",
      "---  ------          --------------   ----- \n",
      " 0   EventName       244126 non-null  object\n",
      " 1   DeviceIDHash    244126 non-null  int64 \n",
      " 2   EventTimestamp  244126 non-null  int64 \n",
      " 3   ExpId           244126 non-null  int64 \n",
      "dtypes: int64(3), object(1)\n",
      "memory usage: 7.5+ MB\n"
     ]
    }
   ],
   "source": [
    "logs.info()"
   ]
  },
  {
   "cell_type": "code",
   "execution_count": 70,
   "id": "c7f359ef",
   "metadata": {},
   "outputs": [
    {
     "data": {
      "text/html": [
       "<div>\n",
       "<style scoped>\n",
       "    .dataframe tbody tr th:only-of-type {\n",
       "        vertical-align: middle;\n",
       "    }\n",
       "\n",
       "    .dataframe tbody tr th {\n",
       "        vertical-align: top;\n",
       "    }\n",
       "\n",
       "    .dataframe thead th {\n",
       "        text-align: right;\n",
       "    }\n",
       "</style>\n",
       "<table border=\"1\" class=\"dataframe\">\n",
       "  <thead>\n",
       "    <tr style=\"text-align: right;\">\n",
       "      <th></th>\n",
       "      <th>EventName</th>\n",
       "      <th>DeviceIDHash</th>\n",
       "      <th>EventTimestamp</th>\n",
       "      <th>ExpId</th>\n",
       "    </tr>\n",
       "  </thead>\n",
       "  <tbody>\n",
       "    <tr>\n",
       "      <th>0</th>\n",
       "      <td>MainScreenAppear</td>\n",
       "      <td>4575588528974610257</td>\n",
       "      <td>1564029816</td>\n",
       "      <td>246</td>\n",
       "    </tr>\n",
       "    <tr>\n",
       "      <th>1</th>\n",
       "      <td>MainScreenAppear</td>\n",
       "      <td>7416695313311560658</td>\n",
       "      <td>1564053102</td>\n",
       "      <td>246</td>\n",
       "    </tr>\n",
       "    <tr>\n",
       "      <th>2</th>\n",
       "      <td>PaymentScreenSuccessful</td>\n",
       "      <td>3518123091307005509</td>\n",
       "      <td>1564054127</td>\n",
       "      <td>248</td>\n",
       "    </tr>\n",
       "    <tr>\n",
       "      <th>3</th>\n",
       "      <td>CartScreenAppear</td>\n",
       "      <td>3518123091307005509</td>\n",
       "      <td>1564054127</td>\n",
       "      <td>248</td>\n",
       "    </tr>\n",
       "    <tr>\n",
       "      <th>4</th>\n",
       "      <td>PaymentScreenSuccessful</td>\n",
       "      <td>6217807653094995999</td>\n",
       "      <td>1564055322</td>\n",
       "      <td>248</td>\n",
       "    </tr>\n",
       "  </tbody>\n",
       "</table>\n",
       "</div>"
      ],
      "text/plain": [
       "                 EventName         DeviceIDHash  EventTimestamp  ExpId\n",
       "0         MainScreenAppear  4575588528974610257      1564029816    246\n",
       "1         MainScreenAppear  7416695313311560658      1564053102    246\n",
       "2  PaymentScreenSuccessful  3518123091307005509      1564054127    248\n",
       "3         CartScreenAppear  3518123091307005509      1564054127    248\n",
       "4  PaymentScreenSuccessful  6217807653094995999      1564055322    248"
      ]
     },
     "execution_count": 70,
     "metadata": {},
     "output_type": "execute_result"
    }
   ],
   "source": [
    "logs.head()"
   ]
  },
  {
   "cell_type": "markdown",
   "id": "ab9c571d",
   "metadata": {},
   "source": [
    "#### Шаг 2. Подготовим данные\n"
   ]
  },
  {
   "cell_type": "markdown",
   "id": "ac481541",
   "metadata": {},
   "source": [
    "Переименуем столбцы"
   ]
  },
  {
   "cell_type": "code",
   "execution_count": 71,
   "id": "b7568483",
   "metadata": {},
   "outputs": [],
   "source": [
    "logs.columns = ['event_name', 'device_id_hash', 'event_timestamp', 'exp_id']"
   ]
  },
  {
   "cell_type": "code",
   "execution_count": 72,
   "id": "f88cbff8",
   "metadata": {},
   "outputs": [
    {
     "data": {
      "text/plain": [
       "event_name         0\n",
       "device_id_hash     0\n",
       "event_timestamp    0\n",
       "exp_id             0\n",
       "dtype: int64"
      ]
     },
     "execution_count": 72,
     "metadata": {},
     "output_type": "execute_result"
    }
   ],
   "source": [
    "logs.isna().sum()"
   ]
  },
  {
   "cell_type": "markdown",
   "id": "dc81d8f2",
   "metadata": {},
   "source": [
    "Значений NaN не обнаружено"
   ]
  },
  {
   "cell_type": "code",
   "execution_count": 73,
   "id": "e2264951",
   "metadata": {},
   "outputs": [
    {
     "data": {
      "text/plain": [
       "413"
      ]
     },
     "execution_count": 73,
     "metadata": {},
     "output_type": "execute_result"
    }
   ],
   "source": [
    "logs.duplicated().sum()"
   ]
  },
  {
   "cell_type": "markdown",
   "id": "32730e35",
   "metadata": {},
   "source": [
    "Удалим дубликаты"
   ]
  },
  {
   "cell_type": "code",
   "execution_count": 74,
   "id": "66d12b4c",
   "metadata": {},
   "outputs": [],
   "source": [
    "logs = logs.drop_duplicates().reset_index(drop=True)"
   ]
  },
  {
   "cell_type": "code",
   "execution_count": 75,
   "id": "407919e6",
   "metadata": {},
   "outputs": [
    {
     "data": {
      "text/html": [
       "<div>\n",
       "<style scoped>\n",
       "    .dataframe tbody tr th:only-of-type {\n",
       "        vertical-align: middle;\n",
       "    }\n",
       "\n",
       "    .dataframe tbody tr th {\n",
       "        vertical-align: top;\n",
       "    }\n",
       "\n",
       "    .dataframe thead th {\n",
       "        text-align: right;\n",
       "    }\n",
       "</style>\n",
       "<table border=\"1\" class=\"dataframe\">\n",
       "  <thead>\n",
       "    <tr style=\"text-align: right;\">\n",
       "      <th></th>\n",
       "      <th>event_name</th>\n",
       "      <th>device_id_hash</th>\n",
       "      <th>event_timestamp</th>\n",
       "      <th>exp_id</th>\n",
       "    </tr>\n",
       "  </thead>\n",
       "  <tbody>\n",
       "    <tr>\n",
       "      <th>0</th>\n",
       "      <td>MainScreenAppear</td>\n",
       "      <td>4575588528974610257</td>\n",
       "      <td>1564029816</td>\n",
       "      <td>246</td>\n",
       "    </tr>\n",
       "    <tr>\n",
       "      <th>1</th>\n",
       "      <td>MainScreenAppear</td>\n",
       "      <td>7416695313311560658</td>\n",
       "      <td>1564053102</td>\n",
       "      <td>246</td>\n",
       "    </tr>\n",
       "    <tr>\n",
       "      <th>2</th>\n",
       "      <td>PaymentScreenSuccessful</td>\n",
       "      <td>3518123091307005509</td>\n",
       "      <td>1564054127</td>\n",
       "      <td>248</td>\n",
       "    </tr>\n",
       "    <tr>\n",
       "      <th>3</th>\n",
       "      <td>CartScreenAppear</td>\n",
       "      <td>3518123091307005509</td>\n",
       "      <td>1564054127</td>\n",
       "      <td>248</td>\n",
       "    </tr>\n",
       "    <tr>\n",
       "      <th>4</th>\n",
       "      <td>PaymentScreenSuccessful</td>\n",
       "      <td>6217807653094995999</td>\n",
       "      <td>1564055322</td>\n",
       "      <td>248</td>\n",
       "    </tr>\n",
       "  </tbody>\n",
       "</table>\n",
       "</div>"
      ],
      "text/plain": [
       "                event_name       device_id_hash  event_timestamp  exp_id\n",
       "0         MainScreenAppear  4575588528974610257       1564029816     246\n",
       "1         MainScreenAppear  7416695313311560658       1564053102     246\n",
       "2  PaymentScreenSuccessful  3518123091307005509       1564054127     248\n",
       "3         CartScreenAppear  3518123091307005509       1564054127     248\n",
       "4  PaymentScreenSuccessful  6217807653094995999       1564055322     248"
      ]
     },
     "execution_count": 75,
     "metadata": {},
     "output_type": "execute_result"
    }
   ],
   "source": [
    "logs.head()"
   ]
  },
  {
   "cell_type": "markdown",
   "id": "6021985b",
   "metadata": {},
   "source": [
    "Добавим столбец date_time с форматом даты и времени и столбец date с датой."
   ]
  },
  {
   "cell_type": "code",
   "execution_count": 76,
   "id": "93463b39",
   "metadata": {},
   "outputs": [],
   "source": [
    "logs['date_time'] = pd.to_datetime(logs['event_timestamp'], unit='s')"
   ]
  },
  {
   "cell_type": "code",
   "execution_count": 77,
   "id": "e5893541",
   "metadata": {},
   "outputs": [],
   "source": [
    "logs['date'] = pd.to_datetime(logs['date_time'].dt.date)"
   ]
  },
  {
   "cell_type": "code",
   "execution_count": 78,
   "id": "e1f25c28",
   "metadata": {},
   "outputs": [
    {
     "data": {
      "text/html": [
       "<div>\n",
       "<style scoped>\n",
       "    .dataframe tbody tr th:only-of-type {\n",
       "        vertical-align: middle;\n",
       "    }\n",
       "\n",
       "    .dataframe tbody tr th {\n",
       "        vertical-align: top;\n",
       "    }\n",
       "\n",
       "    .dataframe thead th {\n",
       "        text-align: right;\n",
       "    }\n",
       "</style>\n",
       "<table border=\"1\" class=\"dataframe\">\n",
       "  <thead>\n",
       "    <tr style=\"text-align: right;\">\n",
       "      <th></th>\n",
       "      <th>event_name</th>\n",
       "      <th>device_id_hash</th>\n",
       "      <th>event_timestamp</th>\n",
       "      <th>exp_id</th>\n",
       "      <th>date_time</th>\n",
       "      <th>date</th>\n",
       "    </tr>\n",
       "  </thead>\n",
       "  <tbody>\n",
       "    <tr>\n",
       "      <th>0</th>\n",
       "      <td>MainScreenAppear</td>\n",
       "      <td>4575588528974610257</td>\n",
       "      <td>1564029816</td>\n",
       "      <td>246</td>\n",
       "      <td>2019-07-25 04:43:36</td>\n",
       "      <td>2019-07-25</td>\n",
       "    </tr>\n",
       "    <tr>\n",
       "      <th>1</th>\n",
       "      <td>MainScreenAppear</td>\n",
       "      <td>7416695313311560658</td>\n",
       "      <td>1564053102</td>\n",
       "      <td>246</td>\n",
       "      <td>2019-07-25 11:11:42</td>\n",
       "      <td>2019-07-25</td>\n",
       "    </tr>\n",
       "    <tr>\n",
       "      <th>2</th>\n",
       "      <td>PaymentScreenSuccessful</td>\n",
       "      <td>3518123091307005509</td>\n",
       "      <td>1564054127</td>\n",
       "      <td>248</td>\n",
       "      <td>2019-07-25 11:28:47</td>\n",
       "      <td>2019-07-25</td>\n",
       "    </tr>\n",
       "    <tr>\n",
       "      <th>3</th>\n",
       "      <td>CartScreenAppear</td>\n",
       "      <td>3518123091307005509</td>\n",
       "      <td>1564054127</td>\n",
       "      <td>248</td>\n",
       "      <td>2019-07-25 11:28:47</td>\n",
       "      <td>2019-07-25</td>\n",
       "    </tr>\n",
       "    <tr>\n",
       "      <th>4</th>\n",
       "      <td>PaymentScreenSuccessful</td>\n",
       "      <td>6217807653094995999</td>\n",
       "      <td>1564055322</td>\n",
       "      <td>248</td>\n",
       "      <td>2019-07-25 11:48:42</td>\n",
       "      <td>2019-07-25</td>\n",
       "    </tr>\n",
       "  </tbody>\n",
       "</table>\n",
       "</div>"
      ],
      "text/plain": [
       "                event_name       device_id_hash  event_timestamp  exp_id  \\\n",
       "0         MainScreenAppear  4575588528974610257       1564029816     246   \n",
       "1         MainScreenAppear  7416695313311560658       1564053102     246   \n",
       "2  PaymentScreenSuccessful  3518123091307005509       1564054127     248   \n",
       "3         CartScreenAppear  3518123091307005509       1564054127     248   \n",
       "4  PaymentScreenSuccessful  6217807653094995999       1564055322     248   \n",
       "\n",
       "            date_time       date  \n",
       "0 2019-07-25 04:43:36 2019-07-25  \n",
       "1 2019-07-25 11:11:42 2019-07-25  \n",
       "2 2019-07-25 11:28:47 2019-07-25  \n",
       "3 2019-07-25 11:28:47 2019-07-25  \n",
       "4 2019-07-25 11:48:42 2019-07-25  "
      ]
     },
     "execution_count": 78,
     "metadata": {},
     "output_type": "execute_result"
    }
   ],
   "source": [
    "logs.head()"
   ]
  },
  {
   "cell_type": "code",
   "execution_count": 79,
   "id": "464473a0",
   "metadata": {},
   "outputs": [
    {
     "name": "stdout",
     "output_type": "stream",
     "text": [
      "<class 'pandas.core.frame.DataFrame'>\n",
      "RangeIndex: 243713 entries, 0 to 243712\n",
      "Data columns (total 6 columns):\n",
      " #   Column           Non-Null Count   Dtype         \n",
      "---  ------           --------------   -----         \n",
      " 0   event_name       243713 non-null  object        \n",
      " 1   device_id_hash   243713 non-null  int64         \n",
      " 2   event_timestamp  243713 non-null  int64         \n",
      " 3   exp_id           243713 non-null  int64         \n",
      " 4   date_time        243713 non-null  datetime64[ns]\n",
      " 5   date             243713 non-null  datetime64[ns]\n",
      "dtypes: datetime64[ns](2), int64(3), object(1)\n",
      "memory usage: 11.2+ MB\n"
     ]
    }
   ],
   "source": [
    "logs.info()"
   ]
  },
  {
   "cell_type": "markdown",
   "id": "50c198c9",
   "metadata": {},
   "source": [
    "#### Вывод по второму шагу:\n",
    "<br>\n",
    "-переименовали столбцы\n",
    "<br>\n",
    "-удалили пропуски\n",
    "<br>\n",
    "-добавили столбцы даты и время и даты."
   ]
  },
  {
   "cell_type": "markdown",
   "id": "baaad222",
   "metadata": {},
   "source": [
    "#### Шаг 3. Изучим и проверим данные"
   ]
  },
  {
   "cell_type": "markdown",
   "id": "eb91feb2",
   "metadata": {},
   "source": [
    "Выясним сколько всего событий в логе?"
   ]
  },
  {
   "cell_type": "code",
   "execution_count": 80,
   "id": "9d2409c8",
   "metadata": {},
   "outputs": [
    {
     "data": {
      "text/plain": [
       "array(['MainScreenAppear', 'PaymentScreenSuccessful', 'CartScreenAppear',\n",
       "       'OffersScreenAppear', 'Tutorial'], dtype=object)"
      ]
     },
     "execution_count": 80,
     "metadata": {},
     "output_type": "execute_result"
    }
   ],
   "source": [
    "logs['event_name'].unique()"
   ]
  },
  {
   "cell_type": "code",
   "execution_count": 81,
   "id": "702adb01",
   "metadata": {},
   "outputs": [
    {
     "data": {
      "text/plain": [
       "243713"
      ]
     },
     "execution_count": 81,
     "metadata": {},
     "output_type": "execute_result"
    }
   ],
   "source": [
    "len(logs['event_name'])"
   ]
  },
  {
   "cell_type": "markdown",
   "id": "ee670fba",
   "metadata": {},
   "source": [
    "В логе всего 5 уникальных событий, совершенных в общей сложности 243 713 раз."
   ]
  },
  {
   "cell_type": "markdown",
   "id": "81d03cff",
   "metadata": {},
   "source": [
    "Выясним, сколько всего пользователей в логе?"
   ]
  },
  {
   "cell_type": "code",
   "execution_count": 82,
   "id": "60c652b3",
   "metadata": {},
   "outputs": [
    {
     "data": {
      "text/plain": [
       "7551"
      ]
     },
     "execution_count": 82,
     "metadata": {},
     "output_type": "execute_result"
    }
   ],
   "source": [
    "logs['device_id_hash'].nunique()"
   ]
  },
  {
   "cell_type": "markdown",
   "id": "49b79523",
   "metadata": {},
   "source": [
    "Уникальные пользователи = уникальные устройства, которые были зафиксированы, однако это не гарантия того, что один и тот же физический человек не использует разные устройства для входа, но будем считать, что 1 пользователь = 1 девайс. "
   ]
  },
  {
   "cell_type": "markdown",
   "id": "94d225f7",
   "metadata": {},
   "source": [
    "Выясним сколько в среднем событий приходится на пользователя?"
   ]
  },
  {
   "cell_type": "code",
   "execution_count": 83,
   "id": "51f5ad7b",
   "metadata": {},
   "outputs": [
    {
     "data": {
      "text/plain": [
       "32"
      ]
     },
     "execution_count": 83,
     "metadata": {},
     "output_type": "execute_result"
    }
   ],
   "source": [
    "round(len(logs['event_name']) / logs['device_id_hash'].nunique())"
   ]
  },
  {
   "cell_type": "markdown",
   "id": "1ac8b4b8",
   "metadata": {},
   "source": [
    "В среднем на пользователя приходится 32 события"
   ]
  },
  {
   "cell_type": "markdown",
   "id": "d72c6cdf",
   "metadata": {},
   "source": [
    "Выясним, данными за какой период мы располагаем? \n",
    "Найдем максимальную и минимальную дату."
   ]
  },
  {
   "cell_type": "code",
   "execution_count": 84,
   "id": "ca730c5f",
   "metadata": {},
   "outputs": [
    {
     "name": "stdout",
     "output_type": "stream",
     "text": [
      "2019-07-25 00:00:00 2019-08-07 00:00:00 13 days 00:00:00\n"
     ]
    }
   ],
   "source": [
    "min_date = logs['date'].min()\n",
    "max_date = logs['date'].max()\n",
    "print(min_date, max_date, max_date - min_date)"
   ]
  },
  {
   "cell_type": "markdown",
   "id": "e47a2425",
   "metadata": {},
   "source": [
    "Имеются данные с 25 июля 2019 по 7 августа 2019, то есть 13 дней."
   ]
  },
  {
   "cell_type": "markdown",
   "id": "e4d57172",
   "metadata": {},
   "source": [
    "Изучим, как меняется количество данных: построем столбчатую диаграмму, которая отобразит количество событий в зависимости от времени в разрезе групп. "
   ]
  },
  {
   "cell_type": "code",
   "execution_count": 85,
   "id": "29dced50",
   "metadata": {},
   "outputs": [
    {
     "data": {
      "text/html": [
       "<div>\n",
       "<style scoped>\n",
       "    .dataframe tbody tr th:only-of-type {\n",
       "        vertical-align: middle;\n",
       "    }\n",
       "\n",
       "    .dataframe tbody tr th {\n",
       "        vertical-align: top;\n",
       "    }\n",
       "\n",
       "    .dataframe thead th {\n",
       "        text-align: right;\n",
       "    }\n",
       "</style>\n",
       "<table border=\"1\" class=\"dataframe\">\n",
       "  <thead>\n",
       "    <tr style=\"text-align: right;\">\n",
       "      <th></th>\n",
       "      <th>device_id_hash</th>\n",
       "    </tr>\n",
       "    <tr>\n",
       "      <th>date</th>\n",
       "      <th></th>\n",
       "    </tr>\n",
       "  </thead>\n",
       "  <tbody>\n",
       "    <tr>\n",
       "      <th>2019-07-25</th>\n",
       "      <td>9</td>\n",
       "    </tr>\n",
       "    <tr>\n",
       "      <th>2019-07-26</th>\n",
       "      <td>31</td>\n",
       "    </tr>\n",
       "    <tr>\n",
       "      <th>2019-07-27</th>\n",
       "      <td>55</td>\n",
       "    </tr>\n",
       "    <tr>\n",
       "      <th>2019-07-28</th>\n",
       "      <td>105</td>\n",
       "    </tr>\n",
       "    <tr>\n",
       "      <th>2019-07-29</th>\n",
       "      <td>184</td>\n",
       "    </tr>\n",
       "    <tr>\n",
       "      <th>2019-07-30</th>\n",
       "      <td>412</td>\n",
       "    </tr>\n",
       "    <tr>\n",
       "      <th>2019-07-31</th>\n",
       "      <td>2030</td>\n",
       "    </tr>\n",
       "    <tr>\n",
       "      <th>2019-08-01</th>\n",
       "      <td>36141</td>\n",
       "    </tr>\n",
       "    <tr>\n",
       "      <th>2019-08-02</th>\n",
       "      <td>35554</td>\n",
       "    </tr>\n",
       "    <tr>\n",
       "      <th>2019-08-03</th>\n",
       "      <td>33282</td>\n",
       "    </tr>\n",
       "    <tr>\n",
       "      <th>2019-08-04</th>\n",
       "      <td>32968</td>\n",
       "    </tr>\n",
       "    <tr>\n",
       "      <th>2019-08-05</th>\n",
       "      <td>36058</td>\n",
       "    </tr>\n",
       "    <tr>\n",
       "      <th>2019-08-06</th>\n",
       "      <td>35788</td>\n",
       "    </tr>\n",
       "    <tr>\n",
       "      <th>2019-08-07</th>\n",
       "      <td>31096</td>\n",
       "    </tr>\n",
       "  </tbody>\n",
       "</table>\n",
       "</div>"
      ],
      "text/plain": [
       "            device_id_hash\n",
       "date                      \n",
       "2019-07-25               9\n",
       "2019-07-26              31\n",
       "2019-07-27              55\n",
       "2019-07-28             105\n",
       "2019-07-29             184\n",
       "2019-07-30             412\n",
       "2019-07-31            2030\n",
       "2019-08-01           36141\n",
       "2019-08-02           35554\n",
       "2019-08-03           33282\n",
       "2019-08-04           32968\n",
       "2019-08-05           36058\n",
       "2019-08-06           35788\n",
       "2019-08-07           31096"
      ]
     },
     "execution_count": 85,
     "metadata": {},
     "output_type": "execute_result"
    }
   ],
   "source": [
    "dinamics1 = logs.groupby(by='date').agg({'device_id_hash': 'count'})\n",
    "dinamics1"
   ]
  },
  {
   "cell_type": "code",
   "execution_count": 86,
   "id": "2164ff7f",
   "metadata": {},
   "outputs": [
    {
     "data": {
      "text/html": [
       "<div>\n",
       "<style scoped>\n",
       "    .dataframe tbody tr th:only-of-type {\n",
       "        vertical-align: middle;\n",
       "    }\n",
       "\n",
       "    .dataframe tbody tr th {\n",
       "        vertical-align: top;\n",
       "    }\n",
       "\n",
       "    .dataframe thead th {\n",
       "        text-align: right;\n",
       "    }\n",
       "</style>\n",
       "<table border=\"1\" class=\"dataframe\">\n",
       "  <thead>\n",
       "    <tr style=\"text-align: right;\">\n",
       "      <th></th>\n",
       "      <th>event_name</th>\n",
       "    </tr>\n",
       "    <tr>\n",
       "      <th>date</th>\n",
       "      <th></th>\n",
       "    </tr>\n",
       "  </thead>\n",
       "  <tbody>\n",
       "    <tr>\n",
       "      <th>2019-07-25</th>\n",
       "      <td>9</td>\n",
       "    </tr>\n",
       "    <tr>\n",
       "      <th>2019-07-26</th>\n",
       "      <td>31</td>\n",
       "    </tr>\n",
       "    <tr>\n",
       "      <th>2019-07-27</th>\n",
       "      <td>55</td>\n",
       "    </tr>\n",
       "    <tr>\n",
       "      <th>2019-07-28</th>\n",
       "      <td>105</td>\n",
       "    </tr>\n",
       "    <tr>\n",
       "      <th>2019-07-29</th>\n",
       "      <td>184</td>\n",
       "    </tr>\n",
       "    <tr>\n",
       "      <th>2019-07-30</th>\n",
       "      <td>412</td>\n",
       "    </tr>\n",
       "    <tr>\n",
       "      <th>2019-07-31</th>\n",
       "      <td>2030</td>\n",
       "    </tr>\n",
       "    <tr>\n",
       "      <th>2019-08-01</th>\n",
       "      <td>36141</td>\n",
       "    </tr>\n",
       "    <tr>\n",
       "      <th>2019-08-02</th>\n",
       "      <td>35554</td>\n",
       "    </tr>\n",
       "    <tr>\n",
       "      <th>2019-08-03</th>\n",
       "      <td>33282</td>\n",
       "    </tr>\n",
       "    <tr>\n",
       "      <th>2019-08-04</th>\n",
       "      <td>32968</td>\n",
       "    </tr>\n",
       "    <tr>\n",
       "      <th>2019-08-05</th>\n",
       "      <td>36058</td>\n",
       "    </tr>\n",
       "    <tr>\n",
       "      <th>2019-08-06</th>\n",
       "      <td>35788</td>\n",
       "    </tr>\n",
       "    <tr>\n",
       "      <th>2019-08-07</th>\n",
       "      <td>31096</td>\n",
       "    </tr>\n",
       "  </tbody>\n",
       "</table>\n",
       "</div>"
      ],
      "text/plain": [
       "            event_name\n",
       "date                  \n",
       "2019-07-25           9\n",
       "2019-07-26          31\n",
       "2019-07-27          55\n",
       "2019-07-28         105\n",
       "2019-07-29         184\n",
       "2019-07-30         412\n",
       "2019-07-31        2030\n",
       "2019-08-01       36141\n",
       "2019-08-02       35554\n",
       "2019-08-03       33282\n",
       "2019-08-04       32968\n",
       "2019-08-05       36058\n",
       "2019-08-06       35788\n",
       "2019-08-07       31096"
      ]
     },
     "execution_count": 86,
     "metadata": {},
     "output_type": "execute_result"
    }
   ],
   "source": [
    "dinamics2 = logs.groupby(by='date').agg({'event_name': 'count'})\n",
    "dinamics2"
   ]
  },
  {
   "cell_type": "code",
   "execution_count": 87,
   "id": "14c993f3",
   "metadata": {},
   "outputs": [
    {
     "data": {
      "text/plain": [
       "<Axes: >"
      ]
     },
     "execution_count": 87,
     "metadata": {},
     "output_type": "execute_result"
    },
    {
     "data": {
      "image/png": "[encoded data removed]",
      "text/plain": [
       "<Figure size 1700x500 with 1 Axes>"
      ]
     },
     "metadata": {},
     "output_type": "display_data"
    }
   ],
   "source": [
    "fig = plt.figure(figsize = (17,5))\n",
    "ax = fig.gca()\n",
    "logs['date_time'].hist(ax = ax, bins = 50)"
   ]
  },
  {
   "cell_type": "code",
   "execution_count": 88,
   "id": "e2eed4d6",
   "metadata": {},
   "outputs": [
    {
     "data": {
      "text/plain": [
       "2826"
      ]
     },
     "execution_count": 88,
     "metadata": {},
     "output_type": "execute_result"
    }
   ],
   "source": [
    "logs[logs['date'] < '2019-08-01']['event_name'].count()"
   ]
  },
  {
   "cell_type": "markdown",
   "id": "f7360cd5",
   "metadata": {},
   "source": [
    "Можно ли быть уверенным, что у вас одинаково полные данные за весь период? Технически в логи новых дней по некоторым пользователям могут «доезжать» события из прошлого — это может «перекашивать данные». Определим, с какого момента данные полные и отбросим более старые. Данными за какой период времени есть на самом деле?"
   ]
  },
  {
   "cell_type": "markdown",
   "id": "f07f1603",
   "metadata": {},
   "source": [
    "На графике однозначно видно, что данные не полные на протяжении всего периода. Стоит отбросить данные до 1 августа, так как действий в эти даты не более 2826 в сумме за все дни."
   ]
  },
  {
   "cell_type": "code",
   "execution_count": 89,
   "id": "f7720c02",
   "metadata": {},
   "outputs": [],
   "source": [
    "logs_clean = logs.loc[logs['date'] >= '2019-08-01']  "
   ]
  },
  {
   "cell_type": "code",
   "execution_count": 90,
   "id": "afd56520",
   "metadata": {},
   "outputs": [
    {
     "data": {
      "text/plain": [
       "7"
      ]
     },
     "execution_count": 90,
     "metadata": {},
     "output_type": "execute_result"
    }
   ],
   "source": [
    "logs_clean['date'].nunique()"
   ]
  },
  {
   "cell_type": "code",
   "execution_count": 91,
   "id": "1e2943bb",
   "metadata": {},
   "outputs": [
    {
     "data": {
      "text/plain": [
       "<Axes: >"
      ]
     },
     "execution_count": 91,
     "metadata": {},
     "output_type": "execute_result"
    },
    {
     "data": {
      "image/png": "[encoded data removed]",
      "text/plain": [
       "<Figure size 1000x400 with 1 Axes>"
      ]
     },
     "metadata": {},
     "output_type": "display_data"
    }
   ],
   "source": [
    "fig = plt.figure(figsize = (10,4))\n",
    "ax = fig.gca()\n",
    "logs_clean['date_time'].hist(ax = ax, bins = 50)"
   ]
  },
  {
   "cell_type": "markdown",
   "id": "a23e154f",
   "metadata": {},
   "source": [
    "После очистки данных осталось всего за 7 дней эксперемента, с 1 августа по 8 августа, этого дастаточно для оценки эксперемента."
   ]
  },
  {
   "cell_type": "markdown",
   "id": "a7707cd3",
   "metadata": {},
   "source": [
    "Выясним, много ли событий и пользователей мы потеряли, отбросив старые данные?"
   ]
  },
  {
   "cell_type": "code",
   "execution_count": 92,
   "id": "36cf0165",
   "metadata": {},
   "outputs": [
    {
     "data": {
      "text/plain": [
       "17"
      ]
     },
     "execution_count": 92,
     "metadata": {},
     "output_type": "execute_result"
    }
   ],
   "source": [
    "logs['device_id_hash'].nunique() - logs_clean['device_id_hash'].nunique()"
   ]
  },
  {
   "cell_type": "code",
   "execution_count": 93,
   "id": "74959751",
   "metadata": {},
   "outputs": [
    {
     "data": {
      "text/plain": [
       "2826"
      ]
     },
     "execution_count": 93,
     "metadata": {},
     "output_type": "execute_result"
    }
   ],
   "source": [
    "logs['event_name'].count() - logs_clean['event_name'].count()"
   ]
  },
  {
   "cell_type": "code",
   "execution_count": 94,
   "id": "d9d3d7ab",
   "metadata": {},
   "outputs": [
    {
     "data": {
      "text/plain": [
       "0.22513574361011787"
      ]
     },
     "execution_count": 94,
     "metadata": {},
     "output_type": "execute_result"
    }
   ],
   "source": [
    "(logs['device_id_hash'].nunique() - logs_clean['device_id_hash'].nunique())*100/logs['device_id_hash'].nunique()"
   ]
  },
  {
   "cell_type": "code",
   "execution_count": 95,
   "id": "bf92e4dd",
   "metadata": {},
   "outputs": [
    {
     "data": {
      "text/plain": [
       "1.1595606307418973"
      ]
     },
     "execution_count": 95,
     "metadata": {},
     "output_type": "execute_result"
    }
   ],
   "source": [
    "(logs['event_name'].count() - logs_clean['event_name'].count())*100/logs['event_name'].count()"
   ]
  },
  {
   "cell_type": "markdown",
   "id": "4d73dcaa",
   "metadata": {},
   "source": [
    "По результатам очистки данных мы потеряли 17 уникальных пользователей(0.225% от общего числа) и 2826 событий(1.16% от общего числа). Потеря в данных несущественная и не влияет на результат эксперемента."
   ]
  },
  {
   "cell_type": "markdown",
   "id": "c52f4e52",
   "metadata": {},
   "source": [
    "Проверим, что у нас есть пользователи из всех трёх экспериментальных групп."
   ]
  },
  {
   "cell_type": "code",
   "execution_count": 96,
   "id": "10d7d526",
   "metadata": {},
   "outputs": [
    {
     "data": {
      "text/plain": [
       "3"
      ]
     },
     "execution_count": 96,
     "metadata": {},
     "output_type": "execute_result"
    }
   ],
   "source": [
    "logs_clean['exp_id'].nunique()"
   ]
  },
  {
   "cell_type": "code",
   "execution_count": 97,
   "id": "e5a17674",
   "metadata": {},
   "outputs": [
    {
     "data": {
      "text/html": [
       "<div>\n",
       "<style scoped>\n",
       "    .dataframe tbody tr th:only-of-type {\n",
       "        vertical-align: middle;\n",
       "    }\n",
       "\n",
       "    .dataframe tbody tr th {\n",
       "        vertical-align: top;\n",
       "    }\n",
       "\n",
       "    .dataframe thead th {\n",
       "        text-align: right;\n",
       "    }\n",
       "</style>\n",
       "<table border=\"1\" class=\"dataframe\">\n",
       "  <thead>\n",
       "    <tr style=\"text-align: right;\">\n",
       "      <th></th>\n",
       "      <th>event_name</th>\n",
       "    </tr>\n",
       "    <tr>\n",
       "      <th>exp_id</th>\n",
       "      <th></th>\n",
       "    </tr>\n",
       "  </thead>\n",
       "  <tbody>\n",
       "    <tr>\n",
       "      <th>246</th>\n",
       "      <td>79302</td>\n",
       "    </tr>\n",
       "    <tr>\n",
       "      <th>247</th>\n",
       "      <td>77022</td>\n",
       "    </tr>\n",
       "    <tr>\n",
       "      <th>248</th>\n",
       "      <td>84563</td>\n",
       "    </tr>\n",
       "  </tbody>\n",
       "</table>\n",
       "</div>"
      ],
      "text/plain": [
       "        event_name\n",
       "exp_id            \n",
       "246          79302\n",
       "247          77022\n",
       "248          84563"
      ]
     },
     "execution_count": 97,
     "metadata": {},
     "output_type": "execute_result"
    }
   ],
   "source": [
    "logs_clean.pivot_table(index=['exp_id'], values=['event_name'], aggfunc = 'count')"
   ]
  },
  {
   "cell_type": "markdown",
   "id": "ae629125",
   "metadata": {},
   "source": [
    "Да, все три группы остались в базе данных."
   ]
  },
  {
   "cell_type": "markdown",
   "id": "2e907f00",
   "metadata": {},
   "source": [
    "#### Вывод по третьему шагу:\n",
    "В логе всего 5 уникальных событий, совершенных в общей сложности 243 713 раз и 7551 уникальных пользователей.\n",
    "В среднем на пользователя приходится 32 события.\n",
    "Имеются данные с 25 июля 2019 по 7 августа 2019, то есть 13 дней, однако данные до 1 августа неполные, поэтому было принято решение их отбросить, в результате чего мы потеряли 17 уникальных пользователей(0.225% от общего числа) и 2826 событий(1.16% от общего числа). Потеря в данных несущественная и не влияет на результат эксперемента."
   ]
  },
  {
   "cell_type": "markdown",
   "id": "5f812e7b",
   "metadata": {},
   "source": [
    "#### Шаг 4. Изучим воронку событий"
   ]
  },
  {
   "cell_type": "markdown",
   "id": "765cf119",
   "metadata": {},
   "source": [
    "Посмотрим, какие события есть в логах, как часто они встречаются. Отсортируем события по частоте."
   ]
  },
  {
   "cell_type": "code",
   "execution_count": 98,
   "id": "1d5b731d",
   "metadata": {},
   "outputs": [
    {
     "data": {
      "text/html": [
       "<div>\n",
       "<style scoped>\n",
       "    .dataframe tbody tr th:only-of-type {\n",
       "        vertical-align: middle;\n",
       "    }\n",
       "\n",
       "    .dataframe tbody tr th {\n",
       "        vertical-align: top;\n",
       "    }\n",
       "\n",
       "    .dataframe thead th {\n",
       "        text-align: right;\n",
       "    }\n",
       "</style>\n",
       "<table border=\"1\" class=\"dataframe\">\n",
       "  <thead>\n",
       "    <tr style=\"text-align: right;\">\n",
       "      <th></th>\n",
       "      <th>event_name</th>\n",
       "      <th>device_id_hash</th>\n",
       "    </tr>\n",
       "  </thead>\n",
       "  <tbody>\n",
       "    <tr>\n",
       "      <th>1</th>\n",
       "      <td>MainScreenAppear</td>\n",
       "      <td>117328</td>\n",
       "    </tr>\n",
       "    <tr>\n",
       "      <th>2</th>\n",
       "      <td>OffersScreenAppear</td>\n",
       "      <td>46333</td>\n",
       "    </tr>\n",
       "    <tr>\n",
       "      <th>0</th>\n",
       "      <td>CartScreenAppear</td>\n",
       "      <td>42303</td>\n",
       "    </tr>\n",
       "    <tr>\n",
       "      <th>3</th>\n",
       "      <td>PaymentScreenSuccessful</td>\n",
       "      <td>33918</td>\n",
       "    </tr>\n",
       "    <tr>\n",
       "      <th>4</th>\n",
       "      <td>Tutorial</td>\n",
       "      <td>1005</td>\n",
       "    </tr>\n",
       "  </tbody>\n",
       "</table>\n",
       "</div>"
      ],
      "text/plain": [
       "                event_name  device_id_hash\n",
       "1         MainScreenAppear          117328\n",
       "2       OffersScreenAppear           46333\n",
       "0         CartScreenAppear           42303\n",
       "3  PaymentScreenSuccessful           33918\n",
       "4                 Tutorial            1005"
      ]
     },
     "execution_count": 98,
     "metadata": {},
     "output_type": "execute_result"
    }
   ],
   "source": [
    "logs_clean.groupby('event_name')['device_id_hash'].count().reset_index().sort_values(by='device_id_hash', ascending=False)"
   ]
  },
  {
   "cell_type": "markdown",
   "id": "8cb446b2",
   "metadata": {},
   "source": [
    "Посчитаем, сколько пользователей совершали каждое из этих событий. Отсортируем события по числу пользователей. Посчитаем долю пользователей, которые хоть раз совершали событие."
   ]
  },
  {
   "cell_type": "code",
   "execution_count": 99,
   "id": "3f332096",
   "metadata": {},
   "outputs": [],
   "source": [
    "tot = logs_clean.groupby('event_name')['device_id_hash'].nunique().sort_values(ascending=False).reset_index()"
   ]
  },
  {
   "cell_type": "code",
   "execution_count": 100,
   "id": "eb10e6c2",
   "metadata": {},
   "outputs": [],
   "source": [
    "tot['percent'] = tot['device_id_hash'] / tot['device_id_hash'].sum() * 100"
   ]
  },
  {
   "cell_type": "code",
   "execution_count": 101,
   "id": "168aee7b",
   "metadata": {},
   "outputs": [
    {
     "data": {
      "text/html": [
       "<div>\n",
       "<style scoped>\n",
       "    .dataframe tbody tr th:only-of-type {\n",
       "        vertical-align: middle;\n",
       "    }\n",
       "\n",
       "    .dataframe tbody tr th {\n",
       "        vertical-align: top;\n",
       "    }\n",
       "\n",
       "    .dataframe thead th {\n",
       "        text-align: right;\n",
       "    }\n",
       "</style>\n",
       "<table border=\"1\" class=\"dataframe\">\n",
       "  <thead>\n",
       "    <tr style=\"text-align: right;\">\n",
       "      <th></th>\n",
       "      <th>event_name</th>\n",
       "      <th>device_id_hash</th>\n",
       "      <th>percent</th>\n",
       "    </tr>\n",
       "  </thead>\n",
       "  <tbody>\n",
       "    <tr>\n",
       "      <th>0</th>\n",
       "      <td>MainScreenAppear</td>\n",
       "      <td>7419</td>\n",
       "      <td>36.864596</td>\n",
       "    </tr>\n",
       "    <tr>\n",
       "      <th>1</th>\n",
       "      <td>OffersScreenAppear</td>\n",
       "      <td>4593</td>\n",
       "      <td>22.822360</td>\n",
       "    </tr>\n",
       "    <tr>\n",
       "      <th>2</th>\n",
       "      <td>CartScreenAppear</td>\n",
       "      <td>3734</td>\n",
       "      <td>18.554037</td>\n",
       "    </tr>\n",
       "    <tr>\n",
       "      <th>3</th>\n",
       "      <td>PaymentScreenSuccessful</td>\n",
       "      <td>3539</td>\n",
       "      <td>17.585093</td>\n",
       "    </tr>\n",
       "    <tr>\n",
       "      <th>4</th>\n",
       "      <td>Tutorial</td>\n",
       "      <td>840</td>\n",
       "      <td>4.173913</td>\n",
       "    </tr>\n",
       "  </tbody>\n",
       "</table>\n",
       "</div>"
      ],
      "text/plain": [
       "                event_name  device_id_hash    percent\n",
       "0         MainScreenAppear            7419  36.864596\n",
       "1       OffersScreenAppear            4593  22.822360\n",
       "2         CartScreenAppear            3734  18.554037\n",
       "3  PaymentScreenSuccessful            3539  17.585093\n",
       "4                 Tutorial             840   4.173913"
      ]
     },
     "execution_count": 101,
     "metadata": {},
     "output_type": "execute_result"
    }
   ],
   "source": [
    "tot"
   ]
  },
  {
   "cell_type": "markdown",
   "id": "0b7ead5f",
   "metadata": {},
   "source": [
    "Предположим, в каком порядке происходят события. Все ли они выстраиваются в последовательную цепочку? Их не нужно учитывать при расчёте воронки."
   ]
  },
  {
   "cell_type": "markdown",
   "id": "5309077c",
   "metadata": {},
   "source": [
    "Скорее всего порядок событий следующий:\n",
    "<br>\n",
    "1. Основной экран\n",
    "<br>\n",
    "2. Экран с предложениями\n",
    "<br>\n",
    "3. Экран с корзиной с покупками\n",
    "<br>\n",
    "4. Успешная покупка\n",
    "<br>\n",
    "\n",
    "Тюториал скорее всего идет в самом начале и многие его пропускают, поэтому он имеет всего 4% кликабельности в общем весе."
   ]
  },
  {
   "cell_type": "markdown",
   "id": "266ffd45",
   "metadata": {},
   "source": [
    "По воронке событий посчитаем, какая доля пользователей проходит на следующий шаг воронки (от числа пользователей на предыдущем). То есть для последовательности событий A → B → C посчитаем отношение числа пользователей с событием B к количеству пользователей с событием A, а также отношение числа пользователей с событием C к количеству пользователей с событием B."
   ]
  },
  {
   "cell_type": "markdown",
   "id": "75f92af1",
   "metadata": {},
   "source": [
    "Уберем поле \"tutorial\" из таблицы"
   ]
  },
  {
   "cell_type": "code",
   "execution_count": 102,
   "id": "5b72f786",
   "metadata": {},
   "outputs": [],
   "source": [
    "logs_norm = logs_clean.loc[logs_clean['event_name']!='Tutorial']"
   ]
  },
  {
   "cell_type": "code",
   "execution_count": 103,
   "id": "1d5164eb",
   "metadata": {},
   "outputs": [
    {
     "data": {
      "text/plain": [
       "array(['MainScreenAppear', 'OffersScreenAppear', 'CartScreenAppear',\n",
       "       'PaymentScreenSuccessful'], dtype=object)"
      ]
     },
     "execution_count": 103,
     "metadata": {},
     "output_type": "execute_result"
    }
   ],
   "source": [
    "logs_norm['event_name'].unique()"
   ]
  },
  {
   "cell_type": "code",
   "execution_count": 104,
   "id": "8a6c419d",
   "metadata": {},
   "outputs": [
    {
     "data": {
      "text/plain": [
       "MainScreenAppear           117328\n",
       "OffersScreenAppear          46333\n",
       "CartScreenAppear            42303\n",
       "PaymentScreenSuccessful     33918\n",
       "Name: event_name, dtype: int64"
      ]
     },
     "execution_count": 104,
     "metadata": {},
     "output_type": "execute_result"
    }
   ],
   "source": [
    "logs_norm['event_name'].value_counts()"
   ]
  },
  {
   "cell_type": "markdown",
   "id": "4a4d4058",
   "metadata": {},
   "source": [
    "Посчитаем количество уникальных пользователей на каждом шаге"
   ]
  },
  {
   "cell_type": "code",
   "execution_count": 105,
   "id": "09217ff5",
   "metadata": {},
   "outputs": [
    {
     "data": {
      "text/html": [
       "<div>\n",
       "<style scoped>\n",
       "    .dataframe tbody tr th:only-of-type {\n",
       "        vertical-align: middle;\n",
       "    }\n",
       "\n",
       "    .dataframe tbody tr th {\n",
       "        vertical-align: top;\n",
       "    }\n",
       "\n",
       "    .dataframe thead th {\n",
       "        text-align: right;\n",
       "    }\n",
       "</style>\n",
       "<table border=\"1\" class=\"dataframe\">\n",
       "  <thead>\n",
       "    <tr style=\"text-align: right;\">\n",
       "      <th></th>\n",
       "      <th>event_name</th>\n",
       "      <th>device_id_hash</th>\n",
       "    </tr>\n",
       "  </thead>\n",
       "  <tbody>\n",
       "    <tr>\n",
       "      <th>1</th>\n",
       "      <td>MainScreenAppear</td>\n",
       "      <td>7419</td>\n",
       "    </tr>\n",
       "    <tr>\n",
       "      <th>2</th>\n",
       "      <td>OffersScreenAppear</td>\n",
       "      <td>4593</td>\n",
       "    </tr>\n",
       "    <tr>\n",
       "      <th>0</th>\n",
       "      <td>CartScreenAppear</td>\n",
       "      <td>3734</td>\n",
       "    </tr>\n",
       "    <tr>\n",
       "      <th>3</th>\n",
       "      <td>PaymentScreenSuccessful</td>\n",
       "      <td>3539</td>\n",
       "    </tr>\n",
       "  </tbody>\n",
       "</table>\n",
       "</div>"
      ],
      "text/plain": [
       "                event_name  device_id_hash\n",
       "1         MainScreenAppear            7419\n",
       "2       OffersScreenAppear            4593\n",
       "0         CartScreenAppear            3734\n",
       "3  PaymentScreenSuccessful            3539"
      ]
     },
     "execution_count": 105,
     "metadata": {},
     "output_type": "execute_result"
    }
   ],
   "source": [
    "logs_norm = logs_norm.groupby('event_name')['device_id_hash'].nunique().reset_index().sort_values(by='device_id_hash',ascending=False)\n",
    "logs_norm"
   ]
  },
  {
   "cell_type": "markdown",
   "id": "87e94790",
   "metadata": {},
   "source": [
    "Добавим процентную долю на каждом шаге от предыдущего показателя."
   ]
  },
  {
   "cell_type": "code",
   "execution_count": 106,
   "id": "547fb981",
   "metadata": {},
   "outputs": [],
   "source": [
    "logs_norm['share'] = logs_norm['device_id_hash']/logs_norm['device_id_hash'].shift(1)\n",
    "logs_norm['share'] = (logs_norm['share'] * 100).round(2).map('{0:.2f}%'.format)"
   ]
  },
  {
   "cell_type": "code",
   "execution_count": 107,
   "id": "a09cfb81",
   "metadata": {},
   "outputs": [
    {
     "data": {
      "text/html": [
       "<div>\n",
       "<style scoped>\n",
       "    .dataframe tbody tr th:only-of-type {\n",
       "        vertical-align: middle;\n",
       "    }\n",
       "\n",
       "    .dataframe tbody tr th {\n",
       "        vertical-align: top;\n",
       "    }\n",
       "\n",
       "    .dataframe thead th {\n",
       "        text-align: right;\n",
       "    }\n",
       "</style>\n",
       "<table border=\"1\" class=\"dataframe\">\n",
       "  <thead>\n",
       "    <tr style=\"text-align: right;\">\n",
       "      <th></th>\n",
       "      <th>event_name</th>\n",
       "      <th>device_id_hash</th>\n",
       "      <th>share</th>\n",
       "    </tr>\n",
       "  </thead>\n",
       "  <tbody>\n",
       "    <tr>\n",
       "      <th>1</th>\n",
       "      <td>MainScreenAppear</td>\n",
       "      <td>7419</td>\n",
       "      <td>nan%</td>\n",
       "    </tr>\n",
       "    <tr>\n",
       "      <th>2</th>\n",
       "      <td>OffersScreenAppear</td>\n",
       "      <td>4593</td>\n",
       "      <td>61.91%</td>\n",
       "    </tr>\n",
       "    <tr>\n",
       "      <th>0</th>\n",
       "      <td>CartScreenAppear</td>\n",
       "      <td>3734</td>\n",
       "      <td>81.30%</td>\n",
       "    </tr>\n",
       "    <tr>\n",
       "      <th>3</th>\n",
       "      <td>PaymentScreenSuccessful</td>\n",
       "      <td>3539</td>\n",
       "      <td>94.78%</td>\n",
       "    </tr>\n",
       "  </tbody>\n",
       "</table>\n",
       "</div>"
      ],
      "text/plain": [
       "                event_name  device_id_hash   share\n",
       "1         MainScreenAppear            7419    nan%\n",
       "2       OffersScreenAppear            4593  61.91%\n",
       "0         CartScreenAppear            3734  81.30%\n",
       "3  PaymentScreenSuccessful            3539  94.78%"
      ]
     },
     "execution_count": 107,
     "metadata": {},
     "output_type": "execute_result"
    }
   ],
   "source": [
    "logs_norm"
   ]
  },
  {
   "cell_type": "markdown",
   "id": "19fa5038",
   "metadata": {},
   "source": [
    "На каком шаге теряется больше всего пользователей?"
   ]
  },
  {
   "cell_type": "markdown",
   "id": "dd064087",
   "metadata": {},
   "source": [
    "Больше всего пользователей теряется на шаге \"OffersScreenAppear\"(почти 39%), далее по шагам процент отпадающий пользователей снижается"
   ]
  },
  {
   "cell_type": "markdown",
   "id": "0214faec",
   "metadata": {},
   "source": [
    "Какая доля пользователей доходит от первого события до оплаты?"
   ]
  },
  {
   "cell_type": "code",
   "execution_count": 108,
   "id": "5c751dfa",
   "metadata": {},
   "outputs": [
    {
     "data": {
      "text/plain": [
       "47.70184661005526"
      ]
     },
     "execution_count": 108,
     "metadata": {},
     "output_type": "execute_result"
    }
   ],
   "source": [
    "logs_norm['device_id_hash'].min()*100 /logs_norm['device_id_hash'].max()"
   ]
  },
  {
   "cell_type": "markdown",
   "id": "dbdc183d",
   "metadata": {},
   "source": [
    "До конца доходят 47,7% пользователей."
   ]
  },
  {
   "cell_type": "markdown",
   "id": "f2ddef3c",
   "metadata": {},
   "source": [
    "Построим график воронки для наглядности <a id='график'></a>"
   ]
  },
  {
   "cell_type": "code",
   "execution_count": 109,
   "id": "6c863a92",
   "metadata": {},
   "outputs": [
    {
     "data": {
      "application/vnd.plotly.v1+json": {
       "config": {
        "plotlyServerURL": "https://plot.ly"
       },
       "data": [
        {
         "type": "funnel",
         "x": [
          7419,
          4593,
          3734,
          3539
         ],
         "y": [
          "MainScreenAppear",
          "OffersScreenAppear",
          "CartScreenAppear",
          "PaymentScreenSuccessful"
         ]
        }
       ],
       "layout": {
        "template": {
         "data": {
          "bar": [
           {
            "error_x": {
             "color": "#2a3f5f"
            },
            "error_y": {
             "color": "#2a3f5f"
            },
            "marker": {
             "line": {
              "color": "#E5ECF6",
              "width": 0.5
             },
             "pattern": {
              "fillmode": "overlay",
              "size": 10,
              "solidity": 0.2
             }
            },
            "type": "bar"
           }
          ],
          "barpolar": [
           {
            "marker": {
             "line": {
              "color": "#E5ECF6",
              "width": 0.5
             },
             "pattern": {
              "fillmode": "overlay",
              "size": 10,
              "solidity": 0.2
             }
            },
            "type": "barpolar"
           }
          ],
          "carpet": [
           {
            "aaxis": {
             "endlinecolor": "#2a3f5f",
             "gridcolor": "white",
             "linecolor": "white",
             "minorgridcolor": "white",
             "startlinecolor": "#2a3f5f"
            },
            "baxis": {
             "endlinecolor": "#2a3f5f",
             "gridcolor": "white",
             "linecolor": "white",
             "minorgridcolor": "white",
             "startlinecolor": "#2a3f5f"
            },
            "type": "carpet"
           }
          ],
          "choropleth": [
           {
            "colorbar": {
             "outlinewidth": 0,
             "ticks": ""
            },
            "type": "choropleth"
           }
          ],
          "contour": [
           {
            "colorbar": {
             "outlinewidth": 0,
             "ticks": ""
            },
            "colorscale": [
             [
              0,
              "#0d0887"
             ],
             [
              0.1111111111111111,
              "#46039f"
             ],
             [
              0.2222222222222222,
              "#7201a8"
             ],
             [
              0.3333333333333333,
              "#9c179e"
             ],
             [
              0.4444444444444444,
              "#bd3786"
             ],
             [
              0.5555555555555556,
              "#d8576b"
             ],
             [
              0.6666666666666666,
              "#ed7953"
             ],
             [
              0.7777777777777778,
              "#fb9f3a"
             ],
             [
              0.8888888888888888,
              "#fdca26"
             ],
             [
              1,
              "#f0f921"
             ]
            ],
            "type": "contour"
           }
          ],
          "contourcarpet": [
           {
            "colorbar": {
             "outlinewidth": 0,
             "ticks": ""
            },
            "type": "contourcarpet"
           }
          ],
          "heatmap": [
           {
            "colorbar": {
             "outlinewidth": 0,
             "ticks": ""
            },
            "colorscale": [
             [
              0,
              "#0d0887"
             ],
             [
              0.1111111111111111,
              "#46039f"
             ],
             [
              0.2222222222222222,
              "#7201a8"
             ],
             [
              0.3333333333333333,
              "#9c179e"
             ],
             [
              0.4444444444444444,
              "#bd3786"
             ],
             [
              0.5555555555555556,
              "#d8576b"
             ],
             [
              0.6666666666666666,
              "#ed7953"
             ],
             [
              0.7777777777777778,
              "#fb9f3a"
             ],
             [
              0.8888888888888888,
              "#fdca26"
             ],
             [
              1,
              "#f0f921"
             ]
            ],
            "type": "heatmap"
           }
          ],
          "heatmapgl": [
           {
            "colorbar": {
             "outlinewidth": 0,
             "ticks": ""
            },
            "colorscale": [
             [
              0,
              "#0d0887"
             ],
             [
              0.1111111111111111,
              "#46039f"
             ],
             [
              0.2222222222222222,
              "#7201a8"
             ],
             [
              0.3333333333333333,
              "#9c179e"
             ],
             [
              0.4444444444444444,
              "#bd3786"
             ],
             [
              0.5555555555555556,
              "#d8576b"
             ],
             [
              0.6666666666666666,
              "#ed7953"
             ],
             [
              0.7777777777777778,
              "#fb9f3a"
             ],
             [
              0.8888888888888888,
              "#fdca26"
             ],
             [
              1,
              "#f0f921"
             ]
            ],
            "type": "heatmapgl"
           }
          ],
          "histogram": [
           {
            "marker": {
             "pattern": {
              "fillmode": "overlay",
              "size": 10,
              "solidity": 0.2
             }
            },
            "type": "histogram"
           }
          ],
          "histogram2d": [
           {
            "colorbar": {
             "outlinewidth": 0,
             "ticks": ""
            },
            "colorscale": [
             [
              0,
              "#0d0887"
             ],
             [
              0.1111111111111111,
              "#46039f"
             ],
             [
              0.2222222222222222,
              "#7201a8"
             ],
             [
              0.3333333333333333,
              "#9c179e"
             ],
             [
              0.4444444444444444,
              "#bd3786"
             ],
             [
              0.5555555555555556,
              "#d8576b"
             ],
             [
              0.6666666666666666,
              "#ed7953"
             ],
             [
              0.7777777777777778,
              "#fb9f3a"
             ],
             [
              0.8888888888888888,
              "#fdca26"
             ],
             [
              1,
              "#f0f921"
             ]
            ],
            "type": "histogram2d"
           }
          ],
          "histogram2dcontour": [
           {
            "colorbar": {
             "outlinewidth": 0,
             "ticks": ""
            },
            "colorscale": [
             [
              0,
              "#0d0887"
             ],
             [
              0.1111111111111111,
              "#46039f"
             ],
             [
              0.2222222222222222,
              "#7201a8"
             ],
             [
              0.3333333333333333,
              "#9c179e"
             ],
             [
              0.4444444444444444,
              "#bd3786"
             ],
             [
              0.5555555555555556,
              "#d8576b"
             ],
             [
              0.6666666666666666,
              "#ed7953"
             ],
             [
              0.7777777777777778,
              "#fb9f3a"
             ],
             [
              0.8888888888888888,
              "#fdca26"
             ],
             [
              1,
              "#f0f921"
             ]
            ],
            "type": "histogram2dcontour"
           }
          ],
          "mesh3d": [
           {
            "colorbar": {
             "outlinewidth": 0,
             "ticks": ""
            },
            "type": "mesh3d"
           }
          ],
          "parcoords": [
           {
            "line": {
             "colorbar": {
              "outlinewidth": 0,
              "ticks": ""
             }
            },
            "type": "parcoords"
           }
          ],
          "pie": [
           {
            "automargin": true,
            "type": "pie"
           }
          ],
          "scatter": [
           {
            "fillpattern": {
             "fillmode": "overlay",
             "size": 10,
             "solidity": 0.2
            },
            "type": "scatter"
           }
          ],
          "scatter3d": [
           {
            "line": {
             "colorbar": {
              "outlinewidth": 0,
              "ticks": ""
             }
            },
            "marker": {
             "colorbar": {
              "outlinewidth": 0,
              "ticks": ""
             }
            },
            "type": "scatter3d"
           }
          ],
          "scattercarpet": [
           {
            "marker": {
             "colorbar": {
              "outlinewidth": 0,
              "ticks": ""
             }
            },
            "type": "scattercarpet"
           }
          ],
          "scattergeo": [
           {
            "marker": {
             "colorbar": {
              "outlinewidth": 0,
              "ticks": ""
             }
            },
            "type": "scattergeo"
           }
          ],
          "scattergl": [
           {
            "marker": {
             "colorbar": {
              "outlinewidth": 0,
              "ticks": ""
             }
            },
            "type": "scattergl"
           }
          ],
          "scattermapbox": [
           {
            "marker": {
             "colorbar": {
              "outlinewidth": 0,
              "ticks": ""
             }
            },
            "type": "scattermapbox"
           }
          ],
          "scatterpolar": [
           {
            "marker": {
             "colorbar": {
              "outlinewidth": 0,
              "ticks": ""
             }
            },
            "type": "scatterpolar"
           }
          ],
          "scatterpolargl": [
           {
            "marker": {
             "colorbar": {
              "outlinewidth": 0,
              "ticks": ""
             }
            },
            "type": "scatterpolargl"
           }
          ],
          "scatterternary": [
           {
            "marker": {
             "colorbar": {
              "outlinewidth": 0,
              "ticks": ""
             }
            },
            "type": "scatterternary"
           }
          ],
          "surface": [
           {
            "colorbar": {
             "outlinewidth": 0,
             "ticks": ""
            },
            "colorscale": [
             [
              0,
              "#0d0887"
             ],
             [
              0.1111111111111111,
              "#46039f"
             ],
             [
              0.2222222222222222,
              "#7201a8"
             ],
             [
              0.3333333333333333,
              "#9c179e"
             ],
             [
              0.4444444444444444,
              "#bd3786"
             ],
             [
              0.5555555555555556,
              "#d8576b"
             ],
             [
              0.6666666666666666,
              "#ed7953"
             ],
             [
              0.7777777777777778,
              "#fb9f3a"
             ],
             [
              0.8888888888888888,
              "#fdca26"
             ],
             [
              1,
              "#f0f921"
             ]
            ],
            "type": "surface"
           }
          ],
          "table": [
           {
            "cells": {
             "fill": {
              "color": "#EBF0F8"
             },
             "line": {
              "color": "white"
             }
            },
            "header": {
             "fill": {
              "color": "#C8D4E3"
             },
             "line": {
              "color": "white"
             }
            },
            "type": "table"
           }
          ]
         },
         "layout": {
          "annotationdefaults": {
           "arrowcolor": "#2a3f5f",
           "arrowhead": 0,
           "arrowwidth": 1
          },
          "autotypenumbers": "strict",
          "coloraxis": {
           "colorbar": {
            "outlinewidth": 0,
            "ticks": ""
           }
          },
          "colorscale": {
           "diverging": [
            [
             0,
             "#8e0152"
            ],
            [
             0.1,
             "#c51b7d"
            ],
            [
             0.2,
             "#de77ae"
            ],
            [
             0.3,
             "#f1b6da"
            ],
            [
             0.4,
             "#fde0ef"
            ],
            [
             0.5,
             "#f7f7f7"
            ],
            [
             0.6,
             "#e6f5d0"
            ],
            [
             0.7,
             "#b8e186"
            ],
            [
             0.8,
             "#7fbc41"
            ],
            [
             0.9,
             "#4d9221"
            ],
            [
             1,
             "#276419"
            ]
           ],
           "sequential": [
            [
             0,
             "#0d0887"
            ],
            [
             0.1111111111111111,
             "#46039f"
            ],
            [
             0.2222222222222222,
             "#7201a8"
            ],
            [
             0.3333333333333333,
             "#9c179e"
            ],
            [
             0.4444444444444444,
             "#bd3786"
            ],
            [
             0.5555555555555556,
             "#d8576b"
            ],
            [
             0.6666666666666666,
             "#ed7953"
            ],
            [
             0.7777777777777778,
             "#fb9f3a"
            ],
            [
             0.8888888888888888,
             "#fdca26"
            ],
            [
             1,
             "#f0f921"
            ]
           ],
           "sequentialminus": [
            [
             0,
             "#0d0887"
            ],
            [
             0.1111111111111111,
             "#46039f"
            ],
            [
             0.2222222222222222,
             "#7201a8"
            ],
            [
             0.3333333333333333,
             "#9c179e"
            ],
            [
             0.4444444444444444,
             "#bd3786"
            ],
            [
             0.5555555555555556,
             "#d8576b"
            ],
            [
             0.6666666666666666,
             "#ed7953"
            ],
            [
             0.7777777777777778,
             "#fb9f3a"
            ],
            [
             0.8888888888888888,
             "#fdca26"
            ],
            [
             1,
             "#f0f921"
            ]
           ]
          },
          "colorway": [
           "#636efa",
           "#EF553B",
           "#00cc96",
           "#ab63fa",
           "#FFA15A",
           "#19d3f3",
           "#FF6692",
           "#B6E880",
           "#FF97FF",
           "#FECB52"
          ],
          "font": {
           "color": "#2a3f5f"
          },
          "geo": {
           "bgcolor": "white",
           "lakecolor": "white",
           "landcolor": "#E5ECF6",
           "showlakes": true,
           "showland": true,
           "subunitcolor": "white"
          },
          "hoverlabel": {
           "align": "left"
          },
          "hovermode": "closest",
          "mapbox": {
           "style": "light"
          },
          "paper_bgcolor": "white",
          "plot_bgcolor": "#E5ECF6",
          "polar": {
           "angularaxis": {
            "gridcolor": "white",
            "linecolor": "white",
            "ticks": ""
           },
           "bgcolor": "#E5ECF6",
           "radialaxis": {
            "gridcolor": "white",
            "linecolor": "white",
            "ticks": ""
           }
          },
          "scene": {
           "xaxis": {
            "backgroundcolor": "#E5ECF6",
            "gridcolor": "white",
            "gridwidth": 2,
            "linecolor": "white",
            "showbackground": true,
            "ticks": "",
            "zerolinecolor": "white"
           },
           "yaxis": {
            "backgroundcolor": "#E5ECF6",
            "gridcolor": "white",
            "gridwidth": 2,
            "linecolor": "white",
            "showbackground": true,
            "ticks": "",
            "zerolinecolor": "white"
           },
           "zaxis": {
            "backgroundcolor": "#E5ECF6",
            "gridcolor": "white",
            "gridwidth": 2,
            "linecolor": "white",
            "showbackground": true,
            "ticks": "",
            "zerolinecolor": "white"
           }
          },
          "shapedefaults": {
           "line": {
            "color": "#2a3f5f"
           }
          },
          "ternary": {
           "aaxis": {
            "gridcolor": "white",
            "linecolor": "white",
            "ticks": ""
           },
           "baxis": {
            "gridcolor": "white",
            "linecolor": "white",
            "ticks": ""
           },
           "bgcolor": "#E5ECF6",
           "caxis": {
            "gridcolor": "white",
            "linecolor": "white",
            "ticks": ""
           }
          },
          "title": {
           "x": 0.05
          },
          "xaxis": {
           "automargin": true,
           "gridcolor": "white",
           "linecolor": "white",
           "ticks": "",
           "title": {
            "standoff": 15
           },
           "zerolinecolor": "white",
           "zerolinewidth": 2
          },
          "yaxis": {
           "automargin": true,
           "gridcolor": "white",
           "linecolor": "white",
           "ticks": "",
           "title": {
            "standoff": 15
           },
           "zerolinecolor": "white",
           "zerolinewidth": 2
          }
         }
        },
        "title": {
         "text": "Воронка",
         "x": 0.5
        }
       }
      },
      "text/html": [
       "<div>                            <div id=\"83c64fa7-f334-42a1-9f73-b9d8178f634e\" class=\"plotly-graph-div\" style=\"height:525px; width:100%;\"></div>            <script type=\"text/javascript\">                require([\"plotly\"], function(Plotly) {                    window.PLOTLYENV=window.PLOTLYENV || {};                                    if (document.getElementById(\"83c64fa7-f334-42a1-9f73-b9d8178f634e\")) {                    Plotly.newPlot(                        \"83c64fa7-f334-42a1-9f73-b9d8178f634e\",                        [{\"x\":[7419,4593,3734,3539],\"y\":[\"MainScreenAppear\",\"OffersScreenAppear\",\"CartScreenAppear\",\"PaymentScreenSuccessful\"],\"type\":\"funnel\"}],                        {\"template\":{\"data\":{\"histogram2dcontour\":[{\"type\":\"histogram2dcontour\",\"colorbar\":{\"outlinewidth\":0,\"ticks\":\"\"},\"colorscale\":[[0.0,\"#0d0887\"],[0.1111111111111111,\"#46039f\"],[0.2222222222222222,\"#7201a8\"],[0.3333333333333333,\"#9c179e\"],[0.4444444444444444,\"#bd3786\"],[0.5555555555555556,\"#d8576b\"],[0.6666666666666666,\"#ed7953\"],[0.7777777777777778,\"#fb9f3a\"],[0.8888888888888888,\"#fdca26\"],[1.0,\"#f0f921\"]]}],\"choropleth\":[{\"type\":\"choropleth\",\"colorbar\":{\"outlinewidth\":0,\"ticks\":\"\"}}],\"histogram2d\":[{\"type\":\"histogram2d\",\"colorbar\":{\"outlinewidth\":0,\"ticks\":\"\"},\"colorscale\":[[0.0,\"#0d0887\"],[0.1111111111111111,\"#46039f\"],[0.2222222222222222,\"#7201a8\"],[0.3333333333333333,\"#9c179e\"],[0.4444444444444444,\"#bd3786\"],[0.5555555555555556,\"#d8576b\"],[0.6666666666666666,\"#ed7953\"],[0.7777777777777778,\"#fb9f3a\"],[0.8888888888888888,\"#fdca26\"],[1.0,\"#f0f921\"]]}],\"heatmap\":[{\"type\":\"heatmap\",\"colorbar\":{\"outlinewidth\":0,\"ticks\":\"\"},\"colorscale\":[[0.0,\"#0d0887\"],[0.1111111111111111,\"#46039f\"],[0.2222222222222222,\"#7201a8\"],[0.3333333333333333,\"#9c179e\"],[0.4444444444444444,\"#bd3786\"],[0.5555555555555556,\"#d8576b\"],[0.6666666666666666,\"#ed7953\"],[0.7777777777777778,\"#fb9f3a\"],[0.8888888888888888,\"#fdca26\"],[1.0,\"#f0f921\"]]}],\"heatmapgl\":[{\"type\":\"heatmapgl\",\"colorbar\":{\"outlinewidth\":0,\"ticks\":\"\"},\"colorscale\":[[0.0,\"#0d0887\"],[0.1111111111111111,\"#46039f\"],[0.2222222222222222,\"#7201a8\"],[0.3333333333333333,\"#9c179e\"],[0.4444444444444444,\"#bd3786\"],[0.5555555555555556,\"#d8576b\"],[0.6666666666666666,\"#ed7953\"],[0.7777777777777778,\"#fb9f3a\"],[0.8888888888888888,\"#fdca26\"],[1.0,\"#f0f921\"]]}],\"contourcarpet\":[{\"type\":\"contourcarpet\",\"colorbar\":{\"outlinewidth\":0,\"ticks\":\"\"}}],\"contour\":[{\"type\":\"contour\",\"colorbar\":{\"outlinewidth\":0,\"ticks\":\"\"},\"colorscale\":[[0.0,\"#0d0887\"],[0.1111111111111111,\"#46039f\"],[0.2222222222222222,\"#7201a8\"],[0.3333333333333333,\"#9c179e\"],[0.4444444444444444,\"#bd3786\"],[0.5555555555555556,\"#d8576b\"],[0.6666666666666666,\"#ed7953\"],[0.7777777777777778,\"#fb9f3a\"],[0.8888888888888888,\"#fdca26\"],[1.0,\"#f0f921\"]]}],\"surface\":[{\"type\":\"surface\",\"colorbar\":{\"outlinewidth\":0,\"ticks\":\"\"},\"colorscale\":[[0.0,\"#0d0887\"],[0.1111111111111111,\"#46039f\"],[0.2222222222222222,\"#7201a8\"],[0.3333333333333333,\"#9c179e\"],[0.4444444444444444,\"#bd3786\"],[0.5555555555555556,\"#d8576b\"],[0.6666666666666666,\"#ed7953\"],[0.7777777777777778,\"#fb9f3a\"],[0.8888888888888888,\"#fdca26\"],[1.0,\"#f0f921\"]]}],\"mesh3d\":[{\"type\":\"mesh3d\",\"colorbar\":{\"outlinewidth\":0,\"ticks\":\"\"}}],\"scatter\":[{\"fillpattern\":{\"fillmode\":\"overlay\",\"size\":10,\"solidity\":0.2},\"type\":\"scatter\"}],\"parcoords\":[{\"type\":\"parcoords\",\"line\":{\"colorbar\":{\"outlinewidth\":0,\"ticks\":\"\"}}}],\"scatterpolargl\":[{\"type\":\"scatterpolargl\",\"marker\":{\"colorbar\":{\"outlinewidth\":0,\"ticks\":\"\"}}}],\"bar\":[{\"error_x\":{\"color\":\"#2a3f5f\"},\"error_y\":{\"color\":\"#2a3f5f\"},\"marker\":{\"line\":{\"color\":\"#E5ECF6\",\"width\":0.5},\"pattern\":{\"fillmode\":\"overlay\",\"size\":10,\"solidity\":0.2}},\"type\":\"bar\"}],\"scattergeo\":[{\"type\":\"scattergeo\",\"marker\":{\"colorbar\":{\"outlinewidth\":0,\"ticks\":\"\"}}}],\"scatterpolar\":[{\"type\":\"scatterpolar\",\"marker\":{\"colorbar\":{\"outlinewidth\":0,\"ticks\":\"\"}}}],\"histogram\":[{\"marker\":{\"pattern\":{\"fillmode\":\"overlay\",\"size\":10,\"solidity\":0.2}},\"type\":\"histogram\"}],\"scattergl\":[{\"type\":\"scattergl\",\"marker\":{\"colorbar\":{\"outlinewidth\":0,\"ticks\":\"\"}}}],\"scatter3d\":[{\"type\":\"scatter3d\",\"line\":{\"colorbar\":{\"outlinewidth\":0,\"ticks\":\"\"}},\"marker\":{\"colorbar\":{\"outlinewidth\":0,\"ticks\":\"\"}}}],\"scattermapbox\":[{\"type\":\"scattermapbox\",\"marker\":{\"colorbar\":{\"outlinewidth\":0,\"ticks\":\"\"}}}],\"scatterternary\":[{\"type\":\"scatterternary\",\"marker\":{\"colorbar\":{\"outlinewidth\":0,\"ticks\":\"\"}}}],\"scattercarpet\":[{\"type\":\"scattercarpet\",\"marker\":{\"colorbar\":{\"outlinewidth\":0,\"ticks\":\"\"}}}],\"carpet\":[{\"aaxis\":{\"endlinecolor\":\"#2a3f5f\",\"gridcolor\":\"white\",\"linecolor\":\"white\",\"minorgridcolor\":\"white\",\"startlinecolor\":\"#2a3f5f\"},\"baxis\":{\"endlinecolor\":\"#2a3f5f\",\"gridcolor\":\"white\",\"linecolor\":\"white\",\"minorgridcolor\":\"white\",\"startlinecolor\":\"#2a3f5f\"},\"type\":\"carpet\"}],\"table\":[{\"cells\":{\"fill\":{\"color\":\"#EBF0F8\"},\"line\":{\"color\":\"white\"}},\"header\":{\"fill\":{\"color\":\"#C8D4E3\"},\"line\":{\"color\":\"white\"}},\"type\":\"table\"}],\"barpolar\":[{\"marker\":{\"line\":{\"color\":\"#E5ECF6\",\"width\":0.5},\"pattern\":{\"fillmode\":\"overlay\",\"size\":10,\"solidity\":0.2}},\"type\":\"barpolar\"}],\"pie\":[{\"automargin\":true,\"type\":\"pie\"}]},\"layout\":{\"autotypenumbers\":\"strict\",\"colorway\":[\"#636efa\",\"#EF553B\",\"#00cc96\",\"#ab63fa\",\"#FFA15A\",\"#19d3f3\",\"#FF6692\",\"#B6E880\",\"#FF97FF\",\"#FECB52\"],\"font\":{\"color\":\"#2a3f5f\"},\"hovermode\":\"closest\",\"hoverlabel\":{\"align\":\"left\"},\"paper_bgcolor\":\"white\",\"plot_bgcolor\":\"#E5ECF6\",\"polar\":{\"bgcolor\":\"#E5ECF6\",\"angularaxis\":{\"gridcolor\":\"white\",\"linecolor\":\"white\",\"ticks\":\"\"},\"radialaxis\":{\"gridcolor\":\"white\",\"linecolor\":\"white\",\"ticks\":\"\"}},\"ternary\":{\"bgcolor\":\"#E5ECF6\",\"aaxis\":{\"gridcolor\":\"white\",\"linecolor\":\"white\",\"ticks\":\"\"},\"baxis\":{\"gridcolor\":\"white\",\"linecolor\":\"white\",\"ticks\":\"\"},\"caxis\":{\"gridcolor\":\"white\",\"linecolor\":\"white\",\"ticks\":\"\"}},\"coloraxis\":{\"colorbar\":{\"outlinewidth\":0,\"ticks\":\"\"}},\"colorscale\":{\"sequential\":[[0.0,\"#0d0887\"],[0.1111111111111111,\"#46039f\"],[0.2222222222222222,\"#7201a8\"],[0.3333333333333333,\"#9c179e\"],[0.4444444444444444,\"#bd3786\"],[0.5555555555555556,\"#d8576b\"],[0.6666666666666666,\"#ed7953\"],[0.7777777777777778,\"#fb9f3a\"],[0.8888888888888888,\"#fdca26\"],[1.0,\"#f0f921\"]],\"sequentialminus\":[[0.0,\"#0d0887\"],[0.1111111111111111,\"#46039f\"],[0.2222222222222222,\"#7201a8\"],[0.3333333333333333,\"#9c179e\"],[0.4444444444444444,\"#bd3786\"],[0.5555555555555556,\"#d8576b\"],[0.6666666666666666,\"#ed7953\"],[0.7777777777777778,\"#fb9f3a\"],[0.8888888888888888,\"#fdca26\"],[1.0,\"#f0f921\"]],\"diverging\":[[0,\"#8e0152\"],[0.1,\"#c51b7d\"],[0.2,\"#de77ae\"],[0.3,\"#f1b6da\"],[0.4,\"#fde0ef\"],[0.5,\"#f7f7f7\"],[0.6,\"#e6f5d0\"],[0.7,\"#b8e186\"],[0.8,\"#7fbc41\"],[0.9,\"#4d9221\"],[1,\"#276419\"]]},\"xaxis\":{\"gridcolor\":\"white\",\"linecolor\":\"white\",\"ticks\":\"\",\"title\":{\"standoff\":15},\"zerolinecolor\":\"white\",\"automargin\":true,\"zerolinewidth\":2},\"yaxis\":{\"gridcolor\":\"white\",\"linecolor\":\"white\",\"ticks\":\"\",\"title\":{\"standoff\":15},\"zerolinecolor\":\"white\",\"automargin\":true,\"zerolinewidth\":2},\"scene\":{\"xaxis\":{\"backgroundcolor\":\"#E5ECF6\",\"gridcolor\":\"white\",\"linecolor\":\"white\",\"showbackground\":true,\"ticks\":\"\",\"zerolinecolor\":\"white\",\"gridwidth\":2},\"yaxis\":{\"backgroundcolor\":\"#E5ECF6\",\"gridcolor\":\"white\",\"linecolor\":\"white\",\"showbackground\":true,\"ticks\":\"\",\"zerolinecolor\":\"white\",\"gridwidth\":2},\"zaxis\":{\"backgroundcolor\":\"#E5ECF6\",\"gridcolor\":\"white\",\"linecolor\":\"white\",\"showbackground\":true,\"ticks\":\"\",\"zerolinecolor\":\"white\",\"gridwidth\":2}},\"shapedefaults\":{\"line\":{\"color\":\"#2a3f5f\"}},\"annotationdefaults\":{\"arrowcolor\":\"#2a3f5f\",\"arrowhead\":0,\"arrowwidth\":1},\"geo\":{\"bgcolor\":\"white\",\"landcolor\":\"#E5ECF6\",\"subunitcolor\":\"white\",\"showland\":true,\"showlakes\":true,\"lakecolor\":\"white\"},\"title\":{\"x\":0.05},\"mapbox\":{\"style\":\"light\"}}},\"title\":{\"text\":\"\\u0412\\u043e\\u0440\\u043e\\u043d\\u043a\\u0430\",\"x\":0.5}},                        {\"responsive\": true}                    ).then(function(){\n",
       "                            \n",
       "var gd = document.getElementById('83c64fa7-f334-42a1-9f73-b9d8178f634e');\n",
       "var x = new MutationObserver(function (mutations, observer) {{\n",
       "        var display = window.getComputedStyle(gd).display;\n",
       "        if (!display || display === 'none') {{\n",
       "            console.log([gd, 'removed!']);\n",
       "            Plotly.purge(gd);\n",
       "            observer.disconnect();\n",
       "        }}\n",
       "}});\n",
       "\n",
       "// Listen for the removal of the full notebook cells\n",
       "var notebookContainer = gd.closest('#notebook-container');\n",
       "if (notebookContainer) {{\n",
       "    x.observe(notebookContainer, {childList: true});\n",
       "}}\n",
       "\n",
       "// Listen for the clearing of the current output cell\n",
       "var outputEl = gd.closest('.output');\n",
       "if (outputEl) {{\n",
       "    x.observe(outputEl, {childList: true});\n",
       "}}\n",
       "\n",
       "                        })                };                });            </script>        </div>"
      ]
     },
     "metadata": {},
     "output_type": "display_data"
    }
   ],
   "source": [
    "fig = go.Figure()\n",
    "fig = go.Figure(go.Funnel(\n",
    "    y = logs_norm['event_name'],\n",
    "    x = logs_norm['device_id_hash']))\n",
    "fig.update_layout(title='Воронка', title_x = 0.5)\n",
    "fig.show()"
   ]
  },
  {
   "cell_type": "markdown",
   "id": "696ca418",
   "metadata": {},
   "source": [
    "#### Вывод по четвертому шагу"
   ]
  },
  {
   "cell_type": "markdown",
   "id": "1c40bb12",
   "metadata": {},
   "source": [
    "Всего было совершено по всем событиям и всем пользователям 240887 действий. Наибольшее количество из них это просмотр основного экрана(36.86%). \n",
    "Скорее всего порядок событий следующий:\n",
    "<br>\n",
    "1. Основной экран\n",
    "<br>\n",
    "2. Экран с предложениями\n",
    "<br>\n",
    "3. Экран с корзиной с покупками\n",
    "<br>\n",
    "4. Успешная покупка\n",
    "<br>\n",
    "\n",
    "Тюториал скорее всего идет в самом начале и многие его пропускают, поэтому он имеет всего 4% кликабельности в общем весе.\n",
    "<br>\n",
    "Больше всего пользователей теряется на шаге \"OffersScreenAppear\"(почти 39%), возможно это связано с тем, что кномка для просмотра каталога незаметна или неудобна для пользователей, далее по шагам процент отпадающий пользователей снижается.\n",
    "<br>\n",
    "До конца доходят меньше половины пользователей(47,7%).\n"
   ]
  },
  {
   "cell_type": "markdown",
   "id": "b1d052e3",
   "metadata": {},
   "source": [
    "#### Шаг 5. Изучим результаты эксперимента"
   ]
  },
  {
   "cell_type": "markdown",
   "id": "21f5ff51",
   "metadata": {},
   "source": [
    "Сколько пользователей в каждой экспериментальной группе?"
   ]
  },
  {
   "cell_type": "code",
   "execution_count": 110,
   "id": "e4f1c46d",
   "metadata": {},
   "outputs": [
    {
     "data": {
      "text/html": [
       "<div>\n",
       "<style scoped>\n",
       "    .dataframe tbody tr th:only-of-type {\n",
       "        vertical-align: middle;\n",
       "    }\n",
       "\n",
       "    .dataframe tbody tr th {\n",
       "        vertical-align: top;\n",
       "    }\n",
       "\n",
       "    .dataframe thead th {\n",
       "        text-align: right;\n",
       "    }\n",
       "</style>\n",
       "<table border=\"1\" class=\"dataframe\">\n",
       "  <thead>\n",
       "    <tr style=\"text-align: right;\">\n",
       "      <th></th>\n",
       "      <th>exp_id</th>\n",
       "      <th>device_id_hash</th>\n",
       "    </tr>\n",
       "  </thead>\n",
       "  <tbody>\n",
       "    <tr>\n",
       "      <th>0</th>\n",
       "      <td>246</td>\n",
       "      <td>2484</td>\n",
       "    </tr>\n",
       "    <tr>\n",
       "      <th>1</th>\n",
       "      <td>247</td>\n",
       "      <td>2513</td>\n",
       "    </tr>\n",
       "    <tr>\n",
       "      <th>2</th>\n",
       "      <td>248</td>\n",
       "      <td>2537</td>\n",
       "    </tr>\n",
       "  </tbody>\n",
       "</table>\n",
       "</div>"
      ],
      "text/plain": [
       "   exp_id  device_id_hash\n",
       "0     246            2484\n",
       "1     247            2513\n",
       "2     248            2537"
      ]
     },
     "execution_count": 110,
     "metadata": {},
     "output_type": "execute_result"
    }
   ],
   "source": [
    "users = logs_clean.groupby('exp_id')['device_id_hash'].nunique().reset_index()\n",
    "users"
   ]
  },
  {
   "cell_type": "markdown",
   "id": "f0e6a0b7",
   "metadata": {},
   "source": [
    "В каждой группе примерно по 2500 пользователей."
   ]
  },
  {
   "cell_type": "markdown",
   "id": "e477dfa5",
   "metadata": {},
   "source": [
    "Есть 2 контрольные группы для А/А-эксперимента, чтобы проверить корректность всех механизмов и расчётов. Проверим, находят ли статистические критерии разницу между выборками 246 и 247."
   ]
  },
  {
   "cell_type": "markdown",
   "id": "b0a77c2f",
   "metadata": {},
   "source": [
    "Для начала проверим, не дублируются ли уникальные пользватели в разных контрольных группах <a id='проверка'></a>"
   ]
  },
  {
   "cell_type": "code",
   "execution_count": 111,
   "id": "23d4680f",
   "metadata": {},
   "outputs": [],
   "source": [
    "check = logs_clean.loc[logs_clean[\"exp_id\"]==246, \"device_id_hash\"].isin(logs_clean.loc[logs_clean[\"exp_id\"]==247, \"device_id_hash\"]).reset_index()"
   ]
  },
  {
   "cell_type": "code",
   "execution_count": 112,
   "id": "a8ef28f1",
   "metadata": {},
   "outputs": [
    {
     "data": {
      "text/html": [
       "<div>\n",
       "<style scoped>\n",
       "    .dataframe tbody tr th:only-of-type {\n",
       "        vertical-align: middle;\n",
       "    }\n",
       "\n",
       "    .dataframe tbody tr th {\n",
       "        vertical-align: top;\n",
       "    }\n",
       "\n",
       "    .dataframe thead th {\n",
       "        text-align: right;\n",
       "    }\n",
       "</style>\n",
       "<table border=\"1\" class=\"dataframe\">\n",
       "  <thead>\n",
       "    <tr style=\"text-align: right;\">\n",
       "      <th></th>\n",
       "      <th>index</th>\n",
       "      <th>device_id_hash</th>\n",
       "    </tr>\n",
       "  </thead>\n",
       "  <tbody>\n",
       "  </tbody>\n",
       "</table>\n",
       "</div>"
      ],
      "text/plain": [
       "Empty DataFrame\n",
       "Columns: [index, device_id_hash]\n",
       "Index: []"
      ]
     },
     "execution_count": 112,
     "metadata": {},
     "output_type": "execute_result"
    }
   ],
   "source": [
    "check[check['device_id_hash'] == True]"
   ]
  },
  {
   "cell_type": "code",
   "execution_count": 113,
   "id": "8f498fc2",
   "metadata": {},
   "outputs": [],
   "source": [
    "check2 = logs_clean.loc[logs_clean[\"exp_id\"]==247, \"device_id_hash\"].isin(logs_clean.loc[logs_clean[\"exp_id\"]==246, \"device_id_hash\"]).reset_index()"
   ]
  },
  {
   "cell_type": "code",
   "execution_count": 114,
   "id": "c1dc480b",
   "metadata": {},
   "outputs": [
    {
     "data": {
      "text/html": [
       "<div>\n",
       "<style scoped>\n",
       "    .dataframe tbody tr th:only-of-type {\n",
       "        vertical-align: middle;\n",
       "    }\n",
       "\n",
       "    .dataframe tbody tr th {\n",
       "        vertical-align: top;\n",
       "    }\n",
       "\n",
       "    .dataframe thead th {\n",
       "        text-align: right;\n",
       "    }\n",
       "</style>\n",
       "<table border=\"1\" class=\"dataframe\">\n",
       "  <thead>\n",
       "    <tr style=\"text-align: right;\">\n",
       "      <th></th>\n",
       "      <th>index</th>\n",
       "      <th>device_id_hash</th>\n",
       "    </tr>\n",
       "  </thead>\n",
       "  <tbody>\n",
       "  </tbody>\n",
       "</table>\n",
       "</div>"
      ],
      "text/plain": [
       "Empty DataFrame\n",
       "Columns: [index, device_id_hash]\n",
       "Index: []"
      ]
     },
     "execution_count": 114,
     "metadata": {},
     "output_type": "execute_result"
    }
   ],
   "source": [
    "check2[check2['device_id_hash'] == True]"
   ]
  },
  {
   "cell_type": "code",
   "execution_count": 115,
   "id": "d63961da",
   "metadata": {},
   "outputs": [],
   "source": [
    "a11 = logs_clean[(logs_clean['exp_id'] == 246) & (logs_clean['event_name'] != 'Tutorial')]\n",
    "a22 = logs_clean[(logs_clean['exp_id'] == 247) & (logs_clean['event_name'] != 'Tutorial')]\n"
   ]
  },
  {
   "cell_type": "code",
   "execution_count": 116,
   "id": "4e7acd58",
   "metadata": {},
   "outputs": [],
   "source": [
    "a1 = a11.groupby('event_name')['device_id_hash'].nunique().sort_values(ascending=False).to_frame().reset_index()\n",
    "a2 = a22.groupby('event_name')['device_id_hash'].nunique().sort_values(ascending=False).to_frame().reset_index()"
   ]
  },
  {
   "cell_type": "code",
   "execution_count": 117,
   "id": "c201f9e4",
   "metadata": {},
   "outputs": [
    {
     "data": {
      "text/html": [
       "<div>\n",
       "<style scoped>\n",
       "    .dataframe tbody tr th:only-of-type {\n",
       "        vertical-align: middle;\n",
       "    }\n",
       "\n",
       "    .dataframe tbody tr th {\n",
       "        vertical-align: top;\n",
       "    }\n",
       "\n",
       "    .dataframe thead th {\n",
       "        text-align: right;\n",
       "    }\n",
       "</style>\n",
       "<table border=\"1\" class=\"dataframe\">\n",
       "  <thead>\n",
       "    <tr style=\"text-align: right;\">\n",
       "      <th></th>\n",
       "      <th>event_name</th>\n",
       "      <th>device_id_hash</th>\n",
       "    </tr>\n",
       "  </thead>\n",
       "  <tbody>\n",
       "    <tr>\n",
       "      <th>0</th>\n",
       "      <td>MainScreenAppear</td>\n",
       "      <td>2450</td>\n",
       "    </tr>\n",
       "    <tr>\n",
       "      <th>1</th>\n",
       "      <td>OffersScreenAppear</td>\n",
       "      <td>1542</td>\n",
       "    </tr>\n",
       "    <tr>\n",
       "      <th>2</th>\n",
       "      <td>CartScreenAppear</td>\n",
       "      <td>1266</td>\n",
       "    </tr>\n",
       "    <tr>\n",
       "      <th>3</th>\n",
       "      <td>PaymentScreenSuccessful</td>\n",
       "      <td>1200</td>\n",
       "    </tr>\n",
       "  </tbody>\n",
       "</table>\n",
       "</div>"
      ],
      "text/plain": [
       "                event_name  device_id_hash\n",
       "0         MainScreenAppear            2450\n",
       "1       OffersScreenAppear            1542\n",
       "2         CartScreenAppear            1266\n",
       "3  PaymentScreenSuccessful            1200"
      ]
     },
     "execution_count": 117,
     "metadata": {},
     "output_type": "execute_result"
    }
   ],
   "source": [
    "a1"
   ]
  },
  {
   "cell_type": "code",
   "execution_count": 118,
   "id": "f3eb665b",
   "metadata": {},
   "outputs": [
    {
     "data": {
      "text/plain": [
       "98.97801176834933"
      ]
     },
     "execution_count": 118,
     "metadata": {},
     "output_type": "execute_result"
    }
   ],
   "source": [
    "a2['device_id_hash'].sum() /a1['device_id_hash'].sum()* 100"
   ]
  },
  {
   "cell_type": "markdown",
   "id": "f13a8a27",
   "metadata": {},
   "source": [
    "Разница не более 1.1%"
   ]
  },
  {
   "cell_type": "markdown",
   "id": "46dd8845",
   "metadata": {},
   "source": [
    "Данные удовлетворяют необходимым требованиям."
   ]
  },
  {
   "cell_type": "markdown",
   "id": "e7ff9a35",
   "metadata": {},
   "source": [
    "Проверим пользователей, которые могли участвовать в двух или нескольких группах одновременно:"
   ]
  },
  {
   "cell_type": "code",
   "execution_count": 119,
   "id": "61abbc7a",
   "metadata": {},
   "outputs": [
    {
     "data": {
      "text/html": [
       "<div>\n",
       "<style scoped>\n",
       "    .dataframe tbody tr th:only-of-type {\n",
       "        vertical-align: middle;\n",
       "    }\n",
       "\n",
       "    .dataframe tbody tr th {\n",
       "        vertical-align: top;\n",
       "    }\n",
       "\n",
       "    .dataframe thead th {\n",
       "        text-align: right;\n",
       "    }\n",
       "</style>\n",
       "<table border=\"1\" class=\"dataframe\">\n",
       "  <thead>\n",
       "    <tr style=\"text-align: right;\">\n",
       "      <th></th>\n",
       "      <th>exp_id</th>\n",
       "    </tr>\n",
       "    <tr>\n",
       "      <th>device_id_hash</th>\n",
       "      <th></th>\n",
       "    </tr>\n",
       "  </thead>\n",
       "  <tbody>\n",
       "  </tbody>\n",
       "</table>\n",
       "</div>"
      ],
      "text/plain": [
       "Empty DataFrame\n",
       "Columns: [exp_id]\n",
       "Index: []"
      ]
     },
     "execution_count": 119,
     "metadata": {},
     "output_type": "execute_result"
    }
   ],
   "source": [
    "\n",
    "logs_clean.groupby('device_id_hash').agg({'exp_id':'nunique'}).query('exp_id > 1') "
   ]
  },
  {
   "cell_type": "markdown",
   "id": "793f2c2a",
   "metadata": {},
   "source": [
    "Выберем самое популярное событие. Посчитаем число пользователей, совершивших это событие в каждой из контрольных групп. Посчитаем долю пользователей, совершивших это событие. Проверим, будет ли отличие между группами статистически достоверным. Проделаем то же самое для всех других событий (удобно обернуть проверку в отдельную функцию). Можно ли сказать, что разбиение на группы работает корректно?"
   ]
  },
  {
   "cell_type": "code",
   "execution_count": 120,
   "id": "ddfc4d68",
   "metadata": {},
   "outputs": [
    {
     "data": {
      "text/html": [
       "<div>\n",
       "<style scoped>\n",
       "    .dataframe tbody tr th:only-of-type {\n",
       "        vertical-align: middle;\n",
       "    }\n",
       "\n",
       "    .dataframe tbody tr th {\n",
       "        vertical-align: top;\n",
       "    }\n",
       "\n",
       "    .dataframe thead th {\n",
       "        text-align: right;\n",
       "    }\n",
       "</style>\n",
       "<table border=\"1\" class=\"dataframe\">\n",
       "  <thead>\n",
       "    <tr style=\"text-align: right;\">\n",
       "      <th>event_name</th>\n",
       "      <th>CartScreenAppear</th>\n",
       "      <th>MainScreenAppear</th>\n",
       "      <th>OffersScreenAppear</th>\n",
       "      <th>PaymentScreenSuccessful</th>\n",
       "      <th>Tutorial</th>\n",
       "    </tr>\n",
       "    <tr>\n",
       "      <th>exp_id</th>\n",
       "      <th></th>\n",
       "      <th></th>\n",
       "      <th></th>\n",
       "      <th></th>\n",
       "      <th></th>\n",
       "    </tr>\n",
       "  </thead>\n",
       "  <tbody>\n",
       "    <tr>\n",
       "      <th>246</th>\n",
       "      <td>1266</td>\n",
       "      <td>2450</td>\n",
       "      <td>1542</td>\n",
       "      <td>1200</td>\n",
       "      <td>278</td>\n",
       "    </tr>\n",
       "    <tr>\n",
       "      <th>247</th>\n",
       "      <td>1238</td>\n",
       "      <td>2476</td>\n",
       "      <td>1520</td>\n",
       "      <td>1158</td>\n",
       "      <td>283</td>\n",
       "    </tr>\n",
       "    <tr>\n",
       "      <th>248</th>\n",
       "      <td>1230</td>\n",
       "      <td>2493</td>\n",
       "      <td>1531</td>\n",
       "      <td>1181</td>\n",
       "      <td>279</td>\n",
       "    </tr>\n",
       "  </tbody>\n",
       "</table>\n",
       "</div>"
      ],
      "text/plain": [
       "event_name  CartScreenAppear  MainScreenAppear  OffersScreenAppear  \\\n",
       "exp_id                                                               \n",
       "246                     1266              2450                1542   \n",
       "247                     1238              2476                1520   \n",
       "248                     1230              2493                1531   \n",
       "\n",
       "event_name  PaymentScreenSuccessful  Tutorial  \n",
       "exp_id                                         \n",
       "246                            1200       278  \n",
       "247                            1158       283  \n",
       "248                            1181       279  "
      ]
     },
     "metadata": {},
     "output_type": "display_data"
    }
   ],
   "source": [
    "alls = logs_clean.pivot_table(index='exp_id', columns='event_name',values='device_id_hash',aggfunc='nunique')\n",
    "display(alls)"
   ]
  },
  {
   "cell_type": "markdown",
   "id": "09b24cd4",
   "metadata": {},
   "source": [
    "Самое популярное событие для всех групп это MainScreenAppear"
   ]
  },
  {
   "cell_type": "code",
   "execution_count": 121,
   "id": "164f075b",
   "metadata": {},
   "outputs": [
    {
     "data": {
      "text/html": [
       "<div>\n",
       "<style scoped>\n",
       "    .dataframe tbody tr th:only-of-type {\n",
       "        vertical-align: middle;\n",
       "    }\n",
       "\n",
       "    .dataframe tbody tr th {\n",
       "        vertical-align: top;\n",
       "    }\n",
       "\n",
       "    .dataframe thead th {\n",
       "        text-align: right;\n",
       "    }\n",
       "</style>\n",
       "<table border=\"1\" class=\"dataframe\">\n",
       "  <thead>\n",
       "    <tr style=\"text-align: right;\">\n",
       "      <th></th>\n",
       "      <th>exp_id</th>\n",
       "      <th>device_id_hash</th>\n",
       "    </tr>\n",
       "  </thead>\n",
       "  <tbody>\n",
       "    <tr>\n",
       "      <th>0</th>\n",
       "      <td>246</td>\n",
       "      <td>2484</td>\n",
       "    </tr>\n",
       "    <tr>\n",
       "      <th>1</th>\n",
       "      <td>247</td>\n",
       "      <td>2513</td>\n",
       "    </tr>\n",
       "    <tr>\n",
       "      <th>2</th>\n",
       "      <td>248</td>\n",
       "      <td>2537</td>\n",
       "    </tr>\n",
       "  </tbody>\n",
       "</table>\n",
       "</div>"
      ],
      "text/plain": [
       "   exp_id  device_id_hash\n",
       "0     246            2484\n",
       "1     247            2513\n",
       "2     248            2537"
      ]
     },
     "execution_count": 121,
     "metadata": {},
     "output_type": "execute_result"
    }
   ],
   "source": [
    "users"
   ]
  },
  {
   "cell_type": "code",
   "execution_count": 122,
   "id": "773c898c",
   "metadata": {},
   "outputs": [
    {
     "data": {
      "text/html": [
       "<div>\n",
       "<style scoped>\n",
       "    .dataframe tbody tr th:only-of-type {\n",
       "        vertical-align: middle;\n",
       "    }\n",
       "\n",
       "    .dataframe tbody tr th {\n",
       "        vertical-align: top;\n",
       "    }\n",
       "\n",
       "    .dataframe thead th {\n",
       "        text-align: right;\n",
       "    }\n",
       "</style>\n",
       "<table border=\"1\" class=\"dataframe\">\n",
       "  <thead>\n",
       "    <tr style=\"text-align: right;\">\n",
       "      <th></th>\n",
       "      <th>device_id_hash</th>\n",
       "    </tr>\n",
       "    <tr>\n",
       "      <th>exp_id</th>\n",
       "      <th></th>\n",
       "    </tr>\n",
       "  </thead>\n",
       "  <tbody>\n",
       "    <tr>\n",
       "      <th>246</th>\n",
       "      <td>2484</td>\n",
       "    </tr>\n",
       "    <tr>\n",
       "      <th>247</th>\n",
       "      <td>2513</td>\n",
       "    </tr>\n",
       "    <tr>\n",
       "      <th>248</th>\n",
       "      <td>2537</td>\n",
       "    </tr>\n",
       "    <tr>\n",
       "      <th>246 and 247 total</th>\n",
       "      <td>4997</td>\n",
       "    </tr>\n",
       "  </tbody>\n",
       "</table>\n",
       "</div>"
      ],
      "text/plain": [
       "                   device_id_hash\n",
       "exp_id                           \n",
       "246                          2484\n",
       "247                          2513\n",
       "248                          2537\n",
       "246 and 247 total            4997"
      ]
     },
     "execution_count": 122,
     "metadata": {},
     "output_type": "execute_result"
    }
   ],
   "source": [
    "users.loc[3] = ['246 and 247 total', users['device_id_hash'].loc[0]+ users['device_id_hash'].loc[1]]\n",
    "users = users.set_index(users.columns[0])\n",
    "users"
   ]
  },
  {
   "cell_type": "code",
   "execution_count": 123,
   "id": "4f69e101",
   "metadata": {},
   "outputs": [
    {
     "data": {
      "text/html": [
       "<div>\n",
       "<style scoped>\n",
       "    .dataframe tbody tr th:only-of-type {\n",
       "        vertical-align: middle;\n",
       "    }\n",
       "\n",
       "    .dataframe tbody tr th {\n",
       "        vertical-align: top;\n",
       "    }\n",
       "\n",
       "    .dataframe thead th {\n",
       "        text-align: right;\n",
       "    }\n",
       "</style>\n",
       "<table border=\"1\" class=\"dataframe\">\n",
       "  <thead>\n",
       "    <tr style=\"text-align: right;\">\n",
       "      <th>exp_id</th>\n",
       "      <th>246</th>\n",
       "      <th>247</th>\n",
       "      <th>248</th>\n",
       "      <th>246 and 247 total</th>\n",
       "    </tr>\n",
       "    <tr>\n",
       "      <th>event_name</th>\n",
       "      <th></th>\n",
       "      <th></th>\n",
       "      <th></th>\n",
       "      <th></th>\n",
       "    </tr>\n",
       "  </thead>\n",
       "  <tbody>\n",
       "    <tr>\n",
       "      <th>MainScreenAppear</th>\n",
       "      <td>2450</td>\n",
       "      <td>2476</td>\n",
       "      <td>2493</td>\n",
       "      <td>4926</td>\n",
       "    </tr>\n",
       "    <tr>\n",
       "      <th>OffersScreenAppear</th>\n",
       "      <td>1542</td>\n",
       "      <td>1520</td>\n",
       "      <td>1531</td>\n",
       "      <td>3062</td>\n",
       "    </tr>\n",
       "    <tr>\n",
       "      <th>CartScreenAppear</th>\n",
       "      <td>1266</td>\n",
       "      <td>1238</td>\n",
       "      <td>1230</td>\n",
       "      <td>2504</td>\n",
       "    </tr>\n",
       "    <tr>\n",
       "      <th>PaymentScreenSuccessful</th>\n",
       "      <td>1200</td>\n",
       "      <td>1158</td>\n",
       "      <td>1181</td>\n",
       "      <td>2358</td>\n",
       "    </tr>\n",
       "  </tbody>\n",
       "</table>\n",
       "</div>"
      ],
      "text/plain": [
       "exp_id                    246   247   248  246 and 247 total\n",
       "event_name                                                  \n",
       "MainScreenAppear         2450  2476  2493               4926\n",
       "OffersScreenAppear       1542  1520  1531               3062\n",
       "CartScreenAppear         1266  1238  1230               2504\n",
       "PaymentScreenSuccessful  1200  1158  1181               2358"
      ]
     },
     "execution_count": 123,
     "metadata": {},
     "output_type": "execute_result"
    }
   ],
   "source": [
    "sobitiye = logs_clean.pivot_table(index='event_name', columns='exp_id',values='device_id_hash',aggfunc='nunique').sort_values(246,ascending=False)\n",
    "sobitiye['246 and 247 total'] = sobitiye[246] + sobitiye[247]\n",
    "sobitiye.drop(['Tutorial'], inplace=True)\n",
    "sobitiye"
   ]
  },
  {
   "cell_type": "markdown",
   "id": "d5d3a924",
   "metadata": {},
   "source": [
    "Мы проводим множественное сравнение, поэтому мы воспользуемся Z-критерием и методом Бонферрони. \n",
    "\n",
    "Так как всего будет шестнадцать сравнений - bonferroni_alpha будет равно alpha / 16.\n",
    "\n",
    "Сформулируем гипотезы:\n",
    "\n",
    "Если конверсия пользователей в обеих группах равна, то мы не можем отвергнуть 0 гипотезу, если конверсия в обеих группах не равна, то мы отвергаем нулевую гипотезу <a id='поправка'></a>"
   ]
  },
  {
   "cell_type": "code",
   "execution_count": 124,
   "id": "4882a7b3",
   "metadata": {},
   "outputs": [],
   "source": [
    "alpha = .05 \n",
    "def z_test(exp1, exp2, event, alpha): \n",
    "    p1_ev = sobitiye.loc[event, exp1]\n",
    "    p2_ev = sobitiye.loc[event, exp2] \n",
    "    p1_us = users.loc[exp1, 'device_id_hash'] \n",
    "    p2_us = users.loc[exp2, 'device_id_hash'] \n",
    "    p1 = p1_ev / p1_us \n",
    "    p2 = p2_ev / p2_us \n",
    "    difference = p1 - p2\n",
    "    p_combined = (p1_ev + p2_ev) / (p1_us + p2_us) \n",
    "    z_value = difference / mth.sqrt(p_combined * (1 - p_combined) * (1 / p1_us + 1 / p2_us))\n",
    "    distr = st.norm(0, 1)\n",
    "    p_value = (1 - distr.cdf(abs(z_value))) * 2\n",
    "    # введем поправку Бонферрони, поделим альфа на число гипотез для всех проверок\n",
    "    bonferroni_alpha = alpha / 16\n",
    "    print('Проверка для  {} и {}, событие: {}, p-значение: {p_value:.2f}'.format(exp1, exp2, event, p_value=p_value))\n",
    "    if (p_value < bonferroni_alpha):\n",
    "        print(\"Отвергаем нулевую гипотезу\")\n",
    "    else:\n",
    "        print(\"Не получилось отвергнуть нулевую гипотезу\")\n",
    "        "
   ]
  },
  {
   "cell_type": "code",
   "execution_count": 125,
   "id": "ad7a7268",
   "metadata": {},
   "outputs": [
    {
     "name": "stdout",
     "output_type": "stream",
     "text": [
      "Проверка для  246 и 247, событие: MainScreenAppear, p-значение: 0.76\n",
      "Не получилось отвергнуть нулевую гипотезу\n",
      "\n",
      "Проверка для  246 и 247, событие: OffersScreenAppear, p-значение: 0.25\n",
      "Не получилось отвергнуть нулевую гипотезу\n",
      "\n",
      "Проверка для  246 и 247, событие: CartScreenAppear, p-значение: 0.23\n",
      "Не получилось отвергнуть нулевую гипотезу\n",
      "\n",
      "Проверка для  246 и 247, событие: PaymentScreenSuccessful, p-значение: 0.11\n",
      "Не получилось отвергнуть нулевую гипотезу\n",
      "\n"
     ]
    }
   ],
   "source": [
    "for event in sobitiye.index:\n",
    "    z_test(246, 247, event, 0.05)\n",
    "    print()"
   ]
  },
  {
   "cell_type": "markdown",
   "id": "98c9edd9",
   "metadata": {},
   "source": [
    "Так как нулевая гипотеза не отвергнута, то  конверсия пользователей в обеих группах равна. Результат еста показывает, что обе контрольные группы имеют одинаковые показатели."
   ]
  },
  {
   "cell_type": "markdown",
   "id": "f8d6dd4d",
   "metadata": {},
   "source": [
    "Аналогично поступим с группой с изменённым шрифтом. Сравним результаты с каждой из контрольных групп в отдельности по каждому событию. Сравним результаты с объединённой контрольной группой. Какие выводы из эксперимента можно сделать?"
   ]
  },
  {
   "cell_type": "markdown",
   "id": "4001e246",
   "metadata": {},
   "source": [
    "Сравним с первой контрольной группой(246)"
   ]
  },
  {
   "cell_type": "code",
   "execution_count": 126,
   "id": "e8e50528",
   "metadata": {},
   "outputs": [
    {
     "name": "stdout",
     "output_type": "stream",
     "text": [
      "Проверка для  246 и 248, событие: MainScreenAppear, p-значение: 0.29\n",
      "Не получилось отвергнуть нулевую гипотезу\n",
      "\n",
      "Проверка для  246 и 248, событие: OffersScreenAppear, p-значение: 0.21\n",
      "Не получилось отвергнуть нулевую гипотезу\n",
      "\n",
      "Проверка для  246 и 248, событие: CartScreenAppear, p-значение: 0.08\n",
      "Не получилось отвергнуть нулевую гипотезу\n",
      "\n",
      "Проверка для  246 и 248, событие: PaymentScreenSuccessful, p-значение: 0.21\n",
      "Не получилось отвергнуть нулевую гипотезу\n",
      "\n"
     ]
    }
   ],
   "source": [
    "for event in sobitiye.index:\n",
    "    z_test(246, 248, event, 0.05)\n",
    "    print()"
   ]
  },
  {
   "cell_type": "markdown",
   "id": "87215a10",
   "metadata": {},
   "source": [
    "Сравним со второй контрольной группой(247)"
   ]
  },
  {
   "cell_type": "code",
   "execution_count": 127,
   "id": "4133d64b",
   "metadata": {},
   "outputs": [
    {
     "name": "stdout",
     "output_type": "stream",
     "text": [
      "Проверка для  247 и 248, событие: MainScreenAppear, p-значение: 0.46\n",
      "Не получилось отвергнуть нулевую гипотезу\n",
      "\n",
      "Проверка для  247 и 248, событие: OffersScreenAppear, p-значение: 0.92\n",
      "Не получилось отвергнуть нулевую гипотезу\n",
      "\n",
      "Проверка для  247 и 248, событие: CartScreenAppear, p-значение: 0.58\n",
      "Не получилось отвергнуть нулевую гипотезу\n",
      "\n",
      "Проверка для  247 и 248, событие: PaymentScreenSuccessful, p-значение: 0.74\n",
      "Не получилось отвергнуть нулевую гипотезу\n",
      "\n"
     ]
    }
   ],
   "source": [
    "for event in sobitiye.index:\n",
    "    z_test(247, 248, event, 0.05)\n",
    "    print()"
   ]
  },
  {
   "cell_type": "markdown",
   "id": "e64b2d03",
   "metadata": {},
   "source": [
    "Сравним с объедененной контрольной группой(246 and 247 total)"
   ]
  },
  {
   "cell_type": "code",
   "execution_count": 128,
   "id": "3f4f3990",
   "metadata": {},
   "outputs": [
    {
     "name": "stdout",
     "output_type": "stream",
     "text": [
      "Проверка для  246 and 247 total и 248, событие: MainScreenAppear, p-значение: 0.29\n",
      "Не получилось отвергнуть нулевую гипотезу\n",
      "\n",
      "Проверка для  246 and 247 total и 248, событие: OffersScreenAppear, p-значение: 0.43\n",
      "Не получилось отвергнуть нулевую гипотезу\n",
      "\n",
      "Проверка для  246 and 247 total и 248, событие: CartScreenAppear, p-значение: 0.18\n",
      "Не получилось отвергнуть нулевую гипотезу\n",
      "\n",
      "Проверка для  246 and 247 total и 248, событие: PaymentScreenSuccessful, p-значение: 0.60\n",
      "Не получилось отвергнуть нулевую гипотезу\n",
      "\n"
     ]
    }
   ],
   "source": [
    "for event in sobitiye.index:\n",
    "    z_test('246 and 247 total', 248, event, 0.05)\n",
    "    print()"
   ]
  },
  {
   "cell_type": "markdown",
   "id": "01fdb1bb",
   "metadata": {},
   "source": [
    "Доли снова не различаются, судя по всему размер шрифта не влияет на пользовательское поведения, однако ухудшения тоже не наблюдается. Лучше сделать выбор в пользу первоначального варианта, так можно сэкономить на интеграции изменений.\n"
   ]
  },
  {
   "cell_type": "markdown",
   "id": "69ccece7",
   "metadata": {},
   "source": [
    "Какой уровень значимости мы выберем при проверке статистических гипотез выше? Посчитаем, сколько проверок статистических гипотез мы сделали. При уровне значимости 0.1 в 10% случаев можно ошибочно отклонить нулевую гипотезу при условии, что она верна. Какой уровень значимости стоит применить? Если мы хотим изменить его, проделаем предыдущие пункты и проверим свои выводы."
   ]
  },
  {
   "cell_type": "markdown",
   "id": "9a7a82c0",
   "metadata": {},
   "source": [
    "Критический уровень статистической значимости alpha = 0.05 и была применина поправка Бонферрони, так как было проведено четыре А/А-теста и двеннадцать А/В-тестов."
   ]
  },
  {
   "cell_type": "markdown",
   "id": "f59c7888",
   "metadata": {},
   "source": [
    "# Общий вывод:"
   ]
  },
  {
   "cell_type": "markdown",
   "id": "ac7a1bab",
   "metadata": {},
   "source": [
    "Задачами проекта были следующее:\n",
    "<br>\n",
    "1)Изучить воронку продаж. \n",
    "<br>\n",
    "2)Узнайть, как пользователи доходят до покупки. Сколько пользователей доходит до покупки, а сколько — «застревает» на предыдущих шагах? На каких именно?\n",
    "<br>\n",
    "3)Исследовать результаты A/A/B-эксперимента. Дизайнеры захотели поменять шрифты во всём приложении, а менеджеры испугались, что пользователям будет непривычно. Договорились принять решение по результатам A/A/B-теста. Пользователей разбили на 3 группы: 2 контрольные со старыми шрифтами и одну экспериментальную — с новыми. Нужно выяснить, какой шрифт лучше.\n",
    "\n",
    "\n",
    "<br>\n",
    "Зв основу была всята база данных по логам за период с 25.07.2019 по 08.08.2019. В логе всего 5 уникальных событий, совершенных в общей сложности 243 713 раз.\n",
    "<br>\n",
    "Всего в логе было 7551 уникальных пользователей.\n",
    "<br>\n",
    "В среднем на пользователя приходится 32 события.\n",
    "<br>\n",
    "Так как данные до 1 августа были неподходящими для проведения исследования они были удалены, соответственно в эксперементе рассматривались данные за 1 неделю в период с 1 по 8 августа. Неделя - это минимальный срок проведения эксперимента.\n",
    "<br>\n",
    "По результатам очистки данных мы потеряли 17 уникальных пользователей(0.225% от общего числа) и 2826 событий(1.16% от общего числа). Потеря в данных несущественная и не повлияла на результат эксперемента.\n",
    "<br>\n",
    "Всего было совершено по всем событиям и всем пользователям 240887 действий. Наибольшее количество из них это просмотр основного экрана(36.86%). \n",
    "Скорее всего порядок событий следующий:\n",
    "<br>\n",
    "1. Основной экран\n",
    "<br>\n",
    "2. Экран с предложениями\n",
    "<br>\n",
    "3. Экран с корзиной с покупками\n",
    "<br>\n",
    "4. Успешная покупка\n",
    "<br>\n",
    "\n",
    "Тюториал скорее всего идет в самом начале и многие его пропускают, поэтому он имеет всего 4% кликабельности в общем весе.\n",
    "<br>\n",
    "Больше всего пользователей теряется на шаге \"OffersScreenAppear\"(почти 39%), возможно это связано с тем, что кнопка для просмотра каталога незаметна или неудобна для пользователей, далее по шагам процент отпадающий пользователей снижается.\n",
    "<br>\n",
    "До конца доходят меньше половины пользователей(47,7%).\n",
    "<br>\n",
    "Между группами a1 и a2 количество пользователей отличается не более чем на 1.1%, что говорит о хорошо проведенной группировке пользователей для проведения тестирования.\n",
    "<br>\n",
    "Судя по всему размер шрифта не влияет на пользовательское поведения, однако ухудшения тоже не наблюдается. Лучше сделать выбор в пользу первоначального варианта, так можно сэкономить на интеграции изменений.\n",
    "<br>\n",
    "Тем не менее не стоит игнорировать факт того, что почти 40% пользователей не доходят дальше просмосмотра основного экрана, а до конца доходит меньше половины, возможно стоит продолжить тест, продлить его еще на неделю, чтобы данных было больше. Возможно стоит провести новое тестирование с новым дизайном кнопки перехода к каталогу."
   ]
  }
 ],
 "metadata": {
  "ExecuteTimeLog": [
   {
    "duration": 1134,
    "start_time": "2023-12-09T07:56:50.125Z"
   },
   {
    "duration": 203,
    "start_time": "2023-12-09T07:56:51.261Z"
   },
   {
    "duration": 20,
    "start_time": "2023-12-09T07:56:51.466Z"
   },
   {
    "duration": 27,
    "start_time": "2023-12-09T07:56:51.487Z"
   },
   {
    "duration": 29,
    "start_time": "2023-12-09T07:56:51.516Z"
   },
   {
    "duration": 56,
    "start_time": "2023-12-09T07:56:51.547Z"
   },
   {
    "duration": 99,
    "start_time": "2023-12-09T07:56:51.605Z"
   },
   {
    "duration": 82,
    "start_time": "2023-12-09T07:56:51.706Z"
   },
   {
    "duration": 17,
    "start_time": "2023-12-09T07:56:51.789Z"
   },
   {
    "duration": 45,
    "start_time": "2023-12-09T07:56:51.808Z"
   },
   {
    "duration": 133,
    "start_time": "2023-12-09T07:56:51.855Z"
   },
   {
    "duration": 8,
    "start_time": "2023-12-09T07:56:51.990Z"
   },
   {
    "duration": 52,
    "start_time": "2023-12-09T07:56:52.000Z"
   },
   {
    "duration": 28,
    "start_time": "2023-12-09T07:56:52.054Z"
   },
   {
    "duration": 9,
    "start_time": "2023-12-09T07:56:52.084Z"
   },
   {
    "duration": 25,
    "start_time": "2023-12-09T07:56:52.094Z"
   },
   {
    "duration": 7,
    "start_time": "2023-12-09T07:56:52.120Z"
   },
   {
    "duration": 5,
    "start_time": "2023-12-09T07:56:52.128Z"
   },
   {
    "duration": 25,
    "start_time": "2023-12-09T07:56:52.134Z"
   },
   {
    "duration": 35,
    "start_time": "2023-12-09T07:56:52.161Z"
   },
   {
    "duration": 334,
    "start_time": "2023-12-09T07:56:52.197Z"
   },
   {
    "duration": 9,
    "start_time": "2023-12-09T07:56:52.533Z"
   },
   {
    "duration": 15,
    "start_time": "2023-12-09T07:56:52.543Z"
   },
   {
    "duration": 20,
    "start_time": "2023-12-09T07:56:52.560Z"
   },
   {
    "duration": 228,
    "start_time": "2023-12-09T07:56:52.582Z"
   },
   {
    "duration": 12,
    "start_time": "2023-12-09T07:56:52.811Z"
   },
   {
    "duration": 41,
    "start_time": "2023-12-09T07:56:52.825Z"
   },
   {
    "duration": 18,
    "start_time": "2023-12-09T07:56:52.867Z"
   },
   {
    "duration": 40,
    "start_time": "2023-12-09T07:56:52.886Z"
   },
   {
    "duration": 6,
    "start_time": "2023-12-09T07:56:52.927Z"
   },
   {
    "duration": 47,
    "start_time": "2023-12-09T07:56:52.934Z"
   },
   {
    "duration": 30,
    "start_time": "2023-12-09T07:56:52.983Z"
   },
   {
    "duration": 46,
    "start_time": "2023-12-09T07:56:53.015Z"
   },
   {
    "duration": 5,
    "start_time": "2023-12-09T07:56:53.062Z"
   },
   {
    "duration": 11,
    "start_time": "2023-12-09T07:56:53.068Z"
   },
   {
    "duration": 43,
    "start_time": "2023-12-09T07:56:53.080Z"
   },
   {
    "duration": 37,
    "start_time": "2023-12-09T07:56:53.124Z"
   },
   {
    "duration": 23,
    "start_time": "2023-12-09T07:56:53.163Z"
   },
   {
    "duration": 69,
    "start_time": "2023-12-09T07:56:53.188Z"
   },
   {
    "duration": 6,
    "start_time": "2023-12-09T07:56:53.259Z"
   },
   {
    "duration": 13,
    "start_time": "2023-12-09T07:56:53.270Z"
   },
   {
    "duration": 17,
    "start_time": "2023-12-09T07:56:53.285Z"
   },
   {
    "duration": 45,
    "start_time": "2023-12-09T07:56:53.304Z"
   },
   {
    "duration": 32,
    "start_time": "2023-12-09T07:56:53.351Z"
   },
   {
    "duration": 42,
    "start_time": "2023-12-09T07:56:53.385Z"
   },
   {
    "duration": 6,
    "start_time": "2023-12-09T07:56:53.429Z"
   },
   {
    "duration": 29,
    "start_time": "2023-12-09T07:56:53.436Z"
   },
   {
    "duration": 94,
    "start_time": "2023-12-09T07:56:53.466Z"
   },
   {
    "duration": 9,
    "start_time": "2023-12-09T07:56:53.561Z"
   },
   {
    "duration": 92,
    "start_time": "2023-12-09T07:56:53.571Z"
   },
   {
    "duration": 5,
    "start_time": "2023-12-09T07:56:53.664Z"
   },
   {
    "duration": 18,
    "start_time": "2023-12-09T07:56:53.670Z"
   },
   {
    "duration": 18,
    "start_time": "2023-12-09T07:56:53.690Z"
   },
   {
    "duration": 10,
    "start_time": "2023-12-09T07:56:53.713Z"
   },
   {
    "duration": 19,
    "start_time": "2023-12-09T07:56:53.724Z"
   },
   {
    "duration": 45,
    "start_time": "2023-12-09T10:11:53.785Z"
   },
   {
    "duration": 1282,
    "start_time": "2023-12-09T10:12:57.698Z"
   },
   {
    "duration": 710,
    "start_time": "2023-12-09T10:12:58.982Z"
   },
   {
    "duration": 26,
    "start_time": "2023-12-09T10:12:59.694Z"
   },
   {
    "duration": 13,
    "start_time": "2023-12-09T10:12:59.723Z"
   },
   {
    "duration": 3,
    "start_time": "2023-12-09T10:12:59.738Z"
   },
   {
    "duration": 27,
    "start_time": "2023-12-09T10:12:59.743Z"
   },
   {
    "duration": 81,
    "start_time": "2023-12-09T10:12:59.772Z"
   },
   {
    "duration": 85,
    "start_time": "2023-12-09T10:12:59.854Z"
   },
   {
    "duration": 7,
    "start_time": "2023-12-09T10:12:59.941Z"
   },
   {
    "duration": 20,
    "start_time": "2023-12-09T10:12:59.950Z"
   },
   {
    "duration": 103,
    "start_time": "2023-12-09T10:12:59.972Z"
   },
   {
    "duration": 23,
    "start_time": "2023-12-09T10:13:00.077Z"
   },
   {
    "duration": 73,
    "start_time": "2023-12-09T10:13:00.102Z"
   },
   {
    "duration": 48,
    "start_time": "2023-12-09T10:13:00.177Z"
   },
   {
    "duration": 30,
    "start_time": "2023-12-09T10:13:00.227Z"
   },
   {
    "duration": 51,
    "start_time": "2023-12-09T10:13:00.259Z"
   },
   {
    "duration": 34,
    "start_time": "2023-12-09T10:13:00.312Z"
   },
   {
    "duration": 28,
    "start_time": "2023-12-09T10:13:00.348Z"
   },
   {
    "duration": 31,
    "start_time": "2023-12-09T10:13:00.377Z"
   },
   {
    "duration": 39,
    "start_time": "2023-12-09T10:13:00.410Z"
   },
   {
    "duration": 356,
    "start_time": "2023-12-09T10:13:00.450Z"
   },
   {
    "duration": 8,
    "start_time": "2023-12-09T10:13:00.807Z"
   },
   {
    "duration": 38,
    "start_time": "2023-12-09T10:13:00.817Z"
   },
   {
    "duration": 25,
    "start_time": "2023-12-09T10:13:00.856Z"
   },
   {
    "duration": 238,
    "start_time": "2023-12-09T10:13:00.882Z"
   },
   {
    "duration": 10,
    "start_time": "2023-12-09T10:13:01.122Z"
   },
   {
    "duration": 88,
    "start_time": "2023-12-09T10:13:01.133Z"
   },
   {
    "duration": 20,
    "start_time": "2023-12-09T10:13:01.226Z"
   },
   {
    "duration": 52,
    "start_time": "2023-12-09T10:13:01.247Z"
   },
   {
    "duration": 60,
    "start_time": "2023-12-09T10:13:01.300Z"
   },
   {
    "duration": 53,
    "start_time": "2023-12-09T10:13:01.362Z"
   },
   {
    "duration": 37,
    "start_time": "2023-12-09T10:13:01.416Z"
   },
   {
    "duration": 67,
    "start_time": "2023-12-09T10:13:01.455Z"
   },
   {
    "duration": 4,
    "start_time": "2023-12-09T10:13:01.524Z"
   },
   {
    "duration": 34,
    "start_time": "2023-12-09T10:13:01.529Z"
   },
   {
    "duration": 49,
    "start_time": "2023-12-09T10:13:01.565Z"
   },
   {
    "duration": 55,
    "start_time": "2023-12-09T10:13:01.616Z"
   },
   {
    "duration": 42,
    "start_time": "2023-12-09T10:13:01.672Z"
   },
   {
    "duration": 75,
    "start_time": "2023-12-09T10:13:01.715Z"
   },
   {
    "duration": 4,
    "start_time": "2023-12-09T10:13:01.792Z"
   },
   {
    "duration": 33,
    "start_time": "2023-12-09T10:13:01.798Z"
   },
   {
    "duration": 61,
    "start_time": "2023-12-09T10:13:01.833Z"
   },
   {
    "duration": 205,
    "start_time": "2023-12-09T10:13:01.895Z"
   },
   {
    "duration": 35,
    "start_time": "2023-12-09T10:13:02.101Z"
   },
   {
    "duration": 96,
    "start_time": "2023-12-09T10:13:02.137Z"
   },
   {
    "duration": 91,
    "start_time": "2023-12-09T10:13:02.234Z"
   },
   {
    "duration": 69,
    "start_time": "2023-12-09T10:13:02.326Z"
   },
   {
    "duration": 25,
    "start_time": "2023-12-09T10:13:02.396Z"
   },
   {
    "duration": 92,
    "start_time": "2023-12-09T10:13:02.423Z"
   },
   {
    "duration": 10,
    "start_time": "2023-12-09T10:13:02.517Z"
   },
   {
    "duration": 111,
    "start_time": "2023-12-09T10:13:02.529Z"
   },
   {
    "duration": 5,
    "start_time": "2023-12-09T10:13:02.641Z"
   },
   {
    "duration": 20,
    "start_time": "2023-12-09T10:13:02.647Z"
   },
   {
    "duration": 12,
    "start_time": "2023-12-09T10:13:02.669Z"
   },
   {
    "duration": 23,
    "start_time": "2023-12-09T10:13:02.683Z"
   },
   {
    "duration": 36,
    "start_time": "2023-12-09T10:13:02.708Z"
   },
   {
    "duration": 54,
    "start_time": "2023-12-09T10:15:35.160Z"
   },
   {
    "duration": 67,
    "start_time": "2023-12-09T10:18:02.794Z"
   },
   {
    "duration": 10,
    "start_time": "2023-12-09T10:18:12.819Z"
   },
   {
    "duration": 551,
    "start_time": "2023-12-09T10:18:55.170Z"
   },
   {
    "duration": 3,
    "start_time": "2023-12-09T10:19:08.588Z"
   },
   {
    "duration": 194,
    "start_time": "2023-12-09T10:19:08.593Z"
   },
   {
    "duration": 27,
    "start_time": "2023-12-09T10:19:08.789Z"
   },
   {
    "duration": 6,
    "start_time": "2023-12-09T10:19:08.818Z"
   },
   {
    "duration": 5,
    "start_time": "2023-12-09T10:19:08.826Z"
   },
   {
    "duration": 16,
    "start_time": "2023-12-09T10:19:08.833Z"
   },
   {
    "duration": 70,
    "start_time": "2023-12-09T10:19:08.850Z"
   },
   {
    "duration": 61,
    "start_time": "2023-12-09T10:19:08.921Z"
   },
   {
    "duration": 20,
    "start_time": "2023-12-09T10:19:08.984Z"
   },
   {
    "duration": 8,
    "start_time": "2023-12-09T10:19:09.005Z"
   },
   {
    "duration": 113,
    "start_time": "2023-12-09T10:19:09.015Z"
   },
   {
    "duration": 8,
    "start_time": "2023-12-09T10:19:09.130Z"
   },
   {
    "duration": 29,
    "start_time": "2023-12-09T10:19:09.140Z"
   },
   {
    "duration": 30,
    "start_time": "2023-12-09T10:19:09.171Z"
   },
   {
    "duration": 4,
    "start_time": "2023-12-09T10:19:09.203Z"
   },
   {
    "duration": 14,
    "start_time": "2023-12-09T10:19:09.209Z"
   },
   {
    "duration": 9,
    "start_time": "2023-12-09T10:19:09.225Z"
   },
   {
    "duration": 6,
    "start_time": "2023-12-09T10:19:09.236Z"
   },
   {
    "duration": 15,
    "start_time": "2023-12-09T10:19:09.244Z"
   },
   {
    "duration": 52,
    "start_time": "2023-12-09T10:19:09.261Z"
   },
   {
    "duration": 240,
    "start_time": "2023-12-09T10:19:09.315Z"
   },
   {
    "duration": 9,
    "start_time": "2023-12-09T10:19:09.556Z"
   },
   {
    "duration": 13,
    "start_time": "2023-12-09T10:19:09.567Z"
   },
   {
    "duration": 22,
    "start_time": "2023-12-09T10:19:09.581Z"
   },
   {
    "duration": 215,
    "start_time": "2023-12-09T10:19:09.605Z"
   },
   {
    "duration": 10,
    "start_time": "2023-12-09T10:19:09.821Z"
   },
   {
    "duration": 23,
    "start_time": "2023-12-09T10:19:09.833Z"
   },
   {
    "duration": 12,
    "start_time": "2023-12-09T10:19:09.858Z"
   },
   {
    "duration": 50,
    "start_time": "2023-12-09T10:19:09.873Z"
   },
   {
    "duration": 21,
    "start_time": "2023-12-09T10:19:09.925Z"
   },
   {
    "duration": 29,
    "start_time": "2023-12-09T10:19:09.948Z"
   },
   {
    "duration": 25,
    "start_time": "2023-12-09T10:19:09.979Z"
   },
   {
    "duration": 48,
    "start_time": "2023-12-09T10:19:10.005Z"
   },
   {
    "duration": 4,
    "start_time": "2023-12-09T10:19:10.055Z"
   },
   {
    "duration": 16,
    "start_time": "2023-12-09T10:19:10.060Z"
   },
   {
    "duration": 32,
    "start_time": "2023-12-09T10:19:10.077Z"
   },
   {
    "duration": 19,
    "start_time": "2023-12-09T10:19:10.110Z"
   },
   {
    "duration": 30,
    "start_time": "2023-12-09T10:19:10.130Z"
   },
   {
    "duration": 69,
    "start_time": "2023-12-09T10:19:10.161Z"
   },
   {
    "duration": 5,
    "start_time": "2023-12-09T10:19:10.231Z"
   },
   {
    "duration": 9,
    "start_time": "2023-12-09T10:19:10.237Z"
   },
   {
    "duration": 11,
    "start_time": "2023-12-09T10:19:10.247Z"
   },
   {
    "duration": 13,
    "start_time": "2023-12-09T10:19:10.259Z"
   },
   {
    "duration": 51,
    "start_time": "2023-12-09T10:19:10.273Z"
   },
   {
    "duration": 542,
    "start_time": "2023-12-09T10:19:10.325Z"
   },
   {
    "duration": 0,
    "start_time": "2023-12-09T10:19:10.868Z"
   },
   {
    "duration": 0,
    "start_time": "2023-12-09T10:19:10.869Z"
   },
   {
    "duration": 0,
    "start_time": "2023-12-09T10:19:10.870Z"
   },
   {
    "duration": 0,
    "start_time": "2023-12-09T10:19:10.871Z"
   },
   {
    "duration": 0,
    "start_time": "2023-12-09T10:19:10.872Z"
   },
   {
    "duration": 0,
    "start_time": "2023-12-09T10:19:10.873Z"
   },
   {
    "duration": 0,
    "start_time": "2023-12-09T10:19:10.874Z"
   },
   {
    "duration": 0,
    "start_time": "2023-12-09T10:19:10.875Z"
   },
   {
    "duration": 0,
    "start_time": "2023-12-09T10:19:10.877Z"
   },
   {
    "duration": 0,
    "start_time": "2023-12-09T10:19:10.879Z"
   },
   {
    "duration": 0,
    "start_time": "2023-12-09T10:19:10.880Z"
   },
   {
    "duration": 0,
    "start_time": "2023-12-09T10:19:10.881Z"
   },
   {
    "duration": 15,
    "start_time": "2023-12-09T10:19:26.416Z"
   },
   {
    "duration": 609,
    "start_time": "2023-12-09T10:19:38.355Z"
   },
   {
    "duration": 633,
    "start_time": "2023-12-09T10:21:00.048Z"
   },
   {
    "duration": 552,
    "start_time": "2023-12-09T10:21:04.444Z"
   },
   {
    "duration": 11,
    "start_time": "2023-12-09T10:21:28.129Z"
   },
   {
    "duration": 600,
    "start_time": "2023-12-09T10:21:34.576Z"
   },
   {
    "duration": 10,
    "start_time": "2023-12-09T10:23:08.820Z"
   },
   {
    "duration": 7,
    "start_time": "2023-12-09T10:23:34.492Z"
   },
   {
    "duration": 9,
    "start_time": "2023-12-09T10:24:05.480Z"
   },
   {
    "duration": 6,
    "start_time": "2023-12-09T10:24:06.044Z"
   },
   {
    "duration": 9,
    "start_time": "2023-12-09T10:25:04.128Z"
   },
   {
    "duration": 8,
    "start_time": "2023-12-09T10:25:04.714Z"
   },
   {
    "duration": 9,
    "start_time": "2023-12-09T10:25:05.159Z"
   },
   {
    "duration": 7,
    "start_time": "2023-12-09T10:25:05.535Z"
   },
   {
    "duration": 45,
    "start_time": "2023-12-09T10:25:28.689Z"
   },
   {
    "duration": 7,
    "start_time": "2023-12-09T10:26:16.364Z"
   },
   {
    "duration": 82,
    "start_time": "2023-12-09T10:26:28.737Z"
   },
   {
    "duration": 72,
    "start_time": "2023-12-09T10:26:38.202Z"
   },
   {
    "duration": 7,
    "start_time": "2023-12-09T10:26:46.422Z"
   },
   {
    "duration": 9,
    "start_time": "2023-12-09T10:27:29.394Z"
   },
   {
    "duration": 4,
    "start_time": "2023-12-09T10:32:52.984Z"
   },
   {
    "duration": 222,
    "start_time": "2023-12-09T10:32:52.990Z"
   },
   {
    "duration": 21,
    "start_time": "2023-12-09T10:32:53.214Z"
   },
   {
    "duration": 31,
    "start_time": "2023-12-09T10:32:53.236Z"
   },
   {
    "duration": 6,
    "start_time": "2023-12-09T10:32:53.270Z"
   },
   {
    "duration": 41,
    "start_time": "2023-12-09T10:32:53.277Z"
   },
   {
    "duration": 63,
    "start_time": "2023-12-09T10:32:53.320Z"
   },
   {
    "duration": 62,
    "start_time": "2023-12-09T10:32:53.385Z"
   },
   {
    "duration": 7,
    "start_time": "2023-12-09T10:32:53.449Z"
   },
   {
    "duration": 26,
    "start_time": "2023-12-09T10:32:53.457Z"
   },
   {
    "duration": 127,
    "start_time": "2023-12-09T10:32:53.485Z"
   },
   {
    "duration": 8,
    "start_time": "2023-12-09T10:32:53.613Z"
   },
   {
    "duration": 30,
    "start_time": "2023-12-09T10:32:53.623Z"
   },
   {
    "duration": 33,
    "start_time": "2023-12-09T10:32:53.656Z"
   },
   {
    "duration": 10,
    "start_time": "2023-12-09T10:32:53.691Z"
   },
   {
    "duration": 20,
    "start_time": "2023-12-09T10:32:53.703Z"
   },
   {
    "duration": 8,
    "start_time": "2023-12-09T10:32:53.725Z"
   },
   {
    "duration": 16,
    "start_time": "2023-12-09T10:32:53.735Z"
   },
   {
    "duration": 21,
    "start_time": "2023-12-09T10:32:53.753Z"
   },
   {
    "duration": 30,
    "start_time": "2023-12-09T10:32:53.776Z"
   },
   {
    "duration": 306,
    "start_time": "2023-12-09T10:32:53.808Z"
   },
   {
    "duration": 9,
    "start_time": "2023-12-09T10:32:54.116Z"
   },
   {
    "duration": 21,
    "start_time": "2023-12-09T10:32:54.127Z"
   },
   {
    "duration": 9,
    "start_time": "2023-12-09T10:32:54.150Z"
   },
   {
    "duration": 202,
    "start_time": "2023-12-09T10:32:54.160Z"
   },
   {
    "duration": 10,
    "start_time": "2023-12-09T10:32:54.364Z"
   },
   {
    "duration": 35,
    "start_time": "2023-12-09T10:32:54.376Z"
   },
   {
    "duration": 22,
    "start_time": "2023-12-09T10:32:54.412Z"
   },
   {
    "duration": 38,
    "start_time": "2023-12-09T10:32:54.436Z"
   },
   {
    "duration": 7,
    "start_time": "2023-12-09T10:32:54.476Z"
   },
   {
    "duration": 34,
    "start_time": "2023-12-09T10:32:54.485Z"
   },
   {
    "duration": 24,
    "start_time": "2023-12-09T10:32:54.521Z"
   },
   {
    "duration": 59,
    "start_time": "2023-12-09T10:32:54.546Z"
   },
   {
    "duration": 3,
    "start_time": "2023-12-09T10:32:54.607Z"
   },
   {
    "duration": 28,
    "start_time": "2023-12-09T10:32:54.612Z"
   },
   {
    "duration": 20,
    "start_time": "2023-12-09T10:32:54.642Z"
   },
   {
    "duration": 28,
    "start_time": "2023-12-09T10:32:54.664Z"
   },
   {
    "duration": 32,
    "start_time": "2023-12-09T10:32:54.693Z"
   },
   {
    "duration": 59,
    "start_time": "2023-12-09T10:32:54.726Z"
   },
   {
    "duration": 6,
    "start_time": "2023-12-09T10:32:54.787Z"
   },
   {
    "duration": 9,
    "start_time": "2023-12-09T10:32:54.801Z"
   },
   {
    "duration": 12,
    "start_time": "2023-12-09T10:32:54.812Z"
   },
   {
    "duration": 11,
    "start_time": "2023-12-09T10:32:54.826Z"
   },
   {
    "duration": 34,
    "start_time": "2023-12-09T10:32:54.839Z"
   },
   {
    "duration": 27,
    "start_time": "2023-12-09T10:32:54.874Z"
   },
   {
    "duration": 6,
    "start_time": "2023-12-09T10:32:54.903Z"
   },
   {
    "duration": 13,
    "start_time": "2023-12-09T10:32:54.910Z"
   },
   {
    "duration": 7,
    "start_time": "2023-12-09T10:32:54.924Z"
   },
   {
    "duration": 35,
    "start_time": "2023-12-09T10:32:54.933Z"
   },
   {
    "duration": 57,
    "start_time": "2023-12-09T10:32:54.969Z"
   },
   {
    "duration": 6,
    "start_time": "2023-12-09T10:32:55.028Z"
   },
   {
    "duration": 20,
    "start_time": "2023-12-09T10:32:55.035Z"
   },
   {
    "duration": 95,
    "start_time": "2023-12-09T10:32:55.056Z"
   },
   {
    "duration": 5,
    "start_time": "2023-12-09T10:32:55.153Z"
   },
   {
    "duration": 20,
    "start_time": "2023-12-09T10:32:55.160Z"
   },
   {
    "duration": 78,
    "start_time": "2023-12-09T10:32:55.181Z"
   },
   {
    "duration": 5,
    "start_time": "2023-12-09T10:32:55.260Z"
   },
   {
    "duration": 26,
    "start_time": "2023-12-09T10:32:55.266Z"
   },
   {
    "duration": 19,
    "start_time": "2023-12-09T10:32:55.293Z"
   },
   {
    "duration": 18,
    "start_time": "2023-12-09T10:32:55.314Z"
   },
   {
    "duration": 8,
    "start_time": "2023-12-09T10:32:55.333Z"
   },
   {
    "duration": 6,
    "start_time": "2023-12-09T10:34:12.843Z"
   },
   {
    "duration": 8,
    "start_time": "2023-12-09T10:34:13.607Z"
   },
   {
    "duration": 8,
    "start_time": "2023-12-09T10:34:16.943Z"
   },
   {
    "duration": 8,
    "start_time": "2023-12-09T10:34:18.948Z"
   },
   {
    "duration": 9,
    "start_time": "2023-12-09T10:34:23.133Z"
   },
   {
    "duration": 4,
    "start_time": "2023-12-09T10:36:07.181Z"
   },
   {
    "duration": 186,
    "start_time": "2023-12-09T10:36:07.187Z"
   },
   {
    "duration": 26,
    "start_time": "2023-12-09T10:36:07.374Z"
   },
   {
    "duration": 7,
    "start_time": "2023-12-09T10:36:07.402Z"
   },
   {
    "duration": 19,
    "start_time": "2023-12-09T10:36:07.411Z"
   },
   {
    "duration": 46,
    "start_time": "2023-12-09T10:36:07.432Z"
   },
   {
    "duration": 56,
    "start_time": "2023-12-09T10:36:07.480Z"
   },
   {
    "duration": 49,
    "start_time": "2023-12-09T10:36:07.537Z"
   },
   {
    "duration": 12,
    "start_time": "2023-12-09T10:36:07.588Z"
   },
   {
    "duration": 8,
    "start_time": "2023-12-09T10:36:07.603Z"
   },
   {
    "duration": 107,
    "start_time": "2023-12-09T10:36:07.612Z"
   },
   {
    "duration": 8,
    "start_time": "2023-12-09T10:36:07.721Z"
   },
   {
    "duration": 44,
    "start_time": "2023-12-09T10:36:07.731Z"
   },
   {
    "duration": 29,
    "start_time": "2023-12-09T10:36:07.777Z"
   },
   {
    "duration": 7,
    "start_time": "2023-12-09T10:36:07.807Z"
   },
   {
    "duration": 10,
    "start_time": "2023-12-09T10:36:07.815Z"
   },
   {
    "duration": 38,
    "start_time": "2023-12-09T10:36:07.826Z"
   },
   {
    "duration": 19,
    "start_time": "2023-12-09T10:36:07.866Z"
   },
   {
    "duration": 40,
    "start_time": "2023-12-09T10:36:07.886Z"
   },
   {
    "duration": 36,
    "start_time": "2023-12-09T10:36:07.928Z"
   },
   {
    "duration": 222,
    "start_time": "2023-12-09T10:36:07.966Z"
   },
   {
    "duration": 10,
    "start_time": "2023-12-09T10:36:08.189Z"
   },
   {
    "duration": 15,
    "start_time": "2023-12-09T10:36:08.201Z"
   },
   {
    "duration": 7,
    "start_time": "2023-12-09T10:36:08.217Z"
   },
   {
    "duration": 225,
    "start_time": "2023-12-09T10:36:08.225Z"
   },
   {
    "duration": 10,
    "start_time": "2023-12-09T10:36:08.452Z"
   },
   {
    "duration": 37,
    "start_time": "2023-12-09T10:36:08.464Z"
   },
   {
    "duration": 13,
    "start_time": "2023-12-09T10:36:08.504Z"
   },
   {
    "duration": 31,
    "start_time": "2023-12-09T10:36:08.519Z"
   },
   {
    "duration": 7,
    "start_time": "2023-12-09T10:36:08.552Z"
   },
   {
    "duration": 53,
    "start_time": "2023-12-09T10:36:08.560Z"
   },
   {
    "duration": 22,
    "start_time": "2023-12-09T10:36:08.615Z"
   },
   {
    "duration": 61,
    "start_time": "2023-12-09T10:36:08.638Z"
   },
   {
    "duration": 4,
    "start_time": "2023-12-09T10:36:08.700Z"
   },
   {
    "duration": 10,
    "start_time": "2023-12-09T10:36:08.706Z"
   },
   {
    "duration": 24,
    "start_time": "2023-12-09T10:36:08.717Z"
   },
   {
    "duration": 37,
    "start_time": "2023-12-09T10:36:08.742Z"
   },
   {
    "duration": 32,
    "start_time": "2023-12-09T10:36:08.780Z"
   },
   {
    "duration": 73,
    "start_time": "2023-12-09T10:36:08.813Z"
   },
   {
    "duration": 6,
    "start_time": "2023-12-09T10:36:08.887Z"
   },
   {
    "duration": 11,
    "start_time": "2023-12-09T10:36:08.894Z"
   },
   {
    "duration": 7,
    "start_time": "2023-12-09T10:36:08.907Z"
   },
   {
    "duration": 9,
    "start_time": "2023-12-09T10:36:08.916Z"
   },
   {
    "duration": 31,
    "start_time": "2023-12-09T10:36:08.927Z"
   },
   {
    "duration": 8,
    "start_time": "2023-12-09T10:36:08.960Z"
   },
   {
    "duration": 33,
    "start_time": "2023-12-09T10:36:08.970Z"
   },
   {
    "duration": 9,
    "start_time": "2023-12-09T10:36:09.004Z"
   },
   {
    "duration": 6,
    "start_time": "2023-12-09T10:36:09.014Z"
   },
   {
    "duration": 42,
    "start_time": "2023-12-09T10:36:09.021Z"
   },
   {
    "duration": 40,
    "start_time": "2023-12-09T10:36:09.065Z"
   },
   {
    "duration": 6,
    "start_time": "2023-12-09T10:36:09.106Z"
   },
   {
    "duration": 18,
    "start_time": "2023-12-09T10:36:09.113Z"
   },
   {
    "duration": 76,
    "start_time": "2023-12-09T10:36:09.132Z"
   },
   {
    "duration": 5,
    "start_time": "2023-12-09T10:36:09.209Z"
   },
   {
    "duration": 10,
    "start_time": "2023-12-09T10:36:09.216Z"
   },
   {
    "duration": 82,
    "start_time": "2023-12-09T10:36:09.227Z"
   },
   {
    "duration": 5,
    "start_time": "2023-12-09T10:36:09.310Z"
   },
   {
    "duration": 14,
    "start_time": "2023-12-09T10:36:09.316Z"
   },
   {
    "duration": 13,
    "start_time": "2023-12-09T10:36:09.331Z"
   },
   {
    "duration": 7,
    "start_time": "2023-12-09T10:36:09.346Z"
   },
   {
    "duration": 19,
    "start_time": "2023-12-09T10:36:09.354Z"
   },
   {
    "duration": 5,
    "start_time": "2023-12-09T10:37:23.299Z"
   },
   {
    "duration": 8,
    "start_time": "2023-12-09T10:37:24.716Z"
   },
   {
    "duration": 9,
    "start_time": "2023-12-09T10:37:27.338Z"
   },
   {
    "duration": 11,
    "start_time": "2023-12-09T10:37:30.147Z"
   },
   {
    "duration": 9,
    "start_time": "2023-12-09T10:37:32.293Z"
   },
   {
    "duration": 3,
    "start_time": "2023-12-09T10:37:44.761Z"
   },
   {
    "duration": 233,
    "start_time": "2023-12-09T10:37:44.766Z"
   },
   {
    "duration": 22,
    "start_time": "2023-12-09T10:37:45.001Z"
   },
   {
    "duration": 31,
    "start_time": "2023-12-09T10:37:45.025Z"
   },
   {
    "duration": 16,
    "start_time": "2023-12-09T10:37:45.057Z"
   },
   {
    "duration": 44,
    "start_time": "2023-12-09T10:37:45.074Z"
   },
   {
    "duration": 48,
    "start_time": "2023-12-09T10:37:45.119Z"
   },
   {
    "duration": 62,
    "start_time": "2023-12-09T10:37:45.168Z"
   },
   {
    "duration": 6,
    "start_time": "2023-12-09T10:37:45.232Z"
   },
   {
    "duration": 10,
    "start_time": "2023-12-09T10:37:45.240Z"
   },
   {
    "duration": 107,
    "start_time": "2023-12-09T10:37:45.251Z"
   },
   {
    "duration": 8,
    "start_time": "2023-12-09T10:37:45.360Z"
   },
   {
    "duration": 37,
    "start_time": "2023-12-09T10:37:45.370Z"
   },
   {
    "duration": 20,
    "start_time": "2023-12-09T10:37:45.409Z"
   },
   {
    "duration": 4,
    "start_time": "2023-12-09T10:37:45.430Z"
   },
   {
    "duration": 13,
    "start_time": "2023-12-09T10:37:45.435Z"
   },
   {
    "duration": 7,
    "start_time": "2023-12-09T10:37:45.449Z"
   },
   {
    "duration": 8,
    "start_time": "2023-12-09T10:37:45.457Z"
   },
   {
    "duration": 33,
    "start_time": "2023-12-09T10:37:45.467Z"
   },
   {
    "duration": 21,
    "start_time": "2023-12-09T10:37:45.501Z"
   },
   {
    "duration": 253,
    "start_time": "2023-12-09T10:37:45.524Z"
   },
   {
    "duration": 21,
    "start_time": "2023-12-09T10:37:45.779Z"
   },
   {
    "duration": 15,
    "start_time": "2023-12-09T10:37:45.801Z"
   },
   {
    "duration": 7,
    "start_time": "2023-12-09T10:37:45.821Z"
   },
   {
    "duration": 216,
    "start_time": "2023-12-09T10:37:45.830Z"
   },
   {
    "duration": 10,
    "start_time": "2023-12-09T10:37:46.048Z"
   },
   {
    "duration": 40,
    "start_time": "2023-12-09T10:37:46.060Z"
   },
   {
    "duration": 15,
    "start_time": "2023-12-09T10:37:46.102Z"
   },
   {
    "duration": 33,
    "start_time": "2023-12-09T10:37:46.119Z"
   },
   {
    "duration": 6,
    "start_time": "2023-12-09T10:37:46.154Z"
   },
   {
    "duration": 47,
    "start_time": "2023-12-09T10:37:46.162Z"
   },
   {
    "duration": 23,
    "start_time": "2023-12-09T10:37:46.210Z"
   },
   {
    "duration": 46,
    "start_time": "2023-12-09T10:37:46.234Z"
   },
   {
    "duration": 19,
    "start_time": "2023-12-09T10:37:46.281Z"
   },
   {
    "duration": 9,
    "start_time": "2023-12-09T10:37:46.301Z"
   },
   {
    "duration": 25,
    "start_time": "2023-12-09T10:37:46.312Z"
   },
   {
    "duration": 23,
    "start_time": "2023-12-09T10:37:46.338Z"
   },
   {
    "duration": 23,
    "start_time": "2023-12-09T10:37:46.363Z"
   },
   {
    "duration": 61,
    "start_time": "2023-12-09T10:37:46.388Z"
   },
   {
    "duration": 4,
    "start_time": "2023-12-09T10:37:46.451Z"
   },
   {
    "duration": 15,
    "start_time": "2023-12-09T10:37:46.457Z"
   },
   {
    "duration": 5,
    "start_time": "2023-12-09T10:37:46.474Z"
   },
   {
    "duration": 9,
    "start_time": "2023-12-09T10:37:46.499Z"
   },
   {
    "duration": 31,
    "start_time": "2023-12-09T10:37:46.509Z"
   },
   {
    "duration": 8,
    "start_time": "2023-12-09T10:37:46.542Z"
   },
   {
    "duration": 6,
    "start_time": "2023-12-09T10:37:46.551Z"
   },
   {
    "duration": 9,
    "start_time": "2023-12-09T10:37:46.558Z"
   },
   {
    "duration": 7,
    "start_time": "2023-12-09T10:37:46.599Z"
   },
   {
    "duration": 33,
    "start_time": "2023-12-09T10:37:46.607Z"
   },
   {
    "duration": 29,
    "start_time": "2023-12-09T10:37:46.641Z"
   },
   {
    "duration": 28,
    "start_time": "2023-12-09T10:37:46.672Z"
   },
   {
    "duration": 5,
    "start_time": "2023-12-09T10:37:46.702Z"
   },
   {
    "duration": 63,
    "start_time": "2023-12-09T10:37:46.709Z"
   },
   {
    "duration": 5,
    "start_time": "2023-12-09T10:37:46.773Z"
   },
   {
    "duration": 10,
    "start_time": "2023-12-09T10:37:46.799Z"
   },
   {
    "duration": 66,
    "start_time": "2023-12-09T10:37:46.811Z"
   },
   {
    "duration": 21,
    "start_time": "2023-12-09T10:37:46.878Z"
   },
   {
    "duration": 12,
    "start_time": "2023-12-09T10:37:46.901Z"
   },
   {
    "duration": 8,
    "start_time": "2023-12-09T10:37:46.915Z"
   },
   {
    "duration": 11,
    "start_time": "2023-12-09T10:37:46.924Z"
   },
   {
    "duration": 15,
    "start_time": "2023-12-09T10:37:46.936Z"
   },
   {
    "duration": 1126,
    "start_time": "2023-12-09T10:38:25.316Z"
   },
   {
    "duration": 214,
    "start_time": "2023-12-09T10:38:26.444Z"
   },
   {
    "duration": 21,
    "start_time": "2023-12-09T10:38:26.659Z"
   },
   {
    "duration": 37,
    "start_time": "2023-12-09T10:38:26.682Z"
   },
   {
    "duration": 9,
    "start_time": "2023-12-09T10:38:26.721Z"
   },
   {
    "duration": 27,
    "start_time": "2023-12-09T10:38:26.731Z"
   },
   {
    "duration": 76,
    "start_time": "2023-12-09T10:38:26.759Z"
   },
   {
    "duration": 75,
    "start_time": "2023-12-09T10:38:26.837Z"
   },
   {
    "duration": 7,
    "start_time": "2023-12-09T10:38:26.913Z"
   },
   {
    "duration": 33,
    "start_time": "2023-12-09T10:38:26.923Z"
   },
   {
    "duration": 107,
    "start_time": "2023-12-09T10:38:26.958Z"
   },
   {
    "duration": 8,
    "start_time": "2023-12-09T10:38:27.067Z"
   },
   {
    "duration": 30,
    "start_time": "2023-12-09T10:38:27.076Z"
   },
   {
    "duration": 18,
    "start_time": "2023-12-09T10:38:27.107Z"
   },
   {
    "duration": 4,
    "start_time": "2023-12-09T10:38:27.126Z"
   },
   {
    "duration": 12,
    "start_time": "2023-12-09T10:38:27.131Z"
   },
   {
    "duration": 7,
    "start_time": "2023-12-09T10:38:27.144Z"
   },
   {
    "duration": 8,
    "start_time": "2023-12-09T10:38:27.152Z"
   },
   {
    "duration": 45,
    "start_time": "2023-12-09T10:38:27.161Z"
   },
   {
    "duration": 20,
    "start_time": "2023-12-09T10:38:27.207Z"
   },
   {
    "duration": 325,
    "start_time": "2023-12-09T10:38:27.228Z"
   },
   {
    "duration": 8,
    "start_time": "2023-12-09T10:38:27.554Z"
   },
   {
    "duration": 13,
    "start_time": "2023-12-09T10:38:27.564Z"
   },
   {
    "duration": 22,
    "start_time": "2023-12-09T10:38:27.578Z"
   },
   {
    "duration": 211,
    "start_time": "2023-12-09T10:38:27.601Z"
   },
   {
    "duration": 10,
    "start_time": "2023-12-09T10:38:27.813Z"
   },
   {
    "duration": 25,
    "start_time": "2023-12-09T10:38:27.824Z"
   },
   {
    "duration": 12,
    "start_time": "2023-12-09T10:38:27.852Z"
   },
   {
    "duration": 50,
    "start_time": "2023-12-09T10:38:27.865Z"
   },
   {
    "duration": 7,
    "start_time": "2023-12-09T10:38:27.916Z"
   },
   {
    "duration": 28,
    "start_time": "2023-12-09T10:38:27.924Z"
   },
   {
    "duration": 47,
    "start_time": "2023-12-09T10:38:27.953Z"
   },
   {
    "duration": 45,
    "start_time": "2023-12-09T10:38:28.001Z"
   },
   {
    "duration": 13,
    "start_time": "2023-12-09T10:38:28.048Z"
   },
   {
    "duration": 21,
    "start_time": "2023-12-09T10:38:28.062Z"
   },
   {
    "duration": 32,
    "start_time": "2023-12-09T10:38:28.085Z"
   },
   {
    "duration": 18,
    "start_time": "2023-12-09T10:38:28.119Z"
   },
   {
    "duration": 23,
    "start_time": "2023-12-09T10:38:28.138Z"
   },
   {
    "duration": 72,
    "start_time": "2023-12-09T10:38:28.163Z"
   },
   {
    "duration": 5,
    "start_time": "2023-12-09T10:38:28.237Z"
   },
   {
    "duration": 23,
    "start_time": "2023-12-09T10:38:28.243Z"
   },
   {
    "duration": 30,
    "start_time": "2023-12-09T10:38:28.268Z"
   },
   {
    "duration": 151,
    "start_time": "2023-12-09T10:38:28.300Z"
   },
   {
    "duration": 54,
    "start_time": "2023-12-09T10:38:28.452Z"
   },
   {
    "duration": 8,
    "start_time": "2023-12-09T10:38:28.507Z"
   },
   {
    "duration": 17,
    "start_time": "2023-12-09T10:38:28.517Z"
   },
   {
    "duration": 20,
    "start_time": "2023-12-09T10:38:28.535Z"
   },
   {
    "duration": 44,
    "start_time": "2023-12-09T10:38:28.556Z"
   },
   {
    "duration": 33,
    "start_time": "2023-12-09T10:38:28.601Z"
   },
   {
    "duration": 35,
    "start_time": "2023-12-09T10:38:28.636Z"
   },
   {
    "duration": 6,
    "start_time": "2023-12-09T10:38:28.672Z"
   },
   {
    "duration": 21,
    "start_time": "2023-12-09T10:38:28.679Z"
   },
   {
    "duration": 72,
    "start_time": "2023-12-09T10:38:28.701Z"
   },
   {
    "duration": 5,
    "start_time": "2023-12-09T10:38:28.775Z"
   },
   {
    "duration": 29,
    "start_time": "2023-12-09T10:38:28.781Z"
   },
   {
    "duration": 74,
    "start_time": "2023-12-09T10:38:28.812Z"
   },
   {
    "duration": 12,
    "start_time": "2023-12-09T10:38:28.888Z"
   },
   {
    "duration": 11,
    "start_time": "2023-12-09T10:38:28.901Z"
   },
   {
    "duration": 9,
    "start_time": "2023-12-09T10:38:28.914Z"
   },
   {
    "duration": 12,
    "start_time": "2023-12-09T10:38:28.925Z"
   },
   {
    "duration": 23,
    "start_time": "2023-12-09T10:38:28.938Z"
   },
   {
    "duration": 3,
    "start_time": "2023-12-09T10:40:35.437Z"
   },
   {
    "duration": 201,
    "start_time": "2023-12-09T10:40:35.442Z"
   },
   {
    "duration": 20,
    "start_time": "2023-12-09T10:40:35.645Z"
   },
   {
    "duration": 18,
    "start_time": "2023-12-09T10:40:35.667Z"
   },
   {
    "duration": 11,
    "start_time": "2023-12-09T10:40:35.688Z"
   },
   {
    "duration": 18,
    "start_time": "2023-12-09T10:40:35.701Z"
   },
   {
    "duration": 59,
    "start_time": "2023-12-09T10:40:35.720Z"
   },
   {
    "duration": 74,
    "start_time": "2023-12-09T10:40:35.780Z"
   },
   {
    "duration": 7,
    "start_time": "2023-12-09T10:40:35.856Z"
   },
   {
    "duration": 7,
    "start_time": "2023-12-09T10:40:35.865Z"
   },
   {
    "duration": 115,
    "start_time": "2023-12-09T10:40:35.874Z"
   },
   {
    "duration": 16,
    "start_time": "2023-12-09T10:40:35.990Z"
   },
   {
    "duration": 24,
    "start_time": "2023-12-09T10:40:36.007Z"
   },
   {
    "duration": 17,
    "start_time": "2023-12-09T10:40:36.033Z"
   },
   {
    "duration": 3,
    "start_time": "2023-12-09T10:40:36.051Z"
   },
   {
    "duration": 7,
    "start_time": "2023-12-09T10:40:36.056Z"
   },
   {
    "duration": 40,
    "start_time": "2023-12-09T10:40:36.064Z"
   },
   {
    "duration": 4,
    "start_time": "2023-12-09T10:40:36.106Z"
   },
   {
    "duration": 11,
    "start_time": "2023-12-09T10:40:36.112Z"
   },
   {
    "duration": 19,
    "start_time": "2023-12-09T10:40:36.124Z"
   },
   {
    "duration": 290,
    "start_time": "2023-12-09T10:40:36.145Z"
   },
   {
    "duration": 8,
    "start_time": "2023-12-09T10:40:36.437Z"
   },
   {
    "duration": 15,
    "start_time": "2023-12-09T10:40:36.446Z"
   },
   {
    "duration": 7,
    "start_time": "2023-12-09T10:40:36.462Z"
   },
   {
    "duration": 223,
    "start_time": "2023-12-09T10:40:36.471Z"
   },
   {
    "duration": 12,
    "start_time": "2023-12-09T10:40:36.695Z"
   },
   {
    "duration": 24,
    "start_time": "2023-12-09T10:40:36.708Z"
   },
   {
    "duration": 13,
    "start_time": "2023-12-09T10:40:36.733Z"
   },
   {
    "duration": 52,
    "start_time": "2023-12-09T10:40:36.747Z"
   },
   {
    "duration": 6,
    "start_time": "2023-12-09T10:40:36.801Z"
   },
   {
    "duration": 24,
    "start_time": "2023-12-09T10:40:36.809Z"
   },
   {
    "duration": 23,
    "start_time": "2023-12-09T10:40:36.834Z"
   },
   {
    "duration": 69,
    "start_time": "2023-12-09T10:40:36.858Z"
   },
   {
    "duration": 4,
    "start_time": "2023-12-09T10:40:36.929Z"
   },
   {
    "duration": 11,
    "start_time": "2023-12-09T10:40:36.934Z"
   },
   {
    "duration": 23,
    "start_time": "2023-12-09T10:40:36.946Z"
   },
   {
    "duration": 18,
    "start_time": "2023-12-09T10:40:36.971Z"
   },
   {
    "duration": 24,
    "start_time": "2023-12-09T10:40:36.999Z"
   },
   {
    "duration": 66,
    "start_time": "2023-12-09T10:40:37.025Z"
   },
   {
    "duration": 7,
    "start_time": "2023-12-09T10:40:37.093Z"
   },
   {
    "duration": 10,
    "start_time": "2023-12-09T10:40:37.106Z"
   },
   {
    "duration": 17,
    "start_time": "2023-12-09T10:40:37.118Z"
   },
   {
    "duration": 17,
    "start_time": "2023-12-09T10:40:37.137Z"
   },
   {
    "duration": 53,
    "start_time": "2023-12-09T10:40:37.156Z"
   },
   {
    "duration": 10,
    "start_time": "2023-12-09T10:40:37.211Z"
   },
   {
    "duration": 40,
    "start_time": "2023-12-09T10:40:37.222Z"
   },
   {
    "duration": 11,
    "start_time": "2023-12-09T10:40:37.264Z"
   },
   {
    "duration": 6,
    "start_time": "2023-12-09T10:40:37.277Z"
   },
   {
    "duration": 37,
    "start_time": "2023-12-09T10:40:37.285Z"
   },
   {
    "duration": 30,
    "start_time": "2023-12-09T10:40:37.323Z"
   },
   {
    "duration": 6,
    "start_time": "2023-12-09T10:40:37.355Z"
   },
   {
    "duration": 8,
    "start_time": "2023-12-09T10:40:37.363Z"
   },
   {
    "duration": 109,
    "start_time": "2023-12-09T10:40:37.372Z"
   },
   {
    "duration": 5,
    "start_time": "2023-12-09T10:40:37.482Z"
   },
   {
    "duration": 9,
    "start_time": "2023-12-09T10:40:37.499Z"
   },
   {
    "duration": 70,
    "start_time": "2023-12-09T10:40:37.510Z"
   },
   {
    "duration": 19,
    "start_time": "2023-12-09T10:40:37.581Z"
   },
   {
    "duration": 9,
    "start_time": "2023-12-09T10:40:37.601Z"
   },
   {
    "duration": 7,
    "start_time": "2023-12-09T10:40:37.612Z"
   },
   {
    "duration": 20,
    "start_time": "2023-12-09T10:40:37.620Z"
   },
   {
    "duration": 21,
    "start_time": "2023-12-09T10:40:37.641Z"
   },
   {
    "duration": 1099,
    "start_time": "2023-12-09T10:40:53.126Z"
   },
   {
    "duration": 192,
    "start_time": "2023-12-09T10:40:54.227Z"
   },
   {
    "duration": 24,
    "start_time": "2023-12-09T10:40:54.420Z"
   },
   {
    "duration": 14,
    "start_time": "2023-12-09T10:40:54.447Z"
   },
   {
    "duration": 3,
    "start_time": "2023-12-09T10:40:54.463Z"
   },
   {
    "duration": 37,
    "start_time": "2023-12-09T10:40:54.468Z"
   },
   {
    "duration": 74,
    "start_time": "2023-12-09T10:40:54.508Z"
   },
   {
    "duration": 94,
    "start_time": "2023-12-09T10:40:54.584Z"
   },
   {
    "duration": 6,
    "start_time": "2023-12-09T10:40:54.680Z"
   },
   {
    "duration": 11,
    "start_time": "2023-12-09T10:40:54.698Z"
   },
   {
    "duration": 108,
    "start_time": "2023-12-09T10:40:54.710Z"
   },
   {
    "duration": 9,
    "start_time": "2023-12-09T10:40:54.820Z"
   },
   {
    "duration": 25,
    "start_time": "2023-12-09T10:40:54.830Z"
   },
   {
    "duration": 19,
    "start_time": "2023-12-09T10:40:54.856Z"
   },
   {
    "duration": 4,
    "start_time": "2023-12-09T10:40:54.899Z"
   },
   {
    "duration": 11,
    "start_time": "2023-12-09T10:40:54.904Z"
   },
   {
    "duration": 12,
    "start_time": "2023-12-09T10:40:54.916Z"
   },
   {
    "duration": 11,
    "start_time": "2023-12-09T10:40:54.929Z"
   },
   {
    "duration": 31,
    "start_time": "2023-12-09T10:40:54.941Z"
   },
   {
    "duration": 33,
    "start_time": "2023-12-09T10:40:54.973Z"
   },
   {
    "duration": 328,
    "start_time": "2023-12-09T10:40:55.007Z"
   },
   {
    "duration": 8,
    "start_time": "2023-12-09T10:40:55.336Z"
   },
   {
    "duration": 26,
    "start_time": "2023-12-09T10:40:55.346Z"
   },
   {
    "duration": 11,
    "start_time": "2023-12-09T10:40:55.374Z"
   },
   {
    "duration": 222,
    "start_time": "2023-12-09T10:40:55.400Z"
   },
   {
    "duration": 11,
    "start_time": "2023-12-09T10:40:55.624Z"
   },
   {
    "duration": 24,
    "start_time": "2023-12-09T10:40:55.637Z"
   },
   {
    "duration": 33,
    "start_time": "2023-12-09T10:40:55.667Z"
   },
   {
    "duration": 47,
    "start_time": "2023-12-09T10:40:55.702Z"
   },
   {
    "duration": 7,
    "start_time": "2023-12-09T10:40:55.750Z"
   },
   {
    "duration": 49,
    "start_time": "2023-12-09T10:40:55.758Z"
   },
   {
    "duration": 24,
    "start_time": "2023-12-09T10:40:55.809Z"
   },
   {
    "duration": 46,
    "start_time": "2023-12-09T10:40:55.834Z"
   },
   {
    "duration": 4,
    "start_time": "2023-12-09T10:40:55.898Z"
   },
   {
    "duration": 33,
    "start_time": "2023-12-09T10:40:55.904Z"
   },
   {
    "duration": 24,
    "start_time": "2023-12-09T10:40:55.939Z"
   },
   {
    "duration": 17,
    "start_time": "2023-12-09T10:40:55.965Z"
   },
   {
    "duration": 23,
    "start_time": "2023-12-09T10:40:55.983Z"
   },
   {
    "duration": 56,
    "start_time": "2023-12-09T10:40:56.008Z"
   },
   {
    "duration": 5,
    "start_time": "2023-12-09T10:40:56.065Z"
   },
   {
    "duration": 10,
    "start_time": "2023-12-09T10:40:56.071Z"
   },
   {
    "duration": 18,
    "start_time": "2023-12-09T10:40:56.082Z"
   },
   {
    "duration": 154,
    "start_time": "2023-12-09T10:40:56.101Z"
   },
   {
    "duration": 64,
    "start_time": "2023-12-09T10:40:56.257Z"
   },
   {
    "duration": 9,
    "start_time": "2023-12-09T10:40:56.323Z"
   },
   {
    "duration": 9,
    "start_time": "2023-12-09T10:40:56.333Z"
   },
   {
    "duration": 61,
    "start_time": "2023-12-09T10:40:56.343Z"
   },
   {
    "duration": 8,
    "start_time": "2023-12-09T10:40:56.406Z"
   },
   {
    "duration": 49,
    "start_time": "2023-12-09T10:40:56.416Z"
   },
   {
    "duration": 63,
    "start_time": "2023-12-09T10:40:56.466Z"
   },
   {
    "duration": 6,
    "start_time": "2023-12-09T10:40:56.531Z"
   },
   {
    "duration": 10,
    "start_time": "2023-12-09T10:40:56.538Z"
   },
   {
    "duration": 90,
    "start_time": "2023-12-09T10:40:56.549Z"
   },
   {
    "duration": 4,
    "start_time": "2023-12-09T10:40:56.641Z"
   },
   {
    "duration": 16,
    "start_time": "2023-12-09T10:40:56.647Z"
   },
   {
    "duration": 88,
    "start_time": "2023-12-09T10:40:56.664Z"
   },
   {
    "duration": 5,
    "start_time": "2023-12-09T10:40:56.754Z"
   },
   {
    "duration": 11,
    "start_time": "2023-12-09T10:40:56.760Z"
   },
   {
    "duration": 31,
    "start_time": "2023-12-09T10:40:56.775Z"
   },
   {
    "duration": 8,
    "start_time": "2023-12-09T10:40:56.808Z"
   },
   {
    "duration": 11,
    "start_time": "2023-12-09T10:40:56.818Z"
   },
   {
    "duration": 1127,
    "start_time": "2023-12-09T11:16:20.041Z"
   },
   {
    "duration": 224,
    "start_time": "2023-12-09T11:16:21.170Z"
   },
   {
    "duration": 24,
    "start_time": "2023-12-09T11:16:21.395Z"
   },
   {
    "duration": 11,
    "start_time": "2023-12-09T11:16:21.421Z"
   },
   {
    "duration": 3,
    "start_time": "2023-12-09T11:16:21.434Z"
   },
   {
    "duration": 32,
    "start_time": "2023-12-09T11:16:21.439Z"
   },
   {
    "duration": 80,
    "start_time": "2023-12-09T11:16:21.473Z"
   },
   {
    "duration": 85,
    "start_time": "2023-12-09T11:16:21.555Z"
   },
   {
    "duration": 8,
    "start_time": "2023-12-09T11:16:21.642Z"
   },
   {
    "duration": 7,
    "start_time": "2023-12-09T11:16:21.652Z"
   },
   {
    "duration": 125,
    "start_time": "2023-12-09T11:16:21.661Z"
   },
   {
    "duration": 9,
    "start_time": "2023-12-09T11:16:21.788Z"
   },
   {
    "duration": 20,
    "start_time": "2023-12-09T11:16:21.807Z"
   },
   {
    "duration": 20,
    "start_time": "2023-12-09T11:16:21.829Z"
   },
   {
    "duration": 6,
    "start_time": "2023-12-09T11:16:21.850Z"
   },
   {
    "duration": 18,
    "start_time": "2023-12-09T11:16:21.858Z"
   },
   {
    "duration": 33,
    "start_time": "2023-12-09T11:16:21.877Z"
   },
   {
    "duration": 5,
    "start_time": "2023-12-09T11:16:21.911Z"
   },
   {
    "duration": 22,
    "start_time": "2023-12-09T11:16:21.917Z"
   },
   {
    "duration": 24,
    "start_time": "2023-12-09T11:16:21.940Z"
   },
   {
    "duration": 351,
    "start_time": "2023-12-09T11:16:21.966Z"
   },
   {
    "duration": 9,
    "start_time": "2023-12-09T11:16:22.318Z"
   },
   {
    "duration": 20,
    "start_time": "2023-12-09T11:16:22.329Z"
   },
   {
    "duration": 9,
    "start_time": "2023-12-09T11:16:22.350Z"
   },
   {
    "duration": 250,
    "start_time": "2023-12-09T11:16:22.360Z"
   },
   {
    "duration": 11,
    "start_time": "2023-12-09T11:16:22.611Z"
   },
   {
    "duration": 72,
    "start_time": "2023-12-09T11:16:22.624Z"
   },
   {
    "duration": 24,
    "start_time": "2023-12-09T11:16:22.701Z"
   },
   {
    "duration": 36,
    "start_time": "2023-12-09T11:16:22.727Z"
   },
   {
    "duration": 6,
    "start_time": "2023-12-09T11:16:22.765Z"
   },
   {
    "duration": 37,
    "start_time": "2023-12-09T11:16:22.773Z"
   },
   {
    "duration": 26,
    "start_time": "2023-12-09T11:16:22.812Z"
   },
   {
    "duration": 49,
    "start_time": "2023-12-09T11:16:22.839Z"
   },
   {
    "duration": 18,
    "start_time": "2023-12-09T11:16:22.890Z"
   },
   {
    "duration": 12,
    "start_time": "2023-12-09T11:16:22.909Z"
   },
   {
    "duration": 25,
    "start_time": "2023-12-09T11:16:22.923Z"
   },
   {
    "duration": 22,
    "start_time": "2023-12-09T11:16:22.950Z"
   },
   {
    "duration": 50,
    "start_time": "2023-12-09T11:16:22.974Z"
   },
   {
    "duration": 67,
    "start_time": "2023-12-09T11:16:23.026Z"
   },
   {
    "duration": 14,
    "start_time": "2023-12-09T11:16:23.095Z"
   },
   {
    "duration": 11,
    "start_time": "2023-12-09T11:16:23.111Z"
   },
   {
    "duration": 33,
    "start_time": "2023-12-09T11:16:23.123Z"
   },
   {
    "duration": 389,
    "start_time": "2023-12-09T11:16:23.158Z"
   },
   {
    "duration": 38,
    "start_time": "2023-12-09T11:16:23.549Z"
   },
   {
    "duration": 24,
    "start_time": "2023-12-09T11:16:23.589Z"
   },
   {
    "duration": 6,
    "start_time": "2023-12-09T11:16:23.615Z"
   },
   {
    "duration": 12,
    "start_time": "2023-12-09T11:16:23.622Z"
   },
   {
    "duration": 71,
    "start_time": "2023-12-09T11:16:23.636Z"
   },
   {
    "duration": 38,
    "start_time": "2023-12-09T11:16:23.709Z"
   },
   {
    "duration": 33,
    "start_time": "2023-12-09T11:16:23.749Z"
   },
   {
    "duration": 24,
    "start_time": "2023-12-09T11:16:23.783Z"
   },
   {
    "duration": 5,
    "start_time": "2023-12-09T11:16:23.808Z"
   },
   {
    "duration": 93,
    "start_time": "2023-12-09T11:16:23.814Z"
   },
   {
    "duration": 6,
    "start_time": "2023-12-09T11:16:23.909Z"
   },
   {
    "duration": 16,
    "start_time": "2023-12-09T11:16:23.917Z"
   },
   {
    "duration": 96,
    "start_time": "2023-12-09T11:16:23.935Z"
   },
   {
    "duration": 6,
    "start_time": "2023-12-09T11:16:24.032Z"
   },
   {
    "duration": 23,
    "start_time": "2023-12-09T11:16:24.040Z"
   },
   {
    "duration": 23,
    "start_time": "2023-12-09T11:16:24.065Z"
   },
   {
    "duration": 11,
    "start_time": "2023-12-09T11:16:24.090Z"
   },
   {
    "duration": 16,
    "start_time": "2023-12-09T11:16:24.103Z"
   },
   {
    "duration": 13,
    "start_time": "2023-12-09T11:20:20.493Z"
   },
   {
    "duration": 41,
    "start_time": "2023-12-09T11:21:34.110Z"
   }
  ],
  "kernelspec": {
   "display_name": "Python 3 (ipykernel)",
   "language": "python",
   "name": "python3"
  },
  "language_info": {
   "codemirror_mode": {
    "name": "ipython",
    "version": 3
   },
   "file_extension": ".py",
   "mimetype": "text/x-python",
   "name": "python",
   "nbconvert_exporter": "python",
   "pygments_lexer": "ipython3",
   "version": "3.11.4"
  },
  "toc": {
   "base_numbering": 1,
   "nav_menu": {},
   "number_sections": true,
   "sideBar": true,
   "skip_h1_title": true,
   "title_cell": "Table of Contents",
   "title_sidebar": "Contents",
   "toc_cell": false,
   "toc_position": {},
   "toc_section_display": true,
   "toc_window_display": false
  }
 },
 "nbformat": 4,
 "nbformat_minor": 5
}
