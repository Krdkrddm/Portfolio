{
 "cells": [
  {
   "cell_type": "markdown",
   "id": "66ed176c",
   "metadata": {},
   "source": [
    "# Проект по SQL"
   ]
  },
  {
   "cell_type": "markdown",
   "id": "25d68658",
   "metadata": {},
   "source": [
    "Компания решила купила крупный сервис для чтения книг по подписке. Наша первая задача  — проанализировать базу данных.\n",
    "В ней — информация о книгах, издательствах, авторах, а также пользовательские обзоры книг. Эти данные помогут сформулировать ценностное предложение для нового продукта."
   ]
  },
  {
   "cell_type": "markdown",
   "id": "e91bd4b3",
   "metadata": {},
   "source": [
    "Описание данных\n",
    "<br>\n",
    "\n",
    "Таблица books\n",
    "<br>\n",
    "Содержит данные о книгах:\n",
    "<br>\n",
    "book_id — идентификатор книги;\n",
    "<br>\n",
    "author_id — идентификатор автора;\n",
    "<br>\n",
    "title — название книги;\n",
    "<br>\n",
    "num_pages — количество страниц;\n",
    "<br>\n",
    "publication_date — дата публикации книги;\n",
    "<br>\n",
    "publisher_id — идентификатор издателя.\n",
    "<br>\n",
    "\n",
    "Таблица authors\n",
    "<br>\n",
    "Содержит данные об авторах:\n",
    "<br>\n",
    "author_id — идентификатор автора;\n",
    "<br>\n",
    "author — имя автора.\n",
    "<br>\n",
    "\n",
    "Таблица publishers\n",
    "<br>\n",
    "Содержит данные об издательствах:\n",
    "<br>\n",
    "publisher_id — идентификатор издательства;\n",
    "<br>\n",
    "publisher — название издательства;\n",
    "<br>\n",
    "\n",
    "Таблица ratings\n",
    "<br>\n",
    "Содержит данные о пользовательских оценках книг:\n",
    "<br>\n",
    "rating_id — идентификатор оценки;\n",
    "<br>\n",
    "book_id — идентификатор книги;\n",
    "<br>\n",
    "username — имя пользователя, оставившего оценку;\n",
    "<br>\n",
    "rating — оценка книги.\n",
    "<br>\n",
    "\n",
    "Таблица reviews\n",
    "<br>\n",
    "Содержит данные о пользовательских обзорах:\n",
    "<br>\n",
    "review_id — идентификатор обзора;\n",
    "<br>\n",
    "book_id — идентификатор книги;\n",
    "<br>\n",
    "username — имя автора обзора;\n",
    "<br>\n",
    "text — текст обзора."
   ]
  },
  {
   "cell_type": "markdown",
   "id": "5c46712c",
   "metadata": {},
   "source": [
    "Задания:\n",
    "<br>\n",
    "- Посчитаем, сколько книг вышло после 1 января 2000 года;\n",
    "<br>\n",
    "- Для каждой книги посчитаем количество обзоров и среднюю оценку;\n",
    "<br>\n",
    "- Определим издательство, которое выпустило наибольшее число книг толще 50 страниц — так мы исключим из анализа брошюры;\n",
    "<br>\n",
    "- Определим автора с самой высокой средней оценкой книг — учитем только книги с 50 и более оценками;\n",
    "<br>\n",
    "- Посчитаем среднее количество обзоров от пользователей, которые поставили больше 48 оценок."
   ]
  },
  {
   "cell_type": "code",
   "execution_count": 1,
   "id": "463e13b8",
   "metadata": {},
   "outputs": [
    {
     "name": "stdout",
     "output_type": "stream",
     "text": [
      "Requirement already satisfied: psycopg2-binary in c:\\users\\dimak\\anaconda3\\lib\\site-packages (2.9.9)\n"
     ]
    }
   ],
   "source": [
    "! pip install psycopg2-binary "
   ]
  },
  {
   "cell_type": "code",
   "execution_count": 2,
   "id": "54fc453c",
   "metadata": {},
   "outputs": [],
   "source": [
    "import pandas as pd\n",
    "import sqlalchemy as sa\n",
    "# устанавливаем параметры\n",
    "db_config = {\n",
    "'user': 'praktikum_student', # имя пользователя\n",
    "'pwd': 'Sdf4$2;d-d30pp', # пароль\n",
    "'host': 'rc1b-wcoijxj3yxfsf3fs.mdb.yandexcloud.net',\n",
    "'port': 6432, # порт подключения\n",
    "'db': 'data-analyst-final-project-db' # название базы данных\n",
    "}\n",
    "connection_string = 'postgresql://{user}:{pwd}@{host}:{port}/{db}'.format(**db_config)\n"
   ]
  },
  {
   "cell_type": "code",
   "execution_count": 3,
   "id": "1fe9c3d4",
   "metadata": {},
   "outputs": [],
   "source": [
    "# сохраняем коннектор\n",
    "engine = sa.create_engine(connection_string, connect_args={'sslmode':'require'})\n",
    "# чтобы выполнить SQL-запрос, пишем функцию с использованием Pandas\n",
    "def get_sql_data(query:str, engine:sa.engine.base.Engine=engine) -> pd.DataFrame:\n",
    "    with engine.connect() as con:\n",
    "        return pd.read_sql(sql=sa.text(query), con = con)\n"
   ]
  },
  {
   "cell_type": "code",
   "execution_count": 4,
   "id": "5189c619",
   "metadata": {},
   "outputs": [
    {
     "data": {
      "text/html": [
       "<div>\n",
       "<style scoped>\n",
       "    .dataframe tbody tr th:only-of-type {\n",
       "        vertical-align: middle;\n",
       "    }\n",
       "\n",
       "    .dataframe tbody tr th {\n",
       "        vertical-align: top;\n",
       "    }\n",
       "\n",
       "    .dataframe thead th {\n",
       "        text-align: right;\n",
       "    }\n",
       "</style>\n",
       "<table border=\"1\" class=\"dataframe\">\n",
       "  <thead>\n",
       "    <tr style=\"text-align: right;\">\n",
       "      <th></th>\n",
       "      <th>book_id</th>\n",
       "      <th>author_id</th>\n",
       "      <th>title</th>\n",
       "      <th>num_pages</th>\n",
       "      <th>publication_date</th>\n",
       "      <th>publisher_id</th>\n",
       "    </tr>\n",
       "  </thead>\n",
       "  <tbody>\n",
       "    <tr>\n",
       "      <th>0</th>\n",
       "      <td>1</td>\n",
       "      <td>546</td>\n",
       "      <td>'Salem's Lot</td>\n",
       "      <td>594</td>\n",
       "      <td>2005-11-01</td>\n",
       "      <td>93</td>\n",
       "    </tr>\n",
       "    <tr>\n",
       "      <th>1</th>\n",
       "      <td>2</td>\n",
       "      <td>465</td>\n",
       "      <td>1 000 Places to See Before You Die</td>\n",
       "      <td>992</td>\n",
       "      <td>2003-05-22</td>\n",
       "      <td>336</td>\n",
       "    </tr>\n",
       "    <tr>\n",
       "      <th>2</th>\n",
       "      <td>3</td>\n",
       "      <td>407</td>\n",
       "      <td>13 Little Blue Envelopes (Little Blue Envelope...</td>\n",
       "      <td>322</td>\n",
       "      <td>2010-12-21</td>\n",
       "      <td>135</td>\n",
       "    </tr>\n",
       "    <tr>\n",
       "      <th>3</th>\n",
       "      <td>4</td>\n",
       "      <td>82</td>\n",
       "      <td>1491: New Revelations of the Americas Before C...</td>\n",
       "      <td>541</td>\n",
       "      <td>2006-10-10</td>\n",
       "      <td>309</td>\n",
       "    </tr>\n",
       "    <tr>\n",
       "      <th>4</th>\n",
       "      <td>5</td>\n",
       "      <td>125</td>\n",
       "      <td>1776</td>\n",
       "      <td>386</td>\n",
       "      <td>2006-07-04</td>\n",
       "      <td>268</td>\n",
       "    </tr>\n",
       "  </tbody>\n",
       "</table>\n",
       "</div>"
      ],
      "text/plain": [
       "   book_id  author_id                                              title  \\\n",
       "0        1        546                                       'Salem's Lot   \n",
       "1        2        465                 1 000 Places to See Before You Die   \n",
       "2        3        407  13 Little Blue Envelopes (Little Blue Envelope...   \n",
       "3        4         82  1491: New Revelations of the Americas Before C...   \n",
       "4        5        125                                               1776   \n",
       "\n",
       "   num_pages publication_date  publisher_id  \n",
       "0        594       2005-11-01            93  \n",
       "1        992       2003-05-22           336  \n",
       "2        322       2010-12-21           135  \n",
       "3        541       2006-10-10           309  \n",
       "4        386       2006-07-04           268  "
      ]
     },
     "execution_count": 4,
     "metadata": {},
     "output_type": "execute_result"
    }
   ],
   "source": [
    "# формируем запрос и выводим данные\n",
    "query = '''SELECT * FROM books LIMIT 5'''\n",
    "get_sql_data(query)"
   ]
  },
  {
   "cell_type": "code",
   "execution_count": 5,
   "id": "c74cbafe",
   "metadata": {},
   "outputs": [
    {
     "data": {
      "text/html": [
       "<div>\n",
       "<style scoped>\n",
       "    .dataframe tbody tr th:only-of-type {\n",
       "        vertical-align: middle;\n",
       "    }\n",
       "\n",
       "    .dataframe tbody tr th {\n",
       "        vertical-align: top;\n",
       "    }\n",
       "\n",
       "    .dataframe thead th {\n",
       "        text-align: right;\n",
       "    }\n",
       "</style>\n",
       "<table border=\"1\" class=\"dataframe\">\n",
       "  <thead>\n",
       "    <tr style=\"text-align: right;\">\n",
       "      <th></th>\n",
       "      <th>count</th>\n",
       "    </tr>\n",
       "  </thead>\n",
       "  <tbody>\n",
       "    <tr>\n",
       "      <th>0</th>\n",
       "      <td>1000</td>\n",
       "    </tr>\n",
       "  </tbody>\n",
       "</table>\n",
       "</div>"
      ],
      "text/plain": [
       "   count\n",
       "0   1000"
      ]
     },
     "execution_count": 5,
     "metadata": {},
     "output_type": "execute_result"
    }
   ],
   "source": [
    "query = '''SELECT COUNT(*) FROM books'''\n",
    "get_sql_data(query)"
   ]
  },
  {
   "cell_type": "code",
   "execution_count": 6,
   "id": "ed62219f",
   "metadata": {},
   "outputs": [
    {
     "data": {
      "text/html": [
       "<div>\n",
       "<style scoped>\n",
       "    .dataframe tbody tr th:only-of-type {\n",
       "        vertical-align: middle;\n",
       "    }\n",
       "\n",
       "    .dataframe tbody tr th {\n",
       "        vertical-align: top;\n",
       "    }\n",
       "\n",
       "    .dataframe thead th {\n",
       "        text-align: right;\n",
       "    }\n",
       "</style>\n",
       "<table border=\"1\" class=\"dataframe\">\n",
       "  <thead>\n",
       "    <tr style=\"text-align: right;\">\n",
       "      <th></th>\n",
       "      <th>count</th>\n",
       "    </tr>\n",
       "  </thead>\n",
       "  <tbody>\n",
       "    <tr>\n",
       "      <th>0</th>\n",
       "      <td>6</td>\n",
       "    </tr>\n",
       "  </tbody>\n",
       "</table>\n",
       "</div>"
      ],
      "text/plain": [
       "   count\n",
       "0      6"
      ]
     },
     "execution_count": 6,
     "metadata": {},
     "output_type": "execute_result"
    }
   ],
   "source": [
    "query = ''' SELECT COUNT(*) FROM information_schema.COLUMNS WHERE TABLE_NAME='books' '''\n",
    "get_sql_data(query)"
   ]
  },
  {
   "cell_type": "markdown",
   "id": "1e4d959a",
   "metadata": {},
   "source": [
    "В таблице books 6 столбцов и 1000 строк"
   ]
  },
  {
   "cell_type": "code",
   "execution_count": 7,
   "id": "a9046ddd",
   "metadata": {},
   "outputs": [
    {
     "data": {
      "text/html": [
       "<div>\n",
       "<style scoped>\n",
       "    .dataframe tbody tr th:only-of-type {\n",
       "        vertical-align: middle;\n",
       "    }\n",
       "\n",
       "    .dataframe tbody tr th {\n",
       "        vertical-align: top;\n",
       "    }\n",
       "\n",
       "    .dataframe thead th {\n",
       "        text-align: right;\n",
       "    }\n",
       "</style>\n",
       "<table border=\"1\" class=\"dataframe\">\n",
       "  <thead>\n",
       "    <tr style=\"text-align: right;\">\n",
       "      <th></th>\n",
       "      <th>rating_id</th>\n",
       "      <th>book_id</th>\n",
       "      <th>username</th>\n",
       "      <th>rating</th>\n",
       "    </tr>\n",
       "  </thead>\n",
       "  <tbody>\n",
       "    <tr>\n",
       "      <th>0</th>\n",
       "      <td>1</td>\n",
       "      <td>1</td>\n",
       "      <td>ryanfranco</td>\n",
       "      <td>4</td>\n",
       "    </tr>\n",
       "    <tr>\n",
       "      <th>1</th>\n",
       "      <td>2</td>\n",
       "      <td>1</td>\n",
       "      <td>grantpatricia</td>\n",
       "      <td>2</td>\n",
       "    </tr>\n",
       "    <tr>\n",
       "      <th>2</th>\n",
       "      <td>3</td>\n",
       "      <td>1</td>\n",
       "      <td>brandtandrea</td>\n",
       "      <td>5</td>\n",
       "    </tr>\n",
       "    <tr>\n",
       "      <th>3</th>\n",
       "      <td>4</td>\n",
       "      <td>2</td>\n",
       "      <td>lorichen</td>\n",
       "      <td>3</td>\n",
       "    </tr>\n",
       "    <tr>\n",
       "      <th>4</th>\n",
       "      <td>5</td>\n",
       "      <td>2</td>\n",
       "      <td>mariokeller</td>\n",
       "      <td>2</td>\n",
       "    </tr>\n",
       "  </tbody>\n",
       "</table>\n",
       "</div>"
      ],
      "text/plain": [
       "   rating_id  book_id       username  rating\n",
       "0          1        1     ryanfranco       4\n",
       "1          2        1  grantpatricia       2\n",
       "2          3        1   brandtandrea       5\n",
       "3          4        2       lorichen       3\n",
       "4          5        2    mariokeller       2"
      ]
     },
     "execution_count": 7,
     "metadata": {},
     "output_type": "execute_result"
    }
   ],
   "source": [
    "query = '''\n",
    "SELECT * FROM ratings LIMIT 5\n",
    "'''\n",
    "get_sql_data(query)"
   ]
  },
  {
   "cell_type": "code",
   "execution_count": 8,
   "id": "76bf889a",
   "metadata": {},
   "outputs": [
    {
     "data": {
      "text/html": [
       "<div>\n",
       "<style scoped>\n",
       "    .dataframe tbody tr th:only-of-type {\n",
       "        vertical-align: middle;\n",
       "    }\n",
       "\n",
       "    .dataframe tbody tr th {\n",
       "        vertical-align: top;\n",
       "    }\n",
       "\n",
       "    .dataframe thead th {\n",
       "        text-align: right;\n",
       "    }\n",
       "</style>\n",
       "<table border=\"1\" class=\"dataframe\">\n",
       "  <thead>\n",
       "    <tr style=\"text-align: right;\">\n",
       "      <th></th>\n",
       "      <th>count</th>\n",
       "    </tr>\n",
       "  </thead>\n",
       "  <tbody>\n",
       "    <tr>\n",
       "      <th>0</th>\n",
       "      <td>6456</td>\n",
       "    </tr>\n",
       "  </tbody>\n",
       "</table>\n",
       "</div>"
      ],
      "text/plain": [
       "   count\n",
       "0   6456"
      ]
     },
     "execution_count": 8,
     "metadata": {},
     "output_type": "execute_result"
    }
   ],
   "source": [
    "query = '''SELECT COUNT(*) FROM ratings'''\n",
    "get_sql_data(query)"
   ]
  },
  {
   "cell_type": "code",
   "execution_count": 9,
   "id": "30a9cddc",
   "metadata": {},
   "outputs": [
    {
     "data": {
      "text/html": [
       "<div>\n",
       "<style scoped>\n",
       "    .dataframe tbody tr th:only-of-type {\n",
       "        vertical-align: middle;\n",
       "    }\n",
       "\n",
       "    .dataframe tbody tr th {\n",
       "        vertical-align: top;\n",
       "    }\n",
       "\n",
       "    .dataframe thead th {\n",
       "        text-align: right;\n",
       "    }\n",
       "</style>\n",
       "<table border=\"1\" class=\"dataframe\">\n",
       "  <thead>\n",
       "    <tr style=\"text-align: right;\">\n",
       "      <th></th>\n",
       "      <th>count</th>\n",
       "    </tr>\n",
       "  </thead>\n",
       "  <tbody>\n",
       "    <tr>\n",
       "      <th>0</th>\n",
       "      <td>4</td>\n",
       "    </tr>\n",
       "  </tbody>\n",
       "</table>\n",
       "</div>"
      ],
      "text/plain": [
       "   count\n",
       "0      4"
      ]
     },
     "execution_count": 9,
     "metadata": {},
     "output_type": "execute_result"
    }
   ],
   "source": [
    "query = ''' SELECT COUNT(*) FROM information_schema.COLUMNS WHERE TABLE_NAME='ratings' '''\n",
    "get_sql_data(query)"
   ]
  },
  {
   "cell_type": "markdown",
   "id": "bff9cd1f",
   "metadata": {},
   "source": [
    "В таблице ratings 4 столбца и 6456 строк"
   ]
  },
  {
   "cell_type": "code",
   "execution_count": 10,
   "id": "c00986b5",
   "metadata": {},
   "outputs": [
    {
     "data": {
      "text/html": [
       "<div>\n",
       "<style scoped>\n",
       "    .dataframe tbody tr th:only-of-type {\n",
       "        vertical-align: middle;\n",
       "    }\n",
       "\n",
       "    .dataframe tbody tr th {\n",
       "        vertical-align: top;\n",
       "    }\n",
       "\n",
       "    .dataframe thead th {\n",
       "        text-align: right;\n",
       "    }\n",
       "</style>\n",
       "<table border=\"1\" class=\"dataframe\">\n",
       "  <thead>\n",
       "    <tr style=\"text-align: right;\">\n",
       "      <th></th>\n",
       "      <th>author_id</th>\n",
       "      <th>author</th>\n",
       "    </tr>\n",
       "  </thead>\n",
       "  <tbody>\n",
       "    <tr>\n",
       "      <th>0</th>\n",
       "      <td>1</td>\n",
       "      <td>A.S. Byatt</td>\n",
       "    </tr>\n",
       "    <tr>\n",
       "      <th>1</th>\n",
       "      <td>2</td>\n",
       "      <td>Aesop/Laura Harris/Laura Gibbs</td>\n",
       "    </tr>\n",
       "    <tr>\n",
       "      <th>2</th>\n",
       "      <td>3</td>\n",
       "      <td>Agatha Christie</td>\n",
       "    </tr>\n",
       "    <tr>\n",
       "      <th>3</th>\n",
       "      <td>4</td>\n",
       "      <td>Alan Brennert</td>\n",
       "    </tr>\n",
       "    <tr>\n",
       "      <th>4</th>\n",
       "      <td>5</td>\n",
       "      <td>Alan Moore/David   Lloyd</td>\n",
       "    </tr>\n",
       "  </tbody>\n",
       "</table>\n",
       "</div>"
      ],
      "text/plain": [
       "   author_id                          author\n",
       "0          1                      A.S. Byatt\n",
       "1          2  Aesop/Laura Harris/Laura Gibbs\n",
       "2          3                 Agatha Christie\n",
       "3          4                   Alan Brennert\n",
       "4          5        Alan Moore/David   Lloyd"
      ]
     },
     "execution_count": 10,
     "metadata": {},
     "output_type": "execute_result"
    }
   ],
   "source": [
    "query = '''\n",
    "SELECT * FROM authors LIMIT 5\n",
    "'''\n",
    "get_sql_data(query)"
   ]
  },
  {
   "cell_type": "code",
   "execution_count": 11,
   "id": "6da4ca13",
   "metadata": {},
   "outputs": [
    {
     "data": {
      "text/html": [
       "<div>\n",
       "<style scoped>\n",
       "    .dataframe tbody tr th:only-of-type {\n",
       "        vertical-align: middle;\n",
       "    }\n",
       "\n",
       "    .dataframe tbody tr th {\n",
       "        vertical-align: top;\n",
       "    }\n",
       "\n",
       "    .dataframe thead th {\n",
       "        text-align: right;\n",
       "    }\n",
       "</style>\n",
       "<table border=\"1\" class=\"dataframe\">\n",
       "  <thead>\n",
       "    <tr style=\"text-align: right;\">\n",
       "      <th></th>\n",
       "      <th>count</th>\n",
       "    </tr>\n",
       "  </thead>\n",
       "  <tbody>\n",
       "    <tr>\n",
       "      <th>0</th>\n",
       "      <td>636</td>\n",
       "    </tr>\n",
       "  </tbody>\n",
       "</table>\n",
       "</div>"
      ],
      "text/plain": [
       "   count\n",
       "0    636"
      ]
     },
     "execution_count": 11,
     "metadata": {},
     "output_type": "execute_result"
    }
   ],
   "source": [
    "query = '''SELECT COUNT(*) FROM authors'''\n",
    "get_sql_data(query)"
   ]
  },
  {
   "cell_type": "code",
   "execution_count": 12,
   "id": "c24d60a9",
   "metadata": {},
   "outputs": [
    {
     "data": {
      "text/html": [
       "<div>\n",
       "<style scoped>\n",
       "    .dataframe tbody tr th:only-of-type {\n",
       "        vertical-align: middle;\n",
       "    }\n",
       "\n",
       "    .dataframe tbody tr th {\n",
       "        vertical-align: top;\n",
       "    }\n",
       "\n",
       "    .dataframe thead th {\n",
       "        text-align: right;\n",
       "    }\n",
       "</style>\n",
       "<table border=\"1\" class=\"dataframe\">\n",
       "  <thead>\n",
       "    <tr style=\"text-align: right;\">\n",
       "      <th></th>\n",
       "      <th>count</th>\n",
       "    </tr>\n",
       "  </thead>\n",
       "  <tbody>\n",
       "    <tr>\n",
       "      <th>0</th>\n",
       "      <td>2</td>\n",
       "    </tr>\n",
       "  </tbody>\n",
       "</table>\n",
       "</div>"
      ],
      "text/plain": [
       "   count\n",
       "0      2"
      ]
     },
     "execution_count": 12,
     "metadata": {},
     "output_type": "execute_result"
    }
   ],
   "source": [
    "query = ''' SELECT COUNT(*) FROM information_schema.COLUMNS WHERE TABLE_NAME='authors' '''\n",
    "get_sql_data(query)"
   ]
  },
  {
   "cell_type": "markdown",
   "id": "7c4d46e2",
   "metadata": {},
   "source": [
    "В таблице authors 2 столбца и 636 строк"
   ]
  },
  {
   "cell_type": "code",
   "execution_count": 13,
   "id": "c7eac422",
   "metadata": {},
   "outputs": [
    {
     "data": {
      "text/html": [
       "<div>\n",
       "<style scoped>\n",
       "    .dataframe tbody tr th:only-of-type {\n",
       "        vertical-align: middle;\n",
       "    }\n",
       "\n",
       "    .dataframe tbody tr th {\n",
       "        vertical-align: top;\n",
       "    }\n",
       "\n",
       "    .dataframe thead th {\n",
       "        text-align: right;\n",
       "    }\n",
       "</style>\n",
       "<table border=\"1\" class=\"dataframe\">\n",
       "  <thead>\n",
       "    <tr style=\"text-align: right;\">\n",
       "      <th></th>\n",
       "      <th>review_id</th>\n",
       "      <th>book_id</th>\n",
       "      <th>username</th>\n",
       "      <th>text</th>\n",
       "    </tr>\n",
       "  </thead>\n",
       "  <tbody>\n",
       "    <tr>\n",
       "      <th>0</th>\n",
       "      <td>1</td>\n",
       "      <td>1</td>\n",
       "      <td>brandtandrea</td>\n",
       "      <td>Mention society tell send professor analysis. ...</td>\n",
       "    </tr>\n",
       "    <tr>\n",
       "      <th>1</th>\n",
       "      <td>2</td>\n",
       "      <td>1</td>\n",
       "      <td>ryanfranco</td>\n",
       "      <td>Foot glass pretty audience hit themselves. Amo...</td>\n",
       "    </tr>\n",
       "    <tr>\n",
       "      <th>2</th>\n",
       "      <td>3</td>\n",
       "      <td>2</td>\n",
       "      <td>lorichen</td>\n",
       "      <td>Listen treat keep worry. Miss husband tax but ...</td>\n",
       "    </tr>\n",
       "    <tr>\n",
       "      <th>3</th>\n",
       "      <td>4</td>\n",
       "      <td>3</td>\n",
       "      <td>johnsonamanda</td>\n",
       "      <td>Finally month interesting blue could nature cu...</td>\n",
       "    </tr>\n",
       "    <tr>\n",
       "      <th>4</th>\n",
       "      <td>5</td>\n",
       "      <td>3</td>\n",
       "      <td>scotttamara</td>\n",
       "      <td>Nation purpose heavy give wait song will. List...</td>\n",
       "    </tr>\n",
       "  </tbody>\n",
       "</table>\n",
       "</div>"
      ],
      "text/plain": [
       "   review_id  book_id       username  \\\n",
       "0          1        1   brandtandrea   \n",
       "1          2        1     ryanfranco   \n",
       "2          3        2       lorichen   \n",
       "3          4        3  johnsonamanda   \n",
       "4          5        3    scotttamara   \n",
       "\n",
       "                                                text  \n",
       "0  Mention society tell send professor analysis. ...  \n",
       "1  Foot glass pretty audience hit themselves. Amo...  \n",
       "2  Listen treat keep worry. Miss husband tax but ...  \n",
       "3  Finally month interesting blue could nature cu...  \n",
       "4  Nation purpose heavy give wait song will. List...  "
      ]
     },
     "execution_count": 13,
     "metadata": {},
     "output_type": "execute_result"
    }
   ],
   "source": [
    "query = '''\n",
    "SELECT * FROM reviews LIMIT 5\n",
    "'''\n",
    "get_sql_data(query)"
   ]
  },
  {
   "cell_type": "code",
   "execution_count": 14,
   "id": "fe6d9b81",
   "metadata": {},
   "outputs": [
    {
     "data": {
      "text/html": [
       "<div>\n",
       "<style scoped>\n",
       "    .dataframe tbody tr th:only-of-type {\n",
       "        vertical-align: middle;\n",
       "    }\n",
       "\n",
       "    .dataframe tbody tr th {\n",
       "        vertical-align: top;\n",
       "    }\n",
       "\n",
       "    .dataframe thead th {\n",
       "        text-align: right;\n",
       "    }\n",
       "</style>\n",
       "<table border=\"1\" class=\"dataframe\">\n",
       "  <thead>\n",
       "    <tr style=\"text-align: right;\">\n",
       "      <th></th>\n",
       "      <th>count</th>\n",
       "    </tr>\n",
       "  </thead>\n",
       "  <tbody>\n",
       "    <tr>\n",
       "      <th>0</th>\n",
       "      <td>2793</td>\n",
       "    </tr>\n",
       "  </tbody>\n",
       "</table>\n",
       "</div>"
      ],
      "text/plain": [
       "   count\n",
       "0   2793"
      ]
     },
     "execution_count": 14,
     "metadata": {},
     "output_type": "execute_result"
    }
   ],
   "source": [
    "query = '''SELECT COUNT(*) FROM reviews'''\n",
    "get_sql_data(query)"
   ]
  },
  {
   "cell_type": "code",
   "execution_count": 15,
   "id": "98437ba4",
   "metadata": {},
   "outputs": [
    {
     "data": {
      "text/html": [
       "<div>\n",
       "<style scoped>\n",
       "    .dataframe tbody tr th:only-of-type {\n",
       "        vertical-align: middle;\n",
       "    }\n",
       "\n",
       "    .dataframe tbody tr th {\n",
       "        vertical-align: top;\n",
       "    }\n",
       "\n",
       "    .dataframe thead th {\n",
       "        text-align: right;\n",
       "    }\n",
       "</style>\n",
       "<table border=\"1\" class=\"dataframe\">\n",
       "  <thead>\n",
       "    <tr style=\"text-align: right;\">\n",
       "      <th></th>\n",
       "      <th>count</th>\n",
       "    </tr>\n",
       "  </thead>\n",
       "  <tbody>\n",
       "    <tr>\n",
       "      <th>0</th>\n",
       "      <td>4</td>\n",
       "    </tr>\n",
       "  </tbody>\n",
       "</table>\n",
       "</div>"
      ],
      "text/plain": [
       "   count\n",
       "0      4"
      ]
     },
     "execution_count": 15,
     "metadata": {},
     "output_type": "execute_result"
    }
   ],
   "source": [
    "query = ''' SELECT COUNT(*) FROM information_schema.COLUMNS WHERE TABLE_NAME='reviews' '''\n",
    "get_sql_data(query)"
   ]
  },
  {
   "cell_type": "markdown",
   "id": "fa6bff03",
   "metadata": {},
   "source": [
    "В таблице reviews 4 столбца и 2793 строки"
   ]
  },
  {
   "cell_type": "code",
   "execution_count": 16,
   "id": "0bde5ebc",
   "metadata": {},
   "outputs": [
    {
     "data": {
      "text/html": [
       "<div>\n",
       "<style scoped>\n",
       "    .dataframe tbody tr th:only-of-type {\n",
       "        vertical-align: middle;\n",
       "    }\n",
       "\n",
       "    .dataframe tbody tr th {\n",
       "        vertical-align: top;\n",
       "    }\n",
       "\n",
       "    .dataframe thead th {\n",
       "        text-align: right;\n",
       "    }\n",
       "</style>\n",
       "<table border=\"1\" class=\"dataframe\">\n",
       "  <thead>\n",
       "    <tr style=\"text-align: right;\">\n",
       "      <th></th>\n",
       "      <th>publisher_id</th>\n",
       "      <th>publisher</th>\n",
       "    </tr>\n",
       "  </thead>\n",
       "  <tbody>\n",
       "    <tr>\n",
       "      <th>0</th>\n",
       "      <td>1</td>\n",
       "      <td>Ace</td>\n",
       "    </tr>\n",
       "    <tr>\n",
       "      <th>1</th>\n",
       "      <td>2</td>\n",
       "      <td>Ace Book</td>\n",
       "    </tr>\n",
       "    <tr>\n",
       "      <th>2</th>\n",
       "      <td>3</td>\n",
       "      <td>Ace Books</td>\n",
       "    </tr>\n",
       "    <tr>\n",
       "      <th>3</th>\n",
       "      <td>4</td>\n",
       "      <td>Ace Hardcover</td>\n",
       "    </tr>\n",
       "    <tr>\n",
       "      <th>4</th>\n",
       "      <td>5</td>\n",
       "      <td>Addison Wesley Publishing Company</td>\n",
       "    </tr>\n",
       "  </tbody>\n",
       "</table>\n",
       "</div>"
      ],
      "text/plain": [
       "   publisher_id                          publisher\n",
       "0             1                                Ace\n",
       "1             2                           Ace Book\n",
       "2             3                          Ace Books\n",
       "3             4                      Ace Hardcover\n",
       "4             5  Addison Wesley Publishing Company"
      ]
     },
     "execution_count": 16,
     "metadata": {},
     "output_type": "execute_result"
    }
   ],
   "source": [
    "query = '''\n",
    "SELECT * FROM publishers LIMIT 5\n",
    "'''\n",
    "get_sql_data(query)"
   ]
  },
  {
   "cell_type": "code",
   "execution_count": 17,
   "id": "bbb3402e",
   "metadata": {},
   "outputs": [
    {
     "data": {
      "text/html": [
       "<div>\n",
       "<style scoped>\n",
       "    .dataframe tbody tr th:only-of-type {\n",
       "        vertical-align: middle;\n",
       "    }\n",
       "\n",
       "    .dataframe tbody tr th {\n",
       "        vertical-align: top;\n",
       "    }\n",
       "\n",
       "    .dataframe thead th {\n",
       "        text-align: right;\n",
       "    }\n",
       "</style>\n",
       "<table border=\"1\" class=\"dataframe\">\n",
       "  <thead>\n",
       "    <tr style=\"text-align: right;\">\n",
       "      <th></th>\n",
       "      <th>count</th>\n",
       "    </tr>\n",
       "  </thead>\n",
       "  <tbody>\n",
       "    <tr>\n",
       "      <th>0</th>\n",
       "      <td>340</td>\n",
       "    </tr>\n",
       "  </tbody>\n",
       "</table>\n",
       "</div>"
      ],
      "text/plain": [
       "   count\n",
       "0    340"
      ]
     },
     "execution_count": 17,
     "metadata": {},
     "output_type": "execute_result"
    }
   ],
   "source": [
    "query = '''SELECT COUNT(*) FROM publishers'''\n",
    "get_sql_data(query)"
   ]
  },
  {
   "cell_type": "code",
   "execution_count": 18,
   "id": "8d13b4f6",
   "metadata": {},
   "outputs": [
    {
     "data": {
      "text/html": [
       "<div>\n",
       "<style scoped>\n",
       "    .dataframe tbody tr th:only-of-type {\n",
       "        vertical-align: middle;\n",
       "    }\n",
       "\n",
       "    .dataframe tbody tr th {\n",
       "        vertical-align: top;\n",
       "    }\n",
       "\n",
       "    .dataframe thead th {\n",
       "        text-align: right;\n",
       "    }\n",
       "</style>\n",
       "<table border=\"1\" class=\"dataframe\">\n",
       "  <thead>\n",
       "    <tr style=\"text-align: right;\">\n",
       "      <th></th>\n",
       "      <th>count</th>\n",
       "    </tr>\n",
       "  </thead>\n",
       "  <tbody>\n",
       "    <tr>\n",
       "      <th>0</th>\n",
       "      <td>2</td>\n",
       "    </tr>\n",
       "  </tbody>\n",
       "</table>\n",
       "</div>"
      ],
      "text/plain": [
       "   count\n",
       "0      2"
      ]
     },
     "execution_count": 18,
     "metadata": {},
     "output_type": "execute_result"
    }
   ],
   "source": [
    "query = ''' SELECT COUNT(*) FROM information_schema.COLUMNS WHERE TABLE_NAME='publishers' '''\n",
    "get_sql_data(query)"
   ]
  },
  {
   "cell_type": "markdown",
   "id": "4fa7d444",
   "metadata": {},
   "source": [
    "В таблице publishers 2 столбца и 340 строк"
   ]
  },
  {
   "cell_type": "markdown",
   "id": "0378a145",
   "metadata": {},
   "source": [
    "##### Задания"
   ]
  },
  {
   "cell_type": "markdown",
   "id": "364d4287",
   "metadata": {},
   "source": [
    "Посчитаем, сколько книг вышло после 1 января 2000 года;"
   ]
  },
  {
   "cell_type": "code",
   "execution_count": 19,
   "id": "b89f2d70",
   "metadata": {},
   "outputs": [
    {
     "data": {
      "text/html": [
       "<div>\n",
       "<style scoped>\n",
       "    .dataframe tbody tr th:only-of-type {\n",
       "        vertical-align: middle;\n",
       "    }\n",
       "\n",
       "    .dataframe tbody tr th {\n",
       "        vertical-align: top;\n",
       "    }\n",
       "\n",
       "    .dataframe thead th {\n",
       "        text-align: right;\n",
       "    }\n",
       "</style>\n",
       "<table border=\"1\" class=\"dataframe\">\n",
       "  <thead>\n",
       "    <tr style=\"text-align: right;\">\n",
       "      <th></th>\n",
       "      <th>count</th>\n",
       "    </tr>\n",
       "  </thead>\n",
       "  <tbody>\n",
       "    <tr>\n",
       "      <th>0</th>\n",
       "      <td>819</td>\n",
       "    </tr>\n",
       "  </tbody>\n",
       "</table>\n",
       "</div>"
      ],
      "text/plain": [
       "   count\n",
       "0    819"
      ]
     },
     "execution_count": 19,
     "metadata": {},
     "output_type": "execute_result"
    }
   ],
   "source": [
    "query = '''\n",
    "SELECT count(distinct(book_id)) \n",
    "FROM books \n",
    "WHERE DATE_TRUNC('day', publication_date)::date > '2000-01-01'\n",
    "'''\n",
    "get_sql_data(query)"
   ]
  },
  {
   "cell_type": "markdown",
   "id": "051dface",
   "metadata": {},
   "source": [
    "Всего книг вышедших после 01.01.2000 года 819."
   ]
  },
  {
   "cell_type": "markdown",
   "id": "123d2a4b",
   "metadata": {},
   "source": [
    "Для каждой книги посчитаем количество обзоров и среднюю оценку;"
   ]
  },
  {
   "cell_type": "code",
   "execution_count": 20,
   "id": "d4119b12",
   "metadata": {},
   "outputs": [
    {
     "data": {
      "text/html": [
       "<div>\n",
       "<style scoped>\n",
       "    .dataframe tbody tr th:only-of-type {\n",
       "        vertical-align: middle;\n",
       "    }\n",
       "\n",
       "    .dataframe tbody tr th {\n",
       "        vertical-align: top;\n",
       "    }\n",
       "\n",
       "    .dataframe thead th {\n",
       "        text-align: right;\n",
       "    }\n",
       "</style>\n",
       "<table border=\"1\" class=\"dataframe\">\n",
       "  <thead>\n",
       "    <tr style=\"text-align: right;\">\n",
       "      <th></th>\n",
       "      <th>book_id</th>\n",
       "      <th>title</th>\n",
       "      <th>reviews</th>\n",
       "      <th>avg_rating</th>\n",
       "    </tr>\n",
       "  </thead>\n",
       "  <tbody>\n",
       "    <tr>\n",
       "      <th>0</th>\n",
       "      <td>948</td>\n",
       "      <td>Twilight (Twilight  #1)</td>\n",
       "      <td>7</td>\n",
       "      <td>3.663</td>\n",
       "    </tr>\n",
       "    <tr>\n",
       "      <th>1</th>\n",
       "      <td>963</td>\n",
       "      <td>Water for Elephants</td>\n",
       "      <td>6</td>\n",
       "      <td>3.977</td>\n",
       "    </tr>\n",
       "    <tr>\n",
       "      <th>2</th>\n",
       "      <td>734</td>\n",
       "      <td>The Glass Castle</td>\n",
       "      <td>6</td>\n",
       "      <td>4.207</td>\n",
       "    </tr>\n",
       "    <tr>\n",
       "      <th>3</th>\n",
       "      <td>302</td>\n",
       "      <td>Harry Potter and the Prisoner of Azkaban (Harr...</td>\n",
       "      <td>6</td>\n",
       "      <td>4.415</td>\n",
       "    </tr>\n",
       "    <tr>\n",
       "      <th>4</th>\n",
       "      <td>695</td>\n",
       "      <td>The Curious Incident of the Dog in the Night-Time</td>\n",
       "      <td>6</td>\n",
       "      <td>4.081</td>\n",
       "    </tr>\n",
       "    <tr>\n",
       "      <th>...</th>\n",
       "      <td>...</td>\n",
       "      <td>...</td>\n",
       "      <td>...</td>\n",
       "      <td>...</td>\n",
       "    </tr>\n",
       "    <tr>\n",
       "      <th>995</th>\n",
       "      <td>83</td>\n",
       "      <td>Anne Rice's The Vampire Lestat: A Graphic Novel</td>\n",
       "      <td>0</td>\n",
       "      <td>3.667</td>\n",
       "    </tr>\n",
       "    <tr>\n",
       "      <th>996</th>\n",
       "      <td>808</td>\n",
       "      <td>The Natural Way to Draw</td>\n",
       "      <td>0</td>\n",
       "      <td>3.000</td>\n",
       "    </tr>\n",
       "    <tr>\n",
       "      <th>997</th>\n",
       "      <td>672</td>\n",
       "      <td>The Cat in the Hat and Other Dr. Seuss Favorites</td>\n",
       "      <td>0</td>\n",
       "      <td>5.000</td>\n",
       "    </tr>\n",
       "    <tr>\n",
       "      <th>998</th>\n",
       "      <td>221</td>\n",
       "      <td>Essential Tales and Poems</td>\n",
       "      <td>0</td>\n",
       "      <td>4.000</td>\n",
       "    </tr>\n",
       "    <tr>\n",
       "      <th>999</th>\n",
       "      <td>191</td>\n",
       "      <td>Disney's Beauty and the Beast (A Little Golden...</td>\n",
       "      <td>0</td>\n",
       "      <td>4.000</td>\n",
       "    </tr>\n",
       "  </tbody>\n",
       "</table>\n",
       "<p>1000 rows × 4 columns</p>\n",
       "</div>"
      ],
      "text/plain": [
       "     book_id                                              title  reviews  \\\n",
       "0        948                            Twilight (Twilight  #1)        7   \n",
       "1        963                                Water for Elephants        6   \n",
       "2        734                                   The Glass Castle        6   \n",
       "3        302  Harry Potter and the Prisoner of Azkaban (Harr...        6   \n",
       "4        695  The Curious Incident of the Dog in the Night-Time        6   \n",
       "..       ...                                                ...      ...   \n",
       "995       83    Anne Rice's The Vampire Lestat: A Graphic Novel        0   \n",
       "996      808                            The Natural Way to Draw        0   \n",
       "997      672   The Cat in the Hat and Other Dr. Seuss Favorites        0   \n",
       "998      221                          Essential Tales and Poems        0   \n",
       "999      191  Disney's Beauty and the Beast (A Little Golden...        0   \n",
       "\n",
       "     avg_rating  \n",
       "0         3.663  \n",
       "1         3.977  \n",
       "2         4.207  \n",
       "3         4.415  \n",
       "4         4.081  \n",
       "..          ...  \n",
       "995       3.667  \n",
       "996       3.000  \n",
       "997       5.000  \n",
       "998       4.000  \n",
       "999       4.000  \n",
       "\n",
       "[1000 rows x 4 columns]"
      ]
     },
     "execution_count": 20,
     "metadata": {},
     "output_type": "execute_result"
    }
   ],
   "source": [
    "query = '''\n",
    "SELECT b.book_id,\n",
    "       b.title,\n",
    "       COUNT(DISTINCT rv.review_id) AS reviews, \n",
    "       ROUND(AVG(r.rating),3) AS avg_rating\n",
    "FROM books AS b\n",
    "LEFT JOIN reviews AS rv\n",
    "ON b.book_id = rv.book_id\n",
    "LEFT JOIN  ratings AS r\n",
    "ON b.book_id = r.book_id\n",
    "GROUP BY b.book_id\n",
    "ORDER BY reviews DESC\n",
    "'''\n",
    "get_sql_data(query)"
   ]
  },
  {
   "cell_type": "markdown",
   "id": "03d19a43",
   "metadata": {},
   "source": [
    "Определим издательство, которое выпустило наибольшее число книг толще 50 страниц — так мы исключим из анализа брошюры;\n"
   ]
  },
  {
   "cell_type": "code",
   "execution_count": 21,
   "id": "9de7c6ec",
   "metadata": {},
   "outputs": [
    {
     "data": {
      "text/html": [
       "<div>\n",
       "<style scoped>\n",
       "    .dataframe tbody tr th:only-of-type {\n",
       "        vertical-align: middle;\n",
       "    }\n",
       "\n",
       "    .dataframe tbody tr th {\n",
       "        vertical-align: top;\n",
       "    }\n",
       "\n",
       "    .dataframe thead th {\n",
       "        text-align: right;\n",
       "    }\n",
       "</style>\n",
       "<table border=\"1\" class=\"dataframe\">\n",
       "  <thead>\n",
       "    <tr style=\"text-align: right;\">\n",
       "      <th></th>\n",
       "      <th>publisher</th>\n",
       "      <th>books</th>\n",
       "    </tr>\n",
       "  </thead>\n",
       "  <tbody>\n",
       "    <tr>\n",
       "      <th>0</th>\n",
       "      <td>Penguin Books</td>\n",
       "      <td>42</td>\n",
       "    </tr>\n",
       "  </tbody>\n",
       "</table>\n",
       "</div>"
      ],
      "text/plain": [
       "       publisher  books\n",
       "0  Penguin Books     42"
      ]
     },
     "execution_count": 21,
     "metadata": {},
     "output_type": "execute_result"
    }
   ],
   "source": [
    "query = '''\n",
    "SELECT  p.publisher AS publisher, \n",
    "COUNT(b.book_id) AS books\n",
    "FROM publishers as p\n",
    "INNER JOIN books as b ON b.publisher_id = p.publisher_id \n",
    "WHERE \n",
    "num_pages > 50\n",
    "GROUP BY \n",
    "p.publisher \n",
    "ORDER BY \n",
    "books DESC \n",
    "\n",
    "LIMIT 1;\n",
    "'''\n",
    "get_sql_data(query)"
   ]
  },
  {
   "cell_type": "markdown",
   "id": "029b2578",
   "metadata": {},
   "source": [
    "Издательство, которое выпустило наибольшее число книг : Penguin Books"
   ]
  },
  {
   "cell_type": "markdown",
   "id": "2426c5a7",
   "metadata": {},
   "source": [
    "Определим автора с самой высокой средней оценкой книг — учтем только книги с 50 и более оценками;\n"
   ]
  },
  {
   "cell_type": "code",
   "execution_count": 22,
   "id": "0c870668",
   "metadata": {},
   "outputs": [
    {
     "data": {
      "text/html": [
       "<div>\n",
       "<style scoped>\n",
       "    .dataframe tbody tr th:only-of-type {\n",
       "        vertical-align: middle;\n",
       "    }\n",
       "\n",
       "    .dataframe tbody tr th {\n",
       "        vertical-align: top;\n",
       "    }\n",
       "\n",
       "    .dataframe thead th {\n",
       "        text-align: right;\n",
       "    }\n",
       "</style>\n",
       "<table border=\"1\" class=\"dataframe\">\n",
       "  <thead>\n",
       "    <tr style=\"text-align: right;\">\n",
       "      <th></th>\n",
       "      <th>id</th>\n",
       "      <th>author</th>\n",
       "      <th>avg_rating</th>\n",
       "      <th>count_rating</th>\n",
       "    </tr>\n",
       "  </thead>\n",
       "  <tbody>\n",
       "    <tr>\n",
       "      <th>0</th>\n",
       "      <td>236</td>\n",
       "      <td>J.K. Rowling/Mary GrandPré</td>\n",
       "      <td>4.288462</td>\n",
       "      <td>312</td>\n",
       "    </tr>\n",
       "  </tbody>\n",
       "</table>\n",
       "</div>"
      ],
      "text/plain": [
       "    id                      author  avg_rating  count_rating\n",
       "0  236  J.K. Rowling/Mary GrandPré    4.288462           312"
      ]
     },
     "execution_count": 22,
     "metadata": {},
     "output_type": "execute_result"
    }
   ],
   "source": [
    "query = '''\n",
    "Select a.author_id as id, a.author as author, avg(r.rating) as avg_rating, count(r.rating) as count_rating\n",
    "From authors as a\n",
    "join books as b on b.author_id = a.author_id\n",
    "join ratings as r on r.book_id = b.book_id\n",
    "group by id, author\n",
    "having count(r.rating) >= 50\n",
    "order by count_rating desc\n",
    "limit 1\n",
    "'''\n",
    "get_sql_data(query)"
   ]
  },
  {
   "cell_type": "markdown",
   "id": "348a6796",
   "metadata": {},
   "source": [
    "Автор с самой высокой средней оценкой книг - J.K. Rowling/Mary GrandPré\n",
    "\n",
    "Средний рейтинг по всем книгам автора, у которых 50 и более обзоров - 4.288462"
   ]
  },
  {
   "cell_type": "markdown",
   "id": "87e29691",
   "metadata": {},
   "source": [
    "Посчитаем среднее количество обзоров от пользователей, которые поставили больше 48 оценок."
   ]
  },
  {
   "cell_type": "code",
   "execution_count": 23,
   "id": "1a42b5c7",
   "metadata": {},
   "outputs": [
    {
     "data": {
      "text/html": [
       "<div>\n",
       "<style scoped>\n",
       "    .dataframe tbody tr th:only-of-type {\n",
       "        vertical-align: middle;\n",
       "    }\n",
       "\n",
       "    .dataframe tbody tr th {\n",
       "        vertical-align: top;\n",
       "    }\n",
       "\n",
       "    .dataframe thead th {\n",
       "        text-align: right;\n",
       "    }\n",
       "</style>\n",
       "<table border=\"1\" class=\"dataframe\">\n",
       "  <thead>\n",
       "    <tr style=\"text-align: right;\">\n",
       "      <th></th>\n",
       "      <th>avg_reviews</th>\n",
       "    </tr>\n",
       "  </thead>\n",
       "  <tbody>\n",
       "    <tr>\n",
       "      <th>0</th>\n",
       "      <td>24.0</td>\n",
       "    </tr>\n",
       "  </tbody>\n",
       "</table>\n",
       "</div>"
      ],
      "text/plain": [
       "   avg_reviews\n",
       "0         24.0"
      ]
     },
     "execution_count": 23,
     "metadata": {},
     "output_type": "execute_result"
    }
   ],
   "source": [
    "query = '''\n",
    "SELECT\n",
    "AVG(qw.reviews_amount) AS avg_reviews\n",
    "\n",
    "FROM (SELECT wq.username AS username,\n",
    "COUNT(r.review_id) AS reviews_amount \n",
    "      \n",
    "FROM (SELECT\n",
    "rt.username AS username\n",
    "FROM ratings as rt\n",
    "GROUP BY rt.username\n",
    "HAVING COUNT(rt.rating_id) > 48) AS wq \n",
    "INNER JOIN reviews as r ON r.username = wq.username\n",
    "\n",
    "GROUP BY\n",
    "wq.username\n",
    ") AS qw;\n",
    "\n",
    "'''\n",
    "\n",
    "get_sql_data(query)"
   ]
  },
  {
   "cell_type": "markdown",
   "id": "adf8df31",
   "metadata": {},
   "source": [
    "Среднее количество обзоров от пользователей, которые поставили больше 48 оценок: 24"
   ]
  },
  {
   "cell_type": "markdown",
   "id": "f3e340e4",
   "metadata": {},
   "source": [
    "# Вывод: \n",
    "В данном проекте были изучены данные сервиса для формирования концепции нового продукта. \n",
    "<br>\n",
    "В ходе исследования мы выяснили:\n",
    "<br>\n",
    "1) После 1 января 2000 года вышло 819 книг\n",
    "<br>\n",
    "2) Для каждой книги были посчитаны средний рейтинг и число обзоров\n",
    "<br>\n",
    "3) Издательство, которое выпустило наибольшее число книг : Penguin Books - 42 книги\n",
    "<br>\n",
    "4) Автор с самой высокой средней оценкой книг - J.K. Rowling/Mary GrandPré. Средний рейтинг по всем книгам автора, у которых 50 и более обзоров - 4.288462\n",
    "<br>\n",
    "5) Среднее количество обзоров от пользователей, которые поставили больше 48 оценок: 24\n",
    "\n",
    "На основании данного проекта можно формировать подборки для пользователей, формировать рейтинг издательств и книг, делать предположения о среднем рейтинге и количествах ревью по книгам и издательствам. Мы также отметили автора J.K. Rowling/Mary GrandPré и издательство Penguin Books, их можно однозначно добавлять в подборки для разных категорий пользователей."
   ]
  }
 ],
 "metadata": {
  "ExecuteTimeLog": [
   {
    "duration": 53,
    "start_time": "2024-01-31T10:42:11.215Z"
   },
   {
    "duration": 3035,
    "start_time": "2024-01-31T10:42:18.478Z"
   },
   {
    "duration": 557,
    "start_time": "2024-01-31T10:42:21.516Z"
   },
   {
    "duration": 7897,
    "start_time": "2024-01-31T10:42:22.075Z"
   },
   {
    "duration": 244,
    "start_time": "2024-01-31T10:42:29.973Z"
   },
   {
    "duration": 51,
    "start_time": "2024-01-31T10:42:30.219Z"
   },
   {
    "duration": 57,
    "start_time": "2024-01-31T10:42:30.271Z"
   },
   {
    "duration": 59,
    "start_time": "2024-01-31T10:42:30.330Z"
   },
   {
    "duration": 53,
    "start_time": "2024-01-31T10:42:30.391Z"
   },
   {
    "duration": 56,
    "start_time": "2024-01-31T10:42:30.446Z"
   },
   {
    "duration": 51,
    "start_time": "2024-01-31T10:42:30.505Z"
   },
   {
    "duration": 58,
    "start_time": "2024-01-31T10:42:30.558Z"
   },
   {
    "duration": 78,
    "start_time": "2024-01-31T10:42:30.618Z"
   },
   {
    "duration": 54,
    "start_time": "2024-01-31T10:42:30.698Z"
   },
   {
    "duration": 53,
    "start_time": "2024-01-31T10:42:30.755Z"
   },
   {
    "duration": 63,
    "start_time": "2024-01-31T10:42:30.810Z"
   },
   {
    "duration": 84,
    "start_time": "2024-01-31T10:42:30.874Z"
   },
   {
    "duration": 87,
    "start_time": "2024-01-31T10:42:30.959Z"
   },
   {
    "duration": 68,
    "start_time": "2024-01-31T10:42:31.047Z"
   },
   {
    "duration": 50,
    "start_time": "2024-01-31T10:42:31.117Z"
   },
   {
    "duration": 104,
    "start_time": "2024-01-31T10:42:31.169Z"
   },
   {
    "duration": 53,
    "start_time": "2024-01-31T10:42:31.275Z"
   },
   {
    "duration": 73,
    "start_time": "2024-01-31T10:42:31.330Z"
   },
   {
    "duration": 55,
    "start_time": "2024-01-31T10:42:31.405Z"
   },
   {
    "duration": 56,
    "start_time": "2024-01-31T11:16:15.106Z"
   },
   {
    "duration": 108,
    "start_time": "2024-01-31T11:18:35.500Z"
   },
   {
    "duration": 63,
    "start_time": "2024-01-31T11:18:41.104Z"
   },
   {
    "duration": 56,
    "start_time": "2024-01-31T11:18:48.419Z"
   },
   {
    "duration": 55,
    "start_time": "2024-01-31T11:19:05.072Z"
   },
   {
    "duration": 56,
    "start_time": "2024-01-31T11:28:05.218Z"
   },
   {
    "duration": 9,
    "start_time": "2024-01-31T11:29:27.730Z"
   },
   {
    "duration": 120,
    "start_time": "2024-01-31T11:29:48.195Z"
   },
   {
    "duration": 61,
    "start_time": "2024-01-31T11:33:12.238Z"
   },
   {
    "duration": 64,
    "start_time": "2024-01-31T11:37:56.701Z"
   },
   {
    "duration": 52,
    "start_time": "2024-01-31T11:38:43.911Z"
   },
   {
    "duration": 67,
    "start_time": "2024-01-31T11:39:17.491Z"
   },
   {
    "duration": 70,
    "start_time": "2024-01-31T11:39:39.771Z"
   },
   {
    "duration": 62,
    "start_time": "2024-01-31T11:39:52.712Z"
   },
   {
    "duration": 73,
    "start_time": "2024-01-31T11:40:31.649Z"
   },
   {
    "duration": 56,
    "start_time": "2024-01-31T11:41:15.150Z"
   },
   {
    "duration": 55,
    "start_time": "2024-01-31T11:41:31.365Z"
   },
   {
    "duration": 54,
    "start_time": "2024-01-31T11:42:38.404Z"
   },
   {
    "duration": 53,
    "start_time": "2024-01-31T11:42:39.961Z"
   },
   {
    "duration": 55,
    "start_time": "2024-01-31T11:42:40.674Z"
   },
   {
    "duration": 67,
    "start_time": "2024-01-31T11:51:20.531Z"
   },
   {
    "duration": 2530,
    "start_time": "2024-01-31T11:51:27.423Z"
   },
   {
    "duration": 4,
    "start_time": "2024-01-31T11:51:29.956Z"
   },
   {
    "duration": 10,
    "start_time": "2024-01-31T11:51:29.962Z"
   },
   {
    "duration": 237,
    "start_time": "2024-01-31T11:51:29.974Z"
   },
   {
    "duration": 49,
    "start_time": "2024-01-31T11:51:30.213Z"
   },
   {
    "duration": 91,
    "start_time": "2024-01-31T11:51:30.264Z"
   },
   {
    "duration": 137,
    "start_time": "2024-01-31T11:51:30.356Z"
   },
   {
    "duration": 50,
    "start_time": "2024-01-31T11:51:30.495Z"
   },
   {
    "duration": 103,
    "start_time": "2024-01-31T11:51:30.547Z"
   },
   {
    "duration": 50,
    "start_time": "2024-01-31T11:51:30.652Z"
   },
   {
    "duration": 55,
    "start_time": "2024-01-31T11:51:30.703Z"
   },
   {
    "duration": 52,
    "start_time": "2024-01-31T11:51:30.759Z"
   },
   {
    "duration": 83,
    "start_time": "2024-01-31T11:51:30.813Z"
   },
   {
    "duration": 49,
    "start_time": "2024-01-31T11:51:30.899Z"
   },
   {
    "duration": 52,
    "start_time": "2024-01-31T11:51:30.950Z"
   },
   {
    "duration": 51,
    "start_time": "2024-01-31T11:51:31.004Z"
   },
   {
    "duration": 50,
    "start_time": "2024-01-31T11:51:31.056Z"
   },
   {
    "duration": 52,
    "start_time": "2024-01-31T11:51:31.108Z"
   },
   {
    "duration": 51,
    "start_time": "2024-01-31T11:51:31.161Z"
   },
   {
    "duration": 93,
    "start_time": "2024-01-31T11:51:31.213Z"
   },
   {
    "duration": 52,
    "start_time": "2024-01-31T11:51:31.308Z"
   },
   {
    "duration": 181,
    "start_time": "2024-01-31T11:51:31.362Z"
   },
   {
    "duration": 54,
    "start_time": "2024-01-31T11:51:31.545Z"
   },
   {
    "duration": 53,
    "start_time": "2024-01-31T11:51:31.601Z"
   },
   {
    "duration": 53,
    "start_time": "2024-01-31T11:51:31.656Z"
   },
   {
    "duration": 2513,
    "start_time": "2024-01-31T11:51:41.959Z"
   },
   {
    "duration": 564,
    "start_time": "2024-01-31T11:51:44.475Z"
   },
   {
    "duration": 8412,
    "start_time": "2024-01-31T11:51:45.041Z"
   },
   {
    "duration": 235,
    "start_time": "2024-01-31T11:51:53.455Z"
   },
   {
    "duration": 49,
    "start_time": "2024-01-31T11:51:53.693Z"
   },
   {
    "duration": 51,
    "start_time": "2024-01-31T11:51:53.744Z"
   },
   {
    "duration": 53,
    "start_time": "2024-01-31T11:51:53.797Z"
   },
   {
    "duration": 53,
    "start_time": "2024-01-31T11:51:53.852Z"
   },
   {
    "duration": 55,
    "start_time": "2024-01-31T11:51:53.907Z"
   },
   {
    "duration": 54,
    "start_time": "2024-01-31T11:51:53.964Z"
   },
   {
    "duration": 52,
    "start_time": "2024-01-31T11:51:54.021Z"
   },
   {
    "duration": 54,
    "start_time": "2024-01-31T11:51:54.075Z"
   },
   {
    "duration": 56,
    "start_time": "2024-01-31T11:51:54.130Z"
   },
   {
    "duration": 51,
    "start_time": "2024-01-31T11:51:54.189Z"
   },
   {
    "duration": 52,
    "start_time": "2024-01-31T11:51:54.241Z"
   },
   {
    "duration": 52,
    "start_time": "2024-01-31T11:51:54.294Z"
   },
   {
    "duration": 52,
    "start_time": "2024-01-31T11:51:54.348Z"
   },
   {
    "duration": 54,
    "start_time": "2024-01-31T11:51:54.402Z"
   },
   {
    "duration": 53,
    "start_time": "2024-01-31T11:51:54.458Z"
   },
   {
    "duration": 89,
    "start_time": "2024-01-31T11:51:54.513Z"
   },
   {
    "duration": 54,
    "start_time": "2024-01-31T11:51:54.605Z"
   },
   {
    "duration": 54,
    "start_time": "2024-01-31T11:51:54.661Z"
   },
   {
    "duration": 52,
    "start_time": "2024-01-31T11:51:54.717Z"
   },
   {
    "duration": 55,
    "start_time": "2024-01-31T11:51:54.772Z"
   },
   {
    "duration": 53,
    "start_time": "2024-01-31T11:51:54.829Z"
   },
   {
    "duration": 2545,
    "start_time": "2024-01-31T11:52:35.343Z"
   },
   {
    "duration": 5,
    "start_time": "2024-01-31T11:52:37.891Z"
   },
   {
    "duration": 25,
    "start_time": "2024-01-31T11:52:37.898Z"
   },
   {
    "duration": 256,
    "start_time": "2024-01-31T11:52:37.926Z"
   },
   {
    "duration": 49,
    "start_time": "2024-01-31T11:52:38.184Z"
   },
   {
    "duration": 55,
    "start_time": "2024-01-31T11:52:38.234Z"
   },
   {
    "duration": 51,
    "start_time": "2024-01-31T11:52:38.290Z"
   },
   {
    "duration": 50,
    "start_time": "2024-01-31T11:52:38.343Z"
   },
   {
    "duration": 52,
    "start_time": "2024-01-31T11:52:38.394Z"
   },
   {
    "duration": 50,
    "start_time": "2024-01-31T11:52:38.449Z"
   },
   {
    "duration": 50,
    "start_time": "2024-01-31T11:52:38.500Z"
   },
   {
    "duration": 51,
    "start_time": "2024-01-31T11:52:38.552Z"
   },
   {
    "duration": 51,
    "start_time": "2024-01-31T11:52:38.605Z"
   },
   {
    "duration": 49,
    "start_time": "2024-01-31T11:52:38.657Z"
   },
   {
    "duration": 50,
    "start_time": "2024-01-31T11:52:38.708Z"
   },
   {
    "duration": 50,
    "start_time": "2024-01-31T11:52:38.759Z"
   },
   {
    "duration": 48,
    "start_time": "2024-01-31T11:52:38.811Z"
   },
   {
    "duration": 51,
    "start_time": "2024-01-31T11:52:38.861Z"
   },
   {
    "duration": 50,
    "start_time": "2024-01-31T11:52:38.913Z"
   },
   {
    "duration": 87,
    "start_time": "2024-01-31T11:52:38.964Z"
   },
   {
    "duration": 54,
    "start_time": "2024-01-31T11:52:39.053Z"
   },
   {
    "duration": 57,
    "start_time": "2024-01-31T11:52:39.109Z"
   },
   {
    "duration": 52,
    "start_time": "2024-01-31T11:52:39.168Z"
   },
   {
    "duration": 52,
    "start_time": "2024-01-31T11:52:39.221Z"
   },
   {
    "duration": 53,
    "start_time": "2024-01-31T11:52:39.274Z"
   },
   {
    "duration": 2580,
    "start_time": "2024-01-31T11:52:43.074Z"
   },
   {
    "duration": 563,
    "start_time": "2024-01-31T11:52:45.657Z"
   },
   {
    "duration": 2561,
    "start_time": "2024-01-31T11:52:56.544Z"
   },
   {
    "duration": 528,
    "start_time": "2024-01-31T11:52:59.108Z"
   },
   {
    "duration": 8518,
    "start_time": "2024-01-31T11:52:59.637Z"
   },
   {
    "duration": 230,
    "start_time": "2024-01-31T11:53:08.158Z"
   },
   {
    "duration": 50,
    "start_time": "2024-01-31T11:53:08.390Z"
   },
   {
    "duration": 52,
    "start_time": "2024-01-31T11:53:08.442Z"
   },
   {
    "duration": 52,
    "start_time": "2024-01-31T11:53:08.496Z"
   },
   {
    "duration": 51,
    "start_time": "2024-01-31T11:53:08.550Z"
   },
   {
    "duration": 54,
    "start_time": "2024-01-31T11:53:08.603Z"
   },
   {
    "duration": 49,
    "start_time": "2024-01-31T11:53:08.660Z"
   },
   {
    "duration": 50,
    "start_time": "2024-01-31T11:53:08.711Z"
   },
   {
    "duration": 52,
    "start_time": "2024-01-31T11:53:08.763Z"
   },
   {
    "duration": 51,
    "start_time": "2024-01-31T11:53:08.816Z"
   },
   {
    "duration": 51,
    "start_time": "2024-01-31T11:53:08.869Z"
   },
   {
    "duration": 52,
    "start_time": "2024-01-31T11:53:08.922Z"
   },
   {
    "duration": 51,
    "start_time": "2024-01-31T11:53:08.975Z"
   },
   {
    "duration": 51,
    "start_time": "2024-01-31T11:53:09.028Z"
   },
   {
    "duration": 52,
    "start_time": "2024-01-31T11:53:09.081Z"
   },
   {
    "duration": 50,
    "start_time": "2024-01-31T11:53:09.135Z"
   },
   {
    "duration": 89,
    "start_time": "2024-01-31T11:53:09.187Z"
   },
   {
    "duration": 52,
    "start_time": "2024-01-31T11:53:09.278Z"
   },
   {
    "duration": 55,
    "start_time": "2024-01-31T11:53:09.331Z"
   },
   {
    "duration": 53,
    "start_time": "2024-01-31T11:53:09.387Z"
   },
   {
    "duration": 52,
    "start_time": "2024-01-31T11:53:09.442Z"
   },
   {
    "duration": 52,
    "start_time": "2024-01-31T11:53:09.496Z"
   },
   {
    "duration": 75,
    "start_time": "2024-01-31T12:18:41.884Z"
   },
   {
    "duration": 132,
    "start_time": "2024-01-31T12:34:28.070Z"
   },
   {
    "duration": 59,
    "start_time": "2024-01-31T12:53:01.437Z"
   },
   {
    "duration": 80,
    "start_time": "2024-01-31T12:55:23.562Z"
   },
   {
    "duration": 58,
    "start_time": "2024-01-31T12:55:37.110Z"
   },
   {
    "duration": 60,
    "start_time": "2024-01-31T13:01:40.250Z"
   },
   {
    "duration": 2648,
    "start_time": "2024-01-31T13:02:38.869Z"
   },
   {
    "duration": 4,
    "start_time": "2024-01-31T13:02:41.519Z"
   },
   {
    "duration": 24,
    "start_time": "2024-01-31T13:02:41.525Z"
   },
   {
    "duration": 233,
    "start_time": "2024-01-31T13:02:41.551Z"
   },
   {
    "duration": 51,
    "start_time": "2024-01-31T13:02:41.786Z"
   },
   {
    "duration": 57,
    "start_time": "2024-01-31T13:02:41.839Z"
   },
   {
    "duration": 51,
    "start_time": "2024-01-31T13:02:41.898Z"
   },
   {
    "duration": 50,
    "start_time": "2024-01-31T13:02:41.951Z"
   },
   {
    "duration": 52,
    "start_time": "2024-01-31T13:02:42.002Z"
   },
   {
    "duration": 52,
    "start_time": "2024-01-31T13:02:42.056Z"
   },
   {
    "duration": 50,
    "start_time": "2024-01-31T13:02:42.109Z"
   },
   {
    "duration": 53,
    "start_time": "2024-01-31T13:02:42.160Z"
   },
   {
    "duration": 55,
    "start_time": "2024-01-31T13:02:42.215Z"
   },
   {
    "duration": 51,
    "start_time": "2024-01-31T13:02:42.273Z"
   },
   {
    "duration": 53,
    "start_time": "2024-01-31T13:02:42.326Z"
   },
   {
    "duration": 52,
    "start_time": "2024-01-31T13:02:42.381Z"
   },
   {
    "duration": 51,
    "start_time": "2024-01-31T13:02:42.435Z"
   },
   {
    "duration": 54,
    "start_time": "2024-01-31T13:02:42.488Z"
   },
   {
    "duration": 52,
    "start_time": "2024-01-31T13:02:42.545Z"
   },
   {
    "duration": 95,
    "start_time": "2024-01-31T13:02:42.599Z"
   },
   {
    "duration": 54,
    "start_time": "2024-01-31T13:02:42.695Z"
   },
   {
    "duration": 57,
    "start_time": "2024-01-31T13:02:42.751Z"
   },
   {
    "duration": 55,
    "start_time": "2024-01-31T13:02:42.809Z"
   },
   {
    "duration": 2747,
    "start_time": "2024-01-31T13:02:59.906Z"
   },
   {
    "duration": 573,
    "start_time": "2024-01-31T13:03:02.655Z"
   },
   {
    "duration": 10577,
    "start_time": "2024-01-31T13:03:03.230Z"
   },
   {
    "duration": 230,
    "start_time": "2024-01-31T13:03:13.808Z"
   },
   {
    "duration": 50,
    "start_time": "2024-01-31T13:03:14.040Z"
   },
   {
    "duration": 52,
    "start_time": "2024-01-31T13:03:14.092Z"
   },
   {
    "duration": 54,
    "start_time": "2024-01-31T13:03:14.146Z"
   },
   {
    "duration": 51,
    "start_time": "2024-01-31T13:03:14.201Z"
   },
   {
    "duration": 54,
    "start_time": "2024-01-31T13:03:14.254Z"
   },
   {
    "duration": 53,
    "start_time": "2024-01-31T13:03:14.309Z"
   },
   {
    "duration": 50,
    "start_time": "2024-01-31T13:03:14.364Z"
   },
   {
    "duration": 53,
    "start_time": "2024-01-31T13:03:14.417Z"
   },
   {
    "duration": 53,
    "start_time": "2024-01-31T13:03:14.471Z"
   },
   {
    "duration": 49,
    "start_time": "2024-01-31T13:03:14.527Z"
   },
   {
    "duration": 51,
    "start_time": "2024-01-31T13:03:14.577Z"
   },
   {
    "duration": 51,
    "start_time": "2024-01-31T13:03:14.630Z"
   },
   {
    "duration": 50,
    "start_time": "2024-01-31T13:03:14.683Z"
   },
   {
    "duration": 55,
    "start_time": "2024-01-31T13:03:14.735Z"
   },
   {
    "duration": 52,
    "start_time": "2024-01-31T13:03:14.792Z"
   },
   {
    "duration": 96,
    "start_time": "2024-01-31T13:03:14.846Z"
   },
   {
    "duration": 53,
    "start_time": "2024-01-31T13:03:14.944Z"
   },
   {
    "duration": 57,
    "start_time": "2024-01-31T13:03:14.999Z"
   },
   {
    "duration": 54,
    "start_time": "2024-01-31T13:03:15.058Z"
   },
   {
    "duration": 70,
    "start_time": "2024-01-31T13:04:29.026Z"
   },
   {
    "duration": 2624,
    "start_time": "2024-01-31T13:04:36.732Z"
   },
   {
    "duration": 576,
    "start_time": "2024-01-31T13:04:39.359Z"
   },
   {
    "duration": 11163,
    "start_time": "2024-01-31T13:04:39.940Z"
   },
   {
    "duration": 233,
    "start_time": "2024-01-31T13:04:51.106Z"
   },
   {
    "duration": 50,
    "start_time": "2024-01-31T13:04:51.341Z"
   },
   {
    "duration": 52,
    "start_time": "2024-01-31T13:04:51.393Z"
   },
   {
    "duration": 52,
    "start_time": "2024-01-31T13:04:51.447Z"
   },
   {
    "duration": 50,
    "start_time": "2024-01-31T13:04:51.500Z"
   },
   {
    "duration": 52,
    "start_time": "2024-01-31T13:04:51.553Z"
   },
   {
    "duration": 50,
    "start_time": "2024-01-31T13:04:51.607Z"
   },
   {
    "duration": 50,
    "start_time": "2024-01-31T13:04:51.658Z"
   },
   {
    "duration": 53,
    "start_time": "2024-01-31T13:04:51.709Z"
   },
   {
    "duration": 53,
    "start_time": "2024-01-31T13:04:51.763Z"
   },
   {
    "duration": 51,
    "start_time": "2024-01-31T13:04:51.818Z"
   },
   {
    "duration": 54,
    "start_time": "2024-01-31T13:04:51.872Z"
   },
   {
    "duration": 52,
    "start_time": "2024-01-31T13:04:51.928Z"
   },
   {
    "duration": 51,
    "start_time": "2024-01-31T13:04:51.982Z"
   },
   {
    "duration": 53,
    "start_time": "2024-01-31T13:04:52.034Z"
   },
   {
    "duration": 51,
    "start_time": "2024-01-31T13:04:52.089Z"
   },
   {
    "duration": 97,
    "start_time": "2024-01-31T13:04:52.142Z"
   },
   {
    "duration": 57,
    "start_time": "2024-01-31T13:04:52.241Z"
   },
   {
    "duration": 59,
    "start_time": "2024-01-31T13:04:52.301Z"
   },
   {
    "duration": 55,
    "start_time": "2024-01-31T13:04:52.362Z"
   }
  ],
  "kernelspec": {
   "display_name": "Python 3 (ipykernel)",
   "language": "python",
   "name": "python3"
  },
  "language_info": {
   "codemirror_mode": {
    "name": "ipython",
    "version": 3
   },
   "file_extension": ".py",
   "mimetype": "text/x-python",
   "name": "python",
   "nbconvert_exporter": "python",
   "pygments_lexer": "ipython3",
   "version": "3.11.4"
  },
  "toc": {
   "base_numbering": 1,
   "nav_menu": {},
   "number_sections": true,
   "sideBar": true,
   "skip_h1_title": true,
   "title_cell": "Table of Contents",
   "title_sidebar": "Contents",
   "toc_cell": false,
   "toc_position": {},
   "toc_section_display": true,
   "toc_window_display": false
  }
 },
 "nbformat": 4,
 "nbformat_minor": 5
}
