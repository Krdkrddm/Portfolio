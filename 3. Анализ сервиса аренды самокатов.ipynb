{
 "cells": [
  {
   "cell_type": "markdown",
   "id": "bd1c4a8a",
   "metadata": {},
   "source": [
    "# Анализ сервиса аренды самокатов"
   ]
  },
  {
   "cell_type": "markdown",
   "id": "15d501ad",
   "metadata": {},
   "source": [
    "Цель исследования:\n",
    "\n",
    "1. Определить частоту, встречаемости городов, соотношение пользователей с подпиской и без подписки, возраст пользователей, расстояние и продолжительность поездок.\n",
    "\n",
    "2. Понять, тратят ли пользователи с подпиской больше времени на поездки? \n",
    "\n",
    "3. Проверить гипотезу о том, будет ли помесячная выручка от пользователей с подпиской по месяцам выше, чем выручка от пользователей без подписки. \n",
    "\n",
    "4. Решить задачу: Представьте такую ситуацию: техническая команда сервиса обновила сервера, с которыми взаимодействует мобильное приложение. Она надеется, что из-за этого количество обращений в техподдержку значимо снизилось. Некоторый файл содержит для каждого пользователя данные о количестве обращений до обновления и после него. Какой тест вам понадобился бы для проверки этой гипотезы?\n",
    "\n",
    "Ход исследования:\n",
    "\n",
    "1.Импортировать библиотеки;\n",
    "\n",
    "2.Импортировать датасеты, изучить информацию о них;\n",
    "\n",
    "3.Преобработать данные;\n",
    "\n",
    "4.Добавить столбцы в датасет исходя из анализа информации в нем;\n",
    "\n",
    "5.Опиcать и визуализировать общую информацию о пользователях и поездках;\n",
    "\n",
    "6.Объеденить данные о пользователях, поездках и подписках в один датафрейм;\n",
    "\n",
    "7.Создать дополнительные датафреймы по пользователям разных категорий;\n",
    "\n",
    "8.Визуализировать информацию о расстоянии и времени поездок для пользователей обеих категорий;\n",
    "\n",
    "9.Создать датафрейм с агрегированными данными о поездках на основе датафрейма с объединёнными ранее данными;\n",
    "\n",
    "10.Найти суммарное расстояние, количество поездок и суммарное время для каждого пользователя за каждый месяц;\n",
    "\n",
    "11.Понять, тратят ли пользователи с подпиской больше времени на поездки на основании T-теста;\n",
    "\n",
    "12.Проверить гипотезу о том, будет ли помесячная выручка от пользователей с подпиской по месяцам выше, чем выручка от пользователей без подписки;\n",
    "\n",
    "13.Решить задачу;\n",
    "\n",
    "14.Написать общий вывод."
   ]
  },
  {
   "cell_type": "markdown",
   "id": "b09e9d8b",
   "metadata": {},
   "source": [
    "Импортируем необходимые библиотеки."
   ]
  },
  {
   "cell_type": "code",
   "execution_count": 1,
   "id": "6062c5a9",
   "metadata": {},
   "outputs": [],
   "source": [
    "import pandas as pd\n",
    "import matplotlib.pyplot as plt\n",
    "import seaborn as sns\n",
    "from scipy import stats as st\n",
    "import numpy as np\n",
    "from math import factorial"
   ]
  },
  {
   "cell_type": "markdown",
   "id": "c42cbe00",
   "metadata": {},
   "source": [
    "#### Шаг 1. Загрузка данных"
   ]
  },
  {
   "cell_type": "markdown",
   "id": "f3b19621",
   "metadata": {},
   "source": [
    "Импортируем датасеты."
   ]
  },
  {
   "cell_type": "code",
   "execution_count": 2,
   "id": "eff9f206",
   "metadata": {},
   "outputs": [],
   "source": [
    "users = pd.read_csv('/datasets/users_go.csv')"
   ]
  },
  {
   "cell_type": "code",
   "execution_count": 3,
   "id": "dde72883",
   "metadata": {},
   "outputs": [],
   "source": [
    "rides = pd.read_csv('/datasets/rides_go.csv')"
   ]
  },
  {
   "cell_type": "code",
   "execution_count": 4,
   "id": "17052671",
   "metadata": {},
   "outputs": [],
   "source": [
    "subs = pd.read_csv('/datasets/subscriptions_go.csv')"
   ]
  },
  {
   "cell_type": "code",
   "execution_count": 5,
   "id": "227efd19",
   "metadata": {
    "scrolled": false
   },
   "outputs": [
    {
     "data": {
      "text/html": [
       "<div>\n",
       "<style scoped>\n",
       "    .dataframe tbody tr th:only-of-type {\n",
       "        vertical-align: middle;\n",
       "    }\n",
       "\n",
       "    .dataframe tbody tr th {\n",
       "        vertical-align: top;\n",
       "    }\n",
       "\n",
       "    .dataframe thead th {\n",
       "        text-align: right;\n",
       "    }\n",
       "</style>\n",
       "<table border=\"1\" class=\"dataframe\">\n",
       "  <thead>\n",
       "    <tr style=\"text-align: right;\">\n",
       "      <th></th>\n",
       "      <th>user_id</th>\n",
       "      <th>name</th>\n",
       "      <th>age</th>\n",
       "      <th>city</th>\n",
       "      <th>subscription_type</th>\n",
       "    </tr>\n",
       "  </thead>\n",
       "  <tbody>\n",
       "    <tr>\n",
       "      <th>0</th>\n",
       "      <td>1</td>\n",
       "      <td>Кира</td>\n",
       "      <td>22</td>\n",
       "      <td>Тюмень</td>\n",
       "      <td>ultra</td>\n",
       "    </tr>\n",
       "    <tr>\n",
       "      <th>1</th>\n",
       "      <td>2</td>\n",
       "      <td>Станислав</td>\n",
       "      <td>31</td>\n",
       "      <td>Омск</td>\n",
       "      <td>ultra</td>\n",
       "    </tr>\n",
       "    <tr>\n",
       "      <th>2</th>\n",
       "      <td>3</td>\n",
       "      <td>Алексей</td>\n",
       "      <td>20</td>\n",
       "      <td>Москва</td>\n",
       "      <td>ultra</td>\n",
       "    </tr>\n",
       "    <tr>\n",
       "      <th>3</th>\n",
       "      <td>4</td>\n",
       "      <td>Константин</td>\n",
       "      <td>26</td>\n",
       "      <td>Ростов-на-Дону</td>\n",
       "      <td>ultra</td>\n",
       "    </tr>\n",
       "    <tr>\n",
       "      <th>4</th>\n",
       "      <td>5</td>\n",
       "      <td>Адель</td>\n",
       "      <td>28</td>\n",
       "      <td>Омск</td>\n",
       "      <td>ultra</td>\n",
       "    </tr>\n",
       "    <tr>\n",
       "      <th>5</th>\n",
       "      <td>6</td>\n",
       "      <td>Регина</td>\n",
       "      <td>25</td>\n",
       "      <td>Краснодар</td>\n",
       "      <td>ultra</td>\n",
       "    </tr>\n",
       "    <tr>\n",
       "      <th>6</th>\n",
       "      <td>7</td>\n",
       "      <td>Игорь</td>\n",
       "      <td>23</td>\n",
       "      <td>Омск</td>\n",
       "      <td>ultra</td>\n",
       "    </tr>\n",
       "    <tr>\n",
       "      <th>7</th>\n",
       "      <td>8</td>\n",
       "      <td>Юрий</td>\n",
       "      <td>23</td>\n",
       "      <td>Краснодар</td>\n",
       "      <td>ultra</td>\n",
       "    </tr>\n",
       "    <tr>\n",
       "      <th>8</th>\n",
       "      <td>9</td>\n",
       "      <td>Ян</td>\n",
       "      <td>21</td>\n",
       "      <td>Пятигорск</td>\n",
       "      <td>ultra</td>\n",
       "    </tr>\n",
       "    <tr>\n",
       "      <th>9</th>\n",
       "      <td>10</td>\n",
       "      <td>Валерий</td>\n",
       "      <td>18</td>\n",
       "      <td>Екатеринбург</td>\n",
       "      <td>ultra</td>\n",
       "    </tr>\n",
       "  </tbody>\n",
       "</table>\n",
       "</div>"
      ],
      "text/plain": [
       "   user_id        name  age            city subscription_type\n",
       "0        1        Кира   22          Тюмень             ultra\n",
       "1        2   Станислав   31            Омск             ultra\n",
       "2        3     Алексей   20          Москва             ultra\n",
       "3        4  Константин   26  Ростов-на-Дону             ultra\n",
       "4        5       Адель   28            Омск             ultra\n",
       "5        6      Регина   25       Краснодар             ultra\n",
       "6        7       Игорь   23            Омск             ultra\n",
       "7        8        Юрий   23       Краснодар             ultra\n",
       "8        9          Ян   21       Пятигорск             ultra\n",
       "9       10     Валерий   18    Екатеринбург             ultra"
      ]
     },
     "metadata": {},
     "output_type": "display_data"
    },
    {
     "data": {
      "text/html": [
       "<div>\n",
       "<style scoped>\n",
       "    .dataframe tbody tr th:only-of-type {\n",
       "        vertical-align: middle;\n",
       "    }\n",
       "\n",
       "    .dataframe tbody tr th {\n",
       "        vertical-align: top;\n",
       "    }\n",
       "\n",
       "    .dataframe thead th {\n",
       "        text-align: right;\n",
       "    }\n",
       "</style>\n",
       "<table border=\"1\" class=\"dataframe\">\n",
       "  <thead>\n",
       "    <tr style=\"text-align: right;\">\n",
       "      <th></th>\n",
       "      <th>user_id</th>\n",
       "      <th>distance</th>\n",
       "      <th>duration</th>\n",
       "      <th>date</th>\n",
       "    </tr>\n",
       "  </thead>\n",
       "  <tbody>\n",
       "    <tr>\n",
       "      <th>0</th>\n",
       "      <td>1</td>\n",
       "      <td>4409.919140</td>\n",
       "      <td>25.599769</td>\n",
       "      <td>2021-01-01</td>\n",
       "    </tr>\n",
       "    <tr>\n",
       "      <th>1</th>\n",
       "      <td>1</td>\n",
       "      <td>2617.592153</td>\n",
       "      <td>15.816871</td>\n",
       "      <td>2021-01-18</td>\n",
       "    </tr>\n",
       "    <tr>\n",
       "      <th>2</th>\n",
       "      <td>1</td>\n",
       "      <td>754.159807</td>\n",
       "      <td>6.232113</td>\n",
       "      <td>2021-04-20</td>\n",
       "    </tr>\n",
       "    <tr>\n",
       "      <th>3</th>\n",
       "      <td>1</td>\n",
       "      <td>2694.783254</td>\n",
       "      <td>18.511000</td>\n",
       "      <td>2021-08-11</td>\n",
       "    </tr>\n",
       "    <tr>\n",
       "      <th>4</th>\n",
       "      <td>1</td>\n",
       "      <td>4028.687306</td>\n",
       "      <td>26.265803</td>\n",
       "      <td>2021-08-28</td>\n",
       "    </tr>\n",
       "    <tr>\n",
       "      <th>5</th>\n",
       "      <td>1</td>\n",
       "      <td>2770.890808</td>\n",
       "      <td>16.650138</td>\n",
       "      <td>2021-10-09</td>\n",
       "    </tr>\n",
       "    <tr>\n",
       "      <th>6</th>\n",
       "      <td>1</td>\n",
       "      <td>3039.020292</td>\n",
       "      <td>14.927879</td>\n",
       "      <td>2021-10-19</td>\n",
       "    </tr>\n",
       "    <tr>\n",
       "      <th>7</th>\n",
       "      <td>1</td>\n",
       "      <td>2842.118050</td>\n",
       "      <td>23.117468</td>\n",
       "      <td>2021-11-06</td>\n",
       "    </tr>\n",
       "    <tr>\n",
       "      <th>8</th>\n",
       "      <td>1</td>\n",
       "      <td>3412.690668</td>\n",
       "      <td>15.238072</td>\n",
       "      <td>2021-11-14</td>\n",
       "    </tr>\n",
       "    <tr>\n",
       "      <th>9</th>\n",
       "      <td>1</td>\n",
       "      <td>748.690645</td>\n",
       "      <td>15.041884</td>\n",
       "      <td>2021-11-22</td>\n",
       "    </tr>\n",
       "  </tbody>\n",
       "</table>\n",
       "</div>"
      ],
      "text/plain": [
       "   user_id     distance   duration        date\n",
       "0        1  4409.919140  25.599769  2021-01-01\n",
       "1        1  2617.592153  15.816871  2021-01-18\n",
       "2        1   754.159807   6.232113  2021-04-20\n",
       "3        1  2694.783254  18.511000  2021-08-11\n",
       "4        1  4028.687306  26.265803  2021-08-28\n",
       "5        1  2770.890808  16.650138  2021-10-09\n",
       "6        1  3039.020292  14.927879  2021-10-19\n",
       "7        1  2842.118050  23.117468  2021-11-06\n",
       "8        1  3412.690668  15.238072  2021-11-14\n",
       "9        1   748.690645  15.041884  2021-11-22"
      ]
     },
     "metadata": {},
     "output_type": "display_data"
    },
    {
     "data": {
      "text/html": [
       "<div>\n",
       "<style scoped>\n",
       "    .dataframe tbody tr th:only-of-type {\n",
       "        vertical-align: middle;\n",
       "    }\n",
       "\n",
       "    .dataframe tbody tr th {\n",
       "        vertical-align: top;\n",
       "    }\n",
       "\n",
       "    .dataframe thead th {\n",
       "        text-align: right;\n",
       "    }\n",
       "</style>\n",
       "<table border=\"1\" class=\"dataframe\">\n",
       "  <thead>\n",
       "    <tr style=\"text-align: right;\">\n",
       "      <th></th>\n",
       "      <th>subscription_type</th>\n",
       "      <th>minute_price</th>\n",
       "      <th>start_ride_price</th>\n",
       "      <th>subscription_fee</th>\n",
       "    </tr>\n",
       "  </thead>\n",
       "  <tbody>\n",
       "    <tr>\n",
       "      <th>0</th>\n",
       "      <td>free</td>\n",
       "      <td>8</td>\n",
       "      <td>50</td>\n",
       "      <td>0</td>\n",
       "    </tr>\n",
       "    <tr>\n",
       "      <th>1</th>\n",
       "      <td>ultra</td>\n",
       "      <td>6</td>\n",
       "      <td>0</td>\n",
       "      <td>199</td>\n",
       "    </tr>\n",
       "  </tbody>\n",
       "</table>\n",
       "</div>"
      ],
      "text/plain": [
       "  subscription_type  minute_price  start_ride_price  subscription_fee\n",
       "0              free             8                50                 0\n",
       "1             ultra             6                 0               199"
      ]
     },
     "metadata": {},
     "output_type": "display_data"
    }
   ],
   "source": [
    "display(users.head(10))\n",
    "display(rides.head(10))\n",
    "display(subs.head(10))"
   ]
  },
  {
   "cell_type": "code",
   "execution_count": 6,
   "id": "707522b2",
   "metadata": {
    "scrolled": true
   },
   "outputs": [
    {
     "name": "stdout",
     "output_type": "stream",
     "text": [
      "<class 'pandas.core.frame.DataFrame'>\n",
      "RangeIndex: 1565 entries, 0 to 1564\n",
      "Data columns (total 5 columns):\n",
      " #   Column             Non-Null Count  Dtype \n",
      "---  ------             --------------  ----- \n",
      " 0   user_id            1565 non-null   int64 \n",
      " 1   name               1565 non-null   object\n",
      " 2   age                1565 non-null   int64 \n",
      " 3   city               1565 non-null   object\n",
      " 4   subscription_type  1565 non-null   object\n",
      "dtypes: int64(2), object(3)\n",
      "memory usage: 61.3+ KB\n"
     ]
    },
    {
     "data": {
      "text/plain": [
       "None"
      ]
     },
     "metadata": {},
     "output_type": "display_data"
    },
    {
     "name": "stdout",
     "output_type": "stream",
     "text": [
      "<class 'pandas.core.frame.DataFrame'>\n",
      "RangeIndex: 18068 entries, 0 to 18067\n",
      "Data columns (total 4 columns):\n",
      " #   Column    Non-Null Count  Dtype  \n",
      "---  ------    --------------  -----  \n",
      " 0   user_id   18068 non-null  int64  \n",
      " 1   distance  18068 non-null  float64\n",
      " 2   duration  18068 non-null  float64\n",
      " 3   date      18068 non-null  object \n",
      "dtypes: float64(2), int64(1), object(1)\n",
      "memory usage: 564.8+ KB\n"
     ]
    },
    {
     "data": {
      "text/plain": [
       "None"
      ]
     },
     "metadata": {},
     "output_type": "display_data"
    },
    {
     "name": "stdout",
     "output_type": "stream",
     "text": [
      "<class 'pandas.core.frame.DataFrame'>\n",
      "RangeIndex: 2 entries, 0 to 1\n",
      "Data columns (total 4 columns):\n",
      " #   Column             Non-Null Count  Dtype \n",
      "---  ------             --------------  ----- \n",
      " 0   subscription_type  2 non-null      object\n",
      " 1   minute_price       2 non-null      int64 \n",
      " 2   start_ride_price   2 non-null      int64 \n",
      " 3   subscription_fee   2 non-null      int64 \n",
      "dtypes: int64(3), object(1)\n",
      "memory usage: 192.0+ bytes\n"
     ]
    },
    {
     "data": {
      "text/plain": [
       "None"
      ]
     },
     "metadata": {},
     "output_type": "display_data"
    }
   ],
   "source": [
    "display(users.info())\n",
    "display(rides.info())\n",
    "display(subs.info())"
   ]
  },
  {
   "cell_type": "markdown",
   "id": "ffd70c61",
   "metadata": {},
   "source": [
    "Необходимо столбец date таблицы rides перевести в формат datetime, создать столбец month"
   ]
  },
  {
   "cell_type": "markdown",
   "id": "e95ebca7",
   "metadata": {},
   "source": [
    "#### Шаг 2. Предобработка данных"
   ]
  },
  {
   "cell_type": "markdown",
   "id": "ae46f102",
   "metadata": {},
   "source": [
    " Приведим столбец date к типу даты pandas."
   ]
  },
  {
   "cell_type": "code",
   "execution_count": 7,
   "id": "2b380048",
   "metadata": {},
   "outputs": [],
   "source": [
    "rides['date'] = pd.to_datetime(rides['date'], format='%Y-%m-%d')"
   ]
  },
  {
   "cell_type": "markdown",
   "id": "ded5ca15",
   "metadata": {},
   "source": [
    "Создаем новый столбец с номером месяца на основе столбца date."
   ]
  },
  {
   "cell_type": "code",
   "execution_count": 8,
   "id": "a14acc2a",
   "metadata": {},
   "outputs": [],
   "source": [
    "rides['month'] = rides['date'].dt.month"
   ]
  },
  {
   "cell_type": "code",
   "execution_count": 9,
   "id": "39b55e07",
   "metadata": {},
   "outputs": [
    {
     "data": {
      "text/plain": [
       "array([2021])"
      ]
     },
     "execution_count": 9,
     "metadata": {},
     "output_type": "execute_result"
    }
   ],
   "source": [
    "rides['date'].dt.year.unique()"
   ]
  },
  {
   "cell_type": "markdown",
   "id": "a8765d78",
   "metadata": {},
   "source": [
    "Данные за 2021 год"
   ]
  },
  {
   "cell_type": "markdown",
   "id": "c5cb5d5a",
   "metadata": {},
   "source": [
    "Проверяем наличие пропущенных значений и дубликатов в датафреймах. Обработаем их, если такие значения присутствуют."
   ]
  },
  {
   "cell_type": "code",
   "execution_count": 10,
   "id": "429c04e1",
   "metadata": {},
   "outputs": [
    {
     "data": {
      "text/html": [
       "<div>\n",
       "<style scoped>\n",
       "    .dataframe tbody tr th:only-of-type {\n",
       "        vertical-align: middle;\n",
       "    }\n",
       "\n",
       "    .dataframe tbody tr th {\n",
       "        vertical-align: top;\n",
       "    }\n",
       "\n",
       "    .dataframe thead th {\n",
       "        text-align: right;\n",
       "    }\n",
       "</style>\n",
       "<table border=\"1\" class=\"dataframe\">\n",
       "  <thead>\n",
       "    <tr style=\"text-align: right;\">\n",
       "      <th></th>\n",
       "      <th>user_id</th>\n",
       "      <th>distance</th>\n",
       "      <th>duration</th>\n",
       "      <th>date</th>\n",
       "      <th>month</th>\n",
       "    </tr>\n",
       "  </thead>\n",
       "  <tbody>\n",
       "    <tr>\n",
       "      <th>0</th>\n",
       "      <td>1</td>\n",
       "      <td>4409.919140</td>\n",
       "      <td>25.599769</td>\n",
       "      <td>2021-01-01</td>\n",
       "      <td>1</td>\n",
       "    </tr>\n",
       "    <tr>\n",
       "      <th>1</th>\n",
       "      <td>1</td>\n",
       "      <td>2617.592153</td>\n",
       "      <td>15.816871</td>\n",
       "      <td>2021-01-18</td>\n",
       "      <td>1</td>\n",
       "    </tr>\n",
       "    <tr>\n",
       "      <th>2</th>\n",
       "      <td>1</td>\n",
       "      <td>754.159807</td>\n",
       "      <td>6.232113</td>\n",
       "      <td>2021-04-20</td>\n",
       "      <td>4</td>\n",
       "    </tr>\n",
       "    <tr>\n",
       "      <th>3</th>\n",
       "      <td>1</td>\n",
       "      <td>2694.783254</td>\n",
       "      <td>18.511000</td>\n",
       "      <td>2021-08-11</td>\n",
       "      <td>8</td>\n",
       "    </tr>\n",
       "    <tr>\n",
       "      <th>4</th>\n",
       "      <td>1</td>\n",
       "      <td>4028.687306</td>\n",
       "      <td>26.265803</td>\n",
       "      <td>2021-08-28</td>\n",
       "      <td>8</td>\n",
       "    </tr>\n",
       "    <tr>\n",
       "      <th>5</th>\n",
       "      <td>1</td>\n",
       "      <td>2770.890808</td>\n",
       "      <td>16.650138</td>\n",
       "      <td>2021-10-09</td>\n",
       "      <td>10</td>\n",
       "    </tr>\n",
       "    <tr>\n",
       "      <th>6</th>\n",
       "      <td>1</td>\n",
       "      <td>3039.020292</td>\n",
       "      <td>14.927879</td>\n",
       "      <td>2021-10-19</td>\n",
       "      <td>10</td>\n",
       "    </tr>\n",
       "    <tr>\n",
       "      <th>7</th>\n",
       "      <td>1</td>\n",
       "      <td>2842.118050</td>\n",
       "      <td>23.117468</td>\n",
       "      <td>2021-11-06</td>\n",
       "      <td>11</td>\n",
       "    </tr>\n",
       "    <tr>\n",
       "      <th>8</th>\n",
       "      <td>1</td>\n",
       "      <td>3412.690668</td>\n",
       "      <td>15.238072</td>\n",
       "      <td>2021-11-14</td>\n",
       "      <td>11</td>\n",
       "    </tr>\n",
       "    <tr>\n",
       "      <th>9</th>\n",
       "      <td>1</td>\n",
       "      <td>748.690645</td>\n",
       "      <td>15.041884</td>\n",
       "      <td>2021-11-22</td>\n",
       "      <td>11</td>\n",
       "    </tr>\n",
       "  </tbody>\n",
       "</table>\n",
       "</div>"
      ],
      "text/plain": [
       "   user_id     distance   duration       date  month\n",
       "0        1  4409.919140  25.599769 2021-01-01      1\n",
       "1        1  2617.592153  15.816871 2021-01-18      1\n",
       "2        1   754.159807   6.232113 2021-04-20      4\n",
       "3        1  2694.783254  18.511000 2021-08-11      8\n",
       "4        1  4028.687306  26.265803 2021-08-28      8\n",
       "5        1  2770.890808  16.650138 2021-10-09     10\n",
       "6        1  3039.020292  14.927879 2021-10-19     10\n",
       "7        1  2842.118050  23.117468 2021-11-06     11\n",
       "8        1  3412.690668  15.238072 2021-11-14     11\n",
       "9        1   748.690645  15.041884 2021-11-22     11"
      ]
     },
     "metadata": {},
     "output_type": "display_data"
    }
   ],
   "source": [
    "display(rides.head(10))"
   ]
  },
  {
   "cell_type": "code",
   "execution_count": 11,
   "id": "bff92194",
   "metadata": {},
   "outputs": [
    {
     "data": {
      "text/plain": [
       "31"
      ]
     },
     "execution_count": 11,
     "metadata": {},
     "output_type": "execute_result"
    }
   ],
   "source": [
    "users.duplicated().sum()"
   ]
  },
  {
   "cell_type": "code",
   "execution_count": 12,
   "id": "626b1e79",
   "metadata": {},
   "outputs": [],
   "source": [
    "users.drop_duplicates(inplace=True)"
   ]
  },
  {
   "cell_type": "code",
   "execution_count": 13,
   "id": "02492008",
   "metadata": {},
   "outputs": [
    {
     "data": {
      "text/plain": [
       "0"
      ]
     },
     "execution_count": 13,
     "metadata": {},
     "output_type": "execute_result"
    }
   ],
   "source": [
    "users.duplicated().sum()"
   ]
  },
  {
   "cell_type": "code",
   "execution_count": 14,
   "id": "a2fc401a",
   "metadata": {},
   "outputs": [
    {
     "data": {
      "text/plain": [
       "0"
      ]
     },
     "execution_count": 14,
     "metadata": {},
     "output_type": "execute_result"
    }
   ],
   "source": [
    "rides.duplicated().sum()"
   ]
  },
  {
   "cell_type": "code",
   "execution_count": 15,
   "id": "3fcd9d6e",
   "metadata": {},
   "outputs": [
    {
     "data": {
      "text/plain": [
       "0"
      ]
     },
     "execution_count": 15,
     "metadata": {},
     "output_type": "execute_result"
    }
   ],
   "source": [
    "subs.duplicated().sum()"
   ]
  },
  {
   "cell_type": "code",
   "execution_count": 16,
   "id": "9ae5a67c",
   "metadata": {},
   "outputs": [
    {
     "data": {
      "text/plain": [
       "user_id              0\n",
       "name                 0\n",
       "age                  0\n",
       "city                 0\n",
       "subscription_type    0\n",
       "dtype: int64"
      ]
     },
     "execution_count": 16,
     "metadata": {},
     "output_type": "execute_result"
    }
   ],
   "source": [
    "users.isna().sum().sort_values(ascending=False)"
   ]
  },
  {
   "cell_type": "code",
   "execution_count": 17,
   "id": "14bc1f7b",
   "metadata": {},
   "outputs": [
    {
     "data": {
      "text/plain": [
       "user_id     0\n",
       "distance    0\n",
       "duration    0\n",
       "date        0\n",
       "month       0\n",
       "dtype: int64"
      ]
     },
     "execution_count": 17,
     "metadata": {},
     "output_type": "execute_result"
    }
   ],
   "source": [
    "rides.isna().sum().sort_values(ascending=False)"
   ]
  },
  {
   "cell_type": "code",
   "execution_count": 18,
   "id": "b012b1e7",
   "metadata": {},
   "outputs": [
    {
     "data": {
      "text/plain": [
       "subscription_type    0\n",
       "minute_price         0\n",
       "start_ride_price     0\n",
       "subscription_fee     0\n",
       "dtype: int64"
      ]
     },
     "execution_count": 18,
     "metadata": {},
     "output_type": "execute_result"
    }
   ],
   "source": [
    "subs.isna().sum().sort_values(ascending=False)"
   ]
  },
  {
   "cell_type": "markdown",
   "id": "a614d6d5",
   "metadata": {},
   "source": [
    "# Вывод:"
   ]
  },
  {
   "cell_type": "markdown",
   "id": "b5cc6afa",
   "metadata": {},
   "source": [
    "Пропущенных данных в таблицах нет.\n",
    "\n",
    "Дубликаты имеются среди пользователей, удалил строки дубликаты.\n",
    "\n",
    "Добавил столбец month с номер месяца."
   ]
  },
  {
   "cell_type": "markdown",
   "id": "212593c7",
   "metadata": {},
   "source": [
    "#### Шаг 3. Исследовательский анализ данных"
   ]
  },
  {
   "cell_type": "markdown",
   "id": "4e4bbdb9",
   "metadata": {},
   "source": [
    "Опишем и визуализируем общую информацию о пользователях и поездках:\n",
    "1 частота встречаемости городов;\n",
    "2 соотношение пользователей с подпиской и без подписки;\n",
    "3 возраст пользователей;\n",
    "4 расстояние, которое пользователь преодолел за одну поездку;\n",
    "5 продолжительность поездок."
   ]
  },
  {
   "cell_type": "code",
   "execution_count": 19,
   "id": "e3a4274c",
   "metadata": {},
   "outputs": [
    {
     "name": "stdout",
     "output_type": "stream",
     "text": [
      "Пятигорск         219\n",
      "Екатеринбург      204\n",
      "Ростов-на-Дону    198\n",
      "Краснодар         193\n",
      "Сочи              189\n",
      "Омск              183\n",
      "Тюмень            180\n",
      "Москва            168\n",
      "Name: city, dtype: int64\n"
     ]
    }
   ],
   "source": [
    "users_by_city = users['city'].value_counts()\n",
    "print(users_by_city)"
   ]
  },
  {
   "cell_type": "code",
   "execution_count": 20,
   "id": "96f579b0",
   "metadata": {},
   "outputs": [
    {
     "data": {
      "image/png": "[encoded data removed]",
      "text/plain": [
       "<Figure size 360x360 with 1 Axes>"
      ]
     },
     "metadata": {},
     "output_type": "display_data"
    }
   ],
   "source": [
    "users['city'].value_counts().plot(\n",
    "    kind = 'pie', \n",
    "    y = users_by_city,\n",
    "    autopct = '%1.0f%%',\n",
    "    figsize=(5,5), \n",
    "    title = 'Частота встречаемости городов');"
   ]
  },
  {
   "cell_type": "code",
   "execution_count": 21,
   "id": "3a4015b3",
   "metadata": {},
   "outputs": [
    {
     "data": {
      "image/png": "[encoded data removed]",
      "text/plain": [
       "<Figure size 864x288 with 1 Axes>"
      ]
     },
     "metadata": {
      "needs_background": "light"
     },
     "output_type": "display_data"
    }
   ],
   "source": [
    "plt.hist(users['city'], bins = 15)\n",
    "plt.gcf().set_size_inches(12, 4)\n",
    "plt.title('Количество пользователей по городам')\n",
    "plt.xlabel('Город', size = 12)\n",
    "plt.ylabel('Частота встречаемости города', size = 8)\n",
    "plt.grid()\n",
    "plt.show()"
   ]
  },
  {
   "cell_type": "markdown",
   "id": "67b74b87",
   "metadata": {},
   "source": [
    "Можем заметить, что города Пятгорск и Екатеринбург являются самыми часто встречающимися, а Москва и Тюмень самыми редкими."
   ]
  },
  {
   "cell_type": "code",
   "execution_count": 22,
   "id": "23e80151",
   "metadata": {},
   "outputs": [
    {
     "data": {
      "image/png": "[encoded data removed]",
      "text/plain": [
       "<Figure size 360x360 with 1 Axes>"
      ]
     },
     "metadata": {},
     "output_type": "display_data"
    }
   ],
   "source": [
    "users['subscription_type'].value_counts().plot(\n",
    "    kind = 'pie', \n",
    "    autopct = '%1.0f%%', \n",
    "    figsize=(5,5),\n",
    "    title = 'Соотношение пользователей с подпиской и без подписки');"
   ]
  },
  {
   "cell_type": "code",
   "execution_count": 23,
   "id": "addfcc6e",
   "metadata": {},
   "outputs": [
    {
     "data": {
      "text/plain": [
       "free     835\n",
       "ultra    699\n",
       "Name: subscription_type, dtype: int64"
      ]
     },
     "execution_count": 23,
     "metadata": {},
     "output_type": "execute_result"
    }
   ],
   "source": [
    "users['subscription_type'].value_counts()"
   ]
  },
  {
   "cell_type": "code",
   "execution_count": 24,
   "id": "b2327697",
   "metadata": {},
   "outputs": [
    {
     "data": {
      "image/png": "[encoded data removed]",
      "text/plain": [
       "<Figure size 432x288 with 1 Axes>"
      ]
     },
     "metadata": {
      "needs_background": "light"
     },
     "output_type": "display_data"
    }
   ],
   "source": [
    "plt.hist(users['age'], bins = 30)\n",
    "plt.title('Возраст пользователей')\n",
    "plt.xlabel('Возраст')\n",
    "plt.ylabel('Количество пользователей')\n",
    "plt.grid()\n",
    "plt.show()"
   ]
  },
  {
   "cell_type": "code",
   "execution_count": 25,
   "id": "92df5816",
   "metadata": {},
   "outputs": [
    {
     "data": {
      "text/plain": [
       "24.903520208604956"
      ]
     },
     "execution_count": 25,
     "metadata": {},
     "output_type": "execute_result"
    }
   ],
   "source": [
    "users['age'].mean()"
   ]
  },
  {
   "cell_type": "markdown",
   "id": "a9c047b6",
   "metadata": {},
   "source": [
    "Можем заметить, что средний возраст пользователей 25 лет"
   ]
  },
  {
   "cell_type": "code",
   "execution_count": 26,
   "id": "0e1f7fcc",
   "metadata": {},
   "outputs": [
    {
     "data": {
      "text/plain": [
       "43      1\n",
       "39      1\n",
       "37      2\n",
       "38      3\n",
       "12      4\n",
       "36      6\n",
       "13      8\n",
       "14      9\n",
       "15     13\n",
       "35     15\n",
       "16     19\n",
       "34     19\n",
       "17     26\n",
       "33     39\n",
       "32     41\n",
       "18     46\n",
       "19     47\n",
       "31     48\n",
       "29     68\n",
       "30     68\n",
       "20     71\n",
       "21     93\n",
       "28    112\n",
       "22    119\n",
       "27    119\n",
       "23    129\n",
       "26    131\n",
       "24    132\n",
       "25    145\n",
       "Name: age, dtype: int64"
      ]
     },
     "execution_count": 26,
     "metadata": {},
     "output_type": "execute_result"
    }
   ],
   "source": [
    "users['age'].value_counts().sort_values(ascending = True)"
   ]
  },
  {
   "cell_type": "markdown",
   "id": "d5124011",
   "metadata": {},
   "source": [
    "Самыми младшими являются пользователи 12, 13 лет.\n",
    "\n",
    "Самыми старшими - 43, 39.\n",
    "\n",
    "Основной возрастной диапазон от 20 до 30 лет.\n"
   ]
  },
  {
   "cell_type": "code",
   "execution_count": 27,
   "id": "8740b162",
   "metadata": {},
   "outputs": [
    {
     "data": {
      "image/png": "[encoded data removed]",
      "text/plain": [
       "<Figure size 432x288 with 1 Axes>"
      ]
     },
     "metadata": {
      "needs_background": "light"
     },
     "output_type": "display_data"
    }
   ],
   "source": [
    "plt.hist(rides['distance'], bins = 30)\n",
    "plt.title('Расстояние, которое пользователь преодолел за одну поездку')\n",
    "plt.xlabel('Расстояние')\n",
    "plt.ylabel('Количество пользователей')\n",
    "plt.grid()\n",
    "plt.show()"
   ]
  },
  {
   "cell_type": "code",
   "execution_count": 28,
   "id": "4769c1d5",
   "metadata": {},
   "outputs": [
    {
     "data": {
      "text/plain": [
       "0.855682925681208"
      ]
     },
     "execution_count": 28,
     "metadata": {},
     "output_type": "execute_result"
    }
   ],
   "source": [
    "rides['distance'].min()"
   ]
  },
  {
   "cell_type": "code",
   "execution_count": 29,
   "id": "e0d59091",
   "metadata": {},
   "outputs": [
    {
     "data": {
      "text/plain": [
       "7211.007744598519"
      ]
     },
     "execution_count": 29,
     "metadata": {},
     "output_type": "execute_result"
    }
   ],
   "source": [
    "rides['distance'].max()"
   ]
  },
  {
   "cell_type": "markdown",
   "id": "59dab20c",
   "metadata": {},
   "source": [
    "Самая короткая дистанция - 0.86 км, а самая длинная - 7.2 км"
   ]
  },
  {
   "cell_type": "code",
   "execution_count": 30,
   "id": "57d1fa62",
   "metadata": {},
   "outputs": [
    {
     "data": {
      "image/png": "[encoded data removed]",
      "text/plain": [
       "<Figure size 720x576 with 1 Axes>"
      ]
     },
     "metadata": {
      "needs_background": "light"
     },
     "output_type": "display_data"
    }
   ],
   "source": [
    "q1 = rides['distance'].quantile(.25)\n",
    "q3 = rides['distance'].quantile(.75) \n",
    "iqr = q3 - q1 # межквартильный размах IQR\n",
    "rides['distance'].hist(bins=30, range=((q1 - 1.5 * iqr), (q3 + 1.5 * iqr)), figsize=(10, 8), ec='black', legend=True)\n",
    "plt.title('Расстояние, которое проезжают пользователи')\n",
    "plt.xlabel('Расстояние')\n",
    "plt.ylabel('Частота')\n",
    "plt.show()"
   ]
  },
  {
   "cell_type": "code",
   "execution_count": 31,
   "id": "b3e8c47b",
   "metadata": {},
   "outputs": [
    {
     "data": {
      "image/png": "[encoded data removed]",
      "text/plain": [
       "<Figure size 432x288 with 1 Axes>"
      ]
     },
     "metadata": {
      "needs_background": "light"
     },
     "output_type": "display_data"
    }
   ],
   "source": [
    "sns.boxplot(x=rides['distance'], color='blue')\n",
    "plt.title('Расстояние, преодоленное за одну поездку')\n",
    "plt.xlabel('Расстояние, м')\n",
    "_ = plt.xlim(0, 8000)"
   ]
  },
  {
   "cell_type": "markdown",
   "id": "01004e9f",
   "metadata": {},
   "source": [
    "Основной диапазон дистанций от 2.5 км до 4 км."
   ]
  },
  {
   "cell_type": "code",
   "execution_count": 32,
   "id": "41da0647",
   "metadata": {},
   "outputs": [
    {
     "data": {
      "image/png": "[encoded data removed]",
      "text/plain": [
       "<Figure size 432x288 with 1 Axes>"
      ]
     },
     "metadata": {
      "needs_background": "light"
     },
     "output_type": "display_data"
    }
   ],
   "source": [
    "plt.hist(rides['duration'], bins = 30)\n",
    "plt.title('Продолжительность поездок')\n",
    "plt.xlabel('Время в минутах')\n",
    "plt.ylabel('Количество пользователей')\n",
    "plt.grid()\n",
    "plt.show()"
   ]
  },
  {
   "cell_type": "code",
   "execution_count": 33,
   "id": "74038c22",
   "metadata": {},
   "outputs": [
    {
     "data": {
      "text/plain": [
       "Text(0.5, 0, 'Время в минутах')"
      ]
     },
     "execution_count": 33,
     "metadata": {},
     "output_type": "execute_result"
    },
    {
     "data": {
      "image/png": "[encoded data removed]",
      "text/plain": [
       "<Figure size 432x288 with 1 Axes>"
      ]
     },
     "metadata": {
      "needs_background": "light"
     },
     "output_type": "display_data"
    }
   ],
   "source": [
    "sns.boxplot(x=rides['duration'], color='blue')\n",
    "plt.title('Продолжительность поездки')\n",
    "plt.xlabel('Время в минутах')\n"
   ]
  },
  {
   "cell_type": "code",
   "execution_count": 34,
   "id": "29016bcc",
   "metadata": {},
   "outputs": [
    {
     "data": {
      "image/png": "[encoded data removed]",
      "text/plain": [
       "<Figure size 720x576 with 1 Axes>"
      ]
     },
     "metadata": {
      "needs_background": "light"
     },
     "output_type": "display_data"
    }
   ],
   "source": [
    "q1 = rides['duration'].quantile(.25)\n",
    "q3 = rides['duration'].quantile(.75) \n",
    "iqr = q3 - q1 # межквартильный размах IQR\n",
    "rides['duration'].hist(bins=30, range=((q1 - 1.5 * iqr), (q3 + 1.5 * iqr)), figsize=(10, 8), ec='black', legend=True)\n",
    "plt.title('Длительность поездки пользователей')\n",
    "plt.xlabel('Длительность')\n",
    "plt.ylabel('Частота')\n",
    "plt.show()"
   ]
  },
  {
   "cell_type": "markdown",
   "id": "485d5197",
   "metadata": {},
   "source": [
    "\n",
    "Основной диапазон длительности поездки 13 - 22 минут."
   ]
  },
  {
   "cell_type": "code",
   "execution_count": 35,
   "id": "c5a0d62b",
   "metadata": {},
   "outputs": [
    {
     "data": {
      "text/plain": [
       "0.5"
      ]
     },
     "execution_count": 35,
     "metadata": {},
     "output_type": "execute_result"
    }
   ],
   "source": [
    "rides['duration'].min()"
   ]
  },
  {
   "cell_type": "code",
   "execution_count": 36,
   "id": "42c2c443",
   "metadata": {},
   "outputs": [
    {
     "data": {
      "text/plain": [
       "40.82396261922424"
      ]
     },
     "execution_count": 36,
     "metadata": {},
     "output_type": "execute_result"
    }
   ],
   "source": [
    "rides['duration'].max()"
   ]
  },
  {
   "cell_type": "markdown",
   "id": "85558235",
   "metadata": {},
   "source": [
    "\n",
    "Самые короткие поездки длятся пол минуты.\n",
    "\n",
    "Самая длинная поездка заняла 40 минут.\n"
   ]
  },
  {
   "cell_type": "markdown",
   "id": "15740b91",
   "metadata": {},
   "source": [
    "# Вывод:"
   ]
  },
  {
   "cell_type": "markdown",
   "id": "93273284",
   "metadata": {},
   "source": [
    "Количество пользователей по городам распределено примерно одинаково, нет выдающихся значений. Лидерами по количеству пользователей является Пятигорск и Екатеринбург. Меньше всего пользователей в Тюмени и Москве.\n",
    "\n",
    "Пользователей, использующих подписку free 835 человек, что является 54% от общего числа пользователей. \n",
    "\n",
    "На подписке ultra сидит 699 пользователей, что соответственно является 46%.\n",
    "\n",
    "Самыми младшими являются пользователи 12, 13 лет.\n",
    "\n",
    "Самыми старшими - 43, 39.\n",
    "\n",
    "Основной возрастной диапазон от 20 до 30 лет.\n",
    "\n",
    "Самая короткая дистанция - 0.86 км\n",
    "\n",
    "Самая длинная - 7.2 км\n",
    "\n",
    "Основной диапазон дистанций от 2.5 км до 4 км.\n",
    "\n",
    "Самые короткие поездки длятся пол минуты. Выглядит как выброс.\n",
    "\n",
    "Самая длинная поездка заняла 40 минут.\n",
    "\n",
    "Основной диапазон длительности поездки 13 - 22 минут."
   ]
  },
  {
   "cell_type": "markdown",
   "id": "4ef51331",
   "metadata": {},
   "source": [
    "#### Шаг 4. Объединение данных"
   ]
  },
  {
   "cell_type": "markdown",
   "id": "e9e81211",
   "metadata": {},
   "source": [
    "Объединим данные о пользователях, поездках и подписках в один датафрейм. Для этого будет использован метод merge().\n",
    "Создадим ещё два датафрейма из датафрейма, созданного раннее\n",
    "c данными о пользователях без подписки\n",
    "с данными о пользователях с подпиской.\n",
    "Визуализируем информацию о расстоянии и времени поездок для пользователей обеих категорий."
   ]
  },
  {
   "cell_type": "code",
   "execution_count": 37,
   "id": "cc8427bf",
   "metadata": {},
   "outputs": [
    {
     "data": {
      "text/plain": [
       "(18068, 5)"
      ]
     },
     "execution_count": 37,
     "metadata": {},
     "output_type": "execute_result"
    }
   ],
   "source": [
    "rides.shape"
   ]
  },
  {
   "cell_type": "code",
   "execution_count": 38,
   "id": "b10a01d5",
   "metadata": {},
   "outputs": [
    {
     "data": {
      "text/plain": [
       "(2, 4)"
      ]
     },
     "execution_count": 38,
     "metadata": {},
     "output_type": "execute_result"
    }
   ],
   "source": [
    "subs.shape"
   ]
  },
  {
   "cell_type": "code",
   "execution_count": 39,
   "id": "f240e8e3",
   "metadata": {},
   "outputs": [
    {
     "data": {
      "text/plain": [
       "(1534, 5)"
      ]
     },
     "execution_count": 39,
     "metadata": {},
     "output_type": "execute_result"
    }
   ],
   "source": [
    "users.shape"
   ]
  },
  {
   "cell_type": "markdown",
   "id": "a7393db3",
   "metadata": {},
   "source": [
    "Размер датасетов составляет: \n",
    "    \n",
    "rides = 18068 строк и 9 столбцов\n",
    "\n",
    "subs = 2 строк и 4 столбцов\n",
    "\n",
    "users = 1534 строк и 5 столбцов"
   ]
  },
  {
   "cell_type": "code",
   "execution_count": 40,
   "id": "6bf288b5",
   "metadata": {},
   "outputs": [],
   "source": [
    "df = users.merge(rides)"
   ]
  },
  {
   "cell_type": "code",
   "execution_count": 41,
   "id": "c5d9a071",
   "metadata": {},
   "outputs": [],
   "source": [
    "data = df.merge(subs)"
   ]
  },
  {
   "cell_type": "code",
   "execution_count": 42,
   "id": "32843102",
   "metadata": {},
   "outputs": [
    {
     "data": {
      "text/html": [
       "<div>\n",
       "<style scoped>\n",
       "    .dataframe tbody tr th:only-of-type {\n",
       "        vertical-align: middle;\n",
       "    }\n",
       "\n",
       "    .dataframe tbody tr th {\n",
       "        vertical-align: top;\n",
       "    }\n",
       "\n",
       "    .dataframe thead th {\n",
       "        text-align: right;\n",
       "    }\n",
       "</style>\n",
       "<table border=\"1\" class=\"dataframe\">\n",
       "  <thead>\n",
       "    <tr style=\"text-align: right;\">\n",
       "      <th></th>\n",
       "      <th>user_id</th>\n",
       "      <th>name</th>\n",
       "      <th>age</th>\n",
       "      <th>city</th>\n",
       "      <th>subscription_type</th>\n",
       "      <th>distance</th>\n",
       "      <th>duration</th>\n",
       "      <th>date</th>\n",
       "      <th>month</th>\n",
       "      <th>minute_price</th>\n",
       "      <th>start_ride_price</th>\n",
       "      <th>subscription_fee</th>\n",
       "    </tr>\n",
       "  </thead>\n",
       "  <tbody>\n",
       "    <tr>\n",
       "      <th>0</th>\n",
       "      <td>1</td>\n",
       "      <td>Кира</td>\n",
       "      <td>22</td>\n",
       "      <td>Тюмень</td>\n",
       "      <td>ultra</td>\n",
       "      <td>4409.919140</td>\n",
       "      <td>25.599769</td>\n",
       "      <td>2021-01-01</td>\n",
       "      <td>1</td>\n",
       "      <td>6</td>\n",
       "      <td>0</td>\n",
       "      <td>199</td>\n",
       "    </tr>\n",
       "    <tr>\n",
       "      <th>1</th>\n",
       "      <td>1</td>\n",
       "      <td>Кира</td>\n",
       "      <td>22</td>\n",
       "      <td>Тюмень</td>\n",
       "      <td>ultra</td>\n",
       "      <td>2617.592153</td>\n",
       "      <td>15.816871</td>\n",
       "      <td>2021-01-18</td>\n",
       "      <td>1</td>\n",
       "      <td>6</td>\n",
       "      <td>0</td>\n",
       "      <td>199</td>\n",
       "    </tr>\n",
       "    <tr>\n",
       "      <th>2</th>\n",
       "      <td>1</td>\n",
       "      <td>Кира</td>\n",
       "      <td>22</td>\n",
       "      <td>Тюмень</td>\n",
       "      <td>ultra</td>\n",
       "      <td>754.159807</td>\n",
       "      <td>6.232113</td>\n",
       "      <td>2021-04-20</td>\n",
       "      <td>4</td>\n",
       "      <td>6</td>\n",
       "      <td>0</td>\n",
       "      <td>199</td>\n",
       "    </tr>\n",
       "    <tr>\n",
       "      <th>3</th>\n",
       "      <td>1</td>\n",
       "      <td>Кира</td>\n",
       "      <td>22</td>\n",
       "      <td>Тюмень</td>\n",
       "      <td>ultra</td>\n",
       "      <td>2694.783254</td>\n",
       "      <td>18.511000</td>\n",
       "      <td>2021-08-11</td>\n",
       "      <td>8</td>\n",
       "      <td>6</td>\n",
       "      <td>0</td>\n",
       "      <td>199</td>\n",
       "    </tr>\n",
       "    <tr>\n",
       "      <th>4</th>\n",
       "      <td>1</td>\n",
       "      <td>Кира</td>\n",
       "      <td>22</td>\n",
       "      <td>Тюмень</td>\n",
       "      <td>ultra</td>\n",
       "      <td>4028.687306</td>\n",
       "      <td>26.265803</td>\n",
       "      <td>2021-08-28</td>\n",
       "      <td>8</td>\n",
       "      <td>6</td>\n",
       "      <td>0</td>\n",
       "      <td>199</td>\n",
       "    </tr>\n",
       "    <tr>\n",
       "      <th>5</th>\n",
       "      <td>1</td>\n",
       "      <td>Кира</td>\n",
       "      <td>22</td>\n",
       "      <td>Тюмень</td>\n",
       "      <td>ultra</td>\n",
       "      <td>2770.890808</td>\n",
       "      <td>16.650138</td>\n",
       "      <td>2021-10-09</td>\n",
       "      <td>10</td>\n",
       "      <td>6</td>\n",
       "      <td>0</td>\n",
       "      <td>199</td>\n",
       "    </tr>\n",
       "    <tr>\n",
       "      <th>6</th>\n",
       "      <td>1</td>\n",
       "      <td>Кира</td>\n",
       "      <td>22</td>\n",
       "      <td>Тюмень</td>\n",
       "      <td>ultra</td>\n",
       "      <td>3039.020292</td>\n",
       "      <td>14.927879</td>\n",
       "      <td>2021-10-19</td>\n",
       "      <td>10</td>\n",
       "      <td>6</td>\n",
       "      <td>0</td>\n",
       "      <td>199</td>\n",
       "    </tr>\n",
       "    <tr>\n",
       "      <th>7</th>\n",
       "      <td>1</td>\n",
       "      <td>Кира</td>\n",
       "      <td>22</td>\n",
       "      <td>Тюмень</td>\n",
       "      <td>ultra</td>\n",
       "      <td>2842.118050</td>\n",
       "      <td>23.117468</td>\n",
       "      <td>2021-11-06</td>\n",
       "      <td>11</td>\n",
       "      <td>6</td>\n",
       "      <td>0</td>\n",
       "      <td>199</td>\n",
       "    </tr>\n",
       "    <tr>\n",
       "      <th>8</th>\n",
       "      <td>1</td>\n",
       "      <td>Кира</td>\n",
       "      <td>22</td>\n",
       "      <td>Тюмень</td>\n",
       "      <td>ultra</td>\n",
       "      <td>3412.690668</td>\n",
       "      <td>15.238072</td>\n",
       "      <td>2021-11-14</td>\n",
       "      <td>11</td>\n",
       "      <td>6</td>\n",
       "      <td>0</td>\n",
       "      <td>199</td>\n",
       "    </tr>\n",
       "    <tr>\n",
       "      <th>9</th>\n",
       "      <td>1</td>\n",
       "      <td>Кира</td>\n",
       "      <td>22</td>\n",
       "      <td>Тюмень</td>\n",
       "      <td>ultra</td>\n",
       "      <td>748.690645</td>\n",
       "      <td>15.041884</td>\n",
       "      <td>2021-11-22</td>\n",
       "      <td>11</td>\n",
       "      <td>6</td>\n",
       "      <td>0</td>\n",
       "      <td>199</td>\n",
       "    </tr>\n",
       "  </tbody>\n",
       "</table>\n",
       "</div>"
      ],
      "text/plain": [
       "   user_id  name  age    city subscription_type     distance   duration  \\\n",
       "0        1  Кира   22  Тюмень             ultra  4409.919140  25.599769   \n",
       "1        1  Кира   22  Тюмень             ultra  2617.592153  15.816871   \n",
       "2        1  Кира   22  Тюмень             ultra   754.159807   6.232113   \n",
       "3        1  Кира   22  Тюмень             ultra  2694.783254  18.511000   \n",
       "4        1  Кира   22  Тюмень             ultra  4028.687306  26.265803   \n",
       "5        1  Кира   22  Тюмень             ultra  2770.890808  16.650138   \n",
       "6        1  Кира   22  Тюмень             ultra  3039.020292  14.927879   \n",
       "7        1  Кира   22  Тюмень             ultra  2842.118050  23.117468   \n",
       "8        1  Кира   22  Тюмень             ultra  3412.690668  15.238072   \n",
       "9        1  Кира   22  Тюмень             ultra   748.690645  15.041884   \n",
       "\n",
       "        date  month  minute_price  start_ride_price  subscription_fee  \n",
       "0 2021-01-01      1             6                 0               199  \n",
       "1 2021-01-18      1             6                 0               199  \n",
       "2 2021-04-20      4             6                 0               199  \n",
       "3 2021-08-11      8             6                 0               199  \n",
       "4 2021-08-28      8             6                 0               199  \n",
       "5 2021-10-09     10             6                 0               199  \n",
       "6 2021-10-19     10             6                 0               199  \n",
       "7 2021-11-06     11             6                 0               199  \n",
       "8 2021-11-14     11             6                 0               199  \n",
       "9 2021-11-22     11             6                 0               199  "
      ]
     },
     "execution_count": 42,
     "metadata": {},
     "output_type": "execute_result"
    }
   ],
   "source": [
    "data.head(10)"
   ]
  },
  {
   "cell_type": "code",
   "execution_count": 43,
   "id": "6d4bdd57",
   "metadata": {},
   "outputs": [
    {
     "data": {
      "text/plain": [
       "user_id              0\n",
       "name                 0\n",
       "age                  0\n",
       "city                 0\n",
       "subscription_type    0\n",
       "distance             0\n",
       "duration             0\n",
       "date                 0\n",
       "month                0\n",
       "minute_price         0\n",
       "start_ride_price     0\n",
       "subscription_fee     0\n",
       "dtype: int64"
      ]
     },
     "execution_count": 43,
     "metadata": {},
     "output_type": "execute_result"
    }
   ],
   "source": [
    "data.isna().sum().sort_values(ascending=False)"
   ]
  },
  {
   "cell_type": "code",
   "execution_count": 44,
   "id": "70849874",
   "metadata": {},
   "outputs": [],
   "source": [
    "data['duration'] = np.ceil(data['duration'])"
   ]
  },
  {
   "cell_type": "code",
   "execution_count": 45,
   "id": "9cc5f25a",
   "metadata": {},
   "outputs": [
    {
     "data": {
      "text/plain": [
       "(18068, 12)"
      ]
     },
     "execution_count": 45,
     "metadata": {},
     "output_type": "execute_result"
    }
   ],
   "source": [
    "data.shape"
   ]
  },
  {
   "cell_type": "markdown",
   "id": "3704d650",
   "metadata": {},
   "source": [
    "Размер объедененного датафрейма data:\n",
    "rides = 18068 строк и 12 столбцов"
   ]
  },
  {
   "cell_type": "code",
   "execution_count": 46,
   "id": "4ef2e5d1",
   "metadata": {},
   "outputs": [],
   "source": [
    "subscribed = data[df['subscription_type'] == 'ultra']"
   ]
  },
  {
   "cell_type": "code",
   "execution_count": 47,
   "id": "b2115797",
   "metadata": {},
   "outputs": [],
   "source": [
    "notsubscribed = data[df['subscription_type'] == 'free']"
   ]
  },
  {
   "cell_type": "code",
   "execution_count": 48,
   "id": "f9ed5e7f",
   "metadata": {},
   "outputs": [
    {
     "data": {
      "text/plain": [
       "Text(0.5, 0, 'Время в минутах')"
      ]
     },
     "execution_count": 48,
     "metadata": {},
     "output_type": "execute_result"
    },
    {
     "data": {
      "image/png": "[encoded data removed]",
      "text/plain": [
       "<Figure size 432x288 with 1 Axes>"
      ]
     },
     "metadata": {
      "needs_background": "light"
     },
     "output_type": "display_data"
    }
   ],
   "source": [
    "sns.boxplot(x=data['duration'], color='red')\n",
    "plt.title('Продолжительность поездки (тариф ultra)')\n",
    "plt.xlabel('Время в минутах')"
   ]
  },
  {
   "cell_type": "code",
   "execution_count": 49,
   "id": "2ba6bcc3",
   "metadata": {},
   "outputs": [
    {
     "data": {
      "image/png": "[encoded data removed]",
      "text/plain": [
       "<Figure size 432x288 with 1 Axes>"
      ]
     },
     "metadata": {
      "needs_background": "light"
     },
     "output_type": "display_data"
    }
   ],
   "source": [
    "plt.hist(data['duration'], bins = 30)\n",
    "plt.title('Продолжительность поездок')\n",
    "plt.xlabel('Время в минутах')\n",
    "plt.ylabel('Количество пользователей')\n",
    "plt.grid()\n",
    "plt.show()"
   ]
  },
  {
   "cell_type": "code",
   "execution_count": 50,
   "id": "07f86285",
   "metadata": {},
   "outputs": [
    {
     "data": {
      "text/plain": [
       "Text(0.5, 0, 'Время в минутах')"
      ]
     },
     "execution_count": 50,
     "metadata": {},
     "output_type": "execute_result"
    },
    {
     "data": {
      "image/png": "[encoded data removed]",
      "text/plain": [
       "<Figure size 432x288 with 1 Axes>"
      ]
     },
     "metadata": {
      "needs_background": "light"
     },
     "output_type": "display_data"
    }
   ],
   "source": [
    "sns.boxplot(x=data['distance'], color='red')\n",
    "plt.title('Дистанция поездки')\n",
    "plt.xlabel('Время в минутах')"
   ]
  },
  {
   "cell_type": "code",
   "execution_count": 51,
   "id": "898d1dc2",
   "metadata": {},
   "outputs": [
    {
     "data": {
      "image/png": "[encoded data removed]",
      "text/plain": [
       "<Figure size 432x288 with 1 Axes>"
      ]
     },
     "metadata": {
      "needs_background": "light"
     },
     "output_type": "display_data"
    }
   ],
   "source": [
    "plt.hist(data['distance'], bins = 30)\n",
    "plt.title('Дистанция поездок')\n",
    "plt.xlabel('Дистанция')\n",
    "plt.ylabel('Количество пользователей')\n",
    "plt.grid()\n",
    "plt.show()"
   ]
  },
  {
   "cell_type": "code",
   "execution_count": 52,
   "id": "3b3dd5ee",
   "metadata": {},
   "outputs": [
    {
     "data": {
      "text/plain": [
       "Text(0.5, 0, 'Время в минутах')"
      ]
     },
     "execution_count": 52,
     "metadata": {},
     "output_type": "execute_result"
    },
    {
     "data": {
      "image/png": "[encoded data removed]",
      "text/plain": [
       "<Figure size 432x288 with 1 Axes>"
      ]
     },
     "metadata": {
      "needs_background": "light"
     },
     "output_type": "display_data"
    }
   ],
   "source": [
    "sns.boxplot(x=subscribed['duration'], color='blue')\n",
    "plt.title('Продолжительность поездки (тариф ultra)')\n",
    "plt.xlabel('Время в минутах')\n"
   ]
  },
  {
   "cell_type": "code",
   "execution_count": 53,
   "id": "57b20151",
   "metadata": {},
   "outputs": [
    {
     "data": {
      "image/png": "[encoded data removed]",
      "text/plain": [
       "<Figure size 432x288 with 1 Axes>"
      ]
     },
     "metadata": {
      "needs_background": "light"
     },
     "output_type": "display_data"
    }
   ],
   "source": [
    "plt.hist(subscribed['duration'], bins = 30)\n",
    "plt.title('Продолжительность поездок(Тариф ultra)')\n",
    "plt.xlabel('Время в минутах')\n",
    "plt.ylabel('Количество пользователей')\n",
    "plt.grid()\n",
    "plt.show()"
   ]
  },
  {
   "cell_type": "code",
   "execution_count": 54,
   "id": "b6108c65",
   "metadata": {},
   "outputs": [
    {
     "data": {
      "text/plain": [
       "Text(0.5, 0, 'расстояние в метрах')"
      ]
     },
     "execution_count": 54,
     "metadata": {},
     "output_type": "execute_result"
    },
    {
     "data": {
      "image/png": "[encoded data removed]",
      "text/plain": [
       "<Figure size 432x288 with 1 Axes>"
      ]
     },
     "metadata": {
      "needs_background": "light"
     },
     "output_type": "display_data"
    }
   ],
   "source": [
    "sns.boxplot(x=subscribed['distance'], color='blue')\n",
    "plt.title('Дистанция поездки (тариф ultra)')\n",
    "plt.xlabel('расстояние в метрах')"
   ]
  },
  {
   "cell_type": "code",
   "execution_count": 55,
   "id": "12722ffb",
   "metadata": {},
   "outputs": [
    {
     "data": {
      "image/png": "[encoded data removed]",
      "text/plain": [
       "<Figure size 432x288 with 1 Axes>"
      ]
     },
     "metadata": {
      "needs_background": "light"
     },
     "output_type": "display_data"
    }
   ],
   "source": [
    "plt.hist(subscribed['distance'], bins = 30)\n",
    "plt.title('Продолжительность поездок(Тариф ultra)')\n",
    "plt.xlabel('Время в минутах')\n",
    "plt.ylabel('Количество пользователей')\n",
    "plt.grid()\n",
    "plt.show()"
   ]
  },
  {
   "cell_type": "code",
   "execution_count": 56,
   "id": "08263559",
   "metadata": {},
   "outputs": [
    {
     "data": {
      "text/plain": [
       "Text(0.5, 0, 'Время в минутах')"
      ]
     },
     "execution_count": 56,
     "metadata": {},
     "output_type": "execute_result"
    },
    {
     "data": {
      "image/png": "[encoded data removed]",
      "text/plain": [
       "<Figure size 432x288 with 1 Axes>"
      ]
     },
     "metadata": {
      "needs_background": "light"
     },
     "output_type": "display_data"
    }
   ],
   "source": [
    "sns.boxplot(x=notsubscribed['duration'], color='green')\n",
    "plt.title('Продолжительность поездки (тариф free)')\n",
    "plt.xlabel('Время в минутах')"
   ]
  },
  {
   "cell_type": "code",
   "execution_count": 57,
   "id": "4914a4fc",
   "metadata": {},
   "outputs": [
    {
     "data": {
      "image/png": "[encoded data removed]",
      "text/plain": [
       "<Figure size 432x288 with 1 Axes>"
      ]
     },
     "metadata": {
      "needs_background": "light"
     },
     "output_type": "display_data"
    }
   ],
   "source": [
    "plt.hist(notsubscribed['duration'], bins = 30)\n",
    "plt.title('Продолжительность поездок(Тариф free)')\n",
    "plt.xlabel('Время в минутах')\n",
    "plt.ylabel('Количество пользователей')\n",
    "plt.grid()\n",
    "plt.show()"
   ]
  },
  {
   "cell_type": "code",
   "execution_count": 58,
   "id": "d84b7ef6",
   "metadata": {},
   "outputs": [
    {
     "data": {
      "text/plain": [
       "Text(0.5, 0, 'расстояние в метрах')"
      ]
     },
     "execution_count": 58,
     "metadata": {},
     "output_type": "execute_result"
    },
    {
     "data": {
      "image/png": "[encoded data removed]",
      "text/plain": [
       "<Figure size 432x288 with 1 Axes>"
      ]
     },
     "metadata": {
      "needs_background": "light"
     },
     "output_type": "display_data"
    }
   ],
   "source": [
    "sns.boxplot(x=notsubscribed['distance'], color='green')\n",
    "plt.title('Дистанция поездки (тариф free)')\n",
    "plt.xlabel('расстояние в метрах')"
   ]
  },
  {
   "cell_type": "code",
   "execution_count": 59,
   "id": "a79d7b4f",
   "metadata": {},
   "outputs": [
    {
     "data": {
      "image/png": "[encoded data removed]",
      "text/plain": [
       "<Figure size 432x288 with 1 Axes>"
      ]
     },
     "metadata": {
      "needs_background": "light"
     },
     "output_type": "display_data"
    }
   ],
   "source": [
    "plt.hist(notsubscribed['distance'], bins = 30)\n",
    "plt.title('Продолжительность поездок(Тариф free)')\n",
    "plt.xlabel('Время в минутах')\n",
    "plt.ylabel('Количество пользователей')\n",
    "plt.grid()\n",
    "plt.show()"
   ]
  },
  {
   "cell_type": "markdown",
   "id": "28a30f2a",
   "metadata": {},
   "source": [
    "# Вывод:"
   ]
  },
  {
   "cell_type": "markdown",
   "id": "368dc16c",
   "metadata": {},
   "source": [
    "Создали объедененный датафрейм data\n",
    "\n",
    "Тариф free: В основном время укладывается в промежуток от 15 до 23 минути и проезжают от 2.8 до 3.5 км\n",
    "\n",
    "Тариф ultra: В основном время укладывается в промежуток от 13 до 22 минути и проезжают от 2.2 до 4 км\n",
    "\n",
    "Таким образом, можно сделать вывод, что пользователи с бесплатным тарифом в целом совершают более долгие поездки, но  проезжают меньшее расстояние, чем пользователи на платном тарифе."
   ]
  },
  {
   "cell_type": "markdown",
   "id": "402d620f",
   "metadata": {},
   "source": [
    "#### Шаг 5. Подсчёт выручки"
   ]
  },
  {
   "cell_type": "markdown",
   "id": "6aa3db6f",
   "metadata": {},
   "source": [
    "Создадим датафрейм с агрегированными данными о поездках на основе датафрейма с объединёнными ранее данными. \n",
    "Найдем суммарное расстояние, количество поездок и суммарное время для каждого пользователя за каждый месяц.\n",
    "\n",
    "В этот же датафрейм добавим столбец с помесячной выручкой, которую принёс каждый пользователь. Для этого обратимся к информации об условиях оплаты для подписчиков и тех, у кого нет подписки.\n"
   ]
  },
  {
   "cell_type": "code",
   "execution_count": 60,
   "id": "3d51bf43",
   "metadata": {},
   "outputs": [],
   "source": [
    "data1 = pd.pivot_table(data,\n",
    "                           index=['month', 'user_id'],\n",
    "                           values = ['distance', 'duration', 'name', 'subscription_type'],\n",
    "                           aggfunc = {'distance': sum, \n",
    "                                      'duration' : sum, \n",
    "                                      'name' : len, \n",
    "                                      'subscription_type' : min})"
   ]
  },
  {
   "cell_type": "code",
   "execution_count": 61,
   "id": "fa955626",
   "metadata": {},
   "outputs": [],
   "source": [
    "data1.rename(columns = {'name' : 'count_tips'}, inplace = True)"
   ]
  },
  {
   "cell_type": "code",
   "execution_count": 62,
   "id": "4cbb1a35",
   "metadata": {},
   "outputs": [
    {
     "data": {
      "text/html": [
       "<div>\n",
       "<style scoped>\n",
       "    .dataframe tbody tr th:only-of-type {\n",
       "        vertical-align: middle;\n",
       "    }\n",
       "\n",
       "    .dataframe tbody tr th {\n",
       "        vertical-align: top;\n",
       "    }\n",
       "\n",
       "    .dataframe thead th {\n",
       "        text-align: right;\n",
       "    }\n",
       "</style>\n",
       "<table border=\"1\" class=\"dataframe\">\n",
       "  <thead>\n",
       "    <tr style=\"text-align: right;\">\n",
       "      <th></th>\n",
       "      <th></th>\n",
       "      <th>distance</th>\n",
       "      <th>duration</th>\n",
       "      <th>count_tips</th>\n",
       "      <th>subscription_type</th>\n",
       "    </tr>\n",
       "    <tr>\n",
       "      <th>month</th>\n",
       "      <th>user_id</th>\n",
       "      <th></th>\n",
       "      <th></th>\n",
       "      <th></th>\n",
       "      <th></th>\n",
       "    </tr>\n",
       "  </thead>\n",
       "  <tbody>\n",
       "    <tr>\n",
       "      <th rowspan=\"20\" valign=\"top\">1</th>\n",
       "      <th>1</th>\n",
       "      <td>7027.511294</td>\n",
       "      <td>42.0</td>\n",
       "      <td>2</td>\n",
       "      <td>ultra</td>\n",
       "    </tr>\n",
       "    <tr>\n",
       "      <th>1061</th>\n",
       "      <td>12637.249630</td>\n",
       "      <td>43.0</td>\n",
       "      <td>3</td>\n",
       "      <td>free</td>\n",
       "    </tr>\n",
       "    <tr>\n",
       "      <th>1063</th>\n",
       "      <td>3276.362299</td>\n",
       "      <td>10.0</td>\n",
       "      <td>1</td>\n",
       "      <td>free</td>\n",
       "    </tr>\n",
       "    <tr>\n",
       "      <th>1064</th>\n",
       "      <td>5297.324649</td>\n",
       "      <td>15.0</td>\n",
       "      <td>1</td>\n",
       "      <td>free</td>\n",
       "    </tr>\n",
       "    <tr>\n",
       "      <th>1065</th>\n",
       "      <td>14547.099333</td>\n",
       "      <td>99.0</td>\n",
       "      <td>4</td>\n",
       "      <td>free</td>\n",
       "    </tr>\n",
       "    <tr>\n",
       "      <th>1066</th>\n",
       "      <td>2809.064949</td>\n",
       "      <td>19.0</td>\n",
       "      <td>1</td>\n",
       "      <td>free</td>\n",
       "    </tr>\n",
       "    <tr>\n",
       "      <th>1067</th>\n",
       "      <td>3864.900780</td>\n",
       "      <td>22.0</td>\n",
       "      <td>1</td>\n",
       "      <td>free</td>\n",
       "    </tr>\n",
       "    <tr>\n",
       "      <th>1069</th>\n",
       "      <td>7007.076943</td>\n",
       "      <td>53.0</td>\n",
       "      <td>3</td>\n",
       "      <td>free</td>\n",
       "    </tr>\n",
       "    <tr>\n",
       "      <th>1071</th>\n",
       "      <td>3635.094136</td>\n",
       "      <td>15.0</td>\n",
       "      <td>1</td>\n",
       "      <td>free</td>\n",
       "    </tr>\n",
       "    <tr>\n",
       "      <th>1072</th>\n",
       "      <td>2498.615999</td>\n",
       "      <td>11.0</td>\n",
       "      <td>1</td>\n",
       "      <td>free</td>\n",
       "    </tr>\n",
       "    <tr>\n",
       "      <th>1073</th>\n",
       "      <td>2945.802455</td>\n",
       "      <td>16.0</td>\n",
       "      <td>1</td>\n",
       "      <td>free</td>\n",
       "    </tr>\n",
       "    <tr>\n",
       "      <th>1074</th>\n",
       "      <td>2814.793386</td>\n",
       "      <td>22.0</td>\n",
       "      <td>1</td>\n",
       "      <td>free</td>\n",
       "    </tr>\n",
       "    <tr>\n",
       "      <th>1075</th>\n",
       "      <td>5746.745124</td>\n",
       "      <td>29.0</td>\n",
       "      <td>3</td>\n",
       "      <td>free</td>\n",
       "    </tr>\n",
       "    <tr>\n",
       "      <th>1077</th>\n",
       "      <td>114.036199</td>\n",
       "      <td>13.0</td>\n",
       "      <td>1</td>\n",
       "      <td>free</td>\n",
       "    </tr>\n",
       "    <tr>\n",
       "      <th>1078</th>\n",
       "      <td>3748.219563</td>\n",
       "      <td>19.0</td>\n",
       "      <td>1</td>\n",
       "      <td>free</td>\n",
       "    </tr>\n",
       "    <tr>\n",
       "      <th>1082</th>\n",
       "      <td>7250.124895</td>\n",
       "      <td>30.0</td>\n",
       "      <td>2</td>\n",
       "      <td>free</td>\n",
       "    </tr>\n",
       "    <tr>\n",
       "      <th>1083</th>\n",
       "      <td>5848.881463</td>\n",
       "      <td>31.0</td>\n",
       "      <td>2</td>\n",
       "      <td>free</td>\n",
       "    </tr>\n",
       "    <tr>\n",
       "      <th>1084</th>\n",
       "      <td>4615.097141</td>\n",
       "      <td>25.0</td>\n",
       "      <td>1</td>\n",
       "      <td>free</td>\n",
       "    </tr>\n",
       "    <tr>\n",
       "      <th>1085</th>\n",
       "      <td>11410.546346</td>\n",
       "      <td>63.0</td>\n",
       "      <td>3</td>\n",
       "      <td>free</td>\n",
       "    </tr>\n",
       "    <tr>\n",
       "      <th>1086</th>\n",
       "      <td>4044.280322</td>\n",
       "      <td>18.0</td>\n",
       "      <td>1</td>\n",
       "      <td>free</td>\n",
       "    </tr>\n",
       "  </tbody>\n",
       "</table>\n",
       "</div>"
      ],
      "text/plain": [
       "                   distance  duration  count_tips subscription_type\n",
       "month user_id                                                      \n",
       "1     1         7027.511294      42.0           2             ultra\n",
       "      1061     12637.249630      43.0           3              free\n",
       "      1063      3276.362299      10.0           1              free\n",
       "      1064      5297.324649      15.0           1              free\n",
       "      1065     14547.099333      99.0           4              free\n",
       "      1066      2809.064949      19.0           1              free\n",
       "      1067      3864.900780      22.0           1              free\n",
       "      1069      7007.076943      53.0           3              free\n",
       "      1071      3635.094136      15.0           1              free\n",
       "      1072      2498.615999      11.0           1              free\n",
       "      1073      2945.802455      16.0           1              free\n",
       "      1074      2814.793386      22.0           1              free\n",
       "      1075      5746.745124      29.0           3              free\n",
       "      1077       114.036199      13.0           1              free\n",
       "      1078      3748.219563      19.0           1              free\n",
       "      1082      7250.124895      30.0           2              free\n",
       "      1083      5848.881463      31.0           2              free\n",
       "      1084      4615.097141      25.0           1              free\n",
       "      1085     11410.546346      63.0           3              free\n",
       "      1086      4044.280322      18.0           1              free"
      ]
     },
     "execution_count": 62,
     "metadata": {},
     "output_type": "execute_result"
    }
   ],
   "source": [
    "data1.sort_values(by='month').head(20)"
   ]
  },
  {
   "cell_type": "code",
   "execution_count": 63,
   "id": "c710387b",
   "metadata": {},
   "outputs": [
    {
     "data": {
      "text/html": [
       "<div>\n",
       "<style scoped>\n",
       "    .dataframe tbody tr th:only-of-type {\n",
       "        vertical-align: middle;\n",
       "    }\n",
       "\n",
       "    .dataframe tbody tr th {\n",
       "        vertical-align: top;\n",
       "    }\n",
       "\n",
       "    .dataframe thead th {\n",
       "        text-align: right;\n",
       "    }\n",
       "</style>\n",
       "<table border=\"1\" class=\"dataframe\">\n",
       "  <thead>\n",
       "    <tr style=\"text-align: right;\">\n",
       "      <th></th>\n",
       "      <th></th>\n",
       "      <th>distance</th>\n",
       "      <th>duration</th>\n",
       "      <th>count_tips</th>\n",
       "      <th>subscription_type</th>\n",
       "    </tr>\n",
       "    <tr>\n",
       "      <th>month</th>\n",
       "      <th>user_id</th>\n",
       "      <th></th>\n",
       "      <th></th>\n",
       "      <th></th>\n",
       "      <th></th>\n",
       "    </tr>\n",
       "  </thead>\n",
       "  <tbody>\n",
       "    <tr>\n",
       "      <th>1</th>\n",
       "      <th>1</th>\n",
       "      <td>7027.511294</td>\n",
       "      <td>42.0</td>\n",
       "      <td>2</td>\n",
       "      <td>ultra</td>\n",
       "    </tr>\n",
       "    <tr>\n",
       "      <th>4</th>\n",
       "      <th>1</th>\n",
       "      <td>754.159807</td>\n",
       "      <td>7.0</td>\n",
       "      <td>1</td>\n",
       "      <td>ultra</td>\n",
       "    </tr>\n",
       "    <tr>\n",
       "      <th>8</th>\n",
       "      <th>1</th>\n",
       "      <td>6723.470560</td>\n",
       "      <td>46.0</td>\n",
       "      <td>2</td>\n",
       "      <td>ultra</td>\n",
       "    </tr>\n",
       "    <tr>\n",
       "      <th>10</th>\n",
       "      <th>1</th>\n",
       "      <td>5809.911100</td>\n",
       "      <td>32.0</td>\n",
       "      <td>2</td>\n",
       "      <td>ultra</td>\n",
       "    </tr>\n",
       "    <tr>\n",
       "      <th>11</th>\n",
       "      <th>1</th>\n",
       "      <td>7003.499363</td>\n",
       "      <td>56.0</td>\n",
       "      <td>3</td>\n",
       "      <td>ultra</td>\n",
       "    </tr>\n",
       "    <tr>\n",
       "      <th>12</th>\n",
       "      <th>1</th>\n",
       "      <td>6751.629942</td>\n",
       "      <td>28.0</td>\n",
       "      <td>2</td>\n",
       "      <td>ultra</td>\n",
       "    </tr>\n",
       "  </tbody>\n",
       "</table>\n",
       "</div>"
      ],
      "text/plain": [
       "                  distance  duration  count_tips subscription_type\n",
       "month user_id                                                     \n",
       "1     1        7027.511294      42.0           2             ultra\n",
       "4     1         754.159807       7.0           1             ultra\n",
       "8     1        6723.470560      46.0           2             ultra\n",
       "10    1        5809.911100      32.0           2             ultra\n",
       "11    1        7003.499363      56.0           3             ultra\n",
       "12    1        6751.629942      28.0           2             ultra"
      ]
     },
     "execution_count": 63,
     "metadata": {},
     "output_type": "execute_result"
    }
   ],
   "source": [
    "data1.query('user_id == 1')"
   ]
  },
  {
   "cell_type": "code",
   "execution_count": 64,
   "id": "2a140b9e",
   "metadata": {},
   "outputs": [],
   "source": [
    "def revenue(row):\n",
    "    if row['subscription_type'] == 'ultra':\n",
    "        return 6 * row['duration'] + 199\n",
    "    elif row['subscription_type'] == 'free':\n",
    "        return 8 * row['duration'] + 50 * row['count_tips']\n",
    "    else:\n",
    "        return 'Нету подписки'"
   ]
  },
  {
   "cell_type": "code",
   "execution_count": 65,
   "id": "415ebe8f",
   "metadata": {},
   "outputs": [],
   "source": [
    "data1['revenue_per_month'] = data1.apply(revenue, axis=1)"
   ]
  },
  {
   "cell_type": "code",
   "execution_count": 66,
   "id": "db8d9c39",
   "metadata": {},
   "outputs": [
    {
     "data": {
      "text/plain": [
       "month  user_id\n",
       "1      1          451.0\n",
       "       3          277.0\n",
       "       5          277.0\n",
       "       7          367.0\n",
       "       12         397.0\n",
       "       13         451.0\n",
       "       14         409.0\n",
       "       15         433.0\n",
       "       20         373.0\n",
       "       22         277.0\n",
       "Name: revenue_per_month, dtype: float64"
      ]
     },
     "execution_count": 66,
     "metadata": {},
     "output_type": "execute_result"
    }
   ],
   "source": [
    "data1['revenue_per_month'].head(10)"
   ]
  },
  {
   "cell_type": "code",
   "execution_count": 67,
   "id": "e8f64a82",
   "metadata": {},
   "outputs": [
    {
     "data": {
      "text/html": [
       "<div>\n",
       "<style scoped>\n",
       "    .dataframe tbody tr th:only-of-type {\n",
       "        vertical-align: middle;\n",
       "    }\n",
       "\n",
       "    .dataframe tbody tr th {\n",
       "        vertical-align: top;\n",
       "    }\n",
       "\n",
       "    .dataframe thead th {\n",
       "        text-align: right;\n",
       "    }\n",
       "</style>\n",
       "<table border=\"1\" class=\"dataframe\">\n",
       "  <thead>\n",
       "    <tr style=\"text-align: right;\">\n",
       "      <th></th>\n",
       "      <th></th>\n",
       "      <th>distance</th>\n",
       "      <th>duration</th>\n",
       "      <th>count_tips</th>\n",
       "      <th>subscription_type</th>\n",
       "      <th>revenue_per_month</th>\n",
       "    </tr>\n",
       "    <tr>\n",
       "      <th>month</th>\n",
       "      <th>user_id</th>\n",
       "      <th></th>\n",
       "      <th></th>\n",
       "      <th></th>\n",
       "      <th></th>\n",
       "      <th></th>\n",
       "    </tr>\n",
       "  </thead>\n",
       "  <tbody>\n",
       "    <tr>\n",
       "      <th>1</th>\n",
       "      <th>1</th>\n",
       "      <td>7027.511294</td>\n",
       "      <td>42.0</td>\n",
       "      <td>2</td>\n",
       "      <td>ultra</td>\n",
       "      <td>451.0</td>\n",
       "    </tr>\n",
       "    <tr>\n",
       "      <th>4</th>\n",
       "      <th>1</th>\n",
       "      <td>754.159807</td>\n",
       "      <td>7.0</td>\n",
       "      <td>1</td>\n",
       "      <td>ultra</td>\n",
       "      <td>241.0</td>\n",
       "    </tr>\n",
       "    <tr>\n",
       "      <th>8</th>\n",
       "      <th>1</th>\n",
       "      <td>6723.470560</td>\n",
       "      <td>46.0</td>\n",
       "      <td>2</td>\n",
       "      <td>ultra</td>\n",
       "      <td>475.0</td>\n",
       "    </tr>\n",
       "    <tr>\n",
       "      <th>10</th>\n",
       "      <th>1</th>\n",
       "      <td>5809.911100</td>\n",
       "      <td>32.0</td>\n",
       "      <td>2</td>\n",
       "      <td>ultra</td>\n",
       "      <td>391.0</td>\n",
       "    </tr>\n",
       "    <tr>\n",
       "      <th>11</th>\n",
       "      <th>1</th>\n",
       "      <td>7003.499363</td>\n",
       "      <td>56.0</td>\n",
       "      <td>3</td>\n",
       "      <td>ultra</td>\n",
       "      <td>535.0</td>\n",
       "    </tr>\n",
       "    <tr>\n",
       "      <th>12</th>\n",
       "      <th>1</th>\n",
       "      <td>6751.629942</td>\n",
       "      <td>28.0</td>\n",
       "      <td>2</td>\n",
       "      <td>ultra</td>\n",
       "      <td>367.0</td>\n",
       "    </tr>\n",
       "  </tbody>\n",
       "</table>\n",
       "</div>"
      ],
      "text/plain": [
       "                  distance  duration  count_tips subscription_type  \\\n",
       "month user_id                                                        \n",
       "1     1        7027.511294      42.0           2             ultra   \n",
       "4     1         754.159807       7.0           1             ultra   \n",
       "8     1        6723.470560      46.0           2             ultra   \n",
       "10    1        5809.911100      32.0           2             ultra   \n",
       "11    1        7003.499363      56.0           3             ultra   \n",
       "12    1        6751.629942      28.0           2             ultra   \n",
       "\n",
       "               revenue_per_month  \n",
       "month user_id                     \n",
       "1     1                    451.0  \n",
       "4     1                    241.0  \n",
       "8     1                    475.0  \n",
       "10    1                    391.0  \n",
       "11    1                    535.0  \n",
       "12    1                    367.0  "
      ]
     },
     "execution_count": 67,
     "metadata": {},
     "output_type": "execute_result"
    }
   ],
   "source": [
    "data1.query('user_id == 1')"
   ]
  },
  {
   "cell_type": "markdown",
   "id": "7ddfbf60",
   "metadata": {},
   "source": [
    "# Вывод:"
   ]
  },
  {
   "cell_type": "markdown",
   "id": "e251cc92",
   "metadata": {},
   "source": [
    "Создали новый датафрейм data1 с агрегированными данными  на основе датафрейма с объединенными данными data.\n",
    "Нашли суммарное расстояние, количество поездок и суммарное время для каждого пользователя за каждый месяц. Также добавили столбец с помесячной выручкой, которую принес каждый пользователь."
   ]
  },
  {
   "cell_type": "markdown",
   "id": "41545ac0",
   "metadata": {},
   "source": [
    "#### Шаг 6. Проверка гипотез"
   ]
  },
  {
   "cell_type": "markdown",
   "id": "065cfab5",
   "metadata": {},
   "source": [
    "6.1 Важно понять, тратят ли пользователи с подпиской больше времени на поездки? Если да, то пользователи с подпиской могут быть «выгоднее» для компании. Проверьте гипотезу.\n",
    "Используйте исходные данные о продолжительности каждой сессии — отдельно для подписчиков и тех, у кого нет подписки.\n",
    "\n",
    "H_0: Время (duration) пользователей на подписке ultra = время (duration) пользователей на подписке free\n",
    "\n",
    "H_1: Время (duration) пользователей на подписке ultra > время (duration) пользователей на подписке free\n",
    "\n",
    "alpha = 0.05"
   ]
  },
  {
   "cell_type": "code",
   "execution_count": 68,
   "id": "23ea867b",
   "metadata": {},
   "outputs": [
    {
     "name": "stdout",
     "output_type": "stream",
     "text": [
      "2.4959453720736625e-34\n",
      "Отвергаем нулевую гипотезу\n"
     ]
    }
   ],
   "source": [
    "ultra = subscribed['duration'] \n",
    "\n",
    "free = notsubscribed['duration']\n",
    "\n",
    "results = st.ttest_ind(ultra, \n",
    "                       free,\n",
    "                       alternative = 'greater')\n",
    "\n",
    "alpha = .05\n",
    "\n",
    "print(results.pvalue)\n",
    "\n",
    "if results.pvalue < alpha:\n",
    "    print('Отвергаем нулевую гипотезу')\n",
    "else:\n",
    "    print('Не удалось отвергнуть нулевую гипотезу')"
   ]
  },
  {
   "cell_type": "markdown",
   "id": "af9cdc0b",
   "metadata": {},
   "source": [
    "Проверили гипотезу, отвергли гипотезу о том, что время поездки пользователей на тарифе ultra равно времени поездки пользователей на тарифе free."
   ]
  },
  {
   "cell_type": "markdown",
   "id": "75a0c14e",
   "metadata": {},
   "source": [
    "6.2 Расстояние одной поездки в 3130 метров — оптимальное с точки зрения износа самоката. Можно ли сказать, что расстояние, которое проезжают пользователи с подпиской за одну поездку, не превышает 3130 метров? Проверьте гипотезу и сделайте выводы.\n",
    "Проверим гипотезу: пользователи с подпиской проезжают расстояние, не превышающее 3130 метров за одну поездку.\n",
    "\n",
    "H_0: Расстояние (distance) пользователей на подписке ultra = 3130 метров\n",
    "\n",
    "H_1: Расстояние (distance) пользователей на подписке ultra < 3130 метров\n",
    "\n",
    "alpha = 0.05"
   ]
  },
  {
   "cell_type": "code",
   "execution_count": 69,
   "id": "ce4374d7",
   "metadata": {},
   "outputs": [
    {
     "name": "stdout",
     "output_type": "stream",
     "text": [
      "0.9195368847849785\n",
      "Не удалось отвергнуть нулевую гипотезу\n"
     ]
    }
   ],
   "source": [
    "ultra_dist = subscribed['distance']\n",
    "\n",
    "interested_value = 3130.0\n",
    "\n",
    "alpha = 0.05\n",
    "\n",
    "results = st.ttest_1samp(\n",
    "    ultra_dist, \n",
    "    interested_value,\n",
    "    alternative='greater')\n",
    "    \n",
    "print(results.pvalue)\n",
    "\n",
    "if (results.pvalue < alpha):\n",
    "    print('Отвергаем нулевую гипотезу')\n",
    "else:\n",
    "    print('Не удалось отвергнуть нулевую гипотезу')"
   ]
  },
  {
   "cell_type": "markdown",
   "id": "9d2d8d7c",
   "metadata": {},
   "source": [
    "Проверили гипотезу, и мы не можем утверждать, что расстояние, которое проехали пользователи на тарифе ultra не превышает 3130 метров."
   ]
  },
  {
   "cell_type": "markdown",
   "id": "09b282c4",
   "metadata": {},
   "source": [
    "6.3\n",
    "Проверьте гипотезу о том, будет ли помесячная выручка от пользователей с подпиской по месяцам выше, чем выручка от пользователей без подписки. Сделайте вывод.\n",
    "\n",
    "Проверим гипотезу: помесячная выручка от пользователей с подпиской выше, чем выручка от пользователей без подписки\n",
    "\n",
    "H_0: Выручка (revenue_per_month) пользователей на подписке ultra = выручка (revenue_per_month) пользователей на подписке free\n",
    "\n",
    "H_1: Выручка (revenue_per_month) пользователей на подписке ultra > выручка (revenue_per_month) пользователей на подписке free\n",
    "\n",
    "alpha = 0.05"
   ]
  },
  {
   "cell_type": "code",
   "execution_count": 70,
   "id": "78e8d7f1",
   "metadata": {},
   "outputs": [
    {
     "name": "stdout",
     "output_type": "stream",
     "text": [
      "1.8850394384715216e-31\n",
      "Отвергаем нулевую гипотезу\n"
     ]
    }
   ],
   "source": [
    "ultra_per_mnth = data1.loc[data1.subscription_type == 'ultra', 'revenue_per_month'] \n",
    "\n",
    "free_per_mnth = data1.loc[data1.subscription_type == 'free', 'revenue_per_month'] \n",
    "\n",
    "\n",
    "results = st.ttest_ind(ultra_per_mnth, \n",
    "                       free_per_mnth,\n",
    "                       alternative = 'greater')\n",
    "\n",
    "alpha = .05\n",
    "\n",
    "print(results.pvalue)\n",
    "\n",
    "if results.pvalue < alpha:\n",
    "    print('Отвергаем нулевую гипотезу')\n",
    "else:\n",
    "    print('Не удалось отвергнуть нулевую гипотезу')"
   ]
  },
  {
   "cell_type": "markdown",
   "id": "04d350f4",
   "metadata": {},
   "source": [
    "Проверили гипотезу, соответственно, мы можем утверждать, что выручка с пользователей на подписке ultra превышает выручку с пользователей на подписке free"
   ]
  },
  {
   "cell_type": "markdown",
   "id": "c067aacd",
   "metadata": {},
   "source": [
    "6.4\n",
    "Представьте такую ситуацию: техническая команда сервиса обновила сервера, с которыми взаимодействует мобильное приложение. Она надеется, что из-за этого количество обращений в техподдержку значимо снизилось. Некоторый файл содержит для каждого пользователя данные о количестве обращений до обновления и после него. Какой тест вам понадобился бы для проверки этой гипотезы?\n",
    "\n",
    "Ответ:\n",
    "\n",
    "Будем использовать гипотезу о равенстве средних для зависимых (парных) выборок.\n",
    "\n",
    "Гипотезы будут сформулированы так:\n",
    "\n",
    "H0 : u1 = u2\n",
    "H1 : u1 != u2\n",
    "где u1 и u2 - средние значения количество обращений в техподдержку до и после изменения.\n",
    "\n",
    "Метод, который нужно использовать при сравнении: scipy.stats.ttest_rel()"
   ]
  },
  {
   "cell_type": "markdown",
   "id": "61213c5e",
   "metadata": {},
   "source": [
    "#### Шаг 7. Распределения"
   ]
  },
  {
   "cell_type": "markdown",
   "id": "4826b713",
   "metadata": {},
   "source": [
    "# Общий вывод:"
   ]
  },
  {
   "cell_type": "markdown",
   "id": "818cd6c3",
   "metadata": {},
   "source": [
    "Загрузили 3 датафрейма: с пользователями, информацией о поездках, информацией о подписках.\n",
    "\n",
    "Дальше проверили данные на пропуски, их не оказалось ни в одной таблице. \n",
    "\n",
    "Поменяли тип данных у столбца date из датафрейма data_riders к типу даты. \n",
    "\n",
    "Также добавили столбец month с номером месяца. \n",
    "\n",
    "И удалили дубликаты строк из датафрейма с пользователями.\n",
    "\n",
    "Провели исследовательский анализ данных:\n",
    "\n",
    "Вывели, что количество пользователей по городам распределено примерно одинаково, нет выдающихся значений. Лидерами по количеству пользователей является Пятигорск и Екатеринбург. Меньше всего пользователей в Тюмени и Москве.\n",
    "Пользователей, использующих бесплатную подписку больше 835 человек, что является 54% от общего числа пользователей. На платной подписке сидит 699 пользователей, что соответственно является 46%.\n",
    "Возраст пользователей укладывается в промежуток от 20 до 30 лет\n",
    "В основном пользователи проезжают от 2.5 км до 3.7 км.\n",
    "Чаще всего длительность поездки состовляет 14 - 23 минут\n",
    "Объединили данные о пользователях, поездках и подписках в один датафрейм. На основе объединенного датафрейма создали еще 2 датафрейма:\n",
    "\n",
    "Для пользователей с ultra подпиской\n",
    "Для пользователей с free подпиской\n",
    "\n",
    "Дальше визуализировали информацию о расстоянии и времени поездки для пользоватей каждого тарифа.\n",
    "\n",
    "Тариф free: В основном время укладывается в промежуток от 15 до 23 минути и проезжают от 2.8 до 3.5 км\n",
    "\n",
    "Тариф ultra: В основном время укладывается в промежуток от 13 до 22 минути и проезжают от 2.2 до 4 км\n",
    "\n",
    "Нашли суммарное расстояние, количество поездок и суммарное время для каждого пользователя за каждый месяц - вывели все данные в отдельный датафрейм data1. Добавили в датафрейм data1 столбец с помесячной выручкой revenue_per_month.\n",
    "\n",
    "Проверили гипотезы:\n",
    "\n",
    "Пользователи с подпиской тратят больше времени на поездки, чем пользователи на бесплатном тарифе\n",
    "Отвергли нулевую гипотезу\n",
    "Пользователи с подпиской проезжают расстояние, не превышающее 3130 метров за одну поездку\n",
    "Не удалось отвергнуть нулевую гипотезу\n",
    "Помесячная выручка от пользователей с подпиской выше, чем выручка от пользователей без подписки\n",
    "Отвергли нулевую гипотезу"
   ]
  }
 ],
 "metadata": {
  "ExecuteTimeLog": [
   {
    "duration": 418,
    "start_time": "2023-09-11T12:19:54.919Z"
   },
   {
    "duration": 508,
    "start_time": "2023-09-11T12:19:55.440Z"
   },
   {
    "duration": 625,
    "start_time": "2023-09-11T12:19:55.950Z"
   },
   {
    "duration": 4,
    "start_time": "2023-09-11T12:21:11.900Z"
   },
   {
    "duration": 3,
    "start_time": "2023-09-11T12:21:11.908Z"
   },
   {
    "duration": 4,
    "start_time": "2023-09-11T12:21:11.913Z"
   },
   {
    "duration": 97,
    "start_time": "2023-09-11T12:21:11.919Z"
   },
   {
    "duration": 85,
    "start_time": "2023-09-11T12:21:12.018Z"
   },
   {
    "duration": 52,
    "start_time": "2023-09-11T12:21:12.105Z"
   },
   {
    "duration": 29,
    "start_time": "2023-09-11T12:21:15.311Z"
   },
   {
    "duration": 48,
    "start_time": "2023-09-11T12:21:16.718Z"
   },
   {
    "duration": 16,
    "start_time": "2023-09-11T12:21:17.107Z"
   },
   {
    "duration": 11,
    "start_time": "2023-09-11T12:21:31.624Z"
   },
   {
    "duration": 944,
    "start_time": "2023-09-11T12:21:58.303Z"
   },
   {
    "duration": 13,
    "start_time": "2023-09-11T12:22:10.054Z"
   },
   {
    "duration": 9,
    "start_time": "2023-09-11T12:22:26.506Z"
   },
   {
    "duration": 7,
    "start_time": "2023-09-11T12:22:39.764Z"
   },
   {
    "duration": 45,
    "start_time": "2023-09-11T12:23:06.358Z"
   },
   {
    "duration": 9,
    "start_time": "2023-09-11T12:23:08.646Z"
   },
   {
    "duration": 18,
    "start_time": "2023-09-11T12:23:11.374Z"
   },
   {
    "duration": 6,
    "start_time": "2023-09-11T12:23:13.929Z"
   },
   {
    "duration": 7,
    "start_time": "2023-09-11T12:23:15.365Z"
   },
   {
    "duration": 425,
    "start_time": "2023-09-11T12:23:48.102Z"
   },
   {
    "duration": 294,
    "start_time": "2023-09-11T12:23:57.237Z"
   },
   {
    "duration": 229,
    "start_time": "2023-09-11T12:24:01.703Z"
   },
   {
    "duration": 19,
    "start_time": "2023-09-11T12:25:08.727Z"
   },
   {
    "duration": 105,
    "start_time": "2023-09-11T12:26:14.307Z"
   },
   {
    "duration": 123,
    "start_time": "2023-09-11T12:26:20.930Z"
   },
   {
    "duration": 168,
    "start_time": "2023-09-11T12:26:47.826Z"
   },
   {
    "duration": 42,
    "start_time": "2023-09-11T12:26:52.534Z"
   },
   {
    "duration": 20,
    "start_time": "2023-09-11T12:26:54.628Z"
   },
   {
    "duration": 38,
    "start_time": "2023-09-11T12:27:04.816Z"
   },
   {
    "duration": 24,
    "start_time": "2023-09-11T12:27:06.953Z"
   },
   {
    "duration": 18,
    "start_time": "2023-09-11T12:27:16.609Z"
   },
   {
    "duration": 28,
    "start_time": "2023-09-11T12:27:28.107Z"
   },
   {
    "duration": 18,
    "start_time": "2023-09-11T12:27:34.832Z"
   },
   {
    "duration": 27,
    "start_time": "2023-09-11T12:27:40.511Z"
   },
   {
    "duration": 21,
    "start_time": "2023-09-11T12:27:43.516Z"
   },
   {
    "duration": 39,
    "start_time": "2023-09-11T12:28:06.352Z"
   },
   {
    "duration": 21,
    "start_time": "2023-09-11T12:28:19.407Z"
   },
   {
    "duration": 34,
    "start_time": "2023-09-11T12:28:50.077Z"
   },
   {
    "duration": 19,
    "start_time": "2023-09-11T12:28:52.712Z"
   },
   {
    "duration": 10,
    "start_time": "2023-09-11T12:29:33.839Z"
   },
   {
    "duration": 6,
    "start_time": "2023-09-11T12:29:35.055Z"
   },
   {
    "duration": 12,
    "start_time": "2023-09-11T12:30:46.247Z"
   },
   {
    "duration": 8,
    "start_time": "2023-09-11T12:30:52.450Z"
   },
   {
    "duration": 14,
    "start_time": "2023-09-11T12:31:04.799Z"
   },
   {
    "duration": 21,
    "start_time": "2023-09-11T12:31:10.596Z"
   },
   {
    "duration": 9,
    "start_time": "2023-09-11T12:31:11.326Z"
   },
   {
    "duration": 3,
    "start_time": "2023-09-11T13:27:55.343Z"
   },
   {
    "duration": 8,
    "start_time": "2023-09-11T13:27:55.349Z"
   },
   {
    "duration": 10,
    "start_time": "2023-09-11T13:27:55.358Z"
   },
   {
    "duration": 39,
    "start_time": "2023-09-11T13:27:55.369Z"
   },
   {
    "duration": 30,
    "start_time": "2023-09-11T13:27:55.410Z"
   },
   {
    "duration": 16,
    "start_time": "2023-09-11T13:27:55.442Z"
   },
   {
    "duration": 23,
    "start_time": "2023-09-11T13:27:55.460Z"
   },
   {
    "duration": 25,
    "start_time": "2023-09-11T13:27:55.484Z"
   },
   {
    "duration": 22,
    "start_time": "2023-09-11T13:27:55.511Z"
   },
   {
    "duration": 39,
    "start_time": "2023-09-11T13:27:55.535Z"
   },
   {
    "duration": 45,
    "start_time": "2023-09-11T13:27:55.576Z"
   },
   {
    "duration": 20,
    "start_time": "2023-09-11T13:27:55.623Z"
   },
   {
    "duration": 24,
    "start_time": "2023-09-11T13:27:55.644Z"
   },
   {
    "duration": 44,
    "start_time": "2023-09-11T13:27:55.670Z"
   },
   {
    "duration": 19,
    "start_time": "2023-09-11T13:27:55.716Z"
   },
   {
    "duration": 23,
    "start_time": "2023-09-11T13:27:55.737Z"
   },
   {
    "duration": 12,
    "start_time": "2023-09-11T13:28:38.118Z"
   },
   {
    "duration": 11,
    "start_time": "2023-09-11T13:28:39.491Z"
   },
   {
    "duration": 82,
    "start_time": "2023-09-11T13:28:47.458Z"
   },
   {
    "duration": 9,
    "start_time": "2023-09-11T13:28:48.008Z"
   },
   {
    "duration": 12,
    "start_time": "2023-09-11T13:28:54.713Z"
   },
   {
    "duration": 9,
    "start_time": "2023-09-11T13:30:43.981Z"
   },
   {
    "duration": 9,
    "start_time": "2023-09-11T13:30:53.084Z"
   },
   {
    "duration": 9,
    "start_time": "2023-09-11T13:31:35.908Z"
   },
   {
    "duration": 10,
    "start_time": "2023-09-11T13:31:59.727Z"
   },
   {
    "duration": 9,
    "start_time": "2023-09-11T13:32:25.527Z"
   },
   {
    "duration": 13,
    "start_time": "2023-09-11T13:32:34.674Z"
   },
   {
    "duration": 9,
    "start_time": "2023-09-11T13:32:35.157Z"
   },
   {
    "duration": 9,
    "start_time": "2023-09-11T13:32:52.689Z"
   },
   {
    "duration": 2,
    "start_time": "2023-09-11T13:39:33.268Z"
   },
   {
    "duration": 3,
    "start_time": "2023-09-11T13:39:37.422Z"
   },
   {
    "duration": 38,
    "start_time": "2023-09-11T13:39:37.427Z"
   },
   {
    "duration": 30,
    "start_time": "2023-09-11T13:39:37.466Z"
   },
   {
    "duration": 25,
    "start_time": "2023-09-11T13:39:37.498Z"
   },
   {
    "duration": 15,
    "start_time": "2023-09-11T13:39:37.526Z"
   },
   {
    "duration": 19,
    "start_time": "2023-09-11T13:39:37.543Z"
   },
   {
    "duration": 7,
    "start_time": "2023-09-11T13:39:37.564Z"
   },
   {
    "duration": 29,
    "start_time": "2023-09-11T13:39:37.573Z"
   },
   {
    "duration": 9,
    "start_time": "2023-09-11T13:39:37.604Z"
   },
   {
    "duration": 13,
    "start_time": "2023-09-11T13:39:37.615Z"
   },
   {
    "duration": 19,
    "start_time": "2023-09-11T13:39:37.630Z"
   },
   {
    "duration": 41,
    "start_time": "2023-09-11T13:39:37.651Z"
   },
   {
    "duration": 6,
    "start_time": "2023-09-11T13:39:37.694Z"
   },
   {
    "duration": 8,
    "start_time": "2023-09-11T13:39:37.703Z"
   },
   {
    "duration": 4,
    "start_time": "2023-09-11T13:39:37.713Z"
   },
   {
    "duration": 18,
    "start_time": "2023-09-11T13:39:37.719Z"
   },
   {
    "duration": 3,
    "start_time": "2023-09-11T13:39:40.837Z"
   },
   {
    "duration": 10,
    "start_time": "2023-09-11T13:39:52.230Z"
   },
   {
    "duration": 11,
    "start_time": "2023-09-11T13:49:55.815Z"
   },
   {
    "duration": 9,
    "start_time": "2023-09-11T13:50:08.810Z"
   },
   {
    "duration": 10,
    "start_time": "2023-09-11T13:51:01.704Z"
   },
   {
    "duration": 5,
    "start_time": "2023-09-11T13:51:45.928Z"
   },
   {
    "duration": 13,
    "start_time": "2023-09-11T13:51:47.086Z"
   },
   {
    "duration": 9,
    "start_time": "2023-09-11T13:52:23.313Z"
   },
   {
    "duration": 2,
    "start_time": "2023-09-11T13:52:26.143Z"
   },
   {
    "duration": 18,
    "start_time": "2023-09-11T13:52:26.147Z"
   },
   {
    "duration": 26,
    "start_time": "2023-09-11T13:52:26.167Z"
   },
   {
    "duration": 39,
    "start_time": "2023-09-11T13:52:26.195Z"
   },
   {
    "duration": 27,
    "start_time": "2023-09-11T13:52:26.237Z"
   },
   {
    "duration": 53,
    "start_time": "2023-09-11T13:52:26.266Z"
   },
   {
    "duration": 30,
    "start_time": "2023-09-11T13:52:26.320Z"
   },
   {
    "duration": 20,
    "start_time": "2023-09-11T13:52:26.352Z"
   },
   {
    "duration": 41,
    "start_time": "2023-09-11T13:52:26.374Z"
   },
   {
    "duration": 13,
    "start_time": "2023-09-11T13:52:26.417Z"
   },
   {
    "duration": 41,
    "start_time": "2023-09-11T13:52:26.432Z"
   },
   {
    "duration": 40,
    "start_time": "2023-09-11T13:52:26.475Z"
   },
   {
    "duration": 16,
    "start_time": "2023-09-11T13:52:26.517Z"
   },
   {
    "duration": 13,
    "start_time": "2023-09-11T13:52:26.535Z"
   },
   {
    "duration": 22,
    "start_time": "2023-09-11T13:52:26.550Z"
   },
   {
    "duration": 39,
    "start_time": "2023-09-11T13:52:26.574Z"
   },
   {
    "duration": 27,
    "start_time": "2023-09-11T13:52:26.615Z"
   },
   {
    "duration": 7,
    "start_time": "2023-09-11T13:53:16.322Z"
   },
   {
    "duration": 6,
    "start_time": "2023-09-11T13:53:18.406Z"
   },
   {
    "duration": 13,
    "start_time": "2023-09-11T13:53:57.611Z"
   },
   {
    "duration": 9,
    "start_time": "2023-09-11T13:54:18.437Z"
   },
   {
    "duration": 6,
    "start_time": "2023-09-11T13:54:32.098Z"
   },
   {
    "duration": 7,
    "start_time": "2023-09-11T13:54:34.783Z"
   },
   {
    "duration": 7,
    "start_time": "2023-09-11T13:54:36.981Z"
   },
   {
    "duration": 8,
    "start_time": "2023-09-11T13:56:57.336Z"
   },
   {
    "duration": 3,
    "start_time": "2023-09-11T13:58:44.168Z"
   },
   {
    "duration": 3,
    "start_time": "2023-09-11T13:59:03.275Z"
   },
   {
    "duration": 9,
    "start_time": "2023-09-11T14:00:51.701Z"
   },
   {
    "duration": 7,
    "start_time": "2023-09-11T14:00:56.964Z"
   },
   {
    "duration": 7,
    "start_time": "2023-09-11T14:01:05.485Z"
   },
   {
    "duration": 130,
    "start_time": "2023-09-11T14:02:17.739Z"
   },
   {
    "duration": 148,
    "start_time": "2023-09-11T14:02:25.851Z"
   },
   {
    "duration": 180,
    "start_time": "2023-09-11T14:02:30.671Z"
   },
   {
    "duration": 9,
    "start_time": "2023-09-11T14:02:48.105Z"
   },
   {
    "duration": 4,
    "start_time": "2023-09-11T14:02:58.707Z"
   },
   {
    "duration": 4,
    "start_time": "2023-09-11T14:03:07.063Z"
   },
   {
    "duration": 118,
    "start_time": "2023-09-11T14:03:35.465Z"
   },
   {
    "duration": 169,
    "start_time": "2023-09-11T14:03:53.195Z"
   },
   {
    "duration": 169,
    "start_time": "2023-09-11T14:04:01.157Z"
   },
   {
    "duration": 158,
    "start_time": "2023-09-11T14:04:40.342Z"
   },
   {
    "duration": 257,
    "start_time": "2023-09-11T14:05:34.696Z"
   },
   {
    "duration": 148,
    "start_time": "2023-09-11T14:05:40.141Z"
   },
   {
    "duration": 168,
    "start_time": "2023-09-11T14:05:44.565Z"
   },
   {
    "duration": 148,
    "start_time": "2023-09-11T14:05:49.996Z"
   },
   {
    "duration": 2,
    "start_time": "2023-09-11T14:06:10.238Z"
   },
   {
    "duration": 17,
    "start_time": "2023-09-11T14:06:10.242Z"
   },
   {
    "duration": 24,
    "start_time": "2023-09-11T14:06:10.260Z"
   },
   {
    "duration": 15,
    "start_time": "2023-09-11T14:06:10.286Z"
   },
   {
    "duration": 21,
    "start_time": "2023-09-11T14:06:10.303Z"
   },
   {
    "duration": 39,
    "start_time": "2023-09-11T14:06:10.326Z"
   },
   {
    "duration": 26,
    "start_time": "2023-09-11T14:06:10.367Z"
   },
   {
    "duration": 18,
    "start_time": "2023-09-11T14:06:10.395Z"
   },
   {
    "duration": 20,
    "start_time": "2023-09-11T14:06:10.415Z"
   },
   {
    "duration": 16,
    "start_time": "2023-09-11T14:06:10.437Z"
   },
   {
    "duration": 20,
    "start_time": "2023-09-11T14:06:10.455Z"
   },
   {
    "duration": 11,
    "start_time": "2023-09-11T14:06:10.477Z"
   },
   {
    "duration": 20,
    "start_time": "2023-09-11T14:06:10.490Z"
   },
   {
    "duration": 31,
    "start_time": "2023-09-11T14:06:10.513Z"
   },
   {
    "duration": 47,
    "start_time": "2023-09-11T14:06:10.546Z"
   },
   {
    "duration": 11,
    "start_time": "2023-09-11T14:06:10.595Z"
   },
   {
    "duration": 8,
    "start_time": "2023-09-11T14:06:10.608Z"
   },
   {
    "duration": 8,
    "start_time": "2023-09-11T14:06:10.618Z"
   },
   {
    "duration": 9,
    "start_time": "2023-09-11T14:06:10.628Z"
   },
   {
    "duration": 5,
    "start_time": "2023-09-11T14:06:10.638Z"
   },
   {
    "duration": 9,
    "start_time": "2023-09-11T14:06:10.681Z"
   },
   {
    "duration": 10,
    "start_time": "2023-09-11T14:06:10.691Z"
   },
   {
    "duration": 11,
    "start_time": "2023-09-11T14:06:10.702Z"
   },
   {
    "duration": 44,
    "start_time": "2023-09-11T14:06:10.714Z"
   },
   {
    "duration": 155,
    "start_time": "2023-09-11T14:06:10.760Z"
   },
   {
    "duration": 181,
    "start_time": "2023-09-11T14:07:31.148Z"
   },
   {
    "duration": 149,
    "start_time": "2023-09-11T14:07:38.502Z"
   },
   {
    "duration": 152,
    "start_time": "2023-09-11T14:07:58.290Z"
   },
   {
    "duration": 12,
    "start_time": "2023-09-11T14:08:17.784Z"
   },
   {
    "duration": 97,
    "start_time": "2023-09-11T14:08:22.753Z"
   },
   {
    "duration": 86,
    "start_time": "2023-09-11T14:08:38.603Z"
   },
   {
    "duration": 96,
    "start_time": "2023-09-11T14:08:54.134Z"
   },
   {
    "duration": 154,
    "start_time": "2023-09-11T14:09:12.537Z"
   },
   {
    "duration": 137,
    "start_time": "2023-09-11T14:09:20.781Z"
   },
   {
    "duration": 105,
    "start_time": "2023-09-11T14:10:26.100Z"
   },
   {
    "duration": 228,
    "start_time": "2023-09-11T14:11:08.943Z"
   },
   {
    "duration": 9,
    "start_time": "2023-09-11T14:11:33.118Z"
   },
   {
    "duration": 147,
    "start_time": "2023-09-11T14:11:38.341Z"
   },
   {
    "duration": 144,
    "start_time": "2023-09-11T14:11:47.527Z"
   },
   {
    "duration": 168,
    "start_time": "2023-09-11T14:11:51.760Z"
   },
   {
    "duration": 173,
    "start_time": "2023-09-11T14:12:01.437Z"
   },
   {
    "duration": 177,
    "start_time": "2023-09-11T14:12:06.258Z"
   },
   {
    "duration": 180,
    "start_time": "2023-09-11T14:12:23.531Z"
   },
   {
    "duration": 204,
    "start_time": "2023-09-11T14:12:26.834Z"
   },
   {
    "duration": 187,
    "start_time": "2023-09-11T14:12:30.697Z"
   },
   {
    "duration": 187,
    "start_time": "2023-09-11T14:12:59.985Z"
   },
   {
    "duration": 179,
    "start_time": "2023-09-11T14:13:11.689Z"
   },
   {
    "duration": 300,
    "start_time": "2023-09-11T14:13:13.723Z"
   },
   {
    "duration": 182,
    "start_time": "2023-09-11T14:13:37.379Z"
   },
   {
    "duration": 109,
    "start_time": "2023-09-11T14:14:25.751Z"
   },
   {
    "duration": 120,
    "start_time": "2023-09-11T14:15:42.268Z"
   },
   {
    "duration": 111,
    "start_time": "2023-09-11T14:15:50.130Z"
   },
   {
    "duration": 217,
    "start_time": "2023-09-11T14:16:11.822Z"
   },
   {
    "duration": 202,
    "start_time": "2023-09-11T14:16:34.464Z"
   },
   {
    "duration": 191,
    "start_time": "2023-09-11T14:16:54.634Z"
   },
   {
    "duration": 119,
    "start_time": "2023-09-11T14:16:55.485Z"
   },
   {
    "duration": 466,
    "start_time": "2023-09-12T22:13:14.365Z"
   },
   {
    "duration": 3,
    "start_time": "2023-09-12T22:13:17.531Z"
   },
   {
    "duration": 453,
    "start_time": "2023-09-12T22:13:17.535Z"
   },
   {
    "duration": 556,
    "start_time": "2023-09-12T22:13:17.990Z"
   },
   {
    "duration": 4,
    "start_time": "2023-09-12T22:13:18.548Z"
   },
   {
    "duration": 29,
    "start_time": "2023-09-12T22:13:18.554Z"
   },
   {
    "duration": 98,
    "start_time": "2023-09-12T22:13:18.585Z"
   },
   {
    "duration": 70,
    "start_time": "2023-09-12T22:13:18.685Z"
   },
   {
    "duration": 51,
    "start_time": "2023-09-12T22:13:18.757Z"
   },
   {
    "duration": 33,
    "start_time": "2023-09-12T22:13:18.811Z"
   },
   {
    "duration": 9,
    "start_time": "2023-09-12T22:13:18.847Z"
   },
   {
    "duration": 12,
    "start_time": "2023-09-12T22:13:18.858Z"
   },
   {
    "duration": 29,
    "start_time": "2023-09-12T22:13:18.872Z"
   },
   {
    "duration": 20,
    "start_time": "2023-09-12T22:13:18.903Z"
   },
   {
    "duration": 29,
    "start_time": "2023-09-12T22:13:18.925Z"
   },
   {
    "duration": 17,
    "start_time": "2023-09-12T22:13:18.956Z"
   },
   {
    "duration": 9,
    "start_time": "2023-09-12T22:13:19.002Z"
   },
   {
    "duration": 15,
    "start_time": "2023-09-12T22:13:19.013Z"
   },
   {
    "duration": 24,
    "start_time": "2023-09-12T22:13:19.030Z"
   },
   {
    "duration": 14,
    "start_time": "2023-09-12T22:13:19.055Z"
   },
   {
    "duration": 7,
    "start_time": "2023-09-12T22:13:19.071Z"
   },
   {
    "duration": 21,
    "start_time": "2023-09-12T22:13:19.079Z"
   },
   {
    "duration": 18,
    "start_time": "2023-09-12T22:13:19.101Z"
   },
   {
    "duration": 36,
    "start_time": "2023-09-12T22:13:19.120Z"
   },
   {
    "duration": 104,
    "start_time": "2023-09-12T22:13:19.158Z"
   },
   {
    "duration": 0,
    "start_time": "2023-09-12T22:13:19.265Z"
   },
   {
    "duration": 0,
    "start_time": "2023-09-12T22:13:19.266Z"
   },
   {
    "duration": 0,
    "start_time": "2023-09-12T22:13:19.268Z"
   },
   {
    "duration": 0,
    "start_time": "2023-09-12T22:13:19.269Z"
   },
   {
    "duration": 0,
    "start_time": "2023-09-12T22:13:19.270Z"
   },
   {
    "duration": 0,
    "start_time": "2023-09-12T22:13:19.272Z"
   },
   {
    "duration": 0,
    "start_time": "2023-09-12T22:13:19.273Z"
   },
   {
    "duration": 5,
    "start_time": "2023-09-12T22:31:24.427Z"
   },
   {
    "duration": 3,
    "start_time": "2023-09-12T22:36:06.863Z"
   },
   {
    "duration": 30,
    "start_time": "2023-09-12T22:36:06.868Z"
   },
   {
    "duration": 34,
    "start_time": "2023-09-12T22:36:06.900Z"
   },
   {
    "duration": 23,
    "start_time": "2023-09-12T22:36:06.936Z"
   },
   {
    "duration": 28,
    "start_time": "2023-09-12T22:36:06.962Z"
   },
   {
    "duration": 44,
    "start_time": "2023-09-12T22:36:06.992Z"
   },
   {
    "duration": 28,
    "start_time": "2023-09-12T22:36:07.038Z"
   },
   {
    "duration": 15,
    "start_time": "2023-09-12T22:36:07.068Z"
   },
   {
    "duration": 31,
    "start_time": "2023-09-12T22:36:07.085Z"
   },
   {
    "duration": 16,
    "start_time": "2023-09-12T22:36:07.117Z"
   },
   {
    "duration": 45,
    "start_time": "2023-09-12T22:36:07.134Z"
   },
   {
    "duration": 19,
    "start_time": "2023-09-12T22:36:07.181Z"
   },
   {
    "duration": 41,
    "start_time": "2023-09-12T22:36:07.202Z"
   },
   {
    "duration": 28,
    "start_time": "2023-09-12T22:36:07.245Z"
   },
   {
    "duration": 17,
    "start_time": "2023-09-12T22:36:07.274Z"
   },
   {
    "duration": 23,
    "start_time": "2023-09-12T22:36:07.292Z"
   },
   {
    "duration": 19,
    "start_time": "2023-09-12T22:36:07.317Z"
   },
   {
    "duration": 33,
    "start_time": "2023-09-12T22:36:07.338Z"
   },
   {
    "duration": 48,
    "start_time": "2023-09-12T22:36:07.372Z"
   },
   {
    "duration": 16,
    "start_time": "2023-09-12T22:36:07.422Z"
   },
   {
    "duration": 24,
    "start_time": "2023-09-12T22:36:07.440Z"
   },
   {
    "duration": 31,
    "start_time": "2023-09-12T22:36:07.466Z"
   },
   {
    "duration": 16,
    "start_time": "2023-09-12T22:36:07.498Z"
   },
   {
    "duration": 25,
    "start_time": "2023-09-12T22:36:07.516Z"
   },
   {
    "duration": 160,
    "start_time": "2023-09-12T22:36:07.543Z"
   },
   {
    "duration": 99,
    "start_time": "2023-09-12T22:36:07.705Z"
   },
   {
    "duration": 169,
    "start_time": "2023-09-12T22:36:07.806Z"
   },
   {
    "duration": 200,
    "start_time": "2023-09-12T22:36:07.977Z"
   },
   {
    "duration": 117,
    "start_time": "2023-09-12T22:36:08.179Z"
   },
   {
    "duration": 200,
    "start_time": "2023-09-12T22:36:08.301Z"
   },
   {
    "duration": 132,
    "start_time": "2023-09-12T22:36:08.503Z"
   },
   {
    "duration": 438,
    "start_time": "2023-09-13T10:21:16.893Z"
   },
   {
    "duration": 3,
    "start_time": "2023-09-13T10:21:19.345Z"
   },
   {
    "duration": 480,
    "start_time": "2023-09-13T10:21:19.350Z"
   },
   {
    "duration": 594,
    "start_time": "2023-09-13T10:21:19.832Z"
   },
   {
    "duration": 2,
    "start_time": "2023-09-13T10:21:20.428Z"
   },
   {
    "duration": 22,
    "start_time": "2023-09-13T10:21:20.433Z"
   },
   {
    "duration": 108,
    "start_time": "2023-09-13T10:21:20.457Z"
   },
   {
    "duration": 72,
    "start_time": "2023-09-13T10:21:20.567Z"
   },
   {
    "duration": 62,
    "start_time": "2023-09-13T10:21:20.641Z"
   },
   {
    "duration": 22,
    "start_time": "2023-09-13T10:21:20.705Z"
   },
   {
    "duration": 19,
    "start_time": "2023-09-13T10:21:20.729Z"
   },
   {
    "duration": 6,
    "start_time": "2023-09-13T10:21:20.750Z"
   },
   {
    "duration": 24,
    "start_time": "2023-09-13T10:21:20.757Z"
   },
   {
    "duration": 40,
    "start_time": "2023-09-13T10:21:20.782Z"
   },
   {
    "duration": 22,
    "start_time": "2023-09-13T10:21:20.824Z"
   },
   {
    "duration": 17,
    "start_time": "2023-09-13T10:21:20.847Z"
   },
   {
    "duration": 5,
    "start_time": "2023-09-13T10:21:20.866Z"
   },
   {
    "duration": 34,
    "start_time": "2023-09-13T10:21:20.873Z"
   },
   {
    "duration": 6,
    "start_time": "2023-09-13T10:21:20.909Z"
   },
   {
    "duration": 9,
    "start_time": "2023-09-13T10:21:20.917Z"
   },
   {
    "duration": 5,
    "start_time": "2023-09-13T10:21:20.928Z"
   },
   {
    "duration": 8,
    "start_time": "2023-09-13T10:21:20.934Z"
   },
   {
    "duration": 13,
    "start_time": "2023-09-13T10:21:20.943Z"
   },
   {
    "duration": 17,
    "start_time": "2023-09-13T10:21:20.957Z"
   },
   {
    "duration": 17,
    "start_time": "2023-09-13T10:21:20.976Z"
   },
   {
    "duration": 162,
    "start_time": "2023-09-13T10:21:20.995Z"
   },
   {
    "duration": 105,
    "start_time": "2023-09-13T10:21:21.158Z"
   },
   {
    "duration": 189,
    "start_time": "2023-09-13T10:21:21.265Z"
   },
   {
    "duration": 194,
    "start_time": "2023-09-13T10:21:21.456Z"
   },
   {
    "duration": 116,
    "start_time": "2023-09-13T10:21:21.652Z"
   },
   {
    "duration": 195,
    "start_time": "2023-09-13T10:21:21.770Z"
   },
   {
    "duration": 144,
    "start_time": "2023-09-13T10:21:21.967Z"
   },
   {
    "duration": 465,
    "start_time": "2023-09-14T10:52:27.451Z"
   },
   {
    "duration": 460,
    "start_time": "2023-09-14T10:52:27.918Z"
   },
   {
    "duration": 561,
    "start_time": "2023-09-14T10:52:28.380Z"
   },
   {
    "duration": 4,
    "start_time": "2023-09-14T10:52:28.943Z"
   },
   {
    "duration": 15,
    "start_time": "2023-09-14T10:52:28.949Z"
   },
   {
    "duration": 83,
    "start_time": "2023-09-14T10:52:28.967Z"
   },
   {
    "duration": 82,
    "start_time": "2023-09-14T10:52:29.052Z"
   },
   {
    "duration": 52,
    "start_time": "2023-09-14T10:52:29.136Z"
   },
   {
    "duration": 34,
    "start_time": "2023-09-14T10:52:29.192Z"
   },
   {
    "duration": 10,
    "start_time": "2023-09-14T10:52:29.228Z"
   },
   {
    "duration": 23,
    "start_time": "2023-09-14T10:52:29.240Z"
   },
   {
    "duration": 20,
    "start_time": "2023-09-14T10:52:29.264Z"
   },
   {
    "duration": 16,
    "start_time": "2023-09-14T10:52:29.296Z"
   },
   {
    "duration": 24,
    "start_time": "2023-09-14T10:52:29.315Z"
   },
   {
    "duration": 17,
    "start_time": "2023-09-14T10:52:29.340Z"
   },
   {
    "duration": 14,
    "start_time": "2023-09-14T10:52:29.358Z"
   },
   {
    "duration": 26,
    "start_time": "2023-09-14T10:52:29.374Z"
   },
   {
    "duration": 7,
    "start_time": "2023-09-14T10:52:29.401Z"
   },
   {
    "duration": 15,
    "start_time": "2023-09-14T10:52:29.410Z"
   },
   {
    "duration": 12,
    "start_time": "2023-09-14T10:52:29.427Z"
   },
   {
    "duration": 20,
    "start_time": "2023-09-14T10:52:29.440Z"
   },
   {
    "duration": 12,
    "start_time": "2023-09-14T10:52:29.462Z"
   },
   {
    "duration": 11,
    "start_time": "2023-09-14T10:52:29.476Z"
   },
   {
    "duration": 13,
    "start_time": "2023-09-14T10:52:29.489Z"
   },
   {
    "duration": 188,
    "start_time": "2023-09-14T10:52:29.503Z"
   },
   {
    "duration": 111,
    "start_time": "2023-09-14T10:52:29.699Z"
   },
   {
    "duration": 200,
    "start_time": "2023-09-14T10:52:29.812Z"
   },
   {
    "duration": 249,
    "start_time": "2023-09-14T10:52:30.014Z"
   },
   {
    "duration": 135,
    "start_time": "2023-09-14T10:52:30.264Z"
   },
   {
    "duration": 223,
    "start_time": "2023-09-14T10:52:30.402Z"
   },
   {
    "duration": 150,
    "start_time": "2023-09-14T10:52:30.627Z"
   },
   {
    "duration": 14,
    "start_time": "2023-09-14T10:52:30.780Z"
   },
   {
    "duration": 59,
    "start_time": "2023-09-14T10:52:30.797Z"
   },
   {
    "duration": 51,
    "start_time": "2023-09-14T10:52:30.858Z"
   },
   {
    "duration": 43,
    "start_time": "2023-09-14T10:52:30.911Z"
   },
   {
    "duration": 48,
    "start_time": "2023-09-14T10:52:30.956Z"
   },
   {
    "duration": 246,
    "start_time": "2023-09-14T10:52:31.006Z"
   },
   {
    "duration": 115,
    "start_time": "2023-09-14T10:52:31.253Z"
   },
   {
    "duration": 134,
    "start_time": "2023-09-14T10:52:31.370Z"
   },
   {
    "duration": 130,
    "start_time": "2023-09-14T10:52:31.507Z"
   },
   {
    "duration": 963,
    "start_time": "2023-09-14T10:54:05.499Z"
   },
   {
    "duration": 4,
    "start_time": "2023-09-14T10:54:26.098Z"
   },
   {
    "duration": 11,
    "start_time": "2023-09-14T10:54:40.756Z"
   },
   {
    "duration": 120,
    "start_time": "2023-09-14T10:56:03.427Z"
   },
   {
    "duration": 171,
    "start_time": "2023-09-14T10:56:35.857Z"
   },
   {
    "duration": 13,
    "start_time": "2023-09-14T10:56:43.801Z"
   },
   {
    "duration": 12,
    "start_time": "2023-09-14T10:56:51.506Z"
   },
   {
    "duration": 375,
    "start_time": "2023-09-14T18:41:37.480Z"
   },
   {
    "duration": 380,
    "start_time": "2023-09-14T18:41:37.857Z"
   },
   {
    "duration": 516,
    "start_time": "2023-09-14T18:41:38.239Z"
   },
   {
    "duration": 3,
    "start_time": "2023-09-14T18:41:38.757Z"
   },
   {
    "duration": 29,
    "start_time": "2023-09-14T18:41:38.761Z"
   },
   {
    "duration": 115,
    "start_time": "2023-09-14T18:41:38.791Z"
   },
   {
    "duration": 65,
    "start_time": "2023-09-14T18:41:38.908Z"
   },
   {
    "duration": 51,
    "start_time": "2023-09-14T18:41:38.974Z"
   },
   {
    "duration": 24,
    "start_time": "2023-09-14T18:41:39.027Z"
   },
   {
    "duration": 7,
    "start_time": "2023-09-14T18:41:39.054Z"
   },
   {
    "duration": 25,
    "start_time": "2023-09-14T18:41:39.063Z"
   },
   {
    "duration": 9,
    "start_time": "2023-09-14T18:41:39.089Z"
   },
   {
    "duration": 15,
    "start_time": "2023-09-14T18:41:39.100Z"
   },
   {
    "duration": 40,
    "start_time": "2023-09-14T18:41:39.116Z"
   },
   {
    "duration": 14,
    "start_time": "2023-09-14T18:41:39.158Z"
   },
   {
    "duration": 9,
    "start_time": "2023-09-14T18:41:39.174Z"
   },
   {
    "duration": 26,
    "start_time": "2023-09-14T18:41:39.184Z"
   },
   {
    "duration": 8,
    "start_time": "2023-09-14T18:41:39.212Z"
   },
   {
    "duration": 13,
    "start_time": "2023-09-14T18:41:39.222Z"
   },
   {
    "duration": 5,
    "start_time": "2023-09-14T18:41:39.237Z"
   },
   {
    "duration": 10,
    "start_time": "2023-09-14T18:41:39.244Z"
   },
   {
    "duration": 21,
    "start_time": "2023-09-14T18:41:39.255Z"
   },
   {
    "duration": 7,
    "start_time": "2023-09-14T18:41:39.278Z"
   },
   {
    "duration": 13,
    "start_time": "2023-09-14T18:41:39.286Z"
   },
   {
    "duration": 137,
    "start_time": "2023-09-14T18:41:39.300Z"
   },
   {
    "duration": 83,
    "start_time": "2023-09-14T18:41:39.439Z"
   },
   {
    "duration": 168,
    "start_time": "2023-09-14T18:41:39.524Z"
   },
   {
    "duration": 181,
    "start_time": "2023-09-14T18:41:39.697Z"
   },
   {
    "duration": 114,
    "start_time": "2023-09-14T18:41:39.880Z"
   },
   {
    "duration": 179,
    "start_time": "2023-09-14T18:41:39.996Z"
   },
   {
    "duration": 107,
    "start_time": "2023-09-14T18:41:40.176Z"
   },
   {
    "duration": 10,
    "start_time": "2023-09-14T18:41:40.284Z"
   },
   {
    "duration": 13,
    "start_time": "2023-09-14T18:41:40.296Z"
   },
   {
    "duration": 18,
    "start_time": "2023-09-14T18:41:40.311Z"
   },
   {
    "duration": 15,
    "start_time": "2023-09-14T18:41:40.330Z"
   },
   {
    "duration": 10,
    "start_time": "2023-09-14T18:41:40.346Z"
   },
   {
    "duration": 102,
    "start_time": "2023-09-14T18:41:40.357Z"
   },
   {
    "duration": 168,
    "start_time": "2023-09-14T18:41:40.461Z"
   },
   {
    "duration": 124,
    "start_time": "2023-09-14T18:41:40.631Z"
   },
   {
    "duration": 111,
    "start_time": "2023-09-14T18:41:40.756Z"
   },
   {
    "duration": 790,
    "start_time": "2023-09-14T18:41:40.869Z"
   },
   {
    "duration": 1386,
    "start_time": "2023-09-14T18:41:41.661Z"
   },
   {
    "duration": 0,
    "start_time": "2023-09-14T18:41:43.049Z"
   },
   {
    "duration": 857,
    "start_time": "2023-09-14T18:42:17.369Z"
   },
   {
    "duration": 3,
    "start_time": "2023-09-14T18:42:19.563Z"
   },
   {
    "duration": 3,
    "start_time": "2023-09-14T18:42:35.423Z"
   },
   {
    "duration": 4,
    "start_time": "2023-09-14T18:42:36.023Z"
   },
   {
    "duration": 9,
    "start_time": "2023-09-14T18:42:37.333Z"
   },
   {
    "duration": 3,
    "start_time": "2023-09-14T18:42:53.201Z"
   },
   {
    "duration": 8,
    "start_time": "2023-09-14T18:42:53.205Z"
   },
   {
    "duration": 22,
    "start_time": "2023-09-14T18:42:53.214Z"
   },
   {
    "duration": 18,
    "start_time": "2023-09-14T18:42:53.238Z"
   },
   {
    "duration": 11,
    "start_time": "2023-09-14T18:42:53.258Z"
   },
   {
    "duration": 37,
    "start_time": "2023-09-14T18:42:53.270Z"
   },
   {
    "duration": 26,
    "start_time": "2023-09-14T18:42:53.308Z"
   },
   {
    "duration": 14,
    "start_time": "2023-09-14T18:42:53.335Z"
   },
   {
    "duration": 16,
    "start_time": "2023-09-14T18:42:53.351Z"
   },
   {
    "duration": 6,
    "start_time": "2023-09-14T18:42:53.368Z"
   },
   {
    "duration": 10,
    "start_time": "2023-09-14T18:42:53.375Z"
   },
   {
    "duration": 15,
    "start_time": "2023-09-14T18:42:53.386Z"
   },
   {
    "duration": 16,
    "start_time": "2023-09-14T18:42:53.403Z"
   },
   {
    "duration": 26,
    "start_time": "2023-09-14T18:42:53.421Z"
   },
   {
    "duration": 14,
    "start_time": "2023-09-14T18:42:53.449Z"
   },
   {
    "duration": 11,
    "start_time": "2023-09-14T18:42:53.464Z"
   },
   {
    "duration": 7,
    "start_time": "2023-09-14T18:42:53.476Z"
   },
   {
    "duration": 11,
    "start_time": "2023-09-14T18:42:53.484Z"
   },
   {
    "duration": 9,
    "start_time": "2023-09-14T18:42:53.497Z"
   },
   {
    "duration": 4,
    "start_time": "2023-09-14T18:42:53.508Z"
   },
   {
    "duration": 17,
    "start_time": "2023-09-14T18:42:53.513Z"
   },
   {
    "duration": 13,
    "start_time": "2023-09-14T18:42:53.531Z"
   },
   {
    "duration": 5,
    "start_time": "2023-09-14T18:42:53.545Z"
   },
   {
    "duration": 4,
    "start_time": "2023-09-14T18:42:53.551Z"
   },
   {
    "duration": 137,
    "start_time": "2023-09-14T18:42:53.557Z"
   },
   {
    "duration": 113,
    "start_time": "2023-09-14T18:42:53.696Z"
   },
   {
    "duration": 180,
    "start_time": "2023-09-14T18:42:53.810Z"
   },
   {
    "duration": 184,
    "start_time": "2023-09-14T18:42:53.992Z"
   },
   {
    "duration": 106,
    "start_time": "2023-09-14T18:42:54.177Z"
   },
   {
    "duration": 175,
    "start_time": "2023-09-14T18:42:54.284Z"
   },
   {
    "duration": 136,
    "start_time": "2023-09-14T18:42:54.461Z"
   },
   {
    "duration": 12,
    "start_time": "2023-09-14T18:42:54.599Z"
   },
   {
    "duration": 17,
    "start_time": "2023-09-14T18:42:54.613Z"
   },
   {
    "duration": 29,
    "start_time": "2023-09-14T18:42:54.633Z"
   },
   {
    "duration": 23,
    "start_time": "2023-09-14T18:42:54.664Z"
   },
   {
    "duration": 18,
    "start_time": "2023-09-14T18:42:54.689Z"
   },
   {
    "duration": 106,
    "start_time": "2023-09-14T18:42:54.709Z"
   },
   {
    "duration": 174,
    "start_time": "2023-09-14T18:42:54.817Z"
   },
   {
    "duration": 107,
    "start_time": "2023-09-14T18:42:54.993Z"
   },
   {
    "duration": 98,
    "start_time": "2023-09-14T18:42:55.101Z"
   },
   {
    "duration": 782,
    "start_time": "2023-09-14T18:42:55.202Z"
   },
   {
    "duration": 3,
    "start_time": "2023-09-14T18:42:55.986Z"
   },
   {
    "duration": 9,
    "start_time": "2023-09-14T18:42:55.990Z"
   },
   {
    "duration": 27,
    "start_time": "2023-09-14T18:42:56.000Z"
   },
   {
    "duration": 767,
    "start_time": "2023-09-14T18:43:38.205Z"
   },
   {
    "duration": 3,
    "start_time": "2023-09-14T18:43:38.974Z"
   },
   {
    "duration": 4,
    "start_time": "2023-09-14T18:43:39.096Z"
   },
   {
    "duration": 9,
    "start_time": "2023-09-14T18:43:39.563Z"
   },
   {
    "duration": 9,
    "start_time": "2023-09-14T18:43:44.180Z"
   },
   {
    "duration": 4,
    "start_time": "2023-09-14T18:44:27.163Z"
   },
   {
    "duration": 4,
    "start_time": "2023-09-14T18:44:27.532Z"
   },
   {
    "duration": 11,
    "start_time": "2023-09-14T18:44:27.867Z"
   },
   {
    "duration": 4,
    "start_time": "2023-09-14T18:45:18.302Z"
   },
   {
    "duration": 126,
    "start_time": "2023-09-14T18:45:45.956Z"
   },
   {
    "duration": 6,
    "start_time": "2023-09-14T18:45:46.622Z"
   },
   {
    "duration": 3,
    "start_time": "2023-09-14T18:47:07.504Z"
   },
   {
    "duration": 124,
    "start_time": "2023-09-14T18:47:08.051Z"
   },
   {
    "duration": 6,
    "start_time": "2023-09-14T18:47:08.399Z"
   },
   {
    "duration": 9,
    "start_time": "2023-09-14T18:48:46.244Z"
   },
   {
    "duration": 9,
    "start_time": "2023-09-14T18:49:26.067Z"
   },
   {
    "duration": 9,
    "start_time": "2023-09-14T18:49:28.262Z"
   },
   {
    "duration": 5,
    "start_time": "2023-09-14T18:49:42.586Z"
   },
   {
    "duration": 8,
    "start_time": "2023-09-14T18:49:53.862Z"
   },
   {
    "duration": 13,
    "start_time": "2023-09-14T18:50:03.079Z"
   },
   {
    "duration": 12,
    "start_time": "2023-09-14T18:50:52.151Z"
   },
   {
    "duration": 1410,
    "start_time": "2023-09-14T18:51:06.454Z"
   },
   {
    "duration": 47,
    "start_time": "2023-09-17T20:23:01.788Z"
   },
   {
    "duration": 1502,
    "start_time": "2023-09-17T20:23:13.694Z"
   },
   {
    "duration": 64,
    "start_time": "2023-09-17T20:23:19.447Z"
   },
   {
    "duration": 11,
    "start_time": "2023-09-17T20:25:58.792Z"
   },
   {
    "duration": 3,
    "start_time": "2023-09-17T20:26:02.631Z"
   },
   {
    "duration": 17,
    "start_time": "2023-09-17T20:26:02.636Z"
   },
   {
    "duration": 20,
    "start_time": "2023-09-17T20:26:02.654Z"
   },
   {
    "duration": 14,
    "start_time": "2023-09-17T20:26:02.676Z"
   },
   {
    "duration": 60,
    "start_time": "2023-09-17T20:26:02.692Z"
   },
   {
    "duration": 101,
    "start_time": "2023-09-17T20:26:02.754Z"
   },
   {
    "duration": 73,
    "start_time": "2023-09-17T20:26:02.857Z"
   },
   {
    "duration": 51,
    "start_time": "2023-09-17T20:26:02.932Z"
   },
   {
    "duration": 27,
    "start_time": "2023-09-17T20:26:02.984Z"
   },
   {
    "duration": 12,
    "start_time": "2023-09-17T20:26:03.012Z"
   },
   {
    "duration": 13,
    "start_time": "2023-09-17T20:26:03.025Z"
   },
   {
    "duration": 22,
    "start_time": "2023-09-17T20:26:03.039Z"
   },
   {
    "duration": 27,
    "start_time": "2023-09-17T20:26:03.063Z"
   },
   {
    "duration": 35,
    "start_time": "2023-09-17T20:26:03.094Z"
   },
   {
    "duration": 27,
    "start_time": "2023-09-17T20:26:03.131Z"
   },
   {
    "duration": 27,
    "start_time": "2023-09-17T20:26:03.160Z"
   },
   {
    "duration": 44,
    "start_time": "2023-09-17T20:26:03.189Z"
   },
   {
    "duration": 33,
    "start_time": "2023-09-17T20:26:03.235Z"
   },
   {
    "duration": 36,
    "start_time": "2023-09-17T20:26:03.270Z"
   },
   {
    "duration": 15,
    "start_time": "2023-09-17T20:26:03.308Z"
   },
   {
    "duration": 16,
    "start_time": "2023-09-17T20:26:03.324Z"
   },
   {
    "duration": 48,
    "start_time": "2023-09-17T20:26:03.342Z"
   },
   {
    "duration": 22,
    "start_time": "2023-09-17T20:26:03.392Z"
   },
   {
    "duration": 33,
    "start_time": "2023-09-17T20:26:03.416Z"
   },
   {
    "duration": 183,
    "start_time": "2023-09-17T20:26:03.451Z"
   },
   {
    "duration": 98,
    "start_time": "2023-09-17T20:26:03.636Z"
   },
   {
    "duration": 178,
    "start_time": "2023-09-17T20:26:03.736Z"
   },
   {
    "duration": 205,
    "start_time": "2023-09-17T20:26:03.916Z"
   },
   {
    "duration": 132,
    "start_time": "2023-09-17T20:26:04.122Z"
   },
   {
    "duration": 204,
    "start_time": "2023-09-17T20:26:04.256Z"
   },
   {
    "duration": 119,
    "start_time": "2023-09-17T20:26:04.462Z"
   },
   {
    "duration": 31,
    "start_time": "2023-09-17T20:26:04.583Z"
   },
   {
    "duration": 31,
    "start_time": "2023-09-17T20:26:04.617Z"
   },
   {
    "duration": 31,
    "start_time": "2023-09-17T20:26:04.650Z"
   },
   {
    "duration": 30,
    "start_time": "2023-09-17T20:26:04.684Z"
   },
   {
    "duration": 24,
    "start_time": "2023-09-17T20:26:04.716Z"
   },
   {
    "duration": 132,
    "start_time": "2023-09-17T20:26:04.742Z"
   },
   {
    "duration": 107,
    "start_time": "2023-09-17T20:26:04.875Z"
   },
   {
    "duration": 199,
    "start_time": "2023-09-17T20:26:04.983Z"
   },
   {
    "duration": 127,
    "start_time": "2023-09-17T20:26:05.184Z"
   },
   {
    "duration": 860,
    "start_time": "2023-09-17T20:26:05.315Z"
   },
   {
    "duration": 4,
    "start_time": "2023-09-17T20:26:06.177Z"
   },
   {
    "duration": 20,
    "start_time": "2023-09-17T20:26:06.183Z"
   },
   {
    "duration": 23,
    "start_time": "2023-09-17T20:26:06.204Z"
   },
   {
    "duration": 8,
    "start_time": "2023-09-17T20:26:06.229Z"
   },
   {
    "duration": 163,
    "start_time": "2023-09-17T20:26:06.239Z"
   },
   {
    "duration": 7,
    "start_time": "2023-09-17T20:26:06.404Z"
   },
   {
    "duration": 14,
    "start_time": "2023-09-17T20:26:06.413Z"
   },
   {
    "duration": 0,
    "start_time": "2023-09-17T20:26:06.430Z"
   },
   {
    "duration": 0,
    "start_time": "2023-09-17T20:26:06.431Z"
   },
   {
    "duration": 11,
    "start_time": "2023-09-17T20:26:23.792Z"
   },
   {
    "duration": 3,
    "start_time": "2023-09-17T20:27:53.876Z"
   },
   {
    "duration": 22,
    "start_time": "2023-09-17T20:27:53.881Z"
   },
   {
    "duration": 15,
    "start_time": "2023-09-17T20:27:53.904Z"
   },
   {
    "duration": 19,
    "start_time": "2023-09-17T20:27:53.921Z"
   },
   {
    "duration": 27,
    "start_time": "2023-09-17T20:27:53.942Z"
   },
   {
    "duration": 47,
    "start_time": "2023-09-17T20:27:53.971Z"
   },
   {
    "duration": 26,
    "start_time": "2023-09-17T20:27:54.020Z"
   },
   {
    "duration": 95,
    "start_time": "2023-09-17T20:27:54.048Z"
   },
   {
    "duration": 48,
    "start_time": "2023-09-17T20:27:54.144Z"
   },
   {
    "duration": 17,
    "start_time": "2023-09-17T20:27:54.194Z"
   },
   {
    "duration": 27,
    "start_time": "2023-09-17T20:27:54.213Z"
   },
   {
    "duration": 75,
    "start_time": "2023-09-17T20:27:54.242Z"
   },
   {
    "duration": 37,
    "start_time": "2023-09-17T20:27:54.319Z"
   },
   {
    "duration": 49,
    "start_time": "2023-09-17T20:27:54.357Z"
   },
   {
    "duration": 35,
    "start_time": "2023-09-17T20:27:54.407Z"
   },
   {
    "duration": 29,
    "start_time": "2023-09-17T20:27:54.443Z"
   },
   {
    "duration": 21,
    "start_time": "2023-09-17T20:27:54.475Z"
   },
   {
    "duration": 43,
    "start_time": "2023-09-17T20:27:54.498Z"
   },
   {
    "duration": 31,
    "start_time": "2023-09-17T20:27:54.544Z"
   },
   {
    "duration": 32,
    "start_time": "2023-09-17T20:27:54.578Z"
   },
   {
    "duration": 38,
    "start_time": "2023-09-17T20:27:54.612Z"
   },
   {
    "duration": 157,
    "start_time": "2023-09-17T20:27:54.653Z"
   },
   {
    "duration": 27,
    "start_time": "2023-09-17T20:27:54.812Z"
   },
   {
    "duration": 39,
    "start_time": "2023-09-17T20:27:54.841Z"
   },
   {
    "duration": 147,
    "start_time": "2023-09-17T20:27:54.882Z"
   },
   {
    "duration": 100,
    "start_time": "2023-09-17T20:27:55.030Z"
   },
   {
    "duration": 180,
    "start_time": "2023-09-17T20:27:55.132Z"
   },
   {
    "duration": 196,
    "start_time": "2023-09-17T20:27:55.314Z"
   },
   {
    "duration": 139,
    "start_time": "2023-09-17T20:27:55.513Z"
   },
   {
    "duration": 202,
    "start_time": "2023-09-17T20:27:55.654Z"
   },
   {
    "duration": 121,
    "start_time": "2023-09-17T20:27:55.858Z"
   },
   {
    "duration": 24,
    "start_time": "2023-09-17T20:27:55.981Z"
   },
   {
    "duration": 10,
    "start_time": "2023-09-17T20:27:56.007Z"
   },
   {
    "duration": 53,
    "start_time": "2023-09-17T20:27:56.019Z"
   },
   {
    "duration": 15,
    "start_time": "2023-09-17T20:27:56.073Z"
   },
   {
    "duration": 15,
    "start_time": "2023-09-17T20:27:56.089Z"
   },
   {
    "duration": 198,
    "start_time": "2023-09-17T20:27:56.106Z"
   },
   {
    "duration": 107,
    "start_time": "2023-09-17T20:27:56.305Z"
   },
   {
    "duration": 124,
    "start_time": "2023-09-17T20:27:56.414Z"
   },
   {
    "duration": 119,
    "start_time": "2023-09-17T20:27:56.539Z"
   },
   {
    "duration": 833,
    "start_time": "2023-09-17T20:27:56.660Z"
   },
   {
    "duration": 7,
    "start_time": "2023-09-17T20:27:57.495Z"
   },
   {
    "duration": 70,
    "start_time": "2023-09-17T20:27:57.504Z"
   },
   {
    "duration": 37,
    "start_time": "2023-09-17T20:27:57.576Z"
   },
   {
    "duration": 21,
    "start_time": "2023-09-17T20:27:57.614Z"
   },
   {
    "duration": 178,
    "start_time": "2023-09-17T20:27:57.636Z"
   },
   {
    "duration": 6,
    "start_time": "2023-09-17T20:27:57.816Z"
   },
   {
    "duration": 32,
    "start_time": "2023-09-17T20:27:57.824Z"
   },
   {
    "duration": 0,
    "start_time": "2023-09-17T20:27:57.857Z"
   },
   {
    "duration": 0,
    "start_time": "2023-09-17T20:27:57.858Z"
   },
   {
    "duration": 881,
    "start_time": "2023-09-17T20:29:59.785Z"
   },
   {
    "duration": 4,
    "start_time": "2023-09-17T20:30:05.687Z"
   },
   {
    "duration": 903,
    "start_time": "2023-09-17T20:30:32.223Z"
   },
   {
    "duration": 4,
    "start_time": "2023-09-17T20:30:33.127Z"
   },
   {
    "duration": 10,
    "start_time": "2023-09-17T20:31:05.084Z"
   },
   {
    "duration": 4,
    "start_time": "2023-09-17T20:31:10.885Z"
   },
   {
    "duration": 12,
    "start_time": "2023-09-17T20:31:11.247Z"
   },
   {
    "duration": 3,
    "start_time": "2023-09-17T20:31:29.185Z"
   },
   {
    "duration": 137,
    "start_time": "2023-09-17T20:31:29.787Z"
   },
   {
    "duration": 3,
    "start_time": "2023-09-17T20:44:45.445Z"
   },
   {
    "duration": 134,
    "start_time": "2023-09-17T20:44:47.231Z"
   },
   {
    "duration": 7,
    "start_time": "2023-09-17T20:44:47.789Z"
   },
   {
    "duration": 8,
    "start_time": "2023-09-17T20:45:25.093Z"
   },
   {
    "duration": 14,
    "start_time": "2023-09-17T20:45:33.640Z"
   },
   {
    "duration": 828,
    "start_time": "2023-09-17T20:45:57.841Z"
   },
   {
    "duration": 4,
    "start_time": "2023-09-17T20:45:58.670Z"
   },
   {
    "duration": 4,
    "start_time": "2023-09-17T20:45:58.847Z"
   },
   {
    "duration": 13,
    "start_time": "2023-09-17T20:45:59.731Z"
   },
   {
    "duration": 4,
    "start_time": "2023-09-17T20:46:03.000Z"
   },
   {
    "duration": 139,
    "start_time": "2023-09-17T20:46:03.005Z"
   },
   {
    "duration": 6,
    "start_time": "2023-09-17T20:46:03.393Z"
   },
   {
    "duration": 14,
    "start_time": "2023-09-17T20:47:11.222Z"
   },
   {
    "duration": 3,
    "start_time": "2023-09-17T20:47:24.445Z"
   },
   {
    "duration": 137,
    "start_time": "2023-09-17T20:47:24.852Z"
   },
   {
    "duration": 10,
    "start_time": "2023-09-17T20:47:37.745Z"
   },
   {
    "duration": 16,
    "start_time": "2023-09-17T20:47:44.604Z"
   },
   {
    "duration": 82,
    "start_time": "2023-09-17T20:51:33.485Z"
   },
   {
    "duration": 5,
    "start_time": "2023-09-17T20:54:17.058Z"
   },
   {
    "duration": 13,
    "start_time": "2023-09-17T20:54:19.086Z"
   },
   {
    "duration": 2,
    "start_time": "2023-09-17T20:54:26.507Z"
   },
   {
    "duration": 23,
    "start_time": "2023-09-17T20:54:26.511Z"
   },
   {
    "duration": 12,
    "start_time": "2023-09-17T20:54:26.536Z"
   },
   {
    "duration": 13,
    "start_time": "2023-09-17T20:54:26.550Z"
   },
   {
    "duration": 18,
    "start_time": "2023-09-17T20:54:26.564Z"
   },
   {
    "duration": 44,
    "start_time": "2023-09-17T20:54:26.584Z"
   },
   {
    "duration": 28,
    "start_time": "2023-09-17T20:54:26.630Z"
   },
   {
    "duration": 16,
    "start_time": "2023-09-17T20:54:26.659Z"
   },
   {
    "duration": 18,
    "start_time": "2023-09-17T20:54:26.677Z"
   },
   {
    "duration": 7,
    "start_time": "2023-09-17T20:54:26.697Z"
   },
   {
    "duration": 5,
    "start_time": "2023-09-17T20:54:26.706Z"
   },
   {
    "duration": 13,
    "start_time": "2023-09-17T20:54:26.712Z"
   },
   {
    "duration": 23,
    "start_time": "2023-09-17T20:54:26.727Z"
   },
   {
    "duration": 22,
    "start_time": "2023-09-17T20:54:26.751Z"
   },
   {
    "duration": 41,
    "start_time": "2023-09-17T20:54:26.774Z"
   },
   {
    "duration": 59,
    "start_time": "2023-09-17T20:54:26.817Z"
   },
   {
    "duration": 16,
    "start_time": "2023-09-17T20:54:26.878Z"
   },
   {
    "duration": 14,
    "start_time": "2023-09-17T20:54:26.896Z"
   },
   {
    "duration": 17,
    "start_time": "2023-09-17T20:54:26.912Z"
   },
   {
    "duration": 8,
    "start_time": "2023-09-17T20:54:26.930Z"
   },
   {
    "duration": 15,
    "start_time": "2023-09-17T20:54:26.939Z"
   },
   {
    "duration": 8,
    "start_time": "2023-09-17T20:54:26.955Z"
   },
   {
    "duration": 8,
    "start_time": "2023-09-17T20:54:26.964Z"
   },
   {
    "duration": 15,
    "start_time": "2023-09-17T20:54:26.975Z"
   },
   {
    "duration": 133,
    "start_time": "2023-09-17T20:54:26.991Z"
   },
   {
    "duration": 92,
    "start_time": "2023-09-17T20:54:27.125Z"
   },
   {
    "duration": 176,
    "start_time": "2023-09-17T20:54:27.219Z"
   },
   {
    "duration": 264,
    "start_time": "2023-09-17T20:54:27.397Z"
   },
   {
    "duration": 110,
    "start_time": "2023-09-17T20:54:27.662Z"
   },
   {
    "duration": 188,
    "start_time": "2023-09-17T20:54:27.774Z"
   },
   {
    "duration": 119,
    "start_time": "2023-09-17T20:54:27.964Z"
   },
   {
    "duration": 19,
    "start_time": "2023-09-17T20:54:28.084Z"
   },
   {
    "duration": 9,
    "start_time": "2023-09-17T20:54:28.105Z"
   },
   {
    "duration": 13,
    "start_time": "2023-09-17T20:54:28.116Z"
   },
   {
    "duration": 11,
    "start_time": "2023-09-17T20:54:28.130Z"
   },
   {
    "duration": 11,
    "start_time": "2023-09-17T20:54:28.143Z"
   },
   {
    "duration": 131,
    "start_time": "2023-09-17T20:54:28.155Z"
   },
   {
    "duration": 103,
    "start_time": "2023-09-17T20:54:28.288Z"
   },
   {
    "duration": 123,
    "start_time": "2023-09-17T20:54:28.401Z"
   },
   {
    "duration": 130,
    "start_time": "2023-09-17T20:54:28.526Z"
   },
   {
    "duration": 844,
    "start_time": "2023-09-17T20:54:28.658Z"
   },
   {
    "duration": 4,
    "start_time": "2023-09-17T20:54:29.503Z"
   },
   {
    "duration": 11,
    "start_time": "2023-09-17T20:54:29.509Z"
   },
   {
    "duration": 45,
    "start_time": "2023-09-17T20:54:29.521Z"
   },
   {
    "duration": 11,
    "start_time": "2023-09-17T20:54:29.567Z"
   },
   {
    "duration": 11,
    "start_time": "2023-09-17T20:54:29.580Z"
   },
   {
    "duration": 152,
    "start_time": "2023-09-17T20:54:29.593Z"
   },
   {
    "duration": 6,
    "start_time": "2023-09-17T20:54:29.747Z"
   },
   {
    "duration": 16,
    "start_time": "2023-09-17T20:54:29.755Z"
   },
   {
    "duration": 5,
    "start_time": "2023-09-17T20:54:29.773Z"
   },
   {
    "duration": 32,
    "start_time": "2023-09-17T20:54:29.779Z"
   },
   {
    "duration": 13,
    "start_time": "2023-09-17T20:55:07.342Z"
   },
   {
    "duration": 13,
    "start_time": "2023-09-17T20:55:13.983Z"
   },
   {
    "duration": 1249,
    "start_time": "2023-09-17T20:55:36.385Z"
   },
   {
    "duration": 1180,
    "start_time": "2023-09-17T20:55:45.725Z"
   },
   {
    "duration": 1377,
    "start_time": "2023-09-17T20:56:04.489Z"
   },
   {
    "duration": 1225,
    "start_time": "2023-09-17T20:56:16.911Z"
   },
   {
    "duration": 1127,
    "start_time": "2023-09-17T20:56:20.322Z"
   },
   {
    "duration": 6,
    "start_time": "2023-09-17T20:56:55.492Z"
   },
   {
    "duration": 11,
    "start_time": "2023-09-17T20:57:03.088Z"
   },
   {
    "duration": 9,
    "start_time": "2023-09-17T20:57:13.577Z"
   },
   {
    "duration": 7,
    "start_time": "2023-09-17T20:57:30.295Z"
   },
   {
    "duration": 15,
    "start_time": "2023-09-17T20:57:51.719Z"
   },
   {
    "duration": 13,
    "start_time": "2023-09-17T20:58:07.186Z"
   },
   {
    "duration": 13,
    "start_time": "2023-09-17T21:16:43.747Z"
   },
   {
    "duration": 154,
    "start_time": "2023-09-17T21:17:19.552Z"
   },
   {
    "duration": 3,
    "start_time": "2023-09-17T21:17:20.543Z"
   },
   {
    "duration": 4,
    "start_time": "2023-09-17T21:17:20.896Z"
   },
   {
    "duration": 11,
    "start_time": "2023-09-17T21:17:21.151Z"
   },
   {
    "duration": 11,
    "start_time": "2023-09-17T21:17:28.442Z"
   },
   {
    "duration": 11,
    "start_time": "2023-09-17T21:17:30.313Z"
   },
   {
    "duration": 850,
    "start_time": "2023-09-17T21:18:00.103Z"
   },
   {
    "duration": 3,
    "start_time": "2023-09-17T21:18:00.955Z"
   },
   {
    "duration": 73,
    "start_time": "2023-09-17T21:18:00.959Z"
   },
   {
    "duration": 14,
    "start_time": "2023-09-17T21:18:01.502Z"
   },
   {
    "duration": 13,
    "start_time": "2023-09-17T21:18:04.995Z"
   },
   {
    "duration": 3,
    "start_time": "2023-09-17T21:18:05.886Z"
   },
   {
    "duration": 139,
    "start_time": "2023-09-17T21:18:06.685Z"
   },
   {
    "duration": 7,
    "start_time": "2023-09-17T21:18:07.136Z"
   },
   {
    "duration": 14,
    "start_time": "2023-09-17T21:18:10.421Z"
   },
   {
    "duration": 7,
    "start_time": "2023-09-17T21:18:21.381Z"
   },
   {
    "duration": 14,
    "start_time": "2023-09-17T21:18:23.316Z"
   },
   {
    "duration": 1385,
    "start_time": "2023-09-17T21:20:20.282Z"
   },
   {
    "duration": 9,
    "start_time": "2023-09-17T21:20:35.979Z"
   },
   {
    "duration": 244,
    "start_time": "2023-09-17T21:20:48.773Z"
   },
   {
    "duration": 197,
    "start_time": "2023-09-17T21:21:03.734Z"
   },
   {
    "duration": 177,
    "start_time": "2023-09-17T21:21:13.514Z"
   },
   {
    "duration": 9,
    "start_time": "2023-09-17T21:22:42.578Z"
   },
   {
    "duration": 8,
    "start_time": "2023-09-17T21:22:59.604Z"
   },
   {
    "duration": 836,
    "start_time": "2023-09-17T21:23:51.877Z"
   },
   {
    "duration": 4,
    "start_time": "2023-09-17T21:23:53.140Z"
   },
   {
    "duration": 4,
    "start_time": "2023-09-17T21:23:53.522Z"
   },
   {
    "duration": 12,
    "start_time": "2023-09-17T21:23:54.105Z"
   },
   {
    "duration": 12,
    "start_time": "2023-09-17T21:23:57.578Z"
   },
   {
    "duration": 4,
    "start_time": "2023-09-17T21:23:58.676Z"
   },
   {
    "duration": 133,
    "start_time": "2023-09-17T21:24:00.784Z"
   },
   {
    "duration": 6,
    "start_time": "2023-09-17T21:24:01.182Z"
   },
   {
    "duration": 13,
    "start_time": "2023-09-17T21:24:03.160Z"
   },
   {
    "duration": 5,
    "start_time": "2023-09-17T21:24:07.151Z"
   },
   {
    "duration": 1239,
    "start_time": "2023-09-17T21:24:08.821Z"
   },
   {
    "duration": 254,
    "start_time": "2023-09-17T21:24:23.035Z"
   },
   {
    "duration": 1336,
    "start_time": "2023-09-17T21:24:38.840Z"
   },
   {
    "duration": 11,
    "start_time": "2023-09-17T21:26:39.960Z"
   },
   {
    "duration": 4,
    "start_time": "2023-09-17T21:27:05.217Z"
   },
   {
    "duration": 97,
    "start_time": "2023-09-17T21:28:07.027Z"
   },
   {
    "duration": 8,
    "start_time": "2023-09-17T21:28:50.675Z"
   },
   {
    "duration": 89,
    "start_time": "2023-09-18T11:34:54.041Z"
   },
   {
    "duration": 5,
    "start_time": "2023-09-18T11:34:57.884Z"
   },
   {
    "duration": 399,
    "start_time": "2023-09-18T11:35:01.273Z"
   },
   {
    "duration": 1580,
    "start_time": "2023-09-18T11:35:01.674Z"
   },
   {
    "duration": 532,
    "start_time": "2023-09-18T11:35:03.258Z"
   },
   {
    "duration": 2,
    "start_time": "2023-09-18T11:35:03.792Z"
   },
   {
    "duration": 38,
    "start_time": "2023-09-18T11:35:03.796Z"
   },
   {
    "duration": 133,
    "start_time": "2023-09-18T11:35:03.836Z"
   },
   {
    "duration": 0,
    "start_time": "2023-09-18T11:35:03.972Z"
   },
   {
    "duration": 0,
    "start_time": "2023-09-18T11:35:03.974Z"
   },
   {
    "duration": 0,
    "start_time": "2023-09-18T11:35:03.975Z"
   },
   {
    "duration": 0,
    "start_time": "2023-09-18T11:35:03.977Z"
   },
   {
    "duration": 0,
    "start_time": "2023-09-18T11:35:03.979Z"
   },
   {
    "duration": 0,
    "start_time": "2023-09-18T11:35:03.980Z"
   },
   {
    "duration": 0,
    "start_time": "2023-09-18T11:35:03.982Z"
   },
   {
    "duration": 0,
    "start_time": "2023-09-18T11:35:03.983Z"
   },
   {
    "duration": 0,
    "start_time": "2023-09-18T11:35:03.985Z"
   },
   {
    "duration": 0,
    "start_time": "2023-09-18T11:35:03.986Z"
   },
   {
    "duration": 0,
    "start_time": "2023-09-18T11:35:03.988Z"
   },
   {
    "duration": 0,
    "start_time": "2023-09-18T11:35:03.990Z"
   },
   {
    "duration": 0,
    "start_time": "2023-09-18T11:35:03.992Z"
   },
   {
    "duration": 0,
    "start_time": "2023-09-18T11:35:03.993Z"
   },
   {
    "duration": 0,
    "start_time": "2023-09-18T11:35:03.994Z"
   },
   {
    "duration": 0,
    "start_time": "2023-09-18T11:35:03.995Z"
   },
   {
    "duration": 0,
    "start_time": "2023-09-18T11:35:03.997Z"
   },
   {
    "duration": 0,
    "start_time": "2023-09-18T11:35:03.998Z"
   },
   {
    "duration": 0,
    "start_time": "2023-09-18T11:35:03.999Z"
   },
   {
    "duration": 0,
    "start_time": "2023-09-18T11:35:04.001Z"
   },
   {
    "duration": 0,
    "start_time": "2023-09-18T11:35:04.002Z"
   },
   {
    "duration": 0,
    "start_time": "2023-09-18T11:35:04.004Z"
   },
   {
    "duration": 0,
    "start_time": "2023-09-18T11:35:04.006Z"
   },
   {
    "duration": 0,
    "start_time": "2023-09-18T11:35:04.007Z"
   },
   {
    "duration": 0,
    "start_time": "2023-09-18T11:35:04.008Z"
   },
   {
    "duration": 0,
    "start_time": "2023-09-18T11:35:04.044Z"
   },
   {
    "duration": 0,
    "start_time": "2023-09-18T11:35:04.045Z"
   },
   {
    "duration": 0,
    "start_time": "2023-09-18T11:35:04.045Z"
   },
   {
    "duration": 0,
    "start_time": "2023-09-18T11:35:04.046Z"
   },
   {
    "duration": 0,
    "start_time": "2023-09-18T11:35:04.046Z"
   },
   {
    "duration": 0,
    "start_time": "2023-09-18T11:35:04.047Z"
   },
   {
    "duration": 0,
    "start_time": "2023-09-18T11:35:04.051Z"
   },
   {
    "duration": 0,
    "start_time": "2023-09-18T11:35:04.052Z"
   },
   {
    "duration": 0,
    "start_time": "2023-09-18T11:35:04.053Z"
   },
   {
    "duration": 0,
    "start_time": "2023-09-18T11:35:04.054Z"
   },
   {
    "duration": 0,
    "start_time": "2023-09-18T11:35:04.054Z"
   },
   {
    "duration": 0,
    "start_time": "2023-09-18T11:35:04.055Z"
   },
   {
    "duration": 0,
    "start_time": "2023-09-18T11:35:04.058Z"
   },
   {
    "duration": 0,
    "start_time": "2023-09-18T11:35:04.059Z"
   },
   {
    "duration": 0,
    "start_time": "2023-09-18T11:35:04.060Z"
   },
   {
    "duration": 0,
    "start_time": "2023-09-18T11:35:04.061Z"
   },
   {
    "duration": 0,
    "start_time": "2023-09-18T11:35:04.062Z"
   },
   {
    "duration": 0,
    "start_time": "2023-09-18T11:35:04.063Z"
   },
   {
    "duration": 0,
    "start_time": "2023-09-18T11:35:04.064Z"
   },
   {
    "duration": 0,
    "start_time": "2023-09-18T11:35:04.064Z"
   },
   {
    "duration": 0,
    "start_time": "2023-09-18T11:35:04.065Z"
   },
   {
    "duration": 0,
    "start_time": "2023-09-18T11:35:04.066Z"
   },
   {
    "duration": 117,
    "start_time": "2023-09-18T11:35:14.582Z"
   },
   {
    "duration": 269,
    "start_time": "2023-09-18T11:35:15.000Z"
   },
   {
    "duration": 56,
    "start_time": "2023-09-18T11:35:15.373Z"
   },
   {
    "duration": 21,
    "start_time": "2023-09-18T11:35:16.906Z"
   },
   {
    "duration": 4,
    "start_time": "2023-09-18T11:37:20.776Z"
   },
   {
    "duration": 18,
    "start_time": "2023-09-18T11:37:20.782Z"
   },
   {
    "duration": 21,
    "start_time": "2023-09-18T11:37:20.802Z"
   },
   {
    "duration": 23,
    "start_time": "2023-09-18T11:37:20.825Z"
   },
   {
    "duration": 27,
    "start_time": "2023-09-18T11:37:20.850Z"
   },
   {
    "duration": 42,
    "start_time": "2023-09-18T11:37:20.879Z"
   },
   {
    "duration": 40,
    "start_time": "2023-09-18T11:37:20.922Z"
   },
   {
    "duration": 26,
    "start_time": "2023-09-18T11:37:20.963Z"
   },
   {
    "duration": 22,
    "start_time": "2023-09-18T11:37:20.991Z"
   },
   {
    "duration": 14,
    "start_time": "2023-09-18T11:37:21.014Z"
   },
   {
    "duration": 47,
    "start_time": "2023-09-18T11:37:21.030Z"
   },
   {
    "duration": 37,
    "start_time": "2023-09-18T11:37:21.081Z"
   },
   {
    "duration": 60,
    "start_time": "2023-09-18T11:37:21.120Z"
   },
   {
    "duration": 22,
    "start_time": "2023-09-18T11:37:21.184Z"
   },
   {
    "duration": 17,
    "start_time": "2023-09-18T11:37:21.207Z"
   },
   {
    "duration": 27,
    "start_time": "2023-09-18T11:37:21.225Z"
   },
   {
    "duration": 20,
    "start_time": "2023-09-18T11:37:21.254Z"
   },
   {
    "duration": 50,
    "start_time": "2023-09-18T11:37:21.275Z"
   },
   {
    "duration": 34,
    "start_time": "2023-09-18T11:37:21.327Z"
   },
   {
    "duration": 27,
    "start_time": "2023-09-18T11:37:21.363Z"
   },
   {
    "duration": 22,
    "start_time": "2023-09-18T11:37:21.394Z"
   },
   {
    "duration": 45,
    "start_time": "2023-09-18T11:37:21.417Z"
   },
   {
    "duration": 37,
    "start_time": "2023-09-18T11:37:21.464Z"
   },
   {
    "duration": 55,
    "start_time": "2023-09-18T11:37:21.503Z"
   },
   {
    "duration": 192,
    "start_time": "2023-09-18T11:37:21.561Z"
   },
   {
    "duration": 151,
    "start_time": "2023-09-18T11:37:21.755Z"
   },
   {
    "duration": 291,
    "start_time": "2023-09-18T11:37:21.907Z"
   },
   {
    "duration": 240,
    "start_time": "2023-09-18T11:37:22.201Z"
   },
   {
    "duration": 115,
    "start_time": "2023-09-18T11:37:22.454Z"
   },
   {
    "duration": 215,
    "start_time": "2023-09-18T11:37:22.570Z"
   },
   {
    "duration": 121,
    "start_time": "2023-09-18T11:37:22.792Z"
   },
   {
    "duration": 9,
    "start_time": "2023-09-18T11:37:22.915Z"
   },
   {
    "duration": 50,
    "start_time": "2023-09-18T11:37:22.926Z"
   },
   {
    "duration": 15,
    "start_time": "2023-09-18T11:37:22.983Z"
   },
   {
    "duration": 42,
    "start_time": "2023-09-18T11:37:23.000Z"
   },
   {
    "duration": 17,
    "start_time": "2023-09-18T11:37:23.048Z"
   },
   {
    "duration": 135,
    "start_time": "2023-09-18T11:37:23.067Z"
   },
   {
    "duration": 190,
    "start_time": "2023-09-18T11:37:23.203Z"
   },
   {
    "duration": 118,
    "start_time": "2023-09-18T11:37:23.394Z"
   },
   {
    "duration": 117,
    "start_time": "2023-09-18T11:37:23.513Z"
   },
   {
    "duration": 1093,
    "start_time": "2023-09-18T11:37:23.634Z"
   },
   {
    "duration": 4,
    "start_time": "2023-09-18T11:37:24.728Z"
   },
   {
    "duration": 34,
    "start_time": "2023-09-18T11:37:24.733Z"
   },
   {
    "duration": 32,
    "start_time": "2023-09-18T11:37:24.768Z"
   },
   {
    "duration": 11,
    "start_time": "2023-09-18T11:37:24.801Z"
   },
   {
    "duration": 3,
    "start_time": "2023-09-18T11:37:24.814Z"
   },
   {
    "duration": 186,
    "start_time": "2023-09-18T11:37:24.819Z"
   },
   {
    "duration": 5,
    "start_time": "2023-09-18T11:37:25.007Z"
   },
   {
    "duration": 25,
    "start_time": "2023-09-18T11:37:25.013Z"
   },
   {
    "duration": 25,
    "start_time": "2023-09-18T11:37:25.039Z"
   },
   {
    "duration": 34,
    "start_time": "2023-09-18T11:37:25.065Z"
   },
   {
    "duration": 22,
    "start_time": "2023-09-18T11:37:25.101Z"
   },
   {
    "duration": 9,
    "start_time": "2023-09-18T11:39:09.275Z"
   },
   {
    "duration": 13,
    "start_time": "2023-09-18T11:39:10.306Z"
   },
   {
    "duration": 30,
    "start_time": "2023-09-18T11:39:13.336Z"
   },
   {
    "duration": 82,
    "start_time": "2023-09-18T11:39:26.330Z"
   },
   {
    "duration": 23,
    "start_time": "2023-09-18T11:39:30.271Z"
   },
   {
    "duration": 6,
    "start_time": "2023-09-18T11:42:43.092Z"
   },
   {
    "duration": 6,
    "start_time": "2023-09-18T11:42:59.230Z"
   },
   {
    "duration": 8,
    "start_time": "2023-09-18T11:44:11.869Z"
   },
   {
    "duration": 6,
    "start_time": "2023-09-18T11:44:17.032Z"
   },
   {
    "duration": 20,
    "start_time": "2023-09-18T11:44:55.862Z"
   },
   {
    "duration": 9,
    "start_time": "2023-09-18T11:45:06.013Z"
   },
   {
    "duration": 14,
    "start_time": "2023-09-18T11:45:10.029Z"
   },
   {
    "duration": 16,
    "start_time": "2023-09-18T11:45:18.236Z"
   },
   {
    "duration": 7,
    "start_time": "2023-09-18T11:45:25.233Z"
   },
   {
    "duration": 2,
    "start_time": "2023-09-18T11:54:14.709Z"
   },
   {
    "duration": 11,
    "start_time": "2023-09-18T11:54:14.712Z"
   },
   {
    "duration": 28,
    "start_time": "2023-09-18T11:54:14.725Z"
   },
   {
    "duration": 20,
    "start_time": "2023-09-18T11:54:14.755Z"
   },
   {
    "duration": 28,
    "start_time": "2023-09-18T11:54:14.777Z"
   },
   {
    "duration": 49,
    "start_time": "2023-09-18T11:54:14.807Z"
   },
   {
    "duration": 38,
    "start_time": "2023-09-18T11:54:14.866Z"
   },
   {
    "duration": 14,
    "start_time": "2023-09-18T11:54:14.906Z"
   },
   {
    "duration": 16,
    "start_time": "2023-09-18T11:54:14.923Z"
   },
   {
    "duration": 13,
    "start_time": "2023-09-18T11:54:14.941Z"
   },
   {
    "duration": 23,
    "start_time": "2023-09-18T11:54:14.957Z"
   },
   {
    "duration": 15,
    "start_time": "2023-09-18T11:54:14.981Z"
   },
   {
    "duration": 12,
    "start_time": "2023-09-18T11:54:14.997Z"
   },
   {
    "duration": 56,
    "start_time": "2023-09-18T11:54:15.011Z"
   },
   {
    "duration": 58,
    "start_time": "2023-09-18T11:54:15.074Z"
   },
   {
    "duration": 10,
    "start_time": "2023-09-18T11:54:15.133Z"
   },
   {
    "duration": 12,
    "start_time": "2023-09-18T11:54:15.150Z"
   },
   {
    "duration": 24,
    "start_time": "2023-09-18T11:54:15.163Z"
   },
   {
    "duration": 15,
    "start_time": "2023-09-18T11:54:15.188Z"
   },
   {
    "duration": 18,
    "start_time": "2023-09-18T11:54:15.204Z"
   },
   {
    "duration": 35,
    "start_time": "2023-09-18T11:54:15.223Z"
   },
   {
    "duration": 139,
    "start_time": "2023-09-18T11:54:15.259Z"
   },
   {
    "duration": 92,
    "start_time": "2023-09-18T11:54:15.399Z"
   },
   {
    "duration": 6,
    "start_time": "2023-09-18T11:54:15.494Z"
   },
   {
    "duration": 187,
    "start_time": "2023-09-18T11:54:15.501Z"
   },
   {
    "duration": 6,
    "start_time": "2023-09-18T11:54:15.689Z"
   },
   {
    "duration": 193,
    "start_time": "2023-09-18T11:54:15.697Z"
   },
   {
    "duration": 113,
    "start_time": "2023-09-18T11:54:15.891Z"
   },
   {
    "duration": 209,
    "start_time": "2023-09-18T11:54:16.006Z"
   },
   {
    "duration": 195,
    "start_time": "2023-09-18T11:54:16.216Z"
   },
   {
    "duration": 9,
    "start_time": "2023-09-18T11:54:16.413Z"
   },
   {
    "duration": 8,
    "start_time": "2023-09-18T11:54:16.424Z"
   },
   {
    "duration": 41,
    "start_time": "2023-09-18T11:54:16.433Z"
   },
   {
    "duration": 9,
    "start_time": "2023-09-18T11:54:16.476Z"
   },
   {
    "duration": 6,
    "start_time": "2023-09-18T11:54:16.486Z"
   },
   {
    "duration": 110,
    "start_time": "2023-09-18T11:54:16.493Z"
   },
   {
    "duration": 105,
    "start_time": "2023-09-18T11:54:16.605Z"
   },
   {
    "duration": 109,
    "start_time": "2023-09-18T11:54:16.712Z"
   },
   {
    "duration": 114,
    "start_time": "2023-09-18T11:54:16.822Z"
   },
   {
    "duration": 150,
    "start_time": "2023-09-18T11:54:16.937Z"
   },
   {
    "duration": 0,
    "start_time": "2023-09-18T11:54:17.089Z"
   },
   {
    "duration": 0,
    "start_time": "2023-09-18T11:54:17.090Z"
   },
   {
    "duration": 0,
    "start_time": "2023-09-18T11:54:17.091Z"
   },
   {
    "duration": 0,
    "start_time": "2023-09-18T11:54:17.092Z"
   },
   {
    "duration": 0,
    "start_time": "2023-09-18T11:54:17.093Z"
   },
   {
    "duration": 0,
    "start_time": "2023-09-18T11:54:17.094Z"
   },
   {
    "duration": 0,
    "start_time": "2023-09-18T11:54:17.095Z"
   },
   {
    "duration": 0,
    "start_time": "2023-09-18T11:54:17.096Z"
   },
   {
    "duration": 0,
    "start_time": "2023-09-18T11:54:17.097Z"
   },
   {
    "duration": 0,
    "start_time": "2023-09-18T11:54:17.098Z"
   },
   {
    "duration": 0,
    "start_time": "2023-09-18T11:54:17.099Z"
   },
   {
    "duration": 0,
    "start_time": "2023-09-18T11:54:17.100Z"
   },
   {
    "duration": 3,
    "start_time": "2023-09-18T11:54:42.239Z"
   },
   {
    "duration": 8,
    "start_time": "2023-09-18T11:54:42.243Z"
   },
   {
    "duration": 17,
    "start_time": "2023-09-18T11:54:42.254Z"
   },
   {
    "duration": 15,
    "start_time": "2023-09-18T11:54:42.274Z"
   },
   {
    "duration": 7,
    "start_time": "2023-09-18T11:54:42.291Z"
   },
   {
    "duration": 38,
    "start_time": "2023-09-18T11:54:42.299Z"
   },
   {
    "duration": 37,
    "start_time": "2023-09-18T11:54:42.338Z"
   },
   {
    "duration": 14,
    "start_time": "2023-09-18T11:54:42.385Z"
   },
   {
    "duration": 16,
    "start_time": "2023-09-18T11:54:42.401Z"
   },
   {
    "duration": 6,
    "start_time": "2023-09-18T11:54:42.418Z"
   },
   {
    "duration": 5,
    "start_time": "2023-09-18T11:54:42.425Z"
   },
   {
    "duration": 8,
    "start_time": "2023-09-18T11:54:42.431Z"
   },
   {
    "duration": 22,
    "start_time": "2023-09-18T11:54:42.440Z"
   },
   {
    "duration": 7,
    "start_time": "2023-09-18T11:54:42.470Z"
   },
   {
    "duration": 8,
    "start_time": "2023-09-18T11:54:42.478Z"
   },
   {
    "duration": 17,
    "start_time": "2023-09-18T11:54:42.487Z"
   },
   {
    "duration": 10,
    "start_time": "2023-09-18T11:54:42.506Z"
   },
   {
    "duration": 6,
    "start_time": "2023-09-18T11:54:42.517Z"
   },
   {
    "duration": 7,
    "start_time": "2023-09-18T11:54:42.524Z"
   },
   {
    "duration": 10,
    "start_time": "2023-09-18T11:54:42.533Z"
   },
   {
    "duration": 19,
    "start_time": "2023-09-18T11:54:42.544Z"
   },
   {
    "duration": 134,
    "start_time": "2023-09-18T11:54:42.568Z"
   },
   {
    "duration": 95,
    "start_time": "2023-09-18T11:54:42.704Z"
   },
   {
    "duration": 5,
    "start_time": "2023-09-18T11:54:42.800Z"
   },
   {
    "duration": 185,
    "start_time": "2023-09-18T11:54:42.807Z"
   },
   {
    "duration": 6,
    "start_time": "2023-09-18T11:54:42.993Z"
   },
   {
    "duration": 216,
    "start_time": "2023-09-18T11:54:43.000Z"
   },
   {
    "duration": 114,
    "start_time": "2023-09-18T11:54:43.217Z"
   },
   {
    "duration": 193,
    "start_time": "2023-09-18T11:54:43.333Z"
   },
   {
    "duration": 203,
    "start_time": "2023-09-18T11:54:43.528Z"
   },
   {
    "duration": 17,
    "start_time": "2023-09-18T11:54:43.744Z"
   },
   {
    "duration": 13,
    "start_time": "2023-09-18T11:54:43.765Z"
   },
   {
    "duration": 16,
    "start_time": "2023-09-18T11:54:43.779Z"
   },
   {
    "duration": 26,
    "start_time": "2023-09-18T11:54:43.796Z"
   },
   {
    "duration": 14,
    "start_time": "2023-09-18T11:54:43.824Z"
   },
   {
    "duration": 110,
    "start_time": "2023-09-18T11:54:43.839Z"
   },
   {
    "duration": 104,
    "start_time": "2023-09-18T11:54:43.950Z"
   },
   {
    "duration": 124,
    "start_time": "2023-09-18T11:54:44.056Z"
   },
   {
    "duration": 125,
    "start_time": "2023-09-18T11:54:44.181Z"
   },
   {
    "duration": 986,
    "start_time": "2023-09-18T11:54:44.308Z"
   },
   {
    "duration": 3,
    "start_time": "2023-09-18T11:54:45.297Z"
   },
   {
    "duration": 16,
    "start_time": "2023-09-18T11:54:45.302Z"
   },
   {
    "duration": 30,
    "start_time": "2023-09-18T11:54:45.320Z"
   },
   {
    "duration": 19,
    "start_time": "2023-09-18T11:54:45.353Z"
   },
   {
    "duration": 4,
    "start_time": "2023-09-18T11:54:45.381Z"
   },
   {
    "duration": 156,
    "start_time": "2023-09-18T11:54:45.387Z"
   },
   {
    "duration": 13,
    "start_time": "2023-09-18T11:54:45.549Z"
   },
   {
    "duration": 36,
    "start_time": "2023-09-18T11:54:45.563Z"
   },
   {
    "duration": 15,
    "start_time": "2023-09-18T11:54:45.601Z"
   },
   {
    "duration": 49,
    "start_time": "2023-09-18T11:54:45.617Z"
   },
   {
    "duration": 19,
    "start_time": "2023-09-18T11:54:45.668Z"
   },
   {
    "duration": 953,
    "start_time": "2023-09-18T11:56:38.134Z"
   },
   {
    "duration": 3,
    "start_time": "2023-09-18T11:56:39.090Z"
   },
   {
    "duration": 4,
    "start_time": "2023-09-18T11:56:39.602Z"
   },
   {
    "duration": 14,
    "start_time": "2023-09-18T11:56:39.796Z"
   },
   {
    "duration": 13,
    "start_time": "2023-09-18T11:56:42.186Z"
   },
   {
    "duration": 9,
    "start_time": "2023-09-18T11:56:42.569Z"
   },
   {
    "duration": 173,
    "start_time": "2023-09-18T11:56:45.629Z"
   },
   {
    "duration": 6,
    "start_time": "2023-09-18T11:56:45.803Z"
   },
   {
    "duration": 23,
    "start_time": "2023-09-18T11:56:46.445Z"
   },
   {
    "duration": 126,
    "start_time": "2023-09-18T12:01:05.186Z"
   },
   {
    "duration": 110,
    "start_time": "2023-09-18T12:01:07.114Z"
   },
   {
    "duration": 7,
    "start_time": "2023-09-18T12:05:18.749Z"
   },
   {
    "duration": 12,
    "start_time": "2023-09-18T12:05:18.757Z"
   },
   {
    "duration": 15,
    "start_time": "2023-09-18T12:05:18.770Z"
   },
   {
    "duration": 15,
    "start_time": "2023-09-18T12:05:18.786Z"
   },
   {
    "duration": 6,
    "start_time": "2023-09-18T12:05:18.803Z"
   },
   {
    "duration": 9,
    "start_time": "2023-09-18T12:05:18.811Z"
   },
   {
    "duration": 69,
    "start_time": "2023-09-18T12:05:18.821Z"
   },
   {
    "duration": 27,
    "start_time": "2023-09-18T12:05:18.891Z"
   },
   {
    "duration": 15,
    "start_time": "2023-09-18T12:05:18.919Z"
   },
   {
    "duration": 19,
    "start_time": "2023-09-18T12:05:18.935Z"
   },
   {
    "duration": 10,
    "start_time": "2023-09-18T12:05:18.955Z"
   },
   {
    "duration": 10,
    "start_time": "2023-09-18T12:05:18.966Z"
   },
   {
    "duration": 15,
    "start_time": "2023-09-18T12:05:18.977Z"
   },
   {
    "duration": 5,
    "start_time": "2023-09-18T12:05:18.995Z"
   },
   {
    "duration": 17,
    "start_time": "2023-09-18T12:05:19.001Z"
   },
   {
    "duration": 6,
    "start_time": "2023-09-18T12:05:19.020Z"
   },
   {
    "duration": 23,
    "start_time": "2023-09-18T12:05:19.028Z"
   },
   {
    "duration": 15,
    "start_time": "2023-09-18T12:05:19.057Z"
   },
   {
    "duration": 12,
    "start_time": "2023-09-18T12:05:19.074Z"
   },
   {
    "duration": 11,
    "start_time": "2023-09-18T12:05:19.088Z"
   },
   {
    "duration": 14,
    "start_time": "2023-09-18T12:05:19.101Z"
   },
   {
    "duration": 8,
    "start_time": "2023-09-18T12:05:19.117Z"
   },
   {
    "duration": 156,
    "start_time": "2023-09-18T12:05:19.126Z"
   },
   {
    "duration": 100,
    "start_time": "2023-09-18T12:05:19.287Z"
   },
   {
    "duration": 5,
    "start_time": "2023-09-18T12:05:19.389Z"
   },
   {
    "duration": 274,
    "start_time": "2023-09-18T12:05:19.395Z"
   },
   {
    "duration": 13,
    "start_time": "2023-09-18T12:05:19.679Z"
   },
   {
    "duration": 195,
    "start_time": "2023-09-18T12:05:19.693Z"
   },
   {
    "duration": 112,
    "start_time": "2023-09-18T12:05:19.889Z"
   },
   {
    "duration": 191,
    "start_time": "2023-09-18T12:05:20.003Z"
   },
   {
    "duration": 119,
    "start_time": "2023-09-18T12:05:20.196Z"
   },
   {
    "duration": 10,
    "start_time": "2023-09-18T12:05:20.316Z"
   },
   {
    "duration": 51,
    "start_time": "2023-09-18T12:05:20.328Z"
   },
   {
    "duration": 29,
    "start_time": "2023-09-18T12:05:20.380Z"
   },
   {
    "duration": 17,
    "start_time": "2023-09-18T12:05:20.410Z"
   },
   {
    "duration": 38,
    "start_time": "2023-09-18T12:05:20.429Z"
   },
   {
    "duration": 114,
    "start_time": "2023-09-18T12:05:20.475Z"
   },
   {
    "duration": 123,
    "start_time": "2023-09-18T12:05:20.590Z"
   },
   {
    "duration": 110,
    "start_time": "2023-09-18T12:05:20.715Z"
   },
   {
    "duration": 107,
    "start_time": "2023-09-18T12:05:20.827Z"
   },
   {
    "duration": 124,
    "start_time": "2023-09-18T12:05:20.951Z"
   },
   {
    "duration": 104,
    "start_time": "2023-09-18T12:05:21.076Z"
   },
   {
    "duration": 1028,
    "start_time": "2023-09-18T12:05:21.182Z"
   },
   {
    "duration": 3,
    "start_time": "2023-09-18T12:05:22.212Z"
   },
   {
    "duration": 7,
    "start_time": "2023-09-18T12:05:22.216Z"
   },
   {
    "duration": 13,
    "start_time": "2023-09-18T12:05:22.224Z"
   },
   {
    "duration": 20,
    "start_time": "2023-09-18T12:05:22.238Z"
   },
   {
    "duration": 5,
    "start_time": "2023-09-18T12:05:22.260Z"
   },
   {
    "duration": 293,
    "start_time": "2023-09-18T12:05:22.266Z"
   },
   {
    "duration": 8,
    "start_time": "2023-09-18T12:05:22.560Z"
   },
   {
    "duration": 22,
    "start_time": "2023-09-18T12:05:22.569Z"
   },
   {
    "duration": 5,
    "start_time": "2023-09-18T12:05:22.594Z"
   },
   {
    "duration": 11,
    "start_time": "2023-09-18T12:05:22.600Z"
   },
   {
    "duration": 15,
    "start_time": "2023-09-18T12:05:22.612Z"
   },
   {
    "duration": 194,
    "start_time": "2023-09-18T12:05:22.628Z"
   },
   {
    "duration": 250,
    "start_time": "2023-09-18T12:07:13.239Z"
   },
   {
    "duration": 3,
    "start_time": "2023-09-18T12:10:05.022Z"
   },
   {
    "duration": 18,
    "start_time": "2023-09-18T12:10:05.027Z"
   },
   {
    "duration": 21,
    "start_time": "2023-09-18T12:10:05.047Z"
   },
   {
    "duration": 39,
    "start_time": "2023-09-18T12:10:05.071Z"
   },
   {
    "duration": 12,
    "start_time": "2023-09-18T12:10:05.112Z"
   },
   {
    "duration": 56,
    "start_time": "2023-09-18T12:10:05.125Z"
   },
   {
    "duration": 59,
    "start_time": "2023-09-18T12:10:05.183Z"
   },
   {
    "duration": 44,
    "start_time": "2023-09-18T12:10:05.245Z"
   },
   {
    "duration": 15,
    "start_time": "2023-09-18T12:10:05.290Z"
   },
   {
    "duration": 83,
    "start_time": "2023-09-18T12:10:05.306Z"
   },
   {
    "duration": 7,
    "start_time": "2023-09-18T12:10:05.390Z"
   },
   {
    "duration": 24,
    "start_time": "2023-09-18T12:10:05.398Z"
   },
   {
    "duration": 36,
    "start_time": "2023-09-18T12:10:05.424Z"
   },
   {
    "duration": 32,
    "start_time": "2023-09-18T12:10:05.466Z"
   },
   {
    "duration": 21,
    "start_time": "2023-09-18T12:10:05.499Z"
   },
   {
    "duration": 19,
    "start_time": "2023-09-18T12:10:05.522Z"
   },
   {
    "duration": 34,
    "start_time": "2023-09-18T12:10:05.542Z"
   },
   {
    "duration": 18,
    "start_time": "2023-09-18T12:10:05.582Z"
   },
   {
    "duration": 16,
    "start_time": "2023-09-18T12:10:05.602Z"
   },
   {
    "duration": 41,
    "start_time": "2023-09-18T12:10:05.619Z"
   },
   {
    "duration": 16,
    "start_time": "2023-09-18T12:10:05.667Z"
   },
   {
    "duration": 20,
    "start_time": "2023-09-18T12:10:05.684Z"
   },
   {
    "duration": 142,
    "start_time": "2023-09-18T12:10:05.706Z"
   },
   {
    "duration": 106,
    "start_time": "2023-09-18T12:10:05.857Z"
   },
   {
    "duration": 19,
    "start_time": "2023-09-18T12:10:05.967Z"
   },
   {
    "duration": 188,
    "start_time": "2023-09-18T12:10:05.991Z"
   },
   {
    "duration": 6,
    "start_time": "2023-09-18T12:10:06.185Z"
   },
   {
    "duration": 213,
    "start_time": "2023-09-18T12:10:06.192Z"
   },
   {
    "duration": 117,
    "start_time": "2023-09-18T12:10:06.407Z"
   },
   {
    "duration": 203,
    "start_time": "2023-09-18T12:10:06.525Z"
   },
   {
    "duration": 117,
    "start_time": "2023-09-18T12:10:06.730Z"
   },
   {
    "duration": 15,
    "start_time": "2023-09-18T12:10:06.849Z"
   },
   {
    "duration": 12,
    "start_time": "2023-09-18T12:10:06.866Z"
   },
   {
    "duration": 14,
    "start_time": "2023-09-18T12:10:06.880Z"
   },
   {
    "duration": 7,
    "start_time": "2023-09-18T12:10:06.896Z"
   },
   {
    "duration": 6,
    "start_time": "2023-09-18T12:10:06.904Z"
   },
   {
    "duration": 141,
    "start_time": "2023-09-18T12:10:06.911Z"
   },
   {
    "duration": 246,
    "start_time": "2023-09-18T12:10:07.053Z"
   },
   {
    "duration": 104,
    "start_time": "2023-09-18T12:10:07.300Z"
   },
   {
    "duration": 103,
    "start_time": "2023-09-18T12:10:07.406Z"
   },
   {
    "duration": 116,
    "start_time": "2023-09-18T12:10:07.513Z"
   },
   {
    "duration": 109,
    "start_time": "2023-09-18T12:10:07.630Z"
   },
   {
    "duration": 919,
    "start_time": "2023-09-18T12:10:07.741Z"
   },
   {
    "duration": 7,
    "start_time": "2023-09-18T12:10:08.669Z"
   },
   {
    "duration": 36,
    "start_time": "2023-09-18T12:10:08.678Z"
   },
   {
    "duration": 62,
    "start_time": "2023-09-18T12:10:08.716Z"
   },
   {
    "duration": 58,
    "start_time": "2023-09-18T12:10:08.779Z"
   },
   {
    "duration": 22,
    "start_time": "2023-09-18T12:10:08.838Z"
   },
   {
    "duration": 235,
    "start_time": "2023-09-18T12:10:08.863Z"
   },
   {
    "duration": 6,
    "start_time": "2023-09-18T12:10:09.099Z"
   },
   {
    "duration": 32,
    "start_time": "2023-09-18T12:10:09.106Z"
   },
   {
    "duration": 32,
    "start_time": "2023-09-18T12:10:09.139Z"
   },
   {
    "duration": 27,
    "start_time": "2023-09-18T12:10:09.181Z"
   },
   {
    "duration": 74,
    "start_time": "2023-09-18T12:10:09.210Z"
   },
   {
    "duration": 441,
    "start_time": "2023-09-18T12:45:32.305Z"
   },
   {
    "duration": 282,
    "start_time": "2023-09-18T12:45:32.748Z"
   },
   {
    "duration": 536,
    "start_time": "2023-09-18T12:45:33.032Z"
   },
   {
    "duration": 3,
    "start_time": "2023-09-18T12:45:33.570Z"
   },
   {
    "duration": 55,
    "start_time": "2023-09-18T12:45:33.575Z"
   },
   {
    "duration": 13,
    "start_time": "2023-09-18T12:45:33.632Z"
   },
   {
    "duration": 52,
    "start_time": "2023-09-18T12:45:33.647Z"
   },
   {
    "duration": 30,
    "start_time": "2023-09-18T12:45:33.701Z"
   },
   {
    "duration": 22,
    "start_time": "2023-09-18T12:45:33.732Z"
   },
   {
    "duration": 53,
    "start_time": "2023-09-18T12:45:33.756Z"
   },
   {
    "duration": 53,
    "start_time": "2023-09-18T12:45:33.810Z"
   },
   {
    "duration": 26,
    "start_time": "2023-09-18T12:45:33.865Z"
   },
   {
    "duration": 33,
    "start_time": "2023-09-18T12:45:33.892Z"
   },
   {
    "duration": 38,
    "start_time": "2023-09-18T12:45:33.928Z"
   },
   {
    "duration": 53,
    "start_time": "2023-09-18T12:45:33.968Z"
   },
   {
    "duration": 42,
    "start_time": "2023-09-18T12:45:34.023Z"
   },
   {
    "duration": 41,
    "start_time": "2023-09-18T12:45:34.067Z"
   },
   {
    "duration": 25,
    "start_time": "2023-09-18T12:45:34.109Z"
   },
   {
    "duration": 48,
    "start_time": "2023-09-18T12:45:34.135Z"
   },
   {
    "duration": 50,
    "start_time": "2023-09-18T12:45:34.185Z"
   },
   {
    "duration": 20,
    "start_time": "2023-09-18T12:45:34.236Z"
   },
   {
    "duration": 15,
    "start_time": "2023-09-18T12:45:34.258Z"
   },
   {
    "duration": 164,
    "start_time": "2023-09-18T12:45:34.275Z"
   },
   {
    "duration": 124,
    "start_time": "2023-09-18T12:45:34.442Z"
   },
   {
    "duration": 8,
    "start_time": "2023-09-18T12:45:34.569Z"
   },
   {
    "duration": 230,
    "start_time": "2023-09-18T12:45:34.579Z"
   },
   {
    "duration": 6,
    "start_time": "2023-09-18T12:45:34.811Z"
   },
   {
    "duration": 224,
    "start_time": "2023-09-18T12:45:34.818Z"
   },
   {
    "duration": 128,
    "start_time": "2023-09-18T12:45:35.044Z"
   },
   {
    "duration": 213,
    "start_time": "2023-09-18T12:45:35.174Z"
   },
   {
    "duration": 137,
    "start_time": "2023-09-18T12:45:35.388Z"
   },
   {
    "duration": 12,
    "start_time": "2023-09-18T12:45:35.527Z"
   },
   {
    "duration": 112,
    "start_time": "2023-09-18T12:45:35.541Z"
   },
   {
    "duration": 125,
    "start_time": "2023-09-18T12:45:35.655Z"
   },
   {
    "duration": 72,
    "start_time": "2023-09-18T12:45:35.782Z"
   },
   {
    "duration": 52,
    "start_time": "2023-09-18T12:45:35.856Z"
   },
   {
    "duration": 243,
    "start_time": "2023-09-18T12:45:35.911Z"
   },
   {
    "duration": 229,
    "start_time": "2023-09-18T12:45:36.156Z"
   },
   {
    "duration": 134,
    "start_time": "2023-09-18T12:45:36.388Z"
   },
   {
    "duration": 123,
    "start_time": "2023-09-18T12:45:36.524Z"
   },
   {
    "duration": 119,
    "start_time": "2023-09-18T12:45:36.652Z"
   },
   {
    "duration": 117,
    "start_time": "2023-09-18T12:45:36.773Z"
   },
   {
    "duration": 993,
    "start_time": "2023-09-18T12:45:36.901Z"
   },
   {
    "duration": 8,
    "start_time": "2023-09-18T12:45:37.896Z"
   },
   {
    "duration": 40,
    "start_time": "2023-09-18T12:45:37.906Z"
   },
   {
    "duration": 38,
    "start_time": "2023-09-18T12:45:37.948Z"
   },
   {
    "duration": 24,
    "start_time": "2023-09-18T12:45:37.989Z"
   },
   {
    "duration": 20,
    "start_time": "2023-09-18T12:45:38.015Z"
   },
   {
    "duration": 235,
    "start_time": "2023-09-18T12:45:38.037Z"
   },
   {
    "duration": 6,
    "start_time": "2023-09-18T12:45:38.274Z"
   },
   {
    "duration": 30,
    "start_time": "2023-09-18T12:45:38.282Z"
   },
   {
    "duration": 29,
    "start_time": "2023-09-18T12:45:38.313Z"
   },
   {
    "duration": 53,
    "start_time": "2023-09-18T12:45:38.344Z"
   },
   {
    "duration": 34,
    "start_time": "2023-09-18T12:45:38.399Z"
   },
   {
    "duration": 34,
    "start_time": "2023-09-18T12:55:15.673Z"
   },
   {
    "duration": 112,
    "start_time": "2023-09-19T08:39:54.024Z"
   },
   {
    "duration": 1423,
    "start_time": "2023-09-19T08:40:04.038Z"
   },
   {
    "duration": 95,
    "start_time": "2023-09-19T09:24:53.864Z"
   },
   {
    "duration": 3,
    "start_time": "2023-09-19T09:24:58.866Z"
   },
   {
    "duration": 90,
    "start_time": "2023-09-19T09:24:58.871Z"
   },
   {
    "duration": 68,
    "start_time": "2023-09-19T09:24:58.962Z"
   },
   {
    "duration": 51,
    "start_time": "2023-09-19T09:24:59.032Z"
   },
   {
    "duration": 25,
    "start_time": "2023-09-19T09:24:59.085Z"
   },
   {
    "duration": 28,
    "start_time": "2023-09-19T09:24:59.112Z"
   },
   {
    "duration": 7,
    "start_time": "2023-09-19T09:24:59.142Z"
   },
   {
    "duration": 13,
    "start_time": "2023-09-19T09:24:59.150Z"
   },
   {
    "duration": 13,
    "start_time": "2023-09-19T09:24:59.165Z"
   },
   {
    "duration": 0,
    "start_time": "2023-09-19T09:24:59.180Z"
   },
   {
    "duration": 0,
    "start_time": "2023-09-19T09:24:59.181Z"
   },
   {
    "duration": 0,
    "start_time": "2023-09-19T09:24:59.182Z"
   },
   {
    "duration": 0,
    "start_time": "2023-09-19T09:24:59.184Z"
   },
   {
    "duration": 0,
    "start_time": "2023-09-19T09:24:59.185Z"
   },
   {
    "duration": 0,
    "start_time": "2023-09-19T09:24:59.186Z"
   },
   {
    "duration": 0,
    "start_time": "2023-09-19T09:24:59.187Z"
   },
   {
    "duration": 0,
    "start_time": "2023-09-19T09:24:59.188Z"
   },
   {
    "duration": 0,
    "start_time": "2023-09-19T09:24:59.189Z"
   },
   {
    "duration": 0,
    "start_time": "2023-09-19T09:24:59.190Z"
   },
   {
    "duration": 0,
    "start_time": "2023-09-19T09:24:59.191Z"
   },
   {
    "duration": 0,
    "start_time": "2023-09-19T09:24:59.192Z"
   },
   {
    "duration": 0,
    "start_time": "2023-09-19T09:24:59.193Z"
   },
   {
    "duration": 0,
    "start_time": "2023-09-19T09:24:59.194Z"
   },
   {
    "duration": 0,
    "start_time": "2023-09-19T09:24:59.195Z"
   },
   {
    "duration": 0,
    "start_time": "2023-09-19T09:24:59.196Z"
   },
   {
    "duration": 0,
    "start_time": "2023-09-19T09:24:59.197Z"
   },
   {
    "duration": 0,
    "start_time": "2023-09-19T09:24:59.198Z"
   },
   {
    "duration": 0,
    "start_time": "2023-09-19T09:24:59.199Z"
   },
   {
    "duration": 0,
    "start_time": "2023-09-19T09:24:59.199Z"
   },
   {
    "duration": 0,
    "start_time": "2023-09-19T09:24:59.200Z"
   },
   {
    "duration": 0,
    "start_time": "2023-09-19T09:24:59.201Z"
   },
   {
    "duration": 0,
    "start_time": "2023-09-19T09:24:59.202Z"
   },
   {
    "duration": 0,
    "start_time": "2023-09-19T09:24:59.244Z"
   },
   {
    "duration": 0,
    "start_time": "2023-09-19T09:24:59.245Z"
   },
   {
    "duration": 0,
    "start_time": "2023-09-19T09:24:59.246Z"
   },
   {
    "duration": 0,
    "start_time": "2023-09-19T09:24:59.247Z"
   },
   {
    "duration": 0,
    "start_time": "2023-09-19T09:24:59.248Z"
   },
   {
    "duration": 1,
    "start_time": "2023-09-19T09:24:59.249Z"
   },
   {
    "duration": 0,
    "start_time": "2023-09-19T09:24:59.250Z"
   },
   {
    "duration": 0,
    "start_time": "2023-09-19T09:24:59.251Z"
   },
   {
    "duration": 0,
    "start_time": "2023-09-19T09:24:59.252Z"
   },
   {
    "duration": 0,
    "start_time": "2023-09-19T09:24:59.253Z"
   },
   {
    "duration": 0,
    "start_time": "2023-09-19T09:24:59.254Z"
   },
   {
    "duration": 0,
    "start_time": "2023-09-19T09:24:59.255Z"
   },
   {
    "duration": 0,
    "start_time": "2023-09-19T09:24:59.256Z"
   },
   {
    "duration": 0,
    "start_time": "2023-09-19T09:24:59.257Z"
   },
   {
    "duration": 0,
    "start_time": "2023-09-19T09:24:59.258Z"
   },
   {
    "duration": 0,
    "start_time": "2023-09-19T09:24:59.259Z"
   },
   {
    "duration": 0,
    "start_time": "2023-09-19T09:24:59.260Z"
   },
   {
    "duration": 0,
    "start_time": "2023-09-19T09:24:59.261Z"
   },
   {
    "duration": 0,
    "start_time": "2023-09-19T09:24:59.262Z"
   },
   {
    "duration": 8,
    "start_time": "2023-09-19T09:25:14.196Z"
   },
   {
    "duration": 10,
    "start_time": "2023-09-19T09:25:24.338Z"
   },
   {
    "duration": 14,
    "start_time": "2023-09-19T09:25:46.226Z"
   },
   {
    "duration": 5,
    "start_time": "2023-09-19T09:25:47.219Z"
   },
   {
    "duration": 12,
    "start_time": "2023-09-19T09:25:47.864Z"
   },
   {
    "duration": 10,
    "start_time": "2023-09-19T09:26:03.835Z"
   },
   {
    "duration": 6,
    "start_time": "2023-09-19T09:26:11.094Z"
   },
   {
    "duration": 10,
    "start_time": "2023-09-19T09:26:42.606Z"
   },
   {
    "duration": 2,
    "start_time": "2023-09-19T09:26:46.770Z"
   },
   {
    "duration": 35,
    "start_time": "2023-09-19T09:26:46.774Z"
   },
   {
    "duration": 35,
    "start_time": "2023-09-19T09:26:46.811Z"
   },
   {
    "duration": 16,
    "start_time": "2023-09-19T09:26:46.848Z"
   },
   {
    "duration": 25,
    "start_time": "2023-09-19T09:26:46.867Z"
   },
   {
    "duration": 57,
    "start_time": "2023-09-19T09:26:46.894Z"
   },
   {
    "duration": 10,
    "start_time": "2023-09-19T09:26:46.952Z"
   },
   {
    "duration": 8,
    "start_time": "2023-09-19T09:26:46.964Z"
   },
   {
    "duration": 22,
    "start_time": "2023-09-19T09:26:46.974Z"
   },
   {
    "duration": 31,
    "start_time": "2023-09-19T09:26:46.998Z"
   },
   {
    "duration": 44,
    "start_time": "2023-09-19T09:26:47.031Z"
   },
   {
    "duration": 12,
    "start_time": "2023-09-19T09:26:47.078Z"
   },
   {
    "duration": 14,
    "start_time": "2023-09-19T09:26:47.092Z"
   },
   {
    "duration": 10,
    "start_time": "2023-09-19T09:26:47.111Z"
   },
   {
    "duration": 5,
    "start_time": "2023-09-19T09:26:47.123Z"
   },
   {
    "duration": 8,
    "start_time": "2023-09-19T09:26:47.130Z"
   },
   {
    "duration": 12,
    "start_time": "2023-09-19T09:26:47.139Z"
   },
   {
    "duration": 6,
    "start_time": "2023-09-19T09:26:47.153Z"
   },
   {
    "duration": 7,
    "start_time": "2023-09-19T09:26:47.160Z"
   },
   {
    "duration": 169,
    "start_time": "2023-09-19T09:26:47.169Z"
   },
   {
    "duration": 84,
    "start_time": "2023-09-19T09:26:47.340Z"
   },
   {
    "duration": 6,
    "start_time": "2023-09-19T09:26:47.443Z"
   },
   {
    "duration": 173,
    "start_time": "2023-09-19T09:26:47.451Z"
   },
   {
    "duration": 6,
    "start_time": "2023-09-19T09:26:47.626Z"
   },
   {
    "duration": 206,
    "start_time": "2023-09-19T09:26:47.633Z"
   },
   {
    "duration": 110,
    "start_time": "2023-09-19T09:26:47.840Z"
   },
   {
    "duration": 186,
    "start_time": "2023-09-19T09:26:47.951Z"
   },
   {
    "duration": 177,
    "start_time": "2023-09-19T09:26:48.138Z"
   },
   {
    "duration": 10,
    "start_time": "2023-09-19T09:26:48.317Z"
   },
   {
    "duration": 36,
    "start_time": "2023-09-19T09:26:48.328Z"
   },
   {
    "duration": 23,
    "start_time": "2023-09-19T09:26:48.366Z"
   },
   {
    "duration": 13,
    "start_time": "2023-09-19T09:26:48.390Z"
   },
   {
    "duration": 33,
    "start_time": "2023-09-19T09:26:48.404Z"
   },
   {
    "duration": 112,
    "start_time": "2023-09-19T09:26:48.438Z"
   },
   {
    "duration": 113,
    "start_time": "2023-09-19T09:26:48.552Z"
   },
   {
    "duration": 115,
    "start_time": "2023-09-19T09:26:48.666Z"
   },
   {
    "duration": 106,
    "start_time": "2023-09-19T09:26:48.783Z"
   },
   {
    "duration": 109,
    "start_time": "2023-09-19T09:26:48.890Z"
   },
   {
    "duration": 110,
    "start_time": "2023-09-19T09:26:49.001Z"
   },
   {
    "duration": 878,
    "start_time": "2023-09-19T09:26:49.113Z"
   },
   {
    "duration": 3,
    "start_time": "2023-09-19T09:26:49.994Z"
   },
   {
    "duration": 14,
    "start_time": "2023-09-19T09:26:49.999Z"
   },
   {
    "duration": 37,
    "start_time": "2023-09-19T09:26:50.015Z"
   },
   {
    "duration": 21,
    "start_time": "2023-09-19T09:26:50.054Z"
   },
   {
    "duration": 3,
    "start_time": "2023-09-19T09:26:50.077Z"
   },
   {
    "duration": 142,
    "start_time": "2023-09-19T09:26:50.082Z"
   },
   {
    "duration": 6,
    "start_time": "2023-09-19T09:26:50.226Z"
   },
   {
    "duration": 28,
    "start_time": "2023-09-19T09:26:50.234Z"
   },
   {
    "duration": 6,
    "start_time": "2023-09-19T09:26:50.263Z"
   },
   {
    "duration": 15,
    "start_time": "2023-09-19T09:26:50.270Z"
   },
   {
    "duration": 12,
    "start_time": "2023-09-19T09:26:50.287Z"
   },
   {
    "duration": 156,
    "start_time": "2023-09-19T09:27:29.888Z"
   },
   {
    "duration": 92,
    "start_time": "2023-09-19T09:28:29.065Z"
   },
   {
    "duration": 300,
    "start_time": "2023-09-19T09:28:51.944Z"
   },
   {
    "duration": 14,
    "start_time": "2023-09-19T09:30:37.031Z"
   },
   {
    "duration": 189,
    "start_time": "2023-09-19T09:30:59.943Z"
   },
   {
    "duration": 145,
    "start_time": "2023-09-19T09:31:57.795Z"
   },
   {
    "duration": 151,
    "start_time": "2023-09-19T09:32:02.365Z"
   },
   {
    "duration": 142,
    "start_time": "2023-09-19T09:32:43.214Z"
   },
   {
    "duration": 149,
    "start_time": "2023-09-19T09:32:51.729Z"
   },
   {
    "duration": 144,
    "start_time": "2023-09-19T09:34:01.866Z"
   },
   {
    "duration": 156,
    "start_time": "2023-09-19T09:34:08.712Z"
   },
   {
    "duration": 141,
    "start_time": "2023-09-19T09:34:18.066Z"
   },
   {
    "duration": 324,
    "start_time": "2023-09-19T09:34:26.013Z"
   },
   {
    "duration": 132,
    "start_time": "2023-09-19T09:34:31.719Z"
   },
   {
    "duration": 145,
    "start_time": "2023-09-19T09:34:37.280Z"
   },
   {
    "duration": 141,
    "start_time": "2023-09-19T09:34:42.037Z"
   },
   {
    "duration": 133,
    "start_time": "2023-09-19T09:34:46.250Z"
   },
   {
    "duration": 132,
    "start_time": "2023-09-19T09:34:49.808Z"
   },
   {
    "duration": 149,
    "start_time": "2023-09-19T09:34:54.702Z"
   },
   {
    "duration": 9,
    "start_time": "2023-09-19T09:35:43.421Z"
   },
   {
    "duration": 87,
    "start_time": "2023-09-19T09:35:53.475Z"
   },
   {
    "duration": 2079,
    "start_time": "2023-09-19T09:36:00.085Z"
   },
   {
    "duration": 2215,
    "start_time": "2023-09-19T09:36:23.510Z"
   },
   {
    "duration": 2305,
    "start_time": "2023-09-19T09:37:29.652Z"
   },
   {
    "duration": 2124,
    "start_time": "2023-09-19T09:37:45.491Z"
   },
   {
    "duration": 295,
    "start_time": "2023-09-19T09:38:06.567Z"
   },
   {
    "duration": 138,
    "start_time": "2023-09-19T09:38:09.967Z"
   },
   {
    "duration": 251,
    "start_time": "2023-09-19T09:38:51.866Z"
   },
   {
    "duration": 128,
    "start_time": "2023-09-19T09:39:07.083Z"
   },
   {
    "duration": 4,
    "start_time": "2023-09-19T09:39:37.671Z"
   },
   {
    "duration": 166,
    "start_time": "2023-09-19T09:39:41.537Z"
   },
   {
    "duration": 148,
    "start_time": "2023-09-19T09:39:52.752Z"
   },
   {
    "duration": 145,
    "start_time": "2023-09-19T09:39:59.734Z"
   },
   {
    "duration": 159,
    "start_time": "2023-09-19T09:40:26.241Z"
   },
   {
    "duration": 3,
    "start_time": "2023-09-19T09:40:28.617Z"
   },
   {
    "duration": 53,
    "start_time": "2023-09-19T09:40:28.622Z"
   },
   {
    "duration": 27,
    "start_time": "2023-09-19T09:40:28.676Z"
   },
   {
    "duration": 17,
    "start_time": "2023-09-19T09:40:28.705Z"
   },
   {
    "duration": 18,
    "start_time": "2023-09-19T09:40:28.723Z"
   },
   {
    "duration": 33,
    "start_time": "2023-09-19T09:40:28.743Z"
   },
   {
    "duration": 8,
    "start_time": "2023-09-19T09:40:28.778Z"
   },
   {
    "duration": 19,
    "start_time": "2023-09-19T09:40:28.788Z"
   },
   {
    "duration": 37,
    "start_time": "2023-09-19T09:40:28.809Z"
   },
   {
    "duration": 18,
    "start_time": "2023-09-19T09:40:28.848Z"
   },
   {
    "duration": 10,
    "start_time": "2023-09-19T09:40:28.868Z"
   },
   {
    "duration": 4,
    "start_time": "2023-09-19T09:40:28.880Z"
   },
   {
    "duration": 6,
    "start_time": "2023-09-19T09:40:28.886Z"
   },
   {
    "duration": 8,
    "start_time": "2023-09-19T09:40:28.893Z"
   },
   {
    "duration": 4,
    "start_time": "2023-09-19T09:40:28.902Z"
   },
   {
    "duration": 39,
    "start_time": "2023-09-19T09:40:28.908Z"
   },
   {
    "duration": 6,
    "start_time": "2023-09-19T09:40:28.948Z"
   },
   {
    "duration": 22,
    "start_time": "2023-09-19T09:40:28.956Z"
   },
   {
    "duration": 5,
    "start_time": "2023-09-19T09:40:28.980Z"
   },
   {
    "duration": 149,
    "start_time": "2023-09-19T09:40:28.986Z"
   },
   {
    "duration": 169,
    "start_time": "2023-09-19T09:40:29.137Z"
   },
   {
    "duration": 99,
    "start_time": "2023-09-19T09:40:29.308Z"
   },
   {
    "duration": 6,
    "start_time": "2023-09-19T09:40:29.409Z"
   },
   {
    "duration": 270,
    "start_time": "2023-09-19T09:40:29.417Z"
   },
   {
    "duration": 5,
    "start_time": "2023-09-19T09:40:29.689Z"
   },
   {
    "duration": 217,
    "start_time": "2023-09-19T09:40:29.695Z"
   },
   {
    "duration": 112,
    "start_time": "2023-09-19T09:40:29.914Z"
   },
   {
    "duration": 203,
    "start_time": "2023-09-19T09:40:30.031Z"
   },
   {
    "duration": 124,
    "start_time": "2023-09-19T09:40:30.236Z"
   },
   {
    "duration": 13,
    "start_time": "2023-09-19T09:40:30.361Z"
   },
   {
    "duration": 36,
    "start_time": "2023-09-19T09:40:30.376Z"
   },
   {
    "duration": 39,
    "start_time": "2023-09-19T09:40:30.414Z"
   },
   {
    "duration": 26,
    "start_time": "2023-09-19T09:40:30.455Z"
   },
   {
    "duration": 28,
    "start_time": "2023-09-19T09:40:30.483Z"
   },
   {
    "duration": 150,
    "start_time": "2023-09-19T09:40:30.513Z"
   },
   {
    "duration": 119,
    "start_time": "2023-09-19T09:40:30.665Z"
   },
   {
    "duration": 112,
    "start_time": "2023-09-19T09:40:30.786Z"
   },
   {
    "duration": 110,
    "start_time": "2023-09-19T09:40:30.899Z"
   },
   {
    "duration": 110,
    "start_time": "2023-09-19T09:40:31.011Z"
   },
   {
    "duration": 136,
    "start_time": "2023-09-19T09:40:31.122Z"
   },
   {
    "duration": 904,
    "start_time": "2023-09-19T09:40:31.260Z"
   },
   {
    "duration": 3,
    "start_time": "2023-09-19T09:40:32.165Z"
   },
   {
    "duration": 164,
    "start_time": "2023-09-19T09:40:32.170Z"
   },
   {
    "duration": 29,
    "start_time": "2023-09-19T09:40:32.336Z"
   },
   {
    "duration": 17,
    "start_time": "2023-09-19T09:40:32.366Z"
   },
   {
    "duration": 3,
    "start_time": "2023-09-19T09:40:32.385Z"
   },
   {
    "duration": 239,
    "start_time": "2023-09-19T09:40:32.390Z"
   },
   {
    "duration": 6,
    "start_time": "2023-09-19T09:40:32.630Z"
   },
   {
    "duration": 21,
    "start_time": "2023-09-19T09:40:32.638Z"
   },
   {
    "duration": 6,
    "start_time": "2023-09-19T09:40:32.660Z"
   },
   {
    "duration": 15,
    "start_time": "2023-09-19T09:40:32.667Z"
   },
   {
    "duration": 12,
    "start_time": "2023-09-19T09:40:32.684Z"
   },
   {
    "duration": 4,
    "start_time": "2023-09-19T09:42:59.635Z"
   },
   {
    "duration": 139,
    "start_time": "2023-09-19T09:42:59.641Z"
   },
   {
    "duration": 30,
    "start_time": "2023-09-19T09:42:59.782Z"
   },
   {
    "duration": 15,
    "start_time": "2023-09-19T09:42:59.815Z"
   },
   {
    "duration": 19,
    "start_time": "2023-09-19T09:42:59.832Z"
   },
   {
    "duration": 36,
    "start_time": "2023-09-19T09:42:59.853Z"
   },
   {
    "duration": 11,
    "start_time": "2023-09-19T09:42:59.891Z"
   },
   {
    "duration": 52,
    "start_time": "2023-09-19T09:42:59.903Z"
   },
   {
    "duration": 11,
    "start_time": "2023-09-19T09:42:59.957Z"
   },
   {
    "duration": 17,
    "start_time": "2023-09-19T09:42:59.970Z"
   },
   {
    "duration": 14,
    "start_time": "2023-09-19T09:42:59.989Z"
   },
   {
    "duration": 59,
    "start_time": "2023-09-19T09:43:00.005Z"
   },
   {
    "duration": 27,
    "start_time": "2023-09-19T09:43:00.066Z"
   },
   {
    "duration": 72,
    "start_time": "2023-09-19T09:43:00.095Z"
   },
   {
    "duration": 53,
    "start_time": "2023-09-19T09:43:00.169Z"
   },
   {
    "duration": 59,
    "start_time": "2023-09-19T09:43:00.224Z"
   },
   {
    "duration": 68,
    "start_time": "2023-09-19T09:43:00.284Z"
   },
   {
    "duration": 25,
    "start_time": "2023-09-19T09:43:00.353Z"
   },
   {
    "duration": 16,
    "start_time": "2023-09-19T09:43:00.379Z"
   },
   {
    "duration": 153,
    "start_time": "2023-09-19T09:43:00.397Z"
   },
   {
    "duration": 163,
    "start_time": "2023-09-19T09:43:00.551Z"
   },
   {
    "duration": 100,
    "start_time": "2023-09-19T09:43:00.716Z"
   },
   {
    "duration": 6,
    "start_time": "2023-09-19T09:43:00.818Z"
   },
   {
    "duration": 280,
    "start_time": "2023-09-19T09:43:00.828Z"
   },
   {
    "duration": 14,
    "start_time": "2023-09-19T09:43:01.110Z"
   },
   {
    "duration": 319,
    "start_time": "2023-09-19T09:43:01.125Z"
   },
   {
    "duration": 115,
    "start_time": "2023-09-19T09:43:01.446Z"
   },
   {
    "duration": 196,
    "start_time": "2023-09-19T09:43:01.563Z"
   },
   {
    "duration": 299,
    "start_time": "2023-09-19T09:43:01.760Z"
   },
   {
    "duration": 156,
    "start_time": "2023-09-19T09:43:02.061Z"
   },
   {
    "duration": 44,
    "start_time": "2023-09-19T09:43:02.219Z"
   },
   {
    "duration": 56,
    "start_time": "2023-09-19T09:43:02.264Z"
   },
   {
    "duration": 42,
    "start_time": "2023-09-19T09:43:02.321Z"
   },
   {
    "duration": 52,
    "start_time": "2023-09-19T09:43:02.365Z"
   },
   {
    "duration": 176,
    "start_time": "2023-09-19T09:43:02.419Z"
   },
   {
    "duration": 107,
    "start_time": "2023-09-19T09:43:02.597Z"
   },
   {
    "duration": 209,
    "start_time": "2023-09-19T09:43:02.706Z"
   },
   {
    "duration": 108,
    "start_time": "2023-09-19T09:43:02.917Z"
   },
   {
    "duration": 123,
    "start_time": "2023-09-19T09:43:03.027Z"
   },
   {
    "duration": 112,
    "start_time": "2023-09-19T09:43:03.152Z"
   },
   {
    "duration": 875,
    "start_time": "2023-09-19T09:43:03.265Z"
   },
   {
    "duration": 3,
    "start_time": "2023-09-19T09:43:04.142Z"
   },
   {
    "duration": 8,
    "start_time": "2023-09-19T09:43:04.147Z"
   },
   {
    "duration": 25,
    "start_time": "2023-09-19T09:43:04.157Z"
   },
   {
    "duration": 12,
    "start_time": "2023-09-19T09:43:04.184Z"
   },
   {
    "duration": 3,
    "start_time": "2023-09-19T09:43:04.197Z"
   },
   {
    "duration": 148,
    "start_time": "2023-09-19T09:43:04.202Z"
   },
   {
    "duration": 6,
    "start_time": "2023-09-19T09:43:04.351Z"
   },
   {
    "duration": 27,
    "start_time": "2023-09-19T09:43:04.359Z"
   },
   {
    "duration": 21,
    "start_time": "2023-09-19T09:43:04.387Z"
   },
   {
    "duration": 11,
    "start_time": "2023-09-19T09:43:04.410Z"
   },
   {
    "duration": 13,
    "start_time": "2023-09-19T09:43:04.422Z"
   },
   {
    "duration": 5,
    "start_time": "2023-09-19T10:17:54.667Z"
   },
   {
    "duration": 4,
    "start_time": "2023-09-19T10:19:27.832Z"
   },
   {
    "duration": 201,
    "start_time": "2023-09-19T10:22:34.207Z"
   },
   {
    "duration": 4,
    "start_time": "2023-09-19T10:23:58.642Z"
   },
   {
    "duration": 169,
    "start_time": "2023-09-19T10:25:47.782Z"
   },
   {
    "duration": 182,
    "start_time": "2023-09-19T10:25:48.162Z"
   },
   {
    "duration": 6,
    "start_time": "2023-09-19T10:25:54.594Z"
   },
   {
    "duration": 5,
    "start_time": "2023-09-19T10:25:55.267Z"
   },
   {
    "duration": 153,
    "start_time": "2023-09-19T10:26:08.876Z"
   },
   {
    "duration": 213,
    "start_time": "2023-09-19T10:27:01.567Z"
   },
   {
    "duration": 3,
    "start_time": "2023-09-19T10:27:18.441Z"
   },
   {
    "duration": 40,
    "start_time": "2023-09-19T10:27:18.449Z"
   },
   {
    "duration": 33,
    "start_time": "2023-09-19T10:27:18.491Z"
   },
   {
    "duration": 15,
    "start_time": "2023-09-19T10:27:18.526Z"
   },
   {
    "duration": 30,
    "start_time": "2023-09-19T10:27:18.543Z"
   },
   {
    "duration": 33,
    "start_time": "2023-09-19T10:27:18.576Z"
   },
   {
    "duration": 6,
    "start_time": "2023-09-19T10:27:18.610Z"
   },
   {
    "duration": 29,
    "start_time": "2023-09-19T10:27:18.618Z"
   },
   {
    "duration": 9,
    "start_time": "2023-09-19T10:27:18.648Z"
   },
   {
    "duration": 35,
    "start_time": "2023-09-19T10:27:18.659Z"
   },
   {
    "duration": 52,
    "start_time": "2023-09-19T10:27:18.696Z"
   },
   {
    "duration": 15,
    "start_time": "2023-09-19T10:27:18.750Z"
   },
   {
    "duration": 23,
    "start_time": "2023-09-19T10:27:18.767Z"
   },
   {
    "duration": 14,
    "start_time": "2023-09-19T10:27:18.791Z"
   },
   {
    "duration": 5,
    "start_time": "2023-09-19T10:27:18.807Z"
   },
   {
    "duration": 10,
    "start_time": "2023-09-19T10:27:18.813Z"
   },
   {
    "duration": 11,
    "start_time": "2023-09-19T10:27:18.825Z"
   },
   {
    "duration": 20,
    "start_time": "2023-09-19T10:27:18.838Z"
   },
   {
    "duration": 11,
    "start_time": "2023-09-19T10:27:18.859Z"
   },
   {
    "duration": 131,
    "start_time": "2023-09-19T10:27:18.871Z"
   },
   {
    "duration": 167,
    "start_time": "2023-09-19T10:27:19.004Z"
   },
   {
    "duration": 103,
    "start_time": "2023-09-19T10:27:19.172Z"
   },
   {
    "duration": 7,
    "start_time": "2023-09-19T10:27:19.277Z"
   },
   {
    "duration": 178,
    "start_time": "2023-09-19T10:27:19.285Z"
   },
   {
    "duration": 4,
    "start_time": "2023-09-19T10:27:19.465Z"
   },
   {
    "duration": 38,
    "start_time": "2023-09-19T10:27:19.470Z"
   },
   {
    "duration": 302,
    "start_time": "2023-09-19T10:27:19.509Z"
   },
   {
    "duration": 4,
    "start_time": "2023-09-19T10:27:19.813Z"
   },
   {
    "duration": 12,
    "start_time": "2023-09-19T10:27:19.819Z"
   },
   {
    "duration": 225,
    "start_time": "2023-09-19T10:27:19.833Z"
   },
   {
    "duration": 106,
    "start_time": "2023-09-19T10:27:20.059Z"
   },
   {
    "duration": 192,
    "start_time": "2023-09-19T10:27:20.167Z"
   },
   {
    "duration": 109,
    "start_time": "2023-09-19T10:27:20.361Z"
   },
   {
    "duration": 212,
    "start_time": "2023-09-19T10:27:20.472Z"
   },
   {
    "duration": 3,
    "start_time": "2023-09-19T10:27:20.686Z"
   },
   {
    "duration": 46,
    "start_time": "2023-09-19T10:27:20.691Z"
   },
   {
    "duration": 43,
    "start_time": "2023-09-19T10:27:20.738Z"
   },
   {
    "duration": 44,
    "start_time": "2023-09-19T10:27:20.783Z"
   },
   {
    "duration": 26,
    "start_time": "2023-09-19T10:27:20.829Z"
   },
   {
    "duration": 64,
    "start_time": "2023-09-19T10:27:20.857Z"
   },
   {
    "duration": 33,
    "start_time": "2023-09-19T10:27:20.923Z"
   },
   {
    "duration": 131,
    "start_time": "2023-09-19T10:27:20.960Z"
   },
   {
    "duration": 114,
    "start_time": "2023-09-19T10:27:21.093Z"
   },
   {
    "duration": 116,
    "start_time": "2023-09-19T10:27:21.209Z"
   },
   {
    "duration": 104,
    "start_time": "2023-09-19T10:27:21.327Z"
   },
   {
    "duration": 115,
    "start_time": "2023-09-19T10:27:21.444Z"
   },
   {
    "duration": 113,
    "start_time": "2023-09-19T10:27:21.561Z"
   },
   {
    "duration": 878,
    "start_time": "2023-09-19T10:27:21.676Z"
   },
   {
    "duration": 4,
    "start_time": "2023-09-19T10:27:22.555Z"
   },
   {
    "duration": 110,
    "start_time": "2023-09-19T10:27:22.560Z"
   },
   {
    "duration": 44,
    "start_time": "2023-09-19T10:27:22.671Z"
   },
   {
    "duration": 44,
    "start_time": "2023-09-19T10:27:22.717Z"
   },
   {
    "duration": 62,
    "start_time": "2023-09-19T10:27:22.763Z"
   },
   {
    "duration": 286,
    "start_time": "2023-09-19T10:27:22.827Z"
   },
   {
    "duration": 6,
    "start_time": "2023-09-19T10:27:23.115Z"
   },
   {
    "duration": 83,
    "start_time": "2023-09-19T10:27:23.123Z"
   },
   {
    "duration": 129,
    "start_time": "2023-09-19T10:27:23.208Z"
   },
   {
    "duration": 56,
    "start_time": "2023-09-19T10:27:23.338Z"
   },
   {
    "duration": 53,
    "start_time": "2023-09-19T10:27:23.395Z"
   },
   {
    "duration": 4,
    "start_time": "2023-09-19T10:29:26.839Z"
   },
   {
    "duration": 3,
    "start_time": "2023-09-19T10:30:52.149Z"
   },
   {
    "duration": 4,
    "start_time": "2023-09-19T10:30:52.749Z"
   },
   {
    "duration": 4,
    "start_time": "2023-09-19T10:32:22.463Z"
   },
   {
    "duration": 274,
    "start_time": "2023-09-19T10:32:35.439Z"
   },
   {
    "duration": 3,
    "start_time": "2023-09-19T10:32:59.382Z"
   },
   {
    "duration": 56,
    "start_time": "2023-09-19T10:32:59.387Z"
   },
   {
    "duration": 28,
    "start_time": "2023-09-19T10:32:59.444Z"
   },
   {
    "duration": 18,
    "start_time": "2023-09-19T10:32:59.474Z"
   },
   {
    "duration": 29,
    "start_time": "2023-09-19T10:32:59.494Z"
   },
   {
    "duration": 39,
    "start_time": "2023-09-19T10:32:59.525Z"
   },
   {
    "duration": 16,
    "start_time": "2023-09-19T10:32:59.566Z"
   },
   {
    "duration": 81,
    "start_time": "2023-09-19T10:32:59.583Z"
   },
   {
    "duration": 38,
    "start_time": "2023-09-19T10:32:59.665Z"
   },
   {
    "duration": 33,
    "start_time": "2023-09-19T10:32:59.705Z"
   },
   {
    "duration": 20,
    "start_time": "2023-09-19T10:32:59.742Z"
   },
   {
    "duration": 18,
    "start_time": "2023-09-19T10:32:59.765Z"
   },
   {
    "duration": 14,
    "start_time": "2023-09-19T10:32:59.785Z"
   },
   {
    "duration": 21,
    "start_time": "2023-09-19T10:32:59.801Z"
   },
   {
    "duration": 15,
    "start_time": "2023-09-19T10:32:59.824Z"
   },
   {
    "duration": 17,
    "start_time": "2023-09-19T10:32:59.840Z"
   },
   {
    "duration": 14,
    "start_time": "2023-09-19T10:32:59.859Z"
   },
   {
    "duration": 16,
    "start_time": "2023-09-19T10:32:59.874Z"
   },
   {
    "duration": 15,
    "start_time": "2023-09-19T10:32:59.891Z"
   },
   {
    "duration": 145,
    "start_time": "2023-09-19T10:32:59.907Z"
   },
   {
    "duration": 164,
    "start_time": "2023-09-19T10:33:00.053Z"
   },
   {
    "duration": 97,
    "start_time": "2023-09-19T10:33:00.219Z"
   },
   {
    "duration": 5,
    "start_time": "2023-09-19T10:33:00.318Z"
   },
   {
    "duration": 191,
    "start_time": "2023-09-19T10:33:00.325Z"
   },
   {
    "duration": 4,
    "start_time": "2023-09-19T10:33:00.518Z"
   },
   {
    "duration": 47,
    "start_time": "2023-09-19T10:33:00.524Z"
   },
   {
    "duration": 209,
    "start_time": "2023-09-19T10:33:00.572Z"
   },
   {
    "duration": 4,
    "start_time": "2023-09-19T10:33:00.783Z"
   },
   {
    "duration": 49,
    "start_time": "2023-09-19T10:33:00.791Z"
   },
   {
    "duration": 229,
    "start_time": "2023-09-19T10:33:00.842Z"
   },
   {
    "duration": 120,
    "start_time": "2023-09-19T10:33:01.074Z"
   },
   {
    "duration": 190,
    "start_time": "2023-09-19T10:33:01.195Z"
   },
   {
    "duration": 117,
    "start_time": "2023-09-19T10:33:01.387Z"
   },
   {
    "duration": 213,
    "start_time": "2023-09-19T10:33:01.506Z"
   },
   {
    "duration": 5,
    "start_time": "2023-09-19T10:33:01.721Z"
   },
   {
    "duration": 106,
    "start_time": "2023-09-19T10:33:01.728Z"
   },
   {
    "duration": 55,
    "start_time": "2023-09-19T10:33:01.835Z"
   },
   {
    "duration": 48,
    "start_time": "2023-09-19T10:33:01.891Z"
   },
   {
    "duration": 65,
    "start_time": "2023-09-19T10:33:01.941Z"
   },
   {
    "duration": 178,
    "start_time": "2023-09-19T10:33:02.007Z"
   },
   {
    "duration": 48,
    "start_time": "2023-09-19T10:33:02.186Z"
   },
   {
    "duration": 31,
    "start_time": "2023-09-19T10:33:02.236Z"
   },
   {
    "duration": 61,
    "start_time": "2023-09-19T10:33:02.268Z"
   },
   {
    "duration": 65,
    "start_time": "2023-09-19T10:33:02.330Z"
   },
   {
    "duration": 28,
    "start_time": "2023-09-19T10:33:02.397Z"
   },
   {
    "duration": 146,
    "start_time": "2023-09-19T10:33:02.426Z"
   },
   {
    "duration": 104,
    "start_time": "2023-09-19T10:33:02.574Z"
   },
   {
    "duration": 119,
    "start_time": "2023-09-19T10:33:02.679Z"
   },
   {
    "duration": 100,
    "start_time": "2023-09-19T10:33:02.800Z"
   },
   {
    "duration": 248,
    "start_time": "2023-09-19T10:33:02.902Z"
   },
   {
    "duration": 132,
    "start_time": "2023-09-19T10:33:03.152Z"
   },
   {
    "duration": 874,
    "start_time": "2023-09-19T10:33:03.286Z"
   },
   {
    "duration": 4,
    "start_time": "2023-09-19T10:33:04.161Z"
   },
   {
    "duration": 17,
    "start_time": "2023-09-19T10:33:04.166Z"
   },
   {
    "duration": 22,
    "start_time": "2023-09-19T10:33:04.185Z"
   },
   {
    "duration": 11,
    "start_time": "2023-09-19T10:33:04.208Z"
   },
   {
    "duration": 17,
    "start_time": "2023-09-19T10:33:04.220Z"
   },
   {
    "duration": 132,
    "start_time": "2023-09-19T10:33:04.239Z"
   },
   {
    "duration": 5,
    "start_time": "2023-09-19T10:33:04.373Z"
   },
   {
    "duration": 30,
    "start_time": "2023-09-19T10:33:04.380Z"
   },
   {
    "duration": 6,
    "start_time": "2023-09-19T10:33:04.411Z"
   },
   {
    "duration": 11,
    "start_time": "2023-09-19T10:33:04.418Z"
   },
   {
    "duration": 31,
    "start_time": "2023-09-19T10:33:04.431Z"
   },
   {
    "duration": 187,
    "start_time": "2023-09-19T11:35:52.346Z"
   },
   {
    "duration": 187,
    "start_time": "2023-09-19T11:36:15.514Z"
   },
   {
    "duration": 173,
    "start_time": "2023-09-19T11:37:05.826Z"
   },
   {
    "duration": 3,
    "start_time": "2023-09-19T11:39:04.176Z"
   },
   {
    "duration": 57,
    "start_time": "2023-09-19T11:39:04.181Z"
   },
   {
    "duration": 27,
    "start_time": "2023-09-19T11:39:04.240Z"
   },
   {
    "duration": 15,
    "start_time": "2023-09-19T11:39:04.269Z"
   },
   {
    "duration": 17,
    "start_time": "2023-09-19T11:39:04.285Z"
   },
   {
    "duration": 51,
    "start_time": "2023-09-19T11:39:04.303Z"
   },
   {
    "duration": 6,
    "start_time": "2023-09-19T11:39:04.356Z"
   },
   {
    "duration": 24,
    "start_time": "2023-09-19T11:39:04.363Z"
   },
   {
    "duration": 26,
    "start_time": "2023-09-19T11:39:04.389Z"
   },
   {
    "duration": 22,
    "start_time": "2023-09-19T11:39:04.417Z"
   },
   {
    "duration": 28,
    "start_time": "2023-09-19T11:39:04.441Z"
   },
   {
    "duration": 40,
    "start_time": "2023-09-19T11:39:04.471Z"
   },
   {
    "duration": 28,
    "start_time": "2023-09-19T11:39:04.514Z"
   },
   {
    "duration": 37,
    "start_time": "2023-09-19T11:39:04.547Z"
   },
   {
    "duration": 26,
    "start_time": "2023-09-19T11:39:04.586Z"
   },
   {
    "duration": 26,
    "start_time": "2023-09-19T11:39:04.615Z"
   },
   {
    "duration": 30,
    "start_time": "2023-09-19T11:39:04.643Z"
   },
   {
    "duration": 11,
    "start_time": "2023-09-19T11:39:04.679Z"
   },
   {
    "duration": 23,
    "start_time": "2023-09-19T11:39:04.692Z"
   },
   {
    "duration": 163,
    "start_time": "2023-09-19T11:39:04.717Z"
   },
   {
    "duration": 155,
    "start_time": "2023-09-19T11:39:04.882Z"
   },
   {
    "duration": 86,
    "start_time": "2023-09-19T11:39:05.044Z"
   },
   {
    "duration": 6,
    "start_time": "2023-09-19T11:39:05.143Z"
   },
   {
    "duration": 183,
    "start_time": "2023-09-19T11:39:05.150Z"
   },
   {
    "duration": 13,
    "start_time": "2023-09-19T11:39:05.334Z"
   },
   {
    "duration": 23,
    "start_time": "2023-09-19T11:39:05.348Z"
   },
   {
    "duration": 188,
    "start_time": "2023-09-19T11:39:05.372Z"
   },
   {
    "duration": 5,
    "start_time": "2023-09-19T11:39:05.561Z"
   },
   {
    "duration": 70,
    "start_time": "2023-09-19T11:39:05.567Z"
   },
   {
    "duration": 265,
    "start_time": "2023-09-19T11:39:05.639Z"
   },
   {
    "duration": 259,
    "start_time": "2023-09-19T11:39:05.905Z"
   },
   {
    "duration": 207,
    "start_time": "2023-09-19T11:39:06.166Z"
   },
   {
    "duration": 130,
    "start_time": "2023-09-19T11:39:06.375Z"
   },
   {
    "duration": 229,
    "start_time": "2023-09-19T11:39:06.507Z"
   },
   {
    "duration": 8,
    "start_time": "2023-09-19T11:39:06.738Z"
   },
   {
    "duration": 39,
    "start_time": "2023-09-19T11:39:06.747Z"
   },
   {
    "duration": 65,
    "start_time": "2023-09-19T11:39:06.787Z"
   },
   {
    "duration": 16,
    "start_time": "2023-09-19T11:39:06.854Z"
   },
   {
    "duration": 32,
    "start_time": "2023-09-19T11:39:06.872Z"
   },
   {
    "duration": 57,
    "start_time": "2023-09-19T11:39:06.906Z"
   },
   {
    "duration": 22,
    "start_time": "2023-09-19T11:39:06.969Z"
   },
   {
    "duration": 39,
    "start_time": "2023-09-19T11:39:06.993Z"
   },
   {
    "duration": 32,
    "start_time": "2023-09-19T11:39:07.034Z"
   },
   {
    "duration": 36,
    "start_time": "2023-09-19T11:39:07.068Z"
   },
   {
    "duration": 24,
    "start_time": "2023-09-19T11:39:07.106Z"
   },
   {
    "duration": 130,
    "start_time": "2023-09-19T11:39:07.132Z"
   },
   {
    "duration": 183,
    "start_time": "2023-09-19T11:39:07.263Z"
   },
   {
    "duration": 114,
    "start_time": "2023-09-19T11:39:07.448Z"
   },
   {
    "duration": 192,
    "start_time": "2023-09-19T11:39:07.564Z"
   },
   {
    "duration": 128,
    "start_time": "2023-09-19T11:39:07.758Z"
   },
   {
    "duration": 198,
    "start_time": "2023-09-19T11:39:07.888Z"
   },
   {
    "duration": 127,
    "start_time": "2023-09-19T11:39:08.088Z"
   },
   {
    "duration": 201,
    "start_time": "2023-09-19T11:39:08.216Z"
   },
   {
    "duration": 126,
    "start_time": "2023-09-19T11:39:08.419Z"
   },
   {
    "duration": 118,
    "start_time": "2023-09-19T11:39:08.547Z"
   },
   {
    "duration": 963,
    "start_time": "2023-09-19T11:39:08.667Z"
   },
   {
    "duration": 4,
    "start_time": "2023-09-19T11:39:09.631Z"
   },
   {
    "duration": 9,
    "start_time": "2023-09-19T11:39:09.637Z"
   },
   {
    "duration": 14,
    "start_time": "2023-09-19T11:39:09.648Z"
   },
   {
    "duration": 12,
    "start_time": "2023-09-19T11:39:09.663Z"
   },
   {
    "duration": 12,
    "start_time": "2023-09-19T11:39:09.676Z"
   },
   {
    "duration": 298,
    "start_time": "2023-09-19T11:39:09.689Z"
   },
   {
    "duration": 6,
    "start_time": "2023-09-19T11:39:09.989Z"
   },
   {
    "duration": 27,
    "start_time": "2023-09-19T11:39:09.996Z"
   },
   {
    "duration": 5,
    "start_time": "2023-09-19T11:39:10.025Z"
   },
   {
    "duration": 20,
    "start_time": "2023-09-19T11:39:10.044Z"
   },
   {
    "duration": 22,
    "start_time": "2023-09-19T11:39:10.066Z"
   },
   {
    "duration": 164,
    "start_time": "2023-09-19T11:39:39.723Z"
   },
   {
    "duration": 153,
    "start_time": "2023-09-19T11:40:12.250Z"
   },
   {
    "duration": 176,
    "start_time": "2023-09-19T11:40:31.477Z"
   },
   {
    "duration": 194,
    "start_time": "2023-09-19T11:40:44.892Z"
   },
   {
    "duration": 11,
    "start_time": "2023-09-19T11:41:39.088Z"
   },
   {
    "duration": 3,
    "start_time": "2023-09-19T11:41:44.250Z"
   },
   {
    "duration": 31,
    "start_time": "2023-09-19T11:41:44.255Z"
   },
   {
    "duration": 28,
    "start_time": "2023-09-19T11:41:44.287Z"
   },
   {
    "duration": 15,
    "start_time": "2023-09-19T11:41:44.317Z"
   },
   {
    "duration": 18,
    "start_time": "2023-09-19T11:41:44.334Z"
   },
   {
    "duration": 26,
    "start_time": "2023-09-19T11:41:44.353Z"
   },
   {
    "duration": 6,
    "start_time": "2023-09-19T11:41:44.381Z"
   },
   {
    "duration": 8,
    "start_time": "2023-09-19T11:41:44.388Z"
   },
   {
    "duration": 51,
    "start_time": "2023-09-19T11:41:44.397Z"
   },
   {
    "duration": 9,
    "start_time": "2023-09-19T11:41:44.450Z"
   },
   {
    "duration": 8,
    "start_time": "2023-09-19T11:41:44.463Z"
   },
   {
    "duration": 16,
    "start_time": "2023-09-19T11:41:44.472Z"
   },
   {
    "duration": 9,
    "start_time": "2023-09-19T11:41:44.489Z"
   },
   {
    "duration": 44,
    "start_time": "2023-09-19T11:41:44.500Z"
   },
   {
    "duration": 7,
    "start_time": "2023-09-19T11:41:44.545Z"
   },
   {
    "duration": 15,
    "start_time": "2023-09-19T11:41:44.554Z"
   },
   {
    "duration": 8,
    "start_time": "2023-09-19T11:41:44.571Z"
   },
   {
    "duration": 15,
    "start_time": "2023-09-19T11:41:44.581Z"
   },
   {
    "duration": 13,
    "start_time": "2023-09-19T11:41:44.597Z"
   },
   {
    "duration": 194,
    "start_time": "2023-09-19T11:41:44.613Z"
   },
   {
    "duration": 169,
    "start_time": "2023-09-19T11:41:44.809Z"
   },
   {
    "duration": 107,
    "start_time": "2023-09-19T11:41:44.980Z"
   },
   {
    "duration": 5,
    "start_time": "2023-09-19T11:41:45.088Z"
   },
   {
    "duration": 189,
    "start_time": "2023-09-19T11:41:45.095Z"
   },
   {
    "duration": 4,
    "start_time": "2023-09-19T11:41:45.285Z"
   },
   {
    "duration": 27,
    "start_time": "2023-09-19T11:41:45.291Z"
   },
   {
    "duration": 217,
    "start_time": "2023-09-19T11:41:45.320Z"
   },
   {
    "duration": 5,
    "start_time": "2023-09-19T11:41:45.544Z"
   },
   {
    "duration": 32,
    "start_time": "2023-09-19T11:41:45.555Z"
   },
   {
    "duration": 223,
    "start_time": "2023-09-19T11:41:45.589Z"
   },
   {
    "duration": 121,
    "start_time": "2023-09-19T11:41:45.814Z"
   },
   {
    "duration": 193,
    "start_time": "2023-09-19T11:41:45.943Z"
   },
   {
    "duration": 117,
    "start_time": "2023-09-19T11:41:46.143Z"
   },
   {
    "duration": 242,
    "start_time": "2023-09-19T11:41:46.261Z"
   },
   {
    "duration": 3,
    "start_time": "2023-09-19T11:41:46.505Z"
   },
   {
    "duration": 9,
    "start_time": "2023-09-19T11:41:46.510Z"
   },
   {
    "duration": 12,
    "start_time": "2023-09-19T11:41:46.520Z"
   },
   {
    "duration": 17,
    "start_time": "2023-09-19T11:41:46.544Z"
   },
   {
    "duration": 6,
    "start_time": "2023-09-19T11:41:46.563Z"
   },
   {
    "duration": 18,
    "start_time": "2023-09-19T11:41:46.571Z"
   },
   {
    "duration": 8,
    "start_time": "2023-09-19T11:41:46.591Z"
   },
   {
    "duration": 17,
    "start_time": "2023-09-19T11:41:46.601Z"
   },
   {
    "duration": 15,
    "start_time": "2023-09-19T11:41:46.620Z"
   },
   {
    "duration": 15,
    "start_time": "2023-09-19T11:41:46.643Z"
   },
   {
    "duration": 8,
    "start_time": "2023-09-19T11:41:46.660Z"
   },
   {
    "duration": 22,
    "start_time": "2023-09-19T11:41:46.670Z"
   },
   {
    "duration": 120,
    "start_time": "2023-09-19T11:41:46.694Z"
   },
   {
    "duration": 354,
    "start_time": "2023-09-19T11:41:46.817Z"
   },
   {
    "duration": 121,
    "start_time": "2023-09-19T11:41:47.173Z"
   },
   {
    "duration": 186,
    "start_time": "2023-09-19T11:41:47.296Z"
   },
   {
    "duration": 124,
    "start_time": "2023-09-19T11:41:47.484Z"
   },
   {
    "duration": 180,
    "start_time": "2023-09-19T11:41:47.609Z"
   },
   {
    "duration": 116,
    "start_time": "2023-09-19T11:41:47.791Z"
   },
   {
    "duration": 167,
    "start_time": "2023-09-19T11:41:47.908Z"
   },
   {
    "duration": 119,
    "start_time": "2023-09-19T11:41:48.077Z"
   },
   {
    "duration": 194,
    "start_time": "2023-09-19T11:41:48.198Z"
   },
   {
    "duration": 110,
    "start_time": "2023-09-19T11:41:48.394Z"
   },
   {
    "duration": 164,
    "start_time": "2023-09-19T11:41:48.506Z"
   },
   {
    "duration": 875,
    "start_time": "2023-09-19T11:41:48.671Z"
   },
   {
    "duration": 3,
    "start_time": "2023-09-19T11:41:49.548Z"
   },
   {
    "duration": 18,
    "start_time": "2023-09-19T11:41:49.552Z"
   },
   {
    "duration": 29,
    "start_time": "2023-09-19T11:41:49.571Z"
   },
   {
    "duration": 17,
    "start_time": "2023-09-19T11:41:49.602Z"
   },
   {
    "duration": 5,
    "start_time": "2023-09-19T11:41:49.621Z"
   },
   {
    "duration": 154,
    "start_time": "2023-09-19T11:41:49.627Z"
   },
   {
    "duration": 6,
    "start_time": "2023-09-19T11:41:49.783Z"
   },
   {
    "duration": 27,
    "start_time": "2023-09-19T11:41:49.790Z"
   },
   {
    "duration": 6,
    "start_time": "2023-09-19T11:41:49.819Z"
   },
   {
    "duration": 19,
    "start_time": "2023-09-19T11:41:49.826Z"
   },
   {
    "duration": 14,
    "start_time": "2023-09-19T11:41:49.846Z"
   },
   {
    "duration": 10,
    "start_time": "2023-09-19T11:42:56.723Z"
   },
   {
    "duration": 3,
    "start_time": "2023-09-19T11:43:08.206Z"
   },
   {
    "duration": 15,
    "start_time": "2023-09-19T11:43:09.673Z"
   },
   {
    "duration": 4,
    "start_time": "2023-09-19T11:43:24.219Z"
   },
   {
    "duration": 4,
    "start_time": "2023-09-19T11:43:24.994Z"
   },
   {
    "duration": 14,
    "start_time": "2023-09-19T11:43:26.206Z"
   },
   {
    "duration": 6,
    "start_time": "2023-09-19T11:44:02.717Z"
   },
   {
    "duration": 6,
    "start_time": "2023-09-19T11:45:19.715Z"
   },
   {
    "duration": 5,
    "start_time": "2023-09-19T11:49:21.545Z"
   },
   {
    "duration": 3,
    "start_time": "2023-09-19T11:49:50.229Z"
   },
   {
    "duration": 32,
    "start_time": "2023-09-19T11:49:50.236Z"
   },
   {
    "duration": 28,
    "start_time": "2023-09-19T11:49:50.270Z"
   },
   {
    "duration": 15,
    "start_time": "2023-09-19T11:49:50.299Z"
   },
   {
    "duration": 19,
    "start_time": "2023-09-19T11:49:50.316Z"
   },
   {
    "duration": 34,
    "start_time": "2023-09-19T11:49:50.337Z"
   },
   {
    "duration": 6,
    "start_time": "2023-09-19T11:49:50.374Z"
   },
   {
    "duration": 17,
    "start_time": "2023-09-19T11:49:50.382Z"
   },
   {
    "duration": 22,
    "start_time": "2023-09-19T11:49:50.401Z"
   },
   {
    "duration": 28,
    "start_time": "2023-09-19T11:49:50.425Z"
   },
   {
    "duration": 17,
    "start_time": "2023-09-19T11:49:50.456Z"
   },
   {
    "duration": 10,
    "start_time": "2023-09-19T11:49:50.474Z"
   },
   {
    "duration": 7,
    "start_time": "2023-09-19T11:49:50.485Z"
   },
   {
    "duration": 54,
    "start_time": "2023-09-19T11:49:50.493Z"
   },
   {
    "duration": 8,
    "start_time": "2023-09-19T11:49:50.553Z"
   },
   {
    "duration": 16,
    "start_time": "2023-09-19T11:49:50.562Z"
   },
   {
    "duration": 10,
    "start_time": "2023-09-19T11:49:50.579Z"
   },
   {
    "duration": 8,
    "start_time": "2023-09-19T11:49:50.590Z"
   },
   {
    "duration": 7,
    "start_time": "2023-09-19T11:49:50.599Z"
   },
   {
    "duration": 142,
    "start_time": "2023-09-19T11:49:50.608Z"
   },
   {
    "duration": 165,
    "start_time": "2023-09-19T11:49:50.752Z"
   },
   {
    "duration": 89,
    "start_time": "2023-09-19T11:49:50.918Z"
   },
   {
    "duration": 5,
    "start_time": "2023-09-19T11:49:51.009Z"
   },
   {
    "duration": 331,
    "start_time": "2023-09-19T11:49:51.015Z"
   },
   {
    "duration": 5,
    "start_time": "2023-09-19T11:49:51.347Z"
   },
   {
    "duration": 34,
    "start_time": "2023-09-19T11:49:51.354Z"
   },
   {
    "duration": 194,
    "start_time": "2023-09-19T11:49:51.391Z"
   },
   {
    "duration": 4,
    "start_time": "2023-09-19T11:49:51.587Z"
   },
   {
    "duration": 8,
    "start_time": "2023-09-19T11:49:51.595Z"
   },
   {
    "duration": 211,
    "start_time": "2023-09-19T11:49:51.604Z"
   },
   {
    "duration": 111,
    "start_time": "2023-09-19T11:49:51.816Z"
   },
   {
    "duration": 197,
    "start_time": "2023-09-19T11:49:51.928Z"
   },
   {
    "duration": 133,
    "start_time": "2023-09-19T11:49:52.127Z"
   },
   {
    "duration": 239,
    "start_time": "2023-09-19T11:49:52.261Z"
   },
   {
    "duration": 4,
    "start_time": "2023-09-19T11:49:52.502Z"
   },
   {
    "duration": 83,
    "start_time": "2023-09-19T11:49:52.508Z"
   },
   {
    "duration": 44,
    "start_time": "2023-09-19T11:49:52.593Z"
   },
   {
    "duration": 48,
    "start_time": "2023-09-19T11:49:52.638Z"
   },
   {
    "duration": 26,
    "start_time": "2023-09-19T11:49:52.688Z"
   },
   {
    "duration": 50,
    "start_time": "2023-09-19T11:49:52.716Z"
   },
   {
    "duration": 48,
    "start_time": "2023-09-19T11:49:52.768Z"
   },
   {
    "duration": 26,
    "start_time": "2023-09-19T11:49:52.818Z"
   },
   {
    "duration": 71,
    "start_time": "2023-09-19T11:49:52.846Z"
   },
   {
    "duration": 16,
    "start_time": "2023-09-19T11:49:52.919Z"
   },
   {
    "duration": 24,
    "start_time": "2023-09-19T11:49:52.936Z"
   },
   {
    "duration": 27,
    "start_time": "2023-09-19T11:49:52.961Z"
   },
   {
    "duration": 131,
    "start_time": "2023-09-19T11:49:52.989Z"
   },
   {
    "duration": 195,
    "start_time": "2023-09-19T11:49:53.122Z"
   },
   {
    "duration": 108,
    "start_time": "2023-09-19T11:49:53.319Z"
   },
   {
    "duration": 222,
    "start_time": "2023-09-19T11:49:53.429Z"
   },
   {
    "duration": 122,
    "start_time": "2023-09-19T11:49:53.653Z"
   },
   {
    "duration": 206,
    "start_time": "2023-09-19T11:49:53.777Z"
   },
   {
    "duration": 104,
    "start_time": "2023-09-19T11:49:53.985Z"
   },
   {
    "duration": 171,
    "start_time": "2023-09-19T11:49:54.091Z"
   },
   {
    "duration": 118,
    "start_time": "2023-09-19T11:49:54.264Z"
   },
   {
    "duration": 393,
    "start_time": "2023-09-19T11:49:54.383Z"
   },
   {
    "duration": 115,
    "start_time": "2023-09-19T11:49:54.777Z"
   },
   {
    "duration": 180,
    "start_time": "2023-09-19T11:49:54.893Z"
   },
   {
    "duration": 816,
    "start_time": "2023-09-19T11:49:55.075Z"
   },
   {
    "duration": 3,
    "start_time": "2023-09-19T11:49:55.893Z"
   },
   {
    "duration": 16,
    "start_time": "2023-09-19T11:49:55.897Z"
   },
   {
    "duration": 7,
    "start_time": "2023-09-19T11:49:55.914Z"
   },
   {
    "duration": 13,
    "start_time": "2023-09-19T11:49:55.923Z"
   },
   {
    "duration": 11,
    "start_time": "2023-09-19T11:49:55.943Z"
   },
   {
    "duration": 3,
    "start_time": "2023-09-19T11:49:55.955Z"
   },
   {
    "duration": 148,
    "start_time": "2023-09-19T11:49:55.959Z"
   },
   {
    "duration": 5,
    "start_time": "2023-09-19T11:49:56.109Z"
   },
   {
    "duration": 24,
    "start_time": "2023-09-19T11:49:56.115Z"
   },
   {
    "duration": 5,
    "start_time": "2023-09-19T11:49:56.143Z"
   },
   {
    "duration": 4,
    "start_time": "2023-09-19T11:49:56.150Z"
   },
   {
    "duration": 8,
    "start_time": "2023-09-19T11:49:56.156Z"
   },
   {
    "duration": 4,
    "start_time": "2023-09-19T14:54:00.097Z"
   },
   {
    "duration": 4,
    "start_time": "2023-09-19T14:54:03.703Z"
   },
   {
    "duration": 45,
    "start_time": "2023-09-19T14:54:03.709Z"
   },
   {
    "duration": 45,
    "start_time": "2023-09-19T14:54:03.756Z"
   },
   {
    "duration": 17,
    "start_time": "2023-09-19T14:54:03.804Z"
   },
   {
    "duration": 17,
    "start_time": "2023-09-19T14:54:03.823Z"
   },
   {
    "duration": 41,
    "start_time": "2023-09-19T14:54:03.846Z"
   },
   {
    "duration": 12,
    "start_time": "2023-09-19T14:54:03.889Z"
   },
   {
    "duration": 24,
    "start_time": "2023-09-19T14:54:03.902Z"
   },
   {
    "duration": 30,
    "start_time": "2023-09-19T14:54:03.929Z"
   },
   {
    "duration": 28,
    "start_time": "2023-09-19T14:54:03.961Z"
   },
   {
    "duration": 14,
    "start_time": "2023-09-19T14:54:03.991Z"
   },
   {
    "duration": 10,
    "start_time": "2023-09-19T14:54:04.006Z"
   },
   {
    "duration": 10,
    "start_time": "2023-09-19T14:54:04.018Z"
   },
   {
    "duration": 8,
    "start_time": "2023-09-19T14:54:04.030Z"
   },
   {
    "duration": 9,
    "start_time": "2023-09-19T14:54:04.040Z"
   },
   {
    "duration": 11,
    "start_time": "2023-09-19T14:54:04.052Z"
   },
   {
    "duration": 35,
    "start_time": "2023-09-19T14:54:04.065Z"
   },
   {
    "duration": 11,
    "start_time": "2023-09-19T14:54:04.101Z"
   },
   {
    "duration": 19,
    "start_time": "2023-09-19T14:54:04.114Z"
   },
   {
    "duration": 171,
    "start_time": "2023-09-19T14:54:04.135Z"
   },
   {
    "duration": 210,
    "start_time": "2023-09-19T14:54:04.307Z"
   },
   {
    "duration": 121,
    "start_time": "2023-09-19T14:54:04.519Z"
   },
   {
    "duration": 24,
    "start_time": "2023-09-19T14:54:04.642Z"
   },
   {
    "duration": 234,
    "start_time": "2023-09-19T14:54:04.671Z"
   },
   {
    "duration": 5,
    "start_time": "2023-09-19T14:54:04.907Z"
   },
   {
    "duration": 21,
    "start_time": "2023-09-19T14:54:04.914Z"
   },
   {
    "duration": 249,
    "start_time": "2023-09-19T14:54:04.937Z"
   },
   {
    "duration": 5,
    "start_time": "2023-09-19T14:54:05.188Z"
   },
   {
    "duration": 5,
    "start_time": "2023-09-19T14:54:05.195Z"
   },
   {
    "duration": 258,
    "start_time": "2023-09-19T14:54:05.201Z"
   },
   {
    "duration": 134,
    "start_time": "2023-09-19T14:54:05.467Z"
   },
   {
    "duration": 229,
    "start_time": "2023-09-19T14:54:05.603Z"
   },
   {
    "duration": 153,
    "start_time": "2023-09-19T14:54:05.833Z"
   },
   {
    "duration": 268,
    "start_time": "2023-09-19T14:54:05.988Z"
   },
   {
    "duration": 6,
    "start_time": "2023-09-19T14:54:06.259Z"
   },
   {
    "duration": 12,
    "start_time": "2023-09-19T14:54:06.267Z"
   },
   {
    "duration": 9,
    "start_time": "2023-09-19T14:54:06.280Z"
   },
   {
    "duration": 27,
    "start_time": "2023-09-19T14:54:06.293Z"
   },
   {
    "duration": 15,
    "start_time": "2023-09-19T14:54:06.322Z"
   },
   {
    "duration": 23,
    "start_time": "2023-09-19T14:54:06.339Z"
   },
   {
    "duration": 18,
    "start_time": "2023-09-19T14:54:06.364Z"
   },
   {
    "duration": 19,
    "start_time": "2023-09-19T14:54:06.384Z"
   },
   {
    "duration": 16,
    "start_time": "2023-09-19T14:54:06.405Z"
   },
   {
    "duration": 22,
    "start_time": "2023-09-19T14:54:06.423Z"
   },
   {
    "duration": 9,
    "start_time": "2023-09-19T14:54:06.450Z"
   },
   {
    "duration": 14,
    "start_time": "2023-09-19T14:54:06.465Z"
   },
   {
    "duration": 7,
    "start_time": "2023-09-19T14:54:06.482Z"
   },
   {
    "duration": 138,
    "start_time": "2023-09-19T14:54:06.491Z"
   },
   {
    "duration": 190,
    "start_time": "2023-09-19T14:54:06.631Z"
   },
   {
    "duration": 333,
    "start_time": "2023-09-19T14:54:06.823Z"
   },
   {
    "duration": 234,
    "start_time": "2023-09-19T14:54:07.158Z"
   },
   {
    "duration": 139,
    "start_time": "2023-09-19T14:54:07.394Z"
   },
   {
    "duration": 204,
    "start_time": "2023-09-19T14:54:07.535Z"
   },
   {
    "duration": 144,
    "start_time": "2023-09-19T14:54:07.744Z"
   },
   {
    "duration": 203,
    "start_time": "2023-09-19T14:54:07.890Z"
   },
   {
    "duration": 137,
    "start_time": "2023-09-19T14:54:08.095Z"
   },
   {
    "duration": 237,
    "start_time": "2023-09-19T14:54:08.234Z"
   },
   {
    "duration": 138,
    "start_time": "2023-09-19T14:54:08.474Z"
   },
   {
    "duration": 245,
    "start_time": "2023-09-19T14:54:08.613Z"
   },
   {
    "duration": 1048,
    "start_time": "2023-09-19T14:54:08.863Z"
   },
   {
    "duration": 3,
    "start_time": "2023-09-19T14:54:09.913Z"
   },
   {
    "duration": 26,
    "start_time": "2023-09-19T14:54:09.917Z"
   },
   {
    "duration": 26,
    "start_time": "2023-09-19T14:54:09.948Z"
   },
   {
    "duration": 13,
    "start_time": "2023-09-19T14:54:09.976Z"
   },
   {
    "duration": 169,
    "start_time": "2023-09-19T14:54:09.991Z"
   },
   {
    "duration": 9,
    "start_time": "2023-09-19T14:54:10.162Z"
   },
   {
    "duration": 34,
    "start_time": "2023-09-19T14:54:10.173Z"
   },
   {
    "duration": 6,
    "start_time": "2023-09-19T14:54:10.208Z"
   },
   {
    "duration": 29,
    "start_time": "2023-09-19T14:54:10.219Z"
   },
   {
    "duration": 20,
    "start_time": "2023-09-19T14:54:10.251Z"
   },
   {
    "duration": 1286,
    "start_time": "2023-09-19T16:06:05.571Z"
   },
   {
    "duration": 80,
    "start_time": "2023-09-19T16:06:06.859Z"
   },
   {
    "duration": 70,
    "start_time": "2023-09-19T16:06:06.941Z"
   },
   {
    "duration": 54,
    "start_time": "2023-09-19T16:06:07.013Z"
   },
   {
    "duration": 24,
    "start_time": "2023-09-19T16:06:07.069Z"
   },
   {
    "duration": 32,
    "start_time": "2023-09-19T16:06:07.094Z"
   },
   {
    "duration": 8,
    "start_time": "2023-09-19T16:06:07.128Z"
   },
   {
    "duration": 8,
    "start_time": "2023-09-19T16:06:07.137Z"
   },
   {
    "duration": 6,
    "start_time": "2023-09-19T16:06:07.147Z"
   },
   {
    "duration": 11,
    "start_time": "2023-09-19T16:06:07.155Z"
   },
   {
    "duration": 8,
    "start_time": "2023-09-19T16:06:07.168Z"
   },
   {
    "duration": 6,
    "start_time": "2023-09-19T16:06:07.210Z"
   },
   {
    "duration": 9,
    "start_time": "2023-09-19T16:06:07.218Z"
   },
   {
    "duration": 10,
    "start_time": "2023-09-19T16:06:07.228Z"
   },
   {
    "duration": 5,
    "start_time": "2023-09-19T16:06:07.239Z"
   },
   {
    "duration": 9,
    "start_time": "2023-09-19T16:06:07.246Z"
   },
   {
    "duration": 9,
    "start_time": "2023-09-19T16:06:07.257Z"
   },
   {
    "duration": 43,
    "start_time": "2023-09-19T16:06:07.267Z"
   },
   {
    "duration": 5,
    "start_time": "2023-09-19T16:06:07.312Z"
   },
   {
    "duration": 167,
    "start_time": "2023-09-19T16:06:07.318Z"
   },
   {
    "duration": 181,
    "start_time": "2023-09-19T16:06:07.487Z"
   },
   {
    "duration": 110,
    "start_time": "2023-09-19T16:06:07.670Z"
   },
   {
    "duration": 5,
    "start_time": "2023-09-19T16:06:07.782Z"
   },
   {
    "duration": 197,
    "start_time": "2023-09-19T16:06:07.789Z"
   },
   {
    "duration": 4,
    "start_time": "2023-09-19T16:06:07.988Z"
   },
   {
    "duration": 20,
    "start_time": "2023-09-19T16:06:07.994Z"
   },
   {
    "duration": 211,
    "start_time": "2023-09-19T16:06:08.016Z"
   },
   {
    "duration": 5,
    "start_time": "2023-09-19T16:06:08.232Z"
   },
   {
    "duration": 11,
    "start_time": "2023-09-19T16:06:08.239Z"
   },
   {
    "duration": 233,
    "start_time": "2023-09-19T16:06:08.252Z"
   },
   {
    "duration": 131,
    "start_time": "2023-09-19T16:06:08.487Z"
   },
   {
    "duration": 214,
    "start_time": "2023-09-19T16:06:08.620Z"
   },
   {
    "duration": 218,
    "start_time": "2023-09-19T16:06:08.836Z"
   },
   {
    "duration": 249,
    "start_time": "2023-09-19T16:06:09.056Z"
   },
   {
    "duration": 5,
    "start_time": "2023-09-19T16:06:09.309Z"
   },
   {
    "duration": 11,
    "start_time": "2023-09-19T16:06:09.316Z"
   },
   {
    "duration": 9,
    "start_time": "2023-09-19T16:06:09.329Z"
   },
   {
    "duration": 7,
    "start_time": "2023-09-19T16:06:09.340Z"
   },
   {
    "duration": 9,
    "start_time": "2023-09-19T16:06:09.348Z"
   },
   {
    "duration": 21,
    "start_time": "2023-09-19T16:06:09.360Z"
   },
   {
    "duration": 32,
    "start_time": "2023-09-19T16:06:09.383Z"
   },
   {
    "duration": 54,
    "start_time": "2023-09-19T16:06:09.417Z"
   },
   {
    "duration": 59,
    "start_time": "2023-09-19T16:06:09.473Z"
   },
   {
    "duration": 19,
    "start_time": "2023-09-19T16:06:09.534Z"
   },
   {
    "duration": 15,
    "start_time": "2023-09-19T16:06:09.555Z"
   },
   {
    "duration": 16,
    "start_time": "2023-09-19T16:06:09.571Z"
   },
   {
    "duration": 8,
    "start_time": "2023-09-19T16:06:09.589Z"
   },
   {
    "duration": 131,
    "start_time": "2023-09-19T16:06:09.599Z"
   },
   {
    "duration": 192,
    "start_time": "2023-09-19T16:06:09.732Z"
   },
   {
    "duration": 126,
    "start_time": "2023-09-19T16:06:09.927Z"
   },
   {
    "duration": 207,
    "start_time": "2023-09-19T16:06:10.055Z"
   },
   {
    "duration": 118,
    "start_time": "2023-09-19T16:06:10.263Z"
   },
   {
    "duration": 182,
    "start_time": "2023-09-19T16:06:10.383Z"
   },
   {
    "duration": 118,
    "start_time": "2023-09-19T16:06:10.567Z"
   },
   {
    "duration": 196,
    "start_time": "2023-09-19T16:06:10.688Z"
   },
   {
    "duration": 170,
    "start_time": "2023-09-19T16:06:10.886Z"
   },
   {
    "duration": 533,
    "start_time": "2023-09-19T16:06:11.110Z"
   },
   {
    "duration": 267,
    "start_time": "2023-09-19T16:06:11.645Z"
   },
   {
    "duration": 395,
    "start_time": "2023-09-19T16:06:11.914Z"
   },
   {
    "duration": 1335,
    "start_time": "2023-09-19T16:06:12.311Z"
   },
   {
    "duration": 3,
    "start_time": "2023-09-19T16:06:13.648Z"
   },
   {
    "duration": 15,
    "start_time": "2023-09-19T16:06:13.652Z"
   },
   {
    "duration": 13,
    "start_time": "2023-09-19T16:06:13.668Z"
   },
   {
    "duration": 3,
    "start_time": "2023-09-19T16:06:13.683Z"
   },
   {
    "duration": 173,
    "start_time": "2023-09-19T16:06:13.687Z"
   },
   {
    "duration": 7,
    "start_time": "2023-09-19T16:06:13.861Z"
   },
   {
    "duration": 15,
    "start_time": "2023-09-19T16:06:13.870Z"
   },
   {
    "duration": 22,
    "start_time": "2023-09-19T16:06:13.887Z"
   },
   {
    "duration": 6,
    "start_time": "2023-09-19T16:06:13.912Z"
   },
   {
    "duration": 19,
    "start_time": "2023-09-19T16:06:13.920Z"
   }
  ],
  "kernelspec": {
   "display_name": "Python 3 (ipykernel)",
   "language": "python",
   "name": "python3"
  },
  "language_info": {
   "codemirror_mode": {
    "name": "ipython",
    "version": 3
   },
   "file_extension": ".py",
   "mimetype": "text/x-python",
   "name": "python",
   "nbconvert_exporter": "python",
   "pygments_lexer": "ipython3",
   "version": "3.11.4"
  },
  "toc": {
   "base_numbering": 1,
   "nav_menu": {},
   "number_sections": true,
   "sideBar": true,
   "skip_h1_title": true,
   "title_cell": "Table of Contents",
   "title_sidebar": "Contents",
   "toc_cell": false,
   "toc_position": {},
   "toc_section_display": true,
   "toc_window_display": true
  }
 },
 "nbformat": 4,
 "nbformat_minor": 5
}
